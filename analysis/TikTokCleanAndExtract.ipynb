{
 "cells": [
  {
   "cell_type": "markdown",
   "metadata": {
    "colab_type": "text",
    "id": "view-in-github"
   },
   "source": [
    "<a href=\"https://colab.research.google.com/github/frasercrichton/data-investigation-conspiracy-aotearoa/blob/main/analysis/Pattern_of_Life.ipynb\" target=\"_parent\"><img src=\"https://colab.research.google.com/assets/colab-badge.svg\" alt=\"Open In Colab\"/></a>"
   ]
  },
  {
   "attachments": {},
   "cell_type": "markdown",
   "metadata": {},
   "source": [
    "# Clean and Extract Data\n"
   ]
  },
  {
   "cell_type": "code",
   "execution_count": 11,
   "metadata": {},
   "outputs": [],
   "source": [
    "import pandas as pd\n",
    "from deep_translator import GoogleTranslator\n",
    "videos_df = pd.read_json('../data/source/video-2023-09-14.json', convert_dates=['createTime'])"
   ]
  },
  {
   "cell_type": "markdown",
   "metadata": {},
   "source": [
    "## Parse the Videos\n",
    "\n",
    "- Extract:\n",
    "  - Comments\n",
    "  - Likes\n",
    "- Translate any text"
   ]
  },
  {
   "cell_type": "code",
   "execution_count": 12,
   "metadata": {},
   "outputs": [],
   "source": [
    "videos_df = videos_df.drop(columns=[\n",
    "                                    'author',\n",
    "                                    'challenges',\n",
    "                                    'collected',\n",
    "                                    'contents', \n",
    "                                    'digged', \n",
    "                                    'duetDisplay', \n",
    "                                    'forFriend',\n",
    "                                    'itemCommentStatus', \n",
    "                                    'privateItem', \n",
    "                                    'secret', \n",
    "                                    'shareEnabled', \n",
    "                                    'stitchDisplay', \n",
    "                                    'officalItem',\n",
    "                                    'originalItem',\n",
    "                                    'duetEnabled',\n",
    "                                    'stitchEnabled',\n",
    "                                    ])\n",
    "def translate_text(text):\n",
    "    translation = GoogleTranslator(source='it', target='en').translate(text)\n",
    "    return translation  \n",
    "\n",
    "def parse_desc(desc):\n",
    "    return translate_text(desc)\n",
    "\n",
    "def parse_stats(stats):\n",
    "    return pd.Series([stats['collectCount'], stats['commentCount'], stats['diggCount'], stats['playCount'], stats['shareCount']])\n",
    "\n",
    "def parse_text_extra(extra_text):\n",
    "    if extra_text is None:\n",
    "        return pd.Series([extra_text, extra_text])\n",
    "    \n",
    "    extra_text_as_json = pd.json_normalize(extra_text)    \n",
    "    hashtags = ', '.join(extra_text_as_json['hashtagName'].values)\n",
    "    return pd.Series([hashtags, translate_text(hashtags)])\n",
    "\n",
    "def parse_warn_info(warn_info):\n",
    "    if warn_info is None:\n",
    "        return warn_info\n",
    "    \n",
    "    return warn_info[0]['text']\n",
    "\n",
    "def parse_video(video):    \n",
    "    return video['zoomCover']['960']\n",
    "\n",
    "# desc: translate the video description into English\n",
    "videos_df['desc_en'] = videos_df.apply(lambda row: parse_desc(row['desc']), axis=1)\n",
    "\n",
    "# textExtra: extract a list of hashtags\n",
    "videos_df[['textExtra', 'textExtra_en']] = videos_df.apply(lambda row: parse_text_extra(row['textExtra']), axis=1)\n",
    "\n",
    "# stats: turn the like, comment, etc. counts into columns\n",
    "videos_df[['collectCount', 'commentCount', 'diggCount', 'playCount', 'shareCount']] = videos_df.apply(lambda row: parse_stats(row['stats']), axis=1)\n",
    "videos_df = videos_df.drop(columns=['stats'])\n",
    "\n",
    "# warnInfo: extract any content warning text \n",
    "videos_df['warnInfo'] = videos_df.apply(lambda x: parse_warn_info(x['warnInfo']), axis=1)\n",
    "\n",
    "# Videos - zoomCover: get the URL of the cover image\n",
    "videos_df['coverImage'] = videos_df.apply(lambda row: parse_video(row['video']), axis=1)\n",
    "\n",
    "videos_df\n"
   ]
  },
  {
   "cell_type": "markdown",
   "metadata": {},
   "source": [
    "Write out the results to a CSV file. "
   ]
  },
  {
   "cell_type": "code",
   "execution_count": 159,
   "metadata": {},
   "outputs": [],
   "source": [
    "videos_df.to_json('../data/processed/videos-translated.json')\n",
    "videos_df.to_csv('../data/processed/videos-translated.csv', sep=',')\n",
    "\n",
    "videos_df['createTime', 'textExtra_en','desc_en'].to_csv('../data/processed/text-translated.csv', sep=',')"
   ]
  },
  {
   "cell_type": "markdown",
   "metadata": {},
   "source": [
    "## Download Resources"
   ]
  },
  {
   "cell_type": "code",
   "execution_count": null,
   "metadata": {},
   "outputs": [],
   "source": [
    "def download_file_and_save(url: str, filepath: Path):\n",
    "    \"\"\"Download a file from a specified URL and write its contents to a file\"\"\"\n",
    "\n",
    "    r = _get(url=url)\n",
    "    if r.status_code == 403:\n",
    "        return\n",
    "    ext = r.headers[\"Content-Type\"].split(\"/\")[-1]\n",
    "    path_with_ext = filepath.with_suffix(f\".{ext}\")\n",
    "    with open(path_with_ext, \"wb\") as f:\n",
    "        f.write(r.content)\n",
    "        logger.debug(f\"Saved file to: {path_with_ext}\")"
   ]
  },
  {
   "cell_type": "markdown",
   "metadata": {},
   "source": [
    "## Download Videos"
   ]
  },
  {
   "cell_type": "code",
   "execution_count": 7,
   "metadata": {},
   "outputs": [
    {
     "name": "stdout",
     "output_type": "stream",
     "text": [
      "7160592391194299654\n",
      "https://www.tiktok.com/@7057902765381534725/video/7160592391194299654\n",
      "Downloading media https://www.tiktok.com/@7057902765381534725/video/7160592391194299654\n",
      "7158424452286401797                                      \n",
      "https://www.tiktok.com/@7057902765381534725/video/7158424452286401797\n",
      "Downloading media https://www.tiktok.com/@7057902765381534725/video/7158424452286401797\n",
      "7157692146278075654                                      \n",
      "https://www.tiktok.com/@7057902765381534725/video/7157692146278075654\n",
      "Downloading media https://www.tiktok.com/@7057902765381534725/video/7157692146278075654\n",
      "7157249765837786373                                        \n",
      "https://www.tiktok.com/@7057902765381534725/video/7157249765837786373\n",
      "Downloading media https://www.tiktok.com/@7057902765381534725/video/7157249765837786373\n",
      "7156960255723719941                                      \n",
      "https://www.tiktok.com/@7057902765381534725/video/7156960255723719941\n",
      "Downloading media https://www.tiktok.com/@7057902765381534725/video/7156960255723719941\n",
      "7156890275317632262                                      \n",
      "https://www.tiktok.com/@7057902765381534725/video/7156890275317632262\n",
      "Downloading media https://www.tiktok.com/@7057902765381534725/video/7156890275317632262\n",
      "7152865526417558789                                        \n",
      "https://www.tiktok.com/@7057902765381534725/video/7152865526417558789\n",
      "Downloading media https://www.tiktok.com/@7057902765381534725/video/7152865526417558789\n",
      "7148069987796765958                                        \n",
      "https://www.tiktok.com/@7057902765381534725/video/7148069987796765958\n",
      "Downloading media https://www.tiktok.com/@7057902765381534725/video/7148069987796765958\n",
      "7147263913200045317                                      \n",
      "https://www.tiktok.com/@7057902765381534725/video/7147263913200045317\n",
      "Downloading media https://www.tiktok.com/@7057902765381534725/video/7147263913200045317\n",
      "7147206448232074502                                        \n",
      "https://www.tiktok.com/@7057902765381534725/video/7147206448232074502\n",
      "Downloading media https://www.tiktok.com/@7057902765381534725/video/7147206448232074502\n",
      "7146691344281521414                                        \n",
      "https://www.tiktok.com/@7057902765381534725/video/7146691344281521414\n",
      "Downloading media https://www.tiktok.com/@7057902765381534725/video/7146691344281521414\n",
      "7146670520505847045                                      \n",
      "https://www.tiktok.com/@7057902765381534725/video/7146670520505847045\n",
      "Downloading media https://www.tiktok.com/@7057902765381534725/video/7146670520505847045\n",
      "7146642608033434885                                        \n",
      "https://www.tiktok.com/@7057902765381534725/video/7146642608033434885\n",
      "Downloading media https://www.tiktok.com/@7057902765381534725/video/7146642608033434885\n",
      "7146526475439639814                                      \n",
      "https://www.tiktok.com/@7057902765381534725/video/7146526475439639814\n",
      "Downloading media https://www.tiktok.com/@7057902765381534725/video/7146526475439639814\n",
      "7146272946183605510                                      \n",
      "https://www.tiktok.com/@7057902765381534725/video/7146272946183605510\n",
      "Downloading media https://www.tiktok.com/@7057902765381534725/video/7146272946183605510\n",
      "7146265492234292486                                      \n",
      "https://www.tiktok.com/@7057902765381534725/video/7146265492234292486\n",
      "Downloading media https://www.tiktok.com/@7057902765381534725/video/7146265492234292486\n",
      "7145877683740658949                                        \n",
      "https://www.tiktok.com/@7057902765381534725/video/7145877683740658949\n",
      "Downloading media https://www.tiktok.com/@7057902765381534725/video/7145877683740658949\n",
      "7145843103075781893                                      \n",
      "https://www.tiktok.com/@7057902765381534725/video/7145843103075781893\n",
      "Downloading media https://www.tiktok.com/@7057902765381534725/video/7145843103075781893\n",
      "7145754357013777670                                        \n",
      "https://www.tiktok.com/@7057902765381534725/video/7145754357013777670\n",
      "Downloading media https://www.tiktok.com/@7057902765381534725/video/7145754357013777670\n",
      "7145435366529551621                                        \n",
      "https://www.tiktok.com/@7057902765381534725/video/7145435366529551621\n",
      "Downloading media https://www.tiktok.com/@7057902765381534725/video/7145435366529551621\n",
      "7145360998407425285                                        \n",
      "https://www.tiktok.com/@7057902765381534725/video/7145360998407425285\n",
      "Downloading media https://www.tiktok.com/@7057902765381534725/video/7145360998407425285\n",
      "7144986246215929094                                      \n",
      "https://www.tiktok.com/@7057902765381534725/video/7144986246215929094\n",
      "Downloading media https://www.tiktok.com/@7057902765381534725/video/7144986246215929094\n",
      "7144769480244071686                                      \n",
      "https://www.tiktok.com/@7057902765381534725/video/7144769480244071686\n",
      "Downloading media https://www.tiktok.com/@7057902765381534725/video/7144769480244071686\n",
      "7144425341279341830                                      \n",
      "https://www.tiktok.com/@7057902765381534725/video/7144425341279341830\n",
      "Downloading media https://www.tiktok.com/@7057902765381534725/video/7144425341279341830\n",
      "7144420910336953606                                      \n",
      "https://www.tiktok.com/@7057902765381534725/video/7144420910336953606\n",
      "Downloading media https://www.tiktok.com/@7057902765381534725/video/7144420910336953606\n",
      "7144338594927299846                                      \n",
      "https://www.tiktok.com/@7057902765381534725/video/7144338594927299846\n",
      "Downloading media https://www.tiktok.com/@7057902765381534725/video/7144338594927299846\n",
      "7144295242039037190                                      \n",
      "https://www.tiktok.com/@7057902765381534725/video/7144295242039037190\n",
      "Downloading media https://www.tiktok.com/@7057902765381534725/video/7144295242039037190\n",
      "7144246488879713542                                        \n",
      "https://www.tiktok.com/@7057902765381534725/video/7144246488879713542\n",
      "Downloading media https://www.tiktok.com/@7057902765381534725/video/7144246488879713542\n",
      "7144023384853171462                                      \n",
      "https://www.tiktok.com/@7057902765381534725/video/7144023384853171462\n",
      "Downloading media https://www.tiktok.com/@7057902765381534725/video/7144023384853171462\n",
      "7143551183792164102                                      \n",
      "https://www.tiktok.com/@7057902765381534725/video/7143551183792164102\n",
      "Downloading media https://www.tiktok.com/@7057902765381534725/video/7143551183792164102\n",
      "7143285004917935365                                        \n",
      "https://www.tiktok.com/@7057902765381534725/video/7143285004917935365\n",
      "Downloading media https://www.tiktok.com/@7057902765381534725/video/7143285004917935365\n",
      "7143251423474502917                                      \n",
      "https://www.tiktok.com/@7057902765381534725/video/7143251423474502917\n",
      "Downloading media https://www.tiktok.com/@7057902765381534725/video/7143251423474502917\n",
      "7143225656137075974                                        \n",
      "https://www.tiktok.com/@7057902765381534725/video/7143225656137075974\n",
      "Downloading media https://www.tiktok.com/@7057902765381534725/video/7143225656137075974\n",
      "7143163842665663749                                        \n",
      "https://www.tiktok.com/@7057902765381534725/video/7143163842665663749\n",
      "Downloading media https://www.tiktok.com/@7057902765381534725/video/7143163842665663749\n",
      "7142930878216359173                                        \n",
      "https://www.tiktok.com/@7057902765381534725/video/7142930878216359173\n",
      "Downloading media https://www.tiktok.com/@7057902765381534725/video/7142930878216359173\n",
      "7142918656551423237                                      \n",
      "https://www.tiktok.com/@7057902765381534725/video/7142918656551423237\n",
      "Downloading media https://www.tiktok.com/@7057902765381534725/video/7142918656551423237\n",
      "7142259434000059654                                        \n",
      "https://www.tiktok.com/@7057902765381534725/video/7142259434000059654\n",
      "Downloading media https://www.tiktok.com/@7057902765381534725/video/7142259434000059654\n",
      "7142030812693810438                                        \n",
      "https://www.tiktok.com/@7057902765381534725/video/7142030812693810438\n",
      "Downloading media https://www.tiktok.com/@7057902765381534725/video/7142030812693810438\n",
      "7141803151136410886                                      \n",
      "https://www.tiktok.com/@7057902765381534725/video/7141803151136410886\n",
      "Downloading media https://www.tiktok.com/@7057902765381534725/video/7141803151136410886\n",
      "7141788005320150277                                        \n",
      "https://www.tiktok.com/@7057902765381534725/video/7141788005320150277\n",
      "Downloading media https://www.tiktok.com/@7057902765381534725/video/7141788005320150277\n",
      "7141381807093697798                                      \n",
      "https://www.tiktok.com/@7057902765381534725/video/7141381807093697798\n",
      "Downloading media https://www.tiktok.com/@7057902765381534725/video/7141381807093697798\n",
      "7141284558791576837                                      \n",
      "https://www.tiktok.com/@7057902765381534725/video/7141284558791576837\n",
      "Downloading media https://www.tiktok.com/@7057902765381534725/video/7141284558791576837\n",
      "7140955700699696390                                      \n",
      "https://www.tiktok.com/@7057902765381534725/video/7140955700699696390\n",
      "Downloading media https://www.tiktok.com/@7057902765381534725/video/7140955700699696390\n"
     ]
    }
   ],
   "source": [
    "import logging\n",
    "import os\n",
    "import json\n",
    "from pathlib import Path\n",
    "from urllib.error import HTTPError\n",
    "import yt_dlp\n",
    "from yt_dlp.utils import ExtractorError, DownloadError\n",
    "from typing import List, Dict, Optional\n",
    "\n",
    "logger = logging.getLogger(__name__)\n",
    "\n",
    "def download_videos(url_to_download=None, output_dir=None):\n",
    "    if len(url_to_download) > 0:\n",
    "        print(f\"Downloading media {url_to_download}\")\n",
    "        logger.info(f\"Downloading media for hashtag {url_to_download}\")\n",
    "\n",
    "    ydl_opts = {\n",
    "        \"outtmpl\": os.path.join(output_dir, \"%(id)s.%(ext)s\"),\n",
    "        \"ignore_errors\": True,\n",
    "        \"quiet\": logger.getEffectiveLevel() > logging.DEBUG,\n",
    "    }\n",
    "    \n",
    "    with yt_dlp.YoutubeDL(ydl_opts) as ydl:\n",
    "        try:\n",
    "            ydl.download([url_to_download])\n",
    "        except (HTTPError, TypeError, ExtractorError, DownloadError) as e:\n",
    "            logger.warning(\n",
    "                f\"Encountered error {e} when attempting to download url: {url_to_download}\"\n",
    "            )\n",
    "\n",
    "def get_video_list(videos_dir):\n",
    "    already_downloaded_ids = set(\n",
    "        file.split(\".\")[0].split(\"_\")[0] for file in os.listdir(videos_dir)\n",
    "    )\n",
    "    video_df = pd.json_normalize(videos_df['video'])\n",
    "    return video_df[~video_df['id'].isin(already_downloaded_ids)]\n",
    " \n",
    "new_videos = get_video_list(videos_dir='../data/processed/videos')\n",
    "new_videos\n",
    "for video_id in new_videos['id']:\n",
    "    print(video_id)\n",
    "    user_id = '7057902765381534725'\n",
    "    url = f\"https://www.tiktok.com/@{user_id}/video/{video_id}\"\n",
    "    print(url)\n",
    "    download_videos(url_to_download=url, output_dir='../data/processed/videos')"
   ]
  },
  {
   "cell_type": "markdown",
   "metadata": {},
   "source": [
    "## Convert any Video Files to audio "
   ]
  },
  {
   "cell_type": "code",
   "execution_count": 9,
   "metadata": {},
   "outputs": [
    {
     "name": "stdout",
     "output_type": "stream",
     "text": [
      "../data/processed/videos/7278386520275373344.mp4\n"
     ]
    },
    {
     "name": "stderr",
     "output_type": "stream",
     "text": [
      "                                                                    \n",
      "chunk:   0%|          | 35/7000 [04:14<14:05:29,  7.28s/it, now=None]"
     ]
    },
    {
     "name": "stdout",
     "output_type": "stream",
     "text": [
      "MoviePy - Writing audio in ../data/processed/audio/7278386520275373344.mp3\n"
     ]
    },
    {
     "name": "stderr",
     "output_type": "stream",
     "text": [
      "\n",
      "\u001b[A\n",
      "\u001b[A\n",
      "\u001b[A\n",
      "\u001b[A\n",
      "\u001b[A\n",
      "\u001b[A\n",
      "\u001b[A\n",
      "\u001b[A\n",
      "\u001b[A\n",
      "\u001b[A\n",
      "\u001b[A\n",
      "\u001b[A\n",
      "\u001b[A\n",
      "\u001b[A\n",
      "\u001b[A\n",
      "\u001b[A\n",
      "\u001b[A\n",
      "\u001b[A\n",
      "\u001b[A\n",
      "\u001b[A\n",
      "\u001b[A\n",
      "\u001b[A\n",
      "\u001b[A\n",
      "\u001b[A\n",
      "\u001b[A\n",
      "                                                                     \n",
      "chunk:   0%|          | 35/7000 [04:17<14:14:01,  7.36s/it, now=None]"
     ]
    },
    {
     "name": "stdout",
     "output_type": "stream",
     "text": [
      "MoviePy - Done.\n"
     ]
    }
   ],
   "source": [
    "import moviepy\n",
    "import moviepy.editor\n",
    "import os\n",
    "import glob\n",
    "\n",
    "videos_dir = \"../data/processed/videos/\"\n",
    "os.mkdir(\"../data/processed/audio\")\n",
    "\n",
    "file_name_list = glob.glob(os.path.join(videos_dir, \"*.mp4\"))\n",
    "\n",
    "for file_name in file_name_list:\n",
    "    print(file_name)\n",
    "    video = moviepy.editor.VideoFileClip(file_name)\n",
    "    audio = video.audio\n",
    "    audio_file_name = file_name.replace('videos','audio').replace('.mp4', '.mp3')\n",
    "    audio.write_audiofile(audio_file_name)"
   ]
  },
  {
   "cell_type": "code",
   "execution_count": null,
   "metadata": {},
   "outputs": [],
   "source": []
  }
 ],
 "metadata": {
  "colab": {
   "include_colab_link": true,
   "provenance": []
  },
  "kernelspec": {
   "display_name": "Python 3 (ipykernel)",
   "language": "python",
   "name": "python3"
  },
  "language_info": {
   "codemirror_mode": {
    "name": "ipython",
    "version": 3
   },
   "file_extension": ".py",
   "mimetype": "text/x-python",
   "name": "python",
   "nbconvert_exporter": "python",
   "pygments_lexer": "ipython3",
   "version": "3.11.5"
  }
 },
 "nbformat": 4,
 "nbformat_minor": 4
}
