{
 "cells": [
  {
   "cell_type": "markdown",
   "metadata": {
    "colab_type": "text",
    "id": "view-in-github"
   },
   "source": [
    "<a href=\"https://colab.research.google.com/github/frasercrichton/data-investigation-conspiracy-aotearoa/blob/main/analysis/Pattern_of_Life.ipynb\" target=\"_parent\"><img src=\"https://colab.research.google.com/assets/colab-badge.svg\" alt=\"Open In Colab\"/></a>"
   ]
  },
  {
   "attachments": {},
   "cell_type": "markdown",
   "metadata": {},
   "source": [
    "# Clean and Extract Data\n"
   ]
  },
  {
   "cell_type": "code",
   "execution_count": 171,
   "metadata": {},
   "outputs": [],
   "source": [
    "import pandas as pd\n",
    "import cv2\n",
    "from deep_translator import GoogleTranslator\n",
    "processed_dir = '../data/processed/'\n",
    "transcription_dir_location = '../data/processed/transcription/'\n",
    "videos_original_df = pd.read_json('../data/source/video-2023-09-14.json', convert_dates=['createTime'])\n",
    "\n",
    "def translate_text(text):\n",
    "    translation = GoogleTranslator(source='it', target='en').translate(text)\n",
    "    return translation  "
   ]
  },
  {
   "cell_type": "markdown",
   "metadata": {},
   "source": [
    "## Parse the Videos JSON file\n",
    "\n",
    "- Extract:\n",
    "  - Comments\n",
    "  - Likes\n",
    "- Translate any text"
   ]
  },
  {
   "cell_type": "code",
   "execution_count": 172,
   "metadata": {},
   "outputs": [
    {
     "data": {
      "text/html": [
       "<div>\n",
       "<style scoped>\n",
       "    .dataframe tbody tr th:only-of-type {\n",
       "        vertical-align: middle;\n",
       "    }\n",
       "\n",
       "    .dataframe tbody tr th {\n",
       "        vertical-align: top;\n",
       "    }\n",
       "\n",
       "    .dataframe thead th {\n",
       "        text-align: right;\n",
       "    }\n",
       "</style>\n",
       "<table border=\"1\" class=\"dataframe\">\n",
       "  <thead>\n",
       "    <tr style=\"text-align: right;\">\n",
       "      <th></th>\n",
       "      <th>createTime</th>\n",
       "      <th>desc</th>\n",
       "      <th>id</th>\n",
       "      <th>music</th>\n",
       "      <th>video</th>\n",
       "      <th>textExtra</th>\n",
       "      <th>warnInfo</th>\n",
       "      <th>desc_en</th>\n",
       "      <th>textExtra_en</th>\n",
       "      <th>collectCount</th>\n",
       "      <th>commentCount</th>\n",
       "      <th>diggCount</th>\n",
       "      <th>playCount</th>\n",
       "      <th>shareCount</th>\n",
       "      <th>collectCountFormatted</th>\n",
       "      <th>commentCountFormatted</th>\n",
       "      <th>diggCountFormatted</th>\n",
       "      <th>playCountFormatted</th>\n",
       "      <th>shareCountFormatted</th>\n",
       "      <th>coverImage</th>\n",
       "    </tr>\n",
       "  </thead>\n",
       "  <tbody>\n",
       "    <tr>\n",
       "      <th>0</th>\n",
       "      <td>2023-09-13 18:57:03</td>\n",
       "      <td>La mia intervista di questa sera a \"Cinque Min...</td>\n",
       "      <td>7278386520275373056</td>\n",
       "      <td>{'authorName': 'Giorgia Meloni', 'coverLarge':...</td>\n",
       "      <td>{'bitrate': 1178262, 'bitrateInfo': [{'Bitrate...</td>\n",
       "      <td>None</td>\n",
       "      <td>None</td>\n",
       "      <td>My interview this evening on \"Cinque Minuti\", ...</td>\n",
       "      <td>None</td>\n",
       "      <td>840</td>\n",
       "      <td>2669</td>\n",
       "      <td>14800</td>\n",
       "      <td>435800</td>\n",
       "      <td>438</td>\n",
       "      <td>840</td>\n",
       "      <td>2,669</td>\n",
       "      <td>14,800</td>\n",
       "      <td>435,800</td>\n",
       "      <td>438</td>\n",
       "      <td>https://p16-sign-useast2a.tiktokcdn.com/tos-us...</td>\n",
       "    </tr>\n",
       "    <tr>\n",
       "      <th>1</th>\n",
       "      <td>2023-09-12 16:05:41</td>\n",
       "      <td>Stiamo dando alla Nazione una strategia che no...</td>\n",
       "      <td>7277971263958666240</td>\n",
       "      <td>{'authorName': 'Giorgia Meloni', 'coverLarge':...</td>\n",
       "      <td>{'bitrate': 1021716, 'bitrateInfo': [{'Bitrate...</td>\n",
       "      <td>None</td>\n",
       "      <td>None</td>\n",
       "      <td>We are giving the Nation a strategy that it ha...</td>\n",
       "      <td>None</td>\n",
       "      <td>1050</td>\n",
       "      <td>6426</td>\n",
       "      <td>21200</td>\n",
       "      <td>622700</td>\n",
       "      <td>598</td>\n",
       "      <td>1,050</td>\n",
       "      <td>6,426</td>\n",
       "      <td>21,200</td>\n",
       "      <td>622,700</td>\n",
       "      <td>598</td>\n",
       "      <td>https://p16-sign-useast2a.tiktokcdn.com/tos-us...</td>\n",
       "    </tr>\n",
       "    <tr>\n",
       "      <th>2</th>\n",
       "      <td>2023-09-11 09:02:24</td>\n",
       "      <td>Grazie India, complimenti per il successo del ...</td>\n",
       "      <td>7277491085071387648</td>\n",
       "      <td>{'authorName': 'Giorgia Meloni', 'coverLarge':...</td>\n",
       "      <td>{'bitrate': 1374581, 'bitrateInfo': [{'Bitrate...</td>\n",
       "      <td>g20</td>\n",
       "      <td>None</td>\n",
       "      <td>Thank you India, congratulations on the succes...</td>\n",
       "      <td>g20</td>\n",
       "      <td>313</td>\n",
       "      <td>468</td>\n",
       "      <td>7158</td>\n",
       "      <td>137500</td>\n",
       "      <td>224</td>\n",
       "      <td>313</td>\n",
       "      <td>468</td>\n",
       "      <td>7,158</td>\n",
       "      <td>137,500</td>\n",
       "      <td>224</td>\n",
       "      <td>https://p16-sign-useast2a.tiktokcdn.com/tos-us...</td>\n",
       "    </tr>\n",
       "    <tr>\n",
       "      <th>3</th>\n",
       "      <td>2023-09-03 07:28:10</td>\n",
       "      <td>A 41 anni dal brutale attentato mafioso che ha...</td>\n",
       "      <td>7274498125660703744</td>\n",
       "      <td>{'authorName': 'Giorgia Meloni', 'coverLarge':...</td>\n",
       "      <td>{'bitrate': 627490, 'bitrateInfo': [{'Bitrate'...</td>\n",
       "      <td>None</td>\n",
       "      <td>None</td>\n",
       "      <td>41 years after the brutal mafia attack that ca...</td>\n",
       "      <td>None</td>\n",
       "      <td>277</td>\n",
       "      <td>274</td>\n",
       "      <td>4874</td>\n",
       "      <td>141400</td>\n",
       "      <td>204</td>\n",
       "      <td>277</td>\n",
       "      <td>274</td>\n",
       "      <td>4,874</td>\n",
       "      <td>141,400</td>\n",
       "      <td>204</td>\n",
       "      <td>https://p16-sign-useast2a.tiktokcdn.com/tos-us...</td>\n",
       "    </tr>\n",
       "    <tr>\n",
       "      <th>4</th>\n",
       "      <td>2023-08-12 06:05:11</td>\n",
       "      <td>Salario minimo: punto stampa dopo l’incontro c...</td>\n",
       "      <td>7266312532665584640</td>\n",
       "      <td>{'authorName': 'Giorgia Meloni', 'coverLarge':...</td>\n",
       "      <td>{'bitrate': 1077066, 'bitrateInfo': [{'Bitrate...</td>\n",
       "      <td>None</td>\n",
       "      <td>None</td>\n",
       "      <td>Minimum wage: press point after the meeting wi...</td>\n",
       "      <td>None</td>\n",
       "      <td>2847</td>\n",
       "      <td>7144</td>\n",
       "      <td>52600</td>\n",
       "      <td>1800000</td>\n",
       "      <td>1388</td>\n",
       "      <td>2,847</td>\n",
       "      <td>7,144</td>\n",
       "      <td>52,600</td>\n",
       "      <td>1,800,000</td>\n",
       "      <td>1,388</td>\n",
       "      <td>https://p16-sign-useast2a.tiktokcdn.com/tos-us...</td>\n",
       "    </tr>\n",
       "    <tr>\n",
       "      <th>...</th>\n",
       "      <td>...</td>\n",
       "      <td>...</td>\n",
       "      <td>...</td>\n",
       "      <td>...</td>\n",
       "      <td>...</td>\n",
       "      <td>...</td>\n",
       "      <td>...</td>\n",
       "      <td>...</td>\n",
       "      <td>...</td>\n",
       "      <td>...</td>\n",
       "      <td>...</td>\n",
       "      <td>...</td>\n",
       "      <td>...</td>\n",
       "      <td>...</td>\n",
       "      <td>...</td>\n",
       "      <td>...</td>\n",
       "      <td>...</td>\n",
       "      <td>...</td>\n",
       "      <td>...</td>\n",
       "      <td>...</td>\n",
       "    </tr>\n",
       "    <tr>\n",
       "      <th>219</th>\n",
       "      <td>2022-02-20 17:31:35</td>\n",
       "      <td>Il risultato del #greenpass è stato solo quell...</td>\n",
       "      <td>7066845965105318912</td>\n",
       "      <td>{'authorName': 'Giorgia Meloni', 'coverLarge':...</td>\n",
       "      <td>{'bitrate': 998202, 'bitrateInfo': [{'Bitrate'...</td>\n",
       "      <td>greenpass</td>\n",
       "      <td>None</td>\n",
       "      <td>The result of the #greenpass was only to manag...</td>\n",
       "      <td>greenpass</td>\n",
       "      <td>2460</td>\n",
       "      <td>2020</td>\n",
       "      <td>54800</td>\n",
       "      <td>977100</td>\n",
       "      <td>4925</td>\n",
       "      <td>2,460</td>\n",
       "      <td>2,020</td>\n",
       "      <td>54,800</td>\n",
       "      <td>977,100</td>\n",
       "      <td>4,925</td>\n",
       "      <td>https://p16-sign-va.tiktokcdn.com/tos-maliva-p...</td>\n",
       "    </tr>\n",
       "    <tr>\n",
       "      <th>220</th>\n",
       "      <td>2022-02-18 17:00:34</td>\n",
       "      <td>Noi vogliamo difendere l’Italia 🇮🇹</td>\n",
       "      <td>7066095800291576832</td>\n",
       "      <td>{'authorName': 'Giorgia Meloni', 'coverLarge':...</td>\n",
       "      <td>{'bitrate': 710139, 'bitrateInfo': [{'Bitrate'...</td>\n",
       "      <td>None</td>\n",
       "      <td>None</td>\n",
       "      <td>We want to defend Italy 🇮🇹</td>\n",
       "      <td>None</td>\n",
       "      <td>30</td>\n",
       "      <td>41</td>\n",
       "      <td>2052</td>\n",
       "      <td>37700</td>\n",
       "      <td>37</td>\n",
       "      <td>30</td>\n",
       "      <td>41</td>\n",
       "      <td>2,052</td>\n",
       "      <td>37,700</td>\n",
       "      <td>37</td>\n",
       "      <td>https://p16-sign-va.tiktokcdn.com/tos-maliva-p...</td>\n",
       "    </tr>\n",
       "    <tr>\n",
       "      <th>221</th>\n",
       "      <td>2022-02-11 14:53:48</td>\n",
       "      <td>Sia chiaro a tutti: noi il governo con il PD e...</td>\n",
       "      <td>7063465536109235200</td>\n",
       "      <td>{'authorName': 'Giorgia Meloni', 'coverLarge':...</td>\n",
       "      <td>{'bitrate': 401098, 'bitrateInfo': [{'Bitrate'...</td>\n",
       "      <td>None</td>\n",
       "      <td>None</td>\n",
       "      <td>Let it be clear to everyone: we will never for...</td>\n",
       "      <td>None</td>\n",
       "      <td>22</td>\n",
       "      <td>40</td>\n",
       "      <td>1482</td>\n",
       "      <td>33000</td>\n",
       "      <td>21</td>\n",
       "      <td>22</td>\n",
       "      <td>40</td>\n",
       "      <td>1,482</td>\n",
       "      <td>33,000</td>\n",
       "      <td>21</td>\n",
       "      <td>https://p16-sign-va.tiktokcdn.com/tos-maliva-p...</td>\n",
       "    </tr>\n",
       "    <tr>\n",
       "      <th>222</th>\n",
       "      <td>2022-02-10 19:07:13</td>\n",
       "      <td>Cittadini e imprese schiacciati dalla crisi e ...</td>\n",
       "      <td>7063159758185827328</td>\n",
       "      <td>{'authorName': 'Giorgia Meloni', 'coverLarge':...</td>\n",
       "      <td>{'bitrate': 326414, 'bitrateInfo': [{'Bitrate'...</td>\n",
       "      <td>None</td>\n",
       "      <td>None</td>\n",
       "      <td>Citizens and businesses crushed by the crisis ...</td>\n",
       "      <td>None</td>\n",
       "      <td>28</td>\n",
       "      <td>202</td>\n",
       "      <td>2240</td>\n",
       "      <td>47300</td>\n",
       "      <td>126</td>\n",
       "      <td>28</td>\n",
       "      <td>202</td>\n",
       "      <td>2,240</td>\n",
       "      <td>47,300</td>\n",
       "      <td>126</td>\n",
       "      <td>https://p16-sign-va.tiktokcdn.com/tos-maliva-p...</td>\n",
       "    </tr>\n",
       "    <tr>\n",
       "      <th>223</th>\n",
       "      <td>2022-02-03 16:22:59</td>\n",
       "      <td>Non ci sto alla politica del “o ti adegui al s...</td>\n",
       "      <td>7060519835788250112</td>\n",
       "      <td>{'authorName': 'Giorgia Meloni', 'coverLarge':...</td>\n",
       "      <td>{'bitrate': 497794, 'bitrateInfo': [{'Bitrate'...</td>\n",
       "      <td>fratelliditalia</td>\n",
       "      <td>None</td>\n",
       "      <td>I don't subscribe to the \"either you adapt to ...</td>\n",
       "      <td>fratelliditalia</td>\n",
       "      <td>96</td>\n",
       "      <td>352</td>\n",
       "      <td>4190</td>\n",
       "      <td>82700</td>\n",
       "      <td>340</td>\n",
       "      <td>96</td>\n",
       "      <td>352</td>\n",
       "      <td>4,190</td>\n",
       "      <td>82,700</td>\n",
       "      <td>340</td>\n",
       "      <td>https://p16-sign-va.tiktokcdn.com/tos-maliva-p...</td>\n",
       "    </tr>\n",
       "  </tbody>\n",
       "</table>\n",
       "<p>224 rows × 20 columns</p>\n",
       "</div>"
      ],
      "text/plain": [
       "             createTime                                               desc  \\\n",
       "0   2023-09-13 18:57:03  La mia intervista di questa sera a \"Cinque Min...   \n",
       "1   2023-09-12 16:05:41  Stiamo dando alla Nazione una strategia che no...   \n",
       "2   2023-09-11 09:02:24  Grazie India, complimenti per il successo del ...   \n",
       "3   2023-09-03 07:28:10  A 41 anni dal brutale attentato mafioso che ha...   \n",
       "4   2023-08-12 06:05:11  Salario minimo: punto stampa dopo l’incontro c...   \n",
       "..                  ...                                                ...   \n",
       "219 2022-02-20 17:31:35  Il risultato del #greenpass è stato solo quell...   \n",
       "220 2022-02-18 17:00:34                 Noi vogliamo difendere l’Italia 🇮🇹   \n",
       "221 2022-02-11 14:53:48  Sia chiaro a tutti: noi il governo con il PD e...   \n",
       "222 2022-02-10 19:07:13  Cittadini e imprese schiacciati dalla crisi e ...   \n",
       "223 2022-02-03 16:22:59  Non ci sto alla politica del “o ti adegui al s...   \n",
       "\n",
       "                      id                                              music  \\\n",
       "0    7278386520275373056  {'authorName': 'Giorgia Meloni', 'coverLarge':...   \n",
       "1    7277971263958666240  {'authorName': 'Giorgia Meloni', 'coverLarge':...   \n",
       "2    7277491085071387648  {'authorName': 'Giorgia Meloni', 'coverLarge':...   \n",
       "3    7274498125660703744  {'authorName': 'Giorgia Meloni', 'coverLarge':...   \n",
       "4    7266312532665584640  {'authorName': 'Giorgia Meloni', 'coverLarge':...   \n",
       "..                   ...                                                ...   \n",
       "219  7066845965105318912  {'authorName': 'Giorgia Meloni', 'coverLarge':...   \n",
       "220  7066095800291576832  {'authorName': 'Giorgia Meloni', 'coverLarge':...   \n",
       "221  7063465536109235200  {'authorName': 'Giorgia Meloni', 'coverLarge':...   \n",
       "222  7063159758185827328  {'authorName': 'Giorgia Meloni', 'coverLarge':...   \n",
       "223  7060519835788250112  {'authorName': 'Giorgia Meloni', 'coverLarge':...   \n",
       "\n",
       "                                                 video        textExtra  \\\n",
       "0    {'bitrate': 1178262, 'bitrateInfo': [{'Bitrate...             None   \n",
       "1    {'bitrate': 1021716, 'bitrateInfo': [{'Bitrate...             None   \n",
       "2    {'bitrate': 1374581, 'bitrateInfo': [{'Bitrate...              g20   \n",
       "3    {'bitrate': 627490, 'bitrateInfo': [{'Bitrate'...             None   \n",
       "4    {'bitrate': 1077066, 'bitrateInfo': [{'Bitrate...             None   \n",
       "..                                                 ...              ...   \n",
       "219  {'bitrate': 998202, 'bitrateInfo': [{'Bitrate'...        greenpass   \n",
       "220  {'bitrate': 710139, 'bitrateInfo': [{'Bitrate'...             None   \n",
       "221  {'bitrate': 401098, 'bitrateInfo': [{'Bitrate'...             None   \n",
       "222  {'bitrate': 326414, 'bitrateInfo': [{'Bitrate'...             None   \n",
       "223  {'bitrate': 497794, 'bitrateInfo': [{'Bitrate'...  fratelliditalia   \n",
       "\n",
       "    warnInfo                                            desc_en  \\\n",
       "0       None  My interview this evening on \"Cinque Minuti\", ...   \n",
       "1       None  We are giving the Nation a strategy that it ha...   \n",
       "2       None  Thank you India, congratulations on the succes...   \n",
       "3       None  41 years after the brutal mafia attack that ca...   \n",
       "4       None  Minimum wage: press point after the meeting wi...   \n",
       "..       ...                                                ...   \n",
       "219     None  The result of the #greenpass was only to manag...   \n",
       "220     None                         We want to defend Italy 🇮🇹   \n",
       "221     None  Let it be clear to everyone: we will never for...   \n",
       "222     None  Citizens and businesses crushed by the crisis ...   \n",
       "223     None  I don't subscribe to the \"either you adapt to ...   \n",
       "\n",
       "        textExtra_en  collectCount  commentCount  diggCount  playCount  \\\n",
       "0               None           840          2669      14800     435800   \n",
       "1               None          1050          6426      21200     622700   \n",
       "2                g20           313           468       7158     137500   \n",
       "3               None           277           274       4874     141400   \n",
       "4               None          2847          7144      52600    1800000   \n",
       "..               ...           ...           ...        ...        ...   \n",
       "219        greenpass          2460          2020      54800     977100   \n",
       "220             None            30            41       2052      37700   \n",
       "221             None            22            40       1482      33000   \n",
       "222             None            28           202       2240      47300   \n",
       "223  fratelliditalia            96           352       4190      82700   \n",
       "\n",
       "     shareCount collectCountFormatted commentCountFormatted  \\\n",
       "0           438                   840                 2,669   \n",
       "1           598                 1,050                 6,426   \n",
       "2           224                   313                   468   \n",
       "3           204                   277                   274   \n",
       "4          1388                 2,847                 7,144   \n",
       "..          ...                   ...                   ...   \n",
       "219        4925                 2,460                 2,020   \n",
       "220          37                    30                    41   \n",
       "221          21                    22                    40   \n",
       "222         126                    28                   202   \n",
       "223         340                    96                   352   \n",
       "\n",
       "    diggCountFormatted playCountFormatted shareCountFormatted  \\\n",
       "0               14,800            435,800                 438   \n",
       "1               21,200            622,700                 598   \n",
       "2                7,158            137,500                 224   \n",
       "3                4,874            141,400                 204   \n",
       "4               52,600          1,800,000               1,388   \n",
       "..                 ...                ...                 ...   \n",
       "219             54,800            977,100               4,925   \n",
       "220              2,052             37,700                  37   \n",
       "221              1,482             33,000                  21   \n",
       "222              2,240             47,300                 126   \n",
       "223              4,190             82,700                 340   \n",
       "\n",
       "                                            coverImage  \n",
       "0    https://p16-sign-useast2a.tiktokcdn.com/tos-us...  \n",
       "1    https://p16-sign-useast2a.tiktokcdn.com/tos-us...  \n",
       "2    https://p16-sign-useast2a.tiktokcdn.com/tos-us...  \n",
       "3    https://p16-sign-useast2a.tiktokcdn.com/tos-us...  \n",
       "4    https://p16-sign-useast2a.tiktokcdn.com/tos-us...  \n",
       "..                                                 ...  \n",
       "219  https://p16-sign-va.tiktokcdn.com/tos-maliva-p...  \n",
       "220  https://p16-sign-va.tiktokcdn.com/tos-maliva-p...  \n",
       "221  https://p16-sign-va.tiktokcdn.com/tos-maliva-p...  \n",
       "222  https://p16-sign-va.tiktokcdn.com/tos-maliva-p...  \n",
       "223  https://p16-sign-va.tiktokcdn.com/tos-maliva-p...  \n",
       "\n",
       "[224 rows x 20 columns]"
      ]
     },
     "execution_count": 172,
     "metadata": {},
     "output_type": "execute_result"
    }
   ],
   "source": [
    "videos_df = videos_original_df.drop(columns=[\n",
    "                                    'author',\n",
    "                                    'challenges',\n",
    "                                    'collected',\n",
    "                                    'contents', \n",
    "                                    'digged', \n",
    "                                    'duetDisplay', \n",
    "                                    'forFriend',\n",
    "                                    'itemCommentStatus', \n",
    "                                    'privateItem', \n",
    "                                    'secret', \n",
    "                                    'shareEnabled', \n",
    "                                    'stitchDisplay', \n",
    "                                    'officalItem',\n",
    "                                    'originalItem',\n",
    "                                    'duetEnabled',\n",
    "                                    'stitchEnabled',\n",
    "                                    ])\n",
    "\n",
    "def parse_desc(desc):\n",
    "    return translate_text(desc)\n",
    "\n",
    "def parse_stats(stats):\n",
    "    return pd.Series([stats['collectCount'], stats['commentCount'], stats['diggCount'], stats['playCount'], stats['shareCount']])\n",
    "\n",
    "def add_formatted_stats(data_frame, column_name):\n",
    "    data_frame[column_name + 'Formatted'] = data_frame[column_name].map('{:,}'.format) \n",
    "\n",
    "def parse_text_extra(extra_text):\n",
    "    if extra_text is None:\n",
    "        return pd.Series([extra_text, extra_text])\n",
    "    \n",
    "    extra_text_as_json = pd.json_normalize(extra_text)    \n",
    "    hashtags = ', '.join(extra_text_as_json['hashtagName'].values)\n",
    "    return pd.Series([hashtags, hashtags])\n",
    "\n",
    "def parse_warn_info(warn_info):\n",
    "    if warn_info is None:\n",
    "        return warn_info\n",
    "    \n",
    "    return warn_info[0]['text']\n",
    "\n",
    "def parse_video(video):    \n",
    "    return video['zoomCover']['960']\n",
    "\n",
    "# desc: translate the video description into English\n",
    "videos_df['desc_en'] = videos_df.apply(lambda row: parse_desc(row['desc']), axis=1)\n",
    "\n",
    "# textExtra: extract a list of hashtags\n",
    "videos_df[['textExtra', 'textExtra_en']] = videos_df.apply(lambda row: parse_text_extra(row['textExtra']), axis=1)\n",
    "\n",
    "# stats: turn the like, comment, etc. counts into columns\n",
    "videos_df[['collectCount', 'commentCount', 'diggCount', 'playCount', 'shareCount']] = videos_df.apply(lambda row: parse_stats(row['stats']), axis=1)\n",
    "videos_df = videos_df.drop(columns=['stats'])\n",
    "add_formatted_stats(videos_df, 'collectCount')\n",
    "add_formatted_stats(videos_df, 'commentCount')\n",
    "add_formatted_stats(videos_df, 'diggCount')\n",
    "add_formatted_stats(videos_df, 'playCount')\n",
    "add_formatted_stats(videos_df, 'shareCount')\n",
    "\n",
    "# warnInfo: extract any content warning text \n",
    "videos_df['warnInfo'] = videos_df.apply(lambda x: parse_warn_info(x['warnInfo']), axis=1)\n",
    "\n",
    "# Videos - zoomCover: get the URL of the cover image\n",
    "videos_df['coverImage'] = videos_df.apply(lambda row: parse_video(row['video']), axis=1)\n",
    "\n",
    "videos_df\n"
   ]
  },
  {
   "cell_type": "markdown",
   "metadata": {},
   "source": [
    "Write out the results to a file. "
   ]
  },
  {
   "cell_type": "code",
   "execution_count": 173,
   "metadata": {},
   "outputs": [],
   "source": [
    "videos_df.to_json('../data/processed/videos-translated.json')"
   ]
  },
  {
   "cell_type": "markdown",
   "metadata": {},
   "source": [
    "## Hashtags\n",
    "\n",
    "Extract and save to a file."
   ]
  },
  {
   "cell_type": "markdown",
   "metadata": {},
   "source": [
    "### Hashtags in Italian"
   ]
  },
  {
   "cell_type": "code",
   "execution_count": 181,
   "metadata": {},
   "outputs": [
    {
     "data": {
      "text/html": [
       "<div>\n",
       "<style scoped>\n",
       "    .dataframe tbody tr th:only-of-type {\n",
       "        vertical-align: middle;\n",
       "    }\n",
       "\n",
       "    .dataframe tbody tr th {\n",
       "        vertical-align: top;\n",
       "    }\n",
       "\n",
       "    .dataframe thead th {\n",
       "        text-align: right;\n",
       "    }\n",
       "</style>\n",
       "<table border=\"1\" class=\"dataframe\">\n",
       "  <thead>\n",
       "    <tr style=\"text-align: right;\">\n",
       "      <th></th>\n",
       "      <th>textExtra</th>\n",
       "      <th>count</th>\n",
       "    </tr>\n",
       "  </thead>\n",
       "  <tbody>\n",
       "    <tr>\n",
       "      <th>0</th>\n",
       "      <td>fratelliditalia</td>\n",
       "      <td>14</td>\n",
       "    </tr>\n",
       "    <tr>\n",
       "      <th>1</th>\n",
       "      <td>gliappuntidigiorgia</td>\n",
       "      <td>11</td>\n",
       "    </tr>\n",
       "    <tr>\n",
       "      <th>2</th>\n",
       "      <td>votafdi</td>\n",
       "      <td>5</td>\n",
       "    </tr>\n",
       "    <tr>\n",
       "      <th>3</th>\n",
       "      <td>governo</td>\n",
       "      <td>4</td>\n",
       "    </tr>\n",
       "    <tr>\n",
       "      <th>4</th>\n",
       "      <td>lavoro</td>\n",
       "      <td>3</td>\n",
       "    </tr>\n",
       "    <tr>\n",
       "      <th>5</th>\n",
       "      <td>draghi</td>\n",
       "      <td>3</td>\n",
       "    </tr>\n",
       "    <tr>\n",
       "      <th>6</th>\n",
       "      <td>redditodicittadinanza</td>\n",
       "      <td>3</td>\n",
       "    </tr>\n",
       "    <tr>\n",
       "      <th>7</th>\n",
       "      <td>bufala</td>\n",
       "      <td>2</td>\n",
       "    </tr>\n",
       "    <tr>\n",
       "      <th>8</th>\n",
       "      <td>energiadaliberare</td>\n",
       "      <td>2</td>\n",
       "    </tr>\n",
       "    <tr>\n",
       "      <th>9</th>\n",
       "      <td>greenpass</td>\n",
       "      <td>2</td>\n",
       "    </tr>\n",
       "  </tbody>\n",
       "</table>\n",
       "</div>"
      ],
      "text/plain": [
       "               textExtra  count\n",
       "0        fratelliditalia     14\n",
       "1    gliappuntidigiorgia     11\n",
       "2                votafdi      5\n",
       "3                governo      4\n",
       "4                 lavoro      3\n",
       "5                 draghi      3\n",
       "6  redditodicittadinanza      3\n",
       "7                 bufala      2\n",
       "8      energiadaliberare      2\n",
       "9              greenpass      2"
      ]
     },
     "execution_count": 181,
     "metadata": {},
     "output_type": "execute_result"
    }
   ],
   "source": [
    "hastags_dir = processed_dir + '/hashtags/'\n",
    "\n",
    "hash_tags_it_list = [val.strip() for sublist in videos_df['textExtra'].dropna().str.split(\",\").tolist() for val in sublist]\n",
    "hash_tags_it_count = pd.DataFrame(hash_tags_it_list,columns=['textExtra']).value_counts().reset_index().rename(columns={0:'count'})\n",
    "hash_tags_it_count.to_csv(hastags_dir + 'it_hashtags.csv')\n",
    "hash_tags_it_count.head(10)"
   ]
  },
  {
   "cell_type": "markdown",
   "metadata": {},
   "source": [
    "### Hashtags in English"
   ]
  },
  {
   "cell_type": "code",
   "execution_count": 183,
   "metadata": {},
   "outputs": [
    {
     "data": {
      "text/html": [
       "<div>\n",
       "<style scoped>\n",
       "    .dataframe tbody tr th:only-of-type {\n",
       "        vertical-align: middle;\n",
       "    }\n",
       "\n",
       "    .dataframe tbody tr th {\n",
       "        vertical-align: top;\n",
       "    }\n",
       "\n",
       "    .dataframe thead th {\n",
       "        text-align: right;\n",
       "    }\n",
       "</style>\n",
       "<table border=\"1\" class=\"dataframe\">\n",
       "  <thead>\n",
       "    <tr style=\"text-align: right;\">\n",
       "      <th></th>\n",
       "      <th>textExtra_en</th>\n",
       "      <th>count</th>\n",
       "    </tr>\n",
       "  </thead>\n",
       "  <tbody>\n",
       "    <tr>\n",
       "      <th>0</th>\n",
       "      <td>Brothers-of-Italy</td>\n",
       "      <td>14</td>\n",
       "    </tr>\n",
       "    <tr>\n",
       "      <th>1</th>\n",
       "      <td>giorgia's-notes</td>\n",
       "      <td>11</td>\n",
       "    </tr>\n",
       "    <tr>\n",
       "      <th>2</th>\n",
       "      <td>votefdi</td>\n",
       "      <td>5</td>\n",
       "    </tr>\n",
       "    <tr>\n",
       "      <th>3</th>\n",
       "      <td>government</td>\n",
       "      <td>4</td>\n",
       "    </tr>\n",
       "    <tr>\n",
       "      <th>4</th>\n",
       "      <td>dragons</td>\n",
       "      <td>3</td>\n",
       "    </tr>\n",
       "    <tr>\n",
       "      <th>...</th>\n",
       "      <td>...</td>\n",
       "      <td>...</td>\n",
       "    </tr>\n",
       "    <tr>\n",
       "      <th>68</th>\n",
       "      <td>ecological-transition</td>\n",
       "      <td>1</td>\n",
       "    </tr>\n",
       "    <tr>\n",
       "      <th>69</th>\n",
       "      <td>elections</td>\n",
       "      <td>1</td>\n",
       "    </tr>\n",
       "    <tr>\n",
       "      <th>70</th>\n",
       "      <td>energy-crisis</td>\n",
       "      <td>1</td>\n",
       "    </tr>\n",
       "    <tr>\n",
       "      <th>71</th>\n",
       "      <td>examination</td>\n",
       "      <td>1</td>\n",
       "    </tr>\n",
       "    <tr>\n",
       "      <th>72</th>\n",
       "      <td>young</td>\n",
       "      <td>1</td>\n",
       "    </tr>\n",
       "  </tbody>\n",
       "</table>\n",
       "<p>73 rows × 2 columns</p>\n",
       "</div>"
      ],
      "text/plain": [
       "             textExtra_en  count\n",
       "0       Brothers-of-Italy     14\n",
       "1         giorgia's-notes     11\n",
       "2                 votefdi      5\n",
       "3              government      4\n",
       "4                 dragons      3\n",
       "..                    ...    ...\n",
       "68  ecological-transition      1\n",
       "69              elections      1\n",
       "70          energy-crisis      1\n",
       "71            examination      1\n",
       "72                  young      1\n",
       "\n",
       "[73 rows x 2 columns]"
      ]
     },
     "execution_count": 183,
     "metadata": {},
     "output_type": "execute_result"
    }
   ],
   "source": [
    "def translate_hashtag(text):\n",
    "        text_en = translate_text(text)\n",
    "        # translation introduces white space and hashtags have no whitespace\n",
    "        return text_en.replace(' ', '-')\n",
    "\n",
    "hash_tags_en_list = []\n",
    "for item in hash_tags_it_list:\n",
    "        hash_tags_en_list.append(translate_hashtag(item))\n",
    "hash_tags_en_count = pd.DataFrame(hash_tags_en_list,columns=['textExtra_en']).value_counts().reset_index().rename(columns={0:'count'})\n",
    "hash_tags_en_count.to_csv(hastags_dir + 'en_hashtags.csv')\n",
    "hash_tags_en_count"
   ]
  },
  {
   "cell_type": "markdown",
   "metadata": {},
   "source": [
    "## Download Resources"
   ]
  },
  {
   "cell_type": "code",
   "execution_count": 82,
   "metadata": {},
   "outputs": [
    {
     "data": {
      "text/plain": [
       "0      https://p16-sign-useast2a.tiktokcdn.com/tos-us...\n",
       "1      https://p16-sign-useast2a.tiktokcdn.com/tos-us...\n",
       "2      https://p16-sign-useast2a.tiktokcdn.com/tos-us...\n",
       "3      https://p16-sign-useast2a.tiktokcdn.com/tos-us...\n",
       "4      https://p16-sign-useast2a.tiktokcdn.com/tos-us...\n",
       "                             ...                        \n",
       "219    https://p16-sign-va.tiktokcdn.com/tos-maliva-p...\n",
       "220    https://p16-sign-va.tiktokcdn.com/tos-maliva-p...\n",
       "221    https://p16-sign-va.tiktokcdn.com/tos-maliva-p...\n",
       "222    https://p16-sign-va.tiktokcdn.com/tos-maliva-p...\n",
       "223    https://p16-sign-va.tiktokcdn.com/tos-maliva-p...\n",
       "Name: coverImage, Length: 224, dtype: object"
      ]
     },
     "execution_count": 82,
     "metadata": {},
     "output_type": "execute_result"
    }
   ],
   "source": [
    "# def download_file_and_save(url: str, filepath: Path):\n",
    "#     \"\"\"Download a file from a specified URL and write its contents to a file\"\"\"\n",
    "\n",
    "#     r = _get(url=url)\n",
    "#     if r.status_code == 403:\n",
    "#         return\n",
    "#     ext = r.headers[\"Content-Type\"].split(\"/\")[-1]\n",
    "#     path_with_ext = filepath.with_suffix(f\".{ext}\")\n",
    "#     with open(path_with_ext, \"wb\") as f:\n",
    "#         f.write(r.content)\n",
    "#         logger.debug(f\"Saved file to: {path_with_ext}\")\n",
    "\n",
    "videos_df['coverImage']\n",
    "\n",
    "# get the video Duration\n"
   ]
  },
  {
   "cell_type": "markdown",
   "metadata": {},
   "source": [
    "## Download Videos"
   ]
  },
  {
   "cell_type": "code",
   "execution_count": 13,
   "metadata": {},
   "outputs": [],
   "source": [
    "import logging\n",
    "import os\n",
    "from pathlib import Path\n",
    "from urllib.error import HTTPError\n",
    "import yt_dlp\n",
    "from yt_dlp.utils import ExtractorError, DownloadError\n",
    "from typing import List, Dict, Optional\n",
    "\n",
    "logger = logging.getLogger(__name__)\n",
    "\n",
    "def download_videos(url_to_download=None, output_dir=None):\n",
    "    if len(url_to_download) > 0:\n",
    "        print(f\"Downloading media {url_to_download}\")\n",
    "        logger.info(f\"Downloading media for hashtag {url_to_download}\")\n",
    "\n",
    "    ydl_opts = {\n",
    "        \"outtmpl\": os.path.join(output_dir, \"%(id)s.%(ext)s\"),\n",
    "        \"ignore_errors\": True,\n",
    "        \"quiet\": logger.getEffectiveLevel() > logging.DEBUG,\n",
    "    }\n",
    "    \n",
    "    with yt_dlp.YoutubeDL(ydl_opts) as ydl:\n",
    "        try:\n",
    "            ydl.download([url_to_download])\n",
    "        except (HTTPError, TypeError, ExtractorError, DownloadError) as e:\n",
    "            logger.warning(\n",
    "                f\"Encountered error {e} when attempting to download url: {url_to_download}\"\n",
    "            )\n",
    "\n",
    "def get_video_list(videos_dir):\n",
    "    already_downloaded_ids = set(\n",
    "        file.split(\".\")[0].split(\"_\")[0] for file in os.listdir(videos_dir)\n",
    "    )\n",
    "    video_df = pd.json_normalize(videos_df['video'])\n",
    "    return video_df[~video_df['id'].isin(already_downloaded_ids)]\n",
    " \n",
    "new_videos = get_video_list(videos_dir='../data/processed/videos')\n",
    "new_videos\n",
    "for video_id in new_videos['id']:\n",
    "    print(video_id)\n",
    "    user_id = '7057902765381534725'\n",
    "    url = f\"https://www.tiktok.com/@{user_id}/video/{video_id}\"\n",
    "    print(url)\n",
    "    download_videos(url_to_download=url, output_dir='../data/processed/videos')"
   ]
  },
  {
   "cell_type": "markdown",
   "metadata": {},
   "source": [
    "## Update the Videos CSV/JSON with video duration"
   ]
  },
  {
   "cell_type": "code",
   "execution_count": 20,
   "metadata": {},
   "outputs": [
    {
     "name": "stdout",
     "output_type": "stream",
     "text": [
      "5:17\n",
      "2:43\n",
      "1:27\n",
      "1:12\n",
      "9:10\n",
      "5:16\n",
      "3:70\n",
      "6:26\n",
      "2:56\n",
      "0:49\n",
      "1:23\n",
      "4:52\n",
      "1:45\n",
      "2:37\n",
      "0:32\n",
      "0:58\n",
      "2:19\n",
      "1:80\n",
      "1:30\n",
      "2:44\n",
      "2:30\n",
      "0:11\n",
      "2:10\n",
      "0:54\n",
      "0:48\n",
      "1:42\n",
      "1:17\n",
      "6:58\n",
      "1:11\n",
      "0:39\n",
      "0:22\n",
      "6:19\n",
      "1:47\n",
      "1:52\n",
      "1:80\n",
      "0:47\n",
      "1:44\n",
      "0:51\n",
      "1:33\n",
      "3:34\n",
      "0:57\n",
      "4:11\n",
      "1:13\n",
      "5:16\n",
      "1:26\n",
      "1:35\n",
      "1:60\n",
      "1:11\n",
      "3:17\n",
      "1:29\n",
      "1:70\n",
      "0:49\n",
      "0:51\n",
      "0:45\n",
      "4:14\n",
      "3:25\n",
      "3:28\n",
      "1:52\n",
      "2:50\n",
      "4:33\n",
      "2:21\n",
      "0:47\n",
      "0:20\n",
      "0:47\n",
      "4:59\n",
      "1:57\n",
      "9:50\n",
      "0:50\n",
      "1:30\n",
      "4:00\n",
      "6:54\n",
      "4:12\n",
      "0:37\n",
      "0:29\n",
      "0:39\n",
      "2:38\n",
      "1:42\n",
      "3:39\n",
      "2:34\n",
      "0:59\n",
      "1:52\n",
      "1:16\n",
      "7:47\n",
      "9:51\n",
      "1:14\n",
      "1:37\n",
      "0:23\n",
      "2:70\n",
      "0:21\n",
      "1:20\n",
      "2:20\n",
      "1:33\n",
      "3:12\n",
      "3:43\n",
      "0:50\n",
      "9:48\n",
      "0:29\n",
      "0:20\n",
      "3:10\n",
      "3:38\n",
      "4:60\n",
      "1:41\n",
      "1:90\n",
      "1:54\n",
      "3:60\n",
      "0:45\n",
      "0:25\n",
      "1:18\n",
      "0:21\n",
      "1:16\n",
      "0:50\n",
      "0:11\n",
      "1:12\n",
      "1:90\n",
      "0:22\n",
      "2:60\n",
      "0:28\n",
      "0:51\n",
      "0:40\n",
      "0:35\n",
      "2:60\n",
      "1:14\n",
      "1:57\n",
      "4:45\n",
      "3:10\n",
      "0:11\n",
      "0:24\n",
      "3:19\n",
      "0:53\n",
      "1:90\n",
      "1:19\n",
      "0:28\n",
      "0:16\n",
      "0:13\n",
      "0:46\n",
      "0:30\n",
      "0:20\n",
      "0:17\n",
      "2:70\n",
      "2:27\n",
      "0:24\n",
      "0:25\n",
      "0:20\n",
      "0:38\n",
      "3:44\n",
      "0:44\n",
      "0:24\n",
      "0:20\n",
      "0:32\n",
      "0:13\n",
      "0:23\n",
      "2:53\n",
      "1:44\n",
      "0:16\n",
      "0:90\n",
      "0:11\n",
      "0:12\n",
      "0:30\n",
      "1:38\n",
      "0:50\n",
      "0:90\n",
      "0:15\n",
      "1:41\n",
      "2:70\n",
      "1:28\n",
      "0:38\n",
      "1:24\n",
      "0:37\n",
      "1:39\n",
      "1:49\n",
      "1:50\n",
      "0:70\n",
      "3:33\n",
      "1:50\n",
      "1:53\n",
      "1:40\n",
      "1:40\n",
      "2:90\n",
      "2:10\n",
      "0:23\n",
      "6:20\n",
      "3:70\n",
      "1:16\n",
      "1:26\n",
      "0:60\n",
      "0:40\n",
      "2:40\n",
      "1:56\n",
      "0:15\n",
      "5:22\n",
      "2:31\n",
      "1:41\n",
      "0:12\n",
      "0:15\n",
      "0:17\n",
      "0:24\n",
      "3:54\n",
      "2:80\n",
      "1:55\n",
      "0:20\n",
      "0:16\n",
      "0:48\n",
      "1:21\n",
      "1:19\n",
      "0:32\n",
      "1:15\n",
      "1:18\n",
      "1:24\n",
      "0:30\n",
      "2:30\n",
      "2:55\n",
      "3:45\n",
      "2:28\n",
      "0:57\n",
      "1:57\n",
      "1:43\n",
      "1:31\n",
      "0:26\n",
      "0:38\n",
      "1:17\n",
      "0:60\n",
      "3:00\n",
      "2:19\n",
      "1:15\n"
     ]
    },
    {
     "data": {
      "text/html": [
       "<div>\n",
       "<style scoped>\n",
       "    .dataframe tbody tr th:only-of-type {\n",
       "        vertical-align: middle;\n",
       "    }\n",
       "\n",
       "    .dataframe tbody tr th {\n",
       "        vertical-align: top;\n",
       "    }\n",
       "\n",
       "    .dataframe thead th {\n",
       "        text-align: right;\n",
       "    }\n",
       "</style>\n",
       "<table border=\"1\" class=\"dataframe\">\n",
       "  <thead>\n",
       "    <tr style=\"text-align: right;\">\n",
       "      <th></th>\n",
       "      <th>createTime</th>\n",
       "      <th>desc</th>\n",
       "      <th>id</th>\n",
       "      <th>music</th>\n",
       "      <th>video</th>\n",
       "      <th>textExtra</th>\n",
       "      <th>warnInfo</th>\n",
       "      <th>desc_en</th>\n",
       "      <th>textExtra_en</th>\n",
       "      <th>collectCount</th>\n",
       "      <th>commentCount</th>\n",
       "      <th>diggCount</th>\n",
       "      <th>playCount</th>\n",
       "      <th>shareCount</th>\n",
       "      <th>coverImage</th>\n",
       "      <th>duration</th>\n",
       "    </tr>\n",
       "  </thead>\n",
       "  <tbody>\n",
       "    <tr>\n",
       "      <th>0</th>\n",
       "      <td>2023-09-13 18:57:03</td>\n",
       "      <td>La mia intervista di questa sera a \"Cinque Min...</td>\n",
       "      <td>7278386520275373000</td>\n",
       "      <td>{'authorName': 'Giorgia Meloni', 'coverLarge':...</td>\n",
       "      <td>{'bitrate': 1178262, 'bitrateInfo': [{'Bitrate...</td>\n",
       "      <td>None</td>\n",
       "      <td>None</td>\n",
       "      <td>My interview this evening on \"Cinque Minuti\", ...</td>\n",
       "      <td>None</td>\n",
       "      <td>840</td>\n",
       "      <td>2669</td>\n",
       "      <td>14800</td>\n",
       "      <td>435800</td>\n",
       "      <td>438</td>\n",
       "      <td>https://p16-sign-useast2a.tiktokcdn.com/tos-us...</td>\n",
       "      <td>5:17</td>\n",
       "    </tr>\n",
       "    <tr>\n",
       "      <th>1</th>\n",
       "      <td>2023-09-12 16:05:41</td>\n",
       "      <td>Stiamo dando alla Nazione una strategia che no...</td>\n",
       "      <td>7277971263958666000</td>\n",
       "      <td>{'authorName': 'Giorgia Meloni', 'coverLarge':...</td>\n",
       "      <td>{'bitrate': 1021716, 'bitrateInfo': [{'Bitrate...</td>\n",
       "      <td>None</td>\n",
       "      <td>None</td>\n",
       "      <td>We are giving the Nation a strategy that it ha...</td>\n",
       "      <td>None</td>\n",
       "      <td>1050</td>\n",
       "      <td>6426</td>\n",
       "      <td>21200</td>\n",
       "      <td>622700</td>\n",
       "      <td>598</td>\n",
       "      <td>https://p16-sign-useast2a.tiktokcdn.com/tos-us...</td>\n",
       "      <td>2:43</td>\n",
       "    </tr>\n",
       "    <tr>\n",
       "      <th>2</th>\n",
       "      <td>2023-09-11 09:02:24</td>\n",
       "      <td>Grazie India, complimenti per il successo del ...</td>\n",
       "      <td>7277491085071388000</td>\n",
       "      <td>{'authorName': 'Giorgia Meloni', 'coverLarge':...</td>\n",
       "      <td>{'bitrate': 1374581, 'bitrateInfo': [{'Bitrate...</td>\n",
       "      <td>g20</td>\n",
       "      <td>None</td>\n",
       "      <td>Thank you India, congratulations on the succes...</td>\n",
       "      <td>g20</td>\n",
       "      <td>313</td>\n",
       "      <td>468</td>\n",
       "      <td>7158</td>\n",
       "      <td>137500</td>\n",
       "      <td>224</td>\n",
       "      <td>https://p16-sign-useast2a.tiktokcdn.com/tos-us...</td>\n",
       "      <td>1:27</td>\n",
       "    </tr>\n",
       "    <tr>\n",
       "      <th>3</th>\n",
       "      <td>2023-09-03 07:28:10</td>\n",
       "      <td>A 41 anni dal brutale attentato mafioso che ha...</td>\n",
       "      <td>7274498125660704000</td>\n",
       "      <td>{'authorName': 'Giorgia Meloni', 'coverLarge':...</td>\n",
       "      <td>{'bitrate': 627490, 'bitrateInfo': [{'Bitrate'...</td>\n",
       "      <td>None</td>\n",
       "      <td>None</td>\n",
       "      <td>41 years after the brutal mafia attack that ca...</td>\n",
       "      <td>None</td>\n",
       "      <td>277</td>\n",
       "      <td>274</td>\n",
       "      <td>4874</td>\n",
       "      <td>141400</td>\n",
       "      <td>204</td>\n",
       "      <td>https://p16-sign-useast2a.tiktokcdn.com/tos-us...</td>\n",
       "      <td>1:12</td>\n",
       "    </tr>\n",
       "    <tr>\n",
       "      <th>4</th>\n",
       "      <td>2023-08-12 06:05:11</td>\n",
       "      <td>Salario minimo: punto stampa dopo l’incontro c...</td>\n",
       "      <td>7266312532665585000</td>\n",
       "      <td>{'authorName': 'Giorgia Meloni', 'coverLarge':...</td>\n",
       "      <td>{'bitrate': 1077066, 'bitrateInfo': [{'Bitrate...</td>\n",
       "      <td>None</td>\n",
       "      <td>None</td>\n",
       "      <td>Minimum wage: press point after the meeting wi...</td>\n",
       "      <td>None</td>\n",
       "      <td>2847</td>\n",
       "      <td>7144</td>\n",
       "      <td>52600</td>\n",
       "      <td>1800000</td>\n",
       "      <td>1388</td>\n",
       "      <td>https://p16-sign-useast2a.tiktokcdn.com/tos-us...</td>\n",
       "      <td>9:10</td>\n",
       "    </tr>\n",
       "    <tr>\n",
       "      <th>...</th>\n",
       "      <td>...</td>\n",
       "      <td>...</td>\n",
       "      <td>...</td>\n",
       "      <td>...</td>\n",
       "      <td>...</td>\n",
       "      <td>...</td>\n",
       "      <td>...</td>\n",
       "      <td>...</td>\n",
       "      <td>...</td>\n",
       "      <td>...</td>\n",
       "      <td>...</td>\n",
       "      <td>...</td>\n",
       "      <td>...</td>\n",
       "      <td>...</td>\n",
       "      <td>...</td>\n",
       "      <td>...</td>\n",
       "    </tr>\n",
       "    <tr>\n",
       "      <th>219</th>\n",
       "      <td>2022-02-20 17:31:35</td>\n",
       "      <td>Il risultato del #greenpass è stato solo quell...</td>\n",
       "      <td>7066845965105319000</td>\n",
       "      <td>{'authorName': 'Giorgia Meloni', 'coverLarge':...</td>\n",
       "      <td>{'bitrate': 998202, 'bitrateInfo': [{'Bitrate'...</td>\n",
       "      <td>greenpass</td>\n",
       "      <td>None</td>\n",
       "      <td>The result of the #greenpass was only to manag...</td>\n",
       "      <td>greenpass</td>\n",
       "      <td>2460</td>\n",
       "      <td>2020</td>\n",
       "      <td>54800</td>\n",
       "      <td>977100</td>\n",
       "      <td>4925</td>\n",
       "      <td>https://p16-sign-va.tiktokcdn.com/tos-maliva-p...</td>\n",
       "      <td>1:17</td>\n",
       "    </tr>\n",
       "    <tr>\n",
       "      <th>220</th>\n",
       "      <td>2022-02-18 17:00:34</td>\n",
       "      <td>Noi vogliamo difendere l’Italia 🇮🇹</td>\n",
       "      <td>7066095800291577000</td>\n",
       "      <td>{'authorName': 'Giorgia Meloni', 'coverLarge':...</td>\n",
       "      <td>{'bitrate': 710139, 'bitrateInfo': [{'Bitrate'...</td>\n",
       "      <td>None</td>\n",
       "      <td>None</td>\n",
       "      <td>We want to defend Italy 🇮🇹</td>\n",
       "      <td>None</td>\n",
       "      <td>30</td>\n",
       "      <td>41</td>\n",
       "      <td>2052</td>\n",
       "      <td>37700</td>\n",
       "      <td>37</td>\n",
       "      <td>https://p16-sign-va.tiktokcdn.com/tos-maliva-p...</td>\n",
       "      <td>0:60</td>\n",
       "    </tr>\n",
       "    <tr>\n",
       "      <th>221</th>\n",
       "      <td>2022-02-11 14:53:48</td>\n",
       "      <td>Sia chiaro a tutti: noi il governo con il PD e...</td>\n",
       "      <td>7063465536109235000</td>\n",
       "      <td>{'authorName': 'Giorgia Meloni', 'coverLarge':...</td>\n",
       "      <td>{'bitrate': 401098, 'bitrateInfo': [{'Bitrate'...</td>\n",
       "      <td>None</td>\n",
       "      <td>None</td>\n",
       "      <td>Let it be clear to everyone: we will never for...</td>\n",
       "      <td>None</td>\n",
       "      <td>22</td>\n",
       "      <td>40</td>\n",
       "      <td>1482</td>\n",
       "      <td>33000</td>\n",
       "      <td>21</td>\n",
       "      <td>https://p16-sign-va.tiktokcdn.com/tos-maliva-p...</td>\n",
       "      <td>3:00</td>\n",
       "    </tr>\n",
       "    <tr>\n",
       "      <th>222</th>\n",
       "      <td>2022-02-10 19:07:13</td>\n",
       "      <td>Cittadini e imprese schiacciati dalla crisi e ...</td>\n",
       "      <td>7063159758185827000</td>\n",
       "      <td>{'authorName': 'Giorgia Meloni', 'coverLarge':...</td>\n",
       "      <td>{'bitrate': 326414, 'bitrateInfo': [{'Bitrate'...</td>\n",
       "      <td>None</td>\n",
       "      <td>None</td>\n",
       "      <td>Citizens and businesses crushed by the crisis ...</td>\n",
       "      <td>None</td>\n",
       "      <td>28</td>\n",
       "      <td>202</td>\n",
       "      <td>2240</td>\n",
       "      <td>47300</td>\n",
       "      <td>126</td>\n",
       "      <td>https://p16-sign-va.tiktokcdn.com/tos-maliva-p...</td>\n",
       "      <td>2:19</td>\n",
       "    </tr>\n",
       "    <tr>\n",
       "      <th>223</th>\n",
       "      <td>2022-02-03 16:22:59</td>\n",
       "      <td>Non ci sto alla politica del “o ti adegui al s...</td>\n",
       "      <td>7060519835788250000</td>\n",
       "      <td>{'authorName': 'Giorgia Meloni', 'coverLarge':...</td>\n",
       "      <td>{'bitrate': 497794, 'bitrateInfo': [{'Bitrate'...</td>\n",
       "      <td>fratelliditalia</td>\n",
       "      <td>None</td>\n",
       "      <td>I don't subscribe to the \"either you adapt to ...</td>\n",
       "      <td>Brothers of Italy</td>\n",
       "      <td>96</td>\n",
       "      <td>352</td>\n",
       "      <td>4190</td>\n",
       "      <td>82700</td>\n",
       "      <td>340</td>\n",
       "      <td>https://p16-sign-va.tiktokcdn.com/tos-maliva-p...</td>\n",
       "      <td>1:15</td>\n",
       "    </tr>\n",
       "  </tbody>\n",
       "</table>\n",
       "<p>224 rows × 16 columns</p>\n",
       "</div>"
      ],
      "text/plain": [
       "             createTime                                               desc  \\\n",
       "0   2023-09-13 18:57:03  La mia intervista di questa sera a \"Cinque Min...   \n",
       "1   2023-09-12 16:05:41  Stiamo dando alla Nazione una strategia che no...   \n",
       "2   2023-09-11 09:02:24  Grazie India, complimenti per il successo del ...   \n",
       "3   2023-09-03 07:28:10  A 41 anni dal brutale attentato mafioso che ha...   \n",
       "4   2023-08-12 06:05:11  Salario minimo: punto stampa dopo l’incontro c...   \n",
       "..                  ...                                                ...   \n",
       "219 2022-02-20 17:31:35  Il risultato del #greenpass è stato solo quell...   \n",
       "220 2022-02-18 17:00:34                 Noi vogliamo difendere l’Italia 🇮🇹   \n",
       "221 2022-02-11 14:53:48  Sia chiaro a tutti: noi il governo con il PD e...   \n",
       "222 2022-02-10 19:07:13  Cittadini e imprese schiacciati dalla crisi e ...   \n",
       "223 2022-02-03 16:22:59  Non ci sto alla politica del “o ti adegui al s...   \n",
       "\n",
       "                      id                                              music  \\\n",
       "0    7278386520275373000  {'authorName': 'Giorgia Meloni', 'coverLarge':...   \n",
       "1    7277971263958666000  {'authorName': 'Giorgia Meloni', 'coverLarge':...   \n",
       "2    7277491085071388000  {'authorName': 'Giorgia Meloni', 'coverLarge':...   \n",
       "3    7274498125660704000  {'authorName': 'Giorgia Meloni', 'coverLarge':...   \n",
       "4    7266312532665585000  {'authorName': 'Giorgia Meloni', 'coverLarge':...   \n",
       "..                   ...                                                ...   \n",
       "219  7066845965105319000  {'authorName': 'Giorgia Meloni', 'coverLarge':...   \n",
       "220  7066095800291577000  {'authorName': 'Giorgia Meloni', 'coverLarge':...   \n",
       "221  7063465536109235000  {'authorName': 'Giorgia Meloni', 'coverLarge':...   \n",
       "222  7063159758185827000  {'authorName': 'Giorgia Meloni', 'coverLarge':...   \n",
       "223  7060519835788250000  {'authorName': 'Giorgia Meloni', 'coverLarge':...   \n",
       "\n",
       "                                                 video        textExtra  \\\n",
       "0    {'bitrate': 1178262, 'bitrateInfo': [{'Bitrate...             None   \n",
       "1    {'bitrate': 1021716, 'bitrateInfo': [{'Bitrate...             None   \n",
       "2    {'bitrate': 1374581, 'bitrateInfo': [{'Bitrate...              g20   \n",
       "3    {'bitrate': 627490, 'bitrateInfo': [{'Bitrate'...             None   \n",
       "4    {'bitrate': 1077066, 'bitrateInfo': [{'Bitrate...             None   \n",
       "..                                                 ...              ...   \n",
       "219  {'bitrate': 998202, 'bitrateInfo': [{'Bitrate'...        greenpass   \n",
       "220  {'bitrate': 710139, 'bitrateInfo': [{'Bitrate'...             None   \n",
       "221  {'bitrate': 401098, 'bitrateInfo': [{'Bitrate'...             None   \n",
       "222  {'bitrate': 326414, 'bitrateInfo': [{'Bitrate'...             None   \n",
       "223  {'bitrate': 497794, 'bitrateInfo': [{'Bitrate'...  fratelliditalia   \n",
       "\n",
       "    warnInfo                                            desc_en  \\\n",
       "0       None  My interview this evening on \"Cinque Minuti\", ...   \n",
       "1       None  We are giving the Nation a strategy that it ha...   \n",
       "2       None  Thank you India, congratulations on the succes...   \n",
       "3       None  41 years after the brutal mafia attack that ca...   \n",
       "4       None  Minimum wage: press point after the meeting wi...   \n",
       "..       ...                                                ...   \n",
       "219     None  The result of the #greenpass was only to manag...   \n",
       "220     None                         We want to defend Italy 🇮🇹   \n",
       "221     None  Let it be clear to everyone: we will never for...   \n",
       "222     None  Citizens and businesses crushed by the crisis ...   \n",
       "223     None  I don't subscribe to the \"either you adapt to ...   \n",
       "\n",
       "          textExtra_en  collectCount  commentCount  diggCount  playCount  \\\n",
       "0                 None           840          2669      14800     435800   \n",
       "1                 None          1050          6426      21200     622700   \n",
       "2                  g20           313           468       7158     137500   \n",
       "3                 None           277           274       4874     141400   \n",
       "4                 None          2847          7144      52600    1800000   \n",
       "..                 ...           ...           ...        ...        ...   \n",
       "219          greenpass          2460          2020      54800     977100   \n",
       "220               None            30            41       2052      37700   \n",
       "221               None            22            40       1482      33000   \n",
       "222               None            28           202       2240      47300   \n",
       "223  Brothers of Italy            96           352       4190      82700   \n",
       "\n",
       "     shareCount                                         coverImage duration  \n",
       "0           438  https://p16-sign-useast2a.tiktokcdn.com/tos-us...     5:17  \n",
       "1           598  https://p16-sign-useast2a.tiktokcdn.com/tos-us...     2:43  \n",
       "2           224  https://p16-sign-useast2a.tiktokcdn.com/tos-us...     1:27  \n",
       "3           204  https://p16-sign-useast2a.tiktokcdn.com/tos-us...     1:12  \n",
       "4          1388  https://p16-sign-useast2a.tiktokcdn.com/tos-us...     9:10  \n",
       "..          ...                                                ...      ...  \n",
       "219        4925  https://p16-sign-va.tiktokcdn.com/tos-maliva-p...     1:17  \n",
       "220          37  https://p16-sign-va.tiktokcdn.com/tos-maliva-p...     0:60  \n",
       "221          21  https://p16-sign-va.tiktokcdn.com/tos-maliva-p...     3:00  \n",
       "222         126  https://p16-sign-va.tiktokcdn.com/tos-maliva-p...     2:19  \n",
       "223         340  https://p16-sign-va.tiktokcdn.com/tos-maliva-p...     1:15  \n",
       "\n",
       "[224 rows x 16 columns]"
      ]
     },
     "execution_count": 20,
     "metadata": {},
     "output_type": "execute_result"
    }
   ],
   "source": [
    "def get_video_duration(filename):\n",
    "\n",
    "    video = cv2.VideoCapture(filename)\n",
    "\n",
    "    if video is None or not video.isOpened():\n",
    "       print('Warning: unable to open video source: ', filename)\n",
    "       return '###### VIDEO NOT FOUND ###########'\n",
    "\n",
    "    duration = video.get(cv2.CAP_PROP_POS_MSEC)\n",
    "    fps = video.get(cv2.CAP_PROP_FPS)      \n",
    "    frame_count = int(video.get(cv2.CAP_PROP_FRAME_COUNT))\n",
    "    duration = frame_count/fps\n",
    "\n",
    "    minutes = str(int(duration/60))\n",
    "    seconds = str(round(duration%60))\n",
    "    \n",
    "\n",
    "    duration_formatted = f'{minutes}:{seconds:02}' \n",
    "    video.release()\n",
    "    return duration_formatted\n",
    "\n",
    "videos_translated_df = pd.read_json(processed_dir + 'videos-translated.json', convert_dates=['createTime'])\n",
    "\n",
    "def add_duration(file_id):\n",
    "    file_name = processed_dir + 'videos/' + str(file_id) + '.mp4'\n",
    "    duration = get_video_duration(file_name)\n",
    "    \n",
    "    print(duration)\n",
    "    return duration\n",
    "\n",
    "videos_translated_df['duration'] = videos_translated_df.apply(lambda row: add_duration(row['video']['id']), axis=1)\n",
    "\n",
    "videos_translated_df.to_json(processed_dir + 'videos-translated-with-duration.json')\n",
    "videos_translated_df"
   ]
  },
  {
   "cell_type": "markdown",
   "metadata": {},
   "source": [
    "## Convert any Video Files to audio "
   ]
  },
  {
   "cell_type": "code",
   "execution_count": 15,
   "metadata": {},
   "outputs": [
    {
     "name": "stdout",
     "output_type": "stream",
     "text": [
      "224\n",
      "MoviePy - Writing audio in ../data/processed/audio/7144425341279341830.mp3\n"
     ]
    },
    {
     "name": "stderr",
     "output_type": "stream",
     "text": [
      "                                                                    \r"
     ]
    },
    {
     "name": "stdout",
     "output_type": "stream",
     "text": [
      "MoviePy - Done.\n",
      "MoviePy - Writing audio in ../data/processed/audio/7187471251794005254.mp3\n"
     ]
    },
    {
     "name": "stderr",
     "output_type": "stream",
     "text": [
      "                                                                      \r"
     ]
    },
    {
     "name": "stdout",
     "output_type": "stream",
     "text": [
      "MoviePy - Done.\n",
      "MoviePy - Writing audio in ../data/processed/audio/7145754357013777670.mp3\n"
     ]
    },
    {
     "name": "stderr",
     "output_type": "stream",
     "text": [
      "                                                                      \r"
     ]
    },
    {
     "name": "stdout",
     "output_type": "stream",
     "text": [
      "MoviePy - Done.\n",
      "MoviePy - Writing audio in ../data/processed/audio/7158424452286401797.mp3\n"
     ]
    },
    {
     "name": "stderr",
     "output_type": "stream",
     "text": [
      "                                                                      \r"
     ]
    },
    {
     "name": "stdout",
     "output_type": "stream",
     "text": [
      "MoviePy - Done.\n",
      "MoviePy - Writing audio in ../data/processed/audio/7277971263958666529.mp3\n"
     ]
    },
    {
     "name": "stderr",
     "output_type": "stream",
     "text": [
      "                                                                      \r"
     ]
    },
    {
     "name": "stdout",
     "output_type": "stream",
     "text": [
      "MoviePy - Done.\n",
      "MoviePy - Writing audio in ../data/processed/audio/7092798207511612678.mp3\n"
     ]
    },
    {
     "name": "stderr",
     "output_type": "stream",
     "text": [
      "                                                                      \r"
     ]
    },
    {
     "name": "stdout",
     "output_type": "stream",
     "text": [
      "MoviePy - Done.\n",
      "MoviePy - Writing audio in ../data/processed/audio/7244545854739172635.mp3\n"
     ]
    },
    {
     "name": "stderr",
     "output_type": "stream",
     "text": [
      "                                                                      \r"
     ]
    },
    {
     "name": "stdout",
     "output_type": "stream",
     "text": [
      "MoviePy - Done.\n",
      "MoviePy - Writing audio in ../data/processed/audio/7206775485903260933.mp3\n"
     ]
    },
    {
     "name": "stderr",
     "output_type": "stream",
     "text": [
      "                                                                      \r"
     ]
    },
    {
     "name": "stdout",
     "output_type": "stream",
     "text": [
      "MoviePy - Done.\n",
      "MoviePy - Writing audio in ../data/processed/audio/7233290952285244698.mp3\n"
     ]
    },
    {
     "name": "stderr",
     "output_type": "stream",
     "text": [
      "                                                                      \r"
     ]
    },
    {
     "name": "stdout",
     "output_type": "stream",
     "text": [
      "MoviePy - Done.\n",
      "MoviePy - Writing audio in ../data/processed/audio/7164382552751394053.mp3\n"
     ]
    },
    {
     "name": "stderr",
     "output_type": "stream",
     "text": [
      "                                                                    \r"
     ]
    },
    {
     "name": "stdout",
     "output_type": "stream",
     "text": [
      "MoviePy - Done.\n",
      "MoviePy - Writing audio in ../data/processed/audio/7228211560240467227.mp3\n"
     ]
    },
    {
     "name": "stderr",
     "output_type": "stream",
     "text": [
      "                                                                      \r"
     ]
    },
    {
     "name": "stdout",
     "output_type": "stream",
     "text": [
      "MoviePy - Done.\n",
      "MoviePy - Writing audio in ../data/processed/audio/7128429765639343366.mp3\n"
     ]
    },
    {
     "name": "stderr",
     "output_type": "stream",
     "text": [
      "                                                                      \r"
     ]
    },
    {
     "name": "stdout",
     "output_type": "stream",
     "text": [
      "MoviePy - Done.\n",
      "MoviePy - Writing audio in ../data/processed/audio/7182913772271521030.mp3\n"
     ]
    },
    {
     "name": "stderr",
     "output_type": "stream",
     "text": [
      "                                                                      \r"
     ]
    },
    {
     "name": "stdout",
     "output_type": "stream",
     "text": [
      "MoviePy - Done.\n",
      "MoviePy - Writing audio in ../data/processed/audio/7137577046552726790.mp3\n"
     ]
    },
    {
     "name": "stderr",
     "output_type": "stream",
     "text": [
      "                                                                      \r"
     ]
    },
    {
     "name": "stdout",
     "output_type": "stream",
     "text": [
      "MoviePy - Done.\n",
      "MoviePy - Writing audio in ../data/processed/audio/7138094156332715270.mp3\n"
     ]
    },
    {
     "name": "stderr",
     "output_type": "stream",
     "text": [
      "                                                                    \r"
     ]
    },
    {
     "name": "stdout",
     "output_type": "stream",
     "text": [
      "MoviePy - Done.\n",
      "MoviePy - Writing audio in ../data/processed/audio/7137699360111938822.mp3\n"
     ]
    },
    {
     "name": "stderr",
     "output_type": "stream",
     "text": [
      "                                                                    \r"
     ]
    },
    {
     "name": "stdout",
     "output_type": "stream",
     "text": [
      "MoviePy - Done.\n",
      "MoviePy - Writing audio in ../data/processed/audio/7136469259756031237.mp3\n"
     ]
    },
    {
     "name": "stderr",
     "output_type": "stream",
     "text": [
      "                                                                      \r"
     ]
    },
    {
     "name": "stdout",
     "output_type": "stream",
     "text": [
      "MoviePy - Done.\n",
      "MoviePy - Writing audio in ../data/processed/audio/7222341088596610309.mp3\n"
     ]
    },
    {
     "name": "stderr",
     "output_type": "stream",
     "text": [
      "                                                                      \r"
     ]
    },
    {
     "name": "stdout",
     "output_type": "stream",
     "text": [
      "MoviePy - Done.\n",
      "MoviePy - Writing audio in ../data/processed/audio/7183669325126012166.mp3\n"
     ]
    },
    {
     "name": "stderr",
     "output_type": "stream",
     "text": [
      "                                                                      \r"
     ]
    },
    {
     "name": "stdout",
     "output_type": "stream",
     "text": [
      "MoviePy - Done.\n",
      "MoviePy - Writing audio in ../data/processed/audio/7145877683740658949.mp3\n"
     ]
    },
    {
     "name": "stderr",
     "output_type": "stream",
     "text": [
      "                                                                    \r"
     ]
    },
    {
     "name": "stdout",
     "output_type": "stream",
     "text": [
      "MoviePy - Done.\n",
      "MoviePy - Writing audio in ../data/processed/audio/7147206448232074502.mp3\n"
     ]
    },
    {
     "name": "stderr",
     "output_type": "stream",
     "text": [
      "                                                                    \r"
     ]
    },
    {
     "name": "stdout",
     "output_type": "stream",
     "text": [
      "MoviePy - Done.\n",
      "MoviePy - Writing audio in ../data/processed/audio/7156890275317632262.mp3\n"
     ]
    },
    {
     "name": "stderr",
     "output_type": "stream",
     "text": [
      "                                                                      \r"
     ]
    },
    {
     "name": "stdout",
     "output_type": "stream",
     "text": [
      "MoviePy - Done.\n",
      "MoviePy - Writing audio in ../data/processed/audio/7066095800291577093.mp3\n"
     ]
    },
    {
     "name": "stderr",
     "output_type": "stream",
     "text": [
      "                                                        \r"
     ]
    },
    {
     "name": "stdout",
     "output_type": "stream",
     "text": [
      "MoviePy - Done.\n",
      "MoviePy - Writing audio in ../data/processed/audio/7140683479053831429.mp3\n"
     ]
    },
    {
     "name": "stderr",
     "output_type": "stream",
     "text": [
      "                                                                    \r"
     ]
    },
    {
     "name": "stdout",
     "output_type": "stream",
     "text": [
      "MoviePy - Done.\n",
      "MoviePy - Writing audio in ../data/processed/audio/7145360998407425285.mp3\n"
     ]
    },
    {
     "name": "stderr",
     "output_type": "stream",
     "text": [
      "                                                                      \r"
     ]
    },
    {
     "name": "stdout",
     "output_type": "stream",
     "text": [
      "MoviePy - Done.\n",
      "MoviePy - Writing audio in ../data/processed/audio/7204931077029268741.mp3\n"
     ]
    },
    {
     "name": "stderr",
     "output_type": "stream",
     "text": [
      "                                                                      \r"
     ]
    },
    {
     "name": "stdout",
     "output_type": "stream",
     "text": [
      "MoviePy - Done.\n",
      "MoviePy - Writing audio in ../data/processed/audio/7161412406495694086.mp3\n"
     ]
    },
    {
     "name": "stderr",
     "output_type": "stream",
     "text": [
      "                                                                      \r"
     ]
    },
    {
     "name": "stdout",
     "output_type": "stream",
     "text": [
      "MoviePy - Done.\n",
      "MoviePy - Writing audio in ../data/processed/audio/7109083244611587333.mp3\n"
     ]
    },
    {
     "name": "stderr",
     "output_type": "stream",
     "text": [
      "                                                                      \r"
     ]
    },
    {
     "name": "stdout",
     "output_type": "stream",
     "text": [
      "MoviePy - Done.\n",
      "MoviePy - Writing audio in ../data/processed/audio/7143225656137075974.mp3\n"
     ]
    },
    {
     "name": "stderr",
     "output_type": "stream",
     "text": [
      "                                                                     \r"
     ]
    },
    {
     "name": "stdout",
     "output_type": "stream",
     "text": [
      "MoviePy - Done.\n",
      "MoviePy - Writing audio in ../data/processed/audio/7139418655879744774.mp3\n"
     ]
    },
    {
     "name": "stderr",
     "output_type": "stream",
     "text": [
      "                                                                    \r"
     ]
    },
    {
     "name": "stdout",
     "output_type": "stream",
     "text": [
      "MoviePy - Done.\n",
      "MoviePy - Writing audio in ../data/processed/audio/7070073900100521222.mp3\n"
     ]
    },
    {
     "name": "stderr",
     "output_type": "stream",
     "text": [
      "                                                                      \r"
     ]
    },
    {
     "name": "stdout",
     "output_type": "stream",
     "text": [
      "MoviePy - Done.\n",
      "MoviePy - Writing audio in ../data/processed/audio/7147263913200045317.mp3\n"
     ]
    },
    {
     "name": "stderr",
     "output_type": "stream",
     "text": [
      "                                                        \r"
     ]
    },
    {
     "name": "stdout",
     "output_type": "stream",
     "text": [
      "MoviePy - Done.\n",
      "MoviePy - Writing audio in ../data/processed/audio/7265735771271728416.mp3\n"
     ]
    },
    {
     "name": "stderr",
     "output_type": "stream",
     "text": [
      "                                                                      \r"
     ]
    },
    {
     "name": "stdout",
     "output_type": "stream",
     "text": [
      "MoviePy - Done.\n",
      "MoviePy - Writing audio in ../data/processed/audio/7136548859093863685.mp3\n"
     ]
    },
    {
     "name": "stderr",
     "output_type": "stream",
     "text": [
      "                                                                    \r"
     ]
    },
    {
     "name": "stdout",
     "output_type": "stream",
     "text": [
      "MoviePy - Done.\n",
      "MoviePy - Writing audio in ../data/processed/audio/7107893116505492741.mp3\n"
     ]
    },
    {
     "name": "stderr",
     "output_type": "stream",
     "text": [
      "                                                                      \r"
     ]
    },
    {
     "name": "stdout",
     "output_type": "stream",
     "text": [
      "MoviePy - Done.\n",
      "MoviePy - Writing audio in ../data/processed/audio/7240155848205454619.mp3\n"
     ]
    },
    {
     "name": "stderr",
     "output_type": "stream",
     "text": [
      "                                                                      \r"
     ]
    },
    {
     "name": "stdout",
     "output_type": "stream",
     "text": [
      "MoviePy - Done.\n",
      "MoviePy - Writing audio in ../data/processed/audio/7216766115110735109.mp3\n"
     ]
    },
    {
     "name": "stderr",
     "output_type": "stream",
     "text": [
      "                                                                      \r"
     ]
    },
    {
     "name": "stdout",
     "output_type": "stream",
     "text": [
      "MoviePy - Done.\n",
      "MoviePy - Writing audio in ../data/processed/audio/7243739642934201626.mp3\n"
     ]
    },
    {
     "name": "stderr",
     "output_type": "stream",
     "text": [
      "                                                                      \r"
     ]
    },
    {
     "name": "stdout",
     "output_type": "stream",
     "text": [
      "MoviePy - Done.\n",
      "MoviePy - Writing audio in ../data/processed/audio/7174007223310372101.mp3\n"
     ]
    },
    {
     "name": "stderr",
     "output_type": "stream",
     "text": [
      "                                                                      \r"
     ]
    },
    {
     "name": "stdout",
     "output_type": "stream",
     "text": [
      "MoviePy - Done.\n",
      "MoviePy - Writing audio in ../data/processed/audio/7136459590434147590.mp3\n"
     ]
    },
    {
     "name": "stderr",
     "output_type": "stream",
     "text": [
      "                                                                    \r"
     ]
    },
    {
     "name": "stdout",
     "output_type": "stream",
     "text": [
      "MoviePy - Done.\n",
      "MoviePy - Writing audio in ../data/processed/audio/7206044310301592837.mp3\n"
     ]
    },
    {
     "name": "stderr",
     "output_type": "stream",
     "text": [
      "                                                                     \r"
     ]
    },
    {
     "name": "stdout",
     "output_type": "stream",
     "text": [
      "MoviePy - Done.\n",
      "MoviePy - Writing audio in ../data/processed/audio/7094669289294220549.mp3\n"
     ]
    },
    {
     "name": "stderr",
     "output_type": "stream",
     "text": [
      "                                                                      \r"
     ]
    },
    {
     "name": "stdout",
     "output_type": "stream",
     "text": [
      "MoviePy - Done.\n",
      "MoviePy - Writing audio in ../data/processed/audio/7081255304721075461.mp3\n"
     ]
    },
    {
     "name": "stderr",
     "output_type": "stream",
     "text": [
      "                                                                      \r"
     ]
    },
    {
     "name": "stdout",
     "output_type": "stream",
     "text": [
      "MoviePy - Done.\n",
      "MoviePy - Writing audio in ../data/processed/audio/7189709267392318725.mp3\n"
     ]
    },
    {
     "name": "stderr",
     "output_type": "stream",
     "text": [
      "                                                                      \r"
     ]
    },
    {
     "name": "stdout",
     "output_type": "stream",
     "text": [
      "MoviePy - Done.\n",
      "MoviePy - Writing audio in ../data/processed/audio/7227372741660282138.mp3\n"
     ]
    },
    {
     "name": "stderr",
     "output_type": "stream",
     "text": [
      "                                                                      \r"
     ]
    },
    {
     "name": "stdout",
     "output_type": "stream",
     "text": [
      "MoviePy - Done.\n",
      "MoviePy - Writing audio in ../data/processed/audio/7180307547616742662.mp3\n"
     ]
    },
    {
     "name": "stderr",
     "output_type": "stream",
     "text": [
      "                                                                        \r"
     ]
    },
    {
     "name": "stdout",
     "output_type": "stream",
     "text": [
      "MoviePy - Done.\n",
      "MoviePy - Writing audio in ../data/processed/audio/7145435366529551621.mp3\n"
     ]
    },
    {
     "name": "stderr",
     "output_type": "stream",
     "text": [
      "                                                                      \r"
     ]
    },
    {
     "name": "stdout",
     "output_type": "stream",
     "text": [
      "MoviePy - Done.\n",
      "MoviePy - Writing audio in ../data/processed/audio/7067167670214331654.mp3\n"
     ]
    },
    {
     "name": "stderr",
     "output_type": "stream",
     "text": [
      "                                                                    \r"
     ]
    },
    {
     "name": "stdout",
     "output_type": "stream",
     "text": [
      "MoviePy - Done.\n",
      "MoviePy - Writing audio in ../data/processed/audio/7143285004917935365.mp3\n"
     ]
    },
    {
     "name": "stderr",
     "output_type": "stream",
     "text": [
      "                                                                    \r"
     ]
    },
    {
     "name": "stdout",
     "output_type": "stream",
     "text": [
      "MoviePy - Done.\n",
      "MoviePy - Writing audio in ../data/processed/audio/7237568877436177690.mp3\n"
     ]
    },
    {
     "name": "stderr",
     "output_type": "stream",
     "text": [
      "                                                                    \r"
     ]
    },
    {
     "name": "stdout",
     "output_type": "stream",
     "text": [
      "MoviePy - Done.\n",
      "MoviePy - Writing audio in ../data/processed/audio/7198571880997981445.mp3\n"
     ]
    },
    {
     "name": "stderr",
     "output_type": "stream",
     "text": [
      "                                                                      \r"
     ]
    },
    {
     "name": "stdout",
     "output_type": "stream",
     "text": [
      "MoviePy - Done.\n",
      "MoviePy - Writing audio in ../data/processed/audio/7211143983282588934.mp3\n"
     ]
    },
    {
     "name": "stderr",
     "output_type": "stream",
     "text": [
      "                                                                      \r"
     ]
    },
    {
     "name": "stdout",
     "output_type": "stream",
     "text": [
      "MoviePy - Done.\n",
      "MoviePy - Writing audio in ../data/processed/audio/7135145359629634822.mp3\n"
     ]
    },
    {
     "name": "stderr",
     "output_type": "stream",
     "text": [
      "                                                        \r"
     ]
    },
    {
     "name": "stdout",
     "output_type": "stream",
     "text": [
      "MoviePy - Done.\n",
      "MoviePy - Writing audio in ../data/processed/audio/7247012477228076314.mp3\n"
     ]
    },
    {
     "name": "stderr",
     "output_type": "stream",
     "text": [
      "                                                        \r"
     ]
    },
    {
     "name": "stdout",
     "output_type": "stream",
     "text": [
      "MoviePy - Done.\n",
      "MoviePy - Writing audio in ../data/processed/audio/7182877365171801349.mp3\n"
     ]
    },
    {
     "name": "stderr",
     "output_type": "stream",
     "text": [
      "                                                                      \r"
     ]
    },
    {
     "name": "stdout",
     "output_type": "stream",
     "text": [
      "MoviePy - Done.\n",
      "MoviePy - Writing audio in ../data/processed/audio/7137360677756325126.mp3\n"
     ]
    },
    {
     "name": "stderr",
     "output_type": "stream",
     "text": [
      "                                                                    \r"
     ]
    },
    {
     "name": "stdout",
     "output_type": "stream",
     "text": [
      "MoviePy - Done.\n",
      "MoviePy - Writing audio in ../data/processed/audio/7161896989863709958.mp3\n"
     ]
    },
    {
     "name": "stderr",
     "output_type": "stream",
     "text": [
      "                                                                      \r"
     ]
    },
    {
     "name": "stdout",
     "output_type": "stream",
     "text": [
      "MoviePy - Done.\n",
      "MoviePy - Writing audio in ../data/processed/audio/7092750010739215621.mp3\n"
     ]
    },
    {
     "name": "stderr",
     "output_type": "stream",
     "text": [
      "                                                                    \r"
     ]
    },
    {
     "name": "stdout",
     "output_type": "stream",
     "text": [
      "MoviePy - Done.\n",
      "MoviePy - Writing audio in ../data/processed/audio/7078649936128003334.mp3\n"
     ]
    },
    {
     "name": "stderr",
     "output_type": "stream",
     "text": [
      "                                                                    \r"
     ]
    },
    {
     "name": "stdout",
     "output_type": "stream",
     "text": [
      "MoviePy - Done.\n",
      "MoviePy - Writing audio in ../data/processed/audio/7178948277834992901.mp3\n"
     ]
    },
    {
     "name": "stderr",
     "output_type": "stream",
     "text": [
      "                                                                      \r"
     ]
    },
    {
     "name": "stdout",
     "output_type": "stream",
     "text": [
      "MoviePy - Done.\n",
      "MoviePy - Writing audio in ../data/processed/audio/7092832806765612293.mp3\n"
     ]
    },
    {
     "name": "stderr",
     "output_type": "stream",
     "text": [
      "                                                                      \r"
     ]
    },
    {
     "name": "stdout",
     "output_type": "stream",
     "text": [
      "MoviePy - Done.\n",
      "MoviePy - Writing audio in ../data/processed/audio/7140316758455454982.mp3\n"
     ]
    },
    {
     "name": "stderr",
     "output_type": "stream",
     "text": [
      "                                                                    \r"
     ]
    },
    {
     "name": "stdout",
     "output_type": "stream",
     "text": [
      "MoviePy - Done.\n",
      "MoviePy - Writing audio in ../data/processed/audio/7136118025811479814.mp3\n"
     ]
    },
    {
     "name": "stderr",
     "output_type": "stream",
     "text": [
      "                                                                      \r"
     ]
    },
    {
     "name": "stdout",
     "output_type": "stream",
     "text": [
      "MoviePy - Done.\n",
      "MoviePy - Writing audio in ../data/processed/audio/7241634208106515738.mp3\n"
     ]
    },
    {
     "name": "stderr",
     "output_type": "stream",
     "text": [
      "                                                                      \r"
     ]
    },
    {
     "name": "stdout",
     "output_type": "stream",
     "text": [
      "MoviePy - Done.\n",
      "MoviePy - Writing audio in ../data/processed/audio/7188187795985272069.mp3\n"
     ]
    },
    {
     "name": "stderr",
     "output_type": "stream",
     "text": [
      "                                                                    \r"
     ]
    },
    {
     "name": "stdout",
     "output_type": "stream",
     "text": [
      "MoviePy - Done.\n",
      "MoviePy - Writing audio in ../data/processed/audio/7092732219587874053.mp3\n"
     ]
    },
    {
     "name": "stderr",
     "output_type": "stream",
     "text": [
      "                                                                    \r"
     ]
    },
    {
     "name": "stdout",
     "output_type": "stream",
     "text": [
      "MoviePy - Done.\n",
      "MoviePy - Writing audio in ../data/processed/audio/7143551183792164102.mp3\n"
     ]
    },
    {
     "name": "stderr",
     "output_type": "stream",
     "text": [
      "                                                                    \r"
     ]
    },
    {
     "name": "stdout",
     "output_type": "stream",
     "text": [
      "MoviePy - Done.\n",
      "MoviePy - Writing audio in ../data/processed/audio/7092292016104606982.mp3\n"
     ]
    },
    {
     "name": "stderr",
     "output_type": "stream",
     "text": [
      "                                                                      \r"
     ]
    },
    {
     "name": "stdout",
     "output_type": "stream",
     "text": [
      "MoviePy - Done.\n",
      "MoviePy - Writing audio in ../data/processed/audio/7160592391194299654.mp3\n"
     ]
    },
    {
     "name": "stderr",
     "output_type": "stream",
     "text": [
      "                                                                      \r"
     ]
    },
    {
     "name": "stdout",
     "output_type": "stream",
     "text": [
      "MoviePy - Done.\n",
      "MoviePy - Writing audio in ../data/processed/audio/7170424345486036229.mp3\n"
     ]
    },
    {
     "name": "stderr",
     "output_type": "stream",
     "text": [
      "                                                                     \r"
     ]
    },
    {
     "name": "stdout",
     "output_type": "stream",
     "text": [
      "MoviePy - Done.\n",
      "MoviePy - Writing audio in ../data/processed/audio/7063465536109235461.mp3\n"
     ]
    },
    {
     "name": "stderr",
     "output_type": "stream",
     "text": [
      "                                                                      \r"
     ]
    },
    {
     "name": "stdout",
     "output_type": "stream",
     "text": [
      "MoviePy - Done.\n",
      "MoviePy - Writing audio in ../data/processed/audio/7146265492234292486.mp3\n"
     ]
    },
    {
     "name": "stderr",
     "output_type": "stream",
     "text": [
      "                                                                     \r"
     ]
    },
    {
     "name": "stdout",
     "output_type": "stream",
     "text": [
      "MoviePy - Done.\n",
      "MoviePy - Writing audio in ../data/processed/audio/7178163802578455813.mp3\n"
     ]
    },
    {
     "name": "stderr",
     "output_type": "stream",
     "text": [
      "                                                                    \r"
     ]
    },
    {
     "name": "stdout",
     "output_type": "stream",
     "text": [
      "MoviePy - Done.\n",
      "MoviePy - Writing audio in ../data/processed/audio/7143251423474502917.mp3\n"
     ]
    },
    {
     "name": "stderr",
     "output_type": "stream",
     "text": [
      "                                                                    \r"
     ]
    },
    {
     "name": "stdout",
     "output_type": "stream",
     "text": [
      "MoviePy - Done.\n",
      "MoviePy - Writing audio in ../data/processed/audio/7073752853965262086.mp3\n"
     ]
    },
    {
     "name": "stderr",
     "output_type": "stream",
     "text": [
      "                                                                      \r"
     ]
    },
    {
     "name": "stdout",
     "output_type": "stream",
     "text": [
      "MoviePy - Done.\n",
      "MoviePy - Writing audio in ../data/processed/audio/7257581884450917659.mp3\n"
     ]
    },
    {
     "name": "stderr",
     "output_type": "stream",
     "text": [
      "                                                                    \r"
     ]
    },
    {
     "name": "stdout",
     "output_type": "stream",
     "text": [
      "MoviePy - Done.\n",
      "MoviePy - Writing audio in ../data/processed/audio/7144295242039037190.mp3\n"
     ]
    },
    {
     "name": "stderr",
     "output_type": "stream",
     "text": [
      "                                                                      \r"
     ]
    },
    {
     "name": "stdout",
     "output_type": "stream",
     "text": [
      "MoviePy - Done.\n",
      "MoviePy - Writing audio in ../data/processed/audio/7141788005320150277.mp3\n"
     ]
    },
    {
     "name": "stderr",
     "output_type": "stream",
     "text": [
      "                                                                    \r"
     ]
    },
    {
     "name": "stdout",
     "output_type": "stream",
     "text": [
      "MoviePy - Done.\n",
      "MoviePy - Writing audio in ../data/processed/audio/7066845965105319173.mp3\n"
     ]
    },
    {
     "name": "stderr",
     "output_type": "stream",
     "text": [
      "                                                                      \r"
     ]
    },
    {
     "name": "stdout",
     "output_type": "stream",
     "text": [
      "MoviePy - Done.\n",
      "MoviePy - Writing audio in ../data/processed/audio/7166251050142420230.mp3\n"
     ]
    },
    {
     "name": "stderr",
     "output_type": "stream",
     "text": [
      "                                                                    \r"
     ]
    },
    {
     "name": "stdout",
     "output_type": "stream",
     "text": [
      "MoviePy - Done.\n",
      "MoviePy - Writing audio in ../data/processed/audio/7205257187130674437.mp3\n"
     ]
    },
    {
     "name": "stderr",
     "output_type": "stream",
     "text": [
      "                                                                      \r"
     ]
    },
    {
     "name": "stdout",
     "output_type": "stream",
     "text": [
      "MoviePy - Done.\n",
      "MoviePy - Writing audio in ../data/processed/audio/7113843601427139846.mp3\n"
     ]
    },
    {
     "name": "stderr",
     "output_type": "stream",
     "text": [
      "                                                                      \r"
     ]
    },
    {
     "name": "stdout",
     "output_type": "stream",
     "text": [
      "MoviePy - Done.\n",
      "MoviePy - Writing audio in ../data/processed/audio/7122815617337494789.mp3\n"
     ]
    },
    {
     "name": "stderr",
     "output_type": "stream",
     "text": [
      "                                                                      \r"
     ]
    },
    {
     "name": "stdout",
     "output_type": "stream",
     "text": [
      "MoviePy - Done.\n",
      "MoviePy - Writing audio in ../data/processed/audio/7168946059706764550.mp3\n"
     ]
    },
    {
     "name": "stderr",
     "output_type": "stream",
     "text": [
      "                                                                        \r"
     ]
    },
    {
     "name": "stdout",
     "output_type": "stream",
     "text": [
      "MoviePy - Done.\n",
      "MoviePy - Writing audio in ../data/processed/audio/7176657919654579462.mp3\n"
     ]
    },
    {
     "name": "stderr",
     "output_type": "stream",
     "text": [
      "                                                                      \r"
     ]
    },
    {
     "name": "stdout",
     "output_type": "stream",
     "text": [
      "MoviePy - Done.\n",
      "MoviePy - Writing audio in ../data/processed/audio/7177049020412513542.mp3\n"
     ]
    },
    {
     "name": "stderr",
     "output_type": "stream",
     "text": [
      "                                                                      \r"
     ]
    },
    {
     "name": "stdout",
     "output_type": "stream",
     "text": [
      "MoviePy - Done.\n",
      "MoviePy - Writing audio in ../data/processed/audio/7232366148258417946.mp3\n"
     ]
    },
    {
     "name": "stderr",
     "output_type": "stream",
     "text": [
      "                                                                      \r"
     ]
    },
    {
     "name": "stdout",
     "output_type": "stream",
     "text": [
      "MoviePy - Done.\n",
      "MoviePy - Writing audio in ../data/processed/audio/7137367409882582277.mp3\n"
     ]
    },
    {
     "name": "stderr",
     "output_type": "stream",
     "text": [
      "                                                        \r"
     ]
    },
    {
     "name": "stdout",
     "output_type": "stream",
     "text": [
      "MoviePy - Done.\n",
      "MoviePy - Writing audio in ../data/processed/audio/7221065295304117509.mp3\n"
     ]
    },
    {
     "name": "stderr",
     "output_type": "stream",
     "text": [
      "                                                                      \r"
     ]
    },
    {
     "name": "stdout",
     "output_type": "stream",
     "text": [
      "MoviePy - Done.\n",
      "MoviePy - Writing audio in ../data/processed/audio/7223471702020246810.mp3\n"
     ]
    },
    {
     "name": "stderr",
     "output_type": "stream",
     "text": [
      "                                                                      \r"
     ]
    },
    {
     "name": "stdout",
     "output_type": "stream",
     "text": [
      "MoviePy - Done.\n",
      "MoviePy - Writing audio in ../data/processed/audio/7157692146278075654.mp3\n"
     ]
    },
    {
     "name": "stderr",
     "output_type": "stream",
     "text": [
      "                                                                      \r"
     ]
    },
    {
     "name": "stdout",
     "output_type": "stream",
     "text": [
      "MoviePy - Done.\n",
      "MoviePy - Writing audio in ../data/processed/audio/7133129347828944134.mp3\n"
     ]
    },
    {
     "name": "stderr",
     "output_type": "stream",
     "text": [
      "                                                                      \r"
     ]
    },
    {
     "name": "stdout",
     "output_type": "stream",
     "text": [
      "MoviePy - Done.\n",
      "MoviePy - Writing audio in ../data/processed/audio/7215590061742591259.mp3\n"
     ]
    },
    {
     "name": "stderr",
     "output_type": "stream",
     "text": [
      "                                                                     \r"
     ]
    },
    {
     "name": "stdout",
     "output_type": "stream",
     "text": [
      "MoviePy - Done.\n",
      "MoviePy - Writing audio in ../data/processed/audio/7238958663094865178.mp3\n"
     ]
    },
    {
     "name": "stderr",
     "output_type": "stream",
     "text": [
      "                                                                      \r"
     ]
    },
    {
     "name": "stdout",
     "output_type": "stream",
     "text": [
      "MoviePy - Done.\n",
      "MoviePy - Writing audio in ../data/processed/audio/7234480028908555547.mp3\n"
     ]
    },
    {
     "name": "stderr",
     "output_type": "stream",
     "text": [
      "                                                                      \r"
     ]
    },
    {
     "name": "stdout",
     "output_type": "stream",
     "text": [
      "MoviePy - Done.\n",
      "MoviePy - Writing audio in ../data/processed/audio/7138307731299028230.mp3\n"
     ]
    },
    {
     "name": "stderr",
     "output_type": "stream",
     "text": [
      "                                                                      \r"
     ]
    },
    {
     "name": "stdout",
     "output_type": "stream",
     "text": [
      "MoviePy - Done.\n",
      "MoviePy - Writing audio in ../data/processed/audio/7138364518136122629.mp3\n"
     ]
    },
    {
     "name": "stderr",
     "output_type": "stream",
     "text": [
      "                                                                      \r"
     ]
    },
    {
     "name": "stdout",
     "output_type": "stream",
     "text": [
      "MoviePy - Done.\n",
      "MoviePy - Writing audio in ../data/processed/audio/7176318412900027654.mp3\n"
     ]
    },
    {
     "name": "stderr",
     "output_type": "stream",
     "text": [
      "                                                                      \r"
     ]
    },
    {
     "name": "stdout",
     "output_type": "stream",
     "text": [
      "MoviePy - Done.\n",
      "MoviePy - Writing audio in ../data/processed/audio/7092079134247046405.mp3\n"
     ]
    },
    {
     "name": "stderr",
     "output_type": "stream",
     "text": [
      "                                                                    \r"
     ]
    },
    {
     "name": "stdout",
     "output_type": "stream",
     "text": [
      "MoviePy - Done.\n",
      "MoviePy - Writing audio in ../data/processed/audio/7210840206986071301.mp3\n"
     ]
    },
    {
     "name": "stderr",
     "output_type": "stream",
     "text": [
      "                                                                      \r"
     ]
    },
    {
     "name": "stdout",
     "output_type": "stream",
     "text": [
      "MoviePy - Done.\n",
      "MoviePy - Writing audio in ../data/processed/audio/7142918656551423237.mp3\n"
     ]
    },
    {
     "name": "stderr",
     "output_type": "stream",
     "text": [
      "                                                                    \r"
     ]
    },
    {
     "name": "stdout",
     "output_type": "stream",
     "text": [
      "MoviePy - Done.\n",
      "MoviePy - Writing audio in ../data/processed/audio/7178782554814811397.mp3\n"
     ]
    },
    {
     "name": "stderr",
     "output_type": "stream",
     "text": [
      "                                                                      \r"
     ]
    },
    {
     "name": "stdout",
     "output_type": "stream",
     "text": [
      "MoviePy - Done.\n",
      "MoviePy - Writing audio in ../data/processed/audio/7106933742027001093.mp3\n"
     ]
    },
    {
     "name": "stderr",
     "output_type": "stream",
     "text": [
      "                                                                    \r"
     ]
    },
    {
     "name": "stdout",
     "output_type": "stream",
     "text": [
      "MoviePy - Done.\n",
      "MoviePy - Writing audio in ../data/processed/audio/7070475423716543749.mp3\n"
     ]
    },
    {
     "name": "stderr",
     "output_type": "stream",
     "text": [
      "                                                                      \r"
     ]
    },
    {
     "name": "stdout",
     "output_type": "stream",
     "text": [
      "MoviePy - Done.\n",
      "MoviePy - Writing audio in ../data/processed/audio/7140955700699696390.mp3\n"
     ]
    },
    {
     "name": "stderr",
     "output_type": "stream",
     "text": [
      "                                                                      \r"
     ]
    },
    {
     "name": "stdout",
     "output_type": "stream",
     "text": [
      "MoviePy - Done.\n",
      "MoviePy - Writing audio in ../data/processed/audio/7116559793489267973.mp3\n"
     ]
    },
    {
     "name": "stderr",
     "output_type": "stream",
     "text": [
      "                                                                    \r"
     ]
    },
    {
     "name": "stdout",
     "output_type": "stream",
     "text": [
      "MoviePy - Done.\n",
      "MoviePy - Writing audio in ../data/processed/audio/7143163842665663749.mp3\n"
     ]
    },
    {
     "name": "stderr",
     "output_type": "stream",
     "text": [
      "                                                                    \r"
     ]
    },
    {
     "name": "stdout",
     "output_type": "stream",
     "text": [
      "MoviePy - Done.\n",
      "MoviePy - Writing audio in ../data/processed/audio/7226821746425466139.mp3\n"
     ]
    },
    {
     "name": "stderr",
     "output_type": "stream",
     "text": [
      "                                                                      \r"
     ]
    },
    {
     "name": "stdout",
     "output_type": "stream",
     "text": [
      "MoviePy - Done.\n",
      "MoviePy - Writing audio in ../data/processed/audio/7144338594927299846.mp3\n"
     ]
    },
    {
     "name": "stderr",
     "output_type": "stream",
     "text": [
      "                                                                      \r"
     ]
    },
    {
     "name": "stdout",
     "output_type": "stream",
     "text": [
      "MoviePy - Done.\n",
      "MoviePy - Writing audio in ../data/processed/audio/7261188519618448667.mp3\n"
     ]
    },
    {
     "name": "stderr",
     "output_type": "stream",
     "text": [
      "                                                                      \r"
     ]
    },
    {
     "name": "stdout",
     "output_type": "stream",
     "text": [
      "MoviePy - Done.\n",
      "MoviePy - Writing audio in ../data/processed/audio/7134227016500497670.mp3\n"
     ]
    },
    {
     "name": "stderr",
     "output_type": "stream",
     "text": [
      "                                                                      \r"
     ]
    },
    {
     "name": "stdout",
     "output_type": "stream",
     "text": [
      "MoviePy - Done.\n",
      "MoviePy - Writing audio in ../data/processed/audio/7250049940255182107.mp3\n"
     ]
    },
    {
     "name": "stderr",
     "output_type": "stream",
     "text": [
      "                                                                      \r"
     ]
    },
    {
     "name": "stdout",
     "output_type": "stream",
     "text": [
      "MoviePy - Done.\n",
      "MoviePy - Writing audio in ../data/processed/audio/7092109732386737413.mp3\n"
     ]
    },
    {
     "name": "stderr",
     "output_type": "stream",
     "text": [
      "                                                                      \r"
     ]
    },
    {
     "name": "stdout",
     "output_type": "stream",
     "text": [
      "MoviePy - Done.\n",
      "MoviePy - Writing audio in ../data/processed/audio/7277491085071387937.mp3\n"
     ]
    },
    {
     "name": "stderr",
     "output_type": "stream",
     "text": [
      "                                                                      \r"
     ]
    },
    {
     "name": "stdout",
     "output_type": "stream",
     "text": [
      "MoviePy - Done.\n",
      "MoviePy - Writing audio in ../data/processed/audio/7078014348152638726.mp3\n"
     ]
    },
    {
     "name": "stderr",
     "output_type": "stream",
     "text": [
      "                                                                      \r"
     ]
    },
    {
     "name": "stdout",
     "output_type": "stream",
     "text": [
      "MoviePy - Done.\n",
      "MoviePy - Writing audio in ../data/processed/audio/7184340534251621637.mp3\n"
     ]
    },
    {
     "name": "stderr",
     "output_type": "stream",
     "text": [
      "                                                                      \r"
     ]
    },
    {
     "name": "stdout",
     "output_type": "stream",
     "text": [
      "MoviePy - Done.\n",
      "MoviePy - Writing audio in ../data/processed/audio/7106170331500399878.mp3\n"
     ]
    },
    {
     "name": "stderr",
     "output_type": "stream",
     "text": [
      "                                                                    \r"
     ]
    },
    {
     "name": "stdout",
     "output_type": "stream",
     "text": [
      "MoviePy - Done.\n",
      "MoviePy - Writing audio in ../data/processed/audio/7134593713753427205.mp3\n"
     ]
    },
    {
     "name": "stderr",
     "output_type": "stream",
     "text": [
      "                                                                      \r"
     ]
    },
    {
     "name": "stdout",
     "output_type": "stream",
     "text": [
      "MoviePy - Done.\n",
      "MoviePy - Writing audio in ../data/processed/audio/7060519835788250373.mp3\n"
     ]
    },
    {
     "name": "stderr",
     "output_type": "stream",
     "text": [
      "                                                                      \r"
     ]
    },
    {
     "name": "stdout",
     "output_type": "stream",
     "text": [
      "MoviePy - Done.\n",
      "MoviePy - Writing audio in ../data/processed/audio/7141284558791576837.mp3\n"
     ]
    },
    {
     "name": "stderr",
     "output_type": "stream",
     "text": [
      "                                                                    \r"
     ]
    },
    {
     "name": "stdout",
     "output_type": "stream",
     "text": [
      "MoviePy - Done.\n",
      "MoviePy - Writing audio in ../data/processed/audio/7132746085545561350.mp3\n"
     ]
    },
    {
     "name": "stderr",
     "output_type": "stream",
     "text": [
      "                                                                      \r"
     ]
    },
    {
     "name": "stdout",
     "output_type": "stream",
     "text": [
      "MoviePy - Done.\n",
      "MoviePy - Writing audio in ../data/processed/audio/7137965836253351173.mp3\n"
     ]
    },
    {
     "name": "stderr",
     "output_type": "stream",
     "text": [
      "                                                                    \r"
     ]
    },
    {
     "name": "stdout",
     "output_type": "stream",
     "text": [
      "MoviePy - Done.\n",
      "MoviePy - Writing audio in ../data/processed/audio/7145843103075781893.mp3\n"
     ]
    },
    {
     "name": "stderr",
     "output_type": "stream",
     "text": [
      "                                                                    \r"
     ]
    },
    {
     "name": "stdout",
     "output_type": "stream",
     "text": [
      "MoviePy - Done.\n",
      "MoviePy - Writing audio in ../data/processed/audio/7278386520275373344.mp3\n"
     ]
    },
    {
     "name": "stderr",
     "output_type": "stream",
     "text": [
      "                                                                      \r"
     ]
    },
    {
     "name": "stdout",
     "output_type": "stream",
     "text": [
      "MoviePy - Done.\n",
      "MoviePy - Writing audio in ../data/processed/audio/7235576250306202907.mp3\n"
     ]
    },
    {
     "name": "stderr",
     "output_type": "stream",
     "text": [
      "                                                                      \r"
     ]
    },
    {
     "name": "stdout",
     "output_type": "stream",
     "text": [
      "MoviePy - Done.\n",
      "MoviePy - Writing audio in ../data/processed/audio/7141381807093697798.mp3\n"
     ]
    },
    {
     "name": "stderr",
     "output_type": "stream",
     "text": [
      "                                                                    \r"
     ]
    },
    {
     "name": "stdout",
     "output_type": "stream",
     "text": [
      "MoviePy - Done.\n",
      "MoviePy - Writing audio in ../data/processed/audio/7136915130884934918.mp3\n"
     ]
    },
    {
     "name": "stderr",
     "output_type": "stream",
     "text": [
      "                                                                      \r"
     ]
    },
    {
     "name": "stdout",
     "output_type": "stream",
     "text": [
      "MoviePy - Done.\n",
      "MoviePy - Writing audio in ../data/processed/audio/7146691344281521414.mp3\n"
     ]
    },
    {
     "name": "stderr",
     "output_type": "stream",
     "text": [
      "                                                                      \r"
     ]
    },
    {
     "name": "stdout",
     "output_type": "stream",
     "text": [
      "MoviePy - Done.\n",
      "MoviePy - Writing audio in ../data/processed/audio/7221262230988262661.mp3\n"
     ]
    },
    {
     "name": "stderr",
     "output_type": "stream",
     "text": [
      "                                                                      \r"
     ]
    },
    {
     "name": "stdout",
     "output_type": "stream",
     "text": [
      "MoviePy - Done.\n",
      "MoviePy - Writing audio in ../data/processed/audio/7137218493681896710.mp3\n"
     ]
    },
    {
     "name": "stderr",
     "output_type": "stream",
     "text": [
      "                                                                      \r"
     ]
    },
    {
     "name": "stdout",
     "output_type": "stream",
     "text": [
      "MoviePy - Done.\n",
      "MoviePy - Writing audio in ../data/processed/audio/7259020896466242842.mp3\n"
     ]
    },
    {
     "name": "stderr",
     "output_type": "stream",
     "text": [
      "                                                                      \r"
     ]
    },
    {
     "name": "stdout",
     "output_type": "stream",
     "text": [
      "MoviePy - Done.\n",
      "MoviePy - Writing audio in ../data/processed/audio/7251672977257942299.mp3\n"
     ]
    },
    {
     "name": "stderr",
     "output_type": "stream",
     "text": [
      "                                                                      \r"
     ]
    },
    {
     "name": "stdout",
     "output_type": "stream",
     "text": [
      "MoviePy - Done.\n",
      "MoviePy - Writing audio in ../data/processed/audio/7111970905525341445.mp3\n"
     ]
    },
    {
     "name": "stderr",
     "output_type": "stream",
     "text": [
      "                                                                    \r"
     ]
    },
    {
     "name": "stdout",
     "output_type": "stream",
     "text": [
      "MoviePy - Done.\n",
      "MoviePy - Writing audio in ../data/processed/audio/7074130814199516422.mp3\n"
     ]
    },
    {
     "name": "stderr",
     "output_type": "stream",
     "text": [
      "                                                                      \r"
     ]
    },
    {
     "name": "stdout",
     "output_type": "stream",
     "text": [
      "MoviePy - Done.\n",
      "MoviePy - Writing audio in ../data/processed/audio/7217889363739315462.mp3\n"
     ]
    },
    {
     "name": "stderr",
     "output_type": "stream",
     "text": [
      "                                                                      \r"
     ]
    },
    {
     "name": "stdout",
     "output_type": "stream",
     "text": [
      "MoviePy - Done.\n",
      "MoviePy - Writing audio in ../data/processed/audio/7189296202347744517.mp3\n"
     ]
    },
    {
     "name": "stderr",
     "output_type": "stream",
     "text": [
      "                                                                    \r"
     ]
    },
    {
     "name": "stdout",
     "output_type": "stream",
     "text": [
      "MoviePy - Done.\n",
      "MoviePy - Writing audio in ../data/processed/audio/7070414977118588165.mp3\n"
     ]
    },
    {
     "name": "stderr",
     "output_type": "stream",
     "text": [
      "                                                                      \r"
     ]
    },
    {
     "name": "stdout",
     "output_type": "stream",
     "text": [
      "MoviePy - Done.\n",
      "MoviePy - Writing audio in ../data/processed/audio/7180372649367915782.mp3\n"
     ]
    },
    {
     "name": "stderr",
     "output_type": "stream",
     "text": [
      "                                                                        \r"
     ]
    },
    {
     "name": "stdout",
     "output_type": "stream",
     "text": [
      "MoviePy - Done.\n",
      "MoviePy - Writing audio in ../data/processed/audio/7239724965312941338.mp3\n"
     ]
    },
    {
     "name": "stderr",
     "output_type": "stream",
     "text": [
      "                                                                      \r"
     ]
    },
    {
     "name": "stdout",
     "output_type": "stream",
     "text": [
      "MoviePy - Done.\n",
      "MoviePy - Writing audio in ../data/processed/audio/7231465075389795611.mp3\n"
     ]
    },
    {
     "name": "stderr",
     "output_type": "stream",
     "text": [
      "                                                                      \r"
     ]
    },
    {
     "name": "stdout",
     "output_type": "stream",
     "text": [
      "MoviePy - Done.\n",
      "MoviePy - Writing audio in ../data/processed/audio/7215644500771818757.mp3\n"
     ]
    },
    {
     "name": "stderr",
     "output_type": "stream",
     "text": [
      "                                                                      \r"
     ]
    },
    {
     "name": "stdout",
     "output_type": "stream",
     "text": [
      "MoviePy - Done.\n",
      "MoviePy - Writing audio in ../data/processed/audio/7115419591593037061.mp3\n"
     ]
    },
    {
     "name": "stderr",
     "output_type": "stream",
     "text": [
      "                                                                      \r"
     ]
    },
    {
     "name": "stdout",
     "output_type": "stream",
     "text": [
      "MoviePy - Done.\n",
      "MoviePy - Writing audio in ../data/processed/audio/7086078703641332998.mp3\n"
     ]
    },
    {
     "name": "stderr",
     "output_type": "stream",
     "text": [
      "                                                                      \r"
     ]
    },
    {
     "name": "stdout",
     "output_type": "stream",
     "text": [
      "MoviePy - Done.\n",
      "MoviePy - Writing audio in ../data/processed/audio/7194909784926063877.mp3\n"
     ]
    },
    {
     "name": "stderr",
     "output_type": "stream",
     "text": [
      "                                                                      \r"
     ]
    },
    {
     "name": "stdout",
     "output_type": "stream",
     "text": [
      "MoviePy - Done.\n",
      "MoviePy - Writing audio in ../data/processed/audio/7206202741440449798.mp3\n"
     ]
    },
    {
     "name": "stderr",
     "output_type": "stream",
     "text": [
      "                                                                      \r"
     ]
    },
    {
     "name": "stdout",
     "output_type": "stream",
     "text": [
      "MoviePy - Done.\n",
      "MoviePy - Writing audio in ../data/processed/audio/7211503013234527494.mp3\n"
     ]
    },
    {
     "name": "stderr",
     "output_type": "stream",
     "text": [
      "                                                                    \r"
     ]
    },
    {
     "name": "stdout",
     "output_type": "stream",
     "text": [
      "MoviePy - Done.\n",
      "MoviePy - Writing audio in ../data/processed/audio/7257145557309738266.mp3\n"
     ]
    },
    {
     "name": "stderr",
     "output_type": "stream",
     "text": [
      "                                                                      \r"
     ]
    },
    {
     "name": "stdout",
     "output_type": "stream",
     "text": [
      "MoviePy - Done.\n",
      "MoviePy - Writing audio in ../data/processed/audio/7210879251527077125.mp3\n"
     ]
    },
    {
     "name": "stderr",
     "output_type": "stream",
     "text": [
      "                                                                      \r"
     ]
    },
    {
     "name": "stdout",
     "output_type": "stream",
     "text": [
      "MoviePy - Done.\n",
      "MoviePy - Writing audio in ../data/processed/audio/7189243457179880709.mp3\n"
     ]
    },
    {
     "name": "stderr",
     "output_type": "stream",
     "text": [
      "                                                                    \r"
     ]
    },
    {
     "name": "stdout",
     "output_type": "stream",
     "text": [
      "MoviePy - Done.\n",
      "MoviePy - Writing audio in ../data/processed/audio/7139623564637900038.mp3\n"
     ]
    },
    {
     "name": "stderr",
     "output_type": "stream",
     "text": [
      "                                                                    \r"
     ]
    },
    {
     "name": "stdout",
     "output_type": "stream",
     "text": [
      "MoviePy - Done.\n",
      "MoviePy - Writing audio in ../data/processed/audio/7173606687327161605.mp3\n"
     ]
    },
    {
     "name": "stderr",
     "output_type": "stream",
     "text": [
      "                                                                      \r"
     ]
    },
    {
     "name": "stdout",
     "output_type": "stream",
     "text": [
      "MoviePy - Done.\n",
      "MoviePy - Writing audio in ../data/processed/audio/7152865526417558789.mp3\n"
     ]
    },
    {
     "name": "stderr",
     "output_type": "stream",
     "text": [
      "                                                                    \r"
     ]
    },
    {
     "name": "stdout",
     "output_type": "stream",
     "text": [
      "MoviePy - Done.\n",
      "MoviePy - Writing audio in ../data/processed/audio/7216786331005930778.mp3\n"
     ]
    },
    {
     "name": "stderr",
     "output_type": "stream",
     "text": [
      "                                                                      \r"
     ]
    },
    {
     "name": "stdout",
     "output_type": "stream",
     "text": [
      "MoviePy - Done.\n",
      "MoviePy - Writing audio in ../data/processed/audio/7146642608033434885.mp3\n"
     ]
    },
    {
     "name": "stderr",
     "output_type": "stream",
     "text": [
      "                                                                    \r"
     ]
    },
    {
     "name": "stdout",
     "output_type": "stream",
     "text": [
      "MoviePy - Done.\n",
      "MoviePy - Writing audio in ../data/processed/audio/7069423165268626694.mp3\n"
     ]
    },
    {
     "name": "stderr",
     "output_type": "stream",
     "text": [
      "                                                                      \r"
     ]
    },
    {
     "name": "stdout",
     "output_type": "stream",
     "text": [
      "MoviePy - Done.\n",
      "MoviePy - Writing audio in ../data/processed/audio/7146526475439639814.mp3\n"
     ]
    },
    {
     "name": "stderr",
     "output_type": "stream",
     "text": [
      "                                                                      \r"
     ]
    },
    {
     "name": "stdout",
     "output_type": "stream",
     "text": [
      "MoviePy - Done.\n",
      "MoviePy - Writing audio in ../data/processed/audio/7198105090119568646.mp3\n"
     ]
    },
    {
     "name": "stderr",
     "output_type": "stream",
     "text": [
      "                                                                      \r"
     ]
    },
    {
     "name": "stdout",
     "output_type": "stream",
     "text": [
      "MoviePy - Done.\n",
      "MoviePy - Writing audio in ../data/processed/audio/7157249765837786373.mp3\n"
     ]
    },
    {
     "name": "stderr",
     "output_type": "stream",
     "text": [
      "                                                                      \r"
     ]
    },
    {
     "name": "stdout",
     "output_type": "stream",
     "text": [
      "MoviePy - Done.\n",
      "MoviePy - Writing audio in ../data/processed/audio/7130543050006269189.mp3\n"
     ]
    },
    {
     "name": "stderr",
     "output_type": "stream",
     "text": [
      "                                                                      \r"
     ]
    },
    {
     "name": "stdout",
     "output_type": "stream",
     "text": [
      "MoviePy - Done.\n",
      "MoviePy - Writing audio in ../data/processed/audio/7067893974035401990.mp3\n"
     ]
    },
    {
     "name": "stderr",
     "output_type": "stream",
     "text": [
      "                                                                    \r"
     ]
    },
    {
     "name": "stdout",
     "output_type": "stream",
     "text": [
      "MoviePy - Done.\n",
      "MoviePy - Writing audio in ../data/processed/audio/7234091904151932186.mp3\n"
     ]
    },
    {
     "name": "stderr",
     "output_type": "stream",
     "text": [
      "                                                                      \r"
     ]
    },
    {
     "name": "stdout",
     "output_type": "stream",
     "text": [
      "MoviePy - Done.\n",
      "MoviePy - Writing audio in ../data/processed/audio/7156960255723719941.mp3\n"
     ]
    },
    {
     "name": "stderr",
     "output_type": "stream",
     "text": [
      "                                                                    \r"
     ]
    },
    {
     "name": "stdout",
     "output_type": "stream",
     "text": [
      "MoviePy - Done.\n",
      "MoviePy - Writing audio in ../data/processed/audio/7136844388176530694.mp3\n"
     ]
    },
    {
     "name": "stderr",
     "output_type": "stream",
     "text": [
      "                                                                      \r"
     ]
    },
    {
     "name": "stdout",
     "output_type": "stream",
     "text": [
      "MoviePy - Done.\n",
      "MoviePy - Writing audio in ../data/processed/audio/7177010908625980678.mp3\n"
     ]
    },
    {
     "name": "stderr",
     "output_type": "stream",
     "text": [
      "                                                                    \r"
     ]
    },
    {
     "name": "stdout",
     "output_type": "stream",
     "text": [
      "MoviePy - Done.\n",
      "MoviePy - Writing audio in ../data/processed/audio/7260133930643361050.mp3\n"
     ]
    },
    {
     "name": "stderr",
     "output_type": "stream",
     "text": [
      "                                                                      \r"
     ]
    },
    {
     "name": "stdout",
     "output_type": "stream",
     "text": [
      "MoviePy - Done.\n",
      "MoviePy - Writing audio in ../data/processed/audio/7146670520505847045.mp3\n"
     ]
    },
    {
     "name": "stderr",
     "output_type": "stream",
     "text": [
      "                                                                      \r"
     ]
    },
    {
     "name": "stdout",
     "output_type": "stream",
     "text": [
      "MoviePy - Done.\n",
      "MoviePy - Writing audio in ../data/processed/audio/7208626665683995909.mp3\n"
     ]
    },
    {
     "name": "stderr",
     "output_type": "stream",
     "text": [
      "                                                                      \r"
     ]
    },
    {
     "name": "stdout",
     "output_type": "stream",
     "text": [
      "MoviePy - Done.\n",
      "MoviePy - Writing audio in ../data/processed/audio/7142930878216359173.mp3\n"
     ]
    },
    {
     "name": "stderr",
     "output_type": "stream",
     "text": [
      "                                                                    \r"
     ]
    },
    {
     "name": "stdout",
     "output_type": "stream",
     "text": [
      "MoviePy - Done.\n",
      "MoviePy - Writing audio in ../data/processed/audio/7135363514704727301.mp3\n"
     ]
    },
    {
     "name": "stderr",
     "output_type": "stream",
     "text": [
      "                                                                      \r"
     ]
    },
    {
     "name": "stdout",
     "output_type": "stream",
     "text": [
      "MoviePy - Done.\n",
      "MoviePy - Writing audio in ../data/processed/audio/7123181095293701382.mp3\n"
     ]
    },
    {
     "name": "stderr",
     "output_type": "stream",
     "text": [
      "                                                                      \r"
     ]
    },
    {
     "name": "stdout",
     "output_type": "stream",
     "text": [
      "MoviePy - Done.\n",
      "MoviePy - Writing audio in ../data/processed/audio/7109740680011894022.mp3\n"
     ]
    },
    {
     "name": "stderr",
     "output_type": "stream",
     "text": [
      "                                                                      \r"
     ]
    },
    {
     "name": "stdout",
     "output_type": "stream",
     "text": [
      "MoviePy - Done.\n",
      "MoviePy - Writing audio in ../data/processed/audio/7247501157361372443.mp3\n"
     ]
    },
    {
     "name": "stderr",
     "output_type": "stream",
     "text": [
      "                                                                      \r"
     ]
    },
    {
     "name": "stdout",
     "output_type": "stream",
     "text": [
      "MoviePy - Done.\n",
      "MoviePy - Writing audio in ../data/processed/audio/7163995254054489350.mp3\n"
     ]
    },
    {
     "name": "stderr",
     "output_type": "stream",
     "text": [
      "                                                                      \r"
     ]
    },
    {
     "name": "stdout",
     "output_type": "stream",
     "text": [
      "MoviePy - Done.\n",
      "MoviePy - Writing audio in ../data/processed/audio/7249053260105944347.mp3\n"
     ]
    },
    {
     "name": "stderr",
     "output_type": "stream",
     "text": [
      "                                                                      \r"
     ]
    },
    {
     "name": "stdout",
     "output_type": "stream",
     "text": [
      "MoviePy - Done.\n",
      "MoviePy - Writing audio in ../data/processed/audio/7144420910336953606.mp3\n"
     ]
    },
    {
     "name": "stderr",
     "output_type": "stream",
     "text": [
      "                                                                    \r"
     ]
    },
    {
     "name": "stdout",
     "output_type": "stream",
     "text": [
      "MoviePy - Done.\n",
      "MoviePy - Writing audio in ../data/processed/audio/7104226960422800646.mp3\n"
     ]
    },
    {
     "name": "stderr",
     "output_type": "stream",
     "text": [
      "                                                                    \r"
     ]
    },
    {
     "name": "stdout",
     "output_type": "stream",
     "text": [
      "MoviePy - Done.\n",
      "MoviePy - Writing audio in ../data/processed/audio/7137738553127079173.mp3\n"
     ]
    },
    {
     "name": "stderr",
     "output_type": "stream",
     "text": [
      "                                                                    \r"
     ]
    },
    {
     "name": "stdout",
     "output_type": "stream",
     "text": [
      "MoviePy - Done.\n",
      "MoviePy - Writing audio in ../data/processed/audio/7205624570915736837.mp3\n"
     ]
    },
    {
     "name": "stderr",
     "output_type": "stream",
     "text": [
      "                                                                    \r"
     ]
    },
    {
     "name": "stdout",
     "output_type": "stream",
     "text": [
      "MoviePy - Done.\n",
      "MoviePy - Writing audio in ../data/processed/audio/7136424309131578629.mp3\n"
     ]
    },
    {
     "name": "stderr",
     "output_type": "stream",
     "text": [
      "                                                                      \r"
     ]
    },
    {
     "name": "stdout",
     "output_type": "stream",
     "text": [
      "MoviePy - Done.\n",
      "MoviePy - Writing audio in ../data/processed/audio/7201936585745632517.mp3\n"
     ]
    },
    {
     "name": "stderr",
     "output_type": "stream",
     "text": [
      "                                                                        \r"
     ]
    },
    {
     "name": "stdout",
     "output_type": "stream",
     "text": [
      "MoviePy - Done.\n",
      "MoviePy - Writing audio in ../data/processed/audio/7175162657949994246.mp3\n"
     ]
    },
    {
     "name": "stderr",
     "output_type": "stream",
     "text": [
      "                                                                      \r"
     ]
    },
    {
     "name": "stdout",
     "output_type": "stream",
     "text": [
      "MoviePy - Done.\n",
      "MoviePy - Writing audio in ../data/processed/audio/7207816601217944837.mp3\n"
     ]
    },
    {
     "name": "stderr",
     "output_type": "stream",
     "text": [
      "                                                                      \r"
     ]
    },
    {
     "name": "stdout",
     "output_type": "stream",
     "text": [
      "MoviePy - Done.\n",
      "MoviePy - Writing audio in ../data/processed/audio/7132368164540730629.mp3\n"
     ]
    },
    {
     "name": "stderr",
     "output_type": "stream",
     "text": [
      "                                                                    \r"
     ]
    },
    {
     "name": "stdout",
     "output_type": "stream",
     "text": [
      "MoviePy - Done.\n",
      "MoviePy - Writing audio in ../data/processed/audio/7262671603471797536.mp3\n"
     ]
    },
    {
     "name": "stderr",
     "output_type": "stream",
     "text": [
      "                                                                      \r"
     ]
    },
    {
     "name": "stdout",
     "output_type": "stream",
     "text": [
      "MoviePy - Done.\n",
      "MoviePy - Writing audio in ../data/processed/audio/7137723121796156677.mp3\n"
     ]
    },
    {
     "name": "stderr",
     "output_type": "stream",
     "text": [
      "                                                                    \r"
     ]
    },
    {
     "name": "stdout",
     "output_type": "stream",
     "text": [
      "MoviePy - Done.\n",
      "MoviePy - Writing audio in ../data/processed/audio/7138477051790494981.mp3\n"
     ]
    },
    {
     "name": "stderr",
     "output_type": "stream",
     "text": [
      "                                                                    \r"
     ]
    },
    {
     "name": "stdout",
     "output_type": "stream",
     "text": [
      "MoviePy - Done.\n",
      "MoviePy - Writing audio in ../data/processed/audio/7132830393153162501.mp3\n"
     ]
    },
    {
     "name": "stderr",
     "output_type": "stream",
     "text": [
      "                                                                      \r"
     ]
    },
    {
     "name": "stdout",
     "output_type": "stream",
     "text": [
      "MoviePy - Done.\n",
      "MoviePy - Writing audio in ../data/processed/audio/7144246488879713542.mp3\n"
     ]
    },
    {
     "name": "stderr",
     "output_type": "stream",
     "text": [
      "                                                                      \r"
     ]
    },
    {
     "name": "stdout",
     "output_type": "stream",
     "text": [
      "MoviePy - Done.\n",
      "MoviePy - Writing audio in ../data/processed/audio/7142030812693810438.mp3\n"
     ]
    },
    {
     "name": "stderr",
     "output_type": "stream",
     "text": [
      "                                                                      \r"
     ]
    },
    {
     "name": "stdout",
     "output_type": "stream",
     "text": [
      "MoviePy - Done.\n",
      "MoviePy - Writing audio in ../data/processed/audio/7128321428012764422.mp3\n"
     ]
    },
    {
     "name": "stderr",
     "output_type": "stream",
     "text": [
      "                                                                      \r"
     ]
    },
    {
     "name": "stdout",
     "output_type": "stream",
     "text": [
      "MoviePy - Done.\n",
      "MoviePy - Writing audio in ../data/processed/audio/7265415410848238880.mp3\n"
     ]
    },
    {
     "name": "stderr",
     "output_type": "stream",
     "text": [
      "                                                                      \r"
     ]
    },
    {
     "name": "stdout",
     "output_type": "stream",
     "text": [
      "MoviePy - Done.\n",
      "MoviePy - Writing audio in ../data/processed/audio/7146272946183605510.mp3\n"
     ]
    },
    {
     "name": "stderr",
     "output_type": "stream",
     "text": [
      "                                                                    \r"
     ]
    },
    {
     "name": "stdout",
     "output_type": "stream",
     "text": [
      "MoviePy - Done.\n",
      "MoviePy - Writing audio in ../data/processed/audio/7141803151136410886.mp3\n"
     ]
    },
    {
     "name": "stderr",
     "output_type": "stream",
     "text": [
      "                                                                    \r"
     ]
    },
    {
     "name": "stdout",
     "output_type": "stream",
     "text": [
      "MoviePy - Done.\n",
      "MoviePy - Writing audio in ../data/processed/audio/7144023384853171462.mp3\n"
     ]
    },
    {
     "name": "stderr",
     "output_type": "stream",
     "text": [
      "                                                                      \r"
     ]
    },
    {
     "name": "stdout",
     "output_type": "stream",
     "text": [
      "MoviePy - Done.\n",
      "MoviePy - Writing audio in ../data/processed/audio/7144769480244071686.mp3\n"
     ]
    },
    {
     "name": "stderr",
     "output_type": "stream",
     "text": [
      "                                                                      \r"
     ]
    },
    {
     "name": "stdout",
     "output_type": "stream",
     "text": [
      "MoviePy - Done.\n",
      "MoviePy - Writing audio in ../data/processed/audio/7243836094456827162.mp3\n"
     ]
    },
    {
     "name": "stderr",
     "output_type": "stream",
     "text": [
      "                                                                      \r"
     ]
    },
    {
     "name": "stdout",
     "output_type": "stream",
     "text": [
      "MoviePy - Done.\n",
      "MoviePy - Writing audio in ../data/processed/audio/7137343861130677510.mp3\n"
     ]
    },
    {
     "name": "stderr",
     "output_type": "stream",
     "text": [
      "                                                                    \r"
     ]
    },
    {
     "name": "stdout",
     "output_type": "stream",
     "text": [
      "MoviePy - Done.\n",
      "MoviePy - Writing audio in ../data/processed/audio/7260633128325090587.mp3\n"
     ]
    },
    {
     "name": "stderr",
     "output_type": "stream",
     "text": [
      "                                                                      \r"
     ]
    },
    {
     "name": "stdout",
     "output_type": "stream",
     "text": [
      "MoviePy - Done.\n",
      "MoviePy - Writing audio in ../data/processed/audio/7104580217892506885.mp3\n"
     ]
    },
    {
     "name": "stderr",
     "output_type": "stream",
     "text": [
      "                                                                    \r"
     ]
    },
    {
     "name": "stdout",
     "output_type": "stream",
     "text": [
      "MoviePy - Done.\n",
      "MoviePy - Writing audio in ../data/processed/audio/7219014997781925146.mp3\n"
     ]
    },
    {
     "name": "stderr",
     "output_type": "stream",
     "text": [
      "                                                                      \r"
     ]
    },
    {
     "name": "stdout",
     "output_type": "stream",
     "text": [
      "MoviePy - Done.\n",
      "MoviePy - Writing audio in ../data/processed/audio/7063159758185827590.mp3\n"
     ]
    },
    {
     "name": "stderr",
     "output_type": "stream",
     "text": [
      "                                                                      \r"
     ]
    },
    {
     "name": "stdout",
     "output_type": "stream",
     "text": [
      "MoviePy - Done.\n",
      "MoviePy - Writing audio in ../data/processed/audio/7261648290305821978.mp3\n"
     ]
    },
    {
     "name": "stderr",
     "output_type": "stream",
     "text": [
      "                                                                     \r"
     ]
    },
    {
     "name": "stdout",
     "output_type": "stream",
     "text": [
      "MoviePy - Done.\n",
      "MoviePy - Writing audio in ../data/processed/audio/7198603797227244806.mp3\n"
     ]
    },
    {
     "name": "stderr",
     "output_type": "stream",
     "text": [
      "                                                                     \r"
     ]
    },
    {
     "name": "stdout",
     "output_type": "stream",
     "text": [
      "MoviePy - Done.\n",
      "MoviePy - Writing audio in ../data/processed/audio/7134693026680655109.mp3\n"
     ]
    },
    {
     "name": "stderr",
     "output_type": "stream",
     "text": [
      "                                                                      \r"
     ]
    },
    {
     "name": "stdout",
     "output_type": "stream",
     "text": [
      "MoviePy - Done.\n",
      "MoviePy - Writing audio in ../data/processed/audio/7133867159503097093.mp3\n"
     ]
    },
    {
     "name": "stderr",
     "output_type": "stream",
     "text": [
      "                                                                      \r"
     ]
    },
    {
     "name": "stdout",
     "output_type": "stream",
     "text": [
      "MoviePy - Done.\n",
      "MoviePy - Writing audio in ../data/processed/audio/7187877327806762246.mp3\n"
     ]
    },
    {
     "name": "stderr",
     "output_type": "stream",
     "text": [
      "                                                                      \r"
     ]
    },
    {
     "name": "stdout",
     "output_type": "stream",
     "text": [
      "MoviePy - Done.\n",
      "MoviePy - Writing audio in ../data/processed/audio/7144986246215929094.mp3\n"
     ]
    },
    {
     "name": "stderr",
     "output_type": "stream",
     "text": [
      "                                                                      \r"
     ]
    },
    {
     "name": "stdout",
     "output_type": "stream",
     "text": [
      "MoviePy - Done.\n",
      "MoviePy - Writing audio in ../data/processed/audio/7274498125660704033.mp3\n"
     ]
    },
    {
     "name": "stderr",
     "output_type": "stream",
     "text": [
      "                                                                      \r"
     ]
    },
    {
     "name": "stdout",
     "output_type": "stream",
     "text": [
      "MoviePy - Done.\n",
      "MoviePy - Writing audio in ../data/processed/audio/7148069987796765958.mp3\n"
     ]
    },
    {
     "name": "stderr",
     "output_type": "stream",
     "text": [
      "                                                                      \r"
     ]
    },
    {
     "name": "stdout",
     "output_type": "stream",
     "text": [
      "MoviePy - Done.\n",
      "MoviePy - Writing audio in ../data/processed/audio/7202261483860806917.mp3\n"
     ]
    },
    {
     "name": "stderr",
     "output_type": "stream",
     "text": [
      "                                                                      \r"
     ]
    },
    {
     "name": "stdout",
     "output_type": "stream",
     "text": [
      "MoviePy - Done.\n",
      "MoviePy - Writing audio in ../data/processed/audio/7187514172463254790.mp3\n"
     ]
    },
    {
     "name": "stderr",
     "output_type": "stream",
     "text": [
      "                                                                      \r"
     ]
    },
    {
     "name": "stdout",
     "output_type": "stream",
     "text": [
      "MoviePy - Done.\n",
      "MoviePy - Writing audio in ../data/processed/audio/7138461939923029254.mp3\n"
     ]
    },
    {
     "name": "stderr",
     "output_type": "stream",
     "text": [
      "                                                                    \r"
     ]
    },
    {
     "name": "stdout",
     "output_type": "stream",
     "text": [
      "MoviePy - Done.\n",
      "MoviePy - Writing audio in ../data/processed/audio/7222372308235603206.mp3\n"
     ]
    },
    {
     "name": "stderr",
     "output_type": "stream",
     "text": [
      "                                                                      \r"
     ]
    },
    {
     "name": "stdout",
     "output_type": "stream",
     "text": [
      "MoviePy - Done.\n",
      "MoviePy - Writing audio in ../data/processed/audio/7265621447920422176.mp3\n"
     ]
    },
    {
     "name": "stderr",
     "output_type": "stream",
     "text": [
      "                                                                      \r"
     ]
    },
    {
     "name": "stdout",
     "output_type": "stream",
     "text": [
      "MoviePy - Done.\n",
      "MoviePy - Writing audio in ../data/processed/audio/7074535704902077701.mp3\n"
     ]
    },
    {
     "name": "stderr",
     "output_type": "stream",
     "text": [
      "                                                                      \r"
     ]
    },
    {
     "name": "stdout",
     "output_type": "stream",
     "text": [
      "MoviePy - Done.\n",
      "MoviePy - Writing audio in ../data/processed/audio/7231809083169328411.mp3\n"
     ]
    },
    {
     "name": "stderr",
     "output_type": "stream",
     "text": [
      "                                                                     \r"
     ]
    },
    {
     "name": "stdout",
     "output_type": "stream",
     "text": [
      "MoviePy - Done.\n",
      "MoviePy - Writing audio in ../data/processed/audio/7254490393851481371.mp3\n"
     ]
    },
    {
     "name": "stderr",
     "output_type": "stream",
     "text": [
      "                                                                      \r"
     ]
    },
    {
     "name": "stdout",
     "output_type": "stream",
     "text": [
      "MoviePy - Done.\n",
      "MoviePy - Writing audio in ../data/processed/audio/7080511603812109574.mp3\n"
     ]
    },
    {
     "name": "stderr",
     "output_type": "stream",
     "text": [
      "                                                                      \r"
     ]
    },
    {
     "name": "stdout",
     "output_type": "stream",
     "text": [
      "MoviePy - Done.\n",
      "MoviePy - Writing audio in ../data/processed/audio/7162839147302997254.mp3\n"
     ]
    },
    {
     "name": "stderr",
     "output_type": "stream",
     "text": [
      "                                                                      \r"
     ]
    },
    {
     "name": "stdout",
     "output_type": "stream",
     "text": [
      "MoviePy - Done.\n",
      "MoviePy - Writing audio in ../data/processed/audio/7142259434000059654.mp3\n"
     ]
    },
    {
     "name": "stderr",
     "output_type": "stream",
     "text": [
      "                                                                      \r"
     ]
    },
    {
     "name": "stdout",
     "output_type": "stream",
     "text": [
      "MoviePy - Done.\n",
      "MoviePy - Writing audio in ../data/processed/audio/7238646546152082714.mp3\n"
     ]
    },
    {
     "name": "stderr",
     "output_type": "stream",
     "text": [
      "                                                                    \r"
     ]
    },
    {
     "name": "stdout",
     "output_type": "stream",
     "text": [
      "MoviePy - Done.\n",
      "MoviePy - Writing audio in ../data/processed/audio/7092396552064453893.mp3\n"
     ]
    },
    {
     "name": "stderr",
     "output_type": "stream",
     "text": [
      "                                                                      \r"
     ]
    },
    {
     "name": "stdout",
     "output_type": "stream",
     "text": [
      "MoviePy - Done.\n",
      "MoviePy - Writing audio in ../data/processed/audio/7266312532665584928.mp3\n"
     ]
    },
    {
     "name": "stderr",
     "output_type": "stream",
     "text": [
      "                                                                        \r"
     ]
    },
    {
     "name": "stdout",
     "output_type": "stream",
     "text": [
      "MoviePy - Done.\n",
      "MoviePy - Writing audio in ../data/processed/audio/7235728376848272666.mp3\n"
     ]
    },
    {
     "name": "stderr",
     "output_type": "stream",
     "text": [
      "                                                                      "
     ]
    },
    {
     "name": "stdout",
     "output_type": "stream",
     "text": [
      "MoviePy - Done.\n"
     ]
    },
    {
     "name": "stderr",
     "output_type": "stream",
     "text": [
      "\r"
     ]
    }
   ],
   "source": [
    "import moviepy\n",
    "import moviepy.editor\n",
    "import os\n",
    "import glob\n",
    "\n",
    "videos_dir = '../data/processed/videos/'\n",
    "audio_dir = '../data/processed/audio'\n",
    "\n",
    "if not os.path.exists(audio_dir):\n",
    "    os.mkdir(audio_dir)\n",
    "\n",
    "file_name_list = glob.glob(os.path.join(videos_dir, \"*.mp4\"))\n",
    "print(len(file_name_list))\n",
    "\n",
    "for file_name in file_name_list:\n",
    "    # print(file_name)\n",
    "    video = moviepy.editor.VideoFileClip(file_name)\n",
    "    audio = video.audio\n",
    "    audio_file_name = file_name.replace('videos','audio').replace('.mp4', '.mp3')\n",
    "    audio.write_audiofile(audio_file_name)"
   ]
  },
  {
   "cell_type": "markdown",
   "metadata": {},
   "source": [
    "## Extract Transcribed Text"
   ]
  },
  {
   "cell_type": "code",
   "execution_count": 132,
   "metadata": {},
   "outputs": [
    {
     "name": "stdout",
     "output_type": "stream",
     "text": [
      "file_name: TranscribeTikTokAudio7216786331005930778.json\n",
      "                                                            0\n",
      "transcript  Un altro capitolo importante del nostro lavoro...\n",
      "file_name: TranscribeTikTokAudio7177010908625980678.json\n",
      "                                                            0\n",
      "transcript  ricorrono quest'anno i dieci anni dalla fondaz...\n",
      "file_name: TranscribeTikTokAudio7178163802578455813.json\n",
      "           0\n",
      "transcript  \n",
      "file_name: TranscribeTikTokAudio7194909784926063877.json\n",
      "                                                            0\n",
      "transcript  a cento giorni dall'insediamento del nuovo gov...\n",
      "file_name: TranscribeTikTokAudio7092079134247046405.json\n",
      "                                         0\n",
      "transcript  Sì, ma io la Presidente. Ciao.\n",
      "file_name: TranscribeTikTokAudio7146670520505847045.json\n",
      "                                                            0\n",
      "transcript  sarebbe stato facile in questa campagna eletto...\n",
      "file_name: TranscribeTikTokAudio7168946059706764550.json\n",
      "                                                            0\n",
      "transcript  è una manovra figlia di scelte politiche com'e...\n",
      "file_name: TranscribeTikTokAudio7147206448232074502.json\n",
      "                                                            0\n",
      "transcript  signori, Era il giorno della sconfitta. Ma non...\n",
      "file_name: TranscribeTikTokAudio7234480028908555547.json\n",
      "                                                            0\n",
      "transcript  io purtroppo così come sono stato. Giorgio ben...\n",
      "file_name: TranscribeTikTokAudio7207816601217944837.json\n",
      "                                                            0\n",
      "transcript  qualsiasi cosa io abbia fatto nella mia vita, ...\n",
      "file_name: TranscribeTikTokAudio7109083244611587333.json\n",
      "                                                            0\n",
      "transcript  puntuale come un orologio all'indomani delle e...\n",
      "file_name: TranscribeTikTokAudio7217889363739315462.json\n",
      "                                                            0\n",
      "transcript  e dunque? Beh, presenza doverosa, non la prima...\n",
      "file_name: TranscribeTikTokAudio7266312532665584928.json\n",
      "                                                            0\n",
      "transcript  quest'estate, dai un po' più fresche, eh, lo s...\n",
      "file_name: TranscribeTikTokAudio7274498125660704033.json\n",
      "                                                            0\n",
      "transcript  Qual è stato il momento più difficile della su...\n",
      "file_name: TranscribeTikTokAudio7233290952285244698.json\n",
      "                                                            0\n",
      "transcript  Credo che ci sia, um, una delle rappresentazio...\n",
      "file_name: TranscribeTikTokAudio7133867159503097093.json\n",
      "                                                            0\n",
      "transcript  L'agricoltura è l'esempio per eccellenza dell'...\n",
      "file_name: TranscribeTikTokAudio7092750010739215621.json\n",
      "                                                            0\n",
      "transcript  con Ma sai perché sono Ho visto la Meloni. Ho ...\n",
      "file_name: TranscribeTikTokAudio7128429765639343366.json\n",
      "                                                            0\n",
      "transcript  dunque continuo a leggere e ad ascoltare fanta...\n",
      "file_name: TranscribeTikTokAudio7070475423716543749.json\n",
      "                                                            0\n",
      "transcript  questo Parlamento voterà um il suo primo indir...\n",
      "file_name: TranscribeTikTokAudio7070414977118588165.json\n",
      "                                                            0\n",
      "transcript  ed è ora colleghi di chiamare alcune cose con ...\n",
      "file_name: TranscribeTikTokAudio7227372741660282138.json\n",
      "                                                            0\n",
      "transcript  noi abbiamo portato a casa qui un ottimo risul...\n",
      "file_name: TranscribeTikTokAudio7208626665683995909.json\n",
      "                                                            0\n",
      "transcript  Il decreto prevede un aumento delle pene per i...\n",
      "file_name: TranscribeTikTokAudio7092798207511612678.json\n",
      "                                                            0\n",
      "transcript  allora noi abbiamo passato tre giorni a parlar...\n",
      "file_name: TranscribeTikTokAudio7257581884450917659.json\n",
      "                                                            0\n",
      "transcript  Patrick Zaki ha oggi ricevuto la grazia dal pr...\n",
      "file_name: TranscribeTikTokAudio7132746085545561350.json\n",
      "                                                            0\n",
      "transcript  il reddito di cittadinanza è stato un fallimen...\n",
      "file_name: TranscribeTikTokAudio7137218493681896710.json\n",
      "                                                            0\n",
      "transcript  la casa è il bene primario attorno al quale le...\n",
      "file_name: TranscribeTikTokAudio7189709267392318725.json\n",
      "                                                            0\n",
      "transcript  qualcuno già c'ha delle teorie cos- cospirazio...\n",
      "file_name: TranscribeTikTokAudio7206044310301592837.json\n",
      "                                                            0\n",
      "transcript  testimoni per questa splendida accoglienza. Ne...\n",
      "file_name: TranscribeTikTokAudio7163995254054489350.json\n",
      "                                                            0\n",
      "transcript  il nove novembre del millenovecentottantanove,...\n",
      "file_name: TranscribeTikTokAudio7238646546152082714.json\n",
      "                                                            0\n",
      "transcript  il centrodestra vince queste elezioni amminist...\n",
      "file_name: TranscribeTikTokAudio7132830393153162501.json\n",
      "                                                            0\n",
      "transcript  scusate l'abbigliamento no, sono in vacanza, p...\n",
      "file_name: TranscribeTikTokAudio7235576250306202907.json\n",
      "                                                            0\n",
      "transcript  io credo che questo g sette di Hiroshima sia s...\n",
      "file_name: TranscribeTikTokAudio7144338594927299846.json\n",
      "                                                            0\n",
      "transcript  il super bonus edilizio al centodieci percento...\n",
      "file_name: TranscribeTikTokAudio7134227016500497670.json\n",
      "                                                            0\n",
      "transcript  in pochi sanno che L'islanda negli anni novant...\n",
      "file_name: TranscribeTikTokAudio7156960255723719941.json\n",
      "           0\n",
      "transcript  \n",
      "file_name: TranscribeTikTokAudio7128321428012764422.json\n",
      "                                                            0\n",
      "transcript  si è sempre detto che che la sinistra in itali...\n",
      "file_name: TranscribeTikTokAudio7231809083169328411.json\n",
      "                                                            0\n",
      "transcript  Voglio sinceramente ringraziare il primo minis...\n",
      "file_name: TranscribeTikTokAudio7147263913200045317.json\n",
      "                                                0\n",
      "transcript  venticinque settembre ho detto tutto.\n",
      "file_name: TranscribeTikTokAudio7137577046552726790.json\n",
      "                                                            0\n",
      "transcript  la difesa dell'identità nazionale del nostro f...\n",
      "file_name: TranscribeTikTokAudio7265735771271728416.json\n",
      "                                                            0\n",
      "transcript  Un altro tema molto discusso nel dibattito pol...\n",
      "file_name: TranscribeTikTokAudio7140955700699696390.json\n",
      "                                                            0\n",
      "transcript  siamo in piena crisi energetica, con bollette ...\n",
      "file_name: TranscribeTikTokAudio7215644500771818757.json\n",
      "           0\n",
      "transcript  \n",
      "file_name: TranscribeTikTokAudio7066845965105319173.json\n",
      "                                                            0\n",
      "transcript  fermo restando che il vaccino è utilissimo non...\n",
      "file_name: TranscribeTikTokAudio7136469259756031237.json\n",
      "                                                            0\n",
      "transcript  Negli ultimi venti anni la Francia ha avuto qu...\n",
      "file_name: TranscribeTikTokAudio7146642608033434885.json\n",
      "                                                            0\n",
      "transcript  siamo alla fine della campagna elettorale e io...\n",
      "file_name: TranscribeTikTokAudio7176318412900027654.json\n",
      "                                                            0\n",
      "transcript  diciotto app. Allora, um negli ultimi giorni m...\n",
      "file_name: TranscribeTikTokAudio7239724965312941338.json\n",
      "                                                            0\n",
      "transcript  match um di E Times for showing can be free pe...\n",
      "file_name: TranscribeTikTokAudio7262671603471797536.json\n",
      "                                0\n",
      "transcript  the Ah a a a um um um\n",
      "file_name: TranscribeTikTokAudio7146691344281521414.json\n",
      "                                                            0\n",
      "transcript  non ha paura l'italia della gente perbene. Non...\n",
      "file_name: TranscribeTikTokAudio7180372649367915782.json\n",
      "                                                            0\n",
      "transcript  io sono venuta qui, non a fare dei comizi. Son...\n",
      "file_name: TranscribeTikTokAudio7086078703641332998.json\n",
      "                                                            0\n",
      "transcript  si parla in questi giorni della possibilità di...\n",
      "file_name: TranscribeTikTokAudio7204931077029268741.json\n",
      "                                                            0\n",
      "transcript  mhm Buonasera presidente e grazie per aver acc...\n",
      "file_name: TranscribeTikTokAudio7106933742027001093.json\n",
      "                  0\n",
      "transcript  grazie.\n",
      "file_name: TranscribeTikTokAudio7247012477228076314.json\n",
      "                                                            0\n",
      "transcript  è arrivato il giorno degli esami di maturità. ...\n",
      "file_name: TranscribeTikTokAudio7205257187130674437.json\n",
      "                                                            0\n",
      "transcript  tra le tante falsità che ho sentito dire in qu...\n",
      "file_name: TranscribeTikTokAudio7115419591593037061.json\n",
      "                                                            0\n",
      "transcript  fermi tutti che la sinistra italiana ha trovat...\n",
      "file_name: TranscribeTikTokAudio7136459590434147590.json\n",
      "                                                            0\n",
      "transcript  Sì, ancora di più. Dopo di che devi mettere il...\n",
      "file_name: TranscribeTikTokAudio7135145359629634822.json\n",
      "           0\n",
      "transcript  \n",
      "file_name: TranscribeTikTokAudio7136548859093863685.json\n",
      "                                                            0\n",
      "transcript  ma è una nazione che ugualmente ha bisogno di ...\n",
      "file_name: TranscribeTikTokAudio7257145557309738266.json\n",
      "                                                            0\n",
      "transcript  Il partenariato con la Tunisia per noi è da co...\n",
      "file_name: TranscribeTikTokAudio7094669289294220549.json\n",
      "                                                            0\n",
      "transcript  allora questo simpatico siparietto è andato in...\n",
      "file_name: TranscribeTikTokAudio7232366148258417946.json\n",
      "                                                            0\n",
      "transcript  la storia del popolo italiano è una storia fat...\n",
      "file_name: TranscribeTikTokAudio7157249765837786373.json\n",
      "                                                            0\n",
      "transcript  l'anno duemila e ventidue il giorno ventidue d...\n",
      "file_name: TranscribeTikTokAudio7205624570915736837.json\n",
      "           0\n",
      "transcript  \n",
      "file_name: TranscribeTikTokAudio7138307731299028230.json\n",
      "                                                            0\n",
      "transcript  con gianni forti, zio di chico forti vicenda c...\n",
      "file_name: TranscribeTikTokAudio7189243457179880709.json\n",
      "                                                            0\n",
      "transcript  Sì, Bravi, bravi, bravi. Grazie. Ecco di dove ...\n",
      "file_name: TranscribeTikTokAudio7144425341279341830.json\n",
      "               0\n",
      "transcript  sono\n",
      "file_name: TranscribeTikTokAudio7142030812693810438.json\n",
      "                                                            0\n",
      "transcript  non intendiamo modificare la legge centonovant...\n",
      "file_name: TranscribeTikTokAudio7240155848205454619.json\n",
      "                                                            0\n",
      "transcript  da nazionale. La patria alla fine è questo. È ...\n",
      "file_name: TranscribeTikTokAudio7132368164540730629.json\n",
      "                                                            0\n",
      "transcript  il nostro lavoro è un lavoro che vedrà come un...\n",
      "file_name: TranscribeTikTokAudio7116559793489267973.json\n",
      "                                                            0\n",
      "transcript  l'altra. Cosa sempre nel si apre la caccia a G...\n",
      "file_name: TranscribeTikTokAudio7265621447920422176.json\n",
      "                                                            0\n",
      "transcript  Consiglio dei ministri ha approvato diverse mi...\n",
      "file_name: TranscribeTikTokAudio7070073900100521222.json\n",
      "                               0\n",
      "transcript  chi va M design, yo.\n",
      "file_name: TranscribeTikTokAudio7278386520275373344.json\n",
      "                                                            0\n",
      "transcript  Buonasera Presidente. La visione di Giorgia, s...\n",
      "file_name: TranscribeTikTokAudio7228211560240467227.json\n",
      "                                                            0\n",
      "transcript  il giorno della festa dei lavoratori il govern...\n",
      "file_name: TranscribeTikTokAudio7223471702020246810.json\n",
      "                                                            0\n",
      "transcript  in tempo di globalizzazione l'italia, non de n...\n",
      "file_name: TranscribeTikTokAudio7136915130884934918.json\n",
      "                                                            0\n",
      "transcript  una cosa mi fa impazzire e mi dà fastidio da m...\n",
      "file_name: TranscribeTikTokAudio7136424309131578629.json\n",
      "                                                            0\n",
      "transcript  non è normale che esistano ancora in Italia am...\n",
      "file_name: TranscribeTikTokAudio7277971263958666529.json\n",
      "                                                            0\n",
      "transcript  il punto è noi siamo stati capaci di fare un q...\n",
      "file_name: TranscribeTikTokAudio7138364518136122629.json\n",
      "                                                            0\n",
      "transcript  anche sul tema del reddito di cittadinanza Vog...\n",
      "file_name: TranscribeTikTokAudio7221262230988262661.json\n",
      "           0\n",
      "transcript  \n",
      "file_name: TranscribeTikTokAudio7170424345486036229.json\n",
      "                                                            0\n",
      "transcript  quindi grazie a tutti. Ovviamente grazie a tut...\n",
      "file_name: TranscribeTikTokAudio7134593713753427205.json\n",
      "                                                            0\n",
      "transcript  lo Stato non crea ricchezza e posti di lavoro,...\n",
      "file_name: TranscribeTikTokAudio7234091904151932186.json\n",
      "                                                            0\n",
      "transcript  per ribadire la mia solidarietà a tutti i citt...\n",
      "file_name: TranscribeTikTokAudio7092832806765612293.json\n",
      "                                                            0\n",
      "transcript  non ci troverete mai con lo sguardo basso con ...\n",
      "file_name: TranscribeTikTokAudio7137360677756325126.json\n",
      "                                                            0\n",
      "transcript  perché dopo anni di chiacchierano nel palazzo,...\n",
      "file_name: TranscribeTikTokAudio7222372308235603206.json\n",
      "                                                            0\n",
      "transcript  Buongiorno a tutti! Grazie, grazie, grazie, gr...\n",
      "file_name: TranscribeTikTokAudio7164382552751394053.json\n",
      "                                                            0\n",
      "transcript  immagino abbiate saputo che Alessia Piperno st...\n",
      "file_name: TranscribeTikTokAudio7122815617337494789.json\n",
      "                                                            0\n",
      "transcript  non fatevi spaventare, non fatevi spaventare, ...\n",
      "file_name: TranscribeTikTokAudio7201936585745632517.json\n",
      "                                                            0\n",
      "transcript  nello stesso Consiglio dei ministri. Um di qua...\n",
      "file_name: TranscribeTikTokAudio7241634208106515738.json\n",
      "                                                            0\n",
      "transcript  dopodiché però la sinistra ti dice che sei aut...\n",
      "file_name: TranscribeTikTokAudio7080511603812109574.json\n",
      "                                                            0\n",
      "transcript  e come sempre, di fronte alle grandi sfide del...\n",
      "file_name: TranscribeTikTokAudio7078014348152638726.json\n",
      "                                                            0\n",
      "transcript  erano i primi giorni di gennaio duemilaventuno...\n",
      "file_name: TranscribeTikTokAudio7145435366529551621.json\n",
      "                                                            0\n",
      "transcript  come si vota per le elezioni politiche duemila...\n",
      "file_name: TranscribeTikTokAudio7067167670214331654.json\n",
      "                                                            0\n",
      "transcript  vede, Presidente, a differenza di buona parte ...\n",
      "file_name: TranscribeTikTokAudio7069423165268626694.json\n",
      "                                                            0\n",
      "transcript  in chat The Walk Ideology Foundations Life Cha...\n",
      "file_name: TranscribeTikTokAudio7092732219587874053.json\n",
      "           0\n",
      "transcript  \n",
      "file_name: TranscribeTikTokAudio7081255304721075461.json\n",
      "                                                            0\n",
      "transcript  continua l'emergenza insicurezza nelle nostre ...\n",
      "file_name: TranscribeTikTokAudio7261648290305821978.json\n",
      "                                                            0\n",
      "transcript  un suo commento personale, non da Primo minist...\n",
      "file_name: TranscribeTikTokAudio7142259434000059654.json\n",
      "                                                            0\n",
      "transcript  nazionale punita, Inno nazionale Michele Campi...\n",
      "file_name: TranscribeTikTokAudio7176657919654579462.json\n",
      "                                                            0\n",
      "transcript  vedete, colleghi, noi abbiamo noi abbiamo semp...\n",
      "file_name: TranscribeTikTokAudio7144420910336953606.json\n",
      "           0\n",
      "transcript  \n",
      "file_name: TranscribeTikTokAudio7210879251527077125.json\n",
      "                                                            0\n",
      "transcript  e come dicevo, L'italia condivide gli obiettiv...\n",
      "file_name: TranscribeTikTokAudio7254490393851481371.json\n",
      "                                                            0\n",
      "transcript  il problema principale che ha impattato sulle ...\n",
      "file_name: TranscribeTikTokAudio7206775485903260933.json\n",
      "                                                            0\n",
      "transcript  io sono rimasta un po' colpita dalle ricostruz...\n",
      "file_name: TranscribeTikTokAudio7206202741440449798.json\n",
      "                                                            0\n",
      "transcript  Office in Palazzo Chigi in Roma D'italia t Glo...\n",
      "file_name: TranscribeTikTokAudio7216766115110735109.json\n",
      "                                                            0\n",
      "transcript  proprio sul fronte occupazione arriva qualche ...\n",
      "file_name: TranscribeTikTokAudio7175162657949994246.json\n",
      "                                                            0\n",
      "transcript  in via Chiaromonte abbiamo notato una vettura ...\n",
      "file_name: TranscribeTikTokAudio7092396552064453893.json\n",
      "                                                            0\n",
      "transcript  e però quando chiedi a un altro di difenderti,...\n",
      "file_name: TranscribeTikTokAudio7161896989863709958.json\n",
      "                                                            0\n",
      "transcript  e secondo però ci tenevo a fare un rapido bila...\n",
      "file_name: TranscribeTikTokAudio7146526475439639814.json\n",
      "                                                            0\n",
      "transcript  primo vedo grande entusiasmo. I sondaggi non s...\n",
      "file_name: TranscribeTikTokAudio7265415410848238880.json\n",
      "                                                            0\n",
      "transcript  reddito di cittadinanza. Cominciano in questi ...\n",
      "file_name: TranscribeTikTokAudio7145843103075781893.json\n",
      "                                                            0\n",
      "transcript  oggi Bologna con Patrizia che fa i tortellini ...\n",
      "file_name: TranscribeTikTokAudio7144295242039037190.json\n",
      "           0\n",
      "transcript  \n",
      "file_name: TranscribeTikTokAudio7136118025811479814.json\n",
      "                                                            0\n",
      "transcript  la famiglia è il nucleo essenziale della nostr...\n",
      "file_name: TranscribeTikTokAudio7277491085071387937.json\n",
      "                                                            0\n",
      "transcript  nazioni rappresentate nel G venti rappresentan...\n",
      "file_name: TranscribeTikTokAudio7183669325126012166.json\n",
      "                                                            0\n",
      "transcript  un grande augurio a tutti gli italiani per un ...\n",
      "file_name: TranscribeTikTokAudio7137738553127079173.json\n",
      "                 0\n",
      "transcript  forza.\n",
      "file_name: TranscribeTikTokAudio7063465536109235461.json\n",
      "                                                            0\n",
      "transcript  tenere una legge proporzionale perché la legge...\n",
      "file_name: TranscribeTikTokAudio7152865526417558789.json\n",
      "                            0\n",
      "transcript  Ciao con le cose.\n",
      "file_name: TranscribeTikTokAudio7143163842665663749.json\n",
      "           0\n",
      "transcript  \n",
      "file_name: TranscribeTikTokAudio7202261483860806917.json\n",
      "                                                            0\n",
      "transcript  si aggiunge una novità nelle ultime settimane,...\n",
      "file_name: TranscribeTikTokAudio7166251050142420230.json\n",
      "                  0\n",
      "transcript  grazie.\n",
      "file_name: TranscribeTikTokAudio7260133930643361050.json\n",
      "                                                            0\n",
      "transcript  gli incendi e i disastri meteorologici degli u...\n",
      "file_name: TranscribeTikTokAudio7243739642934201626.json\n",
      "                                                            0\n",
      "transcript  Silvio Berlusconi era soprattutto un combatten...\n",
      "file_name: TranscribeTikTokAudio7247501157361372443.json\n",
      "                                                            0\n",
      "transcript  tacere sulla negazione della libertà religiosa...\n",
      "file_name: TranscribeTikTokAudio7107893116505492741.json\n",
      "                                                            0\n",
      "transcript  uno stato giusto non mette sullo stesso piano ...\n",
      "file_name: TranscribeTikTokAudio7182877365171801349.json\n",
      "                                                            0\n",
      "transcript  ieri in Consiglio dei ministri il ministro Sch...\n",
      "file_name: TranscribeTikTokAudio7238958663094865178.json\n",
      "                                                            0\n",
      "transcript  troppe volte. Noi dimentichiamo il contributo ...\n",
      "file_name: TranscribeTikTokAudio7148069987796765958.json\n",
      "                                                            0\n",
      "transcript  noi dovremmo ricordarci che non siamo a un pun...\n",
      "file_name: TranscribeTikTokAudio7237568877436177690.json\n",
      "                                0\n",
      "transcript  il viva che ha fatto.\n",
      "file_name: TranscribeTikTokAudio7198105090119568646.json\n",
      "                                                            0\n",
      "transcript  piattaforma esalante speculazione anche più ch...\n",
      "file_name: TranscribeTikTokAudio7160592391194299654.json\n",
      "           0\n",
      "transcript  \n",
      "file_name: TranscribeTikTokAudio7143285004917935365.json\n",
      "              0\n",
      "transcript  sì.\n",
      "file_name: TranscribeTikTokAudio7173606687327161605.json\n",
      "                                                            0\n",
      "transcript  tetto al contante. Su questo moltissime domand...\n",
      "file_name: TranscribeTikTokAudio7078649936128003334.json\n",
      "           0\n",
      "transcript  \n",
      "file_name: TranscribeTikTokAudio7161412406495694086.json\n",
      "                                                            0\n",
      "transcript  quella parte divertente finisce qui. Adesso co...\n",
      "file_name: TranscribeTikTokAudio7158424452286401797.json\n",
      "                                                            0\n",
      "transcript  perché alla fine, alla fine di questa avventur...\n",
      "file_name: TranscribeTikTokAudio7073752853965262086.json\n",
      "                                                            0\n",
      "transcript  allora nel bel mezzo di una crisi internaziona...\n",
      "file_name: TranscribeTikTokAudio7144023384853171462.json\n",
      "                                                            0\n",
      "transcript  scusi, vuol cambiare la centonovantaquattro o ...\n",
      "file_name: TranscribeTikTokAudio7156890275317632262.json\n",
      "                                                            0\n",
      "transcript  dunque buongiorno a tutti. La delegazione comp...\n",
      "file_name: TranscribeTikTokAudio7259020896466242842.json\n",
      "                                                            0\n",
      "transcript  cari amici, è un grande onore per il governo i...\n",
      "file_name: TranscribeTikTokAudio7133129347828944134.json\n",
      "                                                            0\n",
      "transcript  dieci anni di governi di sinistra hanno reso l...\n",
      "file_name: TranscribeTikTokAudio7140316758455454982.json\n",
      "                                                            0\n",
      "transcript  Kent. Hai ragione. Ho detto una parola senza s...\n",
      "file_name: TranscribeTikTokAudio7138094156332715270.json\n",
      "                                                            0\n",
      "transcript  Ah, Buonasera a tutti. E per questa presenza, ...\n",
      "file_name: TranscribeTikTokAudio7178782554814811397.json\n",
      "                                                            0\n",
      "transcript  io faccio degli stupendi alberi di Natale, son...\n",
      "file_name: TranscribeTikTokAudio7092109732386737413.json\n",
      "                                                            0\n",
      "transcript  dell'altitudine L'ossigeno è rarefatto, può da...\n",
      "file_name: TranscribeTikTokAudio7144986246215929094.json\n",
      "                                                            0\n",
      "transcript  dicono che fratelli d'italia voglia colpire i ...\n",
      "file_name: TranscribeTikTokAudio7182913772271521030.json\n",
      "                                                            0\n",
      "transcript  La domanda quindi è se ci può dettagliare un p...\n",
      "file_name: TranscribeTikTokAudio7142930878216359173.json\n",
      "           0\n",
      "transcript  \n",
      "file_name: TranscribeTikTokAudio7162839147302997254.json\n",
      "                                                            0\n",
      "transcript  per quello che riguarda la norma sui rave guar...\n",
      "file_name: TranscribeTikTokAudio7140683479053831429.json\n",
      "                                                            0\n",
      "transcript  il tuo primo. Io trovo che la campagna elettor...\n",
      "file_name: TranscribeTikTokAudio7141788005320150277.json\n",
      "           0\n",
      "transcript  \n",
      "file_name: TranscribeTikTokAudio7137723121796156677.json\n",
      "              0\n",
      "transcript  sì.\n",
      "file_name: TranscribeTikTokAudio7141284558791576837.json\n",
      "                                                            0\n",
      "transcript  io con la Meloni non governerò mai. Il Partito...\n",
      "file_name: TranscribeTikTokAudio7184340534251621637.json\n",
      "                                                            0\n",
      "transcript  ci siamo occupati di immigrazione nello stesso...\n",
      "file_name: TranscribeTikTokAudio7210840206986071301.json\n",
      "                                                            0\n",
      "transcript  mi pare evidente che noi stiamo assistendo da ...\n",
      "file_name: TranscribeTikTokAudio7134693026680655109.json\n",
      "                                                            0\n",
      "transcript  allora un paio di temi della campagna elettora...\n",
      "file_name: TranscribeTikTokAudio7074535704902077701.json\n",
      "                                                            0\n",
      "transcript  così battagliera perché nei documenti del gove...\n",
      "file_name: TranscribeTikTokAudio7178948277834992901.json\n",
      "                                                            0\n",
      "transcript  il pres è una vittoria del governo italiano. L...\n",
      "file_name: TranscribeTikTokAudio7136844388176530694.json\n",
      "                                                            0\n",
      "transcript  sapete che sono quasi venti milioni i cani e i...\n",
      "file_name: TranscribeTikTokAudio7138461939923029254.json\n",
      "           0\n",
      "transcript  \n",
      "file_name: TranscribeTikTokAudio7139418655879744774.json\n",
      "              0\n",
      "transcript  con\n",
      "file_name: TranscribeTikTokAudio7106170331500399878.json\n",
      "           0\n",
      "transcript  \n",
      "file_name: TranscribeTikTokAudio7235728376848272666.json\n",
      "                                                            0\n",
      "transcript  la situazione è molto complessa e ci sono vari...\n",
      "file_name: TranscribeTikTokAudio7244545854739172635.json\n",
      "           0\n",
      "transcript  \n",
      "file_name: TranscribeTikTokAudio.json\n",
      "                                                            0\n",
      "transcript  mi faccia capire quelli che sostengono questa ...\n",
      "file_name: TranscribeTikTokAudio7250049940255182107.json\n",
      "                                                            0\n",
      "transcript  a tutti i cittadini italiani che ci seguono. V...\n",
      "file_name: TranscribeTikTokAudio7260633128325090587.json\n",
      "                                                            0\n",
      "transcript  Giorgio I The American and the Playsta Thomas ...\n",
      "file_name: TranscribeTikTokAudio7231465075389795611.json\n",
      "                                                            0\n",
      "transcript  Quello che non funziona nel sistema è questa i...\n",
      "file_name: TranscribeTikTokAudio7189296202347744517.json\n",
      "                                                            0\n",
      "transcript  mi piacerebbe immaginare. Mi piace immaginare ...\n",
      "file_name: TranscribeTikTokAudio7130543050006269189.json\n",
      "                                                            0\n",
      "transcript  Gesù, Giorgia Meloni, J. Carron, Sanka Gesù, l...\n",
      "file_name: TranscribeTikTokAudio7104580217892506885.json\n",
      "                  0\n",
      "transcript  che fa.\n",
      "file_name: TranscribeTikTokAudio7063159758185827590.json\n",
      "                                                            0\n",
      "transcript  aumenti smisurati dei costi per cittadini e im...\n",
      "file_name: TranscribeTikTokAudio7143251423474502917.json\n",
      "           0\n",
      "transcript  \n",
      "file_name: TranscribeTikTokAudio7092292016104606982.json\n",
      "                                                            0\n",
      "transcript  si sarebbero potute fare le cose giuste invece...\n",
      "file_name: TranscribeTikTokAudio7109740680011894022.json\n",
      "                                                            0\n",
      "transcript  mhm. Come dire se bisogna ridere ridiamo della...\n",
      "file_name: TranscribeTikTokAudio7222341088596610309.json\n",
      "           0\n",
      "transcript  \n",
      "file_name: TranscribeTikTokAudio7123181095293701382.json\n",
      "                                                            0\n",
      "transcript  mi piace immaginarci poi quella bella frase di...\n",
      "file_name: TranscribeTikTokAudio7141803151136410886.json\n",
      "            0\n",
      "transcript  o\n",
      "file_name: TranscribeTikTokAudio7104226960422800646.json\n",
      "                                                        0\n",
      "transcript  qua? Sì, in che vuole tornare alla normalità.\n",
      "file_name: TranscribeTikTokAudio7174007223310372101.json\n",
      "                                                            0\n",
      "transcript  reddito di cittadinanza. Qui ho sentito dire o...\n",
      "file_name: TranscribeTikTokAudio7188187795985272069.json\n",
      "                                                            0\n",
      "transcript  guardi, come ha detto lei, il quadro generale ...\n",
      "file_name: TranscribeTikTokAudio7143551183792164102.json\n",
      "                                                            0\n",
      "transcript  tra il signor Pino anche qualcuno della comuni...\n",
      "file_name: TranscribeTikTokAudio7219014997781925146.json\n",
      "                                                            0\n",
      "transcript  da circa vent'anni L'italia è vittima di un pr...\n",
      "file_name: TranscribeTikTokAudio7145360998407425285.json\n",
      "                                                            0\n",
      "transcript  l'era social in cui la comunicazione di massa ...\n",
      "file_name: TranscribeTikTokAudio7226821746425466139.json\n",
      "                                                            0\n",
      "transcript  credo che insomma, tutti quanti vadano richiam...\n",
      "file_name: TranscribeTikTokAudio7215590061742591259.json\n",
      "                                                 0\n",
      "transcript  Vieni, dai, vieni. Certo, Sì, Giorgia.\n",
      "file_name: TranscribeTikTokAudio7137699360111938822.json\n",
      "              0\n",
      "transcript  sì.\n",
      "file_name: TranscribeTikTokAudio7144769480244071686.json\n",
      "                                                            0\n",
      "transcript  Buonasera sono di ritorno da una manifestazion...\n",
      "file_name: TranscribeTikTokAudio7187877327806762246.json\n",
      "                                                            0\n",
      "transcript  si è pentita di non avere tagliato le accise a...\n",
      "file_name: TranscribeTikTokAudio7138477051790494981.json\n",
      "           0\n",
      "transcript  \n",
      "file_name: TranscribeTikTokAudio7143225656137075974.json\n",
      "                                                            0\n",
      "transcript  Quindi lei crede che su Giorgia Meloni non ci ...\n",
      "file_name: TranscribeTikTokAudio7180307547616742662.json\n",
      "                                                            0\n",
      "transcript  il quale faceva poi abbiamo cominciato con i c...\n",
      "file_name: TranscribeTikTokAudio7141381807093697798.json\n",
      "           0\n",
      "transcript  \n",
      "file_name: TranscribeTikTokAudio7187514172463254790.json\n",
      "                                                            0\n",
      "transcript  io sento ormai parlare sistematicamente. Sento...\n",
      "file_name: TranscribeTikTokAudio7137965836253351173.json\n",
      "                                                            0\n",
      "transcript  continua il nostro tour Dell'italia oggi Molis...\n",
      "file_name: TranscribeTikTokAudio7067893974035401990.json\n",
      "                                                            0\n",
      "transcript  quante volte mi sono sentita domandare ma lei ...\n",
      "file_name: TranscribeTikTokAudio7249053260105944347.json\n",
      "                                                            0\n",
      "transcript  Forse lei dovrebbe guardare a questi ragazzi c...\n",
      "file_name: TranscribeTikTokAudio7144246488879713542.json\n",
      "                                                            0\n",
      "transcript  hanno il problema che a voi hanno detto per ta...\n",
      "file_name: TranscribeTikTokAudio7145754357013777670.json\n",
      "                                                            0\n",
      "transcript  è emergenza usura, anche se non se ne parla qu...\n",
      "file_name: TranscribeTikTokAudio7137343861130677510.json\n",
      "           0\n",
      "transcript  \n",
      "file_name: TranscribeTikTokAudio7251672977257942299.json\n",
      "                                                            0\n",
      "transcript  quella delle materie prime delle materie prime...\n",
      "file_name: TranscribeTikTokAudio7066095800291577093.json\n",
      "                                                            0\n",
      "transcript  noi. In una parola vogliamo difendere L'italia...\n",
      "file_name: TranscribeTikTokAudio7211143983282588934.json\n",
      "                                                            0\n",
      "transcript  Presidente Meloni approviamo subito un salario...\n",
      "file_name: TranscribeTikTokAudio7211503013234527494.json\n",
      "                                                            0\n",
      "transcript  allora nel giorno dell'unità d'italia nel gior...\n",
      "file_name: TranscribeTikTokAudio7198603797227244806.json\n",
      "           0\n",
      "transcript  \n",
      "file_name: TranscribeTikTokAudio7177049020412513542.json\n",
      "                                                            0\n",
      "transcript  la questione dell'immigrazione. Anche qui si p...\n",
      "file_name: TranscribeTikTokAudio7074130814199516422.json\n",
      "                                                            0\n",
      "transcript  questo c'è scritto sul libro di giorgia Meloni...\n",
      "file_name: TranscribeTikTokAudio7261188519618448667.json\n",
      "                                                            0\n",
      "transcript  e sono fiera di guidare questa nazione. L'ital...\n",
      "file_name: TranscribeTikTokAudio7187471251794005254.json\n",
      "                                                            0\n",
      "transcript  cosa abbiamo fatto pure prima di tutto io ho s...\n",
      "file_name: TranscribeTikTokAudio7157692146278075654.json\n",
      "                                                            0\n",
      "transcript  reparto D'onore reparto D'onore presenta a ono...\n",
      "file_name: TranscribeTikTokAudio7137367409882582277.json\n",
      "              0\n",
      "transcript  sì.\n",
      "file_name: TranscribeTikTokAudio7111970905525341445.json\n",
      "           0\n",
      "transcript  \n",
      "file_name: TranscribeTikTokAudio7142918656551423237.json\n",
      "              0\n",
      "transcript  Ah.\n",
      "file_name: TranscribeTikTokAudio7135363514704727301.json\n",
      "                                                            0\n",
      "transcript  girare nelle nostre città sta diventando un'im...\n",
      "file_name: TranscribeTikTokAudio7243836094456827162.json\n",
      "                                                            0\n",
      "transcript  abbiamo anche la contestazione. Evviva! Così a...\n",
      "file_name: TranscribeTikTokAudio7145877683740658949.json\n",
      "                     0\n",
      "transcript  Grazie, ma\n",
      "file_name: TranscribeTikTokAudio7113843601427139846.json\n",
      "                                                            0\n",
      "transcript  non siamo soddisfatti del risultato di questi ...\n",
      "file_name: TranscribeTikTokAudio7139623564637900038.json\n",
      "                        0\n",
      "transcript  micetto. Mhm.\n",
      "file_name: TranscribeTikTokAudio7198571880997981445.json\n",
      "                                                            0\n",
      "transcript  e ancora di più penso che dobbiamo essere sodd...\n",
      "file_name: TranscribeTikTokAudio7221065295304117509.json\n",
      "           0\n",
      "transcript  \n"
     ]
    }
   ],
   "source": [
    "def extract_translated_text(file_name: str):\n",
    "    if file_name == '.DS_Store':\n",
    "        return\n",
    "    \n",
    "    print(f'file_name: {file_name}')\n",
    "    transcriptions_df = pd.read_json(transcription_dir_location + 'original/' + file_name)\n",
    "    transcripts_df = transcriptions_df['results']['transcripts'] \n",
    "    if len(transcripts_df) > 1:\n",
    "        print('error')\n",
    "        raise\n",
    "\n",
    "    transcript_df = pd.DataFrame.from_dict(transcripts_df[0], orient='index')\n",
    "    print(transcript_df)\n",
    "    transcript_df.to_json(f'{transcription_dir_location}/{file_name}')    \n",
    "\n",
    "for file_name in os.listdir(transcription_dir_location + 'original'):\n",
    "    extract_translated_text(file_name)\n",
    "\n"
   ]
  },
  {
   "cell_type": "markdown",
   "metadata": {},
   "source": [
    "## Translate transcript text to English"
   ]
  },
  {
   "cell_type": "code",
   "execution_count": 140,
   "metadata": {},
   "outputs": [
    {
     "name": "stdout",
     "output_type": "stream",
     "text": [
      "Translating: TranscribeTikTokAudio7216786331005930778.json\n",
      "Another important chapter of our work in recent days concerns healthcare. The government has allocated over one billion euros for Regions and autonomous provinces, to limit the impact of payback in medical devices, on companies in the sector and to strengthen emergency rooms. Because the scenes of degradation, abandonment, confusion that we sometimes see in a difficult moment in our lives, that is, when we need emergency healthcare, are not tolerable. So we decided to increase the salaries and overtime resources of emergency room doctors. We have decided to limit the possibility that those who work in the public sector can easily and simultaneously also do so in the private sector, the so-called paid doctors. And we have decided to introduce harsher penalties for those who attack healthcare workers. Because it has also become intolerable that workers who do delicate and difficult work to save the lives of other people also have to fear for their own safety. Thanks to the government's latest measure there will be more police officers in almost two hundred hospitals and it is obviously the very first part of an overall reform that we want to carry out on healthcare so that citizens can trust Italian public hospitals again\n",
      "Translating: TranscribeTikTokAudio7177010908625980678.json\n",
      "This year marks the tenth anniversary of the foundation of Fratelli D'Italia and will be celebrated in Piazza del Popolo from Thursday to Saturday in Rome's Christmas Village. Political debates, a way to create community. This week we will take Giorgia's notes in the square in Piazza del Popolo on Saturday afternoon at half past five. I wait for you\n",
      "Translating: TranscribeTikTokAudio7194909784926063877.json\n",
      "one hundred days after the inauguration of the new government. We decided to take stock of our work. We asked ourselves if we had done at least one useful thing. Every day we collected them all and there were more. We have decided to collect the main ones so that every Italian can take stock of our activity. We have collected the main one hundred, one hundred actions in one hundred days from the measures against the mafia, such as the maintenance of the impediment prison up to the fight against illegality also done with carpet checks in the stations and starting the procedures for over ten thousand hirings in the police forces order. We have brought about a change of pace for the State in combating illegality from the fight against illegal immigration, with the decree on NGOs, the recognition by the European Union of the need to address the problem in a structural way, as requested by Italy up to the management of legal immigration, setting the quotas of those who can come to work in Italy respecting the rules. We have begun to defend our borders from human traffickers, from support for Ukraine to the Mattei plan for Africa, through over sixty contacts and meetings with the leaders of as many nations. We have projected Italy as a new leading nation on an international level from the investment of thirty billion to lower the price of bills for families and businesses to the increase in the production of renewable energy, the extraction of gas in our seas, up to the battle won for a European cap on the price of gas. We have contributed to defending Italian energy security from the tightening of citizenship income to the cut in taxes on employment, through incentives for new hires. We have established the principle that those who cannot work must have assistance, but those who can work must have work from the increase in the number of families who could access discounts on bills to the resources to combat the expensive shopping cart, through the experimentation of food income. For those in absolute poverty we have strengthened solidarity towards the most vulnerable. From the extension of the Solidarity Fund for mortgages and the guarantee fund for the purchase of the first home for young couples, through to the rule that allows everyone to transform the variable rate mortgage into a fixed rate mortgage, we have given a hand in defending the right to housing from the fiscal truce to the extension of the flat tax for self-employed and VAT numbers, up to the cut in taxation on productivity bonuses and on the highest declared incomes, through the tax relief on tips and the extension of the suspension on Plastic and Sugar Tax, we have begun to build a state that is friendlier to those who produce, from raising the ceiling to the use of cash to the norm to combat open-and-close companies. We have also begun to combat tax evasion where tax evasion really lurks from the increase in resources for healthcare to the national oncology plan, through the release of seventy-seven million intended to support people with autism spectrum disorder for rule that allows deserving disabled students not to have to give up their disability allowance. To have the scholarship recognized. We wanted to strengthen the State's attention towards the sick and the world of disabilities from the Pact for the elderly which lays the foundations for an overall reform of policies in favor of the elderly, up to the increase in minimum pensions. We told our elders that we consider them important and that we will take care of them from the release of the European agreement on the taxation of multinationals, in which Italy had a fundamental role in the regulation to put a ceiling on the salaries of the managers of the banks saved by the State until the changes to the super bonus so that its abuse could be prevented. We have launched the first measures to guarantee a more equitable and just State. And then from the extension of benefits for companies in the South, the valorisation of quality production, up to the presentation of the project to transform post offices into one-stop shops for the public administration to guarantee everyone's right to have easy and fast services. We wanted to establish the principle that every citizen, every territory, every municipality must have the same attention. From the decree to protect strategic production sectors to the birth of the Committee for Made in Italy, passing through the battle that allowed us to avoid the exclusion of wine, red meat and cured meats from European funding for the promotion of agricultural products, we have reiterated that Italy intends to defend its infrastructure, its brand, its excellence from the two billion euros that we have allocated to interventions for the safety, adaptation and redevelopment of schools, of which seven hundred and ten million that we have released and one billion and two hundred million added from scratch until the resources to make universities more efficient are increased for a total of one billion four hundred million. We have started important work to make the places that our students frequent more modern and then again on young people, from the culture card to the Merit Card, in favor respectively of the kids with the lowest ISEE and the deserving ones until the increase of the sports in the suburbs, passing through the five hundred million allocated to scholarships for university housing allocations, we have reiterated the principle that equality and merit are one prerequisite for the other from the provision to simplify the first thirty administrative procedures up to the highly anticipated reform of the procurement code we have started a profound revision to make the State more streamlined, more understandable, more efficient. From the presentation of the National Plan for Adaptation to Climate Change up to the four hundred million that we have allocated for roads in the earthquake-stricken areas, passing through the additional resources in favor of the areas affected by meteorological events, we immediately put in place responses for the victims of events such as avalanches or earthquakes. And then from the fifty percent increase in the single allowance for children to the halving of VAT on early childhood products, through the strengthening of parental leave. We have created an important support plan for those who give birth to children. I could tell many more. We could have done more. We can always do more. We must always do more. We must always do better, but I am satisfied with the fact that not even a day has gone by, Saturdays, Sundays, including holidays, without us trying to give at least one answer, always on Italy's side. \n",
      "Translating: TranscribeTikTokAudio7146670520505847045.json\n",
      "it would have been easy in this election campaign to go as others did in the southern cities and promise money to everyone. It would have been easy, especially in the economic situation in which Italy finds itself. But we didn't do it because it would have been easy, but it wouldn't have been if we were serious about talking about infrastructure. Serious is talking about serious development and talking about work, that is, how poverty is truly defeated, putting the poor in a position to become wealthy. We chose to do a difficult campaign because those themes were complex, they were more difficult to localize. Yet in every southern city our squares were full, because even in the south there is a desire to hope, there is a desire to hope for real change, there is a desire to escape from the condition of marginality, there is a desire to believe that decline is not a destiny, it is a choice. Others choose to govern the decline, we have chosen to fight. Okay\n",
      "Translating: TranscribeTikTokAudio7168946059706764550.json\n",
      "it is a maneuver resulting from political choices as was right and normal for a political government. We have decided what our priorities were. We have focused resources on those priorities. I consider it a courageous maneuver. I consider it a maneuver, um consistent with the commitments that we have made with the Italian people. And I consider it a courageous maneuver to the extent that it is a maneuver that bets on the future as we promised. Um the largest expenditure item of this budget maneuver, precisely to secure the productive fabric and families, concerns the issue of high bills out of a total budget of thirty-five billion. The measures aimed at the high cost of energy are approximately twenty-one billion euros. The two fundamental choices concern tax credits for companies, the other fundamental choice concerns families. The State, as you know, intervenes to reduce bills for families to date with a maximum of twelve thousand euros of ISEE, we bring the twelve thousand euros to fifteen thousand euros of ISEE. Part of these resources are recovered from a redefinition of the rule on extra profits which should overcome, let's say, some of the elements that were at the basis of the disputes that were raised and allow us to recover around two and a half billion. Also because we raise the rate on extra profits from twenty-five to thirty-five percent. This maneuver reserves a lot of attention to the productive fabric. There are three flat taxes in this budget: the flat tax on incremental incomes, that is, on VAT numbers that have an increase in turnover compared to the maximum peak of the previous three years. We apply a flat tax of fifteen percent on the highest profit earned. So let's say about what has been done the most with a maximum threshold of forty thousand euros, which means that the measure is a measure aimed at the middle class. It is not a measure to favor the rich, there is an increase in the flat tax to fifteen percent for the self-employed, which until now was linked to a turnover of, let's say, sixty-five thousand euros and is being raised to eighty-five thousand and there is for the employee jobs. A flat tax of up to five percent on productivity bonuses of up to three thousand euros is the cut in the tax wedge. We not only confirm the two percent cut for incomes up to thirty-five thousand euros entirely on the worker's side which was already foreseen and which we have extended. But let's add a further one percent cut to the tax wedge, which therefore reaches three percent for incomes up to twenty thousand euros. There is a start of what we have defined as the more you hire, the less you pay, i.e. a hiring incentive, i.e. for those who hire women or young people up to thirty-six years old or recipients of citizenship income. We eliminate the contribution. We introduce job vouchers in the agricultural sectors of the UCA sector and personal care, in particular with regard to jobs, jobs, housework up to ten thousand euros. Um let's postpone the entry into force of plastic taxes and taxes for another year which therefore will not come into force in two thousand and twenty three the other. The big chapter we focused on concerns the family. What are the measures? Single allowance the single allowance is increased by fifty percent for everyone for the first year of the child's life it is increased by fifty percent for three years for families who have three children or more or more. So for large families the fifty percent increase lasts three years. Still on the subject of the single allowance, another measure that may seem obvious, but is not. It concerns the increase for incredibly disabled children in the single allowance. The increase for disabled children was considered, let's say, transitory. It wasn't structural, that is, for now we'll predict it and then we'll see. I believe that, in short, let's say it is a fundamental condition that disabled children obviously have more than others and therefore we have made VAT on all products a structural measure. For early childhood it is increased to five percent. VAT for non-compostable female hygiene devices is also increased to five percent. Eh, there are the measures. The um measures for the facilitation of the purchase of the first home for young couples are confirmed, of which there are two, one relating to the registration tax and the other is the guarantee that the State covers up to eighty percent on mortgages for the first home for young couples and there is a measure that in my opinion is very important regarding parental leave. You know that net of compulsory leave, the optional leave that can be used up to six years of the child's life is paid at thirty percent. I have always thought that, let's say, many mothers couldn't afford it and that even, let's say, after the first months of the baby's life, you find yourself having problems. And maybe you can't take leave because you can't make it with thirty percent pay in this context. So we added a month of optional leave contribution, therefore not compulsory but paid at eighty percent and usable up to the child's sixth year of life. We have addressed the pension issue and we have done so seriously. The social bee is extended, the women's option is extended, albeit with some corrections, in my opinion to make the measure more balanced, um there is the issue of the pension ladder. Without intervention from January 1st of next year we, um, would have found ourselves in a situation in which everyone would have had to retire. At sixty-seven we intervene by extending the current regime with corrective measures, i.e. the possibility of retiring at sixty-two with forty-one years of contributions, but also here with some common sense guidelines, the most important of which is that for those who decide eh , let's say you enter this window um until you meet the requirements you will not be able to take a pension greater than five times the minimum. We have also decided to help minimum pensions. Now we will revalue pensions, we will revalue all pensions according to indexation, but we will do it with a different percentage based on how high the pension is. That is, we have decided that minimum pensions are revalued not by one hundred percent, but by one hundred percent. So the biggest increase in relation to let's say inflation will be the lowest pensions, all pensions up to two thousand euros and above are revalued by one hundred percent. So completely. And then as the pension increases, let's say the increase, this maneuver decreases. We also keep our commitments regarding citizens' income. So we have always said that it is a fair state that the citizen's income was the wrong measure, because a fair state does not put those who can work and those who cannot do so on the same level of assistance.. It is exactly from this philosophy that we move um we would obviously have needed more time to carry out an overall reform which we will do on this matter in a month we were not in a position to do it, but in the meantime, faithful to our principles, we establish that we continue to protect those who cannot work, disabled people, elderly people, families without income with dependent minors. Let's add pregnant women. Eh, but for the others, for those who are able to work, the citizen's income will be abolished at the end of this year at the end of 2023. I apologize next year and in 2023 it will not be possible to receive it for more than eight months in total and in any case it will lapse upon refusal of the first job offer. Um why did we make this choice? We made this choice because obviously, not having yet put in place all the tools with which we want to transform assistance into work, we have given ourselves a transitional period to accompany our choices. \n",
      "Translating: TranscribeTikTokAudio7147206448232074502.json\n",
      "gentlemen, It was the day of defeat. But this is not the day to get things done. Well, that wasn't really the case. That's fine. \n",
      "Translating: TranscribeTikTokAudio7234480028908555547.json\n",
      "Unfortunately I am the way I have been. Giorgio welcome to Japan I am very happy to have access to you here in my city and then I express my condolences for the damage caused by the victims from but always in Emilia Romagna. We pray that not ready on the occasion of my life in Italy, this January we have decided to elevate our bilateral relations to the level of strategic partnership. Would like to further compete our cooperations in this regard. I am very pleased that the negotiations of film co-production agreements between Japan and Italy have reached my firm intention. Our close collaboration with Italy that I am now can't wait to begin our responses. Thank you so much, I'm very, very happy to be here. I want to congratulate you on the determination and seriousness with which you are managing the Japanese presidency of the G7 in a year that is certainly not easy in a difficult context. Amazon no no no and obviously, as you mentioned, Italy being the next President, it is even more fundamental that our cooperation is very close. We are two regional powers that have roles of responsibility together with the other members of the GSETTE. At this stage it is essential that we work together for safety and economic security. I am very happy with the concreteness with which we followed up on the commitments we made when in January, with your visit to Rome, we elevated our relations to a strategic partnership. \n",
      "Translating: TranscribeTikTokAudio7207816601217944837.json\n",
      "whatever I have done in my life, most have bet on my failure, it has something to do with the fact that I was a woman, probably yes, and it is something that I realized very late in my existence. Because I tell this story, I tell it to say that there is good news in what may seem like prejudice. I want to tell the women of this nation that the fact of always or almost always being underestimated is a great advantage, because yes, they often don't see you coming and we must be aware of this advantage, as long as we are not. We are not victims of that prejudice, as long as we do not consider that the role that others have defined for us is also the role to which we can aspire. Because this taboo sometimes affects women too. It happened to me too. Sometimes I too was almost convinced that yes, maybe no, my place was somewhere else. Then I am a non-conformist and so let's say my non-conformism fortunately got the better of me so the message that I have on the eve of March 8th for the women of this nation is this:. It's not what role others have decided for you. The question is whether you accept it. This is what in my opinion should make the difference. It's mostly women. I want to reverse the message. It is women above all who need to believe more in their abilities and possibilities and not have to accept roles that are granted to them, instead of expecting to earn them in the field on equal conditions. \n",
      "Translating: TranscribeTikTokAudio7109083244611587333.json\n",
      "punctual like clockwork in the aftermath of the local elections effectively won by a centre-right led by brothers from Italy. The ideological armamentarium of the PD restarts. The accusation of an Italian brotherhood that scares us, an unpresentable, xenophobic, fascist movement and so on and so forth begins again. I have read delusional statements from half of the PD who are already preparing the next electoral campaign. I even read about an agency in which the head of the Democratic Party of Foreign Policy, Lia Quartapelle, speaks, speaks in reference to one of my speeches of gasps. I don't know if my colleague Quartapelle knows the meaning of the word rattle which we say in the dictionary represents the typical breathing of dying people. I don't know if yours is a wish or if you are referring to a politically dying force because in this case I am obliged to remind you that Brothers of Italy is anything but dying, that Brothers of Italy continues to grow in the results of the elections that Brothers of Italy continues to grow in citizens' consensus. And do you know why friends of the PD, why they don't buy your nonsense anymore? Because the strongest power of all remains that of the Italian people and the Italians have understood that there is a party that defends their interests while there are others that defend those of the party itself. When things go well, so dear Italians, know that it will get worse, it will get worse with the electoral campaign, it will get worse, but as the vote for the political elections gets closer. But we are not afraid because the Italians have understood and as long as they are with us, well, there is no power that can beat them. PS says my colleague Quartapelle in these delusional statements that we will be part of a right-wing international supported financially by Russia. I expect you to give substance to this very serious accusation. I expect him to say exactly what he is referring to or he will have to tell the judges of the Italian justice system. \n",
      "Translating: TranscribeTikTokAudio7217889363739315462.json\n",
      "and so? Well, a dutiful presence, not the first. Clearly I could not miss Vinitaly as President of the Council of Ministers, for a fundamental sector of our economy, of our culture. On an economic level we must remember that the wine sector in Italy is worth over thirty billion euros, which employs over eight hundred and seventy thousand workers, first in the trade balance of our, of our made in And therefore obviously it is in our interest our duty, um, to support this world, also supporting it with generational change. Why the strength of Italian wine Let's remember that we are the first producers in the world, second consumers in the world, third exporters in the world. And this sector also works above all thanks to the ability to bring together tradition and modernity, therefore families. And a tradition, obviously, that comes from very far away, which also manages with the new generations to stay in modernity and therefore obviously the government's commitment, also with the measures that we have imagined not only in support, obviously of our excellent productions not only in support of the company as a whole, but also in support of the young people in the generational turnover. This morning they will be awarded in agricultural schools within this event within Vinitaly, precisely to shine the spotlight on this element that I consider very important. Just as I consider very fascinating the choice of Minister Lollo Bridge and Minister San Giuliano to bring to Vinitaly for the first time two works of, let's say, world-class value, linked to the theme of wine: Caravaggio's Bacchus and the boy Bacchus by Guido Reni. Because not only because we want a culture that is clearly usable, but above all to remember that wine is not just an economic fact for us, it is above all an identity fact, it is above all a cultural fact. Wine has been sung in literature, in poems, it has been painted in our painting there is a history of wine, there is a geography of wine, there is a literature of wine, there is an architecture of wine 'it's a philosophy of wine. Wine is a fundamental piece of our identity, of our culture. And you know that this government is particularly committed to defending identity, culture and excellence. It should also be remembered that obviously this world produces more than half of our productions or Ps, therefore our productions of excellence and therefore, let's say, the presence of the government could not be missing, which as you know, has been present at all levels in these days. Within this event on this day there are also international meetings, particularly with some leaders of the Western Balkans, another quadrant in which the government is very busy. So it will be a long and certainly very fascinating day. Thanks good morning. \n",
      "Translating: TranscribeTikTokAudio7266312532665584928.json\n",
      "this summer, give it a little cooler, eh, I know, but so do I. Therefore, as you know from the beginning of its mandate, this government has concentrated most of its energy on the issue of salary management, on the issue of helping families. Obviously on an economic level it is one of our great priorities and it clearly interests us when the question of strengthening wages is raised. For this reason I have chosen to meet the opposition starting from the specific proposal of the minimum wage because the issue of combating poor work interests us, as long as we understand the fact that the subject is an extremely broad subject and that it must be addressed in its entirety complexity. There are disagreements on what the tools are to strengthen the purchasing power of families, to strengthen wages. And I have proposed a much broader discussion that also involves those who are constitutionally, let's say, more equipped to do this work, which is the CNEL, to finish before the start of the budget law, therefore also in time to obviously and possibly have the coverage necessary to take action. An overall reasoning on the topic of poor work which from my point of view is not resolved by a simple citizen's income. And I apologize for the simple minimum wage measure which, as you know, according to many also according to many trade unions, according to many experts in the sector, in a nation like ours, with very high levels of collective action bargaining, paradoxically worsens the condition more workers than those for whom it could improve it. But we are obviously open to discussion on the subject, which is much broader than poor work and adequate wages. On this we have proposed a work to be done together, to be completed in the next sixty days, on which I already have the availability of the CNEL and its president to understand if there is a margin for sharing solutions between the political forces and with the social partners that can be effective in promoting work. Fair work, paid adequately as this government has particularly demonstrated, putting most of its resources on cutting the contribution wedge, guaranteeing adequate wages and defending the purchasing power of families is one of our absolute priorities. Is there no structured counter-proposal from the government or not? But look, if I had presented myself with a structured counter-proposal from the government it would have been said that I didn't want to allow the opposition to do theirs, just as when I proposed to make a comparison with in I was accused of wanting to make the opposition withdraw the proposal. Look, what I want to do is simply give a signal of attention and respect on an issue that is close to my heart, because unlike those who today propose a minimum wage from the opposition, but when they were in government they did not implement the minimum wage. We have demonstrated with facts that we care about this issue because everything we have done, the bulk of what we have done has been dedicated to this matter. So I met with the opposition to tell them that it is a matter on which the government is absolutely available. But this doesn't mean that others have to give up their proposals or that I have to come and say This is my proposal and it doesn't have to be yours. Let's say these are arguments that others made. To me it seems like a sign of attention and respect, of respect. And I say it. Look, because I was in the opposition for many years and I don't remember ever having been summoned by a Prime Minister on the basis of a proposal I had presented in Parliament. So it is a sign of attention on a subject that is close to my heart. Clearly I aim to arrive at a proposal in time for the budget law, but I wouldn't want it to be simply a proposal from the majority as opposed to that of the opposition. Do you know that there are majority proposals on this matter too? The last one was presented by Forza Italia which is a party of the majority, but it would not have been a good method of dialogue to say replace your proposal with ours, it is a good method of dialogue. In my opinion, saying let's try to work together on a proposal that comprehensively addresses an issue that looks at the minimum wage alone, I'm afraid it won't solve. I hear people talk about minimum wages and poor work and they don't take into consideration the fact that for ISTAT or Eurostat surveys, poor work means the income you have within the family unit.. Which means that it doesn't depend on the, the, how much they pay you per hour of work you can be above nine euros and still be considered a poor worker then a slightly more complex matter than how it is addressed in some cases, but it is a matter that must be addressed because it is a problem that Italy has without prejudice. And I also told my interlocutors that the problem why our wages are lower than the European average is that our growth has been lower than the European average. That is, either here we understand that we need to get the economy moving again and that getting the economy moving again is the only way to guarantee wages and incomes. Or will we continue to imagine solutions which unfortunately will not solve the bulk of the problem, which is the reason why we have started working mainly on growth. The example of Germany is given, the example of France is given, but they are nations that have grown by more than twenty percent in the last twenty years, Italy has grown by two percent, as we thought that our wages could grow adequately if the economy wasn't growing, the two things are inevitably linked. So on the one hand, in my opinion, we need to continue working to encourage growth. Something happened with GDP this year and you saw that the employment data are more satisfactory anyway. We have again achieved record employment, record stable contracts, the lowest unemployment in the last fourteen years.. These are signals that go hand in hand with the growth of the economy, so that is a path that must be faced. Then obviously there are pirate contracts, fraudulent uses, there is. There is also an issue of precariousness that needs to be addressed. A theme certainly for some workers who are excluded from the protection market. But in my opinion the question must be addressed with this vision. Because if we think we are giving a simple answer to an extremely complex issue, we risk creating more damage than we think we can resolve, which he also asked the territories of Emilia Romagna to do. De Agnos' resignation, however, didn't look at me 'he asked, that's a big word. Let's say that we made a couple of jokes and I told her on the question of Emilia Romagna that I had responded with a long letter to the continuous complaints of President Bonaccini which in my opinion are poorly founded and that on the question of De Angelis I don't think I have to deal with the communication manager of the Region because I think it is the responsibility of the President of the Region, he considers the sixty days a commitment on the part of the government to close the issue of the instruments that I have formalized with the President of the CNEL and they guarantee me that they are able to do this work in sixty days. I also told the opposition forces that President Brunetta is available to meet them from tomorrow. Um, because I believe that it is a job that needs to be done immediately, because I wanted to have this meeting today, let's say, forcing you to be here too because one thing that struck me about the opposition's proposal is that they foresee one thing in my opinion sensible, that is, to imagine compensation in the event that their proposal is approved for employers who have to face an increase in wages. After that they provide neither coverage nor quantification. And you know, let's say that constitutionally a law that imposes greater burdens also needs individualized coverage. They say because we didn't want to enter into the government's competences, let's say it seems a bit more like a game of craps to me, as if to say in our opinion it should be done, but then you see it for yourself, then serious things from this point of view are done with roofing. So we are already working on the budget law. I can announce to you now that the budget law that we will present follows the trend of the previous one, that is, work income, which is what we have already done with all the main provisions of the previous one, starting from the extension of the audience of those who benefited, of the bonus for gas and electricity, up to, let's say, the first signals we have given on productivity bonuses. Now with the reduction of the contribution wedge we are going there on the budget law. But clearly anything that wants to be remotely serious has to have a cover. So it is good to arrive in time before the budget law to do this work. This is the reason why I wanted to have this meeting now to have availability, but in any case to start doing work that can arrive in time with any coverage that may be needed. Thank you very much thank you, thank you\n",
      "Translating: TranscribeTikTokAudio7274498125660704033.json\n",
      "What was the most difficult moment of your career? When did I see my family silently pay for four office transfers in the same year? No, I have no regrets. I just wished that what was my job didn't come at a great cost to my affections. Have you ever tried to imagine your life without uniform? Is this a question that might seem mean? No, she doesn't have that intention. Well, I have lived in uniform all my life with the sole purpose of serving the State, its institutions and the community around me. I think he never made you forget that you are a citizen like everyone else. \n",
      "Translating: TranscribeTikTokAudio7233290952285244698.json\n",
      "I think there's, um, one of the most amazing plays that happen throughout the year. About what? What love of country is. So you know that I believe that the theme of our national community and of the League from membership which is what binds us is one of the most important things on which we must leverage to lift this nation. So there is a need to go. No, no, no mhm. \n",
      "Translating: TranscribeTikTokAudio7133867159503097093.json\n",
      "Agriculture is the example par excellence of the real economy and the Italian one holds, in terms of quality of agri-food products, the community record of PDOs and PGIs which are over twenty-two percent on the entire register of the European Union. We are the first green agriculture in Europe, we possess a heritage of typicality, quality, food safety, care of the territory which must absolutely be protected and valorised. To defend this wealth we first need to protect our farmers by promoting supply chain contracts that guarantee adequate remuneration for the agricultural product. We must defend our lands from climate change and drought with the implementation of water basins and with the improvement of the irrigation system and by giving impetus to agro-industrial as a fundamental tool for innovation and for the protection of Italian biodiversity. And then Fratelli D'Italia wants to protect our products and Made in Italy, preventing the introduction of classification systems such as nutri scores that are discriminatory and penalizing for our agri-food sector and by combating fraud and unfair competition, such as that of Italian sounding which It steals tens of billions of euros from us every year. Fratelli D'Italia has worked and will continue to work hard in this sense to guarantee agriculture the support it deserves, because our land is our true wealth\n",
      "Translating: TranscribeTikTokAudio7128429765639343366.json\n",
      "so I continue to read and listen to imaginative reconstructions on the electoral political program of the brothers of Italy for these elections which force me, let's say, to clarify some rather banal things because before I saw comments um which circulated some sentences taken from the political program of the elections of two thousand eighteen. Wouldn't it have been difficult to verify when that program was referring to which are clearly totally decontextualized today? And now other reconstructions are going around on this document which is called notes for a conservative program which was from the programmatic conference that Fratelli d'Italia organized in Milan last May. And in the meantime let's clarify something banal, none of this stuff is the Brothers of Italy program for these political elections, because we are still writing the Brothers of Italy program for these political elections, we are finalizing it, we will publish it when we deliver it , that is, in the next two weeks, when we have to hand it over by law. After that, this story that is making the rounds makes me particularly laugh, so on this document notes for a conservative program practically this sentence is written, namely that young people will no longer be able to choose whether to work or not, but will be bound to accepting a job proposal for the loss of any benefit which has become a thing for which you, in short the jobs you have to do forced labor. Here, in the reconstructions um, both of some people on social media, and of some political leaders who clearly have an interest in attempting to misrepresent. Now the funny thing is that if you had also read the other pages of this document, you would have discovered that on the first page there is something very clear written and that is that that document was a series of contributions from people external to brothers Of Italy that we had called together and asked for their contributions and wrote us their provocations. Notes for a conservative program means contributions, but then the program still has to be written, it's quite easy, gentlemen, so the easiest thing in the world is that there will be no artificial intelligence that imposes on people, on workers, on young people do some kind of forced labor because the only form of artificial intelligence that forced people to be registered in order to work in Italy. It was the green pass and we contested it and it was made by a left-wing government okay or in any case where there were those who today contest this stuff here, as far as we are concerned, the only principle we want to affirm is that obviously Italian welfare must be distinguished and concentrated on those who cannot work, because those who can work should work. But what Fratelli d'Italia wants to do is to guarantee young Italians a job that is up to the level of their studies and that is dignified for them, both in the type of work and in the salary they receive is everything. \n",
      "Translating: TranscribeTikTokAudio7070475423716543749.json\n",
      "this Parliament will vote on its first address on the Ukrainian affair, when its government has even already decreed another state of emergency which no one has discussed. So you see, I want to be clear. We, as brothers of Italy, have ensured loyalty. In this dramatic phase, however, we will not accept that the international crisis becomes yet another pretext for trampling on Italian democracy. If you have enacted a new minimum state of emergency, the covid-related state of emergency must be removed immediately. Because allow me, gentlemen, a nation in which there are two states of emergency at the same time is grotesque, especially if it is a democracy. \n",
      "Translating: TranscribeTikTokAudio7070414977118588165.json\n",
      "and it's time colleagues to call some things by their name, recognize the refugee status of those fleeing from Ukraine, mothers and children who are actually fleeing from the war and perhaps take advantage at the same time to repatriate those who are here. But refugees are not about welcoming a community, giving hospitality to a community that in Italy sees many integrated people, respectful of our rules. Honest workers, the Ukrainians who are here in Italy, when the left had an identity, would have defined them as they are today defined as waiters and baggage workers and carers. And look, I say it with respect, I say it with respect for the category of waiters, but I have seen many more waiters among certain young journalists than among the entire Ukrainian people, which one? We were right about this too. You see, President, when there is a war it is women and children who flee, the men tend to stay and fight. And I say this because here for years we have been told that there was the tragedy of refugees faced with images of boats full of single men of working age. The images of these hours are a boulder on certain lies and coincidentally, faced with a clear distinction between refugees and economic migrants. Which First Nations are providing assistance? The very bad Eastern countries, first of all Poland and Hungary, threatened, insulted for years by the European Commission, by the left, by the mainstream media. If there was a bit of intellectual honesty in this room too, perhaps someone should mend their ways. \n",
      "Translating: TranscribeTikTokAudio7227372741660282138.json\n",
      "we brought home an excellent result here the moment. The Standing memorandum, that is the memorandum of understanding that we signed with the prime minister on AC and with the United Kingdom, is something that several governments have tried to work on before there is also a very good feeling between us. In short, the desire to work together on many fronts. And I believe that, in short, today's result was important on matters including defence, illegal immigration and then there is cooperation that is progressing on a thousand other fronts, economic, commercial, cultural. I am very, very happy with this result. Thank you. Welcome to the fight. \n",
      "Translating: TranscribeTikTokAudio7208626665683995909.json\n",
      "The decree provides for an increase in penalties for the trafficking of migrants, but above all provides for the introduction of a new type of crime relating to death or serious injuries, as a consequence of the trafficking of illegal immigrants which provides for these criminals to be punished with a penalty up to thirty years of imprisonment. In the specific case, for example, of Cutro, in the event that people die during one of these crossings and attention, an element that I consider very important, the crime will be prosecuted by Italy even if committed outside the national borders. That is, for us, anyone who is responsible for serious injuries or death while organizing human trafficking can be prosecuted with a crime that we consider to be a universal crime.. It means not only targeting those traffickers we find on the boats. It also means hitting the traffickers who are behind it. And for me this is a very important element, because the Italian government's approach completely changes compared to what we have seen in recent years. We are used to an Italy that is mainly concerned with going in search of migrants throughout the Mediterranean. What this government wants to do is go looking for smugglers all over the globe. Because we want to break this track\n",
      "Translating: TranscribeTikTokAudio7092798207511612678.json\n",
      "so we spent three days talking about this stuff here and many other things I could say, but I promised I wouldn't bore you too much on this matter. We talk about all this, we look for our proposals, we do things, we question ourselves, we compare ourselves, etc. Then the journalist on duty arrives and asks one of our delegates this question. Listen, but this dark t-shirt that carries coupons because it's true, eh? This dark t-shirt he wears is a tribute to black shirts. And who answers him? I say But there is, you won't realize how lunatic you are, Do you realize that you make yourselves ridiculous? I say it for you too, for your professionalism\n",
      "Translating: TranscribeTikTokAudio7257581884450917659.json\n",
      "Patrick Zaki today received a pardon from the President of the Egyptian Republic and I want to thank President Al-Sisi for this very important gesture. Since our first meeting last November, I have never stopped asking the question. I have always found attention and availability on his part and I want to thank the intelligence and the diplomats, both Italian and Egyptian who in recent months have never stopped working to arrive at the desired solution. Tomorrow Patrick Zaki will return to Italy and I wish him, from the bottom of my heart, a life of serenity and success. \n",
      "Translating: TranscribeTikTokAudio7132746085545561350.json\n",
      "the citizen's income was a total failure, despite having had an exorbitant cost of around nine billion euros for the State. The year, by spreading a pitiful veil over the thousands and thousands of scams that it has generated, also favoring criminals, mafiosi, drug dealers, has failed as an instrument in the fight against poverty which should have been abolished. Instead it reached historic highs and failed as an active labor policy measure, given that very few of the recipients of the citizen's income were eventually hired and found a decent job. It is yet another proof of the fact that we were right when we said that the resources for active policies should be used, used to help companies hire. Nowadays everyone says it. However, it remains that Fratelli D'Italia was the only political force in the entire Parliament in the just concluded legislature that never voted in favor of citizenship income. This is why we believe that a just state does not put those who can work and those who cannot do so on the same level. A protection tool is useful for those who are not able to work, it is useful for those over sixty, it is useful for the disabled, for families without income who have dependent minors. But for others what is needed is the training and tools necessary to encourage hiring. Because the truth is that the only way to fight poverty is to allow those in a difficult condition to improve that condition. And this is not done by keeping people in the same reality in which they find themselves. It is done by allowing them to have a job, a decent job, a well-paid job that can help them grow regardless of the condition from which they come. This makes a just state. \n",
      "Translating: TranscribeTikTokAudio7137218493681896710.json\n",
      "the house is the primary asset around which people build their future, around which they imagine their old age. In recent years many people have been overwhelmed by economic difficulties and a perverse system, instead of helping them, has ended up taking away their homes too. In many years of government, the left has not been able to offer answers to the economic crisis, and has, indeed, aggravated the effects with senseless policies that are light years away from the real needs of the people. With Brothers of Italy this will never happen again. We will pass a law that will say one very simple thing: the first house cannot be seized, except obviously for non-payment of any mortgage loan that weighs on it. If you have full ownership it will no longer be taken from you. If you get into difficulty you will be helped and not harassed. And we will also approve another law that will say something else that is equally simple and sacrosanct: immediate eviction for illegal occupations of other people's homes, without exceptions, without stratagems. Every owner, tenant, assignee of properties, if they suffer the illegal occupation of their home, will have the State at their side immediately, immediately with Italian brothers in government no one will have to fear being thrown out of their home anymore. No one will have to fear illegal occupations anymore. We will protect the house from foreclosures, illegal construction and also from assets disguised by the left\n",
      "Translating: TranscribeTikTokAudio7189709267392318725.json\n",
      "someone already has some conspiracy theories. You've heard some of this echo on this Yes, but look, I've heard them, I've heard them and frankly I really can't understand. In the sense um leek that then the first possible negotiation point when we were talking about this topic of negotiation, even in this interview that I heard, reference was made to the fact that the State was actually negotiating the dismantling of the impediment prison of forty-one bis, of the quart- of the hard prison. Okay, that's a risk that the Italian State ran as we know because there were rulings from the Constitutional Court of the ECHR, the European Court which said that prison imprisonment is essentially unconstitutional and with the fall of the previous government there was a risk of not arriving in time with a parliamentary amendment that would secure this fundamental tool in the fight against the mafia. What is the first measure of this Porro government? The first measure ever taken by this government is the defense of obstructive prison, the defense of hard prison. Matteo Messina Money will go to prison because that institution still exists thanks to this government. So someone should explain to me what, eh, let's say a possible negotiation would have taken place. After that he says eh, but he practically found himself at home. But look, it's the story of all the great mafia fugitives, eh? Which historically we say is easier for them to hide where they grew up. Also because there is usually not only greater knowledge of the area, but also greater availability. Eh eh Di maybe not to find someone who will give you a hand to cover your tracks. Then they say no. Yes, everyone knew where it was and they took it. Now to ask why is this there? Exact. Exact. Perfect. Perfect. So the thesis is that as long as the left was in government they couldn't catch him. No, someone owes me this because those who paradoxically support this thesis are the ones who were in government. What are they telling us? That they knew that everyone knew where he was. But didn't the other parties, the others who were in government go and get him? I do not know. And I can guarantee that let's say today there is a center-right government. And this fugitive was caught. I believe that this depends on the value and ability of the investigators. Because the other thing, which makes me a little angry, Nicola, is it possible that we never manage to celebrate, is it possible that we always have to flagellate ourselves when the Italian state, finally at a time when we have a thousand problems, can claim victory? No, we sit there making up that it can't be like this, that we don't realize. It is above all an insult towards people who are sacrificing their lives to achieve, to allow Italy to achieve these victories there are people who work twenty-four hours a day, seven days a week, three hundred and sixty-five days a year, shadowing, listening of hours and hours and hours of phone calls who are there they don't see their family, they don't go on holiday, they don't they don't they don't they don't they don't take holidays anything to allow us to win. Oh no, you negotiated because you negotiated with someone, it means that we don't have police forces or investigators or magistrates or men who fight the mafia, who are capable of defeating it. The mafia is a thesis that I will never support. There is no need to reach an agreement with the mafia to beat it, it can be done and today Italy demonstrated it. And I think that those who are making conspiracy theories, let's say perhaps to attack the government, because the objective is always the topic of politics. However, there are some Porro matters on which politics should take a back seat for a moment. No, we always celebrate what's wrong with this nation. One thing went well today and someone has to say it. \n",
      "Translating: TranscribeTikTokAudio7206044310301592837.json\n",
      "witnesses for this splendid welcome. On my first bilateral trip, um to Asia since the beginning of the mandate of the seventy-fifth anniversary of our bilateral relations, I'm sure. We will be able to strengthen and\n",
      "Translating: TranscribeTikTokAudio7163995254054489350.json\n",
      "November 9th of nineteen eighty-nine, a watershed date in history, not only in that of Europe and the West, but in that of the entire world. The demolition of the Berlin Wall, in addition to representing the historical premise for the reunification of Germany, marks the decline of Soviet communism and with it the totalitarian regimes that had dominated the European twentieth century. Regimes that had trampled on those fundamental values ​​and rights that have become a common heritage of Western democracies and that we often mistakenly tend to take for granted today. The strength and solidity of our democracies was made possible precisely by the end of those totalitarianisms and by the sacrifice of all those people who fought and fought, allowing us to live in a free world. It is thanks to the example of young people like Jan Palach who gave their lives for the freedom of their people, that today Europe no longer lives under the game of dictatorship. It is thanks to the spiritual, political and diplomatic work of a saint and a statesman like John Paul II, who said that Europe must breathe with two lungs, the Western one and the Eastern one. And thanks to the crowd that pressured the border guards of the German Democratic Republic to open the gates towards the west and a few minutes later danced joyfully on the ruins of that wall that we were able to re-embrace tens of millions of our brothers in the common European ideal precisely to remember the events of one thousand nine hundred and eighty-nine with law sixty-one of the fifteenth of April two thousand and five the Italian Republic declared November 9th, Freedom Day as the anniversary of the demolition of the Berlin Wall, a symbolic event for the liberation of oppressed nations and a hope for democracy for the populations still oppressed by totalitarianism. Freedom is the main value on which our democracy is based, an antibody against any totalitarian temptation. In celebrating it, the law condemns not only the regimes of the past, but also the risk of the emergence of new forms of repression of freedom. It is a fight for freedom that the Ukrainian people are carrying out to defend their nation from brutal aggression, just as respect for the freedom of each people is the foundation of international peace. Freedom is a founding value of our Italian, European and Western identity, which not only cannot we forget, but which it is our task and duty to celebrate every day, starting from the anniversary of November 9th, with this spirit that the law establishing the Day of freedom provides for the organization of commemorative ceremonies and moments of study in schools that illustrate the value of democracy and freedom, highlighting the harmful effects of past and present totalitarianism. A great Italian liberal philosopher, Benedetto Croce, who in a few days will mark the seventieth anniversary of his death and who dedicated his life to the love and study of freedom, said there are those who question the future of the ideal of freedom? We reply that it has more than a future, it has eternity. Here, celebrating the value of freedom means not only cultivating the historical memory of those who fell to conquer it, but also spending oneself every day for its eternity. \n",
      "Translating: TranscribeTikTokAudio7238646546152082714.json\n",
      "the center-right wins these administrative elections and confirms its consensus among Italians, its roots, its strength. I want to thank all the citizens who have chosen to place their trust in the centre-right, who have rewarded our good governance, our proposals and our concreteness. We have obtained important confirmations and some victories that could be defined as historic as in Ancona, confirming the fact that strongholds no longer exist and that citizens know how to make their choices by evaluating programs and people. A result that encourages us to move forward and do even better. I want to wish all the mayors who were elected well in their work. You will always find the government at your side. \n",
      "Translating: TranscribeTikTokAudio7132830393153162501.json\n",
      "sorry, no clothing, I'm on holiday, but I thought I should say a few words: the high bills, electricity and gas and inflation are devastating Italian families and companies. Supermarkets increased sales by ten percent in economic value and decreased it by seven percent in quantity. That is, it means that families spent more to buy less. And this is the sign of how inflation affects all families, but especially the weakest part of the country. The same goes for electricity, electricity and gas bills which have an explosive effect on the real economy. Companies that a year ago two years ago earned one million two three five ten thirty and with that they invested, hired, bought machinery, embellished. The offices made investments to export, this year they find themselves in the red, that is, they went from earning well and being able to invest and continue the business to having to decide whether to close the business, interrupt it, or leave the house to the employees. Think about the effect that something like this has on hundreds and thousands of companies in Italy, forcing employees to lose their jobs, to go on layoffs which means earning less on salaries that have already been lowered by inflation. These are the real problems, the ones that we all perceive to be explosive in a month. And what are we talking about? What are we talking about? We're talking about what Meloni was doing in nineteen ninety-six when there was another world, another era when she was eighteen. But who cares what Meloni did? Let's talk about the issues that Meloni raises. Let's talk about what Meloni says about work, about cutting the tax wedge, about economic interventions, let's discuss real politics, not stereotypes. Have the courage to come out of that shell in which you have taken refuge for years trying to destroy your opponent by attaching a label to him. Enough. \n",
      "Translating: TranscribeTikTokAudio7235576250306202907.json\n",
      "I believe that this day in Hiroshima was a success for Japan. I believe that compliments and congratulations should be given to Prime Minister Kishida for the excellent organization and also for the clarity with which he has laid out the themes of the debates that we have faced in these two days. Um, we obviously talked a lot about the ongoing conflict and the consequences that conflict generates for our societies. We talked at length, um, about the mistakes made in the past and how we need to somehow reverse the trend today in terms of, for example, security for the economy of our societies in terms of supply chains. I think that, in short, um, excellent work has been done here. I am satisfied, I am satisfied with the bilateral meetings. I am satisfied with the way in which Italy is welcomed, listened to with attention, as befits a great international player who has clear positions on all the issues we face\n",
      "Translating: TranscribeTikTokAudio7144338594927299846.json\n",
      "the one hundred and ten percent super building bonus is a measure created with the laudable intent of renewing our building stock for the ecological transition. Unfortunately, the provision, due to a rule that was objectively poorly written, gave rise to various frauds and led to an unjustified increase in the price of building materials.. To try to correct the initial errors, the government changed the rules for accessing and operating the fund several times during the course. Since May 2020, when the super bonus was established, sixteen regulatory provisions have already changed it. Increasingly stringent changes which have sent thousands of small businesses in the construction sector into crisis which had rightly relied on the super bonus measure and have left thousands of citizens in the book who had done the same by signing contracts for works which were then blocked, often even in progress. D'opera Fratelli D'italia has always intervened, asking that the current rules not be changed and repeatedly proposing measures to unblock the problem loan market and to encourage the resumption of work on construction sites. Our latest amendment was approved in recent days as part of the conversion work of the aid decree bis. Thanks to Fratelli D'Italia, a rule has been reached that corrects the issue of the joint liability of banks or in any case of suppliers in excess of the credits, who are now liable for their behavior only in the event of gross negligence or willful misconduct. This change is a first step which obviously serves to facilitate the unblocking of the credit market and allow banks and other entities to operate with greater serenity. At the same time it should also facilitate the transfer by companies that find themselves burdened by credits that have remained closed in their tax drawers. But it's not enough. Fratelli D'Italia also intends to go further. Do you intend to intervene to modify the functioning of the super bonus as in the immediate future? We want to intervene to protect the so-called super bonus exoduses, i.e. businesses and citizens left respectively with tax credits and blocked jobs who are prisoners of the frequent regulatory changes. It is therefore necessary, from this point of view, to accompany the current wording of the law to its expiry according to the principle of legitimate expectations, i.e. no regulatory changes for those who had already started the works which fell within. One hundred and ten for the future. We want to intervene by reviewing and reorganizing the entire system of existing building subsidies, standardizing the amount of the bonuses which in any case, in our opinion, must not exceed eighty percent of the cost incurred, directing the subsidies mainly towards first homes, simplifying how always necessary and reducing the required obligations, without compromising the necessary severity of controls, always on the side of honest businesses and citizens who work hard to make Italy grow and improve. \n",
      "Translating: TranscribeTikTokAudio7134227016500497670.json\n",
      "Few people know that Iceland in the nineties was the European nation that had the highest rate of drug, alcohol and tobacco consumption among young and very young people. And within a few years, few people know that that nation has managed to completely overturn the ranking, becoming the most virtuous nation by far.. How did they do it? They simply decided to invest in young people by establishing a sort of right to sport. All the kids were given the opportunity to do any type of sport thanks to an investment program on sports facilities and thanks to economic support for the weakest groups. Thus, with a strong synergy between school and the sporting world, Iceland has managed to cultivate generations of healthy and successful athletes. The participation of the small Viking island in the 2018 World Cup was emblematic, where it even managed to draw with Messi's Argentina. Sport will also be a center of strategic investment for us, establishing the right to sport. We will guarantee the opportunity for all children to make use of their sporting talent. We will establish scholarships for sporting merit because how many new Francesco Tottis, how many little Yuri Chechis, how many Abbagnale brothers have we lost in recent years simply because we did not give them the opportunity to play sports and how many of them perhaps ended up being swallowed up by the deviances that do they afflict our kids when they are left alone? Investing in young people means investing in the future, cultivating talent, fighting drugs, deviance, raising generations of new healthy and determined Italians full of those values ​​that only sport can give. \n",
      "Translating: TranscribeTikTokAudio7128321428012764422.json\n",
      "It has always been said that the left in Italy has cultural hegemony. I don't agree, the left in Italy has a hegemony of power which is another thing, that is, the left has built a society in which by occupying, let's say a series of spaces, an Italy is built, so whoever is anyone who thinks differently is considered a kind of pariah in society and I believe that this is the problem, that is, in the end perhaps the hypothesis of a real change, eh? And the fear that generates the hypothesis of that change is linked to this. That is, I want an Italy in which to be a good teacher, you don't necessarily have to be a member of the CGIL. To be a good magistrate, you don't necessarily have to be a member of a democratic judiciary. To be a culturally valid person and publish a book you don't necessarily have to frequent the salons of the left, that is, I would like a nation in which merit is recognized regardless of the party card you have in your pocket\n",
      "Translating: TranscribeTikTokAudio7231809083169328411.json\n",
      "I sincerely want to thank Prime Minister Fiala for this wonderful opportunity we had to exchange three hundred and sixty degree views on a historic fruitful collaboration between Italy and the Czech Republic, on many issues on which we found ourselves in absolute agreement. Thank you for this friendship that we work to implement. \n",
      "Translating: TranscribeTikTokAudio7147263913200045317.json\n",
      "September twenty-fifth I've said it all. \n",
      "Translating: TranscribeTikTokAudio7137577046552726790.json\n",
      "the defense of the national identity of our future also involves the defense of the territory, of nature, of the beauty in which we are immersed. Roger Scruton said that ecology is the fifth essence of the conservative cause because it is the example of that alliance that we defend between the dead, the living and the unborn. Fratelli D'Italia wants to address environmental protection in a coherent, free, innovative way and without any prejudice towards economic development and new technologies, as often happens on the left, starting with the defense of the natural asset par excellence which it's water. Extraordinary maintenance interventions for water transmission infrastructure are needed, reservoirs must be built that allow rainwater to be collected and reused. We must also review the bureaucratic obstacles and prejudices that have long prevented the installation of desalination plants, desalination of the sea water that surrounds us and which is an extraordinary infrastructure. Plants also necessary to address the problem of the salt wedge within rivers. When it comes to the environment, the left talks about ideological manifestos, while Brothers of Italy talks about earth, sun, air and water and man in relation to this nature\n",
      "Translating: TranscribeTikTokAudio7265735771271728416.json\n",
      "Another much discussed topic in the political debate is that of wages and specifically the hypothesis of a minimum wage by law. To seriously address this reflection, I think it is important to start from what has happened in Italy in recent decades, no. Photograph the situation. If we looked at the OECD data on the trend of average wages, we would realize that for over thirty years the salaries of Italians in real terms have been practically frozen. Indeed, Italy is even the only country in the European Union that has decreasing wages and if we narrow the field to the last ten years, those in which the left has governed almost continuously, we will see that wages in this period have fallen on average of one point four percent. In the same years, to clarify, the wages of the French have grown on average by four point three percent and those of the Germans by as much as six and seventy-five percent.. So yes, in Italy there is a serious problem of low wage levels. And I'm happy that finally those who, when they were in government, were unable to reverse this trend are realizing it.. Including legal minimum wage, which has not been approved in the past. Because if the legal minimum wage is the solution, why didn't the parties that are now clamoring for it introduce it in the long years in which they were in government? Probably because you are aware that it may not be an effective solution. But it's definitely a title that works. And imagine if he is not sensitive to the issue of increasing wages. Those like us who in just a few months have cut the contribution wedge by up to seven points for the lowest incomes, increasing the net paycheck to workers, have reduced taxes on productivity bonuses, have increased the exemption threshold for Prins benefits, have the season of public sector contract renewals has started, for example with the renewal of the school staff contract. Really who concentrated on increasing wages? The bulk of his measures are those who defend poor work as I hear some political exponents say and who instead has led to the inadequate wages we have today are friends of the workers because now that he is in opposition he is proposing the minimum wage? Maybe it's not that easy. But then why didn't we accept the opposition's proposal on the legal minimum wage as it was presented? I try to explain it in easy words. In Italy we are considered a virtuous country because we have a very high percentage of workers covered by collective bargaining, i.e. by reference contracts that are signed by the unions. Ninety-seven percent of these contracts are signed by CGIL, CISL and UIL and these contracts all also provide for a minimum wage for each sector.. Now, in light of this, if I decided to establish by law a minimum hourly wage for everyone which inevitably will have to be, let's say in the middle, I would find myself with a legal minimum wage which in many cases could be reasonably lower than my minimum contractual agreement foreseen for several of these national contracts. That is, the paradox is that the minimum wage could risk becoming a substitute parameter and not an additional one, with the result of paradoxically worsening the wages of many more workers than those for whom it would improve it.. In short, a captivating title, a result that risks being counterproductive. A risk that supporters of the minimum wage evidently do not take into consideration, but which in my opinion should be taken into consideration. Because obviously it's the risk that we end up with a minimum wage rule. Paradoxically, to look after their interests, the large economic concentrations, which are the only ones that would gain from a generalized reduction in wages, are, let's say, within reach. This is the reason why we did not vote for the opposition proposal. But obviously this doesn't mean that the topic isn't close to our hearts. For this reason, in the next few days we will open discussions with the opposition and try to understand if there is room to present together a serious, serious proposal against low wages, which can provide wage parameters for those sectors and those workers who are not covered and guaranteed by collective bargaining, which at the same time can increase controls to combat irregular work, false part-time contracts and other practices, or rather other crimes of the kind. And we hope that we can arrive at a serious, shared response on this, but one that improves the condition of Italian workers overall and does not improve the condition of some, while worsening that of others.\n",
      "Translating: TranscribeTikTokAudio7140955700699696390.json\n",
      "we are in the midst of an energy crisis, with bills that are now unsustainable for families and businesses. Our entire productive fabric is at risk, with thousands of companies and many thousands of jobs at risk of no longer existing. We must intervene immediately. The European Union suddenly found itself hostage to Russian blackmail on gas and harnessed to an energy pricing mechanism that actually encourages speculation. Errors that need to be corrected. The path over time must be the diversification of energy sources and supplies, with less bureaucracy for renewables. By returning to extracting gas using latest generation technologies and above all by enhancing the geographical position of Italy which can, in this unfortunate situation, become the energy hub of Europe, the future is paradoxically full of opportunities. For us, however, the bills must be paid tomorrow, not in a few years. We are in the European single market with interconnected economic systems. So the priority is to immediately set a price for gas at European level so that speculation can finally be blocked and this would immediately lower bills. It should have been done months ago, but some members, among the very presentable ones, according to a certain Europeanism, didn't want it because it wasn't convenient for them. The behavior of the Italian left is scandalous on this, as it remains silent so as not to annoy anyone in Europe. Because they are so strong with the weak and weak, with the strong ceiling on gas in Europe immediately. And beyond this, the price of energy must be immediately disconnected from the price of gas. Because today we also live this absurdity. The high bills are not inevitable, they are the result of a mechanism that has proven to be perverse, all the energy produced even from sources other than gas and which are therefore not affected by the increases, is sold at the price of energy produced with gas. This is where the exorbitant bills and huge extra profits that some are making come from. So it's time to say enough to these distorted mechanisms. It is better if it is done in agreement with all the EU states, but it can in any case also be done at a national level. And the government can immediately do more at a national level to reduce energy waste in the public sector and local authorities, such as street lights lit in broad daylight. And above all, the State can intervene immediately to allocate more resources to reduce the bills of families and businesses with direct aid and tax credits. There are ways to finance these interventions: the extra revenue can be used, i.e. the greater tax revenues that derive from inflation and the higher price of energy. The possibility of partially using European funds can be agreed in Europe, as has already been done in the past. For example, with Covid it is possible to seriously tax extra profits or in any case seriously recover the proceeds of those taxes, given that so far one billion out of the ten expected has been collected due to a rule that was evidently not written quite well. Why not? It is not fair that families and businesses always pay the price for the mistakes made in Europe and made over the years by governments. \n",
      "Translating: TranscribeTikTokAudio7215644500771818757.json\n",
      "\n",
      "Translating: TranscribeTikTokAudio7066845965105319173.json\n",
      "it being understood that the vaccine is very useful not on contagion, but on, let's say on the disease, the worsening of the disease. Okay, the green pass is perfect so we're not talking about the vaccine. We are talking about how we have let's say, brought people to how we have managed the green pass, now honestly in Italy with rules that have abolished article one of the constitution. Having told people that they can enter a supermarket without a green pass to buy basic necessities and who will look at them at the cashier, we told twelve-year-olds that they were not vaccinated. When we say about young people, the scientific community doesn't all agree that they can't play sports and it seemed to me that the scientific community agreed on this and we have twelve year old kids who can't play sports. If you are a cancer patient and want to take a ferry to go for surgery from Sardinia to Rome you cannot get on the ferry and thousands of unvaccinated illegal immigrants disembark. Oh no, sorry, but he's schizophrenic. It is not the first point according to what results it has brought, that is, other nations which have not bent the rights of the people in this way, which have not taken the debate to such extremes, which have not pitted Italians against each other, but which have only explained I want see who is sixty-six percent. \n",
      "Translating: TranscribeTikTokAudio7136469259756031237.json\n",
      "In the last twenty years France has had four heads of government which there coincides with the President of the Republic. The United Kingdom has had five Prime Ministers, Germany three Chancellors, Italy eleven Prime Ministers. An instability that penalizes us in relations with other states because it clearly makes us appear less credible. An instability that penalizes Italians because governments that last so short do not have a long-term vision, they always and only seek easy and immediate consensus. Also for this reason, from 2000 to 2019, Italy grew less than anyone else in Europe, only four percent, in the same period in which France and Germany grew by more than twenty percent.. Political instability is a major factor in our economic decline. Presidentialism is not an abstract measure and the most economic measure that Italy needs. If the Italians give us confidence and strength in the next elections, we will introduce the direct election of the President of the Republic. And a system that gives stability to the government, an institutional system worthy of a great Western nation like Italy to return to being protagonists in Europe and in the world to return to investing in our future, to return to growth and prosperity\n",
      "Translating: TranscribeTikTokAudio7146642608033434885.json\n",
      "we are at the end of the election campaign and I really couldn't have done more. Now I will stop and it is you who must move forward in this ideal relay to do something historic. September twenty-fifth, Sunday from seven to twenty-three, cross on the symbol of the Brothers of Italy. \n",
      "Translating: TranscribeTikTokAudio7176318412900027654.json\n",
      "eighteen app. So, in recent days there has been a lot of controversy over this amendment that was presented by the majority parties on the topic of the famous bonus for eighteen-year-olds. Let's say for culture, as they say, we want to abolish it etc. In reality we don't want to abolish it. Um we believe that it is very important to bring young people closer to culture, so much so that in parallel to what Minister San Giuliano already has, the Minister of Culture is working on a culture charter by doing, let's say, a job with all the operators of the sector to encourage cultural content, for young people, to give them further opportunities. But certainly eighteen apps is a measure that in my opinion needs to be reviewed for some trivial reasons, the first of which is that these five hundred euros upon turning eighteen are recognized to everyone, regardless of income.. And I sincerely think that there is no reason why the children of a millionaire of parliamentarians, my daughter, if she turned eighteen tomorrow, is much younger. I think I could, let's say, give up the five hundred euros to buy her books or cultural content and I believe that the same measure concentrated on those who are in difficulty, those with the lowest incomes, could have a much greater impact. So yes, I believe that a limit should be introduced on the income of those who access this measure. I believe that the contents and things that can be purchased with these resources should be better defined. And I also believe that we need to work a little on scams, because we have also seen several scams on this measure. I therefore confirm that we intend to modify this rule without taking these resources away from their original destination, which is young people and culture. \n",
      "Translating: TranscribeTikTokAudio7239724965312941338.json\n",
      "match um of E Times for showing can be free people and a supra nation security and international British moldova um with food and um time the witch show the on um I club Europe is more and be and um us from from witch um depend um from da Hades cast um principal in Detroit from helping yn to shapes from your um The Walk um yn Moldova Georgian Western to the European Union A witch mins wedding um European Union Coming Back to get York SE Europe um S um John Paul II The Pop Set Um West the Est and A in the the solution Security Account Witch The Energetic One Um The capacity from um and remember Global Relations um Africa the Migration HTS Nations to too\n",
      "Translating: TranscribeTikTokAudio7262671603471797536.json\n",
      "the Ah a a a um um um\n",
      "Translating: TranscribeTikTokAudio7146691344281521414.json\n",
      "Italy is not afraid of respectable people. Productive Italy is not afraid. Italy is not afraid of those who want to work. Italy is not afraid of women who did not ask for quotas in every area but asked for services and meritocracy. Italy is not afraid of young people who want not to have to escape from their land. He who dreams of a proud Italy is not afraid. Those who want to be proud of their nation, their people, their flag again. That Italy is not afraid. That Italy is ready. We are ready and you will see it together. On the twenty-fifth of September, Sunday from seven to twenty-three at the last vote to restore freedom to this nation, to restore its pride, to restore the greatness it deserves. Long live Italy! Viva! Brothers of Italy! Long live the center! Thank you. \n",
      "Translating: TranscribeTikTokAudio7180372649367915782.json\n",
      "I came here, not to hold rallies. I came here simply to tell you that Italy should leave the work you do, on days when you normally don't. Those who work outside the home, those who return home to spend time with their family, the days of Christmas. You can't do it, but that family sees you. It's not just your family, it's your homeland. Who is a mother? And I believe that that homeland, in days like these, must be there to say, to tell you that the credibility, the pride, um the reliability that Italy can boast in the world which make it respected, respectable, richer, walk on your legs, on your example and on your sacrifices. The sacrifices you make are obviously not an easy thing. You did it by choice, you did it by choice, and that choice is a choice of love. And this shows that you are free people. Because the philosopher says that man is not free to the extent that he does not depend on anything and no one, he is free to the exact extent that he depends on what he loves and is a slave to the exact extent that he depends on what he does not can love your sacrifices. Your renunciations depend on what you love, they make you free and they make your nation free. Isn't it the credibility that we have built today largely through politics? No, definitely not. Above all, politics, a good part of politics, has been able to take advantage of your example. So Italy must say thank you. Simply, he must tell you that he recognizes your value and that, like your homeland, he can count on you. I hope you know that you can count on your homeland. Merry Christmas to you, to your distant families. You are four kilometers away. Maybe here, four thousand kilometers, maybe something further away from home. But you live at home. He knows how much you are worth. He knows how much he owes you. Thank you. Thank you. Very happy Mr President. I allowed myself very little. We are in the Christmas mood. Two splendid personal gifts from the contingent. At this moment I would almost like to think. A little while ago you gave all the signatures of the soldiers present in this room. If someone is missing, it's because I say it with emotion. Did you succeed? Worse. The second is even a little more personal. Communicate your most intimate and dear things. Can I Mosaic? Yes please. Yes, what? Her permission had to be more than Ah, yes, there are also in Italy. Let's go. His permission though if thanks to you Thank you. Compliments one at a time if I don't know where to look. Reason No, otherwise I don't know where to look. I'm here, I'm here. Thank you. Come on. Thank you. Thank you for this welcome. Thanks for making me feel like family. Um, thank you for your gifts. Not only because there were gifts, but because of the meaning that those gifts have that I carry with me And in short, that's it. But why? here it is. Here there is. Let's just take a moment, please wait a second. Just one second Mhm. \n",
      "Translating: TranscribeTikTokAudio7086078703641332998.json\n",
      "There is talk these days of the possibility of an accelerated budget law in the summer for a vote in September. Do you consider it a hypothesis? Probable and desirable? Desirable? Absolutely yes. It seems to me that this government, from all points of view, is not giving a great account of itself, even, I mean, on the international issue. Then first, in short, did we get carried away? No? But it is true that diplomacy is lacking from this point of view and is lacking for the credibility of Western leadership. It's missing because the president of the United States is inadequate, because Europe doesn't exist and even Italy doesn't seem to be giving a great account of itself.. So this is a government that on the international level, on the national level, on the economic level, on the level, cannot decide anything. The classic majority divided on everything, which creates possibilities that this person cannot afford to live with. Look, if you had asked me before the conflict in Ukraine I would have told you that I was absolutely certain that the government would go home before the end of the legislature. Now, obviously, in the situation we're in I assume it's more complex, but for me it would be good news. Anyway\n",
      "Translating: TranscribeTikTokAudio7204931077029268741.json\n",
      "mhm Good evening President and thank you for agreeing to open this new program after the tragedy in Crotone L'Europa Good evening. Good luck! Thank you. After the tragedy of Crotone, once again Europe is tearing its clothes but not taking a step, while the opposition severely attacks the government's policy on migrants. But look, in the meantime I want to reiterate my condolences for a tragedy that cannot leave anyone indifferent. After that I believe that what happened proves what we have always been saying. Because among the many falsehoods that I have heard in recent hours there is the one according to which these people, let's say, were shipwrecked due to the government's measures on non-governmental organizations. Except that that route is not covered by NGOs and therefore this simply demonstrates that the point is that the more people leave, the more people risk dying. The only way to seriously deal with this matter with humanity is to stop the departures and on this we need a Europe which, in addition to obviously declaring availability, acts quickly. And this is the reason why today I sent a letter to the European Council and the European Commission to ask that what we discussed at the last Ukrainian European Council meeting be immediately made concrete, we saw her moved in front of the children's soft toys killed on the bus and you confirmed to Zaleski the full support of the Italian government, despite an important part of public opinion being against the sending of weapons, I was moved by some soft toys in the rain in memory of some children because my daughter has some a similar one and however I also want to tell you that I thought that Italians should be very proud of them instead. First of all because many probably expected a little Italy, spaghetti and mandolin which, when faced with difficulties, always turns the other way in the end and instead we have been something else, we are something else and look at this, it's not just a fact of pride is a matter of defense of the national interest, because when you are authoritative, when you are credible your voice is also listened to and when your voice is listened to then yes you can obtain results for your national interest. I understand all the difficulties and doubts of the citizens, but I also think that it should be clear that it is an illusion to think that if we did not support the Ukrainians um we would have peace, we would not have peace we would have an invasion and that invasion would bring war closer at our home. After that I also hear people say but here we don't have the money for the Italians and instead we spend the money on weapons. This is also a hoax. Director, we do not spend money to buy weapons that we send to the Ukrainians. We have weapons that we believe today we fortunately do not have to use and therefore there is nothing that we are taking away from the Italians to avert a war that could also concern the Italians. Nobody says that we in Ukraine brought electric generators because there are people who risk dying of cold, there are people who don't have electricity, children, families, normal people, attacked with missiles that bomb strategic infrastructures to subvert the population with the cold, with hunger, with the darkness. I am proud and I believe that Italians should be proud because it is Italy. Except that it is a proud Italy that does not change its position from one day to the next because as long as I am in government, this Italy I want to represent a woman at the helm of the Democratic Party. Bonaccini promised an opposition, I would say severe, but collaborative. The SNE, on the other hand, announces a very tough opposition, a nice confrontation between two women leaders. But look, I think it's certainly a very interesting scenario. I called El line to personally congratulate her. Obviously I expect very tough opposition. I made a very strong opposition, director, the confrontation of ideas didn't worry me or scare me. I have never heard it said that we will be a problem for the Meloni government. Look, democracy has never been a problem for us. If anything, for the left it has often been a problem for us the comparison if it is a comparison made on ideas it is simply good news and therefore I am certainly ready for the comparison. And again I wish Eliche Line good work. Thank you President, thank you. Good work. Thanks to you too. Happy Amadeus and see you tomorrow. \n",
      "Translating: TranscribeTikTokAudio7247012477228076314.json\n",
      "The day of the final exams has arrived. I remember the anxiety. But what happens today you will remember all your life. Face it head on. Good luck. \n",
      "Translating: TranscribeTikTokAudio7205257187130674437.json\n",
      "among the many falsehoods that I have heard in recent hours is the one according to which these people have been shipwrecked due to the government's measures on non-governmental organizations. Except that that route is not covered by NGOs and therefore this simply demonstrates that the point is that the more people leave, the more people risk dying. The only way to seriously deal with this matter with humanity is to stop the departures and on this we need a Europe which, in addition to obviously declaring its availability, acts quickly. And this is the reason why I sent a letter to the European Council and the European Commission today to ask that what we discussed at the last meeting of the European Council be immediately made concrete. \n",
      "Translating: TranscribeTikTokAudio7115419591593037061.json\n",
      "Hold on, everyone, the Italian left has found a huge scoop. Meloni eight years ago said she agreed with the ius co while contesting the ius soli and then brothers of Italy. Today he votes against the ius and therefore Meloni says one thing and does another because they think that everyone is like them. Except that we say we are not made like that, we are not people who would say we hate five star hotels. Then he would go to government together or he would say I don't like the citizen's income and and and then he would vote for it. We are made of another stuff. And in fact for ten years now because the tweet that the left is spreading everywhere today from eight years ago we have been saying the same thing that we agree with the jus co. But does the ius Scole provide for compulsory schooling? It's ten years of compulsory schooling, which is exactly what I, for example, was saying yesterday before this video came out. Because we are so boring, we always say the same thing. If you want to make a law that recognizes citizenship, let's say on the basis of the education of the citizen through the school system, I point out that compulsory schooling is ten years and instead the law that it was approved by the left and provides for five years and that is, it provides for something completely different which in fact is closer to the ius soli than to the ius scuola. Easy it doesn't take much you have to study, know how to read and then but why? And do you spend the day insulting or mystifying? What need is there? Perhaps you have some difficulty in explaining to Italians why in a moment like this, in a moment in which we are heading towards a dramatic autumn on a social, economic and cost-of-living level, you are dealing with a matter which, first of all, is not priority at this moment and second point? Furthermore, from my point of view, if you want to bring it into the legal system you should ask the Italians what they think about it and then put it in your next program and then ask the Italians if they give you the majority to carry out these things which should not be the subject of the government of national unity that we needed to do our best to get out of the pandemic. Let's try to be serious, on the one hand there are us who are serious and on the other, there are you who have some objective difficulty in arguing about seriousness and therefore try to mystify but find another one\n",
      "Translating: TranscribeTikTokAudio7136459590434147590.json\n",
      "Yes, even more. After that you need to put the filling. They put the filling. How much filling is it? Okay, eh, Maybe something more. Then I call it black Argentina guys. Giorgio is making panzerotti. I am black, my daughter Giorgia and I am saying that Giorgio is a masterpiece. \n",
      "Translating: TranscribeTikTokAudio7146265492234292486.json\n",
      "and to the entire coalition, Obviously a woman, a mother, the first female president of an Italian party and the first good female president, ladies and gentlemen of reason, Your daughter. Ah, Sir, Hello. \n",
      "Translating: TranscribeTikTokAudio7135145359629634822.json\n",
      "\n",
      "Translating: TranscribeTikTokAudio7136548859093863685.json\n",
      "but it is a nation that equally needs such a government, a government of free people, a government of people who have no masters, a government of people who cannot be blackmailed, a government of people who cannot be bought , of go, of a government made up of people who do not respond to a system of power. And I tell you in good conscience that I think I can lead a government like this. \n",
      "Translating: TranscribeTikTokAudio7257145557309738266.json\n",
      "For us, the partnership with Tunisia should be considered a model for building new relationships with our neighbors in North Africa. This would probably have been unthinkable a few months ago. I say this with a touch of pride, but above all I say it with great gratitude um, towards the European Commission, the Council of partners who have worked towards this objective. It is an important team effort that must continue with the same determination from tomorrow. The memorandum is a starting point which will have to be followed by various agreements to ground the objectives we have set ourselves. We will continue to work together with great determination. \n",
      "Translating: TranscribeTikTokAudio7094669289294220549.json\n",
      "so this nice little scene was broadcast last night in Piazza Pulita. It deserves to be commented on because it's surreal from start to finish? Um Laura Boldrini um it is let's say, a modern enough right to be able to govern by expressing Giorgia Meloni, prime minister No, soon we will see the messages, we will see the polls which in any case already anticipate you, they give brothers of Italy this first Italian party. Boldrini yes, in my opinion it isn't. It is a reactionary, backward right, an obscurantist right, a right that does not sufficiently focus on Europeanism, a right that cannot lead a country that is a founding country of the European Union. A right that is unable to distance itself from the extremism that surrounds it and infiltrates it. A right that is not liberal is not liberal because a right is liberal, for example. I do concrete things that we see in Parliament. No, it would not be the barricades on the Bolkestein, that is, which liberalizes the public concessions of the sea. Um, it's not a liberal right for many reasons. Because he is putting up barricades against the cadastre reform that we have had since a decades-old cadastre. Liberals would not make this point. First Corrado Formigli asks Laura Boldrini, that is, a political exponent of the PD who was president of the Chamber for the extreme left parties. If in your opinion Giorgia Meloni and her brothers from Italy could, if they won the elections, govern and while it's funny, why do you think they would govern well or badly in something you say? No, but they ask you if even the Italians were to vote for them, they can govern Laura Boldrini, who is an opponent of the brothers of Italy, therefore not even a commentator, that is, really blue ones. Mrs. Boldrini, however, gives us something even more fantastic. Mrs. Boldrini answers no. Meanwhile, the famous democratic party says on television that if the brothers of Italy democratically won the elections they could govern it. And already, I mean, I'm starting to suggest Enrico Letta change it. Not the name of this party, because in short it's starting to be a bit surreal and ridiculous. Then even funnier than this is the reason why brothers of Italy could not govern even if the citizens, a sovereign people, voted for it because it is an illiberal party, which is an illiberal party because it is against the reform of the land registry, is an illiberal party, because it is opposed to the expropriation of beach businesses by the government to auction off the establishments and give them to foreign multinationals. That is, we are illiberal and we cannot govern because we do not want to tax houses and we are illiberal because we think that a company which respects the rules given to it by the Italian State after having invested cannot be expropriated to do a favor to the usual suspects of great strong powers. Here you are, gentlemen, the Italian left explained in two minutes. \n",
      "Translating: TranscribeTikTokAudio7232366148258417946.json\n",
      "the history of the Italian people is a history of great undertakings, of creativity, of results that have impressed the world. And that is the Italy that we want to encourage. That is the Italy that we want to see and live again in which we want to be protagonists again. We want to give Italians back a nation in which being fathers is not out of fashion, being mothers is not a private choice, but a socially recognized value. A nation in which everyone, men and women, rediscover the beauty of becoming parents, welcoming, caring for, nurturing a child, a nation in which having a child is a beautiful thing that takes nothing away from you, that does not stop you from doing anything and which gives you so much. But we want a nation in which it is no longer scandalous to say that whatever the legitimate, free choices and inclinations of each individual, we are all born of a man and a woman in which it is no longer a taboo to say that motherhood is not for sale, that wombs cannot be rented, that children are not over-the-counter products, that you can choose on the shelf as if you were in the supermarket and perhaps return them if the product does not correspond to what you expected. We want to start again from respect for the dignity, the uniqueness and sacredness of every single human being, because each of us has a unique and unrepeatable genetic code. Like it or not, this is sacred. Overcoming the demographic winter, Pope Francis told us, means fighting something that goes against our families, against our homeland, against our future. Your Holiness, we love our families, we love our homeland, we believe in our future and we will do our part to the full. Thank you. \n",
      "Translating: TranscribeTikTokAudio7157249765837786373.json\n",
      "in the year two thousand and twenty-two on the twenty-second day of the month of October in Rome, in the Quirinale Palace, in the hands of the President of the Republic pursuant to article ninety-three of the Constitution, the Honorable Giorgia Meloni, President of the Council of Ministers, takes the oath. to be faithful to the Republic, to loyally observe the Constitution and the laws and to exercise my mandate and my functions in the exclusive interest of the nation. Yes Yes Yes. \n",
      "Translating: TranscribeTikTokAudio7138307731299028230.json\n",
      "with Gianni Forti, uncle of Chico Forti, an affair that Fratelli d'Italia has been following for many years for this Italian who we are fighting so that he can return to Italy and here we are doing the impossible to try to bring him back here. In short, it is something that still seems to be receding over time. Italian institutions have at times dealt with the story of chicos with lesser and greater fortunes. What I can say is that a centre-right government led by the brothers of Italy would do everything it could to continue this process and to allow Chico to at least finally be able to see his daughter. And maybe it's not me, I hope that after ten governments that have existed, they have always told us that it is a priority to deal with the Chico affair in a strong way this time, in short, that we will at least reach a solution because twenty-two years is a long time and then recently we also learned that he is about to become a grandfather who he has never seen. Now unless he gets to see his grandson. In short, we hope to do what we can, adding at this point also your personal commitment, you know, you know? I don't know, also for having given that award as man of the year to tri last year, award for chico forti, gianni took it, ciao\n",
      "Translating: TranscribeTikTokAudio7144425341279341830.json\n",
      "I am\n",
      "Translating: TranscribeTikTokAudio7142030812693810438.json\n",
      "we do not intend to modify law one hundred and ninety-four. We do not intend to abolish Law One Hundred and Ninety-Four. What we have always said we wanted to do with respect to the one hundred and ninety-four law on abortion is to apply it in its entirety because it was a law made, let's say in a complete manner, which also had an entire first part dedicated to the prevention of the abortion practice which has never been applied for the ideological approach that has existed in recent years. What does applying prevention mean? It means guaranteeing a possibility to those mothers who find themselves having an abortion because they believe they have no alternatives.. Because if I can help those mothers I will help them. There are women in Italy who have abortions because they think they don't have the money to carry the pregnancy to term. There are women in Italy who have an abortion because they think they don't have the resources to be able to raise that child. There are women in Italy who abort simply because they find themselves alone, they find institutions that perhaps push you to do only the easiest thing. Here, I think that this whole world, to date carried out very well for charity, from some structures to some structures that exist from life support centers, for example, can and must be implemented what is. This is because I am told that this is a limitation of women's self-determination. Instead, I believe that this is the way to defend a woman's self-determination, because a woman can self-determine to the extent that if in the end she decides to have an abortion, she aborts.. But if she is not convinced to make that choice she has another one without all the rest of the institutions being on the other side. It's a debate that I really like, it makes me smile a lot, it's the same thing I've been saying since the beginning of my life and the fact that people continue to unexpectedly say that I want to abolish the one hundred and ninety-four is not understood based on what you know why it bothers me ? Because I am a person used to saying what he thinks, even when what he says is unpopular. It seems to me that you know this. No, I'm not someone who says one thing and thinks one. When I think something I say it, if I had wanted to abolish or modify law one hundred and ninety-four I would have declared it because I am different from many other politicians I have seen. If I've always said the same thing, there's probably no reason to keep making up fake news. I don't need to invent fake news about my opponents, I just need to say who I really am because they need to invent fake news about me. \n",
      "Translating: TranscribeTikTokAudio7240155848205454619.json\n",
      "as a national team. In the end, this is the homeland. It is a dimension of sacrifices that are made together for those who have done it before us and for us to do it towards others. \n",
      "Translating: TranscribeTikTokAudio7132368164540730629.json\n",
      "our work is a work that will see the Minister of Health as one of the important points of reference, who has personified, in these two years, what our choices mean in favor of the safety of citizens in favor of a safety that has guaranteed freedom in favor of a security that guaranteed freedom. \n",
      "Translating: TranscribeTikTokAudio7116559793489267973.json\n",
      "the other one. What always begins the hunt for Giorgia These are Letta's statements she says give me shivers. It brought back the shivers Letta but then it gives me shivers. Dear Enrico Letta, your party comrades give me shivers. Your Leu allies give me shivers what they say about justice, those of the Five Star Movement. But how can you think that those from Meloni give you shivers, for the simple reason that you risk losing in the elections? And so the shivers are not derived from the horrible Meloni movement, but are derived from the fact that the shivers are that you return to not having a stump in life clearly. \n",
      "Translating: TranscribeTikTokAudio7265621447920422176.json\n",
      "Council of Ministers approved several measures, the most important of which, in my opinion, is the taxation on unfair margins of banks. We live in an economic and financial phase that is very complicated. As you know, in Europe we have had strong inflation caused by factors external to our economy, but the response of the European Central Bank was to intervene. One could argue about the effectiveness of the initiative with a very strong policy of increasing interest rates. This has led to a situation in which prices increase, the cost of money increases and therefore also the cost of variable rate mortgages of new mortgages of existing loans and also leads to a contraction of the economy. In our opinion, in this difficult situation it is essential for the banking system to behave, let's say so, in the most correct way possible. Then there was an increase in the borrowing rates that the banks applied to their customers, i.e. an increase in what the bank asks the citizen for mortgages and loans, like which, however, the lending rates recognized by the banks should also increase to those who deposit in the bank, i.e. how much the bank recognizes you for the money you deposit in the bank. However, unfortunately this has not always happened and we are therefore recording record profits from many banking institutions. So we decided to intervene. We have decided to intervene with the only tool available to the government which is taxation. We decided to introduce a forty percent tax on the unfair difference in the interest margin, that is, what is the unfair difference in the interest margin is the difference between the amount of interest expense and interest income of banks, that is, the difference on how much the banks charge you to lend you money and how much they recognize you when you deposit the money. A taxation on those extra margins that the banking institutions have recorded also thanks to the citizens and businesses that deposit in the bank, which in our opinion is not a tax on a legitimate margin, but a tax on an unfair margin. We do this by intervening only on the increase in the interest margin that the banks recorded in 2023 or 2022 compared to 2021 when the policy of increasing rates by the European Central Bank had not begun. And what do we do with these resources? With the resources that we recover we will help finance the measures to support family businesses in the face of difficulties related to the cost of money or the high cost of money which often do not even allow them to face the costs of a mortgage peacefully. The topic of mortgages is a topic that continues to recur and for example, with these resources we can help the families most in difficulty precisely on the topic of mortgage payment. \n",
      "Translating: TranscribeTikTokAudio7070073900100521222.json\n",
      "who goes M design, yo. \n",
      "Translating: TranscribeTikTokAudio7278386520275373344.json\n",
      "Good evening President. Giorgia's vision, written with Alessandro Sallusti, is precisely a vision of a nation's program over a coffee. Compared to a year ago, when he won the elections, he is still so optimistic. But look, I can't tell you if the category of optimism, let's say, has ever fully belonged to me, in the sense that it has also been my strength.. I am a person who always tries to look at the worst case scenario and even the one that kept me going, that prevented me from settling. But I can tell you that I am still confident and I can tell you that I am at peace with my conscience because in this year I physically could not have worked more. And because today I meet an Italy that is giving very encouraging signals, giving employment, growth, consumer confidence, investor confidence, an Italy respected on an international level and therefore I am, let's say at peace with myself, for the work I did. Did you expect, after the trips with the Fun de line to Tunis, that France and Germany would suddenly say, keep them, eh? We have six thousand people here tonight in Lampedusa? Um look um partly yes, because some time ago we communicated to our European partners that we could no longer, um let's say automatically welcome back the so-called Dubliners, that is, irregular immigrants who arrive on Italian territory and then move on to other nations. Trivially, because our hotspots were full and because we could no longer do this job. If Europe did not lend us a hand in defending the external borders, then in stopping the primary movements. But I also want to tell you that the issue of so-called relocations is secondary in the very complex situation we are facing. That is, very few people have been relocated in recent months, so it's a bit like, let's say, a Linus blanket. The question for me is not how we pass them on one side, as we say, we dump the problem from one side of Europe to the other and the only way to solve it for everyone is to stop them and stop the primary movements, therefore the arrivals in Italy. And I continue to work on this. I see a change in mentality, but I still don't see concrete answers. If Von Der Line asked Draghi for a study on Europe's competitiveness and this was seen as an anti-Italian government initiative But why not? Because everything is seen as a certain narrative, everything is seen against us, but I absolutely do not consider it an initiative against us. I mean, Mario Draghi is Italian and one of the most authoritative Italians we have. I assume that in such a role you can also imagine having an eye towards our nation. In fact, I consider it absolutely good news. Look, people have very little money. What do you plan to do for employees? Above all, director, as you know, the issue of employee employment was our priority. From the beginning it is the reason why in this, in these less than a year, we have concentrated the few resources we had at our disposal on cutting the contribution wedge, that is, putting more money in people's paychecks. Six points for incomes up to thirty-five thousand euros, seven points for incomes up to twenty-five thousand euros means increases in the paycheck that can reach one hundred euros. For me now the priority is to confirm those measures for the whole of 2024, to see if we can do something more clearly for low incomes, for the pensioners most in difficulty, from the beginning we made the choice to concentrate the few resources on those who were more in difficulty, but at work, because this is also a cultural and multiplier signal that must be given. If I'm wrong, you fear that the nine euro minimum wage is a trap for those who have a better income. And look, it's not just me who fears it. Until recently, all the unions feared him and even today they defend him. And besides, there must be some reason why those who today say that the minimum wage is the answer to every problem in the ten years they were in government didn't think to do so.. Meaning what? We have ninety-seven percent of workers covered by a contract that has been signed by at least one of the three main unions. Approximately eighty-two percent have a minimum hourly wage higher than the nine euros required by law. Now the question that everyone is asking is whether I set a minimum wage by law does it become an additional parameter, that is, one that protects those who do not fall within this protection or does it become a substitute parameter because if it became a substitute parameter there would be more workers who they lose those who earn in a fragment, but those who earn less, as you think, those who earn less is the issue that needs to be addressed which is not necessarily resolved at the minimum wage, because for example, many are children of irregular work. But this is exactly what I asked the CNEL to study in sixty days, to understand which is the most effective rule that allows me to help those who are below the threshold, the threshold without compromising those who are above. Thank you President, we will continue the conversation Door to Door thanks to you. Good evening and happy Amadeus with your business. \n",
      "Translating: TranscribeTikTokAudio7228211560240467227.json\n",
      "on Labor Day the government chooses to work, chooses to work to provide answers to those workers and to those who legitimately aspire to improve their condition. We do this with a very complex series of measures, but the most important of these measures is related to the tax cut on. I'm thinking for example of the superbonus. I am thinking of the issue of excise duties and today we are allocating the entire amount of that treasure to the most important cut in labor taxes in recent decades. We cut the contribution wedge by four percentage points and this cut adds to what we had already done in the previous budget law. So today and until the end of this year, we have a cut in the contribution wedge of six percentage points for those with incomes of up to thirty-five thousand euros and even of seven percentage points for the lowest incomes of up to twenty-five thousand euros. It is a choice of which I am deeply proud. Increases that can even reach one hundred euros for workers with the lowest incomes. At a time when inflation is galloping. The cost of living is increasing and I really can't understand anyone who can even argue about this choice. But there are many other important things that we decide today. The confirmation of the fringe benefit, the liberal provision in favor of the worker completely tax-free at three thousand euros, dedicated in particular to workers with dependent children. Important rules on safety at work, on school-work alternation, on the safety of students who participate in school-work alternation, incentives for hiring young people equal to sixty percent of the salary they earn. And then on the financing of summer centers to help reconcile life, work and family and on the subject of a single allowance for children and then the citizen's income as we promised. We distinguish those who can work from those who cannot. We confirm and indeed improve the support for those who cannot work, that is, for families in difficulty who have a minor, an elderly person or a disabled person within them. But those who can work are instead included in a job training course, with a reimbursement of expenses during the training period and with important incentives for those who hire them. And finally we deal with the work of people with disabilities, supporting the bodies that accompany them and allocating resources to encourage their hiring. And I am proud that the government has chosen to celebrate May 1st with deeds and not with words. And I believe it was due, um, further support to an economy which, even in a moment of difficulty, is giving us great satisfaction with growth, the Italian one, estimated for the next few months to be higher than that of other European nations. Carry on like this, Happy First May everyone! And now to work Good morning good morning for the purposes of the film\n",
      "Translating: TranscribeTikTokAudio7223471702020246810.json\n",
      "In times of globalization, Italy cannot set itself the objective of competing on the quantity of what it produces, but there is one thing on which the rest of the world does not compete.. With Italy being the quality of what we produce, the brand is the most precious thing we have. We are arriving with the Ministry of Made in Italy companies to bring to the Council of Ministers, in the next few weeks, a link to the financial maneuver which has as its objective the theme of valorisation of the brand, that is, in fact, a sort of framework law, um , to enhance our excellence by focusing on three pillars the relentless fight against counterfeiting and unfair competition, therefore with protection of patents and trademarks, financial instruments to grow small and medium-sized businesses, particularly in the sectors of excellence and training and skills. Because, you see, I think that in this nation we need a cultural revolution to put Italian creative work at the center\n",
      "Translating: TranscribeTikTokAudio7136915130884934918.json\n",
      "One thing drives me crazy and annoys me to death. I find it, I find it shameful. I hear Italian Foreign Minister Luigi Di Maio say today that if the center-right wins, Italy risks an economic war. The Italian Foreign Minister, paid with Italian money, goes around the world to discredit this nation in an attempt to garner a vote. Yes, I consider this shameful. I consider it shameful that Enrico Letta does an interview on c n n not to explain what he will do to the government of this nation, but to try to tell this nation abroad that if the center right wins the center right supported by more than half on paper of Italian citizens. Okay, Italy is lost. Spreads rising, investors fleeing, people who, in order to govern, are willing to do so on the rubble. This bothers me a lot. I have been director president of the European Conservatives for two years and Raffaele Fitto bears witness to me. In these over two years I have never done an interview in the foreign press because I was in opposition to the government and I would not have spoken badly about my nation in the foreign press. This is the difference between me and the left. This is the difference between me and the left, is that clear? I can speak very badly about Italy, but I do it in my home, I do it in parliament, I do it with my opponents, I do it with the Italians at home, but outside you won't hear me speaking badly about Italy, I have done something interview with Fox News and I didn't do it to speak badly of Italy in case the left won, I did it to say what I want to do, I did it to explain that this nation can get back on its feet, that this nation it can still be a proud nation, it can be a nation that amazes, as it has amazed throughout its history throughout its civilization. This interests me. Others are interested in discrediting the nation in order to hope to gain a point - this is a fundamental difference between us and the left. \n",
      "Translating: TranscribeTikTokAudio7136424309131578629.json\n",
      "It is not normal that different social safety nets still exist in Italy between employees and self-employed workers. Fratelli D'Italia has always fought for the introduction of universal shock absorbers, i.e. that they are the same for everyone, as we have already done in the midst of the pandemic, for example by immediately proposing the introduction of an instrument for the protection of VAT numbers that was based on the same rules as the redundancy fund. It is a proposal which, thanks to Fratelli D'Italia, led to the establishment of the IS, an extraordinary allowance intended for self-employed workers in separate management in the event of a strong reduction in income produced.. It is a tool which, even if greatly weakened by the then majority of the Conte government compared to our initial idea, still represents a first small step towards a universal system of social safety nets. And we are very clear about what the next step should be. That is, to establish an instrument that also guarantees self-employed people, in the event of closure of their VAT number, an unemployment benefit. An instrument based on the same rules as Naspi, i.e. seventy-five percent of the income declared the previous year on a monthly basis, with a maximum amount of one thousand two hundred euros. In this way, self-employed people who lose their jobs are protected and undeclared work is discouraged, always on the side of those who work, in whatever form they do so.\n",
      "Translating: TranscribeTikTokAudio7277971263958666529.json\n",
      "the point is we were able to do something that was unthinkable in Italy. It is possible that we are able to do something that might be unthinkable even in Europe. Unthinkable. It's unthinkable, but who knows and how we see it, everyone else sees it too. And then we must expect a very tough electoral campaign, an electoral campaign that will heat up month after month. I think we should do it, as the Spaniards would say with kk now son caliente there is a proportional electoral system that clearly requires us presence, requires us, um passion requires us to exalt our political identity. On the one hand on the other we must also be aware of a co-coalition bond which requires a great sense of responsibility and we are in government of the nation for us clearly acting Inter, doing our best, acting in Italy's interests is priority. I am convinced that our allies will also be aware of the fact that the weight that we all carry on our shoulders is so serious that we cannot waste energy on selfish attitudes of any kind.. This is something that we who understand others understand and on which we will obviously need to be very clear and focused. Everything we have to give we must give to the Italians because we have always believed in the Italians and we were not wrong. If you do your job well, in the end things come naturally. But clearly woe betide anyone who isn't clear that the priority must be the good of the nation, no matter what the cost. Brothers of Italy and the government I preside over will live up to the expectations of Italians. It ran to me and I closed a few days ago on the twenty-fifth anniversary of Lucio Battisti's death. Well, it won't be an adventure, it's not a dream, it's not a fire that can die with the wind. Thank you all. \n",
      "Translating: TranscribeTikTokAudio7138364518136122629.json\n",
      "also on the topic of citizenship income I want to try to be clear because I know that this is a city in which no, there are many recipients of citizenship income and I want to say to these people don't be afraid because I don't want to leave anyone behind. I don't want to leave his behind, but for the State not to leave anyone behind, it must be fair, a fair State does not put those who can work and those who cannot do so on the same level as welfare because it ends up discriminating against the weakest. The paradox today the paradox today is that perhaps you are a boy in excellent health and I will give you the citizen's income even up to seven hundred and eighty euros. And an invalid gets me a disability pension of two hundred and seventy euros and an elderly person gets me a social pension of five hundred and three euros. What does a just state do, a just state provides decent assistance for those who are not able to work and takes care of those who are not able to work, but for those who can work. The right state must help you find a job because work produces a possibility of improving your condition, whereas if I always keep you in the same condition. I can't give you different opportunities. Let's try to think together. I have a twenty-three year old boy, I give him the perfect citizen's income. Apart from the fact that I don't agree, I agree with a state that tells these kids to stay at home deserted, I need you. We desperately need the youth of this nation desperately to believe in them and for them to believe in themselves. But other than that I give him the citizen's income okay, how long can I afford it? One year, two years, three years, perfect let's say three years when in three years I can no longer give it to him. Is that boy who is twenty-six years old richer or poorer? And if instead in those three years he had had the opportunity to work and improve himself, he would have been richer and poorer.. I think that we need to simply divide assistance from work if the same money that I give to a person who can work today I give to the company that hires him, I make him work, I create wealth, I invest okay, so there's no need to be afraid. There is no need to be afraid because I don't want to leave anyone behind. But precisely because I don't want to leave anyone behind, I don't like a policy that keeps you a slave to having to vote for it in order to get something in return. I'm looking for a job for you, you work and if you don't want to vote for me, don't vote for me. But in the meantime I've done my job, you don't have to be forced. \n",
      "Translating: TranscribeTikTokAudio7170424345486036229.json\n",
      "so thank you all. Obviously thanks to all the authorities who have made themselves available since early this morning and to all the rescuers, to the people who are working in the field. Minister Crosetto told me that he had also fully authorized the military to intervene on the island. We also thank the acting general and the military forces who intervened, all the civil protection, all the rescuers, the volunteers and obviously we continue and return to express our solidarity with the families affected, the families of the victims, the families of the missing, the their gravitation and obviously also to displaced people and to those who, in short, will need the support of state institutions to return to normal living. Thanks again to everyone and good work. Thank you. \n",
      "Translating: TranscribeTikTokAudio7134593713753427205.json\n",
      "the State does not create wealth and jobs, it is businesses and workers who do it. What the State can do, however, is establish rules that favor those who create that wealth and those jobs. How? Well, by reducing the tax wedge, i.e. the difference between how much a worker costs the employer and how much he actually receives in his paycheck, we can do. This can be done by having the State pay a portion of the social security contributions that are currently paid by the company and the worker under certain conditions. In truth, these are measures that already exist on paper, but which need to be enormously strengthened. But it's not enough. And brothers of Italy, I think that a tax system should be added to this that rewards companies that create jobs in Italy over those that don't.. According to the principle of those who hire more, pay less taxes, this is an objective that we want to achieve during the legislature. However, we are immediately committed to introducing a mechanism for super deducting the cost of labor for those who increase the number of employed compared to previous years. A virtuous mechanism that can push companies to hire this means fewer unemployed people at the expense of the State and it means new taxpayers who pay taxes because the most formidable, but also the most dignified citizen's income that can be given to those who are able to work and the salary that arrives every month thanks to the work that has been done. \n",
      "Translating: TranscribeTikTokAudio7234091904151932186.json\n",
      "to reiterate my solidarity with all citizens affected by this emergency. I wanted to understand what the weather conditions are expected for the next few hours, that is, if you believe that the situation could worsen, continue or at least stop. Um And then obviously, as I already told President Bonaccini when we met last week, the government is available to do what is necessary. If a council of ministers is needed even in the next few hours to approve the necessary measures immediately, it can be done easily using resources. You and I had a long chat last week and obviously we will do everything we need to do to help the population and then there is the issue of securing the territory. The government is there, well, it's one of those situations in which all institutional levels need to work to the maximum of their possibilities and in short, I hope it can be seen that we are there\n",
      "Translating: TranscribeTikTokAudio7092832806765612293.json\n",
      "you will never find us looking down with our heads bowed asking your permission to be who we are. Because we have chosen to be who we are. We have chosen to be different from you, alternative to you. Stay behind us. If you are capable, answer on the merits. If you are capable, get down to the content level. If you are capable, don't keep running away. Demonstrate the pride that we demonstrate because it will be that pride that will lead us to the leadership of this nation together with the millions of people who you wanted defeated and who did not give up and who waited and fought so that their ideas could come to the leadership of this nation. Yes, it will be I know. I got tired. Me too you too. I am tired. Wait. It will be exactly with this pride that we will look you straight in the eyes. We will smile, we will challenge you and we will beat you. We will be ready, gentlemen. Hope you are too. Long live Italy! Viva! Brothers of Italy! Yes, huh?\n",
      "Translating: TranscribeTikTokAudio7137360677756325126.json\n",
      "because after years of chatting in the palace, in the living rooms, on September 25th we will finally talk about it with the rock Italians to lift Italy. \n",
      "Translating: TranscribeTikTokAudio7222372308235603206.json\n",
      "Good morning everyone! Thank you, thank you, thank you, thank you. Obviously at the institute of the house of culture thanks to Brexit. Thanks to all the teachers at the school. But above all, thank you for the choice you made and for the welcome you gave me. And I want to say a word more about your professors. Your professors are people who decide to live, bought from home for several years, who often decide to leave all their securities. They do it because they know that they can't build much here, but it's important that you listen to them, because if they made a choice of sacrifice they made it so that you can have a better future tomorrow. And so we must give the session a round of applause. I'm not a professor, so I have no lessons to give. I just want to say one thing that is related to what was said before me. Um, as I entered the school a little girl asked me Look, can I ask-? May I ask you a question? I would like to be the next president. How you do it? Theoretically the answer is I don't know, but I'll tell you what I've learned. You must never stop studying because there is no greater freedom than that which knowledge gives you when you know when you know there is no one who can make fun of you, there is no one who can make fun of you. When you study, when you learn, you do it to be free, because knowledge is the first form of freedom and the other thing that I have learned in life is that it is not others who decide what your destiny is. It's you who decides where you want to go, it's always and only you and that's what happened to me. Not that I had given myself, I mean, these goals, but I always thought that I had to do everything to the best of my ability, do it in the best way possible. Doing it with sincerity, with dedication, even with a willingness to sacrifice, led me to be the first female Prime Minister in Italy.. Maybe I could get somewhere else. The point is you can only get anywhere, which you don't have to accept. They are limits that others have decided for you. You decide what your limits are. You decide what your goals are and once you have decided, you study and two goals. What are you doing? Italian by studying our know-how. You are great ambassadors of Italian culture, but above all for what you do for your nation. That Yes. HI. Thank you. And even more. Thank you. Okay. HI. HI. Yes, yes again. HI. HI. We are ready? Yes. \n",
      "Translating: TranscribeTikTokAudio7164382552751394053.json\n",
      "I imagine you heard that Alessia Piperno is returning home and so I obviously wanted to thank our intelligence services. The undersecretary, the Mantuan undersecretary and the minister, the Ministry of Foreign Affairs for the extraordinary, silent work they did to bring this girl home. \n",
      "Translating: TranscribeTikTokAudio7122815617337494789.json\n",
      "don't be scared, don't be scared, it's not true. Everything they told you about the elections, that they are scary, that they are a problem that stops everything, nothing stops, eh? Governments remain in office until the next government takes office. P n R r. It is not blocked in Italy just as it was not blocked in France. In France in the last four months they have voted twice once for the presidential elections. Once something got stuck in parliament. In Germany something was blocked where they held the elections. Nothing is blocked anywhere, because in democracies, in national states it works that there is a bureaucracy that there is a government that remains in office until the next government takes office. So don't be afraid, don't be scared and don't be scared by the self-interested declarations of certain Europeans who come to explain to us that it is irresponsible to go and vote in Italy\n",
      "Translating: TranscribeTikTokAudio7201936585745632517.json\n",
      "in the same Council of Ministers. Um, a few days ago we also returned to dealing with the age-old issue of the super bonus. It is not the first time that the government has dealt with this matter. We had to go back to it to try once again to remedy a situation that has unfortunately become out of control, with outcomes that can be unpredictable and very serious. So let's start from this assumption in the Italian legal system there have always been measures that allowed renovation and energy efficiency works to be deducted from taxes. Homework is good measures, they are useful measures. These are measures that favor work. These are measures that circulate the economy and also the super bonus. From my point of view, I said it and I repeat it, it was born with shareable intentions. What's the point? The point is that the measure was written so badly and made so badly that it generated an enormous series of problems that we today have inherited and are required to try to resolve because the super bonus essentially had two big errors. The first was being able to unload one hundred and ten percent of what you spent. Why? Because if obviously they reimburse me more than I spend, I will be required not to control how much I spend, because what do I care? The state reimburses anyway and this obviously produced a series of results, including that the costs of materials have risen exorbitantly and that the bubble has slowly inflated. This is the reason why our government has already intervened, increasing the bonus from one hundred and ten percent to ninety percent. Because it is obvious that if I have to put ten percent of what I am spending I will be more careful, more careful to look at how much I spend and to see if, for example, prices have not increased in some cases for no reason. But the second and more complex question concerns the fact that the super bonus created by the then Giallorossi government envisaged the possibility that the credit I had when I was doing the work towards the State could be transferable. That is, I could hand it over to a bank, I could hand it over to a financial intermediary, I could hand it over to a company, I could hand it over indefinitely and initially without any control.. Even at the beginning it was not possible on credits that had been sold even ten times. Trace who had generated that credit now you understand that such a system lends itself a little to scams and also lends itself a little to creating, no, a bubble that increases this mechanism. Result? The total cost is currently one hundred and five billion euros. And this is interesting because I remember when someone who invented this measure went around during the election campaign saying that thanks to him you were able to renovate your house for free. But there is a problem that when the state does something it is never free, because the money it spends is taxpayers' money and therefore when it spends money it puts it on one side and takes it away from the other.. Do you know how much it cost for every single Italian, around two thousand euros, just under two thousand euros? Even those who don't have a home, even a homeless person, even a child, even a newborn, have the expense of almost two thousand euros on their shoulders.. So in the meantime, obviously the measure was not free at all. It is a measure that obviously impacts state coffers today, because where there is a creditor there is also a debtor and that debtor is the Italian taxpayers. So obviously this thing here needs to be sorted out because in the meantime there have been a lot of scams and this has been widely talked about to date with estimates of around nine billion euros worth of scams, that is, jobs that haven't been done, jobs that would have been facts about buildings that don't exist, that is, every kind of scam, obviously possible and imaginable. And obviously it also happened that the bubble inflated so much that at a certain point those who had these credits, mainly companies, could no longer compensate them because they had exhausted, let's say, their possibility of compensating that credit with taxes and could no longer not even to sell them, because even the fiscal drawers of the banks of the other actors who could buy those credits have closed and there are perfectly honest people who have done some work, who have trusted the State, who have done what the State said which found itself in the hands of some work done and money that it cannot take because this has produced this very interesting free measure that today we have thousands of companies that risk collapse and therefore since we inherited it, we now have to look for a solution to prevent thousands of companies from risking collapse because someone could say during the election campaign that they renovated houses for free and that's exactly what we tried to do. And that's exactly what we're trying to do. So what did we do? In addition to increasing the super bonus from one hundred and ten to ninety percent, we have already made a measure that allows the permitted period to be extended from five to ten years. To dispose of these credits. We have now made another decree which essentially does some other important things. The first is that we do not allow the purchase of those credits by the Public Administration, therefore regions and municipalities, because some were gearing up, obviously in an attempt to find a solution to do so, but there is a problem that these credits have practically generated a sort of parallel currency and that parallel currency risks impacting public budgets in a devastating way. And those public budgets are the state budget, but they are also the budgets of local authorities. And when the public budget collapses? Unfortunately this impacts everyone, even the companies that have to take those credits, even those who have received the super bonus, even those who have not received the super bonus, on citizens. So on the one hand we must defend the public budget because otherwise the results will be dramatic for everyone. On the other hand we said that in the future it will no longer be possible to exceed those credits. That is, you can continue to use the ninety percent superbonus measure, but you can do so to the extent that you deduct it from your taxes. You cannot assign the credit you have generated to another actor. Why? Above all because in our opinion this is one of the most effective ways to help the so-called exoduses of the one hundred and ten, that is, those companies that have remained in the hands of those people who have been left in the hands of credits and money for work done that they risk not seeing and therefore we must facilitate the purchase of those credits. But it is obvious that a new credit, given that the superbonus measure continues to generate around three billion euros of credits per month. Which means that if we left the transferability of those credits throughout this year, at the end of this year we would have at least another forty million euros. Gentlemen, what does it mean to not have the money to make the financial law? Okay, so let's forget that cutting the tax wedge, money on families, money on the health fund, anything you can think of couldn't be done. But above all because obviously those who have to take out a loan prefer to do so on a new loan rather than an old one. Instead we want to push as much as possible banks, companies and all the actors involved to allow the acquisition of credits that are already at a standstill, those so-called stranded credits, i.e. those which are no longer compensable and which no one wants to take and which therefore they are currently not transferable. For this reason we have blocked the possibility of transferring those credits for the future and we have better defined the responsibility of those who take that credit. Because in all of this, since there have been many scams in this matter, obviously those who have to acquire the credit are afraid of being co-responsible for anyone who may have generated a scam. But it's obvious that for goodness' sake, if you take someone's credit and you haven't even gone to check whether not only the work has been done, but whether the property exists as happened, you are co-responsible because in short, a minimum of control should done, but if you couldn't have known some things. We have made a rule that allows us to say Don't worry, please, acquire the credit because we have to save these companies and these workers put in a tragic situation by someone who evidently was not serious enough in writing this measure. So we intervened and continue to intervene. We will convene all the trade associations, therefore the companies involved, to understand what else we can do to help them, to give them a hand, to save these companies, to save these workers and to put this measure back on a sensible track, on a track sensible. Because, I repeat, when they tell you that something is free, then there is a risk that it isn't. And if it's not free it can become a problem. This has become a problem that we are trying to solve. \n",
      "Translating: TranscribeTikTokAudio7241634208106515738.json\n",
      "after that, however, the left tells you that you are authoritarian for whatever it tells you that you are authoritarian. If Fabio Fazio decides to leave Rai to go and work somewhere where they pay him more, he tells you that you are authoritarian. If the parade on June 2nd, as happened in all other years, the soldiers raise their hands to salute the grandstand. They tell you that you are authoritarian, if you even complain because there are people who prevent a minister of the Republic from presenting the book on the history of his family in a book fair. Minister Uccella is the one who struck me so much to talk about authoritarian drift. It is not even these that prevent those who do not think like them from speaking. We are quite used to the fact that El Schlein, secretary of the Democratic Party, told those who complained because a minister had been prevented from presenting his book that we have a problem with dissent. Look, if the secretary of the second Italian party doesn't distinguish dissent from censorship, in Italy we have a problem, a little more. I simply think that the problem of the left is that it is a bit short on arguments and you know why it is short on arguments it is short on arguments because we, by governing, are dismantling the narrative of an unpresentable right, of an authoritarian right , of a right incapable of governing and we are demonstrating in Italy and beyond national borders that it can exist instead. There is a right that is reliable, credible, capable of governing, perfectly presentable and which achieves results that others have not achieved. \n",
      "Translating: TranscribeTikTokAudio7080511603812109574.json\n",
      "and as always, in the face of the great challenges of history that are evaluated, leaders are evaluated, those who can make the difference between success and catastrophe. And one fact that is emerging with the war in Ukraine is the bleak reality of left-wing leadership in the West. Biden, who was praised by the big media in an anti-Trump key, is proving to be completely inadequate, as inadequate-inadequate. Emmanuel Macron is proving to be another idol, another idol of the left, incapable of any broader vision of his political interests, of the small French gain. Um in the useless, non-existent as always the leaders of the European Union who are always present when it comes to imposing absurd rules on citizens, but suddenly become evanescent when we have to face the great challenges of our time. The din of war has collapsed the progressive narrative. And it is also due to this political weakness of the left that we are in the situation we are in, because the left is incapable of reading reality, caught up as it is in its ideological delusions. This is why I am even more convinced today that a conservative turn is needed in the West, in the United States, in Europe, in Italy.. Simply because we need to face reality again\n",
      "Translating: TranscribeTikTokAudio7078014348152638726.json\n",
      "it was the first days of January 2021 when Fratelli D'Italia proposed for the first time to the Italian government to address the issue of fighting Covid contagion, in particular within schools with controlled mechanical ventilation devices. In those same days the Marche Region, led by a member of the Brothers of Italy, Francesco Acquaroli, announced an allocation for this experiment. Today the Marche Region presented, together with the Yume foundation, the results of that initiative to Professor Luca Ricolfi. Controlled mechanical ventilation in schools reduces Covid contagion by up to eighty-two and a half percent. In this year and more in which we have continued to make this proposal to the government, the proposal has never been implemented. But the truth that is demonstrated today is that if the government, instead of spending money on useless wheelchairs, had put resources on controlled mechanical ventilation, we would not only have eliminated the Covid infection, but we would have eliminated distance learning. It was not necessary to deprive our children, the young people of their sociality, of the education of their normality. The issue could have been addressed in another way and I mean more, the same scheme could have been used in all public offices, with clearly productivity that would have increased and in companies instead of preventing those who do not have the green pass the booster of being able to earn a salary to feed your children. These are the facts, the facts and what a hope he got it all wrong because he never wanted to listen to the serious proposals that came from brothers in Italy. It was ideological fury that made Italy what we have seen in this, particularly in this last year, because the solutions were there and we had proposed them and we must each assume our own responsibilities. We ask Speranza to answer why he never wanted to consider the more serious proposal that had been made to him. \n",
      "Translating: TranscribeTikTokAudio7145435366529551621.json\n",
      "how to vote in the political elections of 2022. Meanwhile, we vote on one day only, Sunday the 25th of September, from seven in the morning to 11pm you must show up at the polling station with your identity document and electoral card. Remember to check if you have the electoral card, if not you have to go and ask for it at the relevant municipality when you arrive and hand over these documents they will give you two cards, one yellow for the Senate of the Republic, one pink for the Chamber of Deputies. Inside these two cards you will find the symbols of the various parties with the symbol of each party next to them. A series of names you just have to make a cross. On the symbol of the brothers of Italy we mean the party and you have voted now, however, keep in mind that compared to how you see it here the symbol will not necessarily be here or here because it changes in all the constituencies. So you have to look for the symbol of the brothers of Italy, make a cross on both cards, fold the cards and you have made the revolution\n",
      "Translating: TranscribeTikTokAudio7067167670214331654.json\n",
      "You see, President, unlike most of the people who are here, we have never defended our privileges. Are we defending something else? We are defending jobs. We defend those who get up at five in the morning praying on a beautiful sunny day. We want to defend those who arrive at the end of the season with calluses on their hands. We want to defend people who keep our beaches clean, those who risk their lives to save swimmers, those who have invested and got into debt to make their company which they had created on state property even more beautiful, trusting the state, respecting the rules of State. \n",
      "Translating: TranscribeTikTokAudio7069423165268626694.json\n",
      "in chat The Walk Ideology Foundations Life Change, New Graphics Union Bureaucra including Jesus, Mary Christians no. \n",
      "Translating: TranscribeTikTokAudio7081255304721075461.json\n",
      "the insecurity emergency continues in our cities. In Milan three cases of rape in seven days. Yesterday the brothers of Italy questioned the Minister of the Interior Luciana Lamorgese on this issue in Parliament and the minister, for a change, had no answers to give on the issue. From his words it almost seemed that a rape case, an emergency, rapes, didn't exist, as for them it never existed. The immigration emergency, just as the Nigerian mafia emergency never existed, just as the emergency of drug dealers who continued to camp out in the middle of the streets, even when Italians were locked inside their homes, never existed. For them, the problem of illegal maxi raves didn't exist, when instead the discos had to stay closed because otherwise there was a risk of contagion. For them there are only those who would like to work and those who would like to work should be beaten, but who instead commits crimes? Those who don't respect the rules pretend not to see criminals. Now I don't know if what drives these choices by Minister Lamorgese is ideology or rather inability. I know that in both cases a minister who has failed completely should seriously consider resigning\n",
      "Translating: TranscribeTikTokAudio7261648290305821978.json\n",
      "his personal comment, not as Prime Minister. The experience of going to the White House in DC. Thank you. Dog dog at the White House. But look, I don't know. I usually tell the truth. In these moments I am always quite focused on the objective. And so if someone expects not, do you feel a bit like Cinderella? No, there isn't that much. I am aware of the person I represent for what I have and I am focused on this, so there is not much to say about this. I was hoping it would go well. I think it went very well and I'm happy to have done my job well. \n",
      "Translating: TranscribeTikTokAudio7142259434000059654.json\n",
      "national team punished, national anthem Michele World Champion La bella Italia. How nice, guys! But we wait. We wait for the trophy. Why is the trophy missing, huh? Well, yes, but already already. Can we celebrate Andrea a little since we've been celebrating for so long? Well, yes, there were quite a few. Micheletto! Micheletto! Look, he's wearing the tricolor! Attention, it's time. Simone Giannelli approaches My mother You were fat. The cup is handed over to Simone Giannelli And here we have a photographer who obscures us. But that image is also there. Simone Giannelli prepares Beautiful Italy is world champion The fourth title for ours, for our boys, for our national team, for the seriousness, for the light-heartedness, for the talent dedicated to an entire country dedicated to you Italians truly for It's a joy for us, because we've really been waiting for it for a long time. Andrea there is so much emotion the color and the tricolor is submerged in the color of gold which is obviously the right color which gives the possibility of an inestimable value. The smile of these kids is their humility and their unity\n",
      "Translating: TranscribeTikTokAudio7176657919654579462.json\n",
      "you see, colleagues, we have we have always debated, sometimes. In short, with decision, vehemence around the hypothesis that there should be more or less Europe in Italy. Almonst never. Instead we asked ourselves whether there should be more or less Italy in Europe. Here, the objective of this government is to have rather than more Europe in Italy, more Italy in Europe, in conditions of equal dignity with the member states, as befits a great founding nation, it means not limiting oneself to ratifying downstream choices, but to contribute to defining those choices upstream, to make the VOC, the voice of our nation, heard strongly, to direct European integration towards more effective responses to the great challenges of our time and towards a more attentive approach to the needs of citizens, families and businesses. \n",
      "Translating: TranscribeTikTokAudio7144420910336953606.json\n",
      "\n",
      "Translating: TranscribeTikTokAudio7210879251527077125.json\n",
      "and as I was saying, Italy shares the objectives of the double transition, the green transition, the digital transition to obviously deliver to future generations a development model that is intelligent and sustainable. However, the very word transition presupposes a path that must be done gradually and with realism. That is, we cannot uncritically support a process that on the altar of decarbonization leads us straight to deindustrialization. And I return to the topic because you see, it's a fact. It is a fact that simply encouraging electric vehicles risks delocalizing car production to non-EU countries, where, moreover, those products theoretically intended to reduce CO2 emissions are often made with highly polluting systems and processes.. Just as it is true that electricity itself is not free from negative ecological externalities. Just think of the problem of disposing of batteries, just think of the problem of extracting the materials necessary to produce them. So for this reason, as I said before, we intend to follow the path of technological neutrality and we are doing so firmly, but also with a proactive spirit at a European level. That is, we have not limited ourselves to explaining the good reasons that lead us to believe that the proposed regulation on codue emissions for light vehicles is inappropriate in its current form with the deadline of 2035 that we know we have illustrated, data in hand, that the same result can be achieved. The same objective is the green transition, using technologies other than electric. There are significant alternatives to combine development and sustainability. I mentioned before biofuels, synthetic fuels, even hydrogen, areas in which Italy boasts cutting-edge technology at a national level. We increasingly modulate incentives on a variety of technologies that guarantee the exit from polluting fuels, without however uncritically focusing on strategies that favor the interests of other nations and punish the interests of our workers. What we want to do is a common sense approach, a common sense approach that has borne fruit. As you know, on the regulation relating to codue emissions from passenger cars. Huh? A debate has opened up that wasn't there before thanks to the Italian position. Because yes, Italy can be the leader and protagonist. The Swedish presidency postponed the decision. We are satisfied because our objective is to deliver to those who come after us a cleaner land than what we have today, but without devastating our production system and creating more unemployed. We are not willing to do this. Thank you, President Maroni,\n",
      "Translating: TranscribeTikTokAudio7254490393851481371.json\n",
      "the main problem that has impacted Italian families this year has been inflation and it is an issue to which the government has dedicated various measures since the beginning of its mandate. I am thinking of the issue of strengthening the lowest wages, particularly with the cut in the contribution wedge. I think of the fact that we increased the number of families who could access support to pay energy bills and many other initiatives. Today there is one that particularly concerns those one million three hundred thousand families who have greater difficulty in purchasing basic necessities, the famous Dear Cart. We have invested five hundred million euros to help these families and it will be available at the Italian Post Office. The card dedicated to you is a card that is activated and allows these families to have around four hundred one hundred euros to spend in shops for the purchase of basic necessities. But it has a broader value thanks to the discounts that the government has obtained from large-scale retailers. Because this is one of those cases in which the entire supply chain has set to work and the municipalities must be thanked, the INPS must be thanked, the post office must be thanked, the agri-food supply chain, the merchants and large-scale retail trade must be thanked. I want to thank the Minister of Food Sovereignty, Francesco Lollobrigida, because the Ministry of Food Sovereignty has activated a further initiative. One hundred and twenty million euros have been allocated together with third sector associations, which I also thank for setting up the Food Bank, to further help families who are even more in difficulty. Many small, large initiatives. We all want to help these families together. The Card must be activated by September 15th and is a little further help for families who are most in difficulty today. The government's sign of attention towards people who find themselves facing a difficult situation. Why the international crisis? Because the reality we live in is making things difficult. We are here, we try to do our best to lend a hand. \n",
      "Translating: TranscribeTikTokAudio7206775485903260933.json\n",
      "I was a little struck by the reconstructions I have read in recent days on these matters. Because it being understood that what we know is what you heard from Undersecretary Mantovani regarding this matter, these people, were not in a position to be saved by someone who did not want to save them, as unfortunately it seems to me that some people want to say. Now I wonder if there is really anyone in this nation who in good conscience believes that the government deliberately caused over sixty people to die, including some children? That is, I ask him, but looking into your eyes, if any of you think that the Italian government could have saved sixty people, including a child of about three years old whose body we discovered today and he didn't do it, please, let's try to be a minimum serious. No, so to speak, emergency communication from Frontex has reached our authorities. We were not warned that this vessel was in danger of sinking. The route is not covered by non-governmental organizations and therefore the government's measures on non-governmental organizations have nothing to do with this, with this matter, I point out to you and I believe you must bear witness to the fact that despite us continuing to work to stop the flows of illegal immigration, also to prevent people from dying, we have since the beginning of this government continued to save all the people we could save when we were aware of the fact that they were at risk. This is the history. If someone wants to tell another story, they must do so in conscience. He must do it conscientiously. Because I really don't believe that there are matters on which one can, let's say, exaggerate in an attempt to criticize or let's say hit someone who evidently considers himself one of his adversaries as president. But did you consider the opportunity of going for a visit to Crotone because the mayor was also talking about this? Look, I've been considering something more for a few days now, to be honest, and that is to celebrate the next Council of Ministers on the topic of immigration. Because, you see, I think the best way to honor those victims is to prevent it from happening again. This is the government's job. And a serious government, in my opinion this must do because I heard Meloni runs away, Meloni doesn't go, Meloni disappears, Meloni is not interested. I read all the reconstructions which frankly seem quite surreal to me. Forgive me, really surreal, surreal! The government went immediately - I did - they do press points at the end of their missions to take stock, eh? And this is usually what people do like this, I and the government went as you know, in Calabria on the same day and this tragedy happened, the government is me. Okay, the minister went and we were there straight away. Afterwards, the president of the republic who represents all the institutions also went. Unless someone believes that the presidency of the republic is, let's say, in competition with the government and therefore we are the institutions were also present to obviously express their condolences. After that, in my opinion, the next step is to provide answers, no, to continue to work on the answers for which I already say a few days ago I had, speaking with Minister Piante Dosi, with the Undersecretary of Mantua, discussed the possibility of bringing together the Council of Ministers the next opportunity to give a sign of further attention certainly, but also of concreteness with respect to the steps that still need to be taken, here too I heard Meloni is silent on this matter. I intervened, I responded to interviews, I wrote a letter to the European Council and the European Commission. In short, it seems to me that it cannot be said that like everyone else I have not done my best to do my job, as is right and normal because my job is to try to solve problems and it is that resignation of plants Tosi opposition asks for the resignation of a different minister every day, so you understand that it is no longer much news. Thank you very much to\n",
      "Translating: TranscribeTikTokAudio7206202741440449798.json\n",
      "Office in Palazzo Chigi in Rome D'Italia t Global relations diversified freking and I have the eh I pass India in in in the Mediterranean How to make relations strategic Partnership. \n",
      "Translating: TranscribeTikTokAudio7216766115110735109.json\n",
      "precisely on the employment front there is some good news, the latest Bank of Italy report, Ministry of Labor Anpal tells us that between January and February two thousand and twenty-three, that is, January and February of this year, despite the difficult moment that Europe and obviously Italy face, there are Over one hundred thousand new jobs have been created in Italy, an increase more than double that of the first two months of the previous year and about a third greater than the same months of 2019, i.e. before the pandemic arrived.. I think it is an excellent sign of confidence for our economy and we must say that it is above all the effect of the work we have done to combat high energy prices. The decrease in the cost of energy is favoring production, encouraging companies to start hiring again and it was therefore certainly the right choice to continue the battle for the introduction of a European ceiling on the price of gas\n",
      "Translating: TranscribeTikTokAudio7175162657949994246.json\n",
      "in via Chiaromonte we noticed a gray car. It looks like a Lancia Y with the four position indicators lit, trumpeting its horn and trying to make its way through the intense city traffic. I leaned out to look inside the vehicle and noticed a child in a let's say relaxed state of abandonment, who also at the desperation of the familiar gods I turned on both the acoustic and light signals. We, let's say, made this trip to the Bethany hospital and entrusted the little one to the care of the doctors. I won't deny that I couldn't tear myself away from the operating room. Excuse the emotion to understand whether little Francesco Pio could make it or not. It was a race against time to get closer. I apologize for the emotion of approaching that table together with the medical team, seeing that that child was defenseless, unable to do anything, it was truly a suspenseful thing, without even knowing what was happening.. But seeing that child again began to move and tremble and have the first symptoms of reactions. For us it was a liberation.. If his parents allow me to, I would like to hug him again\n",
      "Translating: TranscribeTikTokAudio7092396552064453893.json\n",
      "and therefore when you ask another to defend you, you must know that that other rightly will not do it for free, the famous American interference that many, many complain about. And it's not an imposition by the Americans, eh, it's a European choice and it's a wrong choice, because if we are convinced that clearly the destiny of the West as a whole is inextricably linked, well we are equally convinced that not always from one on the other side of the Atlantic the interests are perfectly overlapping. And then you understand well that in this we are much more pro-European than many of the Brussels thugs. \n",
      "Translating: TranscribeTikTokAudio7161896989863709958.json\n",
      "and secondly, however, I wanted to take a quick assessment of this day before the last appointment which is dinner, dinner with the um, the working dinner, obviously with President Michel. As you know, I wanted to organize the first institutional visit of the Italian government outside its national borders here in Brussels. I wanted to give the signal that I brought today of an Italy that obviously wants to participate, collaborate, defend its national interest, do so within the European dimension by seeking the best solutions together with the others, the other countries. On the great challenges we are facing. Today, as you know, I met the President of the European Parliament Roberta Mazzola, the President of the European Commission Ursula von der Leyen and the President of the European Council Charles Michel and I also met Commissioner Gentiloni for lunch. Um, I already personally knew Roberta Mazzola and obviously Paolo Gentiloni. I didn't know the other two interlocutors. It seems to me that even from the let's say personal human point of view, a very frank, very positive interlocution has been created. I'm happy with how this day, um, how this day went, in which obviously I discussed, brought the Italian point of view on some of the biggest issues we face. Obviously the international question, the crisis in Ukraine, the eh, the domino, so to speak, of consequences, which therefore obviously produces the issue of the need to give concreteness to a European solution on the issue of rising costs as soon as possible of energy on the topic of a note on a cap on the price of gas that was discussed. As you know, in recent weeks and at the last meeting of the European Council, important steps forward have been made, to which concrete solutions must be given today, obviously in the shortest time possible.. And then, obviously, we talked about the resources of how to best spend the resources of the National Recovery and Resilience Plan, as well as in the face of the difficulties that exist, increase in the costs of raw materials, inflation. How to be able to work together to implement plans in such a way that these resources can actually reach the ground, also thinking about what are the big priorities today. I return for example to the energy question. We obviously talked about migratory flows and the let's say, um Italian request for let's say, let's say, a change in the point of view of the Italian position, so for us the priority of becomes a priority that is already foreseen in the European regulations, which it is the defense of external borders. This is also a very delicate, very important matter, on which I have found ears that are, let's say, willing, obviously to listen. And then many other matters ranging from the defense of our excellent food products onwards without us saying let's go into too much detail. In detail, however, well, it was to tell you that I am happy with the climate that I found here in Brussels. Probably. In short, also um um so in short, seeing and speaking directly with people can help to dismantle a narrative that has been made about the current about the undersigned often and about the Italian government. And so we are not Martians, we are real people who explain their positions. And it seems to me that on the other side there were people who wanted to listen. Then obviously, in short, this is a first meeting. Then from these first meetings a series of obviously very concrete dossiers will arise on the various subjects. In short, starting obviously with Minister Fitto who accompanied me today but with the other competent ministers. Thank you\n",
      "Translating: TranscribeTikTokAudio7146526475439639814.json\n",
      "first I see great enthusiasm. The polls can no longer be said but the last ones saw us as the last ones saw us as doing well. But please, we haven't won anything yet. Battles are fought first, then declared won. So until the twenty-fifth everyone concentrated on the twenty-fifth, let's go and vote and terrible electoral law. But there is one advantage: it's easy to vote, it's easy to vote, you shouldn't be wrong. Cross on the symbol of the brothers of Italy you have voted everything you had to vote a cross is enough. Then the attacks will increase. They will be very complex days. We are tired, everything will accumulate. My shoulders are quite, let's say medium wide and I swam as a girl. I'm not broad enough to get through this on my own. But if we line up, our backs are much bigger than the powers that are attacking us. So accompany us okay, the important thing is that you continue not to let the message be mediated. Think with your head, see things as they really are. For days I have been hearing total lies, fake candidates that are sent by Italian brothers around the internet, fake parts of the program, proposals that have never existed, that when there is a need to invent lies about someone it means that that person someone is right because otherwise you don't need to lie. So mhm mhm calm and cool, calm and cool. Fratelli D'Italia is ready. I am ready if you are ready on September 25th to have a government of proud, free people who don't let themselves be bought, who don't let themselves be blackmailed and who don't look at anyone. Cross on the symbol of Brothers of Italy. \n",
      "Translating: TranscribeTikTokAudio7265415410848238880.json\n",
      "Basic income. The new rules on citizenship income are starting to come into force in recent days, under which a series of income recipients will no longer have the subsidy. Now this is a topic on which I have read and heard a lot of controversy and many falsehoods and I think it is useful to clarify things a little.. First, they do not lose their citizenship income. Disabled people, as has also been written, do not lose their citizenship income. Those over sixty, as has also been said, do not lose their citizenship income, those with dependent minor children, as has been said and written, nor do those with particularly fragile conditions.. All these people, unlike what has been instrumentally said, continue to receive income until the end of the year and will then pass on to the inclusion allowance, the new support measure that the government has launched and with which they lose nothing who stops receiving income. They stop receiving income, earners between the ages of eighteen and fifty-nine who are not disabled do not have dependent minor children, or people who are perfectly capable of working according to. It was said that the revocation of citizenship income occurred a day ago. For the other it was a bolt from the blue, but this is false because what we did was not only written in the center-right government program, but was included in the budget law that was passed last December. And everyone was aware of the fact that under the budget law approved in December 2023, the income for the above mentioned people would cease after seven months. And then it was said that people who lose their income because they are able to work are left alone. But this is also false, because for these people the new support for training and work starts on September 1st to help them enter the job market. What does this tool consist of? It consists of voluntary registration on a platform that gives you access to various possibilities, participating in a training program during which you also receive an economic benefit of three hundred and fifty euros per month, or the possibility of participating in the national civil service even beyond the age that comes normally permitted for the civil service which also recognizes an economic benefit, the possibility of participating in public utility projects also with the recognition of an economic benefit. So there are still options for those who clearly want to get busy who sign up to the platform, provided they haven't found a job in the meantime, because in all this there is a fact that struck me and that I want to share with you. When we predicted last December that the income would cease after seven months for those who were employable, we understood that the people who would lose their income at the end of July would be around three hundred thousand. But when the king's income actually stopped seven months later we saw that it was much less, about one hundred and twelve thousand. Now what does this reasonably mean? It means that many of these people have already started to work a little because employment, thank God, is going well. And a little, perhaps also because these people knew that at a certain point they would no longer be able to count on the income and so perhaps they rolled up their sleeves and started looking for a job which they found fourth, but it was said that if the income ends in August and the support tool starts in September for a month, these people are left with nothing. It's a shame that it was already like this with the citizen's income, the citizen's income was never continuous, it always included a break of one month between one cycle and another. So here too there is nothing new compared to what had already been predicted in the past. But in any case I want to say to those who demonstrate against the withdrawal of income and to those who do not demonstrate, but perhaps are afraid of not finding work. That the estimate of Excelsior, which is the information system for employment and training, is that from July to September just under one and a half million new hires are expected in Italy. For goodness sake, even on a fixed-term basis, but new hires by companies. Now, if there are around one and a half million workers in the job market and one hundred and twelve thousand perfectly employable people lose their income, are there or are there not good chances of finding a job, even a temporary one, while waiting to find a better one? I think there is some possibility and then there are certainly differences between Region and Region. This too must be said. In Tuscany, for example, over one hundred thousand hirings are planned and there are only three thousand people who stop receiving their income. It will probably be easier than what happens in Campania, where a quarter of those excluded from the measure live. Around twenty-five thousand people, but also in Campania around one hundred and eight thousand new hires are expected and therefore there seems to be some possibility of finding employment. But I want to be clear: the government does not intend to go back on its steps on the subject of citizenship income, because our great objective remains to move from citizenship income to employment income, that is, the income obtained thanks to work.. And the data arriving from the labor market are encouraging from this point of view. Istat says that in June the employment rate reached a new record of sixty-one point five percent, with an increase in employment in the first six months of this year of two hundred and ninety-two thousand people. Meanwhile, the unemployment rate has fallen to seven point four, i.e. the lowest level in the last fourteen years and therefore at the end of all the really interesting data is that those who have found a job since the beginning of the year. There are many more who have lost their citizenship income. \n",
      "Translating: TranscribeTikTokAudio7145843103075781893.json\n",
      "today Bologna with Patrizia making tortellini by hand, one by one in the window, a fantastic thing and she taught me. Now let's see if I succeeded. So now I'll explain how to make tortellini. Okay, this is a paste, close it, press it a little and bring it forward. Good. Then you put your finger in and twist around your finger. Here. Okay, good. \n",
      "Translating: TranscribeTikTokAudio7136118025811479814.json\n",
      "the family is the essential nucleus of our nation, it is the basic unit of our social life. For this reason we believe that the tax system must also substantially recognize the substitutive role of social safety net that families exercise and which is increasingly crucial in modern society. In this perspective, Fratelli D'Italia has always proposed a radical paradigm shift in the tax system so that income taxation takes into account the composition and characteristics of families with the introduction of the so-called family quotient. Legislative objective. In essence, the larger the family, the less taxes are paid, but we immediately intend to make an immediate tangible contribution to all families. As? With a simple and responsible proposal, namely to adequately strengthen the instrument of the single universal allowance. Today the law provides, in extreme summary, a contribution for each dependent child from a minimum of fifty euros to a maximum of one hundred and seventy-five euros per month in the case of ISEE up to the threshold of fifteen thousand euros. Amounts too low. Parents know this well, we will increase the single allowance by fifty percent which in this way will reach a maximum of two hundred and sixty euros per month per child. How much does it cost? Six billion is a small thing compared to the tens and tens of billions currently thrown away in useless bonuses, we can take the resources from there. This is a simple and responsible proposal that we intend to implement immediately, already in the next budget law. And maybe some young couples will think less fearfully about the idea of ​​giving birth to children. \n",
      "Translating: TranscribeTikTokAudio7277491085071387937.json\n",
      "nations represented in the G twenty collectively represent two-thirds of the world's population, seventy-five percent of trade, eighty percent of the world's gross domestic product. In the final declarations there are many issues that Italy considers priorities, for which Italy, let's say, had an important role. I think of the fact that we have had concrete references, for example to migration issues, in line with what is the Rome process, our conference on development and migration with India, the United States, the European Union, France, Germany, Arabia Saudi, United Emirates. Yesterday we launched a major economic corridor project between the European Union, the Middle East and India, a network of maritime and rail connections that will release, from my point of view, enormous potential for our trade and our businesses.. I want to reiterate my congratulations, Italy's congratulations to the Prime Minister Modi for the success of this difficult edition of the G20\n",
      "Translating: TranscribeTikTokAudio7183669325126012166.json\n",
      "best wishes to all Italians for a year two thousand and twenty-three of pride and optimism. The government will do its part this year, but I would like you to believe with us, to believe with me in the possibility of reviving this nation, of putting it back on its feet, of making it move quickly with enthusiasm, because we can do much more , we must do it together and therefore I wish you and your families great wishes for this year two thousand and twenty-three and I want to particularly thank yours truly His Holiness Pope Francis for the wishes he addressed to the government on a particular day which is the first of the year and to a few hours since the passing of another great Pontiff, Benedict XVI, a giant of faith and reason who will be missed by everyone, you and your families. Happy two thousand twenty-three!\n",
      "Translating: TranscribeTikTokAudio7146272946183605510.json\n",
      "yes and no yes. \n",
      "Translating: TranscribeTikTokAudio7063465536109235461.json\n",
      "keep a proportional law because the proportional law serves to prevent the center from winning. But I tell you even if there was a proportional law with today's numbers, sorry Giletti, then we'll see when we go to vote, maybe brothers of Italy have five percent. So what are we talking about? But with the numbers I read today okay? And which can be projected from now to the political elections it will be difficult to do without brothers of Italy in the pro- in the next legislature. Just what's the difference? If we have brothers from Italy as a driving force, we are certain that the government with the Democratic Party does not exist because I do not have a government with the left five-star Democratic Party, Renzi and company.. But excuse me, so we'll see how things will go and I hope that the Italians will give us the strength not only to, let's say, govern the nation and to be driving forces, to build alliances that will. She replies She goes alone, there is the risk that she goes alone faced with the fact that she tells me I don't talk to Savini for a week, this doesn't depend on me. He has this attitude, it's all up to me. Let's say she's ready to go alone? This isn't just up to me. Let's say that I no longer put on a good face at a bad situation if I don't have guarantees that those who are my allies want to be in this half field, that is, Salvini's Republican Party which launches the Republican Party with Berlusconi does not concern her.. No, it doesn't concern me. Among other things, even there, in short, it doesn't seem to me that the Republicans are government allies with the Democrats. Eh, I can say it all. After that, for goodness sake, they are choices that others make. I respect them, I can, I look at them with interest. He didn't ask her about that either. Maybe it was time to create a single party? No, but anyway I'm organizing the conservative camp. And what I'm doing with brothers from Italy. So I want to help Italian brothers grow. I want to expand its perimeter, I want to give a home to many other people. I've been saying it for three years now, you will remember the great demonstration at which we launched the project of an Italian conservative party. I am potentially the majority now, will I dedicate myself to this when the political elections arrive? In the meantime, we will see what the electoral law is, point one, point two, I will ask for guarantees and I will propose them again, for example the anti-injury pact. I will ask you to tell me first whether you are willing to be allied with the Five Star Movement with the Democratic Party, whether you consider the center-right camp as a priority and indispensable or not. And based on this I will do like the others. Because Salvini says we are here, we are here as a coalition as loose as snow in the sun. But look, I don't know this. Who dissolved the coalition at parliamentary level ago? Have you failed in the administrative exams? No, there was a lot of tension. I thought this lesson in quotes had done it\n",
      "Translating: TranscribeTikTokAudio7143163842665663749.json\n",
      "\n",
      "Translating: TranscribeTikTokAudio7202261483860806917.json\n",
      "something new has been added in recent weeks, namely that this government has started its own. Let's say so, war against illegal occupations. And here too, throughout the national territory, we have begun to do what had not been done before, that is, we have begun to proceed with the evictions of illegally occupied houses.. Here too it is worth recounting some data in Rome, here we are talking about ten apartments in the ater, therefore public residential buildings, that is, public housing which were partly occupied by criminal families.. Furthermore, three private homes plus one belonging to the INPS were evicted. In Milan, a public housing complex was cleared, a total of ninety-one illegal occupations and a school building that was entirely occupied by non-EU citizens. In Turin, eleven apartments were evicted, again from public housing in Naples, sixteen which were all occupied by people linked to organized crime and in Foggia seventeen which were also all occupied by members of local organized crime. This is also work that we intend to carry forward, continue to carry forward in the coming weeks because the era in which the State turns the other way in the face of crime and those who do not respect the rules is over.. Public housing buildings should go to those in need, not to the families of criminals. They must go to families who do not have the possibility of having a home and who often find themselves sleeping under a bridge because the public housing is occupied by criminal families. \n",
      "Translating: TranscribeTikTokAudio7260133930643361050.json\n",
      "The fires and meteorological disasters of the last few days have put and continue to put Italy to the test. I am sincerely close to the pain of those who have lost loved ones and to the communities that have been most affected. The government has made all the means at its disposal available to support the work of the Regions. But above all I must thank the volunteers, the firefighters, the members of the armed forces and the police forces. All teams are mobilized, just as the police and judiciary are working to discover the perpetrators of the arson attacks. Clearly we can only hope that the reduction in temperatures in Sicily and the easing of adverse conditions in the North will make the work of these operators easier in the next few hours. Less difficult. But we must not and cannot limit ourselves to these emergency interventions because using all available means does not mean, I say clearly, that today we have all the necessary means. In recent months the government has already increased hiring among those called to help. Since the next budget law we intend to increase expenses for the maintenance of air vehicles, however the continuous disasters we have witnessed in recent months from Ischia, passing through L Emilia Romagna up to what we see in recent days demonstrate that emergencies will be increasingly present and this means that we must certainly work on the transition. But it also means that we must do this, which we did not have the courage to do enough in the past, that is, work to secure the territory. Therefore, the medium-term objective that the government has set itself is to overcome the logic of fragmented interventions by launching a large hydrogeological prevention plan. In short, we want to do everything we can to provide immediate answers in the short term, but effective in the medium term. \n",
      "Translating: TranscribeTikTokAudio7243739642934201626.json\n",
      "Silvio Berlusconi was above all a fighter. He was a man who was never afraid to defend his beliefs. And it was exactly that courage, that determination that made him one of the most influential men in the history of Italy, that allowed him to make real turning points in the world of politics, of communication in the world. From the undertaking with him, Italy learned that it should never have limits imposed on it. He learned that he should never give up. With him we fought, won and lost many battles and for him too we will bring home the objectives that we had set together. Goodbye, yes. \n",
      "Translating: TranscribeTikTokAudio7247501157361372443.json\n",
      "being silent about the denial of religious freedom is equivalent to being complicit in it. We don't intend to do that. It is everyone's duty to defend religious freedom. But to carry out this commitment it is necessary to know data and numbers, to understand in depth the scenario in which to move, to have in our eyes and hearts the stories of those who suffer abuse, persecution, violence. This is what I saw in the eyes of Maria Josef Janata Marcus, two very young Nigerian Christians, victims of the ferocity of the Boko Haram terrorists. I met them on Women's Day and I was breathless by their courage, their strength, their dignity. A meeting that I will not forget and which left me with great lessons. For this reason the report by A. C. S. It is so precious because it does not analyze abstract reasoning, but gets to the heart of the persecution and discrimination at the heart of the victims, their history, their lives. It's a bit like a guide to outline a course of action. One of these is very clear: religious freedom is not a second class right, it is not a freedom that comes after others or that can be forgotten for the benefit of so-called new freedoms or rights, in the same way we cannot forget another phenomenon that affects the more developed societies. Pope Francis has warned us of the danger of polite persecution, disguised as culture, modernity and progress, which, in the name of a misunderstood concept of inclusion, limits the possibility of believers to express their beliefs in the context of social life. It is an analysis that I share, because it is profoundly wrong to think that to welcome others one must deny one's own identity, including religious identity. Only if you are aware of what you are. You can dialogue with others, you can respect them, know them in depth, draw enrichment from that dialogue, Italy can and must give. The example Italy intends to set an example at a European and international level. This is one of our many missions. \n",
      "Translating: TranscribeTikTokAudio7107893116505492741.json\n",
      "a just state does not put those who can work and those who cannot on the same level of welfare because if it does so with limited resources it ends up hitting the weakest. That is, the paradox in Italy today is that a twenty-year-old boy in excellent health who could work can earn up to seven hundred and eighty euros. And disabled people get a disability pension of two hundred and seventy euros. A social pensioner takes a social pension minimum pension of five hundred euros. This is not normal and in my opinion it is not normal for that boy either. Because a state that tells you to stay at home, I don't need you, is not a state that is educating you. We desperately need the youth of this nation. So what do the right states do? They provide assistance to those who are not in a position to work and for others they create the conditions for people to go to work. Because one thing is that you clearly have no alternatives and therefore the State must take care of you. But for the State to be able to take care of those in need because they have no alternatives, people need to work if instead we all think we can stay there with the State that will give us a solution. Gentlemen, it doesn't work like that. And who told these follies? Simply to force people to vote for him? Why are we talking about this anyway, otherwise who should vote for the Five Star Movement today? Why not? Rightly. So who thinks? I keep you in your condition of poverty exactly where you are and then you depend on me and whoever says I want to build your freedom. \n",
      "Translating: TranscribeTikTokAudio7182877365171801349.json\n",
      "yesterday in the Council of Ministers, Minister Schillaci made a report on the issue of covid, new cases and the surge in cases in China. I wanted to ask you, in the past you have been very critical of the plans adopted by past executives regarding the containment of the epidemic and you feel that you can exclude that Italy, in the event of a new critical situation, will return to the restriction of lockdowns at vaccination obligation at the Green pass. And what will your government's strategy be at that point? Thank you. The way I see it, um I believe that the solution is always, let's say, controls. I think swabs continue to be useful. I think masks continue to be useful, eh, let's say the model of deprivation of freedoms that we have known in the past did not seem so effective to me and I think the Chinese case demonstrates this well. I believe that what happened in China demonstrates this very well, so my idea is that we must work primarily on the responsibility of citizens rather than on coercion, as I said in the past, which in my opinion should be done and as I intend to do in the future. future\n",
      "Translating: TranscribeTikTokAudio7238958663094865178.json\n",
      "too many times. We forget the contribution that Italy has made to the history of humanity. We never fully realize it, probably because we are paradoxically addicted, not to the beauty and culture in which we are immersed. When you go abroad your point of view changes immediately. We immediately realize how much our nation is considered a beacon of civilization, how being Italian is synonymous with beautiful, precious, innovative, brilliant.. And how much demand there is for Italy for years, perhaps for decades we have forgotten what we have been capable of, what we are capable of, how much Italy is capable of surprising, of innovating, of being avant-garde, of teaching how much the our identity, our nation and our homeland are admired and esteemed. But we can't make others fall in love with us if we don't love ourselves first. And if we don't rediscover what binds us and makes us a community of destiny, believing in what we are is the most powerful petrol we can put in the engine of the nation and the fuel we need to chart new routes and return to being protagonists in Italy and in the world\n",
      "Translating: TranscribeTikTokAudio7148069987796765958.json\n",
      "we should remember that we are not at an arrival point. We are a starting point. Starting tomorrow we must demonstrate our value. This is the time of responsibility. This is the time when if you want to be part of history, you must understand the responsibility you have towards tens of millions of people. Because Italy has chosen us and we will not betray it. How we never betrayed her, ever. So it's important to, um understand that if we are called to govern this nation we will do it for everyone. We will do it for all Italians. We will do it with the aim of uniting this people, of exalting what unites them rather than what divides them. Because the great objective that we have always given ourselves in life and that we have given ourselves as a political force, was to ensure that Italians could once again be proud of being Italian, of waving the tricolor flag\n",
      "Translating: TranscribeTikTokAudio7237568877436177690.json\n",
      "the viva he did. \n",
      "Translating: TranscribeTikTokAudio7198105090119568646.json\n",
      "platform exhaling speculation even more than a day, President, what of race? But obviously Italy continues to be fully committed to our contribution, the all-round contribution because we are aware of how we have said it several times? Um, obviously beyond the issue of respect for international law, the value of sovereignty and freedom of a nation. The Ukrainian conflict involves us all directly and I believe that the best way to build an option for peace and dialogue is to keep the forces in the field on a balanced level. Therefore, full support for Ukraine is also the best way to reach a possible negotiation. And in any case, Italy will continue to support today and obviously intends to be a protagonist in the possible future reconstruction of the country. Look, we can make progress on immigration, it seems to me that progress has already been made. Why the drafts The draft conclusions If we look at the past on the topic of the external dimension, on the topic of the fact that the migration issue is a European issue on the topic of the specificity of the maritime border, which obviously needs different responses, it is a huge step ahead of the past. For those who follow these dynamics, you know that well, um in the last five or six years, eh? It was difficult to imagine that there was such awareness on this matter on the part of the European Council. So what? In short, I consider it an excellent starting point, the result of important Italian work, not only political, but also of our diplomacy and therefore I am, let's say, quite optimistic President on economic dossiers. What do you expect in Italy from this council? Mainly. But look, I expect that, um, the legitimate aspirations of individual nations do not come at the expense of others and that therefore a balance can be found. On the one hand we certainly have an enormous need to defend the competitiveness of our system, but not because the United States has angered the Infn Reduction Act, but because it is a moment in which we must question the choices that they have, for example in terms of supply chains, returned to controlling their own fundamental supply chains. We have a competitiveness problem, we need to help our production system. It must be done in such a way as not to obviously create disparities within the single market and therefore, for example. In short, we continue to believe that imagining a sovereign fund to support businesses, working on full flexibility of existing funds must be issues to be discussed and put on the table at a time when some who have greater fiscal space than others ask for easing of rules on state aid, the mission of France, Germany, Washington was Look, frankly, the invitation to Zelanski yesterday seemed more inappropriate to me, because I believe that the strength, our strength in this matter is unity and compactness. And I understand. I mean, internal political issues, no, the fact of privileging one's internal public opinions. But there are moments in which privileging one's internal public opinion risks being to the detriment of the cause. And this seems to me to be one of those cases. Thank you. Good work. Thank you. This too\n",
      "Translating: TranscribeTikTokAudio7143285004917935365.json\n",
      "Yes. \n",
      "Translating: TranscribeTikTokAudio7173606687327161605.json\n",
      "cap on cash. I have read many questions about this, the concept is more or less always the same because you have increased the cash limit and above all if such a choice does not risk increasing tax evasion, then we have increased the cash limit. Trivially, because the cash limit disadvantages our economy and creates problems for our economy. Because we are in a European market. In a European market, a cash limit only makes sense if everyone has it, while in Europe there are several cash limits and many countries that do not have a cash limit.. Look a little. Germany, a nation not world-renowned for its tax evasion rates, has no cash cap. Austria, which borders Italy, has no cash limit. This means that obviously those who have cash to spend, perhaps foreigners, prefer to go and do it in other countries, because it cannot be done in Italy.. Then on the topic of tax evasion this too is unfortunately tragically contradicted by the numbers. A company has done a study and tells us that in the last ten years the year in which the tax evasion rate was lowest was two thousand and ten. What was the cash ceiling in 2010? Five thousand euros, that is, it is false that the possibility of using cash favors tax evasion. Firstly because, as the financial police well say, who in fact say they are not worried about the increase in the cash limit, someone who wants to evade still evades. But above all because, paradoxically, the lower the cash limit, the greater the risk of evasion. Because since I can have cash for a thousand reasons, maybe I kept some cash at home, maybe a friend repaid me a loan that I had given him for a thousand reasons. I can have cash if I can't spend that cash legally I will tend to do it illegally, so the more you lower the ceiling on cash, the more you favor evasion, the more you raise the ceiling on cash, the less you favor evasion. Then on the topic of tax evasion I also want to say something because I have heard many things about the fact that this maneuver favors tax evaders. But no one says that, for example in this financial measure for the first time there is a good measure against open-and-close companies, that is, against that plague which in Italy is worth billions of euros, of Eva, of tax evasion every year, of companies that open and close before the State begins to carry out checks, that is, on average after two years they do not pay a single euro to the Italian State, disappear and start again. It is usually easier to do it for non-EU citizens, but obviously it happens all over the place. We have inserted a rule that allows, with a procedure that I will not explain for reasons of time. Let's say that at a certain point if the state sees it, if the revenue agency sees it we say there is something that isn't working. Depending on how you are moving, your VAT number can be closed and to reopen it you have to give a guarantee, that is, you have to guarantee the payment of taxes in advance, because the season in which, let's say, some people pretend not to see that they are completely evading is also over.. And then maybe there are people who honestly try to do their job, who are harassed by the State, a bit of healthy fair competition. We will break down unfair competition with this proposal that we have made for many years and no one has ever wanted to, has ever wanted to transform it into a law. Today it is in the budget, so I announce that anyone who wants to open a business in Italy will have to do so following the rules and there will no longer be children from Serie A and children from Serie B. \n",
      "Translating: TranscribeTikTokAudio7161412406495694086.json\n",
      "that fun part ends here. Now the time of work and responsibility begins. Clearly, if you are here there is a reason why you are here, it means that you are up to this task that you were deemed to be. I imagine you know that from this moment you do not represent yourselves, you do not even represent a party, you represent a nation and this has enormous value and an enormous call for responsibility. This adventure will be long, difficult, long. Hopefully difficult, for sure. Hopefully also exciting. It can be. And it will be when we manage to provide answers to the problems that citizens expect from us and to be faithful to the task entrusted to us to be. Oh, exactly what we said we would be. It's the reason we are here today, so thank you for the work you will do. Thank you for how you will be able to do this, always considering a team as we are doing, already at Council of Ministers level. And I also thank Matteo and Antonio who wanted to be here this morning, our two deputy prime ministers. But remember that there are millions, tens of millions of people whose lives, whose future, whose well-being and serenity depend almost exclusively or largely on what we manage to do.. Good luck to everyone and good work. \n",
      "Translating: TranscribeTikTokAudio7158424452286401797.json\n",
      "because in the end, at the end of this adventure, I will only be interested in one thing knowing that we have done everything we could do to give Italians a better nation. Sometimes we will succeed, sometimes we will fail, but rest assured we will not back down, we will not throw in the towel. We will not betray the liturgical memory of John Paul on the day our government was sworn into the hands of the Head of State. According to a Pontiff, a statesman, a saint that I had the honor of knowing personally, he taught me a fundamental thing that I have always treasured. Freedom, he said, does not consist in doing what we like, but in having the right to do what we must. I have always been a free person, I will always be a free person and for this reason I intend to do exactly what I have to. Then, thank you. \n",
      "Translating: TranscribeTikTokAudio7073752853965262086.json\n",
      "then in the midst of an international crisis of a war, in the midst of a total economic emergency which sees bills increase by more than one hundred percent which probably sees the increase in the costs of raw materials, certainly of raw materials, probably basic necessities. What is the Italian government doing? A decree from the President of the Council of Ministers is launched, therefore without parliamentary debate, to extend the green pass by eighteen months, which can be further extended by another eighteen now. First point, according to the Italian government, the green pass could remain in force until January 2025. What does it mean? Because if it is true that the vaccine is valid, let's say it gives you coverage for about six months, it means that eighteen months plus another eighteen months we also have to do a fourth fifth, sixth, seventh, eighth dose. And what if we don't have to do a fourth, fifth, sixth, seventh, eighth dose? What purpose do I need the green pass? Because if I am not covered by the vaccine, in the months in which there is the green pass what is the Green pass a way to allow people to possibly spread covid freely or what Brothers of Italy has always supported something which has no scientific evidence, which only serves to control citizens, to limit their freedom, the right to work, the possibility of playing sports, the possibility of socializing, the possibility of buying what I want at the supermarket, because here they also tell you that in the supermarket you can buy what they say. If you don't have the green pass, then we had a virus that came from China, but we don't want to import the Chinese model. So in the meantime we ask that Draghi come to the Chamber because we want to talk about this issue in Parliament and secondly we continue to support the madness devoid of sense and scientific evidence of the choices of hope and companionship to date. \n",
      "Translating: TranscribeTikTokAudio7144023384853171462.json\n",
      "Excuse me, do you want to change the one hundred and ninety-four or not? Because this is substance. But no. Exactly. I don't want I don't want to edit. Let's see if we can make ourselves understood. Let's see if it's because he's Italian. I do not want to abolish the one hundred and ninety four law on abortion I do not want to modify the one hundred and ninety four law on abortion I want to apply apply apply entirely the one hundred and ninety four law on abortion which also means the whole part that concerns the topic of prevention, which does not mean taking away rights, but add rights. That is, if there is a woman who chooses to have an abortion because she believes she does not have an alternative but would like to have an alternative, for example someone who has an abortion for economic reasons but would like to have an alternative I would like to give her that alternative. Is this taking away rights or is this giving rights? Because I keep saying I read all these supposed feminists because then many actually think differently, but all these who say don't vote Meloni will take away women's rights. Exactly what are the rights that I would like to take away the right to? Right to abortion or no right to divorce? No, I don't think so, the right to work. It's a job. For what Putting on nail polish for what? What right do I want to take away? I do not know. However, something concrete was very clear\n",
      "Translating: TranscribeTikTokAudio7156890275317632262.json\n",
      "so good morning everyone. The delegation made up of group leaders and presidents of all the political forces of the center-right coalition met President Mattarella, agreed with President Mattarella on the need to give this nation a new government, um in the shortest time possible, because the urgencies that we face are many at a national and international level. Um, the entire coalition that, not by chance, presented itself together this morning at the consultations gave a unanimous indication as, um, let's say representation of the parliamentary majority, um, proposing to the President of the Republic the indication of the undersigned as the person in charge of forming the new government. We are obviously now awaiting the decisions, um, of the President of the Republic whom we thank for his teaching in such a particular moment in the history of the nation. And obviously we are already announcing that we are ready because we want to proceed as quickly as possible. Thank you all. Good day\n",
      "Translating: TranscribeTikTokAudio7259020896466242842.json\n",
      "dear friends, it is a great honor for the Italian government to welcome you to Rome for this conference dedicated to development and migration. I want to be clear about one thing, what we are inaugurating today is above all a dialogue between equals based on mutual respect, because the relationship between Europe and the wider Mediterranean cannot be, let's say, a competitive, even conflictual relationship.. Then I want to be the first to be frank. I know that for many of you in the past, Europe has not always considered the problems of the rest of the world as its own and that more generally the West has sometimes given the impression of being more attentive to giving lessons rather than giving a hand. And probably also this distrust which then made it difficult at times to move forward in solving strategic dossiers. But this was certainly the case with regards to the migration dossier. For this reason, from a mutually beneficial partnership perspective, I believe that the first objective of this conference should be to launch development initiatives and projects for the wider Mediterranean region of sub-Saharan Africa through the joint planning and implementation of initiatives and projects which from my point of view should focus mainly on what is structural agriculture, energy, infrastructure, education and training, healthcare, water, hygiene. For this reason, the objective of our work must also be to find the resources necessary to carry out these development initiatives, involving not only states and international organizations, but also enhancing private and entrepreneurial initiatives.. And I am sure that the discussion that we are about to start in this session, in the following one, which also involves international financial organizations and institutions, will direct us towards ambitious and shared goals. So I thank you once again from the bottom of my heart for being here. I thank you for the contribution you will make and I officially declare our work open. Thank you. \n",
      "Translating: TranscribeTikTokAudio7133129347828944134.json\n",
      "ten years of left-wing governments have made life impossible for those who want to do business, treated like criminals, like tax evaders, regardless thrown into the jungle of bureaucracy and tax Big Brother, oppressed by taxes that are too high. Doing business in Italy has practically become a heroic act. However, the small and medium-sized enterprises of this nation represent its economic backbone and are the custodians of Made in Italy which is the most precious thing we have. This is why Fratelli D'Italia proposes a Copernican revolution in the relations between the State and businesses. There is no need to disturb those who want to do things, we need a streamlined bureaucracy, sustainable taxes, a balanced relationship between the State and the tax authorities. Let's start immediately with concrete things. The hateful phenomenon of illegal construction and unfair competition in trade, tourism, services, manufacturing, etc. must end. We will no longer allow the game of open and close. Made above all by non-EU citizens, that of companies that do not pay a euro in taxes if they act illegally and then close their doors before the State notices them to reopen, perhaps with another name. Anyone who wants to work with us is welcome. But anyone arriving from outside the European Union before opening the shutter will have to present a surety to guarantee the payment of taxes, so that everyone can compete on equal terms.. We will restore dignity and freedom to the honest people who create work and wealth in Italy. \n",
      "Translating: TranscribeTikTokAudio7140316758455454982.json\n",
      "Kent. You are right. I said a nonsensical word. So now let's try the chiwa again. Better because I saw your video. I learned something. And so you can continue to help me. Because I'm not really good at Japanese. And therefore whether that invitation to dinner is valid. I'm ready for sushi. But cooked, because I don't eat raw, otherwise it's ramen\n",
      "Translating: TranscribeTikTokAudio7138094156332715270.json\n",
      "Ah, good evening everyone. And for this presence, thank you. \n",
      "Translating: TranscribeTikTokAudio7178782554814811397.json\n",
      "I make beautiful Christmas trees, I'm a black belt in Christmas trees and instead this year I'm changing everything from trees to nativity scenes. I decided to make a nativity scene when no one does it anymore. I decided to make a nativity scene when in schools they say it can't be done because otherwise it offends those who believe in another culture and I just can't get over it. And I keep asking myself but how does a baby born in a manger offend you? How does he offend you? A family running away to defend that child? How does my culture offend you? Because whether you believe in God or not, this symbol contains the values ​​that founded my civilization. I believe in respect, because this symbol taught me that. I believe in the secularity of the State because this symbol taught me so. I believe in the sacredness of life because this child who is born taught me I believe in solidarity because this symbol taught me. What I am is in this symbol and I want my daughter to know it. I want Ginevra to know that Christmas is not alone. Let's give away expensive things and eat everything there is. I want Ginevra to know that at Christmas we celebrate these values ​​and I think you too should explain this to your children.. Make the nativity scene, make the nativity scene with me, this year all together, let's take the shepherd boy and make the nativity scene revolution. \n",
      "Translating: TranscribeTikTokAudio7092109732386737413.json\n",
      "of altitude Oxygen is rarefied, it can make you dizzy, it can make you lose your way. But it won't be like this for us, because our preparation, like that of every mountaineer, has been long, thoughtful, painful.. So the higher we climb and the more we bring with us what we come from, the more dreams we will have and the more it will be our responsibility to bring them to reality.. The more we advance, the more we will reach out to those left behind. And above all, let it be known that the only reason why we want to get to the top is that we know that from there we can look further. Thank you. Okay, the president of Fratelli D'Italia and the European Conservative and Reformist Party, Giorgia Meloni\n",
      "Translating: TranscribeTikTokAudio7144986246215929094.json\n",
      "they say that brothers of Italy want to attack the poor and needy because we are against citizenship income. Rich individuals in expensive suits say it, professors who have never left the good neighborhoods of big cities. Multi-millionaire artists say it, um from their private jets. They say it to me, to us, to the brothers of Italy, that we learned something about poverty, about the suburbs, about the harshness of life, on our own skin, not in the dissertations of the living rooms or by watching some documentary like this is how the poor. Our expert from his villa in Capalbio explains it to us. We know well what poverty is and that is exactly why we want to fight it. We know what poverty is and for this reason we say that the citizen's income is the wrong measure because it puts on the same level those who can work and those who cannot, those who need assistance and those who need a job. And yes, we think that the nine billion euros of public resources that have been allocated to citizens' income every year in recent years can be spent. Much better too. I mean, leaving aside the scandals, the scams, the missed checks that have filled the news every day related to the topic of citizen's income in these years in which this measure has been in place, what do we want to do? How can this money be best spent? In the meantime, we want to continue to protect the most vulnerable. We want to maintain a system of protection for them, um like the one that existed with the citizen's income, even trying to increase it, that is, to make it more dignified. Who are those who need protection? I think of pensioners in difficulty, I think of those over sixty with no income. I think of the disabled. I am thinking of families without income who have dependent minor children at home, elderly people, disabled people, children. From us they will have every possible support, as we have always demonstrated throughout our history. For those who, however, things should change, in our opinion they should change for those who are between eighteen and fifty-nine years old and are able to work. According to data from the scientific evaluation committee of the P n R R of the Ministry of Labour, there are approximately fifty percent of the recipients of citizenship income and practically none of these people have found a job thanks to those mythological Navigators which are another brilliant idea of ​​the Five Star Movement. Yes, these people with us instead of the citizen's income of taking the citizen's income without working while staying at home, um, they will be helped to actually find a job for those who know poverty. He knows that the only way to overcome it is to defeat the causes that generate it. Those who are able to work must be trained and must be able to respond to job requests coming from companies. For this we have huge resources that come from the European Social Fund which serves exactly this objective. There are twenty-eight billion euros for the period from two thousand twenty-one to two thousand twenty-seven. In addition to the approximately eight billion euros that we didn't use, we didn't use any previous programming in our model. Anyone who turns to an employment center or employment agency must be immediately directed to a training course that has strong prospects of rapid hiring once the training course is finished. In particular cases of hardship with those same European funds, it is also possible to provide economic support during that training period. So in any case even during that period you have coverage and this is obviously accompanied by real support measures for companies that hire from cutting the tax wedge to advantageous taxation with the formula that we call the more you hire, the less you pay. This is the difference between a serious party, that is, one that wants to free men and women from the drama of poverty, giving them the prospect of work, work and well-being. And those political forces that want to keep Italians under the blackmail of state welfare and then be able to ask for the votes of those people during the election campaign. \n",
      "Translating: TranscribeTikTokAudio7182913772271521030.json\n",
      "The question therefore is whether you can give us a little more detail about the government's strategic choices for 2023 and also the timing, on the one hand to create more effective active policies for work which your party also called for when it was in opposition and which they will be useful to those who may lose their income within seven months and on the other to create conditions for a better quality of work. I believe that creating the conditions, um, to improve the quality of work in Italy is a matter that concerns above all, like many other matters, the issue of economic growth, that is, above all we must put people in a position to hire. And this is obviously done when the economy is free to operate and when we are faced with a government and politics that do their best to favor those who create wealth and those who create jobs. Now this may seem trivial, but in reality it is not because, let's say, it is not always what Italy has done. Italy has worked a lot in recent years, above all with the aim of representing more, how can I say, a limit rather than a stimulus to the creation of wealth. That is, we come from legislatures in which we were essentially told that work could be created by decree, that poverty could be eliminated by decree. This is not the case because it is not the State that generates work. The State can create the conditions to favor those who generate work, because companies create work, um with their capacity. So we are moving exactly in this direction. \n",
      "Translating: TranscribeTikTokAudio7162839147302997254.json\n",
      "as far as the rule on raves is concerned, look, I agree with what I heard the plant minister Tosi say if I'm not mistaken today in an interview um if anyone has ideas to improve the rule and Parliament exists for this, huh? In short, at the time of conversion, if anyone thinks that the law could be done better, we are available to listen, as long as we say the criticisms are not specious because in recent days I have objectively heard everything. I heard that we want to ban demonstrations. Look, I would like to point out that the thing that is most distant from my history and from my beliefs is that of thinking, of banning demonstrations, so we try not to say things that are neither in heaven nor on earth.. I've also heard it said but these poor kids can no longer have fun in Italy they will have to go abroad so look, I'll read you a message that I received today from a common citizen who says It's not that you can't do rap of course you can open your VAT number, rent or buy the place, hire a company that takes care of your security, hire legal staff. Fire extinguishers huh? You pay SIAE, VAT, IRPEF, TARI, etc. You equip yourself with a tax fund connected to the revenue agency for authorization to sell drinks. Have your beautiful party with the people who can contain the area according to the regulations. Kind of like all us idiots do. Well, the topic is not here. Preventing people from having fun as I have heard, the issue is to prevent this from being done illegally. The theme is to respect all those who, to organize a rave, an evening at the disco, to work, to live in a normal nation, respect the laws of the Italian state. And because on this yes, on this I and my opposition say we are completely in two different worlds, the State that harasses people who try to work respecting the rules and then pretend not to see those who respect these rules, if these rules don't give a damn, it's finished. Also, sorry, but how is this defense of illegal raves compatible in your opinion? With all the battle about safety in the workplace, the safety of workers, the safety of those who go out and participate in any initiative, food safety, why not this too? He says the kebabs, we didn't sell the kebabs. Yes, look, I officially announce that in a normal demonstration any normal demonstration. If you want to sell kebabs, I'll let you know that you need an infinite series of authorizations that these people don't have and don't ask for. So the issue here is not what can or cannot be done in Italy. The theme here is if you want to do something, whatever you want to do, you do it respecting the rules and laws of the Italian state because there isn't some idiot who respects them and someone else who doesn't have to respect them, this Italy here, as I see it, it's over, that is, someone who knows how to do it better make their proposals but don't use hypotheses that have nothing to do with the rationale of the law and with our intention to prevent this State from saying that we are no longer the banana republic, because I don't follow them on this, I move forward and I believe that this is what Italians expect from me and from the government currently in office\n",
      "Translating: TranscribeTikTokAudio7140683479053831429.json\n",
      "your first. I find that the electoral campaign that the left is running is an electoral campaign that betrays a great awareness of its own weakness. That is, I even realized the law because I am a person who likes to read that in the Democratic Party's electoral program for the next five years of the Democratic Party they talk about me and it says Giorgia Meloni, that is, if I decide to stop to do politics they don't have a program, they don't know what to do. No, but could it be a government program? I mean, but according to you, I'm talking about Enrico Letta when I say what I want Italy to do because unfortunately, not being able to say we'll do this while they've been in government for ten years and we've seen them at work, they try to throw it all on the monster. \n",
      "Translating: TranscribeTikTokAudio7141788005320150277.json\n",
      "\n",
      "Translating: TranscribeTikTokAudio7137723121796156677.json\n",
      "Yes. \n",
      "Translating: TranscribeTikTokAudio7141284558791576837.json\n",
      "I will never govern with Meloni. The Democratic Party with this right will never govern. We will be in opposition Enrico, you and your party have allied yourself in order to stay in government with the Five Star Movement, Forza Italia, Lega, Fratoianni, Bonino, Tabacci Let's change our minds with Italy, Di Maio's SVP party. The reason why you will not govern with Italian brothers is that we are the ones who don't want it. \n",
      "Translating: TranscribeTikTokAudio7184340534251621637.json\n",
      "we dealt with immigration in the same Council of Ministers with a decree which mainly concerns the issue of NGOs which has as its objective the respect of international law because simply the international law on rescue at sea does not provide that there is someone who can make the ferry in the Mediterranean or any other sea and go back and forth with smugglers to transfer people from one country to another. Obviously we want to respect international law. International law provides something very clear: you are obliged to save someone if you accidentally meet them and if someone is at risk. Here are the rules that the Italian government has brought forward that aim to limit the rescue of migrants to what is required by international law, with some fairly simple rules. First point if you come across a boat and save people you have to take them to safety and therefore you don't keep them on board the ship while you continue to make other multiple rescues until the ship is full, because that doesn't mean putting the safe people and above all it doesn't mean accidentally rescuing shipwrecked people. Then we ask that there be, let's say, coherence between the activity that some ships carry out in the Mediterranean and what they are registered for, because obviously these are the activities of various commercial ships that go back and forth to rescue migrants, which is quite jarring, after which we need to screen those on board. Clear information on rescue mechanisms is needed. We need rules to prevent um that um, in gathering these people on board we do not jeopardize the safety of the vessel we are approaching, stringent regulations that allow us to respect international law. What happens if these rules are not respected? What happens if these rules are not respected is that there is no authorization to enter international waters and if that authorization is violated, the vessel is administratively detained the first time for two months, the second time with seizure for the purposes of confiscation. We do this to comply with international law. We also do it to respect migrants, because if someone is risking their life they have the right to be saved. But what is different? It means being used by the human trafficking of the third millennium and continuing to make billions of euros to the unscrupulous smugglers that we have known in recent years and that the Italian government wants to fight\n",
      "Translating: TranscribeTikTokAudio7210840206986071301.json\n",
      "It seems clear to me that for several months we have been witnessing a migratory pressure that has few precedents across the central Mediterranean, um towards Europe and therefore towards Italy. The causes are multiple, we obviously know the political instability, economic crises which are obviously aggravated by the international conflict and last but not least I continue to denounce the interests of powerful criminal trafficking organizations which often have transnational projections. Mass immigration is a phenomenon of very wide scope, which obviously concerns the lives of migrants, which concerns the protection of the most vulnerable, but which also concerns the safety of citizens and the social protection of our societies. And for this reason I reiterate that the government does not intend to bow to the many and powerful pressures of those who would like to impose the ideological vision of a world without national borders in the name of an indefinite right to migrate. The government's action, as demonstrated so far, will be at the contrary focused on respect for the law and national international law, putting an end to the anomalies that have characterized the Italian approach to the migration issue. This means firmly combating illegal immigration and human trafficking, it means protecting those who have the right to international protection and managing legal immigration in an orderly manner through flow decrees.. All within a framework of responsibility that must also involve the other European states. You have seen that for the first time the central Mediterranean route, today considered a priority issue of European interest, was thanks to the impetus of this government. But obviously we don't intend to settle for proclamations and we won't do so in the next few weeks. With us we will ask for immediate answers. We are also doing it in these days of support in favor of the states of North Africa, Tunisia in the lead, because Tunisia is experiencing a profound crisis, with consequences that can be very worrying for Italy and not only do we want to be an impetus to all of Europe for a new relationship with Africa. This is what we called the Mattei plan, that is, a cooperation strategy that is centered on an equal relationship, a relationship of mutual growth and interest to guarantee African populations the fundamental right not to be forced to migrate in search of a better life. We no longer intend to remain under the blackmail of unscrupulous smugglers who use migrants as human shields for their trafficking and we no longer intend to let these criminals decide who can arrive in Italy and who cannot. we will move forward on this and we are very determined because we know that this is the only way to stop deaths at sea, protect the weakest and guarantee safety and legality for those who live in Italy. \n",
      "Translating: TranscribeTikTokAudio7134693026680655109.json\n",
      "then a couple of themes from the PD's electoral campaign in the last few hours are worth looking into further. Because I don't know if the issue is to necessarily insult Giorgia Meloni and let's say demonstrate in this way that you don't have many arguments or if the issue is that the Democratic Party really believes the things it is saying and writing, in which case they are let's say much worse than what we believed then. First point yesterday I published the video of a rape that took place in Piacenza, um against a Ukrainian lady by a public asylum seeker. The video to express solidarity with the victim to condemn what happened and obviously to ask for justice. The left rises up because according to them the publication of that video is a violation of the dignity of the victim, now given that I took that video from one of the main Italian newspapers, given that since I am very attentive to these things, I published that video only and exclusively because no one was seen, in reality no one is recognised, the victim is not recognised, the video is substantially blacked out. The thing that frankly leaves me very perplexed is that those who use this topic to attack me, because I expressed solidarity with a rape victim and condemned her attacker. Don't think about doing the same. They don't say a word of solidarity towards this raped Ukrainian lady and they don't say a word of condemnation towards her rapist. They talk about me, they attack me saying that I harm their dignity. Enrico Letta The violation of dignity is not the condemnation of rape, it is rape, why don't you talk about this, perhaps because otherwise you risk having to deal with the fact that security in our cities is out of control, also thanks to the surreal immigration policies that you have carried out in recent years. Second theme even more surreal um, I made a video a few days ago saying that if Fratelli D'Italia goes to government, they intend to invest a lot in sport, because sport is the best tool to combat the phenomena of youth deviance. I give the example of the small Iceland of An island which years ago had very high rates of drug addiction and alcohol abuse among young people and which has started a policy of support for horizontal sport for all and today is one of the most virtuous nations in terms of correct lifestyles and has made giant strides. Answer by Enrico Letta Long live deviance. Now I know, I know, I don't want to say it with my own words. If you open the internet to Wikipedia it says that deviances are behaviors that violate the rules. Even better. The adolescence dot it site is a site that clearly deals with the phenomena of youth's adolescence seen from a scientific point of view, so to speak, it explains the topic of youthful deviance better, saying in adolescence such behaviors can manifest themselves in ways which differ in persistence and severity from more oppositional attitudes, such as disobeying or lying, violation of laws, use and abuse of narcotic substances, vandalism and violence against the person. Enrico Letta long live deviance. \n",
      "Translating: TranscribeTikTokAudio7074535704902077701.json\n",
      "so combative because in the government documents it doesn't say what Mario Draghi says, it says the exact opposite and therefore there is a problem because either Mario Draghi doesn't read the documents that his government writes and I doubt it or on this is not telling the whole truth, because you see in the report that the government makes on this matter it is written verbatim that this provision, i.e. the reform of the land registry, is consistent with the guidelines of the p n r r and responds to the recommendations made by the Commission European Union to Italy on the subject of fiscal policy is written in the government document. The Council of the European Union recommends reducing the tax burden on labour, compensating them with a review of tax breaks and with a reform of cadastral values ​​which are not updated. In government documents it is written that the reform of the cadastre serves to do what we need Europe is asking and that is to review our taxation by decreasing it on work and compensating the decrease in taxes on work with the revision of cadastral estimates. They are the ones who write that they are reforming the land register to increase taxes on houses. I'm not the one saying it and so there's something that doesn't add up when the prime minister comes to the chamber again yesterday and responding to a question time from the brothers of Italy says Taxes won't increase because you wrote it, you're doing it to increase taxes. And after all Draghi, let's say in a sort of slip of the tongue, mentions among the possible reference taxes, the IMU, the ICI and therefore things don't add up here too. So I read, let's say verba volant written manent no. This writing says that the government will increase, it intends to reform the land registry to increase taxes on house taxation and I find it surreal. And I find it frankly surreal. I say this with the respect I have for Mario Draghi, that of all the possible and imaginable matters he decides to place his trust in the existence of the government on this matter which also betrays a problem. It's not true what is said and what is partly written in this document that we have to do it because Europe asks us to, otherwise we won't get the P n R r money. So the government can only move forward if we increase house taxation and Italy can afford an increase in house taxation while bills are already increasing. Basic hygiene, petrol has reached two and twenty euros. That is, can we do it? I think no. I think it would be madness and that the authority of Mario Draghi would require us to go to Europe and say Gentlemen, you will not carry out social butchery on the ge- on my people you cannot do this job given that, moreover, you are giving us the money for Most of the time, it's not like you're giving them to us as a gift. \n",
      "Translating: TranscribeTikTokAudio7178948277834992901.json\n",
      "the pres is a victory for the Italian government. The agreement reached in Europe on the gas price cap is a great Italian victory. It is a victory built with a lot of patience, for which we must also thank the previous government which had instructed it. It is a battle in which Italy continued with determination and this led to the end, despite there being great resistance to bringing all of Europe to a proposal that we were, in short, among the first, if not the first, to do, which is a huge signal for Italian and European families and businesses and shows that, in short, when you take a little with determination and a little stubbornness the results can come. I am very, very satisfied, I have to thank the minister pichetto, the minister dense who worked on it, the minister cingolani who had worked on it before and obviously now it is a question of monitoring for an effective application, in short of the roof within the expected timescales in such a way quick\n",
      "Translating: TranscribeTikTokAudio7136844388176530694.json\n",
      "you know that there are almost twenty million dogs and cats that live in our homes as four-legged family members. Yet it is estimated that every year around eighty thousand cats and fifty thousand dogs are abandoned, more than eighty percent of which risk dying from accidents or starvation.. Pets are part of the family in every respect and Fratelli D'Italia intends to fight to guarantee them a dignified and loving life among our initiatives already launched in this legislature. There is, for example, the tightening of penalties for those who mistreat, poison and abandon animals. But even more important will be the information and training campaigns on respect for animals which must be carried out starting from schools. We want to fight to stop the illegal trafficking of approximately three hundred thousand puppies that arrive from Eastern Europe and are sold in Italy every year for thousands of euros as purebred dogs, after having undergone endless days of travel in pitiful conditions.. And then we want to expand pet therapy activities and where possible we will let our animal friends enter nursing homes and hospitals, because even the company of those who love us is therapy. And because I really think that, as Gandhi said, civilization of a people is measured by the way they treat animals. \n",
      "Translating: TranscribeTikTokAudio7138461939923029254.json\n",
      "\n",
      "Translating: TranscribeTikTokAudio7235728376848272666.json\n",
      "the situation is very complex and there are various different emergencies. Now what is very important to me is that it stops and this concerns the time of. The issue of bad weather concerns the issue of possible landslides um, what I have found is a situation in which there is a need and a lot of work. But allow me to say that I also found very proud citizens who were at work and who said let's get back on our feet. This is very important and I found many very young guys who came everywhere to lend a hand, because Italy brings out its best. In this paradoxical situation, it is clearly our task now, net of the incredible work that all our armed forces and law enforcement agencies have done. Um, our job is to ensure immediate answers, the reason I wanted to come here today and you'll excuse me if there was suspense about where I had to go. But this wasn't what I wanted to do, I wanted, I know you were looking for me but we wouldn't have succeeded. I prefered. This is not the time for catwalks. I went down to such random places. I was also moved. Well, I am moved, I am often moved, but I found many people moved, clearly moved by the tragedy they were experiencing, but also moved by Speranza No and I was saying for us it is important to give immediate answers. There is a council of ministers convened as you know for Tuesday there is the whole day tomorrow to, um optimize the measures. This is why I wanted to come on Sunday because tomorrow I can spend the day together with the ministers who are already at work and who in the meantime send me their initiatives, their ideas on everything that can be done. And I obviously spoke with President Bonaccini, with the mayors and obviously with the civil protection to understand what the priority things should be. I really want to thank the prefect here, the deputy minister Bignami, minister Salvini came to work a few days ago in the last few hours. In short, the Council of Ministers, the government are there, the other institutional levels are also there, there is a level of collaboration here which is very precious in a situation like this, it was a tragedy, but we can always be reborn from crises strong and therefore it can also be an opportunity to demonstrate how concrete and immediate Italy can be in terms of damage estimates, it is difficult to make a prediction and estimate of the damage. I know that the damage is enormous. An initial estimate of the damage to the roads has been made, but until we are sure that the situation will stop it becomes very difficult. In any case, clearly many resources will have to be mobilized and here too the government is already working to understand what the priority funds can and should be, from which the priority situations from which to draw. These funds we are no longer talking about, clearly we in the next Now we will also allocate other resources, which however are ten million for the emergency. The twenty million are now used to guarantee paradoxical relief. After that, the European Solidarity Fund is a fund that in my opinion, for example, is one of the funds that can be used. Then here I want to say something else, do you look? I come from the GSette, as you know and independently of the GSette, where there was also great availability, great solidarity. Many colleagues have written to me in recent days to say Giorgia, if anything is needed we are here, so in the next few hours we will also try to optimize this availability which for now could perhaps be for drainage pumps so to speak or for civil protection. We have extraordinary civil protection. I was telling here that at the GSETTE, the president of the International Monetary Fund, in front of a series of international leaders, said Italy has one of the best civil protection systems in the world, if not the best in the world, therefore and and and however there was also a lot of solidarity at an international level. I think that should be used too. If there are changes to be made also on European funds, I think we will not encounter any difficulties on this. Look on the p n R r. I've heard things said incorrectly, I've heard people talk about nine billion, etc. The resources that the PNR allocates to these cases are around two and a half billion. But you know that in some cases they are already mobilized on existing projects and must be spent by two thousand twenty-six. I'm happy that we're talking about p n r r because evidently we agree on the fact that in some cases you have to spend resources in the best possible way, even re-discussing if necessary, something that is less urgent. But I believe that at this stage we need to work more on other funds that also concern Europe. In any case, the resources needed will be identified to do things, that is, what interventions are already being thought of. But what priorities did you set with the first measures? Now I know they are needed, let's say to widen the emergency, to allocate the resources needed for the emergency and are needed to make all the measures to exempt companies, citizens from paying taxes to slow down, to strengthen the bureaucracy, both for that that is needed here, but to instead stop all the obligations that people and companies today cannot, cannot carry out. After that, obviously we need to work on compensation and reconstruction, but this requires a complete estimate and in my opinion work must also be done regarding the simplification of procedures. This is perhaps now one of the most strategic things to do to understand where responsibility should lie, to understand how we can concentrate all the resources we have at what are now many institutional levels and try to concentrate them to immediately spend what we can spend. I believe these are the most urgent things. Then on Tuesday we will meet President Bonaccini again and also the various territorial economic representatives and we will also try to get them to tell us what the most urgent things are. We have to work day by day, but we're here, thank you. \n",
      "Translating: TranscribeTikTokAudio7250049940255182107.json\n",
      "to all the Italian citizens who follow us. I want to say that in all European and international forums Italy is now recognized as a solid nation, a credible nation, a reliable nation, strong in its reasons and interests, strong in its tradition of dialogue and its geopolitical role. And I say this with pride, also thinking of the many who instrumentally predict that they were betting on a centre-right-led Italy that would be isolated on an international level. The results once again disprove the predictions and make us responsible to do more and more, to do better, aware as we are that a strong and credible Italy outside national borders means above all an Italy capable of affirming the interests and needs of its citizens. Thank you. \n",
      "Translating: TranscribeTikTokAudio7260633128325090587.json\n",
      "George I The American and the Playsta Thomas Jefferson, The Time Secretary of of President George Washington to Call Hill on the Capitol The Hills A More the Neves International Um International Chanche relation to one theater International Mediterranean in Africa and Eataly ex President of GS Even and the not list in the Costantino The The Ohh Night by The World on Ros World International. There\n",
      "Translating: TranscribeTikTokAudio7231465075389795611.json\n",
      "What doesn't work in the system is this instability, because a short government horizon corresponds to a short-term policy. It is clear that when I always live with the idea that we are about to go back to voting, I tend to favor what immediately comes back in terms of consensus. It is the reason why we favor current spending over investments that have a significantly higher multiplier. It's the reason why we don't have an industrial policy strategy, it's a reason why we don't have a strategy for many things. This instability has produced our economic weakness, it has produced the credibility problems that we may have also had at an international level, when our interlocutors often remain the same interlocutor for at least a few years and every time they sit with an Italian exponent they ask themselves the next once again, who knows if this person will be my interlocutor again on the part of Italy and they have produced the disaffection on the part of the citizens that we see and to deliver to Italy a reform which, let's be clear, we are doing for ourselves, because it is a reform which we hand over to the next government and therefore we hand over to all the political forces. But it is a reform that can leave the mark of a mature, stronger, more effective democracy, capable of giving the answers needed, capable of imagining long-term projects and which above all responds to what citizens want. Article one of the Constitution. \n",
      "Translating: TranscribeTikTokAudio7189296202347744517.json\n",
      "I'd like to imagine. I like to imagine that this could be the day on which the work of these men and women is celebrated. And it is a proposal that I will make. It is a day of celebration for us who can tell our children that the mafia can be beaten. We didn't win the war, we didn't defeat the mafia, but this battle was a fundamental battle to win and it's a hard blow for crime - organized crime. And I also want to say that it is a day of celebration for me who began the adventure that leads me to the presidency of the Council of Ministers from the rubble of Via D'amelio. \n",
      "Translating: TranscribeTikTokAudio7130543050006269189.json\n",
      "Jesus, Giorgia Meloni, J. Carron, Sanka Gesù, the president of Fratelli D'Italia left her parts preserved Italian Fratelli d'Italia and Draghi Fratelli d'Italia her parts and that the time and the deterioration, the the the the, the the the the the the surviving tragic, the Soviet Union for the misma bla of freedom, positioning of the current world and in what I don't know, let's synergistically suggest antidemocratic drift with palabras signatures that we don't always encounter if the group is Italian, European and even in the next one is the change represented for brothers of Italy, however, of Western freedom to maintain the farm during agnos and of garrisons the European conservative party which with the stories and American Israeli position in the Western field is crystal clear with the pink aggression against Ukraine, the contribute to bring if the Italian position in Europe and internationally our idea of ​​Europe and Slade is a political entity capable of representing an additional real value with less bureaucracy, the greats assumed that it shoots the future of Italy CSL dynamic and presides over the world that has contributed to large Europe. To parry the matter of a new temporal freedom whether or not\n",
      "Translating: TranscribeTikTokAudio7063159758185827590.json\n",
      "huge increases in costs for citizens and businesses, electricity and gas bills tripled, thousands of businesses exhausted and without concrete help will be forced to permanently close, millions of workers at risk. In this disastrous situation, what will be the concern of the government press and Italian politics will be to give answers to families and businesses that have been on their knees for days now, the most discussed topic by the media and politics. You know who Giorgia Meloni is, for a change, who, when asked if she will vaccinate her five-year-old daughter, dared to answer no, having evaluated, like all the other Italian mothers and fathers, the relationship between risks and benefits. A free choice and I agree that the government allows investigations, newspaper headlines, politicians and members of the intelligentsia, all concentrated on this theme, all concentrated on painting and building the monster. Why? To divert citizens' attention from the reality they are experiencing, the entire mainstream is deployed to prevent them from protesting against a government that is objectively a little late to avoid yet another blow that is about to hit Italians. To try, while we're at it, to criminalize the only opposition to the current government, they even went so far as to use my daughter to attack me because these people have no scruples in a scruple because they are in disarray. So I turn to free Italians, be aware of the fact that this game that is being played on my skin is actually being played to cheat you, because until we return to elections they will do everything to tarnish us, to prevent people from opposing the policies of this government, to prevent people from voting the way they don't want. But while they will continue to try to pit citizens against each other to divert attention from their failures, from their incompetence, with these means we will not give respite. We in the classrooms and in the squares will continue to fight to represent all those Italians who ask for answers and who do not give up on this reality. I'm sorry, don't stop us. \n",
      "Translating: TranscribeTikTokAudio7143251423474502917.json\n",
      "\n",
      "Translating: TranscribeTikTokAudio7092292016104606982.json\n",
      "the right things could have been done instead of doing the easy ones. But the truth is that in recent years our freedom and the very existence of thousands of Italian companies have not been sacrificed to scientific evidence. They were sacrificed to the incompetence of a political class who thought that a Chinese virus should be responded to with a Chinese model of society. Q r code mask in repression of dissent. All seasoned by Giuseppe Conte who arrives on Saturday evening on television at eight o'clock on unified networks and tells you what your rights are. It's time to say enough to the eternal emergency. It's time to go back to respecting the rules. And if politics wants to deprive us of something, well, it must first demonstrate to us that the benefit will be greater than the sacrifice. If politics wants to ask for sacrifices, well, it must first demonstrate that it is willing to make them. If politics demands that citizens be responsible, it must first demonstrate that it is responsible\n",
      "Translating: TranscribeTikTokAudio7109740680011894022.json\n",
      "mhm. In other words, if we have to laugh, let's laugh at Meloni who is much funnier than Salvini, a real joker. I'm a mocha, I'm Italian, I'm Giorgia. But it's ridiculous according to what you think, what do you fear from that political party? Well, in the meantime he was saying eh, it doesn't seem like he's not saying that the Nazis are coming, but the Nazis shouldn't be coming. The Nazis are already there, are the Nazis surrounding Meloni? Of course, but look at it there, no, oh well she's Italy expatriation. What do you think about it? But frankly, all the possible evil is attributed to the tones, the contents, the contrasts which seem to me to follow in tone the deadly anger of the other side, that is, Putin Kiril. And today they also claim the values ​​of God, homeland and family, but they see them as characteristic of Russia and as a nose in complete decadence in the West. And that's why they want to destroy us and make us their subjects. So discourses that seem ideologically different come together precisely on this violent tone from conquerors to misogyny. Homophobia is absolutely murderous propaganda that really scares me and makes me very sad. If this is the plan, I'll stay abroad, thanks. What you have seen are a series of accusations, threats, mystifications, insults broadcast on a single television network, seven in just twenty-four hours there is a bit of everything eh, clearly the accusation of making murderous propaganda um that of being a buffoon, of being surrounded by Nazis, more or less veiled references to Mussolini, Hitler, Putin, with whom I am even lumped together despite everyone knowing my positions. For example, on the subject of the Ukrainian war there is a bit of everything, there is even a presenter who defines me as the black woman. Now you see, on the one hand one should be happy to see these people resorting to their worst paraphernalia without having any real arguments. No people, so how can I say angry um so desperate um in short so envious as to react with this hatred? No to the fact that you continue to win their stories, no one buys them anymore, no one takes them away from the other side anymore.. But I believe there is something profoundly wrong with this. Because you see, when you tell millions of Italians that I am a danger, a dangerous person for history, a person who could paradoxically kill millions of people, invade a state or do things that the people with whom I am lumped together have done. risk that at a certain point someone decides to free the world from this very dangerous person, because maybe there are some wheels out of place and he doesn't understand the game there is. And so I, who perhaps for too long have allowed people to go out of bounds because I am a person who has always said what he thinks, but I am never wrong in speaking, I don't need to use these tones, I don't need to use these methods to campaign against my opponents who today are all just talking about me. Curious huh? Instead, last week they didn't realize today that the monster is there, they also noticed the previous electoral campaign. Um, I don't need to use these tones and I've always assumed my responsibilities, I'm tired of others not assuming theirs. So I have decided that in the meantime I will clearly sue all those who have allowed themselves to say a wrong word and not so much for me, because I will continue to move forward and I don't even look at these guys anymore.. I don't read them anymore. I just don't care what they have to say. Perhaps for this reason, Fratelli D'Italia continues to do well. I do it because I want to know if in this nation there is still the right not to be left-wing without risking becoming victims of the misfit on duty, because they taught him to hate you. Enough, gentlemen. Now we all begin to assume our responsibilities. \n",
      "Translating: TranscribeTikTokAudio7123181095293701382.json\n",
      "I like to imagine that beautiful phrase by Tolstoy that says how one torch lights another and a thousand torches are lit. Thus one heart lights up another and millions of hearts are lit. In short and thank you very much to everyone, we are ready to play our game. We have ideas, legs, heart and will in this room outside of here I have to tell everyone don't underestimate us because we are a whim. We are a whim of history and politics. We are flesh, blood, passions, something that comes from afar and that will go on again. We are history and political culture, we are ideas and their realization, we are the past that serves the future. We are the coherence that has never been betrayed. We are shoes full of mud and hands clean. We are the autonomous, free right, capable of building its own proposal that is different from that of everyone else, but which everyone else will have to deal with. We are here today and we will be here tomorrow and when we are no longer here there will be our children and when our children are not here there will be our grandchildren, because this story will never end alive. Italy alive, brothers of Italy\n",
      "Translating: TranscribeTikTokAudio7141803151136410886.json\n",
      "or\n",
      "Translating: TranscribeTikTokAudio7174007223310372101.json\n",
      "Basic income. Obviously I've heard a bit of everything here. In the meantime, what has the government done? The government has remained faithful to its commitments. We have always maintained that a just state should not put those who can work and those who cannot do so on the same level of assistance, that the two things are very different and that a just state should ensure security in terms of assistance for those who are not able to work? Um disabled people, elderly people, families without income, um with dependent minors, but that for everyone else, for those who can work, a fair state should create the conditions for having work. And what we intend to do and what we are partly starting to do because in the financial package there is, for example, a total exemption from contributions for those who employ certain categories of people, including those receiving citizen's income. We then established that at the end of next year 2024, those who can work will no longer have the citizenship income they will have in 2023.. Citizenship income can be received for a maximum of eight months and in any case the first time a job offer is rejected, citizenship income will lapse. And here I heard a bit of everything. First of all, I heard that we raise money from the poor. False expectation that all the money that we can recover from these choices of ours on citizenship income are all reinvested on the possibility, on those who are most in difficulty and on the possibilities. As I said, before creating a new job, I also heard someone say that Meloni is taking away our income and forcing us to go and steal it. Everyone in Rome is organizing it at Meloni's, we have nothing, we just have to steal. We have to steal to eat among the income and steal the option to go to work. Maybe you should also take it into consideration and here too it is true that the work is difficult. In Italy, however, perhaps it is not even as difficult as some think. I mean, there are several companies that ask the government within the flow decree on immigration to let in some immigrants who they need to do jobs. And I asked what the contracts were with which these irregular immigrants that we want to bring into Italy would work and I was told national collective contract. Now the national collective agreement is a contract that has all the guarantees. It is a contract that normally has a decent salary because there are minimums for sickness, holidays, thirteenth salary, severance pay. I think that between citizenship income, going to steal, choosing to do a very decent job of any kind, for which it seems that we ask immigrants to enter Italy because there are no Italians who want to do it, it is definitely better. So what I want to do is help people get out of their poverty, with work, because work can take you anywhere, while basic income keeps you where you are?\n",
      "Translating: TranscribeTikTokAudio7188187795985272069.json\n",
      "look, as you said, the general picture is quite complex. Let's say we weren't lucky. However, I have always thought that destiny challenges you to put you to the test. No. The thing that scares me the most, paradoxically, is not being able to tell Italians that this government is proceeding with determination, with head held high, without wasting a minute and with the awareness that this nation can recover despite the bad weather that there are many. We can do it, but we have to do it together. \n",
      "Translating: TranscribeTikTokAudio7143551183792164102.json\n",
      "among Mr. Pino also someone from the community, the G B T. Do you have sympathy for Giorgia Meloni? Yes, yes, because also from the world l G B T. Yes, we must also dispel this prejudice that one must necessarily be a communist. It is not so? If you wanted to give some advice to Giorgia, what would you give her to continue like this? Yes, so whatever, in the end, in short, the vote was understood. \n",
      "Translating: TranscribeTikTokAudio7219014997781925146.json\n",
      "For about twenty years Italy has been the victim of a cyclical problem linked to drought. No government had chosen to address it in a structural way until now. We choose to do it before it becomes an emergency. And we do this by networking, in a control room, all the various institutional levels that deal with this matter and simplifying the procedures for some works that are important. Moving immediately from the topic of reservoir capacity to the reuse of waste water. We want to address a problem that risks having a major impact on our territory and our farmers. But today's Council of Ministers, with another decree, dealt with other very important matters, over two thousand new men in the personnel of the police, the Coast Guard, the Fire Brigade, that is, over two thousand people to strengthen the safety of citizens. And then measures to increase the incentives that lead researchers who have fled abroad to return to Italy. Because we want Italians to have the opportunity to find the best conditions for working here\n",
      "Translating: TranscribeTikTokAudio7145360998407425285.json\n",
      "the social era in which mass communication had a frenetic and impressive expansion and also the era in which one of the basic rights of every democratic state, freedom of speech, was put under attack. Because you see if you communicate through conventional means, let's say books, newspapers, television, there are precise rules in force that guarantee the free expression of thought, almost always as imposed by article twenty-one of the Constitution. Therefore, no one, as long as certain limits are not exceeded, can be arbitrarily censored on social media. No, on social media all it takes is one click and the big tech oligopoly which owns the platforms sets the so-called policy rules, that is, it tells you which contents are admissible and which are not on social networks. And if you deviate from those criteria you can be canceled without the possibility of appeal. Well, in an era where opinions now travel mainly on these channels, I believe it is absurd that we must submit to the diktats of the bosses, of the platforms that claim the right to say what is right and what is not , what can be said and what cannot be said. Fratelli D'Italia has already filed in the past and will do so again. A bill to impose on social media owners maximum transparency in the management of data and information and full respect for the right to free expression of thought on social networks. The same rules and limitations that exist on other media must apply. Because for us freedom of speech is a fundamental principle, not a concession from some web giant. \n",
      "Translating: TranscribeTikTokAudio7226821746425466139.json\n",
      "I believe that in short, everyone should be called to their responsibility, because here we face a situation that is not easy. We are doing our best, as can be seen even today. Here too we are not sparing ourselves. I think that no one should be spared because this is not a phase that can be taken lightly. Having said this, and obviously I feel I can say that the Def will be approved by Parliament in the next few days and hours and that we will keep our commitments, including that of presenting it in Europe by April 30th. So in short, I trust that we do not have to modify, let's say the government's initiatives, even a fairly defined schedule that we also had on some provisions that depend on the Def, which for me are very significant, in particular in terms of work in the next days, with May 1st. For now it's confirmed for me, of course. And in short, I trust that I can count on the support of Parliament, which I think is a very significant signal. On May 1st, Labor Day, give signals on the topic of the world of work. On this let's say I prefer not to go into details, eh, let's say spoil too much. Here's a bit more to say than is necessary. But in short, I wanted to give this signal. We also, as you saw today, called the unions together for Sunday evening, because those were the times. I'm sorry that I had to convene them on Sunday, but unfortunately it was impossible for us, for me and for Minister Giorgetti who at the ecofin um to convene them first, however, in short, everything is organized and I trust we can move forward. Are quite? I am sorry. Obviously I can't deny that I'm sorry, but I'm calm. Don't you think there was a political signal? That is, there is something underneath, if not, frankly not. Look, I spent a few years in parliament. I've seen things like this happen. I believe that paradoxically it is a how can I say overconfidence? No, I mean okay, things will be fine anyway. The point is that one must understand that everyone has their own responsibility. I believe that a further evaluation needs to be made and we would say to focus particular attention on the parliamentarians on mission, that is, on those who have a double role. This was something we knew when we appointed the government. There are people who do more things, but I think about this. In short, it will be worth thinking about for a moment. And then when the numbers are needed, the numbers must be there because otherwise the work of the majority will not work. It's not a political problem, so I don't see a political problem in it. Frankly, among other things, it wouldn't make sense on such an important measure. In short, having been in parliament for a few years, I also know that when political signals have to be given, they are given on secondary things, they are not given on things that are objectively not, that is, this bad image for us, but not for us, only government, in short for everyone, so I really think it was superficiality that I can't say whether it's better or worse, but it's certainly something that can be remedied. Here, with a bit of discussion also between us or among other things, already in recent days I was thinking of periodically meeting the group leaders, taking stock of the situation. If in these first months we were obviously, how can I put it, in a centrifuge, that is, we took over the government at a very particular moment. Budget law. In short, we have taken the measures. I think we did a good job too. But now it's a matter of better organizing the entire supply chain and therefore also talking to each other more. In short, with the heads of delegation, with the group leaders, because everyone must be involved. We say, I have a clear and fairly tight reform calendar in mind, right? And I believe that it is a job in which everyone must be involved. And I take the responsibility of doing this, because it is an issue that I was discussing a few days ago and that I am already organizing. \n",
      "Translating: TranscribeTikTokAudio7137699360111938822.json\n",
      "Yes. \n",
      "Translating: TranscribeTikTokAudio7187877327806762246.json\n",
      "she regretted not having cut excise duties on fuel. The blanket was so short. Look, we made a maneuver of thirty billion out of those thirty billion, we invested twenty on what we had declared to be the priority and on which everyone agreed, which was the high bills. On the remaining ten billion we had two choices: either cut excise duties for everyone, even the rich, or take those resources and concentrate them on medium-low incomes which is the choice we made. However, the opposition said that she did not keep a promise made during the election campaign. Look, the opposition does their job and obviously eh, let's say it doesn't scare me. The point is that when you have to say things that aren't true, maybe you're not even convinced of what you're saying. And that's what the opposition is doing. Because first of all I hear about petrol costing two and a half euros and petrol is at an average of one euro point eight point second in the Fratelli D'Italia program it doesn't say that we would cut excise duties and I never talked about cutting excise duties as a priority in this election campaign. I agree with the cut, but in my opinion the priorities now were different. What is written in the Fratelli D'Italia program is sterilisation, that is, if the price rises beyond a certain threshold, the State earns more in excise duties and VAT than it uses to lower the price. And that is exactly what our decree provides, the decree that the council of ministers passed. The opposition is affected if you have some innovative idea in mind to slow down inflation, look at everything we are doing at the moment to help, let's say, calm the issue of inflation, we have set up a so-called expensive trolley fund, to help those who are most in difficulty to to do the shopping, to have lower prices. We are also talking to the entire supply chain. To achieve this objective we have increased the minimum pensions to six hundred euros. In the latest decree there is a rule that reimburses commuters for the sum they spend on public transport season tickets. That is, we are obviously trying to help in a difficult situation, but those who are in greater difficulty rather than giving help to everyone without distinction. Well, now the Italians are also expecting an intervention on wages and this is one of our priorities, we have already started with the money it cost to cut excise duties for four months. We have cut labor taxes by a further point for an entire year and I tell you more, with the money that was spent in nine months to cut excise duties by the previous government, it would have been possible to have cut labor taxes by approximately seven points, which meant putting up to two hundred euros a month in the pockets of workers with incomes of up to thirty-five thousand euros. \n",
      "Translating: TranscribeTikTokAudio7180307547616742662.json\n",
      "which he did then we started with the carabinieri. Hi, I can join. Yes, I was there, I'll do it with the shirt. Yes, good morning. Good morning. Good morning. Good morning. And And so I really tell you, let's say from the heart and we can be curious about the people that we have here and the results that we get very. Matteo, many words thanks to you. Thanks to the ambassador. Thank you. Of course, to all the embassy officials thanks to security. I'm sorry I made you get up so early this morning. At least for me. I mean, what am I with the time zone? Our day was very long. We wanted to stop by here at the embassy because the work you do is very precious for Italy. We chose to be here on this day, huh? It is obviously a symbolic visit with which, in a particular period for us which is the holiday season which is the Christmas period, it is a period in which people are used to returning home. No, they're used to being with family, huh? Well, I think it's important. If it is true that the homeland is a mother, that mother is there in a moment like this and therefore I wanted to express the thanks of the nation that you and I represent for the work you do, for the sacrifices you make, for how you manage , with your work, your dedication and the difficulties that this entails, because they are personal sacrifices and sacrifices of which we are and are perfectly aware, which however give the nation extraordinary luster, great opportunities. You know that you know it much better than me, because here you live in short how much this land we have given how much we have given in terms of sacrifices, how much we have also given in terms of blood tribute how much that sacrifice and that tribute also constructed, if we want, even at home. No, um our sense of belonging, the awareness of the community that we are, of the value that that community has a nation in which we said yesterday in the conference of ambassadors, when we go outside our own national borders we realize how much we we are considered the only place where we don't realize how much we are considered. The paradox is Italy and so maybe it's worth it, right? Every now and then see what happens outside of us to also be proud of the sacrifices we have made of what we have built and and and and of the great nation that we are. But this is a job that in the end you build day by day, more than politics, more than that, obviously. Which can happen within national borders. Um and so we have to thank you. We obviously have to thank those who risk it every day. We must thank those who build with their work and their diplomacy. And we must also thank those courageous entrepreneurs who in complex lands try to tell the story of the greatness of the Italian genius, his ability to leave something in the nations in which he builds cooperation. Because I believe that this also made the difference. Um for Italy in recent years we always said yesterday no on development cooperation, that is, when there is no water there are those who bring bottles of water and there are those who bring a dinner, that is, those who want to leave the autonomy the freedom of the nations in which it cooperates, um so that that nation can grow and the sign of Italian cooperation has always been like this. It's why we are well-liked. It's why we don't go around doing predatory things. We go around leaving a piece of Italy and this is the reason why we have, I mean, this ability to build solid relationships from those relationships. Obviously it also depends on ours, our return, our ability to be credible, influential and esteemed as Italy knows how to be.. But I repeat, politics doesn't do this or politics does it marginally and what politics does can only do because there are people who every day decide to sacrifice a little piece of themselves for this homeland, for this nation.. So obviously thanks to everyone and merry Christmas to you and your families, who are unfortunately far away. Ambassador, this is for you, it is the coat of arms of Palazzo Chigi where I am, in short, in a more welcoming house than yours. But in short, I hope that even this in a small way can make you feel a little at home, because home doesn't forget. Let's put it this way thanks to you. Good, thanks. For now there is a picket line. I pray Giuseppe to the President. Thanks to you. I am obviously here to bring greetings, thanks and best wishes. Um from Italy. In this particular moment this is a moment in which we normally return home. You will not return home, but your home is not far away. Your home sees you, looks at you, is proud of your sacrifices and wants to thank you for those sacrifices.. And if it is true that Christmas is spent with the family and that the homeland is a mother, well, then that mother cannot be missing. In moments like these, we are aware of what our armed forces have built in this territory. We are aware of the fact that the path of a serious, respectful, respected, credible, courageous Italy has been paved by the sacrifice of many people, obviously before you. And therefore we owe it to you to keep our heads held high and our steps confident. So you can't, no, no. Don't make this symbolic gesture of being here to say thank you, to say that even though you are four thousand kilometers away from home, you are not far from home. Your home knows, sees and thanks. And I believe it was my duty to be here today, as other ministers are doing with other representatives of the armed forces who are away from home on days like these. The work that we are doing here, that you are doing here is enormous work. Um the command of a mission born in such a strategic territory, particularly for global stability, is clearly a source of great honor, of great pride for Italy. It's not something that politics built, it's something that you built from the top. So it is certainly also a personal recognition of the commander in the field. We saw it with eh, let's say the unanimous tribute that was paid during the Atlantic Council, from the highest of generals to the lowest of soldiers. It is a work that you have built and for which we have to thank you. And it is a job with which Italy once again demonstrates its ability to be, yes, a nation that knows how to offer heroism, which knows how to offer sacrifice, which knows how to offer professionalism, but which also knows how to offer humanity. In this we have always made the difference. We leave a mark of our passage. And our history and our identity and our culture. But that identity, that history and that culture walk on your legs through your eyes and through your dedication. And therefore Italy must say thank you, because Italy knows that it can count on you. What I would like you to know by looking at me is that you can count on Italy. Thank you very much. And Merry Christmas everyone! Thanks to you. Thank you. Thank you. Thanks to you! Where the photo! Fabrizio, Guys, thank you. \n",
      "Translating: TranscribeTikTokAudio7187514172463254790.json\n",
      "I now hear it systematically. I hear it said on television by even respectable commentators that the price of petrol in Italy would be around two and a half euros. Now since I am a serious person and obviously I monitor the results of what I produce, I am monitoring the price of petrol. Last week's average price of petrol in Italy was one euro eight hundred and twelve thirty May two thousand twenty-two we had petrol at one euro eight and eighty five higher than the average price of the last week on the twenty-seventh of June last year we had the average price of petrol at two euros and seventy-three on the eighteenth of July it has one euro nine point eight eight average price on the first of August at one point eight point seven seven in the last week the average was one euro eight hundred and twelve then I can also understand that this price is considered high, that it is consider it perhaps out of control, but where was the press, communication, politicians when the average price of petrol was two euros and seventy-three on average or when it was at one euro eight hundred and eighty and I'll tell you more where it was in recent years because for example we also had the average price of one euro and eighty in March, Two thousand and twelve, Monti government in March, Two thousand and thirteen, Monti government in March, Two thousand and fourteen Renzi government and I don't remember the campaigns we are seeing in these days. \n",
      "Translating: TranscribeTikTokAudio7137965836253351173.json\n",
      "Our tour of Italy continues today Molise and Abruzzo, at 2pm in Termoli, at 6pm Piazza Salotto Pescara. I wait for you\n",
      "Translating: TranscribeTikTokAudio7067893974035401990.json\n",
      "How many times have I heard myself asked, are you pro-Trump? Pro-Putin? No, I don't know anything. The puppets have the strings. I happened to say I am an Italian patriot. I evaluate what happens on the chessboard based on Italian interest. I don't evaluate it on the basis of sympathy or friendship or uncritical adhesion. I don't know what foreign leader of a foreign nation that isn't mine, which is exactly what everyone else does. \n",
      "Translating: TranscribeTikTokAudio7249053260105944347.json\n",
      "Maybe you should look at these guys who are in this room and have respect. But we have seen the results in the numbers, Mr Magi, of the policies you have carried out in recent years. No, no, but look, don't worry. We have seen the results in recent years of the work you have done. And maybe you should look at these kids who are in this room and have respect for what your propaganda has done to the skin of these people, of these families. You should remember that it is thanks to the policies you have made. If we are reduced to this, I thank you for participating. You should know that I am not a person who is intimidated. Honorable Magi, you should know very well. And he knows. Sorry. Gianmarco. Gianmarco, No, stop it! Honorable Magi, you should know that I am not a person who is intimidated. Saying you should know that I am not a person who is intimidated. Do you know why? Because I know exactly what I'm doing. The point is whether you realize what you are doing. The point is whether you realize what you are doing. No, they do it right, Alfredo. I spent many years at three percent. I understand. What does it mean to seek visibility. I respect them. I respect and appreciate them. All right. We can move on. Thank you. Have you organised? Sorry, Mr Magi, have you organised? You have Sorry, Sorry. Excuse me, Honorable Magi, have you organized conferences for years that no one has dared to contest? Because, Honorable Magi, Honorable Magi, for years you have organized conferences describing a world that did not exist, but which no one allowed themselves to try to block. Nobody. He allowed himself to have this lack of respect. Today you have to accept that there is another government that has been chosen by Italians to carry out exactly the policy it is carrying out. When they choose you will carry forward your graces. Until we meet again. Okay. \n",
      "Translating: TranscribeTikTokAudio7144246488879713542.json\n",
      "they have the problem that they told you for many years that the left in Italy had cultural hegemony, but it wasn't true. What they have is a hegemony of power. They are terrified of losing the hegemony of power, because no longer believing in anything and having nothing more to say, if they also lose the possibility of placing the friends of the friends they have had in recent years, they no longer know how to rebuild their political experience. It is a system of power that is twisting because they know well that if the center-right and the brothers of Italy come to government, we will build a nation in which you don't move forward because maybe you are better friends and closer to the left. Go ahead if you are capable and of people who perhaps weren't capable and who got to where they got to because they were left-wing. There have been so many of them in recent years that they are now afraid of competing in an open field. This is where the nervousness comes from\n",
      "Translating: TranscribeTikTokAudio7145754357013777670.json\n",
      "it's a wear and tear emergency, even if it's hardly talked about at all. Already during the pandemic, criminal credit has spread, now the exponential increase in prices. The high cost of fuel and the drop in energy bills could further worsen the economic situation of economic activities in difficulty as well as of those who are weaker. Families and entrepreneurs are increasingly resorting to usurious credit, because the banks, immobilized by regulations that are too stringent, are actually unable to respond to the current demand for credit. We must facilitate access to credit even for those in difficulty, with more streamlined regulations and by strengthening public guarantees that are intended for those at risk of usury. We need a reform of the anti-usury law so that we can overcome delays and bureaucratic cumbersomeness that until now have hindered the submission of complaints by victims. And we must firmly prosecute criminals who enrich themselves by tightening the noose around the necks of those in difficulty. We want to broaden the range of potential beneficiaries of the Solidarity Fund for victims of extortion and usury not only to economic activities, for example, but also to families and individuals. And we also want to provide an effective support and information network for those who are heavily indebted so that they can easily obtain all the support they are entitled to, including the agreed resolution of debts with the State that we will introduce with our fiscal truce. Our Italy is always on the side of honest citizens, it is always ready to help those who have stumbled on the difficult path of life get back on their feet. \n",
      "Translating: TranscribeTikTokAudio7137343861130677510.json\n",
      "\n",
      "Translating: TranscribeTikTokAudio7251672977257942299.json\n",
      "that of critical raw materials is one of the main challenges of our time, especially if we consider their importance for the ecological transition. A transition which, as we have always said and forcefully reiterated in Europe, is indispensable, but must be done with criteria. That is, it cannot be assumed that we can dismantle our economy and our businesses to start the ecological transition. The ecological transition, environmental sustainability must go hand in hand with social and economic sustainability. That is, we want to defend nature, but we want to defend it with man inside. And it is the work of man that most of all guarantees the safety of the territory. \n",
      "Translating: TranscribeTikTokAudio7066095800291577093.json\n",
      "we. In a word we want to defend Italy. Let's see how many others want to do it in here. \n",
      "Translating: TranscribeTikTokAudio7211143983282588934.json\n",
      "President Meloni, we immediately approve a minimum wage and equal leave. We are here. Obviously intervening to tackle the phenomenon of poor labor is inevitably one of the priorities on which this government works, because, as the questioners the Honorable, Schlein and others point out, Italy is the only OECD country in which from ninety to two thousand and twenty the average annual salary has decreased, while in the rest of the West it was growing. And the questioners of the Democratic Party also point out, I must say with a sincerity that does them credit, that in Italy in recent years the share of gross domestic product that has been allocated to wages and salaries has decreased more than in the rest of the other industrialized states. It's true, it's true, there is a problem: those who have governed until now have unfortunately made Italian workers poorer. This government must do what it can to reverse the trend. And already in the first months of the legislature, despite the inevitably limited resources we have available, we have given signals in this sense, interventions to protect the purchasing power of families and workers, the renewal of the two-point cut percentages of the tax and contribution wedge which it is worth remembering the previous government had foreseen until the end of last year and the addition of a further point of the contribution cut for the lowest incomes. These are obviously first steps towards the objective that the government has set itself, which is obviously to increase workers' wages, guaranteeing decent wages, wages that are adequate for the work performed and the socio-economic context. But I want to say that to achieve this objective, I have already said it in the past, in a context like the Italian one which is characterized by a high, high coverage of collective bargaining by a high rate of irregular work, the government is not convinced that the solution is the setting of a legal minimum wage. Let me simply explain why? Because in my opinion I don't have an ideological approach, let's say a pragmatic approach on this matter, as always. Now, in my opinion, let's say he will question me on the hypothesis that the legal minimum wage could become not a substitute parameter and let's say a parameter. I apologize for the addition of the protections guaranteed to workers, but a substitute parameter, a single parameter, and in our system a parameter of this type would risk, paradoxically, creating worse conditions for many workers than those they have today and paradoxically doing them a favor to large economic concentrations in which it is appropriate to review workers' rights downwards. I think so. I believe that it is much more effective to extend collective bargaining even in sectors where it is not currently foreseen. I believe it is effective to cut taxes on labor, because the reason why wages are inadequate is that taxation is too high for the companies that have to hire them and work to combat discrimination and irregularities. I believe that this is the most effective model, which is what we intend to follow. After that I have very little time on the topic of parental leave. Look, we very much agree, in the sense that here too, as we have seen, the few resources that we could spend, we partly used for an additional month of parental leave that can be used for six years by the mother or father paid at Eighty percent. And that's what we could do. But since the issue of support for working mothers and the issue of support for the birth rate is an absolute priority for us, I am always available to discuss and talk about this. Thank you, Thank you President\n",
      "Translating: TranscribeTikTokAudio7211503013234527494.json\n",
      "so on the day of the unification of Italy on the day of the constitution of the flag anthem, I want to say assert your demands towards the government without discounts. Sometimes we will agree, we will be able to do things together, sometimes we will not agree, but I guarantee you that those requests will always be listened to seriously and without prejudice, because this is the commitment I have made in towards all Italians and it is one of many commitments that I intend to carry forward, thank you. \n",
      "Translating: TranscribeTikTokAudio7177049020412513542.json\n",
      "the immigration issue. Are we also talking about a change of direction by the government here? Absolutely not. The government does not intend to change its position on the issue of immigration. Our position always remains the same. In Italy you do not enter Italy illegally, you only enter legally. We want to fight human trafficking, we want to fight illegal entries, we want to fight deaths at sea. We do not want in any way to continue to favor human traffickers. A few days ago I read the news of clashes between the forces of the Libyan ministry and human traffickers. Firefights The people who organize the departures of illegal migrants towards Italy go around armed and I don't want to help these people because I fight all the mafias. We will continue to work. Obviously a lot of work needs to be done at European level. Europe's involvement is fundamental. We have always claimed the need for Europe to deal more with the Mediterranean front. We have always talked about addressing the issue by defending the external borders of the European Union and a European mission to block departures. We are working on this thanks to the position of the Italian government. For the first time in Europe, meetings are held and documents emerge in which it is said that the central Mediterranean route is a priority. It has never happened and therefore steps forward are being made at a European level and at a national level. Well, starting next week we are working on new rules to stop trafficking, because we don't intend to give up on this issue. \n",
      "Translating: TranscribeTikTokAudio7074130814199516422.json\n",
      "this is written in Giorgio Meloni's book for those who don't want to do propaganda and for those who are interested, let's say, in talking about serious topics without having to hit someone just because they dislike them. Also in your book you wrote that Russia is part of our system of European values. Do you defend Christian identity as you see it? What do you think now? Look, I thank you for this question because you see, for days I have been reading a curious reconstruction according to which it is written in my book that Putin is a bulwark of the defense of Christian values. Now, since you understand that I have the book, I wrote it and therefore I will know something about what I said and this allow me to say that it is let's say the classic example of idiocy. Interesting journalism for sure. Giorgia Meloni defined Putin as the emblem of the defense of Europe and Christian values. Meloni also has a face, she can't be saved, eh, was she also among Putin's groups? No, Putin defends European values ​​and Christian identity. Unfortunately there is no index of names in my book. If there were an index of names it would be discovered that the word Putin is never mentioned. Why? Because I said something different. I don't consider Russia Putin, let's say I have no closeness to the figure of Putin. But this does not prevent me from considering Russia as, let's say, a nation that we say on the level of the cultural system of values ​​is, is, is, is part of the European system. But I believe that anyone with banal hints of history, literature, culture cannot deny that Russia is part, let's say, of the system of European values, regardless of what its political destiny has been.. Because Russia is certainly a particular nation also, especially if we look at it from our point of view, no, it went from the system of the tsars directly to the communist dictatorship and then let's say after in the in the post-communist period it moved on to systems, let's say that in any case they are far from being liberal, but this cannot mean that Dostoievski is not to be considered part of European culture. And what is the solution? Shall we censor Dostoievski to bash Putin? Or should it rather be the expected opposite, that is, a figure, for example, like Dostoievski is exactly the cultural antidote against every form of autocracy, including the Putinian one if desired. So I said something very clear which is deliberately misrepresented and look, I'll tell you more since we say I wrote the book and I have it, it's curious that it is said that one always remembers this sentence and doesn't remember the immediately following one what is written in my book? Three seconds, Russia is part of our system of European values, it defends Christian identity and fights Islamic fundamentalism. It must do so in peace with neighboring nations and the European states that border the great Russian bear must be able to look to the future with serenity. , without the fear of seeing Moscow's aggressive imperial policy return. This is written in Giorgia Meloni's book for those who don't want to make propaganda and for those who are interested in talking about serious issues without having to hit someone just because they dislike them. Since I am a serious person, I expect the same seriousness from those who want to flea me\n",
      "Translating: TranscribeTikTokAudio7261188519618448667.json\n",
      "and I am proud to lead this nation. Italy is a nation that is looked at with great respect, with great attention and which in my opinion, even today, thanks to its non-hesitant posture which allows it to play an important role in Europe too, is looked at with even greater attention. I am very happy with this and I want to thank the Italians. I believe it can truly build an important era in our politics at a national and international level. United States European Union\n",
      "Translating: TranscribeTikTokAudio7187471251794005254.json\n",
      "what did we do first of all I wrote to the president of the Antitrust, that is to say the competition and market authority, and I asked him to check whether there are elements in the formation, in the dynamics of price formation, that don't work and which must be corrected, second point, I spoke with the general commander of the financial police, um the financial police has started a fuel price plan duemilaventitre, that's what it's called and that is, it is starting a series of checks throughout the national territory, especially in relation to of those who have not complied in communicating the price changes. Now here is something that needs to be explained um everyone all the petrol stations in Italy are required to communicate to the institutions um if they make price changes some do not make these communications. And obviously in many cases let's say the overlap between those who do not communicate their price changes and have higher prices, significantly higher than the others is possible and therefore we are going to check if there were any on the part of those who do not communicate the changes in their prices prices, wrong attitudes or attitudes with which one wants to take advantage of the difficult situation and in the Council of Ministers we have decided to strengthen the sanctioning rules against those who do not comply with these communications which are required by law and therefore become much more significant the sanctions you can um come across. In the event that you do not comply with these requirements and we want to do, we have done something even more important and that is established that in each petrol station, in addition to the obligation to display the price at the pump of that petrol station, there is also the average daily price. That is, you have to know when you go to get petrol, whether where you are getting petrol compared to what the average does, let's say for all the others, is convenient for you or not, because this automatically helps us to fight some of those who may be the not many. To be honest, I want to say that this is bad behavior, so distortions can certainly be worked on. But it doesn't seem to me that the situation is what is described, perhaps even in a well-constructed communication campaign. For goodness sake, it's okay, but in short it's also okay for me to respond and try to tell my point of view. And what is the reality of the things I repeat is verifiable. After that, there is certainly an intervention that needs to be done with regards to the motorway network, where sometimes the price is um, can be significantly higher by virtue of the concessions, because sometimes in service stations the motorway manager gives a sub concession and in this passage sometimes some rules are skipped and therefore I think that on this too we need to make the concessionaires responsible for future concessions to monitor what happens. So this is the reality of things. I believe that obviously the government must continue to monitor what is happening and intervene when it is necessary to intervene, but I say with great sincerity that I am convinced of the choices we have made. \n",
      "Translating: TranscribeTikTokAudio7157692146278075654.json\n",
      "Department of Honor Department of Honor presents honors to the President of the Council of Ministers Banner of the Montebello Lancer Regiment Army Band, Joint Forces Department of Odors. Ready for the review yes. \n",
      "Translating: TranscribeTikTokAudio7142918656551423237.json\n",
      "Oh. \n",
      "Translating: TranscribeTikTokAudio7135363514704727301.json\n",
      "Getting around our cities is becoming more difficult every day. Widespread petty crime, violence, open-air drug dealing, baby gangs, streets, squares, sometimes entire neighborhoods completely abandoned to decay and removed from state control, often handed over to the putrid rules of the mafia and organized crime. Phenomena present above all in the urban suburbs, in the areas of greatest hardship that the left has not been able to or has not wanted to combat. Partly out of indifference, partly because they are always comfortably seated in their glossy radical chic living rooms. Partly due to an ideological approach, because security, after all, for them is a right-wing thing, state intervention is needed immediately, now the restoration of security and legality and the fight against degradation are among the priorities of the brothers of Italy, starting from greater control of the territory. We will increase resources and equipment of the police forces, we will relaunch and strengthen, we will strengthen the operation, safe streets, we will increase video surveillance where it is necessary, we will redevelop the suburbs, especially the most degraded ones, because from the redemption of those areas and the people who live there well-being and safety also pass through and therefore we will encourage the opening of businesses in those areas, especially in the evening hours. Because every light turned on and every shutter raised are safeguards of legality and the fight against degradation. It's time for the State to regain its prerogatives and return to doing what citizens pay taxes for. It's time for citizens to take back their cities. \n",
      "Translating: TranscribeTikTokAudio7243836094456827162.json\n",
      "we also have the dispute. Hurray! So at least all of you can understand the fundamental difference between us and them. They began to exploit fear, hope, pain, the dead. Shame! You have no dignity, you don't know what nobility of soul is, you don't know what democracy is, you don't know what freedom is, you are still and today, as always, poor communists. \n",
      "Translating: TranscribeTikTokAudio7145877683740658949.json\n",
      "Thanks but\n",
      "Translating: TranscribeTikTokAudio7113843601427139846.json\n",
      "we are not satisfied with the outcome of these ballots. The center right certainly could have done better, but the overall data of the administrative elections, given that the PD is celebrating, forces us to bring Letta back to the planet. Earth. Center-left and Five Star governed fifty-six municipalities, today they govern fifty-three. The center-right governed fifty-four municipalities, today it governs fifty-eight. The left loses more than half of the large cities in the vote and finds itself with fewer mayors than before. Where is the victory Enrico Letta. Of course, if the left is really so convinced that it has won, then it will have no problem immediately returning to the political elections to confront. Of course, these very different data from those advertised are not enough for us to celebrate. I believe that the center-right must reflect on the time that it has uselessly spent on internal controversies in these elections too. I found it curious. For example, the controversy continues over the failure of the allies to join forces in Verona, complete with attacks on the centre-right mayor after the polls were open, while in Catanzaro the brothers of Italy loyally supported a candidate who had also denied us the affiliation. Because if you are the first to say that we will lose it is difficult for the voters to believe in the victory in Lucca, for example, where we were united, we also managed to aggregate civic lists from various backgrounds. We won and I am happy that precisely in Lucca as in Gorizia, in Pistoia, L'Aquila and in many other cities that the centre-right won, in which it reconfirmed the brother mayors of Italy, it drove the coalition. But that's not enough, we need to talk. We need to talk to each other immediately to stop the controversy, remembering that the opponent is always the left and never the allied party. Enough arguments, starting from Sicily, because we cannot risk jeopardizing the result of the political elections. For this reason I will ask Matteo Salvini and Silvio Berlusconi to meet as soon as possible to avoid further divisions. \n",
      "Translating: TranscribeTikTokAudio7198571880997981445.json\n",
      "and even more I think we must be satisfied with the result regarding the issue of immigration on the immigration issue. Yesterday established a principle, namely that we change the approach. The approach of the European Council in the conclusions of the European Council is very different from what we have seen in recent years.. The approach that the European Council, um put in black and white yesterday, starts from a sentence that has never been managed to put in a document of this type. Immigration is a European problem and needs a European response. This, from my point of view, changes many things in the European approach to the migration issue. \n"
     ]
    }
   ],
   "source": [
    "import re\n",
    "def translate_transcripts(file_name: str):\n",
    "    transcriptions_df = pd.read_json(transcription_dir_location + 'it/' + file_name)\n",
    "    print('Translating: ' + file_name)\n",
    "    transcription_text = transcriptions_df[0][0]\n",
    "\n",
    "    sentence_list = re.split('(\\.)', transcription_text)\n",
    "    result = []\n",
    "    if len(sentence_list) > 0: \n",
    "        for sentence in sentence_list:   \n",
    "          if sentence == '.':\n",
    "            result.append('. ')\n",
    "          else:    \n",
    "            result.append(translate_text(sentence))\n",
    "    else:\n",
    "        print('No fullstops')\n",
    "        result.append(translate_text(transcription_text))\n",
    "    print(''.join(result))\n",
    "    transcriptions_df[0][0] = ''.join(result)\n",
    "    transcriptions_df.to_json(transcription_dir_location + 'en/' + file_name)\n",
    "\n",
    "for file_name in os.listdir(transcription_dir_location + 'it'):\n",
    "    translate_transcripts(file_name)\n"
   ]
  }
 ],
 "metadata": {
  "colab": {
   "include_colab_link": true,
   "provenance": []
  },
  "kernelspec": {
   "display_name": "Python 3 (ipykernel)",
   "language": "python",
   "name": "python3"
  },
  "language_info": {
   "codemirror_mode": {
    "name": "ipython",
    "version": 3
   },
   "file_extension": ".py",
   "mimetype": "text/x-python",
   "name": "python",
   "nbconvert_exporter": "python",
   "pygments_lexer": "ipython3",
   "version": "3.11.5"
  }
 },
 "nbformat": 4,
 "nbformat_minor": 4
}
