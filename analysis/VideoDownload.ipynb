{
 "cells": [
  {
   "cell_type": "markdown",
   "metadata": {
    "colab_type": "text",
    "id": "view-in-github"
   },
   "source": [
    "<a href=\"https://colab.research.google.com/github/frasercrichton/data-investigation-conspiracy-aotearoa/blob/main/analysis/Pattern_of_Life.ipynb\" target=\"_parent\"><img src=\"https://colab.research.google.com/assets/colab-badge.svg\" alt=\"Open In Colab\"/></a>"
   ]
  },
  {
   "cell_type": "markdown",
   "metadata": {},
   "source": [
    "## Download Videos"
   ]
  },
  {
   "cell_type": "code",
   "execution_count": 13,
   "metadata": {},
   "outputs": [],
   "source": [
    "import logging\n",
    "import os\n",
    "import pandas as pd\n",
    "import cv2\n",
    "import yt_dlp\n",
    "\n",
    "from pathlib import Path\n",
    "from urllib.error import HTTPError\n",
    "from yt_dlp.utils import ExtractorError, DownloadError\n",
    "from typing import List, Dict, Optional\n",
    "from deep_translator import GoogleTranslator\n",
    "\n",
    "processed_dir = '../data/processed/'\n",
    "transcription_dir_location = '../data/processed/transcription/'\n",
    "\n",
    "os.makedirs(processed_dir + 'videos', exist_ok = True)\n",
    "logger = logging.getLogger(__name__)\n",
    "\n",
    "os.makedirs(transcription_dir_location, exist_ok = True)\n",
    "videos_original_df = pd.read_json('../data/source/video-2023-09-14.json', convert_dates=['createTime'])\n",
    "\n",
    "def translate_text(text):\n",
    "    translation = GoogleTranslator(source='it', target='en').translate(text)\n",
    "    return translation  \n",
    "\n",
    "def download_videos(url_to_download=None, output_dir=None):\n",
    "    if len(url_to_download) > 0:\n",
    "        print(f\"Downloading media {url_to_download}\")\n",
    "        logger.info(f\"Downloading media for hashtag {url_to_download}\")\n",
    "\n",
    "    ydl_opts = {\n",
    "        \"outtmpl\": os.path.join(output_dir, \"%(id)s.%(ext)s\"),\n",
    "        \"ignore_errors\": True,\n",
    "        \"quiet\": logger.getEffectiveLevel() > logging.DEBUG,\n",
    "    }\n",
    "    \n",
    "    with yt_dlp.YoutubeDL(ydl_opts) as ydl:\n",
    "        try:\n",
    "            ydl.download([url_to_download])\n",
    "        except (HTTPError, TypeError, ExtractorError, DownloadError) as e:\n",
    "            logger.warning(\n",
    "                f\"Encountered error {e} when attempting to download url: {url_to_download}\"\n",
    "            )\n",
    "\n",
    "def get_video_list(videos_dir):\n",
    "    already_downloaded_ids = set(\n",
    "        file.split(\".\")[0].split(\"_\")[0] for file in os.listdir(videos_dir)\n",
    "    )\n",
    "    video_df = pd.json_normalize(videos_df['video'])\n",
    "    return video_df[~video_df['id'].isin(already_downloaded_ids)]\n",
    " \n",
    "new_videos = get_video_list(videos_dir=processed_dir + 'videos')\n",
    "new_videos\n",
    "for video_id in new_videos['id']:\n",
    "    print(video_id)\n",
    "    user_id = '7057902765381534725'\n",
    "    url = f\"https://www.tiktok.com/@{user_id}/video/{video_id}\"\n",
    "    print(url)\n",
    "    download_videos(url_to_download=url, output_dir=processed_dir + 'videos')"
   ]
  },
  {
   "cell_type": "markdown",
   "metadata": {},
   "source": [
    "## Update the Videos CSV/JSON with video duration"
   ]
  },
  {
   "cell_type": "code",
   "execution_count": 20,
   "metadata": {},
   "outputs": [
    {
     "name": "stdout",
     "output_type": "stream",
     "text": [
      "5:17\n",
      "2:43\n",
      "1:27\n",
      "1:12\n",
      "9:10\n",
      "5:16\n",
      "3:70\n",
      "6:26\n",
      "2:56\n",
      "0:49\n",
      "1:23\n",
      "4:52\n",
      "1:45\n",
      "2:37\n",
      "0:32\n",
      "0:58\n",
      "2:19\n",
      "1:80\n",
      "1:30\n",
      "2:44\n",
      "2:30\n",
      "0:11\n",
      "2:10\n",
      "0:54\n",
      "0:48\n",
      "1:42\n",
      "1:17\n",
      "6:58\n",
      "1:11\n",
      "0:39\n",
      "0:22\n",
      "6:19\n",
      "1:47\n",
      "1:52\n",
      "1:80\n",
      "0:47\n",
      "1:44\n",
      "0:51\n",
      "1:33\n",
      "3:34\n",
      "0:57\n",
      "4:11\n",
      "1:13\n",
      "5:16\n",
      "1:26\n",
      "1:35\n",
      "1:60\n",
      "1:11\n",
      "3:17\n",
      "1:29\n",
      "1:70\n",
      "0:49\n",
      "0:51\n",
      "0:45\n",
      "4:14\n",
      "3:25\n",
      "3:28\n",
      "1:52\n",
      "2:50\n",
      "4:33\n",
      "2:21\n",
      "0:47\n",
      "0:20\n",
      "0:47\n",
      "4:59\n",
      "1:57\n",
      "9:50\n",
      "0:50\n",
      "1:30\n",
      "4:00\n",
      "6:54\n",
      "4:12\n",
      "0:37\n",
      "0:29\n",
      "0:39\n",
      "2:38\n",
      "1:42\n",
      "3:39\n",
      "2:34\n",
      "0:59\n",
      "1:52\n",
      "1:16\n",
      "7:47\n",
      "9:51\n",
      "1:14\n",
      "1:37\n",
      "0:23\n",
      "2:70\n",
      "0:21\n",
      "1:20\n",
      "2:20\n",
      "1:33\n",
      "3:12\n",
      "3:43\n",
      "0:50\n",
      "9:48\n",
      "0:29\n",
      "0:20\n",
      "3:10\n",
      "3:38\n",
      "4:60\n",
      "1:41\n",
      "1:90\n",
      "1:54\n",
      "3:60\n",
      "0:45\n",
      "0:25\n",
      "1:18\n",
      "0:21\n",
      "1:16\n",
      "0:50\n",
      "0:11\n",
      "1:12\n",
      "1:90\n",
      "0:22\n",
      "2:60\n",
      "0:28\n",
      "0:51\n",
      "0:40\n",
      "0:35\n",
      "2:60\n",
      "1:14\n",
      "1:57\n",
      "4:45\n",
      "3:10\n",
      "0:11\n",
      "0:24\n",
      "3:19\n",
      "0:53\n",
      "1:90\n",
      "1:19\n",
      "0:28\n",
      "0:16\n",
      "0:13\n",
      "0:46\n",
      "0:30\n",
      "0:20\n",
      "0:17\n",
      "2:70\n",
      "2:27\n",
      "0:24\n",
      "0:25\n",
      "0:20\n",
      "0:38\n",
      "3:44\n",
      "0:44\n",
      "0:24\n",
      "0:20\n",
      "0:32\n",
      "0:13\n",
      "0:23\n",
      "2:53\n",
      "1:44\n",
      "0:16\n",
      "0:90\n",
      "0:11\n",
      "0:12\n",
      "0:30\n",
      "1:38\n",
      "0:50\n",
      "0:90\n",
      "0:15\n",
      "1:41\n",
      "2:70\n",
      "1:28\n",
      "0:38\n",
      "1:24\n",
      "0:37\n",
      "1:39\n",
      "1:49\n",
      "1:50\n",
      "0:70\n",
      "3:33\n",
      "1:50\n",
      "1:53\n",
      "1:40\n",
      "1:40\n",
      "2:90\n",
      "2:10\n",
      "0:23\n",
      "6:20\n",
      "3:70\n",
      "1:16\n",
      "1:26\n",
      "0:60\n",
      "0:40\n",
      "2:40\n",
      "1:56\n",
      "0:15\n",
      "5:22\n",
      "2:31\n",
      "1:41\n",
      "0:12\n",
      "0:15\n",
      "0:17\n",
      "0:24\n",
      "3:54\n",
      "2:80\n",
      "1:55\n",
      "0:20\n",
      "0:16\n",
      "0:48\n",
      "1:21\n",
      "1:19\n",
      "0:32\n",
      "1:15\n",
      "1:18\n",
      "1:24\n",
      "0:30\n",
      "2:30\n",
      "2:55\n",
      "3:45\n",
      "2:28\n",
      "0:57\n",
      "1:57\n",
      "1:43\n",
      "1:31\n",
      "0:26\n",
      "0:38\n",
      "1:17\n",
      "0:60\n",
      "3:00\n",
      "2:19\n",
      "1:15\n"
     ]
    },
    {
     "data": {
      "text/html": [
       "<div>\n",
       "<style scoped>\n",
       "    .dataframe tbody tr th:only-of-type {\n",
       "        vertical-align: middle;\n",
       "    }\n",
       "\n",
       "    .dataframe tbody tr th {\n",
       "        vertical-align: top;\n",
       "    }\n",
       "\n",
       "    .dataframe thead th {\n",
       "        text-align: right;\n",
       "    }\n",
       "</style>\n",
       "<table border=\"1\" class=\"dataframe\">\n",
       "  <thead>\n",
       "    <tr style=\"text-align: right;\">\n",
       "      <th></th>\n",
       "      <th>createTime</th>\n",
       "      <th>desc</th>\n",
       "      <th>id</th>\n",
       "      <th>music</th>\n",
       "      <th>video</th>\n",
       "      <th>textExtra</th>\n",
       "      <th>warnInfo</th>\n",
       "      <th>desc_en</th>\n",
       "      <th>textExtra_en</th>\n",
       "      <th>collectCount</th>\n",
       "      <th>commentCount</th>\n",
       "      <th>diggCount</th>\n",
       "      <th>playCount</th>\n",
       "      <th>shareCount</th>\n",
       "      <th>coverImage</th>\n",
       "      <th>duration</th>\n",
       "    </tr>\n",
       "  </thead>\n",
       "  <tbody>\n",
       "    <tr>\n",
       "      <th>0</th>\n",
       "      <td>2023-09-13 18:57:03</td>\n",
       "      <td>La mia intervista di questa sera a \"Cinque Min...</td>\n",
       "      <td>7278386520275373000</td>\n",
       "      <td>{'authorName': 'Giorgia Meloni', 'coverLarge':...</td>\n",
       "      <td>{'bitrate': 1178262, 'bitrateInfo': [{'Bitrate...</td>\n",
       "      <td>None</td>\n",
       "      <td>None</td>\n",
       "      <td>My interview this evening on \"Cinque Minuti\", ...</td>\n",
       "      <td>None</td>\n",
       "      <td>840</td>\n",
       "      <td>2669</td>\n",
       "      <td>14800</td>\n",
       "      <td>435800</td>\n",
       "      <td>438</td>\n",
       "      <td>https://p16-sign-useast2a.tiktokcdn.com/tos-us...</td>\n",
       "      <td>5:17</td>\n",
       "    </tr>\n",
       "    <tr>\n",
       "      <th>1</th>\n",
       "      <td>2023-09-12 16:05:41</td>\n",
       "      <td>Stiamo dando alla Nazione una strategia che no...</td>\n",
       "      <td>7277971263958666000</td>\n",
       "      <td>{'authorName': 'Giorgia Meloni', 'coverLarge':...</td>\n",
       "      <td>{'bitrate': 1021716, 'bitrateInfo': [{'Bitrate...</td>\n",
       "      <td>None</td>\n",
       "      <td>None</td>\n",
       "      <td>We are giving the Nation a strategy that it ha...</td>\n",
       "      <td>None</td>\n",
       "      <td>1050</td>\n",
       "      <td>6426</td>\n",
       "      <td>21200</td>\n",
       "      <td>622700</td>\n",
       "      <td>598</td>\n",
       "      <td>https://p16-sign-useast2a.tiktokcdn.com/tos-us...</td>\n",
       "      <td>2:43</td>\n",
       "    </tr>\n",
       "    <tr>\n",
       "      <th>2</th>\n",
       "      <td>2023-09-11 09:02:24</td>\n",
       "      <td>Grazie India, complimenti per il successo del ...</td>\n",
       "      <td>7277491085071388000</td>\n",
       "      <td>{'authorName': 'Giorgia Meloni', 'coverLarge':...</td>\n",
       "      <td>{'bitrate': 1374581, 'bitrateInfo': [{'Bitrate...</td>\n",
       "      <td>g20</td>\n",
       "      <td>None</td>\n",
       "      <td>Thank you India, congratulations on the succes...</td>\n",
       "      <td>g20</td>\n",
       "      <td>313</td>\n",
       "      <td>468</td>\n",
       "      <td>7158</td>\n",
       "      <td>137500</td>\n",
       "      <td>224</td>\n",
       "      <td>https://p16-sign-useast2a.tiktokcdn.com/tos-us...</td>\n",
       "      <td>1:27</td>\n",
       "    </tr>\n",
       "    <tr>\n",
       "      <th>3</th>\n",
       "      <td>2023-09-03 07:28:10</td>\n",
       "      <td>A 41 anni dal brutale attentato mafioso che ha...</td>\n",
       "      <td>7274498125660704000</td>\n",
       "      <td>{'authorName': 'Giorgia Meloni', 'coverLarge':...</td>\n",
       "      <td>{'bitrate': 627490, 'bitrateInfo': [{'Bitrate'...</td>\n",
       "      <td>None</td>\n",
       "      <td>None</td>\n",
       "      <td>41 years after the brutal mafia attack that ca...</td>\n",
       "      <td>None</td>\n",
       "      <td>277</td>\n",
       "      <td>274</td>\n",
       "      <td>4874</td>\n",
       "      <td>141400</td>\n",
       "      <td>204</td>\n",
       "      <td>https://p16-sign-useast2a.tiktokcdn.com/tos-us...</td>\n",
       "      <td>1:12</td>\n",
       "    </tr>\n",
       "    <tr>\n",
       "      <th>4</th>\n",
       "      <td>2023-08-12 06:05:11</td>\n",
       "      <td>Salario minimo: punto stampa dopo l’incontro c...</td>\n",
       "      <td>7266312532665585000</td>\n",
       "      <td>{'authorName': 'Giorgia Meloni', 'coverLarge':...</td>\n",
       "      <td>{'bitrate': 1077066, 'bitrateInfo': [{'Bitrate...</td>\n",
       "      <td>None</td>\n",
       "      <td>None</td>\n",
       "      <td>Minimum wage: press point after the meeting wi...</td>\n",
       "      <td>None</td>\n",
       "      <td>2847</td>\n",
       "      <td>7144</td>\n",
       "      <td>52600</td>\n",
       "      <td>1800000</td>\n",
       "      <td>1388</td>\n",
       "      <td>https://p16-sign-useast2a.tiktokcdn.com/tos-us...</td>\n",
       "      <td>9:10</td>\n",
       "    </tr>\n",
       "    <tr>\n",
       "      <th>...</th>\n",
       "      <td>...</td>\n",
       "      <td>...</td>\n",
       "      <td>...</td>\n",
       "      <td>...</td>\n",
       "      <td>...</td>\n",
       "      <td>...</td>\n",
       "      <td>...</td>\n",
       "      <td>...</td>\n",
       "      <td>...</td>\n",
       "      <td>...</td>\n",
       "      <td>...</td>\n",
       "      <td>...</td>\n",
       "      <td>...</td>\n",
       "      <td>...</td>\n",
       "      <td>...</td>\n",
       "      <td>...</td>\n",
       "    </tr>\n",
       "    <tr>\n",
       "      <th>219</th>\n",
       "      <td>2022-02-20 17:31:35</td>\n",
       "      <td>Il risultato del #greenpass è stato solo quell...</td>\n",
       "      <td>7066845965105319000</td>\n",
       "      <td>{'authorName': 'Giorgia Meloni', 'coverLarge':...</td>\n",
       "      <td>{'bitrate': 998202, 'bitrateInfo': [{'Bitrate'...</td>\n",
       "      <td>greenpass</td>\n",
       "      <td>None</td>\n",
       "      <td>The result of the #greenpass was only to manag...</td>\n",
       "      <td>greenpass</td>\n",
       "      <td>2460</td>\n",
       "      <td>2020</td>\n",
       "      <td>54800</td>\n",
       "      <td>977100</td>\n",
       "      <td>4925</td>\n",
       "      <td>https://p16-sign-va.tiktokcdn.com/tos-maliva-p...</td>\n",
       "      <td>1:17</td>\n",
       "    </tr>\n",
       "    <tr>\n",
       "      <th>220</th>\n",
       "      <td>2022-02-18 17:00:34</td>\n",
       "      <td>Noi vogliamo difendere l’Italia 🇮🇹</td>\n",
       "      <td>7066095800291577000</td>\n",
       "      <td>{'authorName': 'Giorgia Meloni', 'coverLarge':...</td>\n",
       "      <td>{'bitrate': 710139, 'bitrateInfo': [{'Bitrate'...</td>\n",
       "      <td>None</td>\n",
       "      <td>None</td>\n",
       "      <td>We want to defend Italy 🇮🇹</td>\n",
       "      <td>None</td>\n",
       "      <td>30</td>\n",
       "      <td>41</td>\n",
       "      <td>2052</td>\n",
       "      <td>37700</td>\n",
       "      <td>37</td>\n",
       "      <td>https://p16-sign-va.tiktokcdn.com/tos-maliva-p...</td>\n",
       "      <td>0:60</td>\n",
       "    </tr>\n",
       "    <tr>\n",
       "      <th>221</th>\n",
       "      <td>2022-02-11 14:53:48</td>\n",
       "      <td>Sia chiaro a tutti: noi il governo con il PD e...</td>\n",
       "      <td>7063465536109235000</td>\n",
       "      <td>{'authorName': 'Giorgia Meloni', 'coverLarge':...</td>\n",
       "      <td>{'bitrate': 401098, 'bitrateInfo': [{'Bitrate'...</td>\n",
       "      <td>None</td>\n",
       "      <td>None</td>\n",
       "      <td>Let it be clear to everyone: we will never for...</td>\n",
       "      <td>None</td>\n",
       "      <td>22</td>\n",
       "      <td>40</td>\n",
       "      <td>1482</td>\n",
       "      <td>33000</td>\n",
       "      <td>21</td>\n",
       "      <td>https://p16-sign-va.tiktokcdn.com/tos-maliva-p...</td>\n",
       "      <td>3:00</td>\n",
       "    </tr>\n",
       "    <tr>\n",
       "      <th>222</th>\n",
       "      <td>2022-02-10 19:07:13</td>\n",
       "      <td>Cittadini e imprese schiacciati dalla crisi e ...</td>\n",
       "      <td>7063159758185827000</td>\n",
       "      <td>{'authorName': 'Giorgia Meloni', 'coverLarge':...</td>\n",
       "      <td>{'bitrate': 326414, 'bitrateInfo': [{'Bitrate'...</td>\n",
       "      <td>None</td>\n",
       "      <td>None</td>\n",
       "      <td>Citizens and businesses crushed by the crisis ...</td>\n",
       "      <td>None</td>\n",
       "      <td>28</td>\n",
       "      <td>202</td>\n",
       "      <td>2240</td>\n",
       "      <td>47300</td>\n",
       "      <td>126</td>\n",
       "      <td>https://p16-sign-va.tiktokcdn.com/tos-maliva-p...</td>\n",
       "      <td>2:19</td>\n",
       "    </tr>\n",
       "    <tr>\n",
       "      <th>223</th>\n",
       "      <td>2022-02-03 16:22:59</td>\n",
       "      <td>Non ci sto alla politica del “o ti adegui al s...</td>\n",
       "      <td>7060519835788250000</td>\n",
       "      <td>{'authorName': 'Giorgia Meloni', 'coverLarge':...</td>\n",
       "      <td>{'bitrate': 497794, 'bitrateInfo': [{'Bitrate'...</td>\n",
       "      <td>fratelliditalia</td>\n",
       "      <td>None</td>\n",
       "      <td>I don't subscribe to the \"either you adapt to ...</td>\n",
       "      <td>Brothers of Italy</td>\n",
       "      <td>96</td>\n",
       "      <td>352</td>\n",
       "      <td>4190</td>\n",
       "      <td>82700</td>\n",
       "      <td>340</td>\n",
       "      <td>https://p16-sign-va.tiktokcdn.com/tos-maliva-p...</td>\n",
       "      <td>1:15</td>\n",
       "    </tr>\n",
       "  </tbody>\n",
       "</table>\n",
       "<p>224 rows × 16 columns</p>\n",
       "</div>"
      ],
      "text/plain": [
       "             createTime                                               desc  \\\n",
       "0   2023-09-13 18:57:03  La mia intervista di questa sera a \"Cinque Min...   \n",
       "1   2023-09-12 16:05:41  Stiamo dando alla Nazione una strategia che no...   \n",
       "2   2023-09-11 09:02:24  Grazie India, complimenti per il successo del ...   \n",
       "3   2023-09-03 07:28:10  A 41 anni dal brutale attentato mafioso che ha...   \n",
       "4   2023-08-12 06:05:11  Salario minimo: punto stampa dopo l’incontro c...   \n",
       "..                  ...                                                ...   \n",
       "219 2022-02-20 17:31:35  Il risultato del #greenpass è stato solo quell...   \n",
       "220 2022-02-18 17:00:34                 Noi vogliamo difendere l’Italia 🇮🇹   \n",
       "221 2022-02-11 14:53:48  Sia chiaro a tutti: noi il governo con il PD e...   \n",
       "222 2022-02-10 19:07:13  Cittadini e imprese schiacciati dalla crisi e ...   \n",
       "223 2022-02-03 16:22:59  Non ci sto alla politica del “o ti adegui al s...   \n",
       "\n",
       "                      id                                              music  \\\n",
       "0    7278386520275373000  {'authorName': 'Giorgia Meloni', 'coverLarge':...   \n",
       "1    7277971263958666000  {'authorName': 'Giorgia Meloni', 'coverLarge':...   \n",
       "2    7277491085071388000  {'authorName': 'Giorgia Meloni', 'coverLarge':...   \n",
       "3    7274498125660704000  {'authorName': 'Giorgia Meloni', 'coverLarge':...   \n",
       "4    7266312532665585000  {'authorName': 'Giorgia Meloni', 'coverLarge':...   \n",
       "..                   ...                                                ...   \n",
       "219  7066845965105319000  {'authorName': 'Giorgia Meloni', 'coverLarge':...   \n",
       "220  7066095800291577000  {'authorName': 'Giorgia Meloni', 'coverLarge':...   \n",
       "221  7063465536109235000  {'authorName': 'Giorgia Meloni', 'coverLarge':...   \n",
       "222  7063159758185827000  {'authorName': 'Giorgia Meloni', 'coverLarge':...   \n",
       "223  7060519835788250000  {'authorName': 'Giorgia Meloni', 'coverLarge':...   \n",
       "\n",
       "                                                 video        textExtra  \\\n",
       "0    {'bitrate': 1178262, 'bitrateInfo': [{'Bitrate...             None   \n",
       "1    {'bitrate': 1021716, 'bitrateInfo': [{'Bitrate...             None   \n",
       "2    {'bitrate': 1374581, 'bitrateInfo': [{'Bitrate...              g20   \n",
       "3    {'bitrate': 627490, 'bitrateInfo': [{'Bitrate'...             None   \n",
       "4    {'bitrate': 1077066, 'bitrateInfo': [{'Bitrate...             None   \n",
       "..                                                 ...              ...   \n",
       "219  {'bitrate': 998202, 'bitrateInfo': [{'Bitrate'...        greenpass   \n",
       "220  {'bitrate': 710139, 'bitrateInfo': [{'Bitrate'...             None   \n",
       "221  {'bitrate': 401098, 'bitrateInfo': [{'Bitrate'...             None   \n",
       "222  {'bitrate': 326414, 'bitrateInfo': [{'Bitrate'...             None   \n",
       "223  {'bitrate': 497794, 'bitrateInfo': [{'Bitrate'...  fratelliditalia   \n",
       "\n",
       "    warnInfo                                            desc_en  \\\n",
       "0       None  My interview this evening on \"Cinque Minuti\", ...   \n",
       "1       None  We are giving the Nation a strategy that it ha...   \n",
       "2       None  Thank you India, congratulations on the succes...   \n",
       "3       None  41 years after the brutal mafia attack that ca...   \n",
       "4       None  Minimum wage: press point after the meeting wi...   \n",
       "..       ...                                                ...   \n",
       "219     None  The result of the #greenpass was only to manag...   \n",
       "220     None                         We want to defend Italy 🇮🇹   \n",
       "221     None  Let it be clear to everyone: we will never for...   \n",
       "222     None  Citizens and businesses crushed by the crisis ...   \n",
       "223     None  I don't subscribe to the \"either you adapt to ...   \n",
       "\n",
       "          textExtra_en  collectCount  commentCount  diggCount  playCount  \\\n",
       "0                 None           840          2669      14800     435800   \n",
       "1                 None          1050          6426      21200     622700   \n",
       "2                  g20           313           468       7158     137500   \n",
       "3                 None           277           274       4874     141400   \n",
       "4                 None          2847          7144      52600    1800000   \n",
       "..                 ...           ...           ...        ...        ...   \n",
       "219          greenpass          2460          2020      54800     977100   \n",
       "220               None            30            41       2052      37700   \n",
       "221               None            22            40       1482      33000   \n",
       "222               None            28           202       2240      47300   \n",
       "223  Brothers of Italy            96           352       4190      82700   \n",
       "\n",
       "     shareCount                                         coverImage duration  \n",
       "0           438  https://p16-sign-useast2a.tiktokcdn.com/tos-us...     5:17  \n",
       "1           598  https://p16-sign-useast2a.tiktokcdn.com/tos-us...     2:43  \n",
       "2           224  https://p16-sign-useast2a.tiktokcdn.com/tos-us...     1:27  \n",
       "3           204  https://p16-sign-useast2a.tiktokcdn.com/tos-us...     1:12  \n",
       "4          1388  https://p16-sign-useast2a.tiktokcdn.com/tos-us...     9:10  \n",
       "..          ...                                                ...      ...  \n",
       "219        4925  https://p16-sign-va.tiktokcdn.com/tos-maliva-p...     1:17  \n",
       "220          37  https://p16-sign-va.tiktokcdn.com/tos-maliva-p...     0:60  \n",
       "221          21  https://p16-sign-va.tiktokcdn.com/tos-maliva-p...     3:00  \n",
       "222         126  https://p16-sign-va.tiktokcdn.com/tos-maliva-p...     2:19  \n",
       "223         340  https://p16-sign-va.tiktokcdn.com/tos-maliva-p...     1:15  \n",
       "\n",
       "[224 rows x 16 columns]"
      ]
     },
     "execution_count": 20,
     "metadata": {},
     "output_type": "execute_result"
    }
   ],
   "source": [
    "def get_video_duration(filename):\n",
    "\n",
    "    video = cv2.VideoCapture(filename)\n",
    "\n",
    "    if video is None or not video.isOpened():\n",
    "       print('Warning: unable to open video source: ', filename)\n",
    "       return '###### VIDEO NOT FOUND ###########'\n",
    "\n",
    "    duration = video.get(cv2.CAP_PROP_POS_MSEC)\n",
    "    fps = video.get(cv2.CAP_PROP_FPS)      \n",
    "    frame_count = int(video.get(cv2.CAP_PROP_FRAME_COUNT))\n",
    "    duration = frame_count/fps\n",
    "\n",
    "    minutes = str(int(duration/60))\n",
    "    seconds = str(round(duration%60))\n",
    "    \n",
    "\n",
    "    duration_formatted = f'{minutes}:{seconds:02}' \n",
    "    video.release()\n",
    "    return duration_formatted\n",
    "\n",
    "videos_translated_df = pd.read_json(processed_dir + 'videos-translated.json', convert_dates=['createTime'])\n",
    "\n",
    "def add_duration(file_id):\n",
    "    file_name = processed_dir + 'videos/' + str(file_id) + '.mp4'\n",
    "    duration = get_video_duration(file_name)\n",
    "    \n",
    "    print(duration)\n",
    "    return duration\n",
    "\n",
    "videos_translated_df['duration'] = videos_translated_df.apply(lambda row: add_duration(row['video']['id']), axis=1)\n",
    "\n",
    "videos_translated_df.to_json(processed_dir + 'videos-translated-with-duration.json')\n",
    "videos_translated_df"
   ]
  },
  {
   "cell_type": "markdown",
   "metadata": {},
   "source": [
    "## Convert any Video Files to audio "
   ]
  },
  {
   "cell_type": "code",
   "execution_count": 15,
   "metadata": {},
   "outputs": [
    {
     "name": "stdout",
     "output_type": "stream",
     "text": [
      "224\n",
      "MoviePy - Writing audio in ../data/processed/audio/7144425341279341830.mp3\n"
     ]
    },
    {
     "name": "stderr",
     "output_type": "stream",
     "text": [
      "                                                                    \r"
     ]
    },
    {
     "name": "stdout",
     "output_type": "stream",
     "text": [
      "MoviePy - Done.\n",
      "MoviePy - Writing audio in ../data/processed/audio/7187471251794005254.mp3\n"
     ]
    },
    {
     "name": "stderr",
     "output_type": "stream",
     "text": [
      "                                                                      \r"
     ]
    },
    {
     "name": "stdout",
     "output_type": "stream",
     "text": [
      "MoviePy - Done.\n",
      "MoviePy - Writing audio in ../data/processed/audio/7145754357013777670.mp3\n"
     ]
    },
    {
     "name": "stderr",
     "output_type": "stream",
     "text": [
      "                                                                      \r"
     ]
    },
    {
     "name": "stdout",
     "output_type": "stream",
     "text": [
      "MoviePy - Done.\n",
      "MoviePy - Writing audio in ../data/processed/audio/7158424452286401797.mp3\n"
     ]
    },
    {
     "name": "stderr",
     "output_type": "stream",
     "text": [
      "                                                                      \r"
     ]
    },
    {
     "name": "stdout",
     "output_type": "stream",
     "text": [
      "MoviePy - Done.\n",
      "MoviePy - Writing audio in ../data/processed/audio/7277971263958666529.mp3\n"
     ]
    },
    {
     "name": "stderr",
     "output_type": "stream",
     "text": [
      "                                                                      \r"
     ]
    },
    {
     "name": "stdout",
     "output_type": "stream",
     "text": [
      "MoviePy - Done.\n",
      "MoviePy - Writing audio in ../data/processed/audio/7092798207511612678.mp3\n"
     ]
    },
    {
     "name": "stderr",
     "output_type": "stream",
     "text": [
      "                                                                      \r"
     ]
    },
    {
     "name": "stdout",
     "output_type": "stream",
     "text": [
      "MoviePy - Done.\n",
      "MoviePy - Writing audio in ../data/processed/audio/7244545854739172635.mp3\n"
     ]
    },
    {
     "name": "stderr",
     "output_type": "stream",
     "text": [
      "                                                                      \r"
     ]
    },
    {
     "name": "stdout",
     "output_type": "stream",
     "text": [
      "MoviePy - Done.\n",
      "MoviePy - Writing audio in ../data/processed/audio/7206775485903260933.mp3\n"
     ]
    },
    {
     "name": "stderr",
     "output_type": "stream",
     "text": [
      "                                                                      \r"
     ]
    },
    {
     "name": "stdout",
     "output_type": "stream",
     "text": [
      "MoviePy - Done.\n",
      "MoviePy - Writing audio in ../data/processed/audio/7233290952285244698.mp3\n"
     ]
    },
    {
     "name": "stderr",
     "output_type": "stream",
     "text": [
      "                                                                      \r"
     ]
    },
    {
     "name": "stdout",
     "output_type": "stream",
     "text": [
      "MoviePy - Done.\n",
      "MoviePy - Writing audio in ../data/processed/audio/7164382552751394053.mp3\n"
     ]
    },
    {
     "name": "stderr",
     "output_type": "stream",
     "text": [
      "                                                                    \r"
     ]
    },
    {
     "name": "stdout",
     "output_type": "stream",
     "text": [
      "MoviePy - Done.\n",
      "MoviePy - Writing audio in ../data/processed/audio/7228211560240467227.mp3\n"
     ]
    },
    {
     "name": "stderr",
     "output_type": "stream",
     "text": [
      "                                                                      \r"
     ]
    },
    {
     "name": "stdout",
     "output_type": "stream",
     "text": [
      "MoviePy - Done.\n",
      "MoviePy - Writing audio in ../data/processed/audio/7128429765639343366.mp3\n"
     ]
    },
    {
     "name": "stderr",
     "output_type": "stream",
     "text": [
      "                                                                      \r"
     ]
    },
    {
     "name": "stdout",
     "output_type": "stream",
     "text": [
      "MoviePy - Done.\n",
      "MoviePy - Writing audio in ../data/processed/audio/7182913772271521030.mp3\n"
     ]
    },
    {
     "name": "stderr",
     "output_type": "stream",
     "text": [
      "                                                                      \r"
     ]
    },
    {
     "name": "stdout",
     "output_type": "stream",
     "text": [
      "MoviePy - Done.\n",
      "MoviePy - Writing audio in ../data/processed/audio/7137577046552726790.mp3\n"
     ]
    },
    {
     "name": "stderr",
     "output_type": "stream",
     "text": [
      "                                                                      \r"
     ]
    },
    {
     "name": "stdout",
     "output_type": "stream",
     "text": [
      "MoviePy - Done.\n",
      "MoviePy - Writing audio in ../data/processed/audio/7138094156332715270.mp3\n"
     ]
    },
    {
     "name": "stderr",
     "output_type": "stream",
     "text": [
      "                                                                    \r"
     ]
    },
    {
     "name": "stdout",
     "output_type": "stream",
     "text": [
      "MoviePy - Done.\n",
      "MoviePy - Writing audio in ../data/processed/audio/7137699360111938822.mp3\n"
     ]
    },
    {
     "name": "stderr",
     "output_type": "stream",
     "text": [
      "                                                                    \r"
     ]
    },
    {
     "name": "stdout",
     "output_type": "stream",
     "text": [
      "MoviePy - Done.\n",
      "MoviePy - Writing audio in ../data/processed/audio/7136469259756031237.mp3\n"
     ]
    },
    {
     "name": "stderr",
     "output_type": "stream",
     "text": [
      "                                                                      \r"
     ]
    },
    {
     "name": "stdout",
     "output_type": "stream",
     "text": [
      "MoviePy - Done.\n",
      "MoviePy - Writing audio in ../data/processed/audio/7222341088596610309.mp3\n"
     ]
    },
    {
     "name": "stderr",
     "output_type": "stream",
     "text": [
      "                                                                      \r"
     ]
    },
    {
     "name": "stdout",
     "output_type": "stream",
     "text": [
      "MoviePy - Done.\n",
      "MoviePy - Writing audio in ../data/processed/audio/7183669325126012166.mp3\n"
     ]
    },
    {
     "name": "stderr",
     "output_type": "stream",
     "text": [
      "                                                                      \r"
     ]
    },
    {
     "name": "stdout",
     "output_type": "stream",
     "text": [
      "MoviePy - Done.\n",
      "MoviePy - Writing audio in ../data/processed/audio/7145877683740658949.mp3\n"
     ]
    },
    {
     "name": "stderr",
     "output_type": "stream",
     "text": [
      "                                                                    \r"
     ]
    },
    {
     "name": "stdout",
     "output_type": "stream",
     "text": [
      "MoviePy - Done.\n",
      "MoviePy - Writing audio in ../data/processed/audio/7147206448232074502.mp3\n"
     ]
    },
    {
     "name": "stderr",
     "output_type": "stream",
     "text": [
      "                                                                    \r"
     ]
    },
    {
     "name": "stdout",
     "output_type": "stream",
     "text": [
      "MoviePy - Done.\n",
      "MoviePy - Writing audio in ../data/processed/audio/7156890275317632262.mp3\n"
     ]
    },
    {
     "name": "stderr",
     "output_type": "stream",
     "text": [
      "                                                                      \r"
     ]
    },
    {
     "name": "stdout",
     "output_type": "stream",
     "text": [
      "MoviePy - Done.\n",
      "MoviePy - Writing audio in ../data/processed/audio/7066095800291577093.mp3\n"
     ]
    },
    {
     "name": "stderr",
     "output_type": "stream",
     "text": [
      "                                                        \r"
     ]
    },
    {
     "name": "stdout",
     "output_type": "stream",
     "text": [
      "MoviePy - Done.\n",
      "MoviePy - Writing audio in ../data/processed/audio/7140683479053831429.mp3\n"
     ]
    },
    {
     "name": "stderr",
     "output_type": "stream",
     "text": [
      "                                                                    \r"
     ]
    },
    {
     "name": "stdout",
     "output_type": "stream",
     "text": [
      "MoviePy - Done.\n",
      "MoviePy - Writing audio in ../data/processed/audio/7145360998407425285.mp3\n"
     ]
    },
    {
     "name": "stderr",
     "output_type": "stream",
     "text": [
      "                                                                      \r"
     ]
    },
    {
     "name": "stdout",
     "output_type": "stream",
     "text": [
      "MoviePy - Done.\n",
      "MoviePy - Writing audio in ../data/processed/audio/7204931077029268741.mp3\n"
     ]
    },
    {
     "name": "stderr",
     "output_type": "stream",
     "text": [
      "                                                                      \r"
     ]
    },
    {
     "name": "stdout",
     "output_type": "stream",
     "text": [
      "MoviePy - Done.\n",
      "MoviePy - Writing audio in ../data/processed/audio/7161412406495694086.mp3\n"
     ]
    },
    {
     "name": "stderr",
     "output_type": "stream",
     "text": [
      "                                                                      \r"
     ]
    },
    {
     "name": "stdout",
     "output_type": "stream",
     "text": [
      "MoviePy - Done.\n",
      "MoviePy - Writing audio in ../data/processed/audio/7109083244611587333.mp3\n"
     ]
    },
    {
     "name": "stderr",
     "output_type": "stream",
     "text": [
      "                                                                      \r"
     ]
    },
    {
     "name": "stdout",
     "output_type": "stream",
     "text": [
      "MoviePy - Done.\n",
      "MoviePy - Writing audio in ../data/processed/audio/7143225656137075974.mp3\n"
     ]
    },
    {
     "name": "stderr",
     "output_type": "stream",
     "text": [
      "                                                                     \r"
     ]
    },
    {
     "name": "stdout",
     "output_type": "stream",
     "text": [
      "MoviePy - Done.\n",
      "MoviePy - Writing audio in ../data/processed/audio/7139418655879744774.mp3\n"
     ]
    },
    {
     "name": "stderr",
     "output_type": "stream",
     "text": [
      "                                                                    \r"
     ]
    },
    {
     "name": "stdout",
     "output_type": "stream",
     "text": [
      "MoviePy - Done.\n",
      "MoviePy - Writing audio in ../data/processed/audio/7070073900100521222.mp3\n"
     ]
    },
    {
     "name": "stderr",
     "output_type": "stream",
     "text": [
      "                                                                      \r"
     ]
    },
    {
     "name": "stdout",
     "output_type": "stream",
     "text": [
      "MoviePy - Done.\n",
      "MoviePy - Writing audio in ../data/processed/audio/7147263913200045317.mp3\n"
     ]
    },
    {
     "name": "stderr",
     "output_type": "stream",
     "text": [
      "                                                        \r"
     ]
    },
    {
     "name": "stdout",
     "output_type": "stream",
     "text": [
      "MoviePy - Done.\n",
      "MoviePy - Writing audio in ../data/processed/audio/7265735771271728416.mp3\n"
     ]
    },
    {
     "name": "stderr",
     "output_type": "stream",
     "text": [
      "                                                                      \r"
     ]
    },
    {
     "name": "stdout",
     "output_type": "stream",
     "text": [
      "MoviePy - Done.\n",
      "MoviePy - Writing audio in ../data/processed/audio/7136548859093863685.mp3\n"
     ]
    },
    {
     "name": "stderr",
     "output_type": "stream",
     "text": [
      "                                                                    \r"
     ]
    },
    {
     "name": "stdout",
     "output_type": "stream",
     "text": [
      "MoviePy - Done.\n",
      "MoviePy - Writing audio in ../data/processed/audio/7107893116505492741.mp3\n"
     ]
    },
    {
     "name": "stderr",
     "output_type": "stream",
     "text": [
      "                                                                      \r"
     ]
    },
    {
     "name": "stdout",
     "output_type": "stream",
     "text": [
      "MoviePy - Done.\n",
      "MoviePy - Writing audio in ../data/processed/audio/7240155848205454619.mp3\n"
     ]
    },
    {
     "name": "stderr",
     "output_type": "stream",
     "text": [
      "                                                                      \r"
     ]
    },
    {
     "name": "stdout",
     "output_type": "stream",
     "text": [
      "MoviePy - Done.\n",
      "MoviePy - Writing audio in ../data/processed/audio/7216766115110735109.mp3\n"
     ]
    },
    {
     "name": "stderr",
     "output_type": "stream",
     "text": [
      "                                                                      \r"
     ]
    },
    {
     "name": "stdout",
     "output_type": "stream",
     "text": [
      "MoviePy - Done.\n",
      "MoviePy - Writing audio in ../data/processed/audio/7243739642934201626.mp3\n"
     ]
    },
    {
     "name": "stderr",
     "output_type": "stream",
     "text": [
      "                                                                      \r"
     ]
    },
    {
     "name": "stdout",
     "output_type": "stream",
     "text": [
      "MoviePy - Done.\n",
      "MoviePy - Writing audio in ../data/processed/audio/7174007223310372101.mp3\n"
     ]
    },
    {
     "name": "stderr",
     "output_type": "stream",
     "text": [
      "                                                                      \r"
     ]
    },
    {
     "name": "stdout",
     "output_type": "stream",
     "text": [
      "MoviePy - Done.\n",
      "MoviePy - Writing audio in ../data/processed/audio/7136459590434147590.mp3\n"
     ]
    },
    {
     "name": "stderr",
     "output_type": "stream",
     "text": [
      "                                                                    \r"
     ]
    },
    {
     "name": "stdout",
     "output_type": "stream",
     "text": [
      "MoviePy - Done.\n",
      "MoviePy - Writing audio in ../data/processed/audio/7206044310301592837.mp3\n"
     ]
    },
    {
     "name": "stderr",
     "output_type": "stream",
     "text": [
      "                                                                     \r"
     ]
    },
    {
     "name": "stdout",
     "output_type": "stream",
     "text": [
      "MoviePy - Done.\n",
      "MoviePy - Writing audio in ../data/processed/audio/7094669289294220549.mp3\n"
     ]
    },
    {
     "name": "stderr",
     "output_type": "stream",
     "text": [
      "                                                                      \r"
     ]
    },
    {
     "name": "stdout",
     "output_type": "stream",
     "text": [
      "MoviePy - Done.\n",
      "MoviePy - Writing audio in ../data/processed/audio/7081255304721075461.mp3\n"
     ]
    },
    {
     "name": "stderr",
     "output_type": "stream",
     "text": [
      "                                                                      \r"
     ]
    },
    {
     "name": "stdout",
     "output_type": "stream",
     "text": [
      "MoviePy - Done.\n",
      "MoviePy - Writing audio in ../data/processed/audio/7189709267392318725.mp3\n"
     ]
    },
    {
     "name": "stderr",
     "output_type": "stream",
     "text": [
      "                                                                      \r"
     ]
    },
    {
     "name": "stdout",
     "output_type": "stream",
     "text": [
      "MoviePy - Done.\n",
      "MoviePy - Writing audio in ../data/processed/audio/7227372741660282138.mp3\n"
     ]
    },
    {
     "name": "stderr",
     "output_type": "stream",
     "text": [
      "                                                                      \r"
     ]
    },
    {
     "name": "stdout",
     "output_type": "stream",
     "text": [
      "MoviePy - Done.\n",
      "MoviePy - Writing audio in ../data/processed/audio/7180307547616742662.mp3\n"
     ]
    },
    {
     "name": "stderr",
     "output_type": "stream",
     "text": [
      "                                                                        \r"
     ]
    },
    {
     "name": "stdout",
     "output_type": "stream",
     "text": [
      "MoviePy - Done.\n",
      "MoviePy - Writing audio in ../data/processed/audio/7145435366529551621.mp3\n"
     ]
    },
    {
     "name": "stderr",
     "output_type": "stream",
     "text": [
      "                                                                      \r"
     ]
    },
    {
     "name": "stdout",
     "output_type": "stream",
     "text": [
      "MoviePy - Done.\n",
      "MoviePy - Writing audio in ../data/processed/audio/7067167670214331654.mp3\n"
     ]
    },
    {
     "name": "stderr",
     "output_type": "stream",
     "text": [
      "                                                                    \r"
     ]
    },
    {
     "name": "stdout",
     "output_type": "stream",
     "text": [
      "MoviePy - Done.\n",
      "MoviePy - Writing audio in ../data/processed/audio/7143285004917935365.mp3\n"
     ]
    },
    {
     "name": "stderr",
     "output_type": "stream",
     "text": [
      "                                                                    \r"
     ]
    },
    {
     "name": "stdout",
     "output_type": "stream",
     "text": [
      "MoviePy - Done.\n",
      "MoviePy - Writing audio in ../data/processed/audio/7237568877436177690.mp3\n"
     ]
    },
    {
     "name": "stderr",
     "output_type": "stream",
     "text": [
      "                                                                    \r"
     ]
    },
    {
     "name": "stdout",
     "output_type": "stream",
     "text": [
      "MoviePy - Done.\n",
      "MoviePy - Writing audio in ../data/processed/audio/7198571880997981445.mp3\n"
     ]
    },
    {
     "name": "stderr",
     "output_type": "stream",
     "text": [
      "                                                                      \r"
     ]
    },
    {
     "name": "stdout",
     "output_type": "stream",
     "text": [
      "MoviePy - Done.\n",
      "MoviePy - Writing audio in ../data/processed/audio/7211143983282588934.mp3\n"
     ]
    },
    {
     "name": "stderr",
     "output_type": "stream",
     "text": [
      "                                                                      \r"
     ]
    },
    {
     "name": "stdout",
     "output_type": "stream",
     "text": [
      "MoviePy - Done.\n",
      "MoviePy - Writing audio in ../data/processed/audio/7135145359629634822.mp3\n"
     ]
    },
    {
     "name": "stderr",
     "output_type": "stream",
     "text": [
      "                                                        \r"
     ]
    },
    {
     "name": "stdout",
     "output_type": "stream",
     "text": [
      "MoviePy - Done.\n",
      "MoviePy - Writing audio in ../data/processed/audio/7247012477228076314.mp3\n"
     ]
    },
    {
     "name": "stderr",
     "output_type": "stream",
     "text": [
      "                                                        \r"
     ]
    },
    {
     "name": "stdout",
     "output_type": "stream",
     "text": [
      "MoviePy - Done.\n",
      "MoviePy - Writing audio in ../data/processed/audio/7182877365171801349.mp3\n"
     ]
    },
    {
     "name": "stderr",
     "output_type": "stream",
     "text": [
      "                                                                      \r"
     ]
    },
    {
     "name": "stdout",
     "output_type": "stream",
     "text": [
      "MoviePy - Done.\n",
      "MoviePy - Writing audio in ../data/processed/audio/7137360677756325126.mp3\n"
     ]
    },
    {
     "name": "stderr",
     "output_type": "stream",
     "text": [
      "                                                                    \r"
     ]
    },
    {
     "name": "stdout",
     "output_type": "stream",
     "text": [
      "MoviePy - Done.\n",
      "MoviePy - Writing audio in ../data/processed/audio/7161896989863709958.mp3\n"
     ]
    },
    {
     "name": "stderr",
     "output_type": "stream",
     "text": [
      "                                                                      \r"
     ]
    },
    {
     "name": "stdout",
     "output_type": "stream",
     "text": [
      "MoviePy - Done.\n",
      "MoviePy - Writing audio in ../data/processed/audio/7092750010739215621.mp3\n"
     ]
    },
    {
     "name": "stderr",
     "output_type": "stream",
     "text": [
      "                                                                    \r"
     ]
    },
    {
     "name": "stdout",
     "output_type": "stream",
     "text": [
      "MoviePy - Done.\n",
      "MoviePy - Writing audio in ../data/processed/audio/7078649936128003334.mp3\n"
     ]
    },
    {
     "name": "stderr",
     "output_type": "stream",
     "text": [
      "                                                                    \r"
     ]
    },
    {
     "name": "stdout",
     "output_type": "stream",
     "text": [
      "MoviePy - Done.\n",
      "MoviePy - Writing audio in ../data/processed/audio/7178948277834992901.mp3\n"
     ]
    },
    {
     "name": "stderr",
     "output_type": "stream",
     "text": [
      "                                                                      \r"
     ]
    },
    {
     "name": "stdout",
     "output_type": "stream",
     "text": [
      "MoviePy - Done.\n",
      "MoviePy - Writing audio in ../data/processed/audio/7092832806765612293.mp3\n"
     ]
    },
    {
     "name": "stderr",
     "output_type": "stream",
     "text": [
      "                                                                      \r"
     ]
    },
    {
     "name": "stdout",
     "output_type": "stream",
     "text": [
      "MoviePy - Done.\n",
      "MoviePy - Writing audio in ../data/processed/audio/7140316758455454982.mp3\n"
     ]
    },
    {
     "name": "stderr",
     "output_type": "stream",
     "text": [
      "                                                                    \r"
     ]
    },
    {
     "name": "stdout",
     "output_type": "stream",
     "text": [
      "MoviePy - Done.\n",
      "MoviePy - Writing audio in ../data/processed/audio/7136118025811479814.mp3\n"
     ]
    },
    {
     "name": "stderr",
     "output_type": "stream",
     "text": [
      "                                                                      \r"
     ]
    },
    {
     "name": "stdout",
     "output_type": "stream",
     "text": [
      "MoviePy - Done.\n",
      "MoviePy - Writing audio in ../data/processed/audio/7241634208106515738.mp3\n"
     ]
    },
    {
     "name": "stderr",
     "output_type": "stream",
     "text": [
      "                                                                      \r"
     ]
    },
    {
     "name": "stdout",
     "output_type": "stream",
     "text": [
      "MoviePy - Done.\n",
      "MoviePy - Writing audio in ../data/processed/audio/7188187795985272069.mp3\n"
     ]
    },
    {
     "name": "stderr",
     "output_type": "stream",
     "text": [
      "                                                                    \r"
     ]
    },
    {
     "name": "stdout",
     "output_type": "stream",
     "text": [
      "MoviePy - Done.\n",
      "MoviePy - Writing audio in ../data/processed/audio/7092732219587874053.mp3\n"
     ]
    },
    {
     "name": "stderr",
     "output_type": "stream",
     "text": [
      "                                                                    \r"
     ]
    },
    {
     "name": "stdout",
     "output_type": "stream",
     "text": [
      "MoviePy - Done.\n",
      "MoviePy - Writing audio in ../data/processed/audio/7143551183792164102.mp3\n"
     ]
    },
    {
     "name": "stderr",
     "output_type": "stream",
     "text": [
      "                                                                    \r"
     ]
    },
    {
     "name": "stdout",
     "output_type": "stream",
     "text": [
      "MoviePy - Done.\n",
      "MoviePy - Writing audio in ../data/processed/audio/7092292016104606982.mp3\n"
     ]
    },
    {
     "name": "stderr",
     "output_type": "stream",
     "text": [
      "                                                                      \r"
     ]
    },
    {
     "name": "stdout",
     "output_type": "stream",
     "text": [
      "MoviePy - Done.\n",
      "MoviePy - Writing audio in ../data/processed/audio/7160592391194299654.mp3\n"
     ]
    },
    {
     "name": "stderr",
     "output_type": "stream",
     "text": [
      "                                                                      \r"
     ]
    },
    {
     "name": "stdout",
     "output_type": "stream",
     "text": [
      "MoviePy - Done.\n",
      "MoviePy - Writing audio in ../data/processed/audio/7170424345486036229.mp3\n"
     ]
    },
    {
     "name": "stderr",
     "output_type": "stream",
     "text": [
      "                                                                     \r"
     ]
    },
    {
     "name": "stdout",
     "output_type": "stream",
     "text": [
      "MoviePy - Done.\n",
      "MoviePy - Writing audio in ../data/processed/audio/7063465536109235461.mp3\n"
     ]
    },
    {
     "name": "stderr",
     "output_type": "stream",
     "text": [
      "                                                                      \r"
     ]
    },
    {
     "name": "stdout",
     "output_type": "stream",
     "text": [
      "MoviePy - Done.\n",
      "MoviePy - Writing audio in ../data/processed/audio/7146265492234292486.mp3\n"
     ]
    },
    {
     "name": "stderr",
     "output_type": "stream",
     "text": [
      "                                                                     \r"
     ]
    },
    {
     "name": "stdout",
     "output_type": "stream",
     "text": [
      "MoviePy - Done.\n",
      "MoviePy - Writing audio in ../data/processed/audio/7178163802578455813.mp3\n"
     ]
    },
    {
     "name": "stderr",
     "output_type": "stream",
     "text": [
      "                                                                    \r"
     ]
    },
    {
     "name": "stdout",
     "output_type": "stream",
     "text": [
      "MoviePy - Done.\n",
      "MoviePy - Writing audio in ../data/processed/audio/7143251423474502917.mp3\n"
     ]
    },
    {
     "name": "stderr",
     "output_type": "stream",
     "text": [
      "                                                                    \r"
     ]
    },
    {
     "name": "stdout",
     "output_type": "stream",
     "text": [
      "MoviePy - Done.\n",
      "MoviePy - Writing audio in ../data/processed/audio/7073752853965262086.mp3\n"
     ]
    },
    {
     "name": "stderr",
     "output_type": "stream",
     "text": [
      "                                                                      \r"
     ]
    },
    {
     "name": "stdout",
     "output_type": "stream",
     "text": [
      "MoviePy - Done.\n",
      "MoviePy - Writing audio in ../data/processed/audio/7257581884450917659.mp3\n"
     ]
    },
    {
     "name": "stderr",
     "output_type": "stream",
     "text": [
      "                                                                    \r"
     ]
    },
    {
     "name": "stdout",
     "output_type": "stream",
     "text": [
      "MoviePy - Done.\n",
      "MoviePy - Writing audio in ../data/processed/audio/7144295242039037190.mp3\n"
     ]
    },
    {
     "name": "stderr",
     "output_type": "stream",
     "text": [
      "                                                                      \r"
     ]
    },
    {
     "name": "stdout",
     "output_type": "stream",
     "text": [
      "MoviePy - Done.\n",
      "MoviePy - Writing audio in ../data/processed/audio/7141788005320150277.mp3\n"
     ]
    },
    {
     "name": "stderr",
     "output_type": "stream",
     "text": [
      "                                                                    \r"
     ]
    },
    {
     "name": "stdout",
     "output_type": "stream",
     "text": [
      "MoviePy - Done.\n",
      "MoviePy - Writing audio in ../data/processed/audio/7066845965105319173.mp3\n"
     ]
    },
    {
     "name": "stderr",
     "output_type": "stream",
     "text": [
      "                                                                      \r"
     ]
    },
    {
     "name": "stdout",
     "output_type": "stream",
     "text": [
      "MoviePy - Done.\n",
      "MoviePy - Writing audio in ../data/processed/audio/7166251050142420230.mp3\n"
     ]
    },
    {
     "name": "stderr",
     "output_type": "stream",
     "text": [
      "                                                                    \r"
     ]
    },
    {
     "name": "stdout",
     "output_type": "stream",
     "text": [
      "MoviePy - Done.\n",
      "MoviePy - Writing audio in ../data/processed/audio/7205257187130674437.mp3\n"
     ]
    },
    {
     "name": "stderr",
     "output_type": "stream",
     "text": [
      "                                                                      \r"
     ]
    },
    {
     "name": "stdout",
     "output_type": "stream",
     "text": [
      "MoviePy - Done.\n",
      "MoviePy - Writing audio in ../data/processed/audio/7113843601427139846.mp3\n"
     ]
    },
    {
     "name": "stderr",
     "output_type": "stream",
     "text": [
      "                                                                      \r"
     ]
    },
    {
     "name": "stdout",
     "output_type": "stream",
     "text": [
      "MoviePy - Done.\n",
      "MoviePy - Writing audio in ../data/processed/audio/7122815617337494789.mp3\n"
     ]
    },
    {
     "name": "stderr",
     "output_type": "stream",
     "text": [
      "                                                                      \r"
     ]
    },
    {
     "name": "stdout",
     "output_type": "stream",
     "text": [
      "MoviePy - Done.\n",
      "MoviePy - Writing audio in ../data/processed/audio/7168946059706764550.mp3\n"
     ]
    },
    {
     "name": "stderr",
     "output_type": "stream",
     "text": [
      "                                                                        \r"
     ]
    },
    {
     "name": "stdout",
     "output_type": "stream",
     "text": [
      "MoviePy - Done.\n",
      "MoviePy - Writing audio in ../data/processed/audio/7176657919654579462.mp3\n"
     ]
    },
    {
     "name": "stderr",
     "output_type": "stream",
     "text": [
      "                                                                      \r"
     ]
    },
    {
     "name": "stdout",
     "output_type": "stream",
     "text": [
      "MoviePy - Done.\n",
      "MoviePy - Writing audio in ../data/processed/audio/7177049020412513542.mp3\n"
     ]
    },
    {
     "name": "stderr",
     "output_type": "stream",
     "text": [
      "                                                                      \r"
     ]
    },
    {
     "name": "stdout",
     "output_type": "stream",
     "text": [
      "MoviePy - Done.\n",
      "MoviePy - Writing audio in ../data/processed/audio/7232366148258417946.mp3\n"
     ]
    },
    {
     "name": "stderr",
     "output_type": "stream",
     "text": [
      "                                                                      \r"
     ]
    },
    {
     "name": "stdout",
     "output_type": "stream",
     "text": [
      "MoviePy - Done.\n",
      "MoviePy - Writing audio in ../data/processed/audio/7137367409882582277.mp3\n"
     ]
    },
    {
     "name": "stderr",
     "output_type": "stream",
     "text": [
      "                                                        \r"
     ]
    },
    {
     "name": "stdout",
     "output_type": "stream",
     "text": [
      "MoviePy - Done.\n",
      "MoviePy - Writing audio in ../data/processed/audio/7221065295304117509.mp3\n"
     ]
    },
    {
     "name": "stderr",
     "output_type": "stream",
     "text": [
      "                                                                      \r"
     ]
    },
    {
     "name": "stdout",
     "output_type": "stream",
     "text": [
      "MoviePy - Done.\n",
      "MoviePy - Writing audio in ../data/processed/audio/7223471702020246810.mp3\n"
     ]
    },
    {
     "name": "stderr",
     "output_type": "stream",
     "text": [
      "                                                                      \r"
     ]
    },
    {
     "name": "stdout",
     "output_type": "stream",
     "text": [
      "MoviePy - Done.\n",
      "MoviePy - Writing audio in ../data/processed/audio/7157692146278075654.mp3\n"
     ]
    },
    {
     "name": "stderr",
     "output_type": "stream",
     "text": [
      "                                                                      \r"
     ]
    },
    {
     "name": "stdout",
     "output_type": "stream",
     "text": [
      "MoviePy - Done.\n",
      "MoviePy - Writing audio in ../data/processed/audio/7133129347828944134.mp3\n"
     ]
    },
    {
     "name": "stderr",
     "output_type": "stream",
     "text": [
      "                                                                      \r"
     ]
    },
    {
     "name": "stdout",
     "output_type": "stream",
     "text": [
      "MoviePy - Done.\n",
      "MoviePy - Writing audio in ../data/processed/audio/7215590061742591259.mp3\n"
     ]
    },
    {
     "name": "stderr",
     "output_type": "stream",
     "text": [
      "                                                                     \r"
     ]
    },
    {
     "name": "stdout",
     "output_type": "stream",
     "text": [
      "MoviePy - Done.\n",
      "MoviePy - Writing audio in ../data/processed/audio/7238958663094865178.mp3\n"
     ]
    },
    {
     "name": "stderr",
     "output_type": "stream",
     "text": [
      "                                                                      \r"
     ]
    },
    {
     "name": "stdout",
     "output_type": "stream",
     "text": [
      "MoviePy - Done.\n",
      "MoviePy - Writing audio in ../data/processed/audio/7234480028908555547.mp3\n"
     ]
    },
    {
     "name": "stderr",
     "output_type": "stream",
     "text": [
      "                                                                      \r"
     ]
    },
    {
     "name": "stdout",
     "output_type": "stream",
     "text": [
      "MoviePy - Done.\n",
      "MoviePy - Writing audio in ../data/processed/audio/7138307731299028230.mp3\n"
     ]
    },
    {
     "name": "stderr",
     "output_type": "stream",
     "text": [
      "                                                                      \r"
     ]
    },
    {
     "name": "stdout",
     "output_type": "stream",
     "text": [
      "MoviePy - Done.\n",
      "MoviePy - Writing audio in ../data/processed/audio/7138364518136122629.mp3\n"
     ]
    },
    {
     "name": "stderr",
     "output_type": "stream",
     "text": [
      "                                                                      \r"
     ]
    },
    {
     "name": "stdout",
     "output_type": "stream",
     "text": [
      "MoviePy - Done.\n",
      "MoviePy - Writing audio in ../data/processed/audio/7176318412900027654.mp3\n"
     ]
    },
    {
     "name": "stderr",
     "output_type": "stream",
     "text": [
      "                                                                      \r"
     ]
    },
    {
     "name": "stdout",
     "output_type": "stream",
     "text": [
      "MoviePy - Done.\n",
      "MoviePy - Writing audio in ../data/processed/audio/7092079134247046405.mp3\n"
     ]
    },
    {
     "name": "stderr",
     "output_type": "stream",
     "text": [
      "                                                                    \r"
     ]
    },
    {
     "name": "stdout",
     "output_type": "stream",
     "text": [
      "MoviePy - Done.\n",
      "MoviePy - Writing audio in ../data/processed/audio/7210840206986071301.mp3\n"
     ]
    },
    {
     "name": "stderr",
     "output_type": "stream",
     "text": [
      "                                                                      \r"
     ]
    },
    {
     "name": "stdout",
     "output_type": "stream",
     "text": [
      "MoviePy - Done.\n",
      "MoviePy - Writing audio in ../data/processed/audio/7142918656551423237.mp3\n"
     ]
    },
    {
     "name": "stderr",
     "output_type": "stream",
     "text": [
      "                                                                    \r"
     ]
    },
    {
     "name": "stdout",
     "output_type": "stream",
     "text": [
      "MoviePy - Done.\n",
      "MoviePy - Writing audio in ../data/processed/audio/7178782554814811397.mp3\n"
     ]
    },
    {
     "name": "stderr",
     "output_type": "stream",
     "text": [
      "                                                                      \r"
     ]
    },
    {
     "name": "stdout",
     "output_type": "stream",
     "text": [
      "MoviePy - Done.\n",
      "MoviePy - Writing audio in ../data/processed/audio/7106933742027001093.mp3\n"
     ]
    },
    {
     "name": "stderr",
     "output_type": "stream",
     "text": [
      "                                                                    \r"
     ]
    },
    {
     "name": "stdout",
     "output_type": "stream",
     "text": [
      "MoviePy - Done.\n",
      "MoviePy - Writing audio in ../data/processed/audio/7070475423716543749.mp3\n"
     ]
    },
    {
     "name": "stderr",
     "output_type": "stream",
     "text": [
      "                                                                      \r"
     ]
    },
    {
     "name": "stdout",
     "output_type": "stream",
     "text": [
      "MoviePy - Done.\n",
      "MoviePy - Writing audio in ../data/processed/audio/7140955700699696390.mp3\n"
     ]
    },
    {
     "name": "stderr",
     "output_type": "stream",
     "text": [
      "                                                                      \r"
     ]
    },
    {
     "name": "stdout",
     "output_type": "stream",
     "text": [
      "MoviePy - Done.\n",
      "MoviePy - Writing audio in ../data/processed/audio/7116559793489267973.mp3\n"
     ]
    },
    {
     "name": "stderr",
     "output_type": "stream",
     "text": [
      "                                                                    \r"
     ]
    },
    {
     "name": "stdout",
     "output_type": "stream",
     "text": [
      "MoviePy - Done.\n",
      "MoviePy - Writing audio in ../data/processed/audio/7143163842665663749.mp3\n"
     ]
    },
    {
     "name": "stderr",
     "output_type": "stream",
     "text": [
      "                                                                    \r"
     ]
    },
    {
     "name": "stdout",
     "output_type": "stream",
     "text": [
      "MoviePy - Done.\n",
      "MoviePy - Writing audio in ../data/processed/audio/7226821746425466139.mp3\n"
     ]
    },
    {
     "name": "stderr",
     "output_type": "stream",
     "text": [
      "                                                                      \r"
     ]
    },
    {
     "name": "stdout",
     "output_type": "stream",
     "text": [
      "MoviePy - Done.\n",
      "MoviePy - Writing audio in ../data/processed/audio/7144338594927299846.mp3\n"
     ]
    },
    {
     "name": "stderr",
     "output_type": "stream",
     "text": [
      "                                                                      \r"
     ]
    },
    {
     "name": "stdout",
     "output_type": "stream",
     "text": [
      "MoviePy - Done.\n",
      "MoviePy - Writing audio in ../data/processed/audio/7261188519618448667.mp3\n"
     ]
    },
    {
     "name": "stderr",
     "output_type": "stream",
     "text": [
      "                                                                      \r"
     ]
    },
    {
     "name": "stdout",
     "output_type": "stream",
     "text": [
      "MoviePy - Done.\n",
      "MoviePy - Writing audio in ../data/processed/audio/7134227016500497670.mp3\n"
     ]
    },
    {
     "name": "stderr",
     "output_type": "stream",
     "text": [
      "                                                                      \r"
     ]
    },
    {
     "name": "stdout",
     "output_type": "stream",
     "text": [
      "MoviePy - Done.\n",
      "MoviePy - Writing audio in ../data/processed/audio/7250049940255182107.mp3\n"
     ]
    },
    {
     "name": "stderr",
     "output_type": "stream",
     "text": [
      "                                                                      \r"
     ]
    },
    {
     "name": "stdout",
     "output_type": "stream",
     "text": [
      "MoviePy - Done.\n",
      "MoviePy - Writing audio in ../data/processed/audio/7092109732386737413.mp3\n"
     ]
    },
    {
     "name": "stderr",
     "output_type": "stream",
     "text": [
      "                                                                      \r"
     ]
    },
    {
     "name": "stdout",
     "output_type": "stream",
     "text": [
      "MoviePy - Done.\n",
      "MoviePy - Writing audio in ../data/processed/audio/7277491085071387937.mp3\n"
     ]
    },
    {
     "name": "stderr",
     "output_type": "stream",
     "text": [
      "                                                                      \r"
     ]
    },
    {
     "name": "stdout",
     "output_type": "stream",
     "text": [
      "MoviePy - Done.\n",
      "MoviePy - Writing audio in ../data/processed/audio/7078014348152638726.mp3\n"
     ]
    },
    {
     "name": "stderr",
     "output_type": "stream",
     "text": [
      "                                                                      \r"
     ]
    },
    {
     "name": "stdout",
     "output_type": "stream",
     "text": [
      "MoviePy - Done.\n",
      "MoviePy - Writing audio in ../data/processed/audio/7184340534251621637.mp3\n"
     ]
    },
    {
     "name": "stderr",
     "output_type": "stream",
     "text": [
      "                                                                      \r"
     ]
    },
    {
     "name": "stdout",
     "output_type": "stream",
     "text": [
      "MoviePy - Done.\n",
      "MoviePy - Writing audio in ../data/processed/audio/7106170331500399878.mp3\n"
     ]
    },
    {
     "name": "stderr",
     "output_type": "stream",
     "text": [
      "                                                                    \r"
     ]
    },
    {
     "name": "stdout",
     "output_type": "stream",
     "text": [
      "MoviePy - Done.\n",
      "MoviePy - Writing audio in ../data/processed/audio/7134593713753427205.mp3\n"
     ]
    },
    {
     "name": "stderr",
     "output_type": "stream",
     "text": [
      "                                                                      \r"
     ]
    },
    {
     "name": "stdout",
     "output_type": "stream",
     "text": [
      "MoviePy - Done.\n",
      "MoviePy - Writing audio in ../data/processed/audio/7060519835788250373.mp3\n"
     ]
    },
    {
     "name": "stderr",
     "output_type": "stream",
     "text": [
      "                                                                      \r"
     ]
    },
    {
     "name": "stdout",
     "output_type": "stream",
     "text": [
      "MoviePy - Done.\n",
      "MoviePy - Writing audio in ../data/processed/audio/7141284558791576837.mp3\n"
     ]
    },
    {
     "name": "stderr",
     "output_type": "stream",
     "text": [
      "                                                                    \r"
     ]
    },
    {
     "name": "stdout",
     "output_type": "stream",
     "text": [
      "MoviePy - Done.\n",
      "MoviePy - Writing audio in ../data/processed/audio/7132746085545561350.mp3\n"
     ]
    },
    {
     "name": "stderr",
     "output_type": "stream",
     "text": [
      "                                                                      \r"
     ]
    },
    {
     "name": "stdout",
     "output_type": "stream",
     "text": [
      "MoviePy - Done.\n",
      "MoviePy - Writing audio in ../data/processed/audio/7137965836253351173.mp3\n"
     ]
    },
    {
     "name": "stderr",
     "output_type": "stream",
     "text": [
      "                                                                    \r"
     ]
    },
    {
     "name": "stdout",
     "output_type": "stream",
     "text": [
      "MoviePy - Done.\n",
      "MoviePy - Writing audio in ../data/processed/audio/7145843103075781893.mp3\n"
     ]
    },
    {
     "name": "stderr",
     "output_type": "stream",
     "text": [
      "                                                                    \r"
     ]
    },
    {
     "name": "stdout",
     "output_type": "stream",
     "text": [
      "MoviePy - Done.\n",
      "MoviePy - Writing audio in ../data/processed/audio/7278386520275373344.mp3\n"
     ]
    },
    {
     "name": "stderr",
     "output_type": "stream",
     "text": [
      "                                                                      \r"
     ]
    },
    {
     "name": "stdout",
     "output_type": "stream",
     "text": [
      "MoviePy - Done.\n",
      "MoviePy - Writing audio in ../data/processed/audio/7235576250306202907.mp3\n"
     ]
    },
    {
     "name": "stderr",
     "output_type": "stream",
     "text": [
      "                                                                      \r"
     ]
    },
    {
     "name": "stdout",
     "output_type": "stream",
     "text": [
      "MoviePy - Done.\n",
      "MoviePy - Writing audio in ../data/processed/audio/7141381807093697798.mp3\n"
     ]
    },
    {
     "name": "stderr",
     "output_type": "stream",
     "text": [
      "                                                                    \r"
     ]
    },
    {
     "name": "stdout",
     "output_type": "stream",
     "text": [
      "MoviePy - Done.\n",
      "MoviePy - Writing audio in ../data/processed/audio/7136915130884934918.mp3\n"
     ]
    },
    {
     "name": "stderr",
     "output_type": "stream",
     "text": [
      "                                                                      \r"
     ]
    },
    {
     "name": "stdout",
     "output_type": "stream",
     "text": [
      "MoviePy - Done.\n",
      "MoviePy - Writing audio in ../data/processed/audio/7146691344281521414.mp3\n"
     ]
    },
    {
     "name": "stderr",
     "output_type": "stream",
     "text": [
      "                                                                      \r"
     ]
    },
    {
     "name": "stdout",
     "output_type": "stream",
     "text": [
      "MoviePy - Done.\n",
      "MoviePy - Writing audio in ../data/processed/audio/7221262230988262661.mp3\n"
     ]
    },
    {
     "name": "stderr",
     "output_type": "stream",
     "text": [
      "                                                                      \r"
     ]
    },
    {
     "name": "stdout",
     "output_type": "stream",
     "text": [
      "MoviePy - Done.\n",
      "MoviePy - Writing audio in ../data/processed/audio/7137218493681896710.mp3\n"
     ]
    },
    {
     "name": "stderr",
     "output_type": "stream",
     "text": [
      "                                                                      \r"
     ]
    },
    {
     "name": "stdout",
     "output_type": "stream",
     "text": [
      "MoviePy - Done.\n",
      "MoviePy - Writing audio in ../data/processed/audio/7259020896466242842.mp3\n"
     ]
    },
    {
     "name": "stderr",
     "output_type": "stream",
     "text": [
      "                                                                      \r"
     ]
    },
    {
     "name": "stdout",
     "output_type": "stream",
     "text": [
      "MoviePy - Done.\n",
      "MoviePy - Writing audio in ../data/processed/audio/7251672977257942299.mp3\n"
     ]
    },
    {
     "name": "stderr",
     "output_type": "stream",
     "text": [
      "                                                                      \r"
     ]
    },
    {
     "name": "stdout",
     "output_type": "stream",
     "text": [
      "MoviePy - Done.\n",
      "MoviePy - Writing audio in ../data/processed/audio/7111970905525341445.mp3\n"
     ]
    },
    {
     "name": "stderr",
     "output_type": "stream",
     "text": [
      "                                                                    \r"
     ]
    },
    {
     "name": "stdout",
     "output_type": "stream",
     "text": [
      "MoviePy - Done.\n",
      "MoviePy - Writing audio in ../data/processed/audio/7074130814199516422.mp3\n"
     ]
    },
    {
     "name": "stderr",
     "output_type": "stream",
     "text": [
      "                                                                      \r"
     ]
    },
    {
     "name": "stdout",
     "output_type": "stream",
     "text": [
      "MoviePy - Done.\n",
      "MoviePy - Writing audio in ../data/processed/audio/7217889363739315462.mp3\n"
     ]
    },
    {
     "name": "stderr",
     "output_type": "stream",
     "text": [
      "                                                                      \r"
     ]
    },
    {
     "name": "stdout",
     "output_type": "stream",
     "text": [
      "MoviePy - Done.\n",
      "MoviePy - Writing audio in ../data/processed/audio/7189296202347744517.mp3\n"
     ]
    },
    {
     "name": "stderr",
     "output_type": "stream",
     "text": [
      "                                                                    \r"
     ]
    },
    {
     "name": "stdout",
     "output_type": "stream",
     "text": [
      "MoviePy - Done.\n",
      "MoviePy - Writing audio in ../data/processed/audio/7070414977118588165.mp3\n"
     ]
    },
    {
     "name": "stderr",
     "output_type": "stream",
     "text": [
      "                                                                      \r"
     ]
    },
    {
     "name": "stdout",
     "output_type": "stream",
     "text": [
      "MoviePy - Done.\n",
      "MoviePy - Writing audio in ../data/processed/audio/7180372649367915782.mp3\n"
     ]
    },
    {
     "name": "stderr",
     "output_type": "stream",
     "text": [
      "                                                                        \r"
     ]
    },
    {
     "name": "stdout",
     "output_type": "stream",
     "text": [
      "MoviePy - Done.\n",
      "MoviePy - Writing audio in ../data/processed/audio/7239724965312941338.mp3\n"
     ]
    },
    {
     "name": "stderr",
     "output_type": "stream",
     "text": [
      "                                                                      \r"
     ]
    },
    {
     "name": "stdout",
     "output_type": "stream",
     "text": [
      "MoviePy - Done.\n",
      "MoviePy - Writing audio in ../data/processed/audio/7231465075389795611.mp3\n"
     ]
    },
    {
     "name": "stderr",
     "output_type": "stream",
     "text": [
      "                                                                      \r"
     ]
    },
    {
     "name": "stdout",
     "output_type": "stream",
     "text": [
      "MoviePy - Done.\n",
      "MoviePy - Writing audio in ../data/processed/audio/7215644500771818757.mp3\n"
     ]
    },
    {
     "name": "stderr",
     "output_type": "stream",
     "text": [
      "                                                                      \r"
     ]
    },
    {
     "name": "stdout",
     "output_type": "stream",
     "text": [
      "MoviePy - Done.\n",
      "MoviePy - Writing audio in ../data/processed/audio/7115419591593037061.mp3\n"
     ]
    },
    {
     "name": "stderr",
     "output_type": "stream",
     "text": [
      "                                                                      \r"
     ]
    },
    {
     "name": "stdout",
     "output_type": "stream",
     "text": [
      "MoviePy - Done.\n",
      "MoviePy - Writing audio in ../data/processed/audio/7086078703641332998.mp3\n"
     ]
    },
    {
     "name": "stderr",
     "output_type": "stream",
     "text": [
      "                                                                      \r"
     ]
    },
    {
     "name": "stdout",
     "output_type": "stream",
     "text": [
      "MoviePy - Done.\n",
      "MoviePy - Writing audio in ../data/processed/audio/7194909784926063877.mp3\n"
     ]
    },
    {
     "name": "stderr",
     "output_type": "stream",
     "text": [
      "                                                                      \r"
     ]
    },
    {
     "name": "stdout",
     "output_type": "stream",
     "text": [
      "MoviePy - Done.\n",
      "MoviePy - Writing audio in ../data/processed/audio/7206202741440449798.mp3\n"
     ]
    },
    {
     "name": "stderr",
     "output_type": "stream",
     "text": [
      "                                                                      \r"
     ]
    },
    {
     "name": "stdout",
     "output_type": "stream",
     "text": [
      "MoviePy - Done.\n",
      "MoviePy - Writing audio in ../data/processed/audio/7211503013234527494.mp3\n"
     ]
    },
    {
     "name": "stderr",
     "output_type": "stream",
     "text": [
      "                                                                    \r"
     ]
    },
    {
     "name": "stdout",
     "output_type": "stream",
     "text": [
      "MoviePy - Done.\n",
      "MoviePy - Writing audio in ../data/processed/audio/7257145557309738266.mp3\n"
     ]
    },
    {
     "name": "stderr",
     "output_type": "stream",
     "text": [
      "                                                                      \r"
     ]
    },
    {
     "name": "stdout",
     "output_type": "stream",
     "text": [
      "MoviePy - Done.\n",
      "MoviePy - Writing audio in ../data/processed/audio/7210879251527077125.mp3\n"
     ]
    },
    {
     "name": "stderr",
     "output_type": "stream",
     "text": [
      "                                                                      \r"
     ]
    },
    {
     "name": "stdout",
     "output_type": "stream",
     "text": [
      "MoviePy - Done.\n",
      "MoviePy - Writing audio in ../data/processed/audio/7189243457179880709.mp3\n"
     ]
    },
    {
     "name": "stderr",
     "output_type": "stream",
     "text": [
      "                                                                    \r"
     ]
    },
    {
     "name": "stdout",
     "output_type": "stream",
     "text": [
      "MoviePy - Done.\n",
      "MoviePy - Writing audio in ../data/processed/audio/7139623564637900038.mp3\n"
     ]
    },
    {
     "name": "stderr",
     "output_type": "stream",
     "text": [
      "                                                                    \r"
     ]
    },
    {
     "name": "stdout",
     "output_type": "stream",
     "text": [
      "MoviePy - Done.\n",
      "MoviePy - Writing audio in ../data/processed/audio/7173606687327161605.mp3\n"
     ]
    },
    {
     "name": "stderr",
     "output_type": "stream",
     "text": [
      "                                                                      \r"
     ]
    },
    {
     "name": "stdout",
     "output_type": "stream",
     "text": [
      "MoviePy - Done.\n",
      "MoviePy - Writing audio in ../data/processed/audio/7152865526417558789.mp3\n"
     ]
    },
    {
     "name": "stderr",
     "output_type": "stream",
     "text": [
      "                                                                    \r"
     ]
    },
    {
     "name": "stdout",
     "output_type": "stream",
     "text": [
      "MoviePy - Done.\n",
      "MoviePy - Writing audio in ../data/processed/audio/7216786331005930778.mp3\n"
     ]
    },
    {
     "name": "stderr",
     "output_type": "stream",
     "text": [
      "                                                                      \r"
     ]
    },
    {
     "name": "stdout",
     "output_type": "stream",
     "text": [
      "MoviePy - Done.\n",
      "MoviePy - Writing audio in ../data/processed/audio/7146642608033434885.mp3\n"
     ]
    },
    {
     "name": "stderr",
     "output_type": "stream",
     "text": [
      "                                                                    \r"
     ]
    },
    {
     "name": "stdout",
     "output_type": "stream",
     "text": [
      "MoviePy - Done.\n",
      "MoviePy - Writing audio in ../data/processed/audio/7069423165268626694.mp3\n"
     ]
    },
    {
     "name": "stderr",
     "output_type": "stream",
     "text": [
      "                                                                      \r"
     ]
    },
    {
     "name": "stdout",
     "output_type": "stream",
     "text": [
      "MoviePy - Done.\n",
      "MoviePy - Writing audio in ../data/processed/audio/7146526475439639814.mp3\n"
     ]
    },
    {
     "name": "stderr",
     "output_type": "stream",
     "text": [
      "                                                                      \r"
     ]
    },
    {
     "name": "stdout",
     "output_type": "stream",
     "text": [
      "MoviePy - Done.\n",
      "MoviePy - Writing audio in ../data/processed/audio/7198105090119568646.mp3\n"
     ]
    },
    {
     "name": "stderr",
     "output_type": "stream",
     "text": [
      "                                                                      \r"
     ]
    },
    {
     "name": "stdout",
     "output_type": "stream",
     "text": [
      "MoviePy - Done.\n",
      "MoviePy - Writing audio in ../data/processed/audio/7157249765837786373.mp3\n"
     ]
    },
    {
     "name": "stderr",
     "output_type": "stream",
     "text": [
      "                                                                      \r"
     ]
    },
    {
     "name": "stdout",
     "output_type": "stream",
     "text": [
      "MoviePy - Done.\n",
      "MoviePy - Writing audio in ../data/processed/audio/7130543050006269189.mp3\n"
     ]
    },
    {
     "name": "stderr",
     "output_type": "stream",
     "text": [
      "                                                                      \r"
     ]
    },
    {
     "name": "stdout",
     "output_type": "stream",
     "text": [
      "MoviePy - Done.\n",
      "MoviePy - Writing audio in ../data/processed/audio/7067893974035401990.mp3\n"
     ]
    },
    {
     "name": "stderr",
     "output_type": "stream",
     "text": [
      "                                                                    \r"
     ]
    },
    {
     "name": "stdout",
     "output_type": "stream",
     "text": [
      "MoviePy - Done.\n",
      "MoviePy - Writing audio in ../data/processed/audio/7234091904151932186.mp3\n"
     ]
    },
    {
     "name": "stderr",
     "output_type": "stream",
     "text": [
      "                                                                      \r"
     ]
    },
    {
     "name": "stdout",
     "output_type": "stream",
     "text": [
      "MoviePy - Done.\n",
      "MoviePy - Writing audio in ../data/processed/audio/7156960255723719941.mp3\n"
     ]
    },
    {
     "name": "stderr",
     "output_type": "stream",
     "text": [
      "                                                                    \r"
     ]
    },
    {
     "name": "stdout",
     "output_type": "stream",
     "text": [
      "MoviePy - Done.\n",
      "MoviePy - Writing audio in ../data/processed/audio/7136844388176530694.mp3\n"
     ]
    },
    {
     "name": "stderr",
     "output_type": "stream",
     "text": [
      "                                                                      \r"
     ]
    },
    {
     "name": "stdout",
     "output_type": "stream",
     "text": [
      "MoviePy - Done.\n",
      "MoviePy - Writing audio in ../data/processed/audio/7177010908625980678.mp3\n"
     ]
    },
    {
     "name": "stderr",
     "output_type": "stream",
     "text": [
      "                                                                    \r"
     ]
    },
    {
     "name": "stdout",
     "output_type": "stream",
     "text": [
      "MoviePy - Done.\n",
      "MoviePy - Writing audio in ../data/processed/audio/7260133930643361050.mp3\n"
     ]
    },
    {
     "name": "stderr",
     "output_type": "stream",
     "text": [
      "                                                                      \r"
     ]
    },
    {
     "name": "stdout",
     "output_type": "stream",
     "text": [
      "MoviePy - Done.\n",
      "MoviePy - Writing audio in ../data/processed/audio/7146670520505847045.mp3\n"
     ]
    },
    {
     "name": "stderr",
     "output_type": "stream",
     "text": [
      "                                                                      \r"
     ]
    },
    {
     "name": "stdout",
     "output_type": "stream",
     "text": [
      "MoviePy - Done.\n",
      "MoviePy - Writing audio in ../data/processed/audio/7208626665683995909.mp3\n"
     ]
    },
    {
     "name": "stderr",
     "output_type": "stream",
     "text": [
      "                                                                      \r"
     ]
    },
    {
     "name": "stdout",
     "output_type": "stream",
     "text": [
      "MoviePy - Done.\n",
      "MoviePy - Writing audio in ../data/processed/audio/7142930878216359173.mp3\n"
     ]
    },
    {
     "name": "stderr",
     "output_type": "stream",
     "text": [
      "                                                                    \r"
     ]
    },
    {
     "name": "stdout",
     "output_type": "stream",
     "text": [
      "MoviePy - Done.\n",
      "MoviePy - Writing audio in ../data/processed/audio/7135363514704727301.mp3\n"
     ]
    },
    {
     "name": "stderr",
     "output_type": "stream",
     "text": [
      "                                                                      \r"
     ]
    },
    {
     "name": "stdout",
     "output_type": "stream",
     "text": [
      "MoviePy - Done.\n",
      "MoviePy - Writing audio in ../data/processed/audio/7123181095293701382.mp3\n"
     ]
    },
    {
     "name": "stderr",
     "output_type": "stream",
     "text": [
      "                                                                      \r"
     ]
    },
    {
     "name": "stdout",
     "output_type": "stream",
     "text": [
      "MoviePy - Done.\n",
      "MoviePy - Writing audio in ../data/processed/audio/7109740680011894022.mp3\n"
     ]
    },
    {
     "name": "stderr",
     "output_type": "stream",
     "text": [
      "                                                                      \r"
     ]
    },
    {
     "name": "stdout",
     "output_type": "stream",
     "text": [
      "MoviePy - Done.\n",
      "MoviePy - Writing audio in ../data/processed/audio/7247501157361372443.mp3\n"
     ]
    },
    {
     "name": "stderr",
     "output_type": "stream",
     "text": [
      "                                                                      \r"
     ]
    },
    {
     "name": "stdout",
     "output_type": "stream",
     "text": [
      "MoviePy - Done.\n",
      "MoviePy - Writing audio in ../data/processed/audio/7163995254054489350.mp3\n"
     ]
    },
    {
     "name": "stderr",
     "output_type": "stream",
     "text": [
      "                                                                      \r"
     ]
    },
    {
     "name": "stdout",
     "output_type": "stream",
     "text": [
      "MoviePy - Done.\n",
      "MoviePy - Writing audio in ../data/processed/audio/7249053260105944347.mp3\n"
     ]
    },
    {
     "name": "stderr",
     "output_type": "stream",
     "text": [
      "                                                                      \r"
     ]
    },
    {
     "name": "stdout",
     "output_type": "stream",
     "text": [
      "MoviePy - Done.\n",
      "MoviePy - Writing audio in ../data/processed/audio/7144420910336953606.mp3\n"
     ]
    },
    {
     "name": "stderr",
     "output_type": "stream",
     "text": [
      "                                                                    \r"
     ]
    },
    {
     "name": "stdout",
     "output_type": "stream",
     "text": [
      "MoviePy - Done.\n",
      "MoviePy - Writing audio in ../data/processed/audio/7104226960422800646.mp3\n"
     ]
    },
    {
     "name": "stderr",
     "output_type": "stream",
     "text": [
      "                                                                    \r"
     ]
    },
    {
     "name": "stdout",
     "output_type": "stream",
     "text": [
      "MoviePy - Done.\n",
      "MoviePy - Writing audio in ../data/processed/audio/7137738553127079173.mp3\n"
     ]
    },
    {
     "name": "stderr",
     "output_type": "stream",
     "text": [
      "                                                                    \r"
     ]
    },
    {
     "name": "stdout",
     "output_type": "stream",
     "text": [
      "MoviePy - Done.\n",
      "MoviePy - Writing audio in ../data/processed/audio/7205624570915736837.mp3\n"
     ]
    },
    {
     "name": "stderr",
     "output_type": "stream",
     "text": [
      "                                                                    \r"
     ]
    },
    {
     "name": "stdout",
     "output_type": "stream",
     "text": [
      "MoviePy - Done.\n",
      "MoviePy - Writing audio in ../data/processed/audio/7136424309131578629.mp3\n"
     ]
    },
    {
     "name": "stderr",
     "output_type": "stream",
     "text": [
      "                                                                      \r"
     ]
    },
    {
     "name": "stdout",
     "output_type": "stream",
     "text": [
      "MoviePy - Done.\n",
      "MoviePy - Writing audio in ../data/processed/audio/7201936585745632517.mp3\n"
     ]
    },
    {
     "name": "stderr",
     "output_type": "stream",
     "text": [
      "                                                                        \r"
     ]
    },
    {
     "name": "stdout",
     "output_type": "stream",
     "text": [
      "MoviePy - Done.\n",
      "MoviePy - Writing audio in ../data/processed/audio/7175162657949994246.mp3\n"
     ]
    },
    {
     "name": "stderr",
     "output_type": "stream",
     "text": [
      "                                                                      \r"
     ]
    },
    {
     "name": "stdout",
     "output_type": "stream",
     "text": [
      "MoviePy - Done.\n",
      "MoviePy - Writing audio in ../data/processed/audio/7207816601217944837.mp3\n"
     ]
    },
    {
     "name": "stderr",
     "output_type": "stream",
     "text": [
      "                                                                      \r"
     ]
    },
    {
     "name": "stdout",
     "output_type": "stream",
     "text": [
      "MoviePy - Done.\n",
      "MoviePy - Writing audio in ../data/processed/audio/7132368164540730629.mp3\n"
     ]
    },
    {
     "name": "stderr",
     "output_type": "stream",
     "text": [
      "                                                                    \r"
     ]
    },
    {
     "name": "stdout",
     "output_type": "stream",
     "text": [
      "MoviePy - Done.\n",
      "MoviePy - Writing audio in ../data/processed/audio/7262671603471797536.mp3\n"
     ]
    },
    {
     "name": "stderr",
     "output_type": "stream",
     "text": [
      "                                                                      \r"
     ]
    },
    {
     "name": "stdout",
     "output_type": "stream",
     "text": [
      "MoviePy - Done.\n",
      "MoviePy - Writing audio in ../data/processed/audio/7137723121796156677.mp3\n"
     ]
    },
    {
     "name": "stderr",
     "output_type": "stream",
     "text": [
      "                                                                    \r"
     ]
    },
    {
     "name": "stdout",
     "output_type": "stream",
     "text": [
      "MoviePy - Done.\n",
      "MoviePy - Writing audio in ../data/processed/audio/7138477051790494981.mp3\n"
     ]
    },
    {
     "name": "stderr",
     "output_type": "stream",
     "text": [
      "                                                                    \r"
     ]
    },
    {
     "name": "stdout",
     "output_type": "stream",
     "text": [
      "MoviePy - Done.\n",
      "MoviePy - Writing audio in ../data/processed/audio/7132830393153162501.mp3\n"
     ]
    },
    {
     "name": "stderr",
     "output_type": "stream",
     "text": [
      "                                                                      \r"
     ]
    },
    {
     "name": "stdout",
     "output_type": "stream",
     "text": [
      "MoviePy - Done.\n",
      "MoviePy - Writing audio in ../data/processed/audio/7144246488879713542.mp3\n"
     ]
    },
    {
     "name": "stderr",
     "output_type": "stream",
     "text": [
      "                                                                      \r"
     ]
    },
    {
     "name": "stdout",
     "output_type": "stream",
     "text": [
      "MoviePy - Done.\n",
      "MoviePy - Writing audio in ../data/processed/audio/7142030812693810438.mp3\n"
     ]
    },
    {
     "name": "stderr",
     "output_type": "stream",
     "text": [
      "                                                                      \r"
     ]
    },
    {
     "name": "stdout",
     "output_type": "stream",
     "text": [
      "MoviePy - Done.\n",
      "MoviePy - Writing audio in ../data/processed/audio/7128321428012764422.mp3\n"
     ]
    },
    {
     "name": "stderr",
     "output_type": "stream",
     "text": [
      "                                                                      \r"
     ]
    },
    {
     "name": "stdout",
     "output_type": "stream",
     "text": [
      "MoviePy - Done.\n",
      "MoviePy - Writing audio in ../data/processed/audio/7265415410848238880.mp3\n"
     ]
    },
    {
     "name": "stderr",
     "output_type": "stream",
     "text": [
      "                                                                      \r"
     ]
    },
    {
     "name": "stdout",
     "output_type": "stream",
     "text": [
      "MoviePy - Done.\n",
      "MoviePy - Writing audio in ../data/processed/audio/7146272946183605510.mp3\n"
     ]
    },
    {
     "name": "stderr",
     "output_type": "stream",
     "text": [
      "                                                                    \r"
     ]
    },
    {
     "name": "stdout",
     "output_type": "stream",
     "text": [
      "MoviePy - Done.\n",
      "MoviePy - Writing audio in ../data/processed/audio/7141803151136410886.mp3\n"
     ]
    },
    {
     "name": "stderr",
     "output_type": "stream",
     "text": [
      "                                                                    \r"
     ]
    },
    {
     "name": "stdout",
     "output_type": "stream",
     "text": [
      "MoviePy - Done.\n",
      "MoviePy - Writing audio in ../data/processed/audio/7144023384853171462.mp3\n"
     ]
    },
    {
     "name": "stderr",
     "output_type": "stream",
     "text": [
      "                                                                      \r"
     ]
    },
    {
     "name": "stdout",
     "output_type": "stream",
     "text": [
      "MoviePy - Done.\n",
      "MoviePy - Writing audio in ../data/processed/audio/7144769480244071686.mp3\n"
     ]
    },
    {
     "name": "stderr",
     "output_type": "stream",
     "text": [
      "                                                                      \r"
     ]
    },
    {
     "name": "stdout",
     "output_type": "stream",
     "text": [
      "MoviePy - Done.\n",
      "MoviePy - Writing audio in ../data/processed/audio/7243836094456827162.mp3\n"
     ]
    },
    {
     "name": "stderr",
     "output_type": "stream",
     "text": [
      "                                                                      \r"
     ]
    },
    {
     "name": "stdout",
     "output_type": "stream",
     "text": [
      "MoviePy - Done.\n",
      "MoviePy - Writing audio in ../data/processed/audio/7137343861130677510.mp3\n"
     ]
    },
    {
     "name": "stderr",
     "output_type": "stream",
     "text": [
      "                                                                    \r"
     ]
    },
    {
     "name": "stdout",
     "output_type": "stream",
     "text": [
      "MoviePy - Done.\n",
      "MoviePy - Writing audio in ../data/processed/audio/7260633128325090587.mp3\n"
     ]
    },
    {
     "name": "stderr",
     "output_type": "stream",
     "text": [
      "                                                                      \r"
     ]
    },
    {
     "name": "stdout",
     "output_type": "stream",
     "text": [
      "MoviePy - Done.\n",
      "MoviePy - Writing audio in ../data/processed/audio/7104580217892506885.mp3\n"
     ]
    },
    {
     "name": "stderr",
     "output_type": "stream",
     "text": [
      "                                                                    \r"
     ]
    },
    {
     "name": "stdout",
     "output_type": "stream",
     "text": [
      "MoviePy - Done.\n",
      "MoviePy - Writing audio in ../data/processed/audio/7219014997781925146.mp3\n"
     ]
    },
    {
     "name": "stderr",
     "output_type": "stream",
     "text": [
      "                                                                      \r"
     ]
    },
    {
     "name": "stdout",
     "output_type": "stream",
     "text": [
      "MoviePy - Done.\n",
      "MoviePy - Writing audio in ../data/processed/audio/7063159758185827590.mp3\n"
     ]
    },
    {
     "name": "stderr",
     "output_type": "stream",
     "text": [
      "                                                                      \r"
     ]
    },
    {
     "name": "stdout",
     "output_type": "stream",
     "text": [
      "MoviePy - Done.\n",
      "MoviePy - Writing audio in ../data/processed/audio/7261648290305821978.mp3\n"
     ]
    },
    {
     "name": "stderr",
     "output_type": "stream",
     "text": [
      "                                                                     \r"
     ]
    },
    {
     "name": "stdout",
     "output_type": "stream",
     "text": [
      "MoviePy - Done.\n",
      "MoviePy - Writing audio in ../data/processed/audio/7198603797227244806.mp3\n"
     ]
    },
    {
     "name": "stderr",
     "output_type": "stream",
     "text": [
      "                                                                     \r"
     ]
    },
    {
     "name": "stdout",
     "output_type": "stream",
     "text": [
      "MoviePy - Done.\n",
      "MoviePy - Writing audio in ../data/processed/audio/7134693026680655109.mp3\n"
     ]
    },
    {
     "name": "stderr",
     "output_type": "stream",
     "text": [
      "                                                                      \r"
     ]
    },
    {
     "name": "stdout",
     "output_type": "stream",
     "text": [
      "MoviePy - Done.\n",
      "MoviePy - Writing audio in ../data/processed/audio/7133867159503097093.mp3\n"
     ]
    },
    {
     "name": "stderr",
     "output_type": "stream",
     "text": [
      "                                                                      \r"
     ]
    },
    {
     "name": "stdout",
     "output_type": "stream",
     "text": [
      "MoviePy - Done.\n",
      "MoviePy - Writing audio in ../data/processed/audio/7187877327806762246.mp3\n"
     ]
    },
    {
     "name": "stderr",
     "output_type": "stream",
     "text": [
      "                                                                      \r"
     ]
    },
    {
     "name": "stdout",
     "output_type": "stream",
     "text": [
      "MoviePy - Done.\n",
      "MoviePy - Writing audio in ../data/processed/audio/7144986246215929094.mp3\n"
     ]
    },
    {
     "name": "stderr",
     "output_type": "stream",
     "text": [
      "                                                                      \r"
     ]
    },
    {
     "name": "stdout",
     "output_type": "stream",
     "text": [
      "MoviePy - Done.\n",
      "MoviePy - Writing audio in ../data/processed/audio/7274498125660704033.mp3\n"
     ]
    },
    {
     "name": "stderr",
     "output_type": "stream",
     "text": [
      "                                                                      \r"
     ]
    },
    {
     "name": "stdout",
     "output_type": "stream",
     "text": [
      "MoviePy - Done.\n",
      "MoviePy - Writing audio in ../data/processed/audio/7148069987796765958.mp3\n"
     ]
    },
    {
     "name": "stderr",
     "output_type": "stream",
     "text": [
      "                                                                      \r"
     ]
    },
    {
     "name": "stdout",
     "output_type": "stream",
     "text": [
      "MoviePy - Done.\n",
      "MoviePy - Writing audio in ../data/processed/audio/7202261483860806917.mp3\n"
     ]
    },
    {
     "name": "stderr",
     "output_type": "stream",
     "text": [
      "                                                                      \r"
     ]
    },
    {
     "name": "stdout",
     "output_type": "stream",
     "text": [
      "MoviePy - Done.\n",
      "MoviePy - Writing audio in ../data/processed/audio/7187514172463254790.mp3\n"
     ]
    },
    {
     "name": "stderr",
     "output_type": "stream",
     "text": [
      "                                                                      \r"
     ]
    },
    {
     "name": "stdout",
     "output_type": "stream",
     "text": [
      "MoviePy - Done.\n",
      "MoviePy - Writing audio in ../data/processed/audio/7138461939923029254.mp3\n"
     ]
    },
    {
     "name": "stderr",
     "output_type": "stream",
     "text": [
      "                                                                    \r"
     ]
    },
    {
     "name": "stdout",
     "output_type": "stream",
     "text": [
      "MoviePy - Done.\n",
      "MoviePy - Writing audio in ../data/processed/audio/7222372308235603206.mp3\n"
     ]
    },
    {
     "name": "stderr",
     "output_type": "stream",
     "text": [
      "                                                                      \r"
     ]
    },
    {
     "name": "stdout",
     "output_type": "stream",
     "text": [
      "MoviePy - Done.\n",
      "MoviePy - Writing audio in ../data/processed/audio/7265621447920422176.mp3\n"
     ]
    },
    {
     "name": "stderr",
     "output_type": "stream",
     "text": [
      "                                                                      \r"
     ]
    },
    {
     "name": "stdout",
     "output_type": "stream",
     "text": [
      "MoviePy - Done.\n",
      "MoviePy - Writing audio in ../data/processed/audio/7074535704902077701.mp3\n"
     ]
    },
    {
     "name": "stderr",
     "output_type": "stream",
     "text": [
      "                                                                      \r"
     ]
    },
    {
     "name": "stdout",
     "output_type": "stream",
     "text": [
      "MoviePy - Done.\n",
      "MoviePy - Writing audio in ../data/processed/audio/7231809083169328411.mp3\n"
     ]
    },
    {
     "name": "stderr",
     "output_type": "stream",
     "text": [
      "                                                                     \r"
     ]
    },
    {
     "name": "stdout",
     "output_type": "stream",
     "text": [
      "MoviePy - Done.\n",
      "MoviePy - Writing audio in ../data/processed/audio/7254490393851481371.mp3\n"
     ]
    },
    {
     "name": "stderr",
     "output_type": "stream",
     "text": [
      "                                                                      \r"
     ]
    },
    {
     "name": "stdout",
     "output_type": "stream",
     "text": [
      "MoviePy - Done.\n",
      "MoviePy - Writing audio in ../data/processed/audio/7080511603812109574.mp3\n"
     ]
    },
    {
     "name": "stderr",
     "output_type": "stream",
     "text": [
      "                                                                      \r"
     ]
    },
    {
     "name": "stdout",
     "output_type": "stream",
     "text": [
      "MoviePy - Done.\n",
      "MoviePy - Writing audio in ../data/processed/audio/7162839147302997254.mp3\n"
     ]
    },
    {
     "name": "stderr",
     "output_type": "stream",
     "text": [
      "                                                                      \r"
     ]
    },
    {
     "name": "stdout",
     "output_type": "stream",
     "text": [
      "MoviePy - Done.\n",
      "MoviePy - Writing audio in ../data/processed/audio/7142259434000059654.mp3\n"
     ]
    },
    {
     "name": "stderr",
     "output_type": "stream",
     "text": [
      "                                                                      \r"
     ]
    },
    {
     "name": "stdout",
     "output_type": "stream",
     "text": [
      "MoviePy - Done.\n",
      "MoviePy - Writing audio in ../data/processed/audio/7238646546152082714.mp3\n"
     ]
    },
    {
     "name": "stderr",
     "output_type": "stream",
     "text": [
      "                                                                    \r"
     ]
    },
    {
     "name": "stdout",
     "output_type": "stream",
     "text": [
      "MoviePy - Done.\n",
      "MoviePy - Writing audio in ../data/processed/audio/7092396552064453893.mp3\n"
     ]
    },
    {
     "name": "stderr",
     "output_type": "stream",
     "text": [
      "                                                                      \r"
     ]
    },
    {
     "name": "stdout",
     "output_type": "stream",
     "text": [
      "MoviePy - Done.\n",
      "MoviePy - Writing audio in ../data/processed/audio/7266312532665584928.mp3\n"
     ]
    },
    {
     "name": "stderr",
     "output_type": "stream",
     "text": [
      "                                                                        \r"
     ]
    },
    {
     "name": "stdout",
     "output_type": "stream",
     "text": [
      "MoviePy - Done.\n",
      "MoviePy - Writing audio in ../data/processed/audio/7235728376848272666.mp3\n"
     ]
    },
    {
     "name": "stderr",
     "output_type": "stream",
     "text": [
      "                                                                      "
     ]
    },
    {
     "name": "stdout",
     "output_type": "stream",
     "text": [
      "MoviePy - Done.\n"
     ]
    },
    {
     "name": "stderr",
     "output_type": "stream",
     "text": [
      "\r"
     ]
    }
   ],
   "source": [
    "import moviepy\n",
    "import moviepy.editor\n",
    "import os\n",
    "import glob\n",
    "\n",
    "videos_dir = '../data/processed/videos/'\n",
    "audio_dir = '../data/processed/audio'\n",
    "os.makedirs(audio_dir, exist_ok = True)\n",
    "\n",
    "file_name_list = glob.glob(os.path.join(videos_dir, \"*.mp4\"))\n",
    "print(len(file_name_list))\n",
    "\n",
    "for file_name in file_name_list:\n",
    "    # print(file_name)\n",
    "    video = moviepy.editor.VideoFileClip(file_name)\n",
    "    audio = video.audio\n",
    "    audio_file_name = file_name.replace('videos','audio').replace('.mp4', '.mp3')\n",
    "    audio.write_audiofile(audio_file_name)"
   ]
  }
 ],
 "metadata": {
  "colab": {
   "include_colab_link": true,
   "provenance": []
  },
  "kernelspec": {
   "display_name": "Python 3 (ipykernel)",
   "language": "python",
   "name": "python3"
  },
  "language_info": {
   "codemirror_mode": {
    "name": "ipython",
    "version": 3
   },
   "file_extension": ".py",
   "mimetype": "text/x-python",
   "name": "python",
   "nbconvert_exporter": "python",
   "pygments_lexer": "ipython3",
   "version": "3.11.5"
  }
 },
 "nbformat": 4,
 "nbformat_minor": 4
}
