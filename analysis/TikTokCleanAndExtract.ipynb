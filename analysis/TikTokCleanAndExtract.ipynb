{
 "cells": [
  {
   "cell_type": "markdown",
   "metadata": {
    "colab_type": "text",
    "id": "view-in-github"
   },
   "source": [
    "<a href=\"https://colab.research.google.com/github/frasercrichton/data-investigation-conspiracy-aotearoa/blob/main/analysis/Pattern_of_Life.ipynb\" target=\"_parent\"><img src=\"https://colab.research.google.com/assets/colab-badge.svg\" alt=\"Open In Colab\"/></a>"
   ]
  },
  {
   "attachments": {},
   "cell_type": "markdown",
   "metadata": {},
   "source": [
    "# Clean and Extract Data\n"
   ]
  },
  {
   "cell_type": "code",
   "execution_count": 85,
   "metadata": {},
   "outputs": [],
   "source": [
    "import pandas as pd\n",
    "import cv2\n",
    "from deep_translator import GoogleTranslator\n",
    "videos_df = pd.read_json('../data/source/video-2023-09-14.json', convert_dates=['createTime'])\n",
    "\n",
    "processed_dir = '../data/processed/'"
   ]
  },
  {
   "cell_type": "markdown",
   "metadata": {},
   "source": [
    "## Parse the Videos JSON file\n",
    "\n",
    "- Extract:\n",
    "  - Comments\n",
    "  - Likes\n",
    "- Translate any text"
   ]
  },
  {
   "cell_type": "code",
   "execution_count": 12,
   "metadata": {},
   "outputs": [
    {
     "data": {
      "text/html": [
       "<div>\n",
       "<style scoped>\n",
       "    .dataframe tbody tr th:only-of-type {\n",
       "        vertical-align: middle;\n",
       "    }\n",
       "\n",
       "    .dataframe tbody tr th {\n",
       "        vertical-align: top;\n",
       "    }\n",
       "\n",
       "    .dataframe thead th {\n",
       "        text-align: right;\n",
       "    }\n",
       "</style>\n",
       "<table border=\"1\" class=\"dataframe\">\n",
       "  <thead>\n",
       "    <tr style=\"text-align: right;\">\n",
       "      <th></th>\n",
       "      <th>createTime</th>\n",
       "      <th>desc</th>\n",
       "      <th>id</th>\n",
       "      <th>music</th>\n",
       "      <th>video</th>\n",
       "      <th>textExtra</th>\n",
       "      <th>warnInfo</th>\n",
       "      <th>desc_en</th>\n",
       "      <th>textExtra_en</th>\n",
       "      <th>collectCount</th>\n",
       "      <th>commentCount</th>\n",
       "      <th>diggCount</th>\n",
       "      <th>playCount</th>\n",
       "      <th>shareCount</th>\n",
       "      <th>coverImage</th>\n",
       "    </tr>\n",
       "  </thead>\n",
       "  <tbody>\n",
       "    <tr>\n",
       "      <th>0</th>\n",
       "      <td>2023-09-13 18:57:03</td>\n",
       "      <td>La mia intervista di questa sera a \"Cinque Min...</td>\n",
       "      <td>7278386520275373056</td>\n",
       "      <td>{'authorName': 'Giorgia Meloni', 'coverLarge':...</td>\n",
       "      <td>{'bitrate': 1178262, 'bitrateInfo': [{'Bitrate...</td>\n",
       "      <td>None</td>\n",
       "      <td>None</td>\n",
       "      <td>My interview this evening on \"Cinque Minuti\", ...</td>\n",
       "      <td>None</td>\n",
       "      <td>840</td>\n",
       "      <td>2669</td>\n",
       "      <td>14800</td>\n",
       "      <td>435800</td>\n",
       "      <td>438</td>\n",
       "      <td>https://p16-sign-useast2a.tiktokcdn.com/tos-us...</td>\n",
       "    </tr>\n",
       "    <tr>\n",
       "      <th>1</th>\n",
       "      <td>2023-09-12 16:05:41</td>\n",
       "      <td>Stiamo dando alla Nazione una strategia che no...</td>\n",
       "      <td>7277971263958666240</td>\n",
       "      <td>{'authorName': 'Giorgia Meloni', 'coverLarge':...</td>\n",
       "      <td>{'bitrate': 1021716, 'bitrateInfo': [{'Bitrate...</td>\n",
       "      <td>None</td>\n",
       "      <td>None</td>\n",
       "      <td>We are giving the Nation a strategy that it ha...</td>\n",
       "      <td>None</td>\n",
       "      <td>1050</td>\n",
       "      <td>6426</td>\n",
       "      <td>21200</td>\n",
       "      <td>622700</td>\n",
       "      <td>598</td>\n",
       "      <td>https://p16-sign-useast2a.tiktokcdn.com/tos-us...</td>\n",
       "    </tr>\n",
       "    <tr>\n",
       "      <th>2</th>\n",
       "      <td>2023-09-11 09:02:24</td>\n",
       "      <td>Grazie India, complimenti per il successo del ...</td>\n",
       "      <td>7277491085071387648</td>\n",
       "      <td>{'authorName': 'Giorgia Meloni', 'coverLarge':...</td>\n",
       "      <td>{'bitrate': 1374581, 'bitrateInfo': [{'Bitrate...</td>\n",
       "      <td>g20</td>\n",
       "      <td>None</td>\n",
       "      <td>Thank you India, congratulations on the succes...</td>\n",
       "      <td>g20</td>\n",
       "      <td>313</td>\n",
       "      <td>468</td>\n",
       "      <td>7158</td>\n",
       "      <td>137500</td>\n",
       "      <td>224</td>\n",
       "      <td>https://p16-sign-useast2a.tiktokcdn.com/tos-us...</td>\n",
       "    </tr>\n",
       "    <tr>\n",
       "      <th>3</th>\n",
       "      <td>2023-09-03 07:28:10</td>\n",
       "      <td>A 41 anni dal brutale attentato mafioso che ha...</td>\n",
       "      <td>7274498125660703744</td>\n",
       "      <td>{'authorName': 'Giorgia Meloni', 'coverLarge':...</td>\n",
       "      <td>{'bitrate': 627490, 'bitrateInfo': [{'Bitrate'...</td>\n",
       "      <td>None</td>\n",
       "      <td>None</td>\n",
       "      <td>41 years after the brutal mafia attack that ca...</td>\n",
       "      <td>None</td>\n",
       "      <td>277</td>\n",
       "      <td>274</td>\n",
       "      <td>4874</td>\n",
       "      <td>141400</td>\n",
       "      <td>204</td>\n",
       "      <td>https://p16-sign-useast2a.tiktokcdn.com/tos-us...</td>\n",
       "    </tr>\n",
       "    <tr>\n",
       "      <th>4</th>\n",
       "      <td>2023-08-12 06:05:11</td>\n",
       "      <td>Salario minimo: punto stampa dopo l’incontro c...</td>\n",
       "      <td>7266312532665584640</td>\n",
       "      <td>{'authorName': 'Giorgia Meloni', 'coverLarge':...</td>\n",
       "      <td>{'bitrate': 1077066, 'bitrateInfo': [{'Bitrate...</td>\n",
       "      <td>None</td>\n",
       "      <td>None</td>\n",
       "      <td>Minimum wage: press point after the meeting wi...</td>\n",
       "      <td>None</td>\n",
       "      <td>2847</td>\n",
       "      <td>7144</td>\n",
       "      <td>52600</td>\n",
       "      <td>1800000</td>\n",
       "      <td>1388</td>\n",
       "      <td>https://p16-sign-useast2a.tiktokcdn.com/tos-us...</td>\n",
       "    </tr>\n",
       "    <tr>\n",
       "      <th>...</th>\n",
       "      <td>...</td>\n",
       "      <td>...</td>\n",
       "      <td>...</td>\n",
       "      <td>...</td>\n",
       "      <td>...</td>\n",
       "      <td>...</td>\n",
       "      <td>...</td>\n",
       "      <td>...</td>\n",
       "      <td>...</td>\n",
       "      <td>...</td>\n",
       "      <td>...</td>\n",
       "      <td>...</td>\n",
       "      <td>...</td>\n",
       "      <td>...</td>\n",
       "      <td>...</td>\n",
       "    </tr>\n",
       "    <tr>\n",
       "      <th>219</th>\n",
       "      <td>2022-02-20 17:31:35</td>\n",
       "      <td>Il risultato del #greenpass è stato solo quell...</td>\n",
       "      <td>7066845965105318912</td>\n",
       "      <td>{'authorName': 'Giorgia Meloni', 'coverLarge':...</td>\n",
       "      <td>{'bitrate': 998202, 'bitrateInfo': [{'Bitrate'...</td>\n",
       "      <td>greenpass</td>\n",
       "      <td>None</td>\n",
       "      <td>The result of the #greenpass was only to manag...</td>\n",
       "      <td>greenpass</td>\n",
       "      <td>2460</td>\n",
       "      <td>2020</td>\n",
       "      <td>54800</td>\n",
       "      <td>977100</td>\n",
       "      <td>4925</td>\n",
       "      <td>https://p16-sign-va.tiktokcdn.com/tos-maliva-p...</td>\n",
       "    </tr>\n",
       "    <tr>\n",
       "      <th>220</th>\n",
       "      <td>2022-02-18 17:00:34</td>\n",
       "      <td>Noi vogliamo difendere l’Italia 🇮🇹</td>\n",
       "      <td>7066095800291576832</td>\n",
       "      <td>{'authorName': 'Giorgia Meloni', 'coverLarge':...</td>\n",
       "      <td>{'bitrate': 710139, 'bitrateInfo': [{'Bitrate'...</td>\n",
       "      <td>None</td>\n",
       "      <td>None</td>\n",
       "      <td>We want to defend Italy 🇮🇹</td>\n",
       "      <td>None</td>\n",
       "      <td>30</td>\n",
       "      <td>41</td>\n",
       "      <td>2052</td>\n",
       "      <td>37700</td>\n",
       "      <td>37</td>\n",
       "      <td>https://p16-sign-va.tiktokcdn.com/tos-maliva-p...</td>\n",
       "    </tr>\n",
       "    <tr>\n",
       "      <th>221</th>\n",
       "      <td>2022-02-11 14:53:48</td>\n",
       "      <td>Sia chiaro a tutti: noi il governo con il PD e...</td>\n",
       "      <td>7063465536109235200</td>\n",
       "      <td>{'authorName': 'Giorgia Meloni', 'coverLarge':...</td>\n",
       "      <td>{'bitrate': 401098, 'bitrateInfo': [{'Bitrate'...</td>\n",
       "      <td>None</td>\n",
       "      <td>None</td>\n",
       "      <td>Let it be clear to everyone: we will never for...</td>\n",
       "      <td>None</td>\n",
       "      <td>22</td>\n",
       "      <td>40</td>\n",
       "      <td>1482</td>\n",
       "      <td>33000</td>\n",
       "      <td>21</td>\n",
       "      <td>https://p16-sign-va.tiktokcdn.com/tos-maliva-p...</td>\n",
       "    </tr>\n",
       "    <tr>\n",
       "      <th>222</th>\n",
       "      <td>2022-02-10 19:07:13</td>\n",
       "      <td>Cittadini e imprese schiacciati dalla crisi e ...</td>\n",
       "      <td>7063159758185827328</td>\n",
       "      <td>{'authorName': 'Giorgia Meloni', 'coverLarge':...</td>\n",
       "      <td>{'bitrate': 326414, 'bitrateInfo': [{'Bitrate'...</td>\n",
       "      <td>None</td>\n",
       "      <td>None</td>\n",
       "      <td>Citizens and businesses crushed by the crisis ...</td>\n",
       "      <td>None</td>\n",
       "      <td>28</td>\n",
       "      <td>202</td>\n",
       "      <td>2240</td>\n",
       "      <td>47300</td>\n",
       "      <td>126</td>\n",
       "      <td>https://p16-sign-va.tiktokcdn.com/tos-maliva-p...</td>\n",
       "    </tr>\n",
       "    <tr>\n",
       "      <th>223</th>\n",
       "      <td>2022-02-03 16:22:59</td>\n",
       "      <td>Non ci sto alla politica del “o ti adegui al s...</td>\n",
       "      <td>7060519835788250112</td>\n",
       "      <td>{'authorName': 'Giorgia Meloni', 'coverLarge':...</td>\n",
       "      <td>{'bitrate': 497794, 'bitrateInfo': [{'Bitrate'...</td>\n",
       "      <td>fratelliditalia</td>\n",
       "      <td>None</td>\n",
       "      <td>I don't subscribe to the \"either you adapt to ...</td>\n",
       "      <td>Brothers of Italy</td>\n",
       "      <td>96</td>\n",
       "      <td>352</td>\n",
       "      <td>4190</td>\n",
       "      <td>82700</td>\n",
       "      <td>340</td>\n",
       "      <td>https://p16-sign-va.tiktokcdn.com/tos-maliva-p...</td>\n",
       "    </tr>\n",
       "  </tbody>\n",
       "</table>\n",
       "<p>224 rows × 15 columns</p>\n",
       "</div>"
      ],
      "text/plain": [
       "             createTime                                               desc  \\\n",
       "0   2023-09-13 18:57:03  La mia intervista di questa sera a \"Cinque Min...   \n",
       "1   2023-09-12 16:05:41  Stiamo dando alla Nazione una strategia che no...   \n",
       "2   2023-09-11 09:02:24  Grazie India, complimenti per il successo del ...   \n",
       "3   2023-09-03 07:28:10  A 41 anni dal brutale attentato mafioso che ha...   \n",
       "4   2023-08-12 06:05:11  Salario minimo: punto stampa dopo l’incontro c...   \n",
       "..                  ...                                                ...   \n",
       "219 2022-02-20 17:31:35  Il risultato del #greenpass è stato solo quell...   \n",
       "220 2022-02-18 17:00:34                 Noi vogliamo difendere l’Italia 🇮🇹   \n",
       "221 2022-02-11 14:53:48  Sia chiaro a tutti: noi il governo con il PD e...   \n",
       "222 2022-02-10 19:07:13  Cittadini e imprese schiacciati dalla crisi e ...   \n",
       "223 2022-02-03 16:22:59  Non ci sto alla politica del “o ti adegui al s...   \n",
       "\n",
       "                      id                                              music  \\\n",
       "0    7278386520275373056  {'authorName': 'Giorgia Meloni', 'coverLarge':...   \n",
       "1    7277971263958666240  {'authorName': 'Giorgia Meloni', 'coverLarge':...   \n",
       "2    7277491085071387648  {'authorName': 'Giorgia Meloni', 'coverLarge':...   \n",
       "3    7274498125660703744  {'authorName': 'Giorgia Meloni', 'coverLarge':...   \n",
       "4    7266312532665584640  {'authorName': 'Giorgia Meloni', 'coverLarge':...   \n",
       "..                   ...                                                ...   \n",
       "219  7066845965105318912  {'authorName': 'Giorgia Meloni', 'coverLarge':...   \n",
       "220  7066095800291576832  {'authorName': 'Giorgia Meloni', 'coverLarge':...   \n",
       "221  7063465536109235200  {'authorName': 'Giorgia Meloni', 'coverLarge':...   \n",
       "222  7063159758185827328  {'authorName': 'Giorgia Meloni', 'coverLarge':...   \n",
       "223  7060519835788250112  {'authorName': 'Giorgia Meloni', 'coverLarge':...   \n",
       "\n",
       "                                                 video        textExtra  \\\n",
       "0    {'bitrate': 1178262, 'bitrateInfo': [{'Bitrate...             None   \n",
       "1    {'bitrate': 1021716, 'bitrateInfo': [{'Bitrate...             None   \n",
       "2    {'bitrate': 1374581, 'bitrateInfo': [{'Bitrate...              g20   \n",
       "3    {'bitrate': 627490, 'bitrateInfo': [{'Bitrate'...             None   \n",
       "4    {'bitrate': 1077066, 'bitrateInfo': [{'Bitrate...             None   \n",
       "..                                                 ...              ...   \n",
       "219  {'bitrate': 998202, 'bitrateInfo': [{'Bitrate'...        greenpass   \n",
       "220  {'bitrate': 710139, 'bitrateInfo': [{'Bitrate'...             None   \n",
       "221  {'bitrate': 401098, 'bitrateInfo': [{'Bitrate'...             None   \n",
       "222  {'bitrate': 326414, 'bitrateInfo': [{'Bitrate'...             None   \n",
       "223  {'bitrate': 497794, 'bitrateInfo': [{'Bitrate'...  fratelliditalia   \n",
       "\n",
       "    warnInfo                                            desc_en  \\\n",
       "0       None  My interview this evening on \"Cinque Minuti\", ...   \n",
       "1       None  We are giving the Nation a strategy that it ha...   \n",
       "2       None  Thank you India, congratulations on the succes...   \n",
       "3       None  41 years after the brutal mafia attack that ca...   \n",
       "4       None  Minimum wage: press point after the meeting wi...   \n",
       "..       ...                                                ...   \n",
       "219     None  The result of the #greenpass was only to manag...   \n",
       "220     None                         We want to defend Italy 🇮🇹   \n",
       "221     None  Let it be clear to everyone: we will never for...   \n",
       "222     None  Citizens and businesses crushed by the crisis ...   \n",
       "223     None  I don't subscribe to the \"either you adapt to ...   \n",
       "\n",
       "          textExtra_en  collectCount  commentCount  diggCount  playCount  \\\n",
       "0                 None           840          2669      14800     435800   \n",
       "1                 None          1050          6426      21200     622700   \n",
       "2                  g20           313           468       7158     137500   \n",
       "3                 None           277           274       4874     141400   \n",
       "4                 None          2847          7144      52600    1800000   \n",
       "..                 ...           ...           ...        ...        ...   \n",
       "219          greenpass          2460          2020      54800     977100   \n",
       "220               None            30            41       2052      37700   \n",
       "221               None            22            40       1482      33000   \n",
       "222               None            28           202       2240      47300   \n",
       "223  Brothers of Italy            96           352       4190      82700   \n",
       "\n",
       "     shareCount                                         coverImage  \n",
       "0           438  https://p16-sign-useast2a.tiktokcdn.com/tos-us...  \n",
       "1           598  https://p16-sign-useast2a.tiktokcdn.com/tos-us...  \n",
       "2           224  https://p16-sign-useast2a.tiktokcdn.com/tos-us...  \n",
       "3           204  https://p16-sign-useast2a.tiktokcdn.com/tos-us...  \n",
       "4          1388  https://p16-sign-useast2a.tiktokcdn.com/tos-us...  \n",
       "..          ...                                                ...  \n",
       "219        4925  https://p16-sign-va.tiktokcdn.com/tos-maliva-p...  \n",
       "220          37  https://p16-sign-va.tiktokcdn.com/tos-maliva-p...  \n",
       "221          21  https://p16-sign-va.tiktokcdn.com/tos-maliva-p...  \n",
       "222         126  https://p16-sign-va.tiktokcdn.com/tos-maliva-p...  \n",
       "223         340  https://p16-sign-va.tiktokcdn.com/tos-maliva-p...  \n",
       "\n",
       "[224 rows x 15 columns]"
      ]
     },
     "execution_count": 12,
     "metadata": {},
     "output_type": "execute_result"
    }
   ],
   "source": [
    "videos_df = videos_df.drop(columns=[\n",
    "                                    'author',\n",
    "                                    'challenges',\n",
    "                                    'collected',\n",
    "                                    'contents', \n",
    "                                    'digged', \n",
    "                                    'duetDisplay', \n",
    "                                    'forFriend',\n",
    "                                    'itemCommentStatus', \n",
    "                                    'privateItem', \n",
    "                                    'secret', \n",
    "                                    'shareEnabled', \n",
    "                                    'stitchDisplay', \n",
    "                                    'officalItem',\n",
    "                                    'originalItem',\n",
    "                                    'duetEnabled',\n",
    "                                    'stitchEnabled',\n",
    "                                    ])\n",
    "def translate_text(text):\n",
    "    translation = GoogleTranslator(source='it', target='en').translate(text)\n",
    "    return translation  \n",
    "\n",
    "def parse_desc(desc):\n",
    "    return translate_text(desc)\n",
    "\n",
    "def parse_stats(stats):\n",
    "    return pd.Series([stats['collectCount'], stats['commentCount'], stats['diggCount'], stats['playCount'], stats['shareCount']])\n",
    "\n",
    "def parse_text_extra(extra_text):\n",
    "    if extra_text is None:\n",
    "        return pd.Series([extra_text, extra_text])\n",
    "    \n",
    "    extra_text_as_json = pd.json_normalize(extra_text)    \n",
    "    hashtags = ', '.join(extra_text_as_json['hashtagName'].values)\n",
    "    return pd.Series([hashtags, translate_text(hashtags)])\n",
    "\n",
    "def parse_warn_info(warn_info):\n",
    "    if warn_info is None:\n",
    "        return warn_info\n",
    "    \n",
    "    return warn_info[0]['text']\n",
    "\n",
    "def parse_video(video):    \n",
    "    return video['zoomCover']['960']\n",
    "\n",
    "# desc: translate the video description into English\n",
    "videos_df['desc_en'] = videos_df.apply(lambda row: parse_desc(row['desc']), axis=1)\n",
    "\n",
    "# textExtra: extract a list of hashtags\n",
    "videos_df[['textExtra', 'textExtra_en']] = videos_df.apply(lambda row: parse_text_extra(row['textExtra']), axis=1)\n",
    "\n",
    "# stats: turn the like, comment, etc. counts into columns\n",
    "videos_df[['collectCount', 'commentCount', 'diggCount', 'playCount', 'shareCount']] = videos_df.apply(lambda row: parse_stats(row['stats']), axis=1)\n",
    "videos_df = videos_df.drop(columns=['stats'])\n",
    "\n",
    "# warnInfo: extract any content warning text \n",
    "videos_df['warnInfo'] = videos_df.apply(lambda x: parse_warn_info(x['warnInfo']), axis=1)\n",
    "\n",
    "# Videos - zoomCover: get the URL of the cover image\n",
    "videos_df['coverImage'] = videos_df.apply(lambda row: parse_video(row['video']), axis=1)\n",
    "\n",
    "videos_df\n"
   ]
  },
  {
   "cell_type": "markdown",
   "metadata": {},
   "source": [
    "Write out the results to a CSV file. "
   ]
  },
  {
   "cell_type": "code",
   "execution_count": 14,
   "metadata": {},
   "outputs": [],
   "source": [
    "videos_df.to_json('../data/processed/videos-translated.json')\n",
    "videos_df.to_csv('../data/processed/videos-translated.csv', sep=',')\n",
    "\n",
    "videos_df[['createTime', 'textExtra_en','desc_en']].to_csv('../data/processed/hashtags-and-captions-translated.csv', sep=',')"
   ]
  },
  {
   "cell_type": "markdown",
   "metadata": {},
   "source": [
    "## Download Resources"
   ]
  },
  {
   "cell_type": "code",
   "execution_count": 82,
   "metadata": {},
   "outputs": [
    {
     "data": {
      "text/plain": [
       "0      https://p16-sign-useast2a.tiktokcdn.com/tos-us...\n",
       "1      https://p16-sign-useast2a.tiktokcdn.com/tos-us...\n",
       "2      https://p16-sign-useast2a.tiktokcdn.com/tos-us...\n",
       "3      https://p16-sign-useast2a.tiktokcdn.com/tos-us...\n",
       "4      https://p16-sign-useast2a.tiktokcdn.com/tos-us...\n",
       "                             ...                        \n",
       "219    https://p16-sign-va.tiktokcdn.com/tos-maliva-p...\n",
       "220    https://p16-sign-va.tiktokcdn.com/tos-maliva-p...\n",
       "221    https://p16-sign-va.tiktokcdn.com/tos-maliva-p...\n",
       "222    https://p16-sign-va.tiktokcdn.com/tos-maliva-p...\n",
       "223    https://p16-sign-va.tiktokcdn.com/tos-maliva-p...\n",
       "Name: coverImage, Length: 224, dtype: object"
      ]
     },
     "execution_count": 82,
     "metadata": {},
     "output_type": "execute_result"
    }
   ],
   "source": [
    "# def download_file_and_save(url: str, filepath: Path):\n",
    "#     \"\"\"Download a file from a specified URL and write its contents to a file\"\"\"\n",
    "\n",
    "#     r = _get(url=url)\n",
    "#     if r.status_code == 403:\n",
    "#         return\n",
    "#     ext = r.headers[\"Content-Type\"].split(\"/\")[-1]\n",
    "#     path_with_ext = filepath.with_suffix(f\".{ext}\")\n",
    "#     with open(path_with_ext, \"wb\") as f:\n",
    "#         f.write(r.content)\n",
    "#         logger.debug(f\"Saved file to: {path_with_ext}\")\n",
    "\n",
    "videos_df['coverImage']\n",
    "\n",
    "# get the video Duration\n"
   ]
  },
  {
   "cell_type": "markdown",
   "metadata": {},
   "source": [
    "## Download Videos"
   ]
  },
  {
   "cell_type": "code",
   "execution_count": 13,
   "metadata": {},
   "outputs": [],
   "source": [
    "import logging\n",
    "import os\n",
    "import json\n",
    "from pathlib import Path\n",
    "from urllib.error import HTTPError\n",
    "import yt_dlp\n",
    "from yt_dlp.utils import ExtractorError, DownloadError\n",
    "from typing import List, Dict, Optional\n",
    "\n",
    "logger = logging.getLogger(__name__)\n",
    "\n",
    "def download_videos(url_to_download=None, output_dir=None):\n",
    "    if len(url_to_download) > 0:\n",
    "        print(f\"Downloading media {url_to_download}\")\n",
    "        logger.info(f\"Downloading media for hashtag {url_to_download}\")\n",
    "\n",
    "    ydl_opts = {\n",
    "        \"outtmpl\": os.path.join(output_dir, \"%(id)s.%(ext)s\"),\n",
    "        \"ignore_errors\": True,\n",
    "        \"quiet\": logger.getEffectiveLevel() > logging.DEBUG,\n",
    "    }\n",
    "    \n",
    "    with yt_dlp.YoutubeDL(ydl_opts) as ydl:\n",
    "        try:\n",
    "            ydl.download([url_to_download])\n",
    "        except (HTTPError, TypeError, ExtractorError, DownloadError) as e:\n",
    "            logger.warning(\n",
    "                f\"Encountered error {e} when attempting to download url: {url_to_download}\"\n",
    "            )\n",
    "\n",
    "def get_video_list(videos_dir):\n",
    "    already_downloaded_ids = set(\n",
    "        file.split(\".\")[0].split(\"_\")[0] for file in os.listdir(videos_dir)\n",
    "    )\n",
    "    video_df = pd.json_normalize(videos_df['video'])\n",
    "    return video_df[~video_df['id'].isin(already_downloaded_ids)]\n",
    " \n",
    "new_videos = get_video_list(videos_dir='../data/processed/videos')\n",
    "new_videos\n",
    "for video_id in new_videos['id']:\n",
    "    print(video_id)\n",
    "    user_id = '7057902765381534725'\n",
    "    url = f\"https://www.tiktok.com/@{user_id}/video/{video_id}\"\n",
    "    print(url)\n",
    "    download_videos(url_to_download=url, output_dir='../data/processed/videos')"
   ]
  },
  {
   "cell_type": "markdown",
   "metadata": {},
   "source": [
    "## Update the Videos CSV/JSON with video duration"
   ]
  },
  {
   "cell_type": "code",
   "execution_count": 115,
   "metadata": {},
   "outputs": [
    {
     "name": "stdout",
     "output_type": "stream",
     "text": [
      "Warning: unable to open video source:  ../data/processed/videos/7278386520275373000.mp4\n",
      "###### VIDEO NOT FOUND ###########\n",
      "Warning: unable to open video source:  ../data/processed/videos/7277971263958666000.mp4\n",
      "###### VIDEO NOT FOUND ###########\n",
      "Warning: unable to open video source:  ../data/processed/videos/7277491085071388000.mp4\n",
      "###### VIDEO NOT FOUND ###########\n",
      "Warning: unable to open video source:  ../data/processed/videos/7274498125660704000.mp4\n",
      "###### VIDEO NOT FOUND ###########\n",
      "Warning: unable to open video source:  ../data/processed/videos/7266312532665585000.mp4\n",
      "###### VIDEO NOT FOUND ###########\n",
      "Warning: unable to open video source:  ../data/processed/videos/7265735771271728000.mp4\n",
      "###### VIDEO NOT FOUND ###########\n",
      "Warning: unable to open video source:  ../data/processed/videos/7265621447920422000.mp4\n",
      "###### VIDEO NOT FOUND ###########\n",
      "Warning: unable to open video source:  ../data/processed/videos/7265415410848239000.mp4\n",
      "###### VIDEO NOT FOUND ###########\n",
      "Warning: unable to open video source:  ../data/processed/videos/7262671603471797000.mp4\n",
      "###### VIDEO NOT FOUND ###########\n",
      "Warning: unable to open video source:  ../data/processed/videos/7261648290305822000.mp4\n",
      "###### VIDEO NOT FOUND ###########\n",
      "Warning: unable to open video source:  ../data/processed/videos/7261188519618448000.mp4\n",
      "###### VIDEO NOT FOUND ###########\n",
      "Warning: unable to open video source:  ../data/processed/videos/7260633128325090000.mp4\n",
      "###### VIDEO NOT FOUND ###########\n",
      "Warning: unable to open video source:  ../data/processed/videos/7260133930643361000.mp4\n",
      "###### VIDEO NOT FOUND ###########\n",
      "Warning: unable to open video source:  ../data/processed/videos/7259020896466243000.mp4\n",
      "###### VIDEO NOT FOUND ###########\n",
      "Warning: unable to open video source:  ../data/processed/videos/7257581884450917000.mp4\n",
      "###### VIDEO NOT FOUND ###########\n",
      "Warning: unable to open video source:  ../data/processed/videos/7257145557309738000.mp4\n",
      "###### VIDEO NOT FOUND ###########\n",
      "Warning: unable to open video source:  ../data/processed/videos/7254490393851481000.mp4\n",
      "###### VIDEO NOT FOUND ###########\n",
      "Warning: unable to open video source:  ../data/processed/videos/7251672977257942000.mp4\n",
      "###### VIDEO NOT FOUND ###########\n",
      "Warning: unable to open video source:  ../data/processed/videos/7250049940255182000.mp4\n",
      "###### VIDEO NOT FOUND ###########\n",
      "Warning: unable to open video source:  ../data/processed/videos/7249053260105944000.mp4\n",
      "###### VIDEO NOT FOUND ###########\n",
      "Warning: unable to open video source:  ../data/processed/videos/7247501157361372000.mp4\n",
      "###### VIDEO NOT FOUND ###########\n",
      "Warning: unable to open video source:  ../data/processed/videos/7247012477228076000.mp4\n",
      "###### VIDEO NOT FOUND ###########\n",
      "Warning: unable to open video source:  ../data/processed/videos/7244545854739172000.mp4\n",
      "###### VIDEO NOT FOUND ###########\n",
      "Warning: unable to open video source:  ../data/processed/videos/7243836094456827000.mp4\n",
      "###### VIDEO NOT FOUND ###########\n",
      "Warning: unable to open video source:  ../data/processed/videos/7243739642934201000.mp4\n",
      "###### VIDEO NOT FOUND ###########\n",
      "Warning: unable to open video source:  ../data/processed/videos/7241634208106515000.mp4\n",
      "###### VIDEO NOT FOUND ###########\n",
      "Warning: unable to open video source:  ../data/processed/videos/7240155848205454000.mp4\n",
      "###### VIDEO NOT FOUND ###########\n",
      "Warning: unable to open video source:  ../data/processed/videos/7239724965312941000.mp4\n",
      "###### VIDEO NOT FOUND ###########\n",
      "Warning: unable to open video source:  ../data/processed/videos/7238958663094865000.mp4\n",
      "###### VIDEO NOT FOUND ###########\n",
      "Warning: unable to open video source:  ../data/processed/videos/7238646546152082000.mp4\n",
      "###### VIDEO NOT FOUND ###########\n",
      "Warning: unable to open video source:  ../data/processed/videos/7237568877436177000.mp4\n",
      "###### VIDEO NOT FOUND ###########\n",
      "Warning: unable to open video source:  ../data/processed/videos/7235728376848272000.mp4\n",
      "###### VIDEO NOT FOUND ###########\n",
      "Warning: unable to open video source:  ../data/processed/videos/7235576250306203000.mp4\n",
      "###### VIDEO NOT FOUND ###########\n",
      "Warning: unable to open video source:  ../data/processed/videos/7234480028908555000.mp4\n",
      "###### VIDEO NOT FOUND ###########\n",
      "Warning: unable to open video source:  ../data/processed/videos/7234091904151932000.mp4\n",
      "###### VIDEO NOT FOUND ###########\n",
      "Warning: unable to open video source:  ../data/processed/videos/7233290952285244000.mp4\n",
      "###### VIDEO NOT FOUND ###########\n",
      "Warning: unable to open video source:  ../data/processed/videos/7232366148258418000.mp4\n",
      "###### VIDEO NOT FOUND ###########\n",
      "Warning: unable to open video source:  ../data/processed/videos/7231809083169328000.mp4\n",
      "###### VIDEO NOT FOUND ###########\n",
      "Warning: unable to open video source:  ../data/processed/videos/7231465075389795000.mp4\n",
      "###### VIDEO NOT FOUND ###########\n",
      "Warning: unable to open video source:  ../data/processed/videos/7228211560240467000.mp4\n",
      "###### VIDEO NOT FOUND ###########\n",
      "Warning: unable to open video source:  ../data/processed/videos/7227372741660282000.mp4\n",
      "###### VIDEO NOT FOUND ###########\n",
      "Warning: unable to open video source:  ../data/processed/videos/7226821746425466000.mp4\n",
      "###### VIDEO NOT FOUND ###########\n",
      "Warning: unable to open video source:  ../data/processed/videos/7223471702020247000.mp4\n",
      "###### VIDEO NOT FOUND ###########\n",
      "Warning: unable to open video source:  ../data/processed/videos/7222372308235603000.mp4\n",
      "###### VIDEO NOT FOUND ###########\n",
      "Warning: unable to open video source:  ../data/processed/videos/7222341088596610000.mp4\n",
      "###### VIDEO NOT FOUND ###########\n",
      "Warning: unable to open video source:  ../data/processed/videos/7221262230988262000.mp4\n",
      "###### VIDEO NOT FOUND ###########\n",
      "Warning: unable to open video source:  ../data/processed/videos/7221065295304117000.mp4\n",
      "###### VIDEO NOT FOUND ###########\n",
      "Warning: unable to open video source:  ../data/processed/videos/7219014997781925000.mp4\n",
      "###### VIDEO NOT FOUND ###########\n",
      "Warning: unable to open video source:  ../data/processed/videos/7217889363739315000.mp4\n",
      "###### VIDEO NOT FOUND ###########\n",
      "Warning: unable to open video source:  ../data/processed/videos/7216786331005930000.mp4\n",
      "###### VIDEO NOT FOUND ###########\n",
      "Warning: unable to open video source:  ../data/processed/videos/7216766115110735000.mp4\n",
      "###### VIDEO NOT FOUND ###########\n",
      "Warning: unable to open video source:  ../data/processed/videos/7215644500771818000.mp4\n",
      "###### VIDEO NOT FOUND ###########\n",
      "Warning: unable to open video source:  ../data/processed/videos/7215590061742591000.mp4\n",
      "###### VIDEO NOT FOUND ###########\n",
      "Warning: unable to open video source:  ../data/processed/videos/7211503013234527000.mp4\n",
      "###### VIDEO NOT FOUND ###########\n",
      "Warning: unable to open video source:  ../data/processed/videos/7211143983282589000.mp4\n",
      "###### VIDEO NOT FOUND ###########\n",
      "Warning: unable to open video source:  ../data/processed/videos/7210879251527077000.mp4\n",
      "###### VIDEO NOT FOUND ###########\n",
      "Warning: unable to open video source:  ../data/processed/videos/7210840206986071000.mp4\n",
      "###### VIDEO NOT FOUND ###########\n",
      "Warning: unable to open video source:  ../data/processed/videos/7208626665683996000.mp4\n",
      "###### VIDEO NOT FOUND ###########\n",
      "Warning: unable to open video source:  ../data/processed/videos/7207816601217945000.mp4\n",
      "###### VIDEO NOT FOUND ###########\n",
      "Warning: unable to open video source:  ../data/processed/videos/7206775485903261000.mp4\n",
      "###### VIDEO NOT FOUND ###########\n",
      "Warning: unable to open video source:  ../data/processed/videos/7206202741440450000.mp4\n",
      "###### VIDEO NOT FOUND ###########\n",
      "Warning: unable to open video source:  ../data/processed/videos/7206044310301593000.mp4\n",
      "###### VIDEO NOT FOUND ###########\n",
      "Warning: unable to open video source:  ../data/processed/videos/7205624570915737000.mp4\n",
      "###### VIDEO NOT FOUND ###########\n",
      "Warning: unable to open video source:  ../data/processed/videos/7205257187130674000.mp4\n",
      "###### VIDEO NOT FOUND ###########\n",
      "Warning: unable to open video source:  ../data/processed/videos/7204931077029268000.mp4\n",
      "###### VIDEO NOT FOUND ###########\n",
      "Warning: unable to open video source:  ../data/processed/videos/7202261483860807000.mp4\n",
      "###### VIDEO NOT FOUND ###########\n",
      "Warning: unable to open video source:  ../data/processed/videos/7201936585745632000.mp4\n",
      "###### VIDEO NOT FOUND ###########\n",
      "Warning: unable to open video source:  ../data/processed/videos/7198603797227245000.mp4\n",
      "###### VIDEO NOT FOUND ###########\n",
      "Warning: unable to open video source:  ../data/processed/videos/7198571880997981000.mp4\n",
      "###### VIDEO NOT FOUND ###########\n",
      "Warning: unable to open video source:  ../data/processed/videos/7198105090119568000.mp4\n",
      "###### VIDEO NOT FOUND ###########\n",
      "Warning: unable to open video source:  ../data/processed/videos/7194909784926064000.mp4\n",
      "###### VIDEO NOT FOUND ###########\n",
      "Warning: unable to open video source:  ../data/processed/videos/7189709267392318000.mp4\n",
      "###### VIDEO NOT FOUND ###########\n",
      "Warning: unable to open video source:  ../data/processed/videos/7189296202347744000.mp4\n",
      "###### VIDEO NOT FOUND ###########\n",
      "Warning: unable to open video source:  ../data/processed/videos/7189243457179880000.mp4\n",
      "###### VIDEO NOT FOUND ###########\n",
      "Warning: unable to open video source:  ../data/processed/videos/7188187795985272000.mp4\n",
      "###### VIDEO NOT FOUND ###########\n",
      "Warning: unable to open video source:  ../data/processed/videos/7187877327806762000.mp4\n",
      "###### VIDEO NOT FOUND ###########\n",
      "Warning: unable to open video source:  ../data/processed/videos/7187514172463255000.mp4\n",
      "###### VIDEO NOT FOUND ###########\n",
      "Warning: unable to open video source:  ../data/processed/videos/7187471251794005000.mp4\n",
      "###### VIDEO NOT FOUND ###########\n",
      "Warning: unable to open video source:  ../data/processed/videos/7184340534251621000.mp4\n",
      "###### VIDEO NOT FOUND ###########\n",
      "Warning: unable to open video source:  ../data/processed/videos/7183669325126012000.mp4\n",
      "###### VIDEO NOT FOUND ###########\n",
      "Warning: unable to open video source:  ../data/processed/videos/7182913772271521000.mp4\n",
      "###### VIDEO NOT FOUND ###########\n",
      "Warning: unable to open video source:  ../data/processed/videos/7182877365171801000.mp4\n",
      "###### VIDEO NOT FOUND ###########\n",
      "Warning: unable to open video source:  ../data/processed/videos/7180372649367916000.mp4\n",
      "###### VIDEO NOT FOUND ###########\n",
      "Warning: unable to open video source:  ../data/processed/videos/7180307547616742000.mp4\n",
      "###### VIDEO NOT FOUND ###########\n",
      "Warning: unable to open video source:  ../data/processed/videos/7178948277834993000.mp4\n",
      "###### VIDEO NOT FOUND ###########\n",
      "Warning: unable to open video source:  ../data/processed/videos/7178782554814811000.mp4\n",
      "###### VIDEO NOT FOUND ###########\n",
      "Warning: unable to open video source:  ../data/processed/videos/7178163802578456000.mp4\n",
      "###### VIDEO NOT FOUND ###########\n",
      "Warning: unable to open video source:  ../data/processed/videos/7177049020412513000.mp4\n",
      "###### VIDEO NOT FOUND ###########\n",
      "Warning: unable to open video source:  ../data/processed/videos/7177010908625980000.mp4\n",
      "###### VIDEO NOT FOUND ###########\n",
      "Warning: unable to open video source:  ../data/processed/videos/7176657919654579000.mp4\n",
      "###### VIDEO NOT FOUND ###########\n",
      "Warning: unable to open video source:  ../data/processed/videos/7176318412900027000.mp4\n",
      "###### VIDEO NOT FOUND ###########\n",
      "Warning: unable to open video source:  ../data/processed/videos/7175162657949994000.mp4\n",
      "###### VIDEO NOT FOUND ###########\n",
      "Warning: unable to open video source:  ../data/processed/videos/7174007223310372000.mp4\n",
      "###### VIDEO NOT FOUND ###########\n",
      "Warning: unable to open video source:  ../data/processed/videos/7173606687327161000.mp4\n",
      "###### VIDEO NOT FOUND ###########\n",
      "Warning: unable to open video source:  ../data/processed/videos/7170424345486036000.mp4\n",
      "###### VIDEO NOT FOUND ###########\n",
      "Warning: unable to open video source:  ../data/processed/videos/7168946059706764000.mp4\n",
      "###### VIDEO NOT FOUND ###########\n",
      "Warning: unable to open video source:  ../data/processed/videos/7166251050142420000.mp4\n",
      "###### VIDEO NOT FOUND ###########\n",
      "Warning: unable to open video source:  ../data/processed/videos/7164382552751394000.mp4\n",
      "###### VIDEO NOT FOUND ###########\n",
      "Warning: unable to open video source:  ../data/processed/videos/7163995254054489000.mp4\n",
      "###### VIDEO NOT FOUND ###########\n",
      "Warning: unable to open video source:  ../data/processed/videos/7162839147302997000.mp4\n",
      "###### VIDEO NOT FOUND ###########\n",
      "Warning: unable to open video source:  ../data/processed/videos/7161896989863710000.mp4\n",
      "###### VIDEO NOT FOUND ###########\n",
      "Warning: unable to open video source:  ../data/processed/videos/7161412406495694000.mp4\n",
      "###### VIDEO NOT FOUND ###########\n",
      "Warning: unable to open video source:  ../data/processed/videos/7160592391194299000.mp4\n",
      "###### VIDEO NOT FOUND ###########\n",
      "Warning: unable to open video source:  ../data/processed/videos/7158424452286402000.mp4\n",
      "###### VIDEO NOT FOUND ###########\n",
      "Warning: unable to open video source:  ../data/processed/videos/7157692146278075000.mp4\n",
      "###### VIDEO NOT FOUND ###########\n",
      "Warning: unable to open video source:  ../data/processed/videos/7157249765837786000.mp4\n",
      "###### VIDEO NOT FOUND ###########\n",
      "Warning: unable to open video source:  ../data/processed/videos/7156960255723720000.mp4\n",
      "###### VIDEO NOT FOUND ###########\n",
      "Warning: unable to open video source:  ../data/processed/videos/7156890275317632000.mp4\n",
      "###### VIDEO NOT FOUND ###########\n",
      "Warning: unable to open video source:  ../data/processed/videos/7152865526417559000.mp4\n",
      "###### VIDEO NOT FOUND ###########\n",
      "Warning: unable to open video source:  ../data/processed/videos/7148069987796766000.mp4\n",
      "###### VIDEO NOT FOUND ###########\n",
      "Warning: unable to open video source:  ../data/processed/videos/7147263913200045000.mp4\n",
      "###### VIDEO NOT FOUND ###########\n",
      "Warning: unable to open video source:  ../data/processed/videos/7147206448232074000.mp4\n",
      "###### VIDEO NOT FOUND ###########\n",
      "Warning: unable to open video source:  ../data/processed/videos/7146691344281521000.mp4\n",
      "###### VIDEO NOT FOUND ###########\n",
      "Warning: unable to open video source:  ../data/processed/videos/7146670520505847000.mp4\n",
      "###### VIDEO NOT FOUND ###########\n",
      "Warning: unable to open video source:  ../data/processed/videos/7146642608033435000.mp4\n",
      "###### VIDEO NOT FOUND ###########\n",
      "Warning: unable to open video source:  ../data/processed/videos/7146526475439640000.mp4\n",
      "###### VIDEO NOT FOUND ###########\n",
      "Warning: unable to open video source:  ../data/processed/videos/7146272946183605000.mp4\n",
      "###### VIDEO NOT FOUND ###########\n",
      "Warning: unable to open video source:  ../data/processed/videos/7146265492234292000.mp4\n",
      "###### VIDEO NOT FOUND ###########\n",
      "Warning: unable to open video source:  ../data/processed/videos/7145877683740659000.mp4\n",
      "###### VIDEO NOT FOUND ###########\n",
      "Warning: unable to open video source:  ../data/processed/videos/7145843103075782000.mp4\n",
      "###### VIDEO NOT FOUND ###########\n",
      "Warning: unable to open video source:  ../data/processed/videos/7145754357013777000.mp4\n",
      "###### VIDEO NOT FOUND ###########\n",
      "Warning: unable to open video source:  ../data/processed/videos/7145435366529551000.mp4\n",
      "###### VIDEO NOT FOUND ###########\n",
      "Warning: unable to open video source:  ../data/processed/videos/7145360998407425000.mp4\n",
      "###### VIDEO NOT FOUND ###########\n",
      "Warning: unable to open video source:  ../data/processed/videos/7144986246215929000.mp4\n",
      "###### VIDEO NOT FOUND ###########\n",
      "Warning: unable to open video source:  ../data/processed/videos/7144769480244071000.mp4\n",
      "###### VIDEO NOT FOUND ###########\n",
      "Warning: unable to open video source:  ../data/processed/videos/7144425341279342000.mp4\n",
      "###### VIDEO NOT FOUND ###########\n",
      "Warning: unable to open video source:  ../data/processed/videos/7144420910336953000.mp4\n",
      "###### VIDEO NOT FOUND ###########\n",
      "Warning: unable to open video source:  ../data/processed/videos/7144338594927300000.mp4\n",
      "###### VIDEO NOT FOUND ###########\n",
      "Warning: unable to open video source:  ../data/processed/videos/7144295242039037000.mp4\n",
      "###### VIDEO NOT FOUND ###########\n",
      "Warning: unable to open video source:  ../data/processed/videos/7144246488879713000.mp4\n",
      "###### VIDEO NOT FOUND ###########\n",
      "Warning: unable to open video source:  ../data/processed/videos/7144023384853171000.mp4\n",
      "###### VIDEO NOT FOUND ###########\n",
      "Warning: unable to open video source:  ../data/processed/videos/7143551183792164000.mp4\n",
      "###### VIDEO NOT FOUND ###########\n",
      "Warning: unable to open video source:  ../data/processed/videos/7143285004917935000.mp4\n",
      "###### VIDEO NOT FOUND ###########\n",
      "Warning: unable to open video source:  ../data/processed/videos/7143251423474503000.mp4\n",
      "###### VIDEO NOT FOUND ###########\n",
      "Warning: unable to open video source:  ../data/processed/videos/7143225656137076000.mp4\n",
      "###### VIDEO NOT FOUND ###########\n",
      "Warning: unable to open video source:  ../data/processed/videos/7143163842665663000.mp4\n",
      "###### VIDEO NOT FOUND ###########\n",
      "Warning: unable to open video source:  ../data/processed/videos/7142930878216359000.mp4\n",
      "###### VIDEO NOT FOUND ###########\n",
      "Warning: unable to open video source:  ../data/processed/videos/7142918656551423000.mp4\n",
      "###### VIDEO NOT FOUND ###########\n",
      "Warning: unable to open video source:  ../data/processed/videos/7142259434000059000.mp4\n",
      "###### VIDEO NOT FOUND ###########\n",
      "Warning: unable to open video source:  ../data/processed/videos/7142030812693810000.mp4\n",
      "###### VIDEO NOT FOUND ###########\n",
      "Warning: unable to open video source:  ../data/processed/videos/7141803151136411000.mp4\n",
      "###### VIDEO NOT FOUND ###########\n",
      "Warning: unable to open video source:  ../data/processed/videos/7141788005320150000.mp4\n",
      "###### VIDEO NOT FOUND ###########\n",
      "Warning: unable to open video source:  ../data/processed/videos/7141381807093698000.mp4\n",
      "###### VIDEO NOT FOUND ###########\n",
      "Warning: unable to open video source:  ../data/processed/videos/7141284558791577000.mp4\n",
      "###### VIDEO NOT FOUND ###########\n",
      "Warning: unable to open video source:  ../data/processed/videos/7140955700699696000.mp4\n",
      "###### VIDEO NOT FOUND ###########\n",
      "Warning: unable to open video source:  ../data/processed/videos/7140683479053831000.mp4\n",
      "###### VIDEO NOT FOUND ###########\n",
      "Warning: unable to open video source:  ../data/processed/videos/7140316758455455000.mp4\n",
      "###### VIDEO NOT FOUND ###########\n",
      "Warning: unable to open video source:  ../data/processed/videos/7139623564637900000.mp4\n",
      "###### VIDEO NOT FOUND ###########\n",
      "Warning: unable to open video source:  ../data/processed/videos/7139418655879745000.mp4\n",
      "###### VIDEO NOT FOUND ###########\n",
      "Warning: unable to open video source:  ../data/processed/videos/7138477051790495000.mp4\n",
      "###### VIDEO NOT FOUND ###########\n",
      "Warning: unable to open video source:  ../data/processed/videos/7138461939923029000.mp4\n",
      "###### VIDEO NOT FOUND ###########\n",
      "Warning: unable to open video source:  ../data/processed/videos/7138364518136122000.mp4\n",
      "###### VIDEO NOT FOUND ###########\n",
      "Warning: unable to open video source:  ../data/processed/videos/7138307731299028000.mp4\n",
      "###### VIDEO NOT FOUND ###########\n",
      "Warning: unable to open video source:  ../data/processed/videos/7138094156332715000.mp4\n",
      "###### VIDEO NOT FOUND ###########\n",
      "Warning: unable to open video source:  ../data/processed/videos/7137965836253351000.mp4\n",
      "###### VIDEO NOT FOUND ###########\n",
      "Warning: unable to open video source:  ../data/processed/videos/7137738553127079000.mp4\n",
      "###### VIDEO NOT FOUND ###########\n",
      "Warning: unable to open video source:  ../data/processed/videos/7137723121796156000.mp4\n",
      "###### VIDEO NOT FOUND ###########\n",
      "Warning: unable to open video source:  ../data/processed/videos/7137699360111939000.mp4\n",
      "###### VIDEO NOT FOUND ###########\n",
      "Warning: unable to open video source:  ../data/processed/videos/7137577046552727000.mp4\n",
      "###### VIDEO NOT FOUND ###########\n",
      "Warning: unable to open video source:  ../data/processed/videos/7137367409882582000.mp4\n",
      "###### VIDEO NOT FOUND ###########\n",
      "Warning: unable to open video source:  ../data/processed/videos/7137360677756325000.mp4\n",
      "###### VIDEO NOT FOUND ###########\n",
      "Warning: unable to open video source:  ../data/processed/videos/7137343861130677000.mp4\n",
      "###### VIDEO NOT FOUND ###########\n",
      "Warning: unable to open video source:  ../data/processed/videos/7137218493681896000.mp4\n",
      "###### VIDEO NOT FOUND ###########\n",
      "Warning: unable to open video source:  ../data/processed/videos/7136915130884935000.mp4\n",
      "###### VIDEO NOT FOUND ###########\n",
      "Warning: unable to open video source:  ../data/processed/videos/7136844388176530000.mp4\n",
      "###### VIDEO NOT FOUND ###########\n",
      "Warning: unable to open video source:  ../data/processed/videos/7136548859093863000.mp4\n",
      "###### VIDEO NOT FOUND ###########\n",
      "Warning: unable to open video source:  ../data/processed/videos/7136469259756031000.mp4\n",
      "###### VIDEO NOT FOUND ###########\n",
      "Warning: unable to open video source:  ../data/processed/videos/7136459590434147000.mp4\n",
      "###### VIDEO NOT FOUND ###########\n",
      "Warning: unable to open video source:  ../data/processed/videos/7136424309131578000.mp4\n",
      "###### VIDEO NOT FOUND ###########\n",
      "Warning: unable to open video source:  ../data/processed/videos/7136118025811480000.mp4\n",
      "###### VIDEO NOT FOUND ###########\n",
      "Warning: unable to open video source:  ../data/processed/videos/7135363514704727000.mp4\n",
      "###### VIDEO NOT FOUND ###########\n",
      "Warning: unable to open video source:  ../data/processed/videos/7135145359629635000.mp4\n",
      "###### VIDEO NOT FOUND ###########\n",
      "Warning: unable to open video source:  ../data/processed/videos/7134693026680655000.mp4\n",
      "###### VIDEO NOT FOUND ###########\n",
      "Warning: unable to open video source:  ../data/processed/videos/7134593713753427000.mp4\n",
      "###### VIDEO NOT FOUND ###########\n",
      "Warning: unable to open video source:  ../data/processed/videos/7134227016500497000.mp4\n",
      "###### VIDEO NOT FOUND ###########\n",
      "Warning: unable to open video source:  ../data/processed/videos/7133867159503097000.mp4\n",
      "###### VIDEO NOT FOUND ###########\n",
      "Warning: unable to open video source:  ../data/processed/videos/7133129347828944000.mp4\n",
      "###### VIDEO NOT FOUND ###########\n",
      "Warning: unable to open video source:  ../data/processed/videos/7132830393153162000.mp4\n",
      "###### VIDEO NOT FOUND ###########\n",
      "Warning: unable to open video source:  ../data/processed/videos/7132746085545561000.mp4\n",
      "###### VIDEO NOT FOUND ###########\n",
      "Warning: unable to open video source:  ../data/processed/videos/7132368164540730000.mp4\n",
      "###### VIDEO NOT FOUND ###########\n",
      "Warning: unable to open video source:  ../data/processed/videos/7130543050006269000.mp4\n",
      "###### VIDEO NOT FOUND ###########\n",
      "Warning: unable to open video source:  ../data/processed/videos/7128429765639343000.mp4\n",
      "###### VIDEO NOT FOUND ###########\n",
      "Warning: unable to open video source:  ../data/processed/videos/7128321428012764000.mp4\n",
      "###### VIDEO NOT FOUND ###########\n",
      "Warning: unable to open video source:  ../data/processed/videos/7123181095293701000.mp4\n",
      "###### VIDEO NOT FOUND ###########\n",
      "Warning: unable to open video source:  ../data/processed/videos/7122815617337495000.mp4\n",
      "###### VIDEO NOT FOUND ###########\n",
      "Warning: unable to open video source:  ../data/processed/videos/7116559793489268000.mp4\n",
      "###### VIDEO NOT FOUND ###########\n",
      "Warning: unable to open video source:  ../data/processed/videos/7115419591593037000.mp4\n",
      "###### VIDEO NOT FOUND ###########\n",
      "Warning: unable to open video source:  ../data/processed/videos/7113843601427140000.mp4\n",
      "###### VIDEO NOT FOUND ###########\n",
      "Warning: unable to open video source:  ../data/processed/videos/7111970905525341000.mp4\n",
      "###### VIDEO NOT FOUND ###########\n",
      "Warning: unable to open video source:  ../data/processed/videos/7109740680011894000.mp4\n",
      "###### VIDEO NOT FOUND ###########\n",
      "Warning: unable to open video source:  ../data/processed/videos/7109083244611587000.mp4\n",
      "###### VIDEO NOT FOUND ###########\n",
      "Warning: unable to open video source:  ../data/processed/videos/7107893116505492000.mp4\n",
      "###### VIDEO NOT FOUND ###########\n",
      "Warning: unable to open video source:  ../data/processed/videos/7106933742027001000.mp4\n",
      "###### VIDEO NOT FOUND ###########\n",
      "Warning: unable to open video source:  ../data/processed/videos/7106170331500400000.mp4\n",
      "###### VIDEO NOT FOUND ###########\n",
      "Warning: unable to open video source:  ../data/processed/videos/7104580217892507000.mp4\n",
      "###### VIDEO NOT FOUND ###########\n",
      "Warning: unable to open video source:  ../data/processed/videos/7104226960422800000.mp4\n",
      "###### VIDEO NOT FOUND ###########\n",
      "Warning: unable to open video source:  ../data/processed/videos/7094669289294220000.mp4\n",
      "###### VIDEO NOT FOUND ###########\n",
      "Warning: unable to open video source:  ../data/processed/videos/7092832806765612000.mp4\n",
      "###### VIDEO NOT FOUND ###########\n",
      "Warning: unable to open video source:  ../data/processed/videos/7092798207511612000.mp4\n",
      "###### VIDEO NOT FOUND ###########\n",
      "Warning: unable to open video source:  ../data/processed/videos/7092750010739215000.mp4\n",
      "###### VIDEO NOT FOUND ###########\n",
      "Warning: unable to open video source:  ../data/processed/videos/7092732219587874000.mp4\n",
      "###### VIDEO NOT FOUND ###########\n",
      "Warning: unable to open video source:  ../data/processed/videos/7092396552064454000.mp4\n",
      "###### VIDEO NOT FOUND ###########\n",
      "Warning: unable to open video source:  ../data/processed/videos/7092292016104607000.mp4\n",
      "###### VIDEO NOT FOUND ###########\n",
      "Warning: unable to open video source:  ../data/processed/videos/7092109732386737000.mp4\n",
      "###### VIDEO NOT FOUND ###########\n",
      "Warning: unable to open video source:  ../data/processed/videos/7092079134247046000.mp4\n",
      "###### VIDEO NOT FOUND ###########\n",
      "Warning: unable to open video source:  ../data/processed/videos/7086078703641333000.mp4\n",
      "###### VIDEO NOT FOUND ###########\n",
      "Warning: unable to open video source:  ../data/processed/videos/7081255304721075000.mp4\n",
      "###### VIDEO NOT FOUND ###########\n",
      "Warning: unable to open video source:  ../data/processed/videos/7080511603812109000.mp4\n",
      "###### VIDEO NOT FOUND ###########\n",
      "Warning: unable to open video source:  ../data/processed/videos/7078649936128003000.mp4\n",
      "###### VIDEO NOT FOUND ###########\n",
      "Warning: unable to open video source:  ../data/processed/videos/7078014348152638000.mp4\n",
      "###### VIDEO NOT FOUND ###########\n",
      "Warning: unable to open video source:  ../data/processed/videos/7074535704902077000.mp4\n",
      "###### VIDEO NOT FOUND ###########\n",
      "Warning: unable to open video source:  ../data/processed/videos/7074130814199516000.mp4\n",
      "###### VIDEO NOT FOUND ###########\n",
      "Warning: unable to open video source:  ../data/processed/videos/7073752853965262000.mp4\n",
      "###### VIDEO NOT FOUND ###########\n",
      "Warning: unable to open video source:  ../data/processed/videos/7070475423716543000.mp4\n",
      "###### VIDEO NOT FOUND ###########\n",
      "Warning: unable to open video source:  ../data/processed/videos/7070414977118588000.mp4\n",
      "###### VIDEO NOT FOUND ###########\n",
      "Warning: unable to open video source:  ../data/processed/videos/7070073900100521000.mp4\n",
      "###### VIDEO NOT FOUND ###########\n",
      "Warning: unable to open video source:  ../data/processed/videos/7069423165268626000.mp4\n",
      "###### VIDEO NOT FOUND ###########\n",
      "Warning: unable to open video source:  ../data/processed/videos/7067893974035402000.mp4\n",
      "###### VIDEO NOT FOUND ###########\n",
      "Warning: unable to open video source:  ../data/processed/videos/7067167670214331000.mp4\n",
      "###### VIDEO NOT FOUND ###########\n",
      "Warning: unable to open video source:  ../data/processed/videos/7066845965105319000.mp4\n",
      "###### VIDEO NOT FOUND ###########\n",
      "Warning: unable to open video source:  ../data/processed/videos/7066095800291577000.mp4\n",
      "###### VIDEO NOT FOUND ###########\n",
      "Warning: unable to open video source:  ../data/processed/videos/7063465536109235000.mp4\n",
      "###### VIDEO NOT FOUND ###########\n",
      "Warning: unable to open video source:  ../data/processed/videos/7063159758185827000.mp4\n",
      "###### VIDEO NOT FOUND ###########\n",
      "Warning: unable to open video source:  ../data/processed/videos/7060519835788250000.mp4\n",
      "###### VIDEO NOT FOUND ###########\n"
     ]
    },
    {
     "name": "stderr",
     "output_type": "stream",
     "text": [
      "OpenCV: Couldn't read video stream from file \"../data/processed/videos/7278386520275373000.mp4\"\n",
      "[ERROR:0@3832.463] global cap.cpp:166 open VIDEOIO(CV_IMAGES): raised OpenCV exception:\n",
      "\n",
      "OpenCV(4.8.0) /Users/xperience/GHA-OpenCV-Python/_work/opencv-python/opencv-python/opencv/modules/videoio/src/cap_images.cpp:267: error: (-215:Assertion failed) number < max_number in function 'icvExtractPattern'\n",
      "\n",
      "\n",
      "OpenCV: Couldn't read video stream from file \"../data/processed/videos/7277971263958666000.mp4\"\n",
      "[ERROR:0@3832.463] global cap.cpp:166 open VIDEOIO(CV_IMAGES): raised OpenCV exception:\n",
      "\n",
      "OpenCV(4.8.0) /Users/xperience/GHA-OpenCV-Python/_work/opencv-python/opencv-python/opencv/modules/videoio/src/cap_images.cpp:267: error: (-215:Assertion failed) number < max_number in function 'icvExtractPattern'\n",
      "\n",
      "\n",
      "OpenCV: Couldn't read video stream from file \"../data/processed/videos/7277491085071388000.mp4\"\n",
      "[ERROR:0@3832.464] global cap.cpp:166 open VIDEOIO(CV_IMAGES): raised OpenCV exception:\n",
      "\n",
      "OpenCV(4.8.0) /Users/xperience/GHA-OpenCV-Python/_work/opencv-python/opencv-python/opencv/modules/videoio/src/cap_images.cpp:267: error: (-215:Assertion failed) number < max_number in function 'icvExtractPattern'\n",
      "\n",
      "\n",
      "OpenCV: Couldn't read video stream from file \"../data/processed/videos/7274498125660704000.mp4\"\n",
      "[ERROR:0@3832.464] global cap.cpp:166 open VIDEOIO(CV_IMAGES): raised OpenCV exception:\n",
      "\n",
      "OpenCV(4.8.0) /Users/xperience/GHA-OpenCV-Python/_work/opencv-python/opencv-python/opencv/modules/videoio/src/cap_images.cpp:267: error: (-215:Assertion failed) number < max_number in function 'icvExtractPattern'\n",
      "\n",
      "\n",
      "OpenCV: Couldn't read video stream from file \"../data/processed/videos/7266312532665585000.mp4\"\n",
      "[ERROR:0@3832.465] global cap.cpp:166 open VIDEOIO(CV_IMAGES): raised OpenCV exception:\n",
      "\n",
      "OpenCV(4.8.0) /Users/xperience/GHA-OpenCV-Python/_work/opencv-python/opencv-python/opencv/modules/videoio/src/cap_images.cpp:267: error: (-215:Assertion failed) number < max_number in function 'icvExtractPattern'\n",
      "\n",
      "\n",
      "OpenCV: Couldn't read video stream from file \"../data/processed/videos/7265735771271728000.mp4\"\n",
      "[ERROR:0@3832.465] global cap.cpp:166 open VIDEOIO(CV_IMAGES): raised OpenCV exception:\n",
      "\n",
      "OpenCV(4.8.0) /Users/xperience/GHA-OpenCV-Python/_work/opencv-python/opencv-python/opencv/modules/videoio/src/cap_images.cpp:267: error: (-215:Assertion failed) number < max_number in function 'icvExtractPattern'\n",
      "\n",
      "\n",
      "OpenCV: Couldn't read video stream from file \"../data/processed/videos/7265621447920422000.mp4\"\n",
      "[ERROR:0@3832.465] global cap.cpp:166 open VIDEOIO(CV_IMAGES): raised OpenCV exception:\n",
      "\n",
      "OpenCV(4.8.0) /Users/xperience/GHA-OpenCV-Python/_work/opencv-python/opencv-python/opencv/modules/videoio/src/cap_images.cpp:267: error: (-215:Assertion failed) number < max_number in function 'icvExtractPattern'\n",
      "\n",
      "\n",
      "OpenCV: Couldn't read video stream from file \"../data/processed/videos/7265415410848239000.mp4\"\n",
      "[ERROR:0@3832.466] global cap.cpp:166 open VIDEOIO(CV_IMAGES): raised OpenCV exception:\n",
      "\n",
      "OpenCV(4.8.0) /Users/xperience/GHA-OpenCV-Python/_work/opencv-python/opencv-python/opencv/modules/videoio/src/cap_images.cpp:267: error: (-215:Assertion failed) number < max_number in function 'icvExtractPattern'\n",
      "\n",
      "\n",
      "OpenCV: Couldn't read video stream from file \"../data/processed/videos/7262671603471797000.mp4\"\n",
      "[ERROR:0@3832.466] global cap.cpp:166 open VIDEOIO(CV_IMAGES): raised OpenCV exception:\n",
      "\n",
      "OpenCV(4.8.0) /Users/xperience/GHA-OpenCV-Python/_work/opencv-python/opencv-python/opencv/modules/videoio/src/cap_images.cpp:267: error: (-215:Assertion failed) number < max_number in function 'icvExtractPattern'\n",
      "\n",
      "\n",
      "OpenCV: Couldn't read video stream from file \"../data/processed/videos/7261648290305822000.mp4\"\n",
      "[ERROR:0@3832.466] global cap.cpp:166 open VIDEOIO(CV_IMAGES): raised OpenCV exception:\n",
      "\n",
      "OpenCV(4.8.0) /Users/xperience/GHA-OpenCV-Python/_work/opencv-python/opencv-python/opencv/modules/videoio/src/cap_images.cpp:267: error: (-215:Assertion failed) number < max_number in function 'icvExtractPattern'\n",
      "\n",
      "\n",
      "OpenCV: Couldn't read video stream from file \"../data/processed/videos/7261188519618448000.mp4\"\n",
      "[ERROR:0@3832.467] global cap.cpp:166 open VIDEOIO(CV_IMAGES): raised OpenCV exception:\n",
      "\n",
      "OpenCV(4.8.0) /Users/xperience/GHA-OpenCV-Python/_work/opencv-python/opencv-python/opencv/modules/videoio/src/cap_images.cpp:267: error: (-215:Assertion failed) number < max_number in function 'icvExtractPattern'\n",
      "\n",
      "\n",
      "OpenCV: Couldn't read video stream from file \"../data/processed/videos/7260633128325090000.mp4\"\n",
      "[ERROR:0@3832.467] global cap.cpp:166 open VIDEOIO(CV_IMAGES): raised OpenCV exception:\n",
      "\n",
      "OpenCV(4.8.0) /Users/xperience/GHA-OpenCV-Python/_work/opencv-python/opencv-python/opencv/modules/videoio/src/cap_images.cpp:267: error: (-215:Assertion failed) number < max_number in function 'icvExtractPattern'\n",
      "\n",
      "\n",
      "OpenCV: Couldn't read video stream from file \"../data/processed/videos/7260133930643361000.mp4\"\n",
      "[ERROR:0@3832.467] global cap.cpp:166 open VIDEOIO(CV_IMAGES): raised OpenCV exception:\n",
      "\n",
      "OpenCV(4.8.0) /Users/xperience/GHA-OpenCV-Python/_work/opencv-python/opencv-python/opencv/modules/videoio/src/cap_images.cpp:267: error: (-215:Assertion failed) number < max_number in function 'icvExtractPattern'\n",
      "\n",
      "\n",
      "OpenCV: Couldn't read video stream from file \"../data/processed/videos/7259020896466243000.mp4\"\n",
      "[ERROR:0@3832.467] global cap.cpp:166 open VIDEOIO(CV_IMAGES): raised OpenCV exception:\n",
      "\n",
      "OpenCV(4.8.0) /Users/xperience/GHA-OpenCV-Python/_work/opencv-python/opencv-python/opencv/modules/videoio/src/cap_images.cpp:267: error: (-215:Assertion failed) number < max_number in function 'icvExtractPattern'\n",
      "\n",
      "\n",
      "OpenCV: Couldn't read video stream from file \"../data/processed/videos/7257581884450917000.mp4\"\n",
      "[ERROR:0@3832.468] global cap.cpp:166 open VIDEOIO(CV_IMAGES): raised OpenCV exception:\n",
      "\n",
      "OpenCV(4.8.0) /Users/xperience/GHA-OpenCV-Python/_work/opencv-python/opencv-python/opencv/modules/videoio/src/cap_images.cpp:267: error: (-215:Assertion failed) number < max_number in function 'icvExtractPattern'\n",
      "\n",
      "\n",
      "OpenCV: Couldn't read video stream from file \"../data/processed/videos/7257145557309738000.mp4\"\n",
      "[ERROR:0@3832.468] global cap.cpp:166 open VIDEOIO(CV_IMAGES): raised OpenCV exception:\n",
      "\n",
      "OpenCV(4.8.0) /Users/xperience/GHA-OpenCV-Python/_work/opencv-python/opencv-python/opencv/modules/videoio/src/cap_images.cpp:267: error: (-215:Assertion failed) number < max_number in function 'icvExtractPattern'\n",
      "\n",
      "\n",
      "OpenCV: Couldn't read video stream from file \"../data/processed/videos/7254490393851481000.mp4\"\n",
      "[ERROR:0@3832.468] global cap.cpp:166 open VIDEOIO(CV_IMAGES): raised OpenCV exception:\n",
      "\n",
      "OpenCV(4.8.0) /Users/xperience/GHA-OpenCV-Python/_work/opencv-python/opencv-python/opencv/modules/videoio/src/cap_images.cpp:267: error: (-215:Assertion failed) number < max_number in function 'icvExtractPattern'\n",
      "\n",
      "\n",
      "OpenCV: Couldn't read video stream from file \"../data/processed/videos/7251672977257942000.mp4\"\n",
      "[ERROR:0@3832.469] global cap.cpp:166 open VIDEOIO(CV_IMAGES): raised OpenCV exception:\n",
      "\n",
      "OpenCV(4.8.0) /Users/xperience/GHA-OpenCV-Python/_work/opencv-python/opencv-python/opencv/modules/videoio/src/cap_images.cpp:267: error: (-215:Assertion failed) number < max_number in function 'icvExtractPattern'\n",
      "\n",
      "\n",
      "OpenCV: Couldn't read video stream from file \"../data/processed/videos/7250049940255182000.mp4\"\n",
      "[ERROR:0@3832.469] global cap.cpp:166 open VIDEOIO(CV_IMAGES): raised OpenCV exception:\n",
      "\n",
      "OpenCV(4.8.0) /Users/xperience/GHA-OpenCV-Python/_work/opencv-python/opencv-python/opencv/modules/videoio/src/cap_images.cpp:267: error: (-215:Assertion failed) number < max_number in function 'icvExtractPattern'\n",
      "\n",
      "\n",
      "OpenCV: Couldn't read video stream from file \"../data/processed/videos/7249053260105944000.mp4\"\n",
      "[ERROR:0@3832.469] global cap.cpp:166 open VIDEOIO(CV_IMAGES): raised OpenCV exception:\n",
      "\n",
      "OpenCV(4.8.0) /Users/xperience/GHA-OpenCV-Python/_work/opencv-python/opencv-python/opencv/modules/videoio/src/cap_images.cpp:267: error: (-215:Assertion failed) number < max_number in function 'icvExtractPattern'\n",
      "\n",
      "\n",
      "OpenCV: Couldn't read video stream from file \"../data/processed/videos/7247501157361372000.mp4\"\n",
      "[ERROR:0@3832.470] global cap.cpp:166 open VIDEOIO(CV_IMAGES): raised OpenCV exception:\n",
      "\n",
      "OpenCV(4.8.0) /Users/xperience/GHA-OpenCV-Python/_work/opencv-python/opencv-python/opencv/modules/videoio/src/cap_images.cpp:267: error: (-215:Assertion failed) number < max_number in function 'icvExtractPattern'\n",
      "\n",
      "\n",
      "OpenCV: Couldn't read video stream from file \"../data/processed/videos/7247012477228076000.mp4\"\n",
      "[ERROR:0@3832.470] global cap.cpp:166 open VIDEOIO(CV_IMAGES): raised OpenCV exception:\n",
      "\n",
      "OpenCV(4.8.0) /Users/xperience/GHA-OpenCV-Python/_work/opencv-python/opencv-python/opencv/modules/videoio/src/cap_images.cpp:267: error: (-215:Assertion failed) number < max_number in function 'icvExtractPattern'\n",
      "\n",
      "\n",
      "OpenCV: Couldn't read video stream from file \"../data/processed/videos/7244545854739172000.mp4\"\n",
      "[ERROR:0@3832.471] global cap.cpp:166 open VIDEOIO(CV_IMAGES): raised OpenCV exception:\n",
      "\n",
      "OpenCV(4.8.0) /Users/xperience/GHA-OpenCV-Python/_work/opencv-python/opencv-python/opencv/modules/videoio/src/cap_images.cpp:267: error: (-215:Assertion failed) number < max_number in function 'icvExtractPattern'\n",
      "\n",
      "\n",
      "OpenCV: Couldn't read video stream from file \"../data/processed/videos/7243836094456827000.mp4\"\n",
      "[ERROR:0@3832.471] global cap.cpp:166 open VIDEOIO(CV_IMAGES): raised OpenCV exception:\n",
      "\n",
      "OpenCV(4.8.0) /Users/xperience/GHA-OpenCV-Python/_work/opencv-python/opencv-python/opencv/modules/videoio/src/cap_images.cpp:267: error: (-215:Assertion failed) number < max_number in function 'icvExtractPattern'\n",
      "\n",
      "\n",
      "OpenCV: Couldn't read video stream from file \"../data/processed/videos/7243739642934201000.mp4\"\n",
      "[ERROR:0@3832.471] global cap.cpp:166 open VIDEOIO(CV_IMAGES): raised OpenCV exception:\n",
      "\n",
      "OpenCV(4.8.0) /Users/xperience/GHA-OpenCV-Python/_work/opencv-python/opencv-python/opencv/modules/videoio/src/cap_images.cpp:267: error: (-215:Assertion failed) number < max_number in function 'icvExtractPattern'\n",
      "\n",
      "\n",
      "OpenCV: Couldn't read video stream from file \"../data/processed/videos/7241634208106515000.mp4\"\n",
      "[ERROR:0@3832.472] global cap.cpp:166 open VIDEOIO(CV_IMAGES): raised OpenCV exception:\n",
      "\n",
      "OpenCV(4.8.0) /Users/xperience/GHA-OpenCV-Python/_work/opencv-python/opencv-python/opencv/modules/videoio/src/cap_images.cpp:267: error: (-215:Assertion failed) number < max_number in function 'icvExtractPattern'\n",
      "\n",
      "\n",
      "OpenCV: Couldn't read video stream from file \"../data/processed/videos/7240155848205454000.mp4\"\n",
      "[ERROR:0@3832.472] global cap.cpp:166 open VIDEOIO(CV_IMAGES): raised OpenCV exception:\n",
      "\n",
      "OpenCV(4.8.0) /Users/xperience/GHA-OpenCV-Python/_work/opencv-python/opencv-python/opencv/modules/videoio/src/cap_images.cpp:267: error: (-215:Assertion failed) number < max_number in function 'icvExtractPattern'\n",
      "\n",
      "\n",
      "OpenCV: Couldn't read video stream from file \"../data/processed/videos/7239724965312941000.mp4\"\n",
      "[ERROR:0@3832.472] global cap.cpp:166 open VIDEOIO(CV_IMAGES): raised OpenCV exception:\n",
      "\n",
      "OpenCV(4.8.0) /Users/xperience/GHA-OpenCV-Python/_work/opencv-python/opencv-python/opencv/modules/videoio/src/cap_images.cpp:267: error: (-215:Assertion failed) number < max_number in function 'icvExtractPattern'\n",
      "\n",
      "\n",
      "OpenCV: Couldn't read video stream from file \"../data/processed/videos/7238958663094865000.mp4\"\n",
      "[ERROR:0@3832.473] global cap.cpp:166 open VIDEOIO(CV_IMAGES): raised OpenCV exception:\n",
      "\n",
      "OpenCV(4.8.0) /Users/xperience/GHA-OpenCV-Python/_work/opencv-python/opencv-python/opencv/modules/videoio/src/cap_images.cpp:267: error: (-215:Assertion failed) number < max_number in function 'icvExtractPattern'\n",
      "\n",
      "\n",
      "OpenCV: Couldn't read video stream from file \"../data/processed/videos/7238646546152082000.mp4\"\n",
      "[ERROR:0@3832.473] global cap.cpp:166 open VIDEOIO(CV_IMAGES): raised OpenCV exception:\n",
      "\n",
      "OpenCV(4.8.0) /Users/xperience/GHA-OpenCV-Python/_work/opencv-python/opencv-python/opencv/modules/videoio/src/cap_images.cpp:267: error: (-215:Assertion failed) number < max_number in function 'icvExtractPattern'\n",
      "\n",
      "\n",
      "OpenCV: Couldn't read video stream from file \"../data/processed/videos/7237568877436177000.mp4\"\n",
      "[ERROR:0@3832.474] global cap.cpp:166 open VIDEOIO(CV_IMAGES): raised OpenCV exception:\n",
      "\n",
      "OpenCV(4.8.0) /Users/xperience/GHA-OpenCV-Python/_work/opencv-python/opencv-python/opencv/modules/videoio/src/cap_images.cpp:267: error: (-215:Assertion failed) number < max_number in function 'icvExtractPattern'\n",
      "\n",
      "\n",
      "OpenCV: Couldn't read video stream from file \"../data/processed/videos/7235728376848272000.mp4\"\n",
      "[ERROR:0@3832.474] global cap.cpp:166 open VIDEOIO(CV_IMAGES): raised OpenCV exception:\n",
      "\n",
      "OpenCV(4.8.0) /Users/xperience/GHA-OpenCV-Python/_work/opencv-python/opencv-python/opencv/modules/videoio/src/cap_images.cpp:267: error: (-215:Assertion failed) number < max_number in function 'icvExtractPattern'\n",
      "\n",
      "\n",
      "OpenCV: Couldn't read video stream from file \"../data/processed/videos/7235576250306203000.mp4\"\n",
      "[ERROR:0@3832.474] global cap.cpp:166 open VIDEOIO(CV_IMAGES): raised OpenCV exception:\n",
      "\n",
      "OpenCV(4.8.0) /Users/xperience/GHA-OpenCV-Python/_work/opencv-python/opencv-python/opencv/modules/videoio/src/cap_images.cpp:267: error: (-215:Assertion failed) number < max_number in function 'icvExtractPattern'\n",
      "\n",
      "\n",
      "OpenCV: Couldn't read video stream from file \"../data/processed/videos/7234480028908555000.mp4\"\n",
      "[ERROR:0@3832.474] global cap.cpp:166 open VIDEOIO(CV_IMAGES): raised OpenCV exception:\n",
      "\n",
      "OpenCV(4.8.0) /Users/xperience/GHA-OpenCV-Python/_work/opencv-python/opencv-python/opencv/modules/videoio/src/cap_images.cpp:267: error: (-215:Assertion failed) number < max_number in function 'icvExtractPattern'\n",
      "\n",
      "\n",
      "OpenCV: Couldn't read video stream from file \"../data/processed/videos/7234091904151932000.mp4\"\n",
      "[ERROR:0@3832.475] global cap.cpp:166 open VIDEOIO(CV_IMAGES): raised OpenCV exception:\n",
      "\n",
      "OpenCV(4.8.0) /Users/xperience/GHA-OpenCV-Python/_work/opencv-python/opencv-python/opencv/modules/videoio/src/cap_images.cpp:267: error: (-215:Assertion failed) number < max_number in function 'icvExtractPattern'\n",
      "\n",
      "\n",
      "OpenCV: Couldn't read video stream from file \"../data/processed/videos/7233290952285244000.mp4\"\n",
      "[ERROR:0@3832.475] global cap.cpp:166 open VIDEOIO(CV_IMAGES): raised OpenCV exception:\n",
      "\n",
      "OpenCV(4.8.0) /Users/xperience/GHA-OpenCV-Python/_work/opencv-python/opencv-python/opencv/modules/videoio/src/cap_images.cpp:267: error: (-215:Assertion failed) number < max_number in function 'icvExtractPattern'\n",
      "\n",
      "\n",
      "OpenCV: Couldn't read video stream from file \"../data/processed/videos/7232366148258418000.mp4\"\n",
      "[ERROR:0@3832.475] global cap.cpp:166 open VIDEOIO(CV_IMAGES): raised OpenCV exception:\n",
      "\n",
      "OpenCV(4.8.0) /Users/xperience/GHA-OpenCV-Python/_work/opencv-python/opencv-python/opencv/modules/videoio/src/cap_images.cpp:267: error: (-215:Assertion failed) number < max_number in function 'icvExtractPattern'\n",
      "\n",
      "\n",
      "OpenCV: Couldn't read video stream from file \"../data/processed/videos/7231809083169328000.mp4\"\n",
      "[ERROR:0@3832.476] global cap.cpp:166 open VIDEOIO(CV_IMAGES): raised OpenCV exception:\n",
      "\n",
      "OpenCV(4.8.0) /Users/xperience/GHA-OpenCV-Python/_work/opencv-python/opencv-python/opencv/modules/videoio/src/cap_images.cpp:267: error: (-215:Assertion failed) number < max_number in function 'icvExtractPattern'\n",
      "\n",
      "\n",
      "OpenCV: Couldn't read video stream from file \"../data/processed/videos/7231465075389795000.mp4\"\n",
      "[ERROR:0@3832.476] global cap.cpp:166 open VIDEOIO(CV_IMAGES): raised OpenCV exception:\n",
      "\n",
      "OpenCV(4.8.0) /Users/xperience/GHA-OpenCV-Python/_work/opencv-python/opencv-python/opencv/modules/videoio/src/cap_images.cpp:267: error: (-215:Assertion failed) number < max_number in function 'icvExtractPattern'\n",
      "\n",
      "\n",
      "OpenCV: Couldn't read video stream from file \"../data/processed/videos/7228211560240467000.mp4\"\n",
      "[ERROR:0@3832.476] global cap.cpp:166 open VIDEOIO(CV_IMAGES): raised OpenCV exception:\n",
      "\n",
      "OpenCV(4.8.0) /Users/xperience/GHA-OpenCV-Python/_work/opencv-python/opencv-python/opencv/modules/videoio/src/cap_images.cpp:267: error: (-215:Assertion failed) number < max_number in function 'icvExtractPattern'\n",
      "\n",
      "\n",
      "OpenCV: Couldn't read video stream from file \"../data/processed/videos/7227372741660282000.mp4\"\n",
      "[ERROR:0@3832.477] global cap.cpp:166 open VIDEOIO(CV_IMAGES): raised OpenCV exception:\n",
      "\n",
      "OpenCV(4.8.0) /Users/xperience/GHA-OpenCV-Python/_work/opencv-python/opencv-python/opencv/modules/videoio/src/cap_images.cpp:267: error: (-215:Assertion failed) number < max_number in function 'icvExtractPattern'\n",
      "\n",
      "\n",
      "OpenCV: Couldn't read video stream from file \"../data/processed/videos/7226821746425466000.mp4\"\n",
      "[ERROR:0@3832.477] global cap.cpp:166 open VIDEOIO(CV_IMAGES): raised OpenCV exception:\n",
      "\n",
      "OpenCV(4.8.0) /Users/xperience/GHA-OpenCV-Python/_work/opencv-python/opencv-python/opencv/modules/videoio/src/cap_images.cpp:267: error: (-215:Assertion failed) number < max_number in function 'icvExtractPattern'\n",
      "\n",
      "\n",
      "OpenCV: Couldn't read video stream from file \"../data/processed/videos/7223471702020247000.mp4\"\n",
      "[ERROR:0@3832.477] global cap.cpp:166 open VIDEOIO(CV_IMAGES): raised OpenCV exception:\n",
      "\n",
      "OpenCV(4.8.0) /Users/xperience/GHA-OpenCV-Python/_work/opencv-python/opencv-python/opencv/modules/videoio/src/cap_images.cpp:267: error: (-215:Assertion failed) number < max_number in function 'icvExtractPattern'\n",
      "\n",
      "\n",
      "OpenCV: Couldn't read video stream from file \"../data/processed/videos/7222372308235603000.mp4\"\n",
      "[ERROR:0@3832.478] global cap.cpp:166 open VIDEOIO(CV_IMAGES): raised OpenCV exception:\n",
      "\n",
      "OpenCV(4.8.0) /Users/xperience/GHA-OpenCV-Python/_work/opencv-python/opencv-python/opencv/modules/videoio/src/cap_images.cpp:267: error: (-215:Assertion failed) number < max_number in function 'icvExtractPattern'\n",
      "\n",
      "\n",
      "OpenCV: Couldn't read video stream from file \"../data/processed/videos/7222341088596610000.mp4\"\n",
      "[ERROR:0@3832.478] global cap.cpp:166 open VIDEOIO(CV_IMAGES): raised OpenCV exception:\n",
      "\n",
      "OpenCV(4.8.0) /Users/xperience/GHA-OpenCV-Python/_work/opencv-python/opencv-python/opencv/modules/videoio/src/cap_images.cpp:267: error: (-215:Assertion failed) number < max_number in function 'icvExtractPattern'\n",
      "\n",
      "\n",
      "OpenCV: Couldn't read video stream from file \"../data/processed/videos/7221262230988262000.mp4\"\n",
      "[ERROR:0@3832.478] global cap.cpp:166 open VIDEOIO(CV_IMAGES): raised OpenCV exception:\n",
      "\n",
      "OpenCV(4.8.0) /Users/xperience/GHA-OpenCV-Python/_work/opencv-python/opencv-python/opencv/modules/videoio/src/cap_images.cpp:267: error: (-215:Assertion failed) number < max_number in function 'icvExtractPattern'\n",
      "\n",
      "\n",
      "OpenCV: Couldn't read video stream from file \"../data/processed/videos/7221065295304117000.mp4\"\n",
      "[ERROR:0@3832.479] global cap.cpp:166 open VIDEOIO(CV_IMAGES): raised OpenCV exception:\n",
      "\n",
      "OpenCV(4.8.0) /Users/xperience/GHA-OpenCV-Python/_work/opencv-python/opencv-python/opencv/modules/videoio/src/cap_images.cpp:267: error: (-215:Assertion failed) number < max_number in function 'icvExtractPattern'\n",
      "\n",
      "\n",
      "OpenCV: Couldn't read video stream from file \"../data/processed/videos/7219014997781925000.mp4\"\n",
      "[ERROR:0@3832.479] global cap.cpp:166 open VIDEOIO(CV_IMAGES): raised OpenCV exception:\n",
      "\n",
      "OpenCV(4.8.0) /Users/xperience/GHA-OpenCV-Python/_work/opencv-python/opencv-python/opencv/modules/videoio/src/cap_images.cpp:267: error: (-215:Assertion failed) number < max_number in function 'icvExtractPattern'\n",
      "\n",
      "\n",
      "OpenCV: Couldn't read video stream from file \"../data/processed/videos/7217889363739315000.mp4\"\n",
      "[ERROR:0@3832.479] global cap.cpp:166 open VIDEOIO(CV_IMAGES): raised OpenCV exception:\n",
      "\n",
      "OpenCV(4.8.0) /Users/xperience/GHA-OpenCV-Python/_work/opencv-python/opencv-python/opencv/modules/videoio/src/cap_images.cpp:267: error: (-215:Assertion failed) number < max_number in function 'icvExtractPattern'\n",
      "\n",
      "\n",
      "OpenCV: Couldn't read video stream from file \"../data/processed/videos/7216786331005930000.mp4\"\n",
      "[ERROR:0@3832.479] global cap.cpp:166 open VIDEOIO(CV_IMAGES): raised OpenCV exception:\n",
      "\n",
      "OpenCV(4.8.0) /Users/xperience/GHA-OpenCV-Python/_work/opencv-python/opencv-python/opencv/modules/videoio/src/cap_images.cpp:267: error: (-215:Assertion failed) number < max_number in function 'icvExtractPattern'\n",
      "\n",
      "\n",
      "OpenCV: Couldn't read video stream from file \"../data/processed/videos/7216766115110735000.mp4\"\n",
      "[ERROR:0@3832.480] global cap.cpp:166 open VIDEOIO(CV_IMAGES): raised OpenCV exception:\n",
      "\n",
      "OpenCV(4.8.0) /Users/xperience/GHA-OpenCV-Python/_work/opencv-python/opencv-python/opencv/modules/videoio/src/cap_images.cpp:267: error: (-215:Assertion failed) number < max_number in function 'icvExtractPattern'\n",
      "\n",
      "\n",
      "OpenCV: Couldn't read video stream from file \"../data/processed/videos/7215644500771818000.mp4\"\n",
      "[ERROR:0@3832.480] global cap.cpp:166 open VIDEOIO(CV_IMAGES): raised OpenCV exception:\n",
      "\n",
      "OpenCV(4.8.0) /Users/xperience/GHA-OpenCV-Python/_work/opencv-python/opencv-python/opencv/modules/videoio/src/cap_images.cpp:267: error: (-215:Assertion failed) number < max_number in function 'icvExtractPattern'\n",
      "\n",
      "\n",
      "OpenCV: Couldn't read video stream from file \"../data/processed/videos/7215590061742591000.mp4\"\n",
      "[ERROR:0@3832.480] global cap.cpp:166 open VIDEOIO(CV_IMAGES): raised OpenCV exception:\n",
      "\n",
      "OpenCV(4.8.0) /Users/xperience/GHA-OpenCV-Python/_work/opencv-python/opencv-python/opencv/modules/videoio/src/cap_images.cpp:267: error: (-215:Assertion failed) number < max_number in function 'icvExtractPattern'\n",
      "\n",
      "\n",
      "OpenCV: Couldn't read video stream from file \"../data/processed/videos/7211503013234527000.mp4\"\n",
      "[ERROR:0@3832.481] global cap.cpp:166 open VIDEOIO(CV_IMAGES): raised OpenCV exception:\n",
      "\n",
      "OpenCV(4.8.0) /Users/xperience/GHA-OpenCV-Python/_work/opencv-python/opencv-python/opencv/modules/videoio/src/cap_images.cpp:267: error: (-215:Assertion failed) number < max_number in function 'icvExtractPattern'\n",
      "\n",
      "\n",
      "OpenCV: Couldn't read video stream from file \"../data/processed/videos/7211143983282589000.mp4\"\n",
      "[ERROR:0@3832.481] global cap.cpp:166 open VIDEOIO(CV_IMAGES): raised OpenCV exception:\n",
      "\n",
      "OpenCV(4.8.0) /Users/xperience/GHA-OpenCV-Python/_work/opencv-python/opencv-python/opencv/modules/videoio/src/cap_images.cpp:267: error: (-215:Assertion failed) number < max_number in function 'icvExtractPattern'\n",
      "\n",
      "\n",
      "OpenCV: Couldn't read video stream from file \"../data/processed/videos/7210879251527077000.mp4\"\n",
      "[ERROR:0@3832.481] global cap.cpp:166 open VIDEOIO(CV_IMAGES): raised OpenCV exception:\n",
      "\n",
      "OpenCV(4.8.0) /Users/xperience/GHA-OpenCV-Python/_work/opencv-python/opencv-python/opencv/modules/videoio/src/cap_images.cpp:267: error: (-215:Assertion failed) number < max_number in function 'icvExtractPattern'\n",
      "\n",
      "\n",
      "OpenCV: Couldn't read video stream from file \"../data/processed/videos/7210840206986071000.mp4\"\n",
      "[ERROR:0@3832.481] global cap.cpp:166 open VIDEOIO(CV_IMAGES): raised OpenCV exception:\n",
      "\n",
      "OpenCV(4.8.0) /Users/xperience/GHA-OpenCV-Python/_work/opencv-python/opencv-python/opencv/modules/videoio/src/cap_images.cpp:267: error: (-215:Assertion failed) number < max_number in function 'icvExtractPattern'\n",
      "\n",
      "\n",
      "OpenCV: Couldn't read video stream from file \"../data/processed/videos/7208626665683996000.mp4\"\n",
      "[ERROR:0@3832.482] global cap.cpp:166 open VIDEOIO(CV_IMAGES): raised OpenCV exception:\n",
      "\n",
      "OpenCV(4.8.0) /Users/xperience/GHA-OpenCV-Python/_work/opencv-python/opencv-python/opencv/modules/videoio/src/cap_images.cpp:267: error: (-215:Assertion failed) number < max_number in function 'icvExtractPattern'\n",
      "\n",
      "\n",
      "OpenCV: Couldn't read video stream from file \"../data/processed/videos/7207816601217945000.mp4\"\n",
      "[ERROR:0@3832.482] global cap.cpp:166 open VIDEOIO(CV_IMAGES): raised OpenCV exception:\n",
      "\n",
      "OpenCV(4.8.0) /Users/xperience/GHA-OpenCV-Python/_work/opencv-python/opencv-python/opencv/modules/videoio/src/cap_images.cpp:267: error: (-215:Assertion failed) number < max_number in function 'icvExtractPattern'\n",
      "\n",
      "\n",
      "OpenCV: Couldn't read video stream from file \"../data/processed/videos/7206775485903261000.mp4\"\n",
      "[ERROR:0@3832.482] global cap.cpp:166 open VIDEOIO(CV_IMAGES): raised OpenCV exception:\n",
      "\n",
      "OpenCV(4.8.0) /Users/xperience/GHA-OpenCV-Python/_work/opencv-python/opencv-python/opencv/modules/videoio/src/cap_images.cpp:267: error: (-215:Assertion failed) number < max_number in function 'icvExtractPattern'\n",
      "\n",
      "\n",
      "OpenCV: Couldn't read video stream from file \"../data/processed/videos/7206202741440450000.mp4\"\n",
      "[ERROR:0@3832.483] global cap.cpp:166 open VIDEOIO(CV_IMAGES): raised OpenCV exception:\n",
      "\n",
      "OpenCV(4.8.0) /Users/xperience/GHA-OpenCV-Python/_work/opencv-python/opencv-python/opencv/modules/videoio/src/cap_images.cpp:267: error: (-215:Assertion failed) number < max_number in function 'icvExtractPattern'\n",
      "\n",
      "\n",
      "OpenCV: Couldn't read video stream from file \"../data/processed/videos/7206044310301593000.mp4\"\n",
      "[ERROR:0@3832.483] global cap.cpp:166 open VIDEOIO(CV_IMAGES): raised OpenCV exception:\n",
      "\n",
      "OpenCV(4.8.0) /Users/xperience/GHA-OpenCV-Python/_work/opencv-python/opencv-python/opencv/modules/videoio/src/cap_images.cpp:267: error: (-215:Assertion failed) number < max_number in function 'icvExtractPattern'\n",
      "\n",
      "\n",
      "OpenCV: Couldn't read video stream from file \"../data/processed/videos/7205624570915737000.mp4\"\n",
      "[ERROR:0@3832.483] global cap.cpp:166 open VIDEOIO(CV_IMAGES): raised OpenCV exception:\n",
      "\n",
      "OpenCV(4.8.0) /Users/xperience/GHA-OpenCV-Python/_work/opencv-python/opencv-python/opencv/modules/videoio/src/cap_images.cpp:267: error: (-215:Assertion failed) number < max_number in function 'icvExtractPattern'\n",
      "\n",
      "\n",
      "OpenCV: Couldn't read video stream from file \"../data/processed/videos/7205257187130674000.mp4\"\n",
      "[ERROR:0@3832.483] global cap.cpp:166 open VIDEOIO(CV_IMAGES): raised OpenCV exception:\n",
      "\n",
      "OpenCV(4.8.0) /Users/xperience/GHA-OpenCV-Python/_work/opencv-python/opencv-python/opencv/modules/videoio/src/cap_images.cpp:267: error: (-215:Assertion failed) number < max_number in function 'icvExtractPattern'\n",
      "\n",
      "\n",
      "OpenCV: Couldn't read video stream from file \"../data/processed/videos/7204931077029268000.mp4\"\n",
      "[ERROR:0@3832.484] global cap.cpp:166 open VIDEOIO(CV_IMAGES): raised OpenCV exception:\n",
      "\n",
      "OpenCV(4.8.0) /Users/xperience/GHA-OpenCV-Python/_work/opencv-python/opencv-python/opencv/modules/videoio/src/cap_images.cpp:267: error: (-215:Assertion failed) number < max_number in function 'icvExtractPattern'\n",
      "\n",
      "\n",
      "OpenCV: Couldn't read video stream from file \"../data/processed/videos/7202261483860807000.mp4\"\n",
      "[ERROR:0@3832.484] global cap.cpp:166 open VIDEOIO(CV_IMAGES): raised OpenCV exception:\n",
      "\n",
      "OpenCV(4.8.0) /Users/xperience/GHA-OpenCV-Python/_work/opencv-python/opencv-python/opencv/modules/videoio/src/cap_images.cpp:267: error: (-215:Assertion failed) number < max_number in function 'icvExtractPattern'\n",
      "\n",
      "\n",
      "OpenCV: Couldn't read video stream from file \"../data/processed/videos/7201936585745632000.mp4\"\n",
      "[ERROR:0@3832.484] global cap.cpp:166 open VIDEOIO(CV_IMAGES): raised OpenCV exception:\n",
      "\n",
      "OpenCV(4.8.0) /Users/xperience/GHA-OpenCV-Python/_work/opencv-python/opencv-python/opencv/modules/videoio/src/cap_images.cpp:267: error: (-215:Assertion failed) number < max_number in function 'icvExtractPattern'\n",
      "\n",
      "\n",
      "OpenCV: Couldn't read video stream from file \"../data/processed/videos/7198603797227245000.mp4\"\n",
      "[ERROR:0@3832.484] global cap.cpp:166 open VIDEOIO(CV_IMAGES): raised OpenCV exception:\n",
      "\n",
      "OpenCV(4.8.0) /Users/xperience/GHA-OpenCV-Python/_work/opencv-python/opencv-python/opencv/modules/videoio/src/cap_images.cpp:267: error: (-215:Assertion failed) number < max_number in function 'icvExtractPattern'\n",
      "\n",
      "\n",
      "OpenCV: Couldn't read video stream from file \"../data/processed/videos/7198571880997981000.mp4\"\n",
      "[ERROR:0@3832.485] global cap.cpp:166 open VIDEOIO(CV_IMAGES): raised OpenCV exception:\n",
      "\n",
      "OpenCV(4.8.0) /Users/xperience/GHA-OpenCV-Python/_work/opencv-python/opencv-python/opencv/modules/videoio/src/cap_images.cpp:267: error: (-215:Assertion failed) number < max_number in function 'icvExtractPattern'\n",
      "\n",
      "\n",
      "OpenCV: Couldn't read video stream from file \"../data/processed/videos/7198105090119568000.mp4\"\n",
      "[ERROR:0@3832.485] global cap.cpp:166 open VIDEOIO(CV_IMAGES): raised OpenCV exception:\n",
      "\n",
      "OpenCV(4.8.0) /Users/xperience/GHA-OpenCV-Python/_work/opencv-python/opencv-python/opencv/modules/videoio/src/cap_images.cpp:267: error: (-215:Assertion failed) number < max_number in function 'icvExtractPattern'\n",
      "\n",
      "\n",
      "OpenCV: Couldn't read video stream from file \"../data/processed/videos/7194909784926064000.mp4\"\n",
      "[ERROR:0@3832.485] global cap.cpp:166 open VIDEOIO(CV_IMAGES): raised OpenCV exception:\n",
      "\n",
      "OpenCV(4.8.0) /Users/xperience/GHA-OpenCV-Python/_work/opencv-python/opencv-python/opencv/modules/videoio/src/cap_images.cpp:267: error: (-215:Assertion failed) number < max_number in function 'icvExtractPattern'\n",
      "\n",
      "\n",
      "OpenCV: Couldn't read video stream from file \"../data/processed/videos/7189709267392318000.mp4\"\n",
      "[ERROR:0@3832.486] global cap.cpp:166 open VIDEOIO(CV_IMAGES): raised OpenCV exception:\n",
      "\n",
      "OpenCV(4.8.0) /Users/xperience/GHA-OpenCV-Python/_work/opencv-python/opencv-python/opencv/modules/videoio/src/cap_images.cpp:267: error: (-215:Assertion failed) number < max_number in function 'icvExtractPattern'\n",
      "\n",
      "\n",
      "OpenCV: Couldn't read video stream from file \"../data/processed/videos/7189296202347744000.mp4\"\n",
      "[ERROR:0@3832.486] global cap.cpp:166 open VIDEOIO(CV_IMAGES): raised OpenCV exception:\n",
      "\n",
      "OpenCV(4.8.0) /Users/xperience/GHA-OpenCV-Python/_work/opencv-python/opencv-python/opencv/modules/videoio/src/cap_images.cpp:267: error: (-215:Assertion failed) number < max_number in function 'icvExtractPattern'\n",
      "\n",
      "\n",
      "OpenCV: Couldn't read video stream from file \"../data/processed/videos/7189243457179880000.mp4\"\n",
      "[ERROR:0@3832.486] global cap.cpp:166 open VIDEOIO(CV_IMAGES): raised OpenCV exception:\n",
      "\n",
      "OpenCV(4.8.0) /Users/xperience/GHA-OpenCV-Python/_work/opencv-python/opencv-python/opencv/modules/videoio/src/cap_images.cpp:267: error: (-215:Assertion failed) number < max_number in function 'icvExtractPattern'\n",
      "\n",
      "\n",
      "OpenCV: Couldn't read video stream from file \"../data/processed/videos/7188187795985272000.mp4\"\n",
      "[ERROR:0@3832.486] global cap.cpp:166 open VIDEOIO(CV_IMAGES): raised OpenCV exception:\n",
      "\n",
      "OpenCV(4.8.0) /Users/xperience/GHA-OpenCV-Python/_work/opencv-python/opencv-python/opencv/modules/videoio/src/cap_images.cpp:267: error: (-215:Assertion failed) number < max_number in function 'icvExtractPattern'\n",
      "\n",
      "\n",
      "OpenCV: Couldn't read video stream from file \"../data/processed/videos/7187877327806762000.mp4\"\n",
      "[ERROR:0@3832.487] global cap.cpp:166 open VIDEOIO(CV_IMAGES): raised OpenCV exception:\n",
      "\n",
      "OpenCV(4.8.0) /Users/xperience/GHA-OpenCV-Python/_work/opencv-python/opencv-python/opencv/modules/videoio/src/cap_images.cpp:267: error: (-215:Assertion failed) number < max_number in function 'icvExtractPattern'\n",
      "\n",
      "\n",
      "OpenCV: Couldn't read video stream from file \"../data/processed/videos/7187514172463255000.mp4\"\n",
      "[ERROR:0@3832.487] global cap.cpp:166 open VIDEOIO(CV_IMAGES): raised OpenCV exception:\n",
      "\n",
      "OpenCV(4.8.0) /Users/xperience/GHA-OpenCV-Python/_work/opencv-python/opencv-python/opencv/modules/videoio/src/cap_images.cpp:267: error: (-215:Assertion failed) number < max_number in function 'icvExtractPattern'\n",
      "\n",
      "\n",
      "OpenCV: Couldn't read video stream from file \"../data/processed/videos/7187471251794005000.mp4\"\n",
      "[ERROR:0@3832.487] global cap.cpp:166 open VIDEOIO(CV_IMAGES): raised OpenCV exception:\n",
      "\n",
      "OpenCV(4.8.0) /Users/xperience/GHA-OpenCV-Python/_work/opencv-python/opencv-python/opencv/modules/videoio/src/cap_images.cpp:267: error: (-215:Assertion failed) number < max_number in function 'icvExtractPattern'\n",
      "\n",
      "\n",
      "OpenCV: Couldn't read video stream from file \"../data/processed/videos/7184340534251621000.mp4\"\n",
      "[ERROR:0@3832.488] global cap.cpp:166 open VIDEOIO(CV_IMAGES): raised OpenCV exception:\n",
      "\n",
      "OpenCV(4.8.0) /Users/xperience/GHA-OpenCV-Python/_work/opencv-python/opencv-python/opencv/modules/videoio/src/cap_images.cpp:267: error: (-215:Assertion failed) number < max_number in function 'icvExtractPattern'\n",
      "\n",
      "\n",
      "OpenCV: Couldn't read video stream from file \"../data/processed/videos/7183669325126012000.mp4\"\n",
      "[ERROR:0@3832.488] global cap.cpp:166 open VIDEOIO(CV_IMAGES): raised OpenCV exception:\n",
      "\n",
      "OpenCV(4.8.0) /Users/xperience/GHA-OpenCV-Python/_work/opencv-python/opencv-python/opencv/modules/videoio/src/cap_images.cpp:267: error: (-215:Assertion failed) number < max_number in function 'icvExtractPattern'\n",
      "\n",
      "\n",
      "OpenCV: Couldn't read video stream from file \"../data/processed/videos/7182913772271521000.mp4\"\n",
      "[ERROR:0@3832.488] global cap.cpp:166 open VIDEOIO(CV_IMAGES): raised OpenCV exception:\n",
      "\n",
      "OpenCV(4.8.0) /Users/xperience/GHA-OpenCV-Python/_work/opencv-python/opencv-python/opencv/modules/videoio/src/cap_images.cpp:267: error: (-215:Assertion failed) number < max_number in function 'icvExtractPattern'\n",
      "\n",
      "\n",
      "OpenCV: Couldn't read video stream from file \"../data/processed/videos/7182877365171801000.mp4\"\n",
      "[ERROR:0@3832.489] global cap.cpp:166 open VIDEOIO(CV_IMAGES): raised OpenCV exception:\n",
      "\n",
      "OpenCV(4.8.0) /Users/xperience/GHA-OpenCV-Python/_work/opencv-python/opencv-python/opencv/modules/videoio/src/cap_images.cpp:267: error: (-215:Assertion failed) number < max_number in function 'icvExtractPattern'\n",
      "\n",
      "\n",
      "OpenCV: Couldn't read video stream from file \"../data/processed/videos/7180372649367916000.mp4\"\n",
      "[ERROR:0@3832.489] global cap.cpp:166 open VIDEOIO(CV_IMAGES): raised OpenCV exception:\n",
      "\n",
      "OpenCV(4.8.0) /Users/xperience/GHA-OpenCV-Python/_work/opencv-python/opencv-python/opencv/modules/videoio/src/cap_images.cpp:267: error: (-215:Assertion failed) number < max_number in function 'icvExtractPattern'\n",
      "\n",
      "\n",
      "OpenCV: Couldn't read video stream from file \"../data/processed/videos/7180307547616742000.mp4\"\n",
      "[ERROR:0@3832.489] global cap.cpp:166 open VIDEOIO(CV_IMAGES): raised OpenCV exception:\n",
      "\n",
      "OpenCV(4.8.0) /Users/xperience/GHA-OpenCV-Python/_work/opencv-python/opencv-python/opencv/modules/videoio/src/cap_images.cpp:267: error: (-215:Assertion failed) number < max_number in function 'icvExtractPattern'\n",
      "\n",
      "\n",
      "OpenCV: Couldn't read video stream from file \"../data/processed/videos/7178948277834993000.mp4\"\n",
      "[ERROR:0@3832.489] global cap.cpp:166 open VIDEOIO(CV_IMAGES): raised OpenCV exception:\n",
      "\n",
      "OpenCV(4.8.0) /Users/xperience/GHA-OpenCV-Python/_work/opencv-python/opencv-python/opencv/modules/videoio/src/cap_images.cpp:267: error: (-215:Assertion failed) number < max_number in function 'icvExtractPattern'\n",
      "\n",
      "\n",
      "OpenCV: Couldn't read video stream from file \"../data/processed/videos/7178782554814811000.mp4\"\n",
      "[ERROR:0@3832.490] global cap.cpp:166 open VIDEOIO(CV_IMAGES): raised OpenCV exception:\n",
      "\n",
      "OpenCV(4.8.0) /Users/xperience/GHA-OpenCV-Python/_work/opencv-python/opencv-python/opencv/modules/videoio/src/cap_images.cpp:267: error: (-215:Assertion failed) number < max_number in function 'icvExtractPattern'\n",
      "\n",
      "\n",
      "OpenCV: Couldn't read video stream from file \"../data/processed/videos/7178163802578456000.mp4\"\n",
      "[ERROR:0@3832.490] global cap.cpp:166 open VIDEOIO(CV_IMAGES): raised OpenCV exception:\n",
      "\n",
      "OpenCV(4.8.0) /Users/xperience/GHA-OpenCV-Python/_work/opencv-python/opencv-python/opencv/modules/videoio/src/cap_images.cpp:267: error: (-215:Assertion failed) number < max_number in function 'icvExtractPattern'\n",
      "\n",
      "\n",
      "OpenCV: Couldn't read video stream from file \"../data/processed/videos/7177049020412513000.mp4\"\n",
      "[ERROR:0@3832.490] global cap.cpp:166 open VIDEOIO(CV_IMAGES): raised OpenCV exception:\n",
      "\n",
      "OpenCV(4.8.0) /Users/xperience/GHA-OpenCV-Python/_work/opencv-python/opencv-python/opencv/modules/videoio/src/cap_images.cpp:267: error: (-215:Assertion failed) number < max_number in function 'icvExtractPattern'\n",
      "\n",
      "\n",
      "OpenCV: Couldn't read video stream from file \"../data/processed/videos/7177010908625980000.mp4\"\n",
      "[ERROR:0@3832.490] global cap.cpp:166 open VIDEOIO(CV_IMAGES): raised OpenCV exception:\n",
      "\n",
      "OpenCV(4.8.0) /Users/xperience/GHA-OpenCV-Python/_work/opencv-python/opencv-python/opencv/modules/videoio/src/cap_images.cpp:267: error: (-215:Assertion failed) number < max_number in function 'icvExtractPattern'\n",
      "\n",
      "\n",
      "OpenCV: Couldn't read video stream from file \"../data/processed/videos/7176657919654579000.mp4\"\n",
      "[ERROR:0@3832.491] global cap.cpp:166 open VIDEOIO(CV_IMAGES): raised OpenCV exception:\n",
      "\n",
      "OpenCV(4.8.0) /Users/xperience/GHA-OpenCV-Python/_work/opencv-python/opencv-python/opencv/modules/videoio/src/cap_images.cpp:267: error: (-215:Assertion failed) number < max_number in function 'icvExtractPattern'\n",
      "\n",
      "\n",
      "OpenCV: Couldn't read video stream from file \"../data/processed/videos/7176318412900027000.mp4\"\n",
      "[ERROR:0@3832.491] global cap.cpp:166 open VIDEOIO(CV_IMAGES): raised OpenCV exception:\n",
      "\n",
      "OpenCV(4.8.0) /Users/xperience/GHA-OpenCV-Python/_work/opencv-python/opencv-python/opencv/modules/videoio/src/cap_images.cpp:267: error: (-215:Assertion failed) number < max_number in function 'icvExtractPattern'\n",
      "\n",
      "\n",
      "OpenCV: Couldn't read video stream from file \"../data/processed/videos/7175162657949994000.mp4\"\n",
      "[ERROR:0@3832.491] global cap.cpp:166 open VIDEOIO(CV_IMAGES): raised OpenCV exception:\n",
      "\n",
      "OpenCV(4.8.0) /Users/xperience/GHA-OpenCV-Python/_work/opencv-python/opencv-python/opencv/modules/videoio/src/cap_images.cpp:267: error: (-215:Assertion failed) number < max_number in function 'icvExtractPattern'\n",
      "\n",
      "\n",
      "OpenCV: Couldn't read video stream from file \"../data/processed/videos/7174007223310372000.mp4\"\n",
      "[ERROR:0@3832.491] global cap.cpp:166 open VIDEOIO(CV_IMAGES): raised OpenCV exception:\n",
      "\n",
      "OpenCV(4.8.0) /Users/xperience/GHA-OpenCV-Python/_work/opencv-python/opencv-python/opencv/modules/videoio/src/cap_images.cpp:267: error: (-215:Assertion failed) number < max_number in function 'icvExtractPattern'\n",
      "\n",
      "\n",
      "OpenCV: Couldn't read video stream from file \"../data/processed/videos/7173606687327161000.mp4\"\n",
      "[ERROR:0@3832.492] global cap.cpp:166 open VIDEOIO(CV_IMAGES): raised OpenCV exception:\n",
      "\n",
      "OpenCV(4.8.0) /Users/xperience/GHA-OpenCV-Python/_work/opencv-python/opencv-python/opencv/modules/videoio/src/cap_images.cpp:267: error: (-215:Assertion failed) number < max_number in function 'icvExtractPattern'\n",
      "\n",
      "\n",
      "OpenCV: Couldn't read video stream from file \"../data/processed/videos/7170424345486036000.mp4\"\n",
      "[ERROR:0@3832.492] global cap.cpp:166 open VIDEOIO(CV_IMAGES): raised OpenCV exception:\n",
      "\n",
      "OpenCV(4.8.0) /Users/xperience/GHA-OpenCV-Python/_work/opencv-python/opencv-python/opencv/modules/videoio/src/cap_images.cpp:267: error: (-215:Assertion failed) number < max_number in function 'icvExtractPattern'\n",
      "\n",
      "\n",
      "OpenCV: Couldn't read video stream from file \"../data/processed/videos/7168946059706764000.mp4\"\n",
      "[ERROR:0@3832.492] global cap.cpp:166 open VIDEOIO(CV_IMAGES): raised OpenCV exception:\n",
      "\n",
      "OpenCV(4.8.0) /Users/xperience/GHA-OpenCV-Python/_work/opencv-python/opencv-python/opencv/modules/videoio/src/cap_images.cpp:267: error: (-215:Assertion failed) number < max_number in function 'icvExtractPattern'\n",
      "\n",
      "\n",
      "OpenCV: Couldn't read video stream from file \"../data/processed/videos/7166251050142420000.mp4\"\n",
      "[ERROR:0@3832.493] global cap.cpp:166 open VIDEOIO(CV_IMAGES): raised OpenCV exception:\n",
      "\n",
      "OpenCV(4.8.0) /Users/xperience/GHA-OpenCV-Python/_work/opencv-python/opencv-python/opencv/modules/videoio/src/cap_images.cpp:267: error: (-215:Assertion failed) number < max_number in function 'icvExtractPattern'\n",
      "\n",
      "\n",
      "OpenCV: Couldn't read video stream from file \"../data/processed/videos/7164382552751394000.mp4\"\n",
      "[ERROR:0@3832.493] global cap.cpp:166 open VIDEOIO(CV_IMAGES): raised OpenCV exception:\n",
      "\n",
      "OpenCV(4.8.0) /Users/xperience/GHA-OpenCV-Python/_work/opencv-python/opencv-python/opencv/modules/videoio/src/cap_images.cpp:267: error: (-215:Assertion failed) number < max_number in function 'icvExtractPattern'\n",
      "\n",
      "\n",
      "OpenCV: Couldn't read video stream from file \"../data/processed/videos/7163995254054489000.mp4\"\n",
      "[ERROR:0@3832.493] global cap.cpp:166 open VIDEOIO(CV_IMAGES): raised OpenCV exception:\n",
      "\n",
      "OpenCV(4.8.0) /Users/xperience/GHA-OpenCV-Python/_work/opencv-python/opencv-python/opencv/modules/videoio/src/cap_images.cpp:267: error: (-215:Assertion failed) number < max_number in function 'icvExtractPattern'\n",
      "\n",
      "\n",
      "OpenCV: Couldn't read video stream from file \"../data/processed/videos/7162839147302997000.mp4\"\n",
      "[ERROR:0@3832.493] global cap.cpp:166 open VIDEOIO(CV_IMAGES): raised OpenCV exception:\n",
      "\n",
      "OpenCV(4.8.0) /Users/xperience/GHA-OpenCV-Python/_work/opencv-python/opencv-python/opencv/modules/videoio/src/cap_images.cpp:267: error: (-215:Assertion failed) number < max_number in function 'icvExtractPattern'\n",
      "\n",
      "\n",
      "OpenCV: Couldn't read video stream from file \"../data/processed/videos/7161896989863710000.mp4\"\n",
      "[ERROR:0@3832.494] global cap.cpp:166 open VIDEOIO(CV_IMAGES): raised OpenCV exception:\n",
      "\n",
      "OpenCV(4.8.0) /Users/xperience/GHA-OpenCV-Python/_work/opencv-python/opencv-python/opencv/modules/videoio/src/cap_images.cpp:267: error: (-215:Assertion failed) number < max_number in function 'icvExtractPattern'\n",
      "\n",
      "\n",
      "OpenCV: Couldn't read video stream from file \"../data/processed/videos/7161412406495694000.mp4\"\n",
      "[ERROR:0@3832.494] global cap.cpp:166 open VIDEOIO(CV_IMAGES): raised OpenCV exception:\n",
      "\n",
      "OpenCV(4.8.0) /Users/xperience/GHA-OpenCV-Python/_work/opencv-python/opencv-python/opencv/modules/videoio/src/cap_images.cpp:267: error: (-215:Assertion failed) number < max_number in function 'icvExtractPattern'\n",
      "\n",
      "\n",
      "OpenCV: Couldn't read video stream from file \"../data/processed/videos/7160592391194299000.mp4\"\n",
      "[ERROR:0@3832.495] global cap.cpp:166 open VIDEOIO(CV_IMAGES): raised OpenCV exception:\n",
      "\n",
      "OpenCV(4.8.0) /Users/xperience/GHA-OpenCV-Python/_work/opencv-python/opencv-python/opencv/modules/videoio/src/cap_images.cpp:267: error: (-215:Assertion failed) number < max_number in function 'icvExtractPattern'\n",
      "\n",
      "\n",
      "OpenCV: Couldn't read video stream from file \"../data/processed/videos/7158424452286402000.mp4\"\n",
      "[ERROR:0@3832.495] global cap.cpp:166 open VIDEOIO(CV_IMAGES): raised OpenCV exception:\n",
      "\n",
      "OpenCV(4.8.0) /Users/xperience/GHA-OpenCV-Python/_work/opencv-python/opencv-python/opencv/modules/videoio/src/cap_images.cpp:267: error: (-215:Assertion failed) number < max_number in function 'icvExtractPattern'\n",
      "\n",
      "\n",
      "OpenCV: Couldn't read video stream from file \"../data/processed/videos/7157692146278075000.mp4\"\n",
      "[ERROR:0@3832.495] global cap.cpp:166 open VIDEOIO(CV_IMAGES): raised OpenCV exception:\n",
      "\n",
      "OpenCV(4.8.0) /Users/xperience/GHA-OpenCV-Python/_work/opencv-python/opencv-python/opencv/modules/videoio/src/cap_images.cpp:267: error: (-215:Assertion failed) number < max_number in function 'icvExtractPattern'\n",
      "\n",
      "\n",
      "OpenCV: Couldn't read video stream from file \"../data/processed/videos/7157249765837786000.mp4\"\n",
      "[ERROR:0@3832.495] global cap.cpp:166 open VIDEOIO(CV_IMAGES): raised OpenCV exception:\n",
      "\n",
      "OpenCV(4.8.0) /Users/xperience/GHA-OpenCV-Python/_work/opencv-python/opencv-python/opencv/modules/videoio/src/cap_images.cpp:267: error: (-215:Assertion failed) number < max_number in function 'icvExtractPattern'\n",
      "\n",
      "\n",
      "OpenCV: Couldn't read video stream from file \"../data/processed/videos/7156960255723720000.mp4\"\n",
      "[ERROR:0@3832.496] global cap.cpp:166 open VIDEOIO(CV_IMAGES): raised OpenCV exception:\n",
      "\n",
      "OpenCV(4.8.0) /Users/xperience/GHA-OpenCV-Python/_work/opencv-python/opencv-python/opencv/modules/videoio/src/cap_images.cpp:267: error: (-215:Assertion failed) number < max_number in function 'icvExtractPattern'\n",
      "\n",
      "\n",
      "OpenCV: Couldn't read video stream from file \"../data/processed/videos/7156890275317632000.mp4\"\n",
      "[ERROR:0@3832.496] global cap.cpp:166 open VIDEOIO(CV_IMAGES): raised OpenCV exception:\n",
      "\n",
      "OpenCV(4.8.0) /Users/xperience/GHA-OpenCV-Python/_work/opencv-python/opencv-python/opencv/modules/videoio/src/cap_images.cpp:267: error: (-215:Assertion failed) number < max_number in function 'icvExtractPattern'\n",
      "\n",
      "\n",
      "OpenCV: Couldn't read video stream from file \"../data/processed/videos/7152865526417559000.mp4\"\n",
      "[ERROR:0@3832.496] global cap.cpp:166 open VIDEOIO(CV_IMAGES): raised OpenCV exception:\n",
      "\n",
      "OpenCV(4.8.0) /Users/xperience/GHA-OpenCV-Python/_work/opencv-python/opencv-python/opencv/modules/videoio/src/cap_images.cpp:267: error: (-215:Assertion failed) number < max_number in function 'icvExtractPattern'\n",
      "\n",
      "\n",
      "OpenCV: Couldn't read video stream from file \"../data/processed/videos/7148069987796766000.mp4\"\n",
      "[ERROR:0@3832.497] global cap.cpp:166 open VIDEOIO(CV_IMAGES): raised OpenCV exception:\n",
      "\n",
      "OpenCV(4.8.0) /Users/xperience/GHA-OpenCV-Python/_work/opencv-python/opencv-python/opencv/modules/videoio/src/cap_images.cpp:267: error: (-215:Assertion failed) number < max_number in function 'icvExtractPattern'\n",
      "\n",
      "\n",
      "OpenCV: Couldn't read video stream from file \"../data/processed/videos/7147263913200045000.mp4\"\n",
      "[ERROR:0@3832.497] global cap.cpp:166 open VIDEOIO(CV_IMAGES): raised OpenCV exception:\n",
      "\n",
      "OpenCV(4.8.0) /Users/xperience/GHA-OpenCV-Python/_work/opencv-python/opencv-python/opencv/modules/videoio/src/cap_images.cpp:267: error: (-215:Assertion failed) number < max_number in function 'icvExtractPattern'\n",
      "\n",
      "\n",
      "OpenCV: Couldn't read video stream from file \"../data/processed/videos/7147206448232074000.mp4\"\n",
      "[ERROR:0@3832.497] global cap.cpp:166 open VIDEOIO(CV_IMAGES): raised OpenCV exception:\n",
      "\n",
      "OpenCV(4.8.0) /Users/xperience/GHA-OpenCV-Python/_work/opencv-python/opencv-python/opencv/modules/videoio/src/cap_images.cpp:267: error: (-215:Assertion failed) number < max_number in function 'icvExtractPattern'\n",
      "\n",
      "\n",
      "OpenCV: Couldn't read video stream from file \"../data/processed/videos/7146691344281521000.mp4\"\n",
      "[ERROR:0@3832.497] global cap.cpp:166 open VIDEOIO(CV_IMAGES): raised OpenCV exception:\n",
      "\n",
      "OpenCV(4.8.0) /Users/xperience/GHA-OpenCV-Python/_work/opencv-python/opencv-python/opencv/modules/videoio/src/cap_images.cpp:267: error: (-215:Assertion failed) number < max_number in function 'icvExtractPattern'\n",
      "\n",
      "\n",
      "OpenCV: Couldn't read video stream from file \"../data/processed/videos/7146670520505847000.mp4\"\n",
      "[ERROR:0@3832.498] global cap.cpp:166 open VIDEOIO(CV_IMAGES): raised OpenCV exception:\n",
      "\n",
      "OpenCV(4.8.0) /Users/xperience/GHA-OpenCV-Python/_work/opencv-python/opencv-python/opencv/modules/videoio/src/cap_images.cpp:267: error: (-215:Assertion failed) number < max_number in function 'icvExtractPattern'\n",
      "\n",
      "\n",
      "OpenCV: Couldn't read video stream from file \"../data/processed/videos/7146642608033435000.mp4\"\n",
      "[ERROR:0@3832.498] global cap.cpp:166 open VIDEOIO(CV_IMAGES): raised OpenCV exception:\n",
      "\n",
      "OpenCV(4.8.0) /Users/xperience/GHA-OpenCV-Python/_work/opencv-python/opencv-python/opencv/modules/videoio/src/cap_images.cpp:267: error: (-215:Assertion failed) number < max_number in function 'icvExtractPattern'\n",
      "\n",
      "\n",
      "OpenCV: Couldn't read video stream from file \"../data/processed/videos/7146526475439640000.mp4\"\n",
      "[ERROR:0@3832.498] global cap.cpp:166 open VIDEOIO(CV_IMAGES): raised OpenCV exception:\n",
      "\n",
      "OpenCV(4.8.0) /Users/xperience/GHA-OpenCV-Python/_work/opencv-python/opencv-python/opencv/modules/videoio/src/cap_images.cpp:267: error: (-215:Assertion failed) number < max_number in function 'icvExtractPattern'\n",
      "\n",
      "\n",
      "OpenCV: Couldn't read video stream from file \"../data/processed/videos/7146272946183605000.mp4\"\n",
      "[ERROR:0@3832.498] global cap.cpp:166 open VIDEOIO(CV_IMAGES): raised OpenCV exception:\n",
      "\n",
      "OpenCV(4.8.0) /Users/xperience/GHA-OpenCV-Python/_work/opencv-python/opencv-python/opencv/modules/videoio/src/cap_images.cpp:267: error: (-215:Assertion failed) number < max_number in function 'icvExtractPattern'\n",
      "\n",
      "\n",
      "OpenCV: Couldn't read video stream from file \"../data/processed/videos/7146265492234292000.mp4\"\n",
      "[ERROR:0@3832.499] global cap.cpp:166 open VIDEOIO(CV_IMAGES): raised OpenCV exception:\n",
      "\n",
      "OpenCV(4.8.0) /Users/xperience/GHA-OpenCV-Python/_work/opencv-python/opencv-python/opencv/modules/videoio/src/cap_images.cpp:267: error: (-215:Assertion failed) number < max_number in function 'icvExtractPattern'\n",
      "\n",
      "\n",
      "OpenCV: Couldn't read video stream from file \"../data/processed/videos/7145877683740659000.mp4\"\n",
      "[ERROR:0@3832.499] global cap.cpp:166 open VIDEOIO(CV_IMAGES): raised OpenCV exception:\n",
      "\n",
      "OpenCV(4.8.0) /Users/xperience/GHA-OpenCV-Python/_work/opencv-python/opencv-python/opencv/modules/videoio/src/cap_images.cpp:267: error: (-215:Assertion failed) number < max_number in function 'icvExtractPattern'\n",
      "\n",
      "\n",
      "OpenCV: Couldn't read video stream from file \"../data/processed/videos/7145843103075782000.mp4\"\n",
      "[ERROR:0@3832.499] global cap.cpp:166 open VIDEOIO(CV_IMAGES): raised OpenCV exception:\n",
      "\n",
      "OpenCV(4.8.0) /Users/xperience/GHA-OpenCV-Python/_work/opencv-python/opencv-python/opencv/modules/videoio/src/cap_images.cpp:267: error: (-215:Assertion failed) number < max_number in function 'icvExtractPattern'\n",
      "\n",
      "\n",
      "OpenCV: Couldn't read video stream from file \"../data/processed/videos/7145754357013777000.mp4\"\n",
      "[ERROR:0@3832.499] global cap.cpp:166 open VIDEOIO(CV_IMAGES): raised OpenCV exception:\n",
      "\n",
      "OpenCV(4.8.0) /Users/xperience/GHA-OpenCV-Python/_work/opencv-python/opencv-python/opencv/modules/videoio/src/cap_images.cpp:267: error: (-215:Assertion failed) number < max_number in function 'icvExtractPattern'\n",
      "\n",
      "\n",
      "OpenCV: Couldn't read video stream from file \"../data/processed/videos/7145435366529551000.mp4\"\n",
      "[ERROR:0@3832.500] global cap.cpp:166 open VIDEOIO(CV_IMAGES): raised OpenCV exception:\n",
      "\n",
      "OpenCV(4.8.0) /Users/xperience/GHA-OpenCV-Python/_work/opencv-python/opencv-python/opencv/modules/videoio/src/cap_images.cpp:267: error: (-215:Assertion failed) number < max_number in function 'icvExtractPattern'\n",
      "\n",
      "\n",
      "OpenCV: Couldn't read video stream from file \"../data/processed/videos/7145360998407425000.mp4\"\n",
      "[ERROR:0@3832.500] global cap.cpp:166 open VIDEOIO(CV_IMAGES): raised OpenCV exception:\n",
      "\n",
      "OpenCV(4.8.0) /Users/xperience/GHA-OpenCV-Python/_work/opencv-python/opencv-python/opencv/modules/videoio/src/cap_images.cpp:267: error: (-215:Assertion failed) number < max_number in function 'icvExtractPattern'\n",
      "\n",
      "\n",
      "OpenCV: Couldn't read video stream from file \"../data/processed/videos/7144986246215929000.mp4\"\n",
      "[ERROR:0@3832.500] global cap.cpp:166 open VIDEOIO(CV_IMAGES): raised OpenCV exception:\n",
      "\n",
      "OpenCV(4.8.0) /Users/xperience/GHA-OpenCV-Python/_work/opencv-python/opencv-python/opencv/modules/videoio/src/cap_images.cpp:267: error: (-215:Assertion failed) number < max_number in function 'icvExtractPattern'\n",
      "\n",
      "\n",
      "OpenCV: Couldn't read video stream from file \"../data/processed/videos/7144769480244071000.mp4\"\n",
      "[ERROR:0@3832.501] global cap.cpp:166 open VIDEOIO(CV_IMAGES): raised OpenCV exception:\n",
      "\n",
      "OpenCV(4.8.0) /Users/xperience/GHA-OpenCV-Python/_work/opencv-python/opencv-python/opencv/modules/videoio/src/cap_images.cpp:267: error: (-215:Assertion failed) number < max_number in function 'icvExtractPattern'\n",
      "\n",
      "\n",
      "OpenCV: Couldn't read video stream from file \"../data/processed/videos/7144425341279342000.mp4\"\n",
      "[ERROR:0@3832.501] global cap.cpp:166 open VIDEOIO(CV_IMAGES): raised OpenCV exception:\n",
      "\n",
      "OpenCV(4.8.0) /Users/xperience/GHA-OpenCV-Python/_work/opencv-python/opencv-python/opencv/modules/videoio/src/cap_images.cpp:267: error: (-215:Assertion failed) number < max_number in function 'icvExtractPattern'\n",
      "\n",
      "\n",
      "OpenCV: Couldn't read video stream from file \"../data/processed/videos/7144420910336953000.mp4\"\n",
      "[ERROR:0@3832.501] global cap.cpp:166 open VIDEOIO(CV_IMAGES): raised OpenCV exception:\n",
      "\n",
      "OpenCV(4.8.0) /Users/xperience/GHA-OpenCV-Python/_work/opencv-python/opencv-python/opencv/modules/videoio/src/cap_images.cpp:267: error: (-215:Assertion failed) number < max_number in function 'icvExtractPattern'\n",
      "\n",
      "\n",
      "OpenCV: Couldn't read video stream from file \"../data/processed/videos/7144338594927300000.mp4\"\n",
      "[ERROR:0@3832.502] global cap.cpp:166 open VIDEOIO(CV_IMAGES): raised OpenCV exception:\n",
      "\n",
      "OpenCV(4.8.0) /Users/xperience/GHA-OpenCV-Python/_work/opencv-python/opencv-python/opencv/modules/videoio/src/cap_images.cpp:267: error: (-215:Assertion failed) number < max_number in function 'icvExtractPattern'\n",
      "\n",
      "\n",
      "OpenCV: Couldn't read video stream from file \"../data/processed/videos/7144295242039037000.mp4\"\n",
      "[ERROR:0@3832.502] global cap.cpp:166 open VIDEOIO(CV_IMAGES): raised OpenCV exception:\n",
      "\n",
      "OpenCV(4.8.0) /Users/xperience/GHA-OpenCV-Python/_work/opencv-python/opencv-python/opencv/modules/videoio/src/cap_images.cpp:267: error: (-215:Assertion failed) number < max_number in function 'icvExtractPattern'\n",
      "\n",
      "\n",
      "OpenCV: Couldn't read video stream from file \"../data/processed/videos/7144246488879713000.mp4\"\n",
      "[ERROR:0@3832.502] global cap.cpp:166 open VIDEOIO(CV_IMAGES): raised OpenCV exception:\n",
      "\n",
      "OpenCV(4.8.0) /Users/xperience/GHA-OpenCV-Python/_work/opencv-python/opencv-python/opencv/modules/videoio/src/cap_images.cpp:267: error: (-215:Assertion failed) number < max_number in function 'icvExtractPattern'\n",
      "\n",
      "\n",
      "OpenCV: Couldn't read video stream from file \"../data/processed/videos/7144023384853171000.mp4\"\n",
      "[ERROR:0@3832.502] global cap.cpp:166 open VIDEOIO(CV_IMAGES): raised OpenCV exception:\n",
      "\n",
      "OpenCV(4.8.0) /Users/xperience/GHA-OpenCV-Python/_work/opencv-python/opencv-python/opencv/modules/videoio/src/cap_images.cpp:267: error: (-215:Assertion failed) number < max_number in function 'icvExtractPattern'\n",
      "\n",
      "\n",
      "OpenCV: Couldn't read video stream from file \"../data/processed/videos/7143551183792164000.mp4\"\n",
      "[ERROR:0@3832.503] global cap.cpp:166 open VIDEOIO(CV_IMAGES): raised OpenCV exception:\n",
      "\n",
      "OpenCV(4.8.0) /Users/xperience/GHA-OpenCV-Python/_work/opencv-python/opencv-python/opencv/modules/videoio/src/cap_images.cpp:267: error: (-215:Assertion failed) number < max_number in function 'icvExtractPattern'\n",
      "\n",
      "\n",
      "OpenCV: Couldn't read video stream from file \"../data/processed/videos/7143285004917935000.mp4\"\n",
      "[ERROR:0@3832.503] global cap.cpp:166 open VIDEOIO(CV_IMAGES): raised OpenCV exception:\n",
      "\n",
      "OpenCV(4.8.0) /Users/xperience/GHA-OpenCV-Python/_work/opencv-python/opencv-python/opencv/modules/videoio/src/cap_images.cpp:267: error: (-215:Assertion failed) number < max_number in function 'icvExtractPattern'\n",
      "\n",
      "\n",
      "OpenCV: Couldn't read video stream from file \"../data/processed/videos/7143251423474503000.mp4\"\n",
      "[ERROR:0@3832.503] global cap.cpp:166 open VIDEOIO(CV_IMAGES): raised OpenCV exception:\n",
      "\n",
      "OpenCV(4.8.0) /Users/xperience/GHA-OpenCV-Python/_work/opencv-python/opencv-python/opencv/modules/videoio/src/cap_images.cpp:267: error: (-215:Assertion failed) number < max_number in function 'icvExtractPattern'\n",
      "\n",
      "\n",
      "OpenCV: Couldn't read video stream from file \"../data/processed/videos/7143225656137076000.mp4\"\n",
      "[ERROR:0@3832.504] global cap.cpp:166 open VIDEOIO(CV_IMAGES): raised OpenCV exception:\n",
      "\n",
      "OpenCV(4.8.0) /Users/xperience/GHA-OpenCV-Python/_work/opencv-python/opencv-python/opencv/modules/videoio/src/cap_images.cpp:267: error: (-215:Assertion failed) number < max_number in function 'icvExtractPattern'\n",
      "\n",
      "\n",
      "OpenCV: Couldn't read video stream from file \"../data/processed/videos/7143163842665663000.mp4\"\n",
      "[ERROR:0@3832.504] global cap.cpp:166 open VIDEOIO(CV_IMAGES): raised OpenCV exception:\n",
      "\n",
      "OpenCV(4.8.0) /Users/xperience/GHA-OpenCV-Python/_work/opencv-python/opencv-python/opencv/modules/videoio/src/cap_images.cpp:267: error: (-215:Assertion failed) number < max_number in function 'icvExtractPattern'\n",
      "\n",
      "\n",
      "OpenCV: Couldn't read video stream from file \"../data/processed/videos/7142930878216359000.mp4\"\n",
      "[ERROR:0@3832.504] global cap.cpp:166 open VIDEOIO(CV_IMAGES): raised OpenCV exception:\n",
      "\n",
      "OpenCV(4.8.0) /Users/xperience/GHA-OpenCV-Python/_work/opencv-python/opencv-python/opencv/modules/videoio/src/cap_images.cpp:267: error: (-215:Assertion failed) number < max_number in function 'icvExtractPattern'\n",
      "\n",
      "\n",
      "OpenCV: Couldn't read video stream from file \"../data/processed/videos/7142918656551423000.mp4\"\n",
      "[ERROR:0@3832.505] global cap.cpp:166 open VIDEOIO(CV_IMAGES): raised OpenCV exception:\n",
      "\n",
      "OpenCV(4.8.0) /Users/xperience/GHA-OpenCV-Python/_work/opencv-python/opencv-python/opencv/modules/videoio/src/cap_images.cpp:267: error: (-215:Assertion failed) number < max_number in function 'icvExtractPattern'\n",
      "\n",
      "\n",
      "OpenCV: Couldn't read video stream from file \"../data/processed/videos/7142259434000059000.mp4\"\n",
      "[ERROR:0@3832.505] global cap.cpp:166 open VIDEOIO(CV_IMAGES): raised OpenCV exception:\n",
      "\n",
      "OpenCV(4.8.0) /Users/xperience/GHA-OpenCV-Python/_work/opencv-python/opencv-python/opencv/modules/videoio/src/cap_images.cpp:267: error: (-215:Assertion failed) number < max_number in function 'icvExtractPattern'\n",
      "\n",
      "\n",
      "OpenCV: Couldn't read video stream from file \"../data/processed/videos/7142030812693810000.mp4\"\n",
      "[ERROR:0@3832.505] global cap.cpp:166 open VIDEOIO(CV_IMAGES): raised OpenCV exception:\n",
      "\n",
      "OpenCV(4.8.0) /Users/xperience/GHA-OpenCV-Python/_work/opencv-python/opencv-python/opencv/modules/videoio/src/cap_images.cpp:267: error: (-215:Assertion failed) number < max_number in function 'icvExtractPattern'\n",
      "\n",
      "\n",
      "OpenCV: Couldn't read video stream from file \"../data/processed/videos/7141803151136411000.mp4\"\n",
      "[ERROR:0@3832.505] global cap.cpp:166 open VIDEOIO(CV_IMAGES): raised OpenCV exception:\n",
      "\n",
      "OpenCV(4.8.0) /Users/xperience/GHA-OpenCV-Python/_work/opencv-python/opencv-python/opencv/modules/videoio/src/cap_images.cpp:267: error: (-215:Assertion failed) number < max_number in function 'icvExtractPattern'\n",
      "\n",
      "\n",
      "OpenCV: Couldn't read video stream from file \"../data/processed/videos/7141788005320150000.mp4\"\n",
      "[ERROR:0@3832.506] global cap.cpp:166 open VIDEOIO(CV_IMAGES): raised OpenCV exception:\n",
      "\n",
      "OpenCV(4.8.0) /Users/xperience/GHA-OpenCV-Python/_work/opencv-python/opencv-python/opencv/modules/videoio/src/cap_images.cpp:267: error: (-215:Assertion failed) number < max_number in function 'icvExtractPattern'\n",
      "\n",
      "\n",
      "OpenCV: Couldn't read video stream from file \"../data/processed/videos/7141381807093698000.mp4\"\n",
      "[ERROR:0@3832.506] global cap.cpp:166 open VIDEOIO(CV_IMAGES): raised OpenCV exception:\n",
      "\n",
      "OpenCV(4.8.0) /Users/xperience/GHA-OpenCV-Python/_work/opencv-python/opencv-python/opencv/modules/videoio/src/cap_images.cpp:267: error: (-215:Assertion failed) number < max_number in function 'icvExtractPattern'\n",
      "\n",
      "\n",
      "OpenCV: Couldn't read video stream from file \"../data/processed/videos/7141284558791577000.mp4\"\n",
      "[ERROR:0@3832.506] global cap.cpp:166 open VIDEOIO(CV_IMAGES): raised OpenCV exception:\n",
      "\n",
      "OpenCV(4.8.0) /Users/xperience/GHA-OpenCV-Python/_work/opencv-python/opencv-python/opencv/modules/videoio/src/cap_images.cpp:267: error: (-215:Assertion failed) number < max_number in function 'icvExtractPattern'\n",
      "\n",
      "\n",
      "OpenCV: Couldn't read video stream from file \"../data/processed/videos/7140955700699696000.mp4\"\n",
      "[ERROR:0@3832.507] global cap.cpp:166 open VIDEOIO(CV_IMAGES): raised OpenCV exception:\n",
      "\n",
      "OpenCV(4.8.0) /Users/xperience/GHA-OpenCV-Python/_work/opencv-python/opencv-python/opencv/modules/videoio/src/cap_images.cpp:267: error: (-215:Assertion failed) number < max_number in function 'icvExtractPattern'\n",
      "\n",
      "\n",
      "OpenCV: Couldn't read video stream from file \"../data/processed/videos/7140683479053831000.mp4\"\n",
      "[ERROR:0@3832.507] global cap.cpp:166 open VIDEOIO(CV_IMAGES): raised OpenCV exception:\n",
      "\n",
      "OpenCV(4.8.0) /Users/xperience/GHA-OpenCV-Python/_work/opencv-python/opencv-python/opencv/modules/videoio/src/cap_images.cpp:267: error: (-215:Assertion failed) number < max_number in function 'icvExtractPattern'\n",
      "\n",
      "\n",
      "OpenCV: Couldn't read video stream from file \"../data/processed/videos/7140316758455455000.mp4\"\n",
      "[ERROR:0@3832.507] global cap.cpp:166 open VIDEOIO(CV_IMAGES): raised OpenCV exception:\n",
      "\n",
      "OpenCV(4.8.0) /Users/xperience/GHA-OpenCV-Python/_work/opencv-python/opencv-python/opencv/modules/videoio/src/cap_images.cpp:267: error: (-215:Assertion failed) number < max_number in function 'icvExtractPattern'\n",
      "\n",
      "\n",
      "OpenCV: Couldn't read video stream from file \"../data/processed/videos/7139623564637900000.mp4\"\n",
      "[ERROR:0@3832.508] global cap.cpp:166 open VIDEOIO(CV_IMAGES): raised OpenCV exception:\n",
      "\n",
      "OpenCV(4.8.0) /Users/xperience/GHA-OpenCV-Python/_work/opencv-python/opencv-python/opencv/modules/videoio/src/cap_images.cpp:267: error: (-215:Assertion failed) number < max_number in function 'icvExtractPattern'\n",
      "\n",
      "\n",
      "OpenCV: Couldn't read video stream from file \"../data/processed/videos/7139418655879745000.mp4\"\n",
      "[ERROR:0@3832.508] global cap.cpp:166 open VIDEOIO(CV_IMAGES): raised OpenCV exception:\n",
      "\n",
      "OpenCV(4.8.0) /Users/xperience/GHA-OpenCV-Python/_work/opencv-python/opencv-python/opencv/modules/videoio/src/cap_images.cpp:267: error: (-215:Assertion failed) number < max_number in function 'icvExtractPattern'\n",
      "\n",
      "\n",
      "OpenCV: Couldn't read video stream from file \"../data/processed/videos/7138477051790495000.mp4\"\n",
      "[ERROR:0@3832.508] global cap.cpp:166 open VIDEOIO(CV_IMAGES): raised OpenCV exception:\n",
      "\n",
      "OpenCV(4.8.0) /Users/xperience/GHA-OpenCV-Python/_work/opencv-python/opencv-python/opencv/modules/videoio/src/cap_images.cpp:267: error: (-215:Assertion failed) number < max_number in function 'icvExtractPattern'\n",
      "\n",
      "\n",
      "OpenCV: Couldn't read video stream from file \"../data/processed/videos/7138461939923029000.mp4\"\n",
      "[ERROR:0@3832.508] global cap.cpp:166 open VIDEOIO(CV_IMAGES): raised OpenCV exception:\n",
      "\n",
      "OpenCV(4.8.0) /Users/xperience/GHA-OpenCV-Python/_work/opencv-python/opencv-python/opencv/modules/videoio/src/cap_images.cpp:267: error: (-215:Assertion failed) number < max_number in function 'icvExtractPattern'\n",
      "\n",
      "\n",
      "OpenCV: Couldn't read video stream from file \"../data/processed/videos/7138364518136122000.mp4\"\n",
      "[ERROR:0@3832.509] global cap.cpp:166 open VIDEOIO(CV_IMAGES): raised OpenCV exception:\n",
      "\n",
      "OpenCV(4.8.0) /Users/xperience/GHA-OpenCV-Python/_work/opencv-python/opencv-python/opencv/modules/videoio/src/cap_images.cpp:267: error: (-215:Assertion failed) number < max_number in function 'icvExtractPattern'\n",
      "\n",
      "\n",
      "OpenCV: Couldn't read video stream from file \"../data/processed/videos/7138307731299028000.mp4\"\n",
      "[ERROR:0@3832.509] global cap.cpp:166 open VIDEOIO(CV_IMAGES): raised OpenCV exception:\n",
      "\n",
      "OpenCV(4.8.0) /Users/xperience/GHA-OpenCV-Python/_work/opencv-python/opencv-python/opencv/modules/videoio/src/cap_images.cpp:267: error: (-215:Assertion failed) number < max_number in function 'icvExtractPattern'\n",
      "\n",
      "\n",
      "OpenCV: Couldn't read video stream from file \"../data/processed/videos/7138094156332715000.mp4\"\n",
      "[ERROR:0@3832.509] global cap.cpp:166 open VIDEOIO(CV_IMAGES): raised OpenCV exception:\n",
      "\n",
      "OpenCV(4.8.0) /Users/xperience/GHA-OpenCV-Python/_work/opencv-python/opencv-python/opencv/modules/videoio/src/cap_images.cpp:267: error: (-215:Assertion failed) number < max_number in function 'icvExtractPattern'\n",
      "\n",
      "\n",
      "OpenCV: Couldn't read video stream from file \"../data/processed/videos/7137965836253351000.mp4\"\n",
      "[ERROR:0@3832.510] global cap.cpp:166 open VIDEOIO(CV_IMAGES): raised OpenCV exception:\n",
      "\n",
      "OpenCV(4.8.0) /Users/xperience/GHA-OpenCV-Python/_work/opencv-python/opencv-python/opencv/modules/videoio/src/cap_images.cpp:267: error: (-215:Assertion failed) number < max_number in function 'icvExtractPattern'\n",
      "\n",
      "\n",
      "OpenCV: Couldn't read video stream from file \"../data/processed/videos/7137738553127079000.mp4\"\n",
      "[ERROR:0@3832.510] global cap.cpp:166 open VIDEOIO(CV_IMAGES): raised OpenCV exception:\n",
      "\n",
      "OpenCV(4.8.0) /Users/xperience/GHA-OpenCV-Python/_work/opencv-python/opencv-python/opencv/modules/videoio/src/cap_images.cpp:267: error: (-215:Assertion failed) number < max_number in function 'icvExtractPattern'\n",
      "\n",
      "\n",
      "OpenCV: Couldn't read video stream from file \"../data/processed/videos/7137723121796156000.mp4\"\n",
      "[ERROR:0@3832.510] global cap.cpp:166 open VIDEOIO(CV_IMAGES): raised OpenCV exception:\n",
      "\n",
      "OpenCV(4.8.0) /Users/xperience/GHA-OpenCV-Python/_work/opencv-python/opencv-python/opencv/modules/videoio/src/cap_images.cpp:267: error: (-215:Assertion failed) number < max_number in function 'icvExtractPattern'\n",
      "\n",
      "\n",
      "OpenCV: Couldn't read video stream from file \"../data/processed/videos/7137699360111939000.mp4\"\n",
      "[ERROR:0@3832.511] global cap.cpp:166 open VIDEOIO(CV_IMAGES): raised OpenCV exception:\n",
      "\n",
      "OpenCV(4.8.0) /Users/xperience/GHA-OpenCV-Python/_work/opencv-python/opencv-python/opencv/modules/videoio/src/cap_images.cpp:267: error: (-215:Assertion failed) number < max_number in function 'icvExtractPattern'\n",
      "\n",
      "\n",
      "OpenCV: Couldn't read video stream from file \"../data/processed/videos/7137577046552727000.mp4\"\n",
      "[ERROR:0@3832.511] global cap.cpp:166 open VIDEOIO(CV_IMAGES): raised OpenCV exception:\n",
      "\n",
      "OpenCV(4.8.0) /Users/xperience/GHA-OpenCV-Python/_work/opencv-python/opencv-python/opencv/modules/videoio/src/cap_images.cpp:267: error: (-215:Assertion failed) number < max_number in function 'icvExtractPattern'\n",
      "\n",
      "\n",
      "OpenCV: Couldn't read video stream from file \"../data/processed/videos/7137367409882582000.mp4\"\n",
      "[ERROR:0@3832.511] global cap.cpp:166 open VIDEOIO(CV_IMAGES): raised OpenCV exception:\n",
      "\n",
      "OpenCV(4.8.0) /Users/xperience/GHA-OpenCV-Python/_work/opencv-python/opencv-python/opencv/modules/videoio/src/cap_images.cpp:267: error: (-215:Assertion failed) number < max_number in function 'icvExtractPattern'\n",
      "\n",
      "\n",
      "OpenCV: Couldn't read video stream from file \"../data/processed/videos/7137360677756325000.mp4\"\n",
      "[ERROR:0@3832.512] global cap.cpp:166 open VIDEOIO(CV_IMAGES): raised OpenCV exception:\n",
      "\n",
      "OpenCV(4.8.0) /Users/xperience/GHA-OpenCV-Python/_work/opencv-python/opencv-python/opencv/modules/videoio/src/cap_images.cpp:267: error: (-215:Assertion failed) number < max_number in function 'icvExtractPattern'\n",
      "\n",
      "\n",
      "OpenCV: Couldn't read video stream from file \"../data/processed/videos/7137343861130677000.mp4\"\n",
      "[ERROR:0@3832.512] global cap.cpp:166 open VIDEOIO(CV_IMAGES): raised OpenCV exception:\n",
      "\n",
      "OpenCV(4.8.0) /Users/xperience/GHA-OpenCV-Python/_work/opencv-python/opencv-python/opencv/modules/videoio/src/cap_images.cpp:267: error: (-215:Assertion failed) number < max_number in function 'icvExtractPattern'\n",
      "\n",
      "\n",
      "OpenCV: Couldn't read video stream from file \"../data/processed/videos/7137218493681896000.mp4\"\n",
      "[ERROR:0@3832.512] global cap.cpp:166 open VIDEOIO(CV_IMAGES): raised OpenCV exception:\n",
      "\n",
      "OpenCV(4.8.0) /Users/xperience/GHA-OpenCV-Python/_work/opencv-python/opencv-python/opencv/modules/videoio/src/cap_images.cpp:267: error: (-215:Assertion failed) number < max_number in function 'icvExtractPattern'\n",
      "\n",
      "\n",
      "OpenCV: Couldn't read video stream from file \"../data/processed/videos/7136915130884935000.mp4\"\n",
      "[ERROR:0@3832.513] global cap.cpp:166 open VIDEOIO(CV_IMAGES): raised OpenCV exception:\n",
      "\n",
      "OpenCV(4.8.0) /Users/xperience/GHA-OpenCV-Python/_work/opencv-python/opencv-python/opencv/modules/videoio/src/cap_images.cpp:267: error: (-215:Assertion failed) number < max_number in function 'icvExtractPattern'\n",
      "\n",
      "\n",
      "OpenCV: Couldn't read video stream from file \"../data/processed/videos/7136844388176530000.mp4\"\n",
      "[ERROR:0@3832.513] global cap.cpp:166 open VIDEOIO(CV_IMAGES): raised OpenCV exception:\n",
      "\n",
      "OpenCV(4.8.0) /Users/xperience/GHA-OpenCV-Python/_work/opencv-python/opencv-python/opencv/modules/videoio/src/cap_images.cpp:267: error: (-215:Assertion failed) number < max_number in function 'icvExtractPattern'\n",
      "\n",
      "\n",
      "OpenCV: Couldn't read video stream from file \"../data/processed/videos/7136548859093863000.mp4\"\n",
      "[ERROR:0@3832.513] global cap.cpp:166 open VIDEOIO(CV_IMAGES): raised OpenCV exception:\n",
      "\n",
      "OpenCV(4.8.0) /Users/xperience/GHA-OpenCV-Python/_work/opencv-python/opencv-python/opencv/modules/videoio/src/cap_images.cpp:267: error: (-215:Assertion failed) number < max_number in function 'icvExtractPattern'\n",
      "\n",
      "\n",
      "OpenCV: Couldn't read video stream from file \"../data/processed/videos/7136469259756031000.mp4\"\n",
      "[ERROR:0@3832.513] global cap.cpp:166 open VIDEOIO(CV_IMAGES): raised OpenCV exception:\n",
      "\n",
      "OpenCV(4.8.0) /Users/xperience/GHA-OpenCV-Python/_work/opencv-python/opencv-python/opencv/modules/videoio/src/cap_images.cpp:267: error: (-215:Assertion failed) number < max_number in function 'icvExtractPattern'\n",
      "\n",
      "\n",
      "OpenCV: Couldn't read video stream from file \"../data/processed/videos/7136459590434147000.mp4\"\n",
      "[ERROR:0@3832.514] global cap.cpp:166 open VIDEOIO(CV_IMAGES): raised OpenCV exception:\n",
      "\n",
      "OpenCV(4.8.0) /Users/xperience/GHA-OpenCV-Python/_work/opencv-python/opencv-python/opencv/modules/videoio/src/cap_images.cpp:267: error: (-215:Assertion failed) number < max_number in function 'icvExtractPattern'\n",
      "\n",
      "\n",
      "OpenCV: Couldn't read video stream from file \"../data/processed/videos/7136424309131578000.mp4\"\n",
      "[ERROR:0@3832.514] global cap.cpp:166 open VIDEOIO(CV_IMAGES): raised OpenCV exception:\n",
      "\n",
      "OpenCV(4.8.0) /Users/xperience/GHA-OpenCV-Python/_work/opencv-python/opencv-python/opencv/modules/videoio/src/cap_images.cpp:267: error: (-215:Assertion failed) number < max_number in function 'icvExtractPattern'\n",
      "\n",
      "\n",
      "OpenCV: Couldn't read video stream from file \"../data/processed/videos/7136118025811480000.mp4\"\n",
      "[ERROR:0@3832.514] global cap.cpp:166 open VIDEOIO(CV_IMAGES): raised OpenCV exception:\n",
      "\n",
      "OpenCV(4.8.0) /Users/xperience/GHA-OpenCV-Python/_work/opencv-python/opencv-python/opencv/modules/videoio/src/cap_images.cpp:267: error: (-215:Assertion failed) number < max_number in function 'icvExtractPattern'\n",
      "\n",
      "\n",
      "OpenCV: Couldn't read video stream from file \"../data/processed/videos/7135363514704727000.mp4\"\n",
      "[ERROR:0@3832.515] global cap.cpp:166 open VIDEOIO(CV_IMAGES): raised OpenCV exception:\n",
      "\n",
      "OpenCV(4.8.0) /Users/xperience/GHA-OpenCV-Python/_work/opencv-python/opencv-python/opencv/modules/videoio/src/cap_images.cpp:267: error: (-215:Assertion failed) number < max_number in function 'icvExtractPattern'\n",
      "\n",
      "\n",
      "OpenCV: Couldn't read video stream from file \"../data/processed/videos/7135145359629635000.mp4\"\n",
      "[ERROR:0@3832.515] global cap.cpp:166 open VIDEOIO(CV_IMAGES): raised OpenCV exception:\n",
      "\n",
      "OpenCV(4.8.0) /Users/xperience/GHA-OpenCV-Python/_work/opencv-python/opencv-python/opencv/modules/videoio/src/cap_images.cpp:267: error: (-215:Assertion failed) number < max_number in function 'icvExtractPattern'\n",
      "\n",
      "\n",
      "OpenCV: Couldn't read video stream from file \"../data/processed/videos/7134693026680655000.mp4\"\n",
      "[ERROR:0@3832.515] global cap.cpp:166 open VIDEOIO(CV_IMAGES): raised OpenCV exception:\n",
      "\n",
      "OpenCV(4.8.0) /Users/xperience/GHA-OpenCV-Python/_work/opencv-python/opencv-python/opencv/modules/videoio/src/cap_images.cpp:267: error: (-215:Assertion failed) number < max_number in function 'icvExtractPattern'\n",
      "\n",
      "\n",
      "OpenCV: Couldn't read video stream from file \"../data/processed/videos/7134593713753427000.mp4\"\n",
      "[ERROR:0@3832.515] global cap.cpp:166 open VIDEOIO(CV_IMAGES): raised OpenCV exception:\n",
      "\n",
      "OpenCV(4.8.0) /Users/xperience/GHA-OpenCV-Python/_work/opencv-python/opencv-python/opencv/modules/videoio/src/cap_images.cpp:267: error: (-215:Assertion failed) number < max_number in function 'icvExtractPattern'\n",
      "\n",
      "\n",
      "OpenCV: Couldn't read video stream from file \"../data/processed/videos/7134227016500497000.mp4\"\n",
      "[ERROR:0@3832.516] global cap.cpp:166 open VIDEOIO(CV_IMAGES): raised OpenCV exception:\n",
      "\n",
      "OpenCV(4.8.0) /Users/xperience/GHA-OpenCV-Python/_work/opencv-python/opencv-python/opencv/modules/videoio/src/cap_images.cpp:267: error: (-215:Assertion failed) number < max_number in function 'icvExtractPattern'\n",
      "\n",
      "\n",
      "OpenCV: Couldn't read video stream from file \"../data/processed/videos/7133867159503097000.mp4\"\n",
      "[ERROR:0@3832.516] global cap.cpp:166 open VIDEOIO(CV_IMAGES): raised OpenCV exception:\n",
      "\n",
      "OpenCV(4.8.0) /Users/xperience/GHA-OpenCV-Python/_work/opencv-python/opencv-python/opencv/modules/videoio/src/cap_images.cpp:267: error: (-215:Assertion failed) number < max_number in function 'icvExtractPattern'\n",
      "\n",
      "\n",
      "OpenCV: Couldn't read video stream from file \"../data/processed/videos/7133129347828944000.mp4\"\n",
      "[ERROR:0@3832.516] global cap.cpp:166 open VIDEOIO(CV_IMAGES): raised OpenCV exception:\n",
      "\n",
      "OpenCV(4.8.0) /Users/xperience/GHA-OpenCV-Python/_work/opencv-python/opencv-python/opencv/modules/videoio/src/cap_images.cpp:267: error: (-215:Assertion failed) number < max_number in function 'icvExtractPattern'\n",
      "\n",
      "\n",
      "OpenCV: Couldn't read video stream from file \"../data/processed/videos/7132830393153162000.mp4\"\n",
      "[ERROR:0@3832.517] global cap.cpp:166 open VIDEOIO(CV_IMAGES): raised OpenCV exception:\n",
      "\n",
      "OpenCV(4.8.0) /Users/xperience/GHA-OpenCV-Python/_work/opencv-python/opencv-python/opencv/modules/videoio/src/cap_images.cpp:267: error: (-215:Assertion failed) number < max_number in function 'icvExtractPattern'\n",
      "\n",
      "\n",
      "OpenCV: Couldn't read video stream from file \"../data/processed/videos/7132746085545561000.mp4\"\n",
      "[ERROR:0@3832.517] global cap.cpp:166 open VIDEOIO(CV_IMAGES): raised OpenCV exception:\n",
      "\n",
      "OpenCV(4.8.0) /Users/xperience/GHA-OpenCV-Python/_work/opencv-python/opencv-python/opencv/modules/videoio/src/cap_images.cpp:267: error: (-215:Assertion failed) number < max_number in function 'icvExtractPattern'\n",
      "\n",
      "\n",
      "OpenCV: Couldn't read video stream from file \"../data/processed/videos/7132368164540730000.mp4\"\n",
      "[ERROR:0@3832.517] global cap.cpp:166 open VIDEOIO(CV_IMAGES): raised OpenCV exception:\n",
      "\n",
      "OpenCV(4.8.0) /Users/xperience/GHA-OpenCV-Python/_work/opencv-python/opencv-python/opencv/modules/videoio/src/cap_images.cpp:267: error: (-215:Assertion failed) number < max_number in function 'icvExtractPattern'\n",
      "\n",
      "\n",
      "OpenCV: Couldn't read video stream from file \"../data/processed/videos/7130543050006269000.mp4\"\n",
      "[ERROR:0@3832.518] global cap.cpp:166 open VIDEOIO(CV_IMAGES): raised OpenCV exception:\n",
      "\n",
      "OpenCV(4.8.0) /Users/xperience/GHA-OpenCV-Python/_work/opencv-python/opencv-python/opencv/modules/videoio/src/cap_images.cpp:267: error: (-215:Assertion failed) number < max_number in function 'icvExtractPattern'\n",
      "\n",
      "\n",
      "OpenCV: Couldn't read video stream from file \"../data/processed/videos/7128429765639343000.mp4\"\n",
      "[ERROR:0@3832.518] global cap.cpp:166 open VIDEOIO(CV_IMAGES): raised OpenCV exception:\n",
      "\n",
      "OpenCV(4.8.0) /Users/xperience/GHA-OpenCV-Python/_work/opencv-python/opencv-python/opencv/modules/videoio/src/cap_images.cpp:267: error: (-215:Assertion failed) number < max_number in function 'icvExtractPattern'\n",
      "\n",
      "\n",
      "OpenCV: Couldn't read video stream from file \"../data/processed/videos/7128321428012764000.mp4\"\n",
      "[ERROR:0@3832.518] global cap.cpp:166 open VIDEOIO(CV_IMAGES): raised OpenCV exception:\n",
      "\n",
      "OpenCV(4.8.0) /Users/xperience/GHA-OpenCV-Python/_work/opencv-python/opencv-python/opencv/modules/videoio/src/cap_images.cpp:267: error: (-215:Assertion failed) number < max_number in function 'icvExtractPattern'\n",
      "\n",
      "\n",
      "OpenCV: Couldn't read video stream from file \"../data/processed/videos/7123181095293701000.mp4\"\n",
      "[ERROR:0@3832.518] global cap.cpp:166 open VIDEOIO(CV_IMAGES): raised OpenCV exception:\n",
      "\n",
      "OpenCV(4.8.0) /Users/xperience/GHA-OpenCV-Python/_work/opencv-python/opencv-python/opencv/modules/videoio/src/cap_images.cpp:267: error: (-215:Assertion failed) number < max_number in function 'icvExtractPattern'\n",
      "\n",
      "\n",
      "OpenCV: Couldn't read video stream from file \"../data/processed/videos/7122815617337495000.mp4\"\n",
      "[ERROR:0@3832.519] global cap.cpp:166 open VIDEOIO(CV_IMAGES): raised OpenCV exception:\n",
      "\n",
      "OpenCV(4.8.0) /Users/xperience/GHA-OpenCV-Python/_work/opencv-python/opencv-python/opencv/modules/videoio/src/cap_images.cpp:267: error: (-215:Assertion failed) number < max_number in function 'icvExtractPattern'\n",
      "\n",
      "\n",
      "OpenCV: Couldn't read video stream from file \"../data/processed/videos/7116559793489268000.mp4\"\n",
      "[ERROR:0@3832.519] global cap.cpp:166 open VIDEOIO(CV_IMAGES): raised OpenCV exception:\n",
      "\n",
      "OpenCV(4.8.0) /Users/xperience/GHA-OpenCV-Python/_work/opencv-python/opencv-python/opencv/modules/videoio/src/cap_images.cpp:267: error: (-215:Assertion failed) number < max_number in function 'icvExtractPattern'\n",
      "\n",
      "\n",
      "OpenCV: Couldn't read video stream from file \"../data/processed/videos/7115419591593037000.mp4\"\n",
      "[ERROR:0@3832.519] global cap.cpp:166 open VIDEOIO(CV_IMAGES): raised OpenCV exception:\n",
      "\n",
      "OpenCV(4.8.0) /Users/xperience/GHA-OpenCV-Python/_work/opencv-python/opencv-python/opencv/modules/videoio/src/cap_images.cpp:267: error: (-215:Assertion failed) number < max_number in function 'icvExtractPattern'\n",
      "\n",
      "\n",
      "OpenCV: Couldn't read video stream from file \"../data/processed/videos/7113843601427140000.mp4\"\n",
      "[ERROR:0@3832.520] global cap.cpp:166 open VIDEOIO(CV_IMAGES): raised OpenCV exception:\n",
      "\n",
      "OpenCV(4.8.0) /Users/xperience/GHA-OpenCV-Python/_work/opencv-python/opencv-python/opencv/modules/videoio/src/cap_images.cpp:267: error: (-215:Assertion failed) number < max_number in function 'icvExtractPattern'\n",
      "\n",
      "\n",
      "OpenCV: Couldn't read video stream from file \"../data/processed/videos/7111970905525341000.mp4\"\n",
      "[ERROR:0@3832.520] global cap.cpp:166 open VIDEOIO(CV_IMAGES): raised OpenCV exception:\n",
      "\n",
      "OpenCV(4.8.0) /Users/xperience/GHA-OpenCV-Python/_work/opencv-python/opencv-python/opencv/modules/videoio/src/cap_images.cpp:267: error: (-215:Assertion failed) number < max_number in function 'icvExtractPattern'\n",
      "\n",
      "\n",
      "OpenCV: Couldn't read video stream from file \"../data/processed/videos/7109740680011894000.mp4\"\n",
      "[ERROR:0@3832.520] global cap.cpp:166 open VIDEOIO(CV_IMAGES): raised OpenCV exception:\n",
      "\n",
      "OpenCV(4.8.0) /Users/xperience/GHA-OpenCV-Python/_work/opencv-python/opencv-python/opencv/modules/videoio/src/cap_images.cpp:267: error: (-215:Assertion failed) number < max_number in function 'icvExtractPattern'\n",
      "\n",
      "\n",
      "OpenCV: Couldn't read video stream from file \"../data/processed/videos/7109083244611587000.mp4\"\n",
      "[ERROR:0@3832.520] global cap.cpp:166 open VIDEOIO(CV_IMAGES): raised OpenCV exception:\n",
      "\n",
      "OpenCV(4.8.0) /Users/xperience/GHA-OpenCV-Python/_work/opencv-python/opencv-python/opencv/modules/videoio/src/cap_images.cpp:267: error: (-215:Assertion failed) number < max_number in function 'icvExtractPattern'\n",
      "\n",
      "\n",
      "OpenCV: Couldn't read video stream from file \"../data/processed/videos/7107893116505492000.mp4\"\n",
      "[ERROR:0@3832.521] global cap.cpp:166 open VIDEOIO(CV_IMAGES): raised OpenCV exception:\n",
      "\n",
      "OpenCV(4.8.0) /Users/xperience/GHA-OpenCV-Python/_work/opencv-python/opencv-python/opencv/modules/videoio/src/cap_images.cpp:267: error: (-215:Assertion failed) number < max_number in function 'icvExtractPattern'\n",
      "\n",
      "\n",
      "OpenCV: Couldn't read video stream from file \"../data/processed/videos/7106933742027001000.mp4\"\n",
      "[ERROR:0@3832.521] global cap.cpp:166 open VIDEOIO(CV_IMAGES): raised OpenCV exception:\n",
      "\n",
      "OpenCV(4.8.0) /Users/xperience/GHA-OpenCV-Python/_work/opencv-python/opencv-python/opencv/modules/videoio/src/cap_images.cpp:267: error: (-215:Assertion failed) number < max_number in function 'icvExtractPattern'\n",
      "\n",
      "\n",
      "OpenCV: Couldn't read video stream from file \"../data/processed/videos/7106170331500400000.mp4\"\n",
      "[ERROR:0@3832.521] global cap.cpp:166 open VIDEOIO(CV_IMAGES): raised OpenCV exception:\n",
      "\n",
      "OpenCV(4.8.0) /Users/xperience/GHA-OpenCV-Python/_work/opencv-python/opencv-python/opencv/modules/videoio/src/cap_images.cpp:267: error: (-215:Assertion failed) number < max_number in function 'icvExtractPattern'\n",
      "\n",
      "\n",
      "OpenCV: Couldn't read video stream from file \"../data/processed/videos/7104580217892507000.mp4\"\n",
      "[ERROR:0@3832.522] global cap.cpp:166 open VIDEOIO(CV_IMAGES): raised OpenCV exception:\n",
      "\n",
      "OpenCV(4.8.0) /Users/xperience/GHA-OpenCV-Python/_work/opencv-python/opencv-python/opencv/modules/videoio/src/cap_images.cpp:267: error: (-215:Assertion failed) number < max_number in function 'icvExtractPattern'\n",
      "\n",
      "\n",
      "OpenCV: Couldn't read video stream from file \"../data/processed/videos/7104226960422800000.mp4\"\n",
      "[ERROR:0@3832.522] global cap.cpp:166 open VIDEOIO(CV_IMAGES): raised OpenCV exception:\n",
      "\n",
      "OpenCV(4.8.0) /Users/xperience/GHA-OpenCV-Python/_work/opencv-python/opencv-python/opencv/modules/videoio/src/cap_images.cpp:267: error: (-215:Assertion failed) number < max_number in function 'icvExtractPattern'\n",
      "\n",
      "\n",
      "OpenCV: Couldn't read video stream from file \"../data/processed/videos/7094669289294220000.mp4\"\n",
      "[ERROR:0@3832.522] global cap.cpp:166 open VIDEOIO(CV_IMAGES): raised OpenCV exception:\n",
      "\n",
      "OpenCV(4.8.0) /Users/xperience/GHA-OpenCV-Python/_work/opencv-python/opencv-python/opencv/modules/videoio/src/cap_images.cpp:267: error: (-215:Assertion failed) number < max_number in function 'icvExtractPattern'\n",
      "\n",
      "\n",
      "OpenCV: Couldn't read video stream from file \"../data/processed/videos/7092832806765612000.mp4\"\n",
      "[ERROR:0@3832.523] global cap.cpp:166 open VIDEOIO(CV_IMAGES): raised OpenCV exception:\n",
      "\n",
      "OpenCV(4.8.0) /Users/xperience/GHA-OpenCV-Python/_work/opencv-python/opencv-python/opencv/modules/videoio/src/cap_images.cpp:267: error: (-215:Assertion failed) number < max_number in function 'icvExtractPattern'\n",
      "\n",
      "\n",
      "OpenCV: Couldn't read video stream from file \"../data/processed/videos/7092798207511612000.mp4\"\n",
      "[ERROR:0@3832.523] global cap.cpp:166 open VIDEOIO(CV_IMAGES): raised OpenCV exception:\n",
      "\n",
      "OpenCV(4.8.0) /Users/xperience/GHA-OpenCV-Python/_work/opencv-python/opencv-python/opencv/modules/videoio/src/cap_images.cpp:267: error: (-215:Assertion failed) number < max_number in function 'icvExtractPattern'\n",
      "\n",
      "\n",
      "OpenCV: Couldn't read video stream from file \"../data/processed/videos/7092750010739215000.mp4\"\n",
      "[ERROR:0@3832.523] global cap.cpp:166 open VIDEOIO(CV_IMAGES): raised OpenCV exception:\n",
      "\n",
      "OpenCV(4.8.0) /Users/xperience/GHA-OpenCV-Python/_work/opencv-python/opencv-python/opencv/modules/videoio/src/cap_images.cpp:267: error: (-215:Assertion failed) number < max_number in function 'icvExtractPattern'\n",
      "\n",
      "\n",
      "OpenCV: Couldn't read video stream from file \"../data/processed/videos/7092732219587874000.mp4\"\n",
      "[ERROR:0@3832.524] global cap.cpp:166 open VIDEOIO(CV_IMAGES): raised OpenCV exception:\n",
      "\n",
      "OpenCV(4.8.0) /Users/xperience/GHA-OpenCV-Python/_work/opencv-python/opencv-python/opencv/modules/videoio/src/cap_images.cpp:267: error: (-215:Assertion failed) number < max_number in function 'icvExtractPattern'\n",
      "\n",
      "\n",
      "OpenCV: Couldn't read video stream from file \"../data/processed/videos/7092396552064454000.mp4\"\n",
      "[ERROR:0@3832.524] global cap.cpp:166 open VIDEOIO(CV_IMAGES): raised OpenCV exception:\n",
      "\n",
      "OpenCV(4.8.0) /Users/xperience/GHA-OpenCV-Python/_work/opencv-python/opencv-python/opencv/modules/videoio/src/cap_images.cpp:267: error: (-215:Assertion failed) number < max_number in function 'icvExtractPattern'\n",
      "\n",
      "\n",
      "OpenCV: Couldn't read video stream from file \"../data/processed/videos/7092292016104607000.mp4\"\n",
      "[ERROR:0@3832.524] global cap.cpp:166 open VIDEOIO(CV_IMAGES): raised OpenCV exception:\n",
      "\n",
      "OpenCV(4.8.0) /Users/xperience/GHA-OpenCV-Python/_work/opencv-python/opencv-python/opencv/modules/videoio/src/cap_images.cpp:267: error: (-215:Assertion failed) number < max_number in function 'icvExtractPattern'\n",
      "\n",
      "\n",
      "OpenCV: Couldn't read video stream from file \"../data/processed/videos/7092109732386737000.mp4\"\n",
      "[ERROR:0@3832.524] global cap.cpp:166 open VIDEOIO(CV_IMAGES): raised OpenCV exception:\n",
      "\n",
      "OpenCV(4.8.0) /Users/xperience/GHA-OpenCV-Python/_work/opencv-python/opencv-python/opencv/modules/videoio/src/cap_images.cpp:267: error: (-215:Assertion failed) number < max_number in function 'icvExtractPattern'\n",
      "\n",
      "\n",
      "OpenCV: Couldn't read video stream from file \"../data/processed/videos/7092079134247046000.mp4\"\n",
      "[ERROR:0@3832.525] global cap.cpp:166 open VIDEOIO(CV_IMAGES): raised OpenCV exception:\n",
      "\n",
      "OpenCV(4.8.0) /Users/xperience/GHA-OpenCV-Python/_work/opencv-python/opencv-python/opencv/modules/videoio/src/cap_images.cpp:267: error: (-215:Assertion failed) number < max_number in function 'icvExtractPattern'\n",
      "\n",
      "\n",
      "OpenCV: Couldn't read video stream from file \"../data/processed/videos/7086078703641333000.mp4\"\n",
      "[ERROR:0@3832.525] global cap.cpp:166 open VIDEOIO(CV_IMAGES): raised OpenCV exception:\n",
      "\n",
      "OpenCV(4.8.0) /Users/xperience/GHA-OpenCV-Python/_work/opencv-python/opencv-python/opencv/modules/videoio/src/cap_images.cpp:267: error: (-215:Assertion failed) number < max_number in function 'icvExtractPattern'\n",
      "\n",
      "\n",
      "OpenCV: Couldn't read video stream from file \"../data/processed/videos/7081255304721075000.mp4\"\n",
      "[ERROR:0@3832.525] global cap.cpp:166 open VIDEOIO(CV_IMAGES): raised OpenCV exception:\n",
      "\n",
      "OpenCV(4.8.0) /Users/xperience/GHA-OpenCV-Python/_work/opencv-python/opencv-python/opencv/modules/videoio/src/cap_images.cpp:267: error: (-215:Assertion failed) number < max_number in function 'icvExtractPattern'\n",
      "\n",
      "\n",
      "OpenCV: Couldn't read video stream from file \"../data/processed/videos/7080511603812109000.mp4\"\n",
      "[ERROR:0@3832.525] global cap.cpp:166 open VIDEOIO(CV_IMAGES): raised OpenCV exception:\n",
      "\n",
      "OpenCV(4.8.0) /Users/xperience/GHA-OpenCV-Python/_work/opencv-python/opencv-python/opencv/modules/videoio/src/cap_images.cpp:267: error: (-215:Assertion failed) number < max_number in function 'icvExtractPattern'\n",
      "\n",
      "\n",
      "OpenCV: Couldn't read video stream from file \"../data/processed/videos/7078649936128003000.mp4\"\n",
      "[ERROR:0@3832.526] global cap.cpp:166 open VIDEOIO(CV_IMAGES): raised OpenCV exception:\n",
      "\n",
      "OpenCV(4.8.0) /Users/xperience/GHA-OpenCV-Python/_work/opencv-python/opencv-python/opencv/modules/videoio/src/cap_images.cpp:267: error: (-215:Assertion failed) number < max_number in function 'icvExtractPattern'\n",
      "\n",
      "\n",
      "OpenCV: Couldn't read video stream from file \"../data/processed/videos/7078014348152638000.mp4\"\n",
      "[ERROR:0@3832.526] global cap.cpp:166 open VIDEOIO(CV_IMAGES): raised OpenCV exception:\n",
      "\n",
      "OpenCV(4.8.0) /Users/xperience/GHA-OpenCV-Python/_work/opencv-python/opencv-python/opencv/modules/videoio/src/cap_images.cpp:267: error: (-215:Assertion failed) number < max_number in function 'icvExtractPattern'\n",
      "\n",
      "\n",
      "OpenCV: Couldn't read video stream from file \"../data/processed/videos/7074535704902077000.mp4\"\n",
      "[ERROR:0@3832.526] global cap.cpp:166 open VIDEOIO(CV_IMAGES): raised OpenCV exception:\n",
      "\n",
      "OpenCV(4.8.0) /Users/xperience/GHA-OpenCV-Python/_work/opencv-python/opencv-python/opencv/modules/videoio/src/cap_images.cpp:267: error: (-215:Assertion failed) number < max_number in function 'icvExtractPattern'\n",
      "\n",
      "\n",
      "OpenCV: Couldn't read video stream from file \"../data/processed/videos/7074130814199516000.mp4\"\n",
      "[ERROR:0@3832.526] global cap.cpp:166 open VIDEOIO(CV_IMAGES): raised OpenCV exception:\n",
      "\n",
      "OpenCV(4.8.0) /Users/xperience/GHA-OpenCV-Python/_work/opencv-python/opencv-python/opencv/modules/videoio/src/cap_images.cpp:267: error: (-215:Assertion failed) number < max_number in function 'icvExtractPattern'\n",
      "\n",
      "\n",
      "OpenCV: Couldn't read video stream from file \"../data/processed/videos/7073752853965262000.mp4\"\n",
      "[ERROR:0@3832.527] global cap.cpp:166 open VIDEOIO(CV_IMAGES): raised OpenCV exception:\n",
      "\n",
      "OpenCV(4.8.0) /Users/xperience/GHA-OpenCV-Python/_work/opencv-python/opencv-python/opencv/modules/videoio/src/cap_images.cpp:267: error: (-215:Assertion failed) number < max_number in function 'icvExtractPattern'\n",
      "\n",
      "\n",
      "OpenCV: Couldn't read video stream from file \"../data/processed/videos/7070475423716543000.mp4\"\n",
      "[ERROR:0@3832.527] global cap.cpp:166 open VIDEOIO(CV_IMAGES): raised OpenCV exception:\n",
      "\n",
      "OpenCV(4.8.0) /Users/xperience/GHA-OpenCV-Python/_work/opencv-python/opencv-python/opencv/modules/videoio/src/cap_images.cpp:267: error: (-215:Assertion failed) number < max_number in function 'icvExtractPattern'\n",
      "\n",
      "\n",
      "OpenCV: Couldn't read video stream from file \"../data/processed/videos/7070414977118588000.mp4\"\n",
      "[ERROR:0@3832.527] global cap.cpp:166 open VIDEOIO(CV_IMAGES): raised OpenCV exception:\n",
      "\n",
      "OpenCV(4.8.0) /Users/xperience/GHA-OpenCV-Python/_work/opencv-python/opencv-python/opencv/modules/videoio/src/cap_images.cpp:267: error: (-215:Assertion failed) number < max_number in function 'icvExtractPattern'\n",
      "\n",
      "\n",
      "OpenCV: Couldn't read video stream from file \"../data/processed/videos/7070073900100521000.mp4\"\n",
      "[ERROR:0@3832.528] global cap.cpp:166 open VIDEOIO(CV_IMAGES): raised OpenCV exception:\n",
      "\n",
      "OpenCV(4.8.0) /Users/xperience/GHA-OpenCV-Python/_work/opencv-python/opencv-python/opencv/modules/videoio/src/cap_images.cpp:267: error: (-215:Assertion failed) number < max_number in function 'icvExtractPattern'\n",
      "\n",
      "\n",
      "OpenCV: Couldn't read video stream from file \"../data/processed/videos/7069423165268626000.mp4\"\n",
      "[ERROR:0@3832.528] global cap.cpp:166 open VIDEOIO(CV_IMAGES): raised OpenCV exception:\n",
      "\n",
      "OpenCV(4.8.0) /Users/xperience/GHA-OpenCV-Python/_work/opencv-python/opencv-python/opencv/modules/videoio/src/cap_images.cpp:267: error: (-215:Assertion failed) number < max_number in function 'icvExtractPattern'\n",
      "\n",
      "\n",
      "OpenCV: Couldn't read video stream from file \"../data/processed/videos/7067893974035402000.mp4\"\n",
      "[ERROR:0@3832.528] global cap.cpp:166 open VIDEOIO(CV_IMAGES): raised OpenCV exception:\n",
      "\n",
      "OpenCV(4.8.0) /Users/xperience/GHA-OpenCV-Python/_work/opencv-python/opencv-python/opencv/modules/videoio/src/cap_images.cpp:267: error: (-215:Assertion failed) number < max_number in function 'icvExtractPattern'\n",
      "\n",
      "\n",
      "OpenCV: Couldn't read video stream from file \"../data/processed/videos/7067167670214331000.mp4\"\n",
      "[ERROR:0@3832.529] global cap.cpp:166 open VIDEOIO(CV_IMAGES): raised OpenCV exception:\n",
      "\n",
      "OpenCV(4.8.0) /Users/xperience/GHA-OpenCV-Python/_work/opencv-python/opencv-python/opencv/modules/videoio/src/cap_images.cpp:267: error: (-215:Assertion failed) number < max_number in function 'icvExtractPattern'\n",
      "\n",
      "\n",
      "OpenCV: Couldn't read video stream from file \"../data/processed/videos/7066845965105319000.mp4\"\n",
      "[ERROR:0@3832.529] global cap.cpp:166 open VIDEOIO(CV_IMAGES): raised OpenCV exception:\n",
      "\n",
      "OpenCV(4.8.0) /Users/xperience/GHA-OpenCV-Python/_work/opencv-python/opencv-python/opencv/modules/videoio/src/cap_images.cpp:267: error: (-215:Assertion failed) number < max_number in function 'icvExtractPattern'\n",
      "\n",
      "\n",
      "OpenCV: Couldn't read video stream from file \"../data/processed/videos/7066095800291577000.mp4\"\n",
      "[ERROR:0@3832.529] global cap.cpp:166 open VIDEOIO(CV_IMAGES): raised OpenCV exception:\n",
      "\n",
      "OpenCV(4.8.0) /Users/xperience/GHA-OpenCV-Python/_work/opencv-python/opencv-python/opencv/modules/videoio/src/cap_images.cpp:267: error: (-215:Assertion failed) number < max_number in function 'icvExtractPattern'\n",
      "\n",
      "\n",
      "OpenCV: Couldn't read video stream from file \"../data/processed/videos/7063465536109235000.mp4\"\n",
      "[ERROR:0@3832.529] global cap.cpp:166 open VIDEOIO(CV_IMAGES): raised OpenCV exception:\n",
      "\n",
      "OpenCV(4.8.0) /Users/xperience/GHA-OpenCV-Python/_work/opencv-python/opencv-python/opencv/modules/videoio/src/cap_images.cpp:267: error: (-215:Assertion failed) number < max_number in function 'icvExtractPattern'\n",
      "\n",
      "\n",
      "OpenCV: Couldn't read video stream from file \"../data/processed/videos/7063159758185827000.mp4\"\n",
      "[ERROR:0@3832.529] global cap.cpp:166 open VIDEOIO(CV_IMAGES): raised OpenCV exception:\n",
      "\n",
      "OpenCV(4.8.0) /Users/xperience/GHA-OpenCV-Python/_work/opencv-python/opencv-python/opencv/modules/videoio/src/cap_images.cpp:267: error: (-215:Assertion failed) number < max_number in function 'icvExtractPattern'\n",
      "\n",
      "\n",
      "OpenCV: Couldn't read video stream from file \"../data/processed/videos/7060519835788250000.mp4\"\n",
      "[ERROR:0@3832.530] global cap.cpp:166 open VIDEOIO(CV_IMAGES): raised OpenCV exception:\n",
      "\n",
      "OpenCV(4.8.0) /Users/xperience/GHA-OpenCV-Python/_work/opencv-python/opencv-python/opencv/modules/videoio/src/cap_images.cpp:267: error: (-215:Assertion failed) number < max_number in function 'icvExtractPattern'\n",
      "\n",
      "\n"
     ]
    }
   ],
   "source": [
    "def get_video_duration(filename):\n",
    "\n",
    "    video = cv2.VideoCapture(filename)\n",
    "\n",
    "    if video is None or not video.isOpened():\n",
    "       print('Warning: unable to open video source: ', filename)\n",
    "       return '###### VIDEO NOT FOUND ###########'\n",
    "\n",
    "    duration = video.get(cv2.CAP_PROP_POS_MSEC)\n",
    "    fps = video.get(cv2.CAP_PROP_FPS)      \n",
    "    frame_count = int(video.get(cv2.CAP_PROP_FRAME_COUNT))\n",
    "    duration = frame_count/fps\n",
    "\n",
    "    minutes = int(duration/60)\n",
    "    seconds = duration%60\n",
    "    duration_formatted = str(minutes) + ':' + str(round(seconds))\n",
    "\n",
    "    video.release()\n",
    "    return duration_formatted\n",
    "\n",
    "videos_translated_df = pd.read_json(processed_dir + 'videos-translated.json', convert_dates=['createTime'])\n",
    "\n",
    "def add_duration(file_id):\n",
    "    file_name = processed_dir + 'videos/' + str(file_id) + '.mp4'\n",
    "    duration = get_video_duration(file_name)\n",
    "    \n",
    "    print(duration)\n",
    "    return duration\n",
    "\n",
    "videos_translated_df['duration'] = videos_translated_df.apply(lambda row: add_duration(row['id']), axis=1)\n",
    "\n",
    "videos_translated_df.to_json(processed_dir + 'videos-translated-with-duration.json')\n",
    "\n"
   ]
  },
  {
   "cell_type": "markdown",
   "metadata": {},
   "source": [
    "## Convert any Video Files to audio "
   ]
  },
  {
   "cell_type": "code",
   "execution_count": 15,
   "metadata": {},
   "outputs": [
    {
     "name": "stdout",
     "output_type": "stream",
     "text": [
      "224\n",
      "MoviePy - Writing audio in ../data/processed/audio/7144425341279341830.mp3\n"
     ]
    },
    {
     "name": "stderr",
     "output_type": "stream",
     "text": [
      "                                                                    \r"
     ]
    },
    {
     "name": "stdout",
     "output_type": "stream",
     "text": [
      "MoviePy - Done.\n",
      "MoviePy - Writing audio in ../data/processed/audio/7187471251794005254.mp3\n"
     ]
    },
    {
     "name": "stderr",
     "output_type": "stream",
     "text": [
      "                                                                      \r"
     ]
    },
    {
     "name": "stdout",
     "output_type": "stream",
     "text": [
      "MoviePy - Done.\n",
      "MoviePy - Writing audio in ../data/processed/audio/7145754357013777670.mp3\n"
     ]
    },
    {
     "name": "stderr",
     "output_type": "stream",
     "text": [
      "                                                                      \r"
     ]
    },
    {
     "name": "stdout",
     "output_type": "stream",
     "text": [
      "MoviePy - Done.\n",
      "MoviePy - Writing audio in ../data/processed/audio/7158424452286401797.mp3\n"
     ]
    },
    {
     "name": "stderr",
     "output_type": "stream",
     "text": [
      "                                                                      \r"
     ]
    },
    {
     "name": "stdout",
     "output_type": "stream",
     "text": [
      "MoviePy - Done.\n",
      "MoviePy - Writing audio in ../data/processed/audio/7277971263958666529.mp3\n"
     ]
    },
    {
     "name": "stderr",
     "output_type": "stream",
     "text": [
      "                                                                      \r"
     ]
    },
    {
     "name": "stdout",
     "output_type": "stream",
     "text": [
      "MoviePy - Done.\n",
      "MoviePy - Writing audio in ../data/processed/audio/7092798207511612678.mp3\n"
     ]
    },
    {
     "name": "stderr",
     "output_type": "stream",
     "text": [
      "                                                                      \r"
     ]
    },
    {
     "name": "stdout",
     "output_type": "stream",
     "text": [
      "MoviePy - Done.\n",
      "MoviePy - Writing audio in ../data/processed/audio/7244545854739172635.mp3\n"
     ]
    },
    {
     "name": "stderr",
     "output_type": "stream",
     "text": [
      "                                                                      \r"
     ]
    },
    {
     "name": "stdout",
     "output_type": "stream",
     "text": [
      "MoviePy - Done.\n",
      "MoviePy - Writing audio in ../data/processed/audio/7206775485903260933.mp3\n"
     ]
    },
    {
     "name": "stderr",
     "output_type": "stream",
     "text": [
      "                                                                      \r"
     ]
    },
    {
     "name": "stdout",
     "output_type": "stream",
     "text": [
      "MoviePy - Done.\n",
      "MoviePy - Writing audio in ../data/processed/audio/7233290952285244698.mp3\n"
     ]
    },
    {
     "name": "stderr",
     "output_type": "stream",
     "text": [
      "                                                                      \r"
     ]
    },
    {
     "name": "stdout",
     "output_type": "stream",
     "text": [
      "MoviePy - Done.\n",
      "MoviePy - Writing audio in ../data/processed/audio/7164382552751394053.mp3\n"
     ]
    },
    {
     "name": "stderr",
     "output_type": "stream",
     "text": [
      "                                                                    \r"
     ]
    },
    {
     "name": "stdout",
     "output_type": "stream",
     "text": [
      "MoviePy - Done.\n",
      "MoviePy - Writing audio in ../data/processed/audio/7228211560240467227.mp3\n"
     ]
    },
    {
     "name": "stderr",
     "output_type": "stream",
     "text": [
      "                                                                      \r"
     ]
    },
    {
     "name": "stdout",
     "output_type": "stream",
     "text": [
      "MoviePy - Done.\n",
      "MoviePy - Writing audio in ../data/processed/audio/7128429765639343366.mp3\n"
     ]
    },
    {
     "name": "stderr",
     "output_type": "stream",
     "text": [
      "                                                                      \r"
     ]
    },
    {
     "name": "stdout",
     "output_type": "stream",
     "text": [
      "MoviePy - Done.\n",
      "MoviePy - Writing audio in ../data/processed/audio/7182913772271521030.mp3\n"
     ]
    },
    {
     "name": "stderr",
     "output_type": "stream",
     "text": [
      "                                                                      \r"
     ]
    },
    {
     "name": "stdout",
     "output_type": "stream",
     "text": [
      "MoviePy - Done.\n",
      "MoviePy - Writing audio in ../data/processed/audio/7137577046552726790.mp3\n"
     ]
    },
    {
     "name": "stderr",
     "output_type": "stream",
     "text": [
      "                                                                      \r"
     ]
    },
    {
     "name": "stdout",
     "output_type": "stream",
     "text": [
      "MoviePy - Done.\n",
      "MoviePy - Writing audio in ../data/processed/audio/7138094156332715270.mp3\n"
     ]
    },
    {
     "name": "stderr",
     "output_type": "stream",
     "text": [
      "                                                                    \r"
     ]
    },
    {
     "name": "stdout",
     "output_type": "stream",
     "text": [
      "MoviePy - Done.\n",
      "MoviePy - Writing audio in ../data/processed/audio/7137699360111938822.mp3\n"
     ]
    },
    {
     "name": "stderr",
     "output_type": "stream",
     "text": [
      "                                                                    \r"
     ]
    },
    {
     "name": "stdout",
     "output_type": "stream",
     "text": [
      "MoviePy - Done.\n",
      "MoviePy - Writing audio in ../data/processed/audio/7136469259756031237.mp3\n"
     ]
    },
    {
     "name": "stderr",
     "output_type": "stream",
     "text": [
      "                                                                      \r"
     ]
    },
    {
     "name": "stdout",
     "output_type": "stream",
     "text": [
      "MoviePy - Done.\n",
      "MoviePy - Writing audio in ../data/processed/audio/7222341088596610309.mp3\n"
     ]
    },
    {
     "name": "stderr",
     "output_type": "stream",
     "text": [
      "                                                                      \r"
     ]
    },
    {
     "name": "stdout",
     "output_type": "stream",
     "text": [
      "MoviePy - Done.\n",
      "MoviePy - Writing audio in ../data/processed/audio/7183669325126012166.mp3\n"
     ]
    },
    {
     "name": "stderr",
     "output_type": "stream",
     "text": [
      "                                                                      \r"
     ]
    },
    {
     "name": "stdout",
     "output_type": "stream",
     "text": [
      "MoviePy - Done.\n",
      "MoviePy - Writing audio in ../data/processed/audio/7145877683740658949.mp3\n"
     ]
    },
    {
     "name": "stderr",
     "output_type": "stream",
     "text": [
      "                                                                    \r"
     ]
    },
    {
     "name": "stdout",
     "output_type": "stream",
     "text": [
      "MoviePy - Done.\n",
      "MoviePy - Writing audio in ../data/processed/audio/7147206448232074502.mp3\n"
     ]
    },
    {
     "name": "stderr",
     "output_type": "stream",
     "text": [
      "                                                                    \r"
     ]
    },
    {
     "name": "stdout",
     "output_type": "stream",
     "text": [
      "MoviePy - Done.\n",
      "MoviePy - Writing audio in ../data/processed/audio/7156890275317632262.mp3\n"
     ]
    },
    {
     "name": "stderr",
     "output_type": "stream",
     "text": [
      "                                                                      \r"
     ]
    },
    {
     "name": "stdout",
     "output_type": "stream",
     "text": [
      "MoviePy - Done.\n",
      "MoviePy - Writing audio in ../data/processed/audio/7066095800291577093.mp3\n"
     ]
    },
    {
     "name": "stderr",
     "output_type": "stream",
     "text": [
      "                                                        \r"
     ]
    },
    {
     "name": "stdout",
     "output_type": "stream",
     "text": [
      "MoviePy - Done.\n",
      "MoviePy - Writing audio in ../data/processed/audio/7140683479053831429.mp3\n"
     ]
    },
    {
     "name": "stderr",
     "output_type": "stream",
     "text": [
      "                                                                    \r"
     ]
    },
    {
     "name": "stdout",
     "output_type": "stream",
     "text": [
      "MoviePy - Done.\n",
      "MoviePy - Writing audio in ../data/processed/audio/7145360998407425285.mp3\n"
     ]
    },
    {
     "name": "stderr",
     "output_type": "stream",
     "text": [
      "                                                                      \r"
     ]
    },
    {
     "name": "stdout",
     "output_type": "stream",
     "text": [
      "MoviePy - Done.\n",
      "MoviePy - Writing audio in ../data/processed/audio/7204931077029268741.mp3\n"
     ]
    },
    {
     "name": "stderr",
     "output_type": "stream",
     "text": [
      "                                                                      \r"
     ]
    },
    {
     "name": "stdout",
     "output_type": "stream",
     "text": [
      "MoviePy - Done.\n",
      "MoviePy - Writing audio in ../data/processed/audio/7161412406495694086.mp3\n"
     ]
    },
    {
     "name": "stderr",
     "output_type": "stream",
     "text": [
      "                                                                      \r"
     ]
    },
    {
     "name": "stdout",
     "output_type": "stream",
     "text": [
      "MoviePy - Done.\n",
      "MoviePy - Writing audio in ../data/processed/audio/7109083244611587333.mp3\n"
     ]
    },
    {
     "name": "stderr",
     "output_type": "stream",
     "text": [
      "                                                                      \r"
     ]
    },
    {
     "name": "stdout",
     "output_type": "stream",
     "text": [
      "MoviePy - Done.\n",
      "MoviePy - Writing audio in ../data/processed/audio/7143225656137075974.mp3\n"
     ]
    },
    {
     "name": "stderr",
     "output_type": "stream",
     "text": [
      "                                                                     \r"
     ]
    },
    {
     "name": "stdout",
     "output_type": "stream",
     "text": [
      "MoviePy - Done.\n",
      "MoviePy - Writing audio in ../data/processed/audio/7139418655879744774.mp3\n"
     ]
    },
    {
     "name": "stderr",
     "output_type": "stream",
     "text": [
      "                                                                    \r"
     ]
    },
    {
     "name": "stdout",
     "output_type": "stream",
     "text": [
      "MoviePy - Done.\n",
      "MoviePy - Writing audio in ../data/processed/audio/7070073900100521222.mp3\n"
     ]
    },
    {
     "name": "stderr",
     "output_type": "stream",
     "text": [
      "                                                                      \r"
     ]
    },
    {
     "name": "stdout",
     "output_type": "stream",
     "text": [
      "MoviePy - Done.\n",
      "MoviePy - Writing audio in ../data/processed/audio/7147263913200045317.mp3\n"
     ]
    },
    {
     "name": "stderr",
     "output_type": "stream",
     "text": [
      "                                                        \r"
     ]
    },
    {
     "name": "stdout",
     "output_type": "stream",
     "text": [
      "MoviePy - Done.\n",
      "MoviePy - Writing audio in ../data/processed/audio/7265735771271728416.mp3\n"
     ]
    },
    {
     "name": "stderr",
     "output_type": "stream",
     "text": [
      "                                                                      \r"
     ]
    },
    {
     "name": "stdout",
     "output_type": "stream",
     "text": [
      "MoviePy - Done.\n",
      "MoviePy - Writing audio in ../data/processed/audio/7136548859093863685.mp3\n"
     ]
    },
    {
     "name": "stderr",
     "output_type": "stream",
     "text": [
      "                                                                    \r"
     ]
    },
    {
     "name": "stdout",
     "output_type": "stream",
     "text": [
      "MoviePy - Done.\n",
      "MoviePy - Writing audio in ../data/processed/audio/7107893116505492741.mp3\n"
     ]
    },
    {
     "name": "stderr",
     "output_type": "stream",
     "text": [
      "                                                                      \r"
     ]
    },
    {
     "name": "stdout",
     "output_type": "stream",
     "text": [
      "MoviePy - Done.\n",
      "MoviePy - Writing audio in ../data/processed/audio/7240155848205454619.mp3\n"
     ]
    },
    {
     "name": "stderr",
     "output_type": "stream",
     "text": [
      "                                                                      \r"
     ]
    },
    {
     "name": "stdout",
     "output_type": "stream",
     "text": [
      "MoviePy - Done.\n",
      "MoviePy - Writing audio in ../data/processed/audio/7216766115110735109.mp3\n"
     ]
    },
    {
     "name": "stderr",
     "output_type": "stream",
     "text": [
      "                                                                      \r"
     ]
    },
    {
     "name": "stdout",
     "output_type": "stream",
     "text": [
      "MoviePy - Done.\n",
      "MoviePy - Writing audio in ../data/processed/audio/7243739642934201626.mp3\n"
     ]
    },
    {
     "name": "stderr",
     "output_type": "stream",
     "text": [
      "                                                                      \r"
     ]
    },
    {
     "name": "stdout",
     "output_type": "stream",
     "text": [
      "MoviePy - Done.\n",
      "MoviePy - Writing audio in ../data/processed/audio/7174007223310372101.mp3\n"
     ]
    },
    {
     "name": "stderr",
     "output_type": "stream",
     "text": [
      "                                                                      \r"
     ]
    },
    {
     "name": "stdout",
     "output_type": "stream",
     "text": [
      "MoviePy - Done.\n",
      "MoviePy - Writing audio in ../data/processed/audio/7136459590434147590.mp3\n"
     ]
    },
    {
     "name": "stderr",
     "output_type": "stream",
     "text": [
      "                                                                    \r"
     ]
    },
    {
     "name": "stdout",
     "output_type": "stream",
     "text": [
      "MoviePy - Done.\n",
      "MoviePy - Writing audio in ../data/processed/audio/7206044310301592837.mp3\n"
     ]
    },
    {
     "name": "stderr",
     "output_type": "stream",
     "text": [
      "                                                                     \r"
     ]
    },
    {
     "name": "stdout",
     "output_type": "stream",
     "text": [
      "MoviePy - Done.\n",
      "MoviePy - Writing audio in ../data/processed/audio/7094669289294220549.mp3\n"
     ]
    },
    {
     "name": "stderr",
     "output_type": "stream",
     "text": [
      "                                                                      \r"
     ]
    },
    {
     "name": "stdout",
     "output_type": "stream",
     "text": [
      "MoviePy - Done.\n",
      "MoviePy - Writing audio in ../data/processed/audio/7081255304721075461.mp3\n"
     ]
    },
    {
     "name": "stderr",
     "output_type": "stream",
     "text": [
      "                                                                      \r"
     ]
    },
    {
     "name": "stdout",
     "output_type": "stream",
     "text": [
      "MoviePy - Done.\n",
      "MoviePy - Writing audio in ../data/processed/audio/7189709267392318725.mp3\n"
     ]
    },
    {
     "name": "stderr",
     "output_type": "stream",
     "text": [
      "                                                                      \r"
     ]
    },
    {
     "name": "stdout",
     "output_type": "stream",
     "text": [
      "MoviePy - Done.\n",
      "MoviePy - Writing audio in ../data/processed/audio/7227372741660282138.mp3\n"
     ]
    },
    {
     "name": "stderr",
     "output_type": "stream",
     "text": [
      "                                                                      \r"
     ]
    },
    {
     "name": "stdout",
     "output_type": "stream",
     "text": [
      "MoviePy - Done.\n",
      "MoviePy - Writing audio in ../data/processed/audio/7180307547616742662.mp3\n"
     ]
    },
    {
     "name": "stderr",
     "output_type": "stream",
     "text": [
      "                                                                        \r"
     ]
    },
    {
     "name": "stdout",
     "output_type": "stream",
     "text": [
      "MoviePy - Done.\n",
      "MoviePy - Writing audio in ../data/processed/audio/7145435366529551621.mp3\n"
     ]
    },
    {
     "name": "stderr",
     "output_type": "stream",
     "text": [
      "                                                                      \r"
     ]
    },
    {
     "name": "stdout",
     "output_type": "stream",
     "text": [
      "MoviePy - Done.\n",
      "MoviePy - Writing audio in ../data/processed/audio/7067167670214331654.mp3\n"
     ]
    },
    {
     "name": "stderr",
     "output_type": "stream",
     "text": [
      "                                                                    \r"
     ]
    },
    {
     "name": "stdout",
     "output_type": "stream",
     "text": [
      "MoviePy - Done.\n",
      "MoviePy - Writing audio in ../data/processed/audio/7143285004917935365.mp3\n"
     ]
    },
    {
     "name": "stderr",
     "output_type": "stream",
     "text": [
      "                                                                    \r"
     ]
    },
    {
     "name": "stdout",
     "output_type": "stream",
     "text": [
      "MoviePy - Done.\n",
      "MoviePy - Writing audio in ../data/processed/audio/7237568877436177690.mp3\n"
     ]
    },
    {
     "name": "stderr",
     "output_type": "stream",
     "text": [
      "                                                                    \r"
     ]
    },
    {
     "name": "stdout",
     "output_type": "stream",
     "text": [
      "MoviePy - Done.\n",
      "MoviePy - Writing audio in ../data/processed/audio/7198571880997981445.mp3\n"
     ]
    },
    {
     "name": "stderr",
     "output_type": "stream",
     "text": [
      "                                                                      \r"
     ]
    },
    {
     "name": "stdout",
     "output_type": "stream",
     "text": [
      "MoviePy - Done.\n",
      "MoviePy - Writing audio in ../data/processed/audio/7211143983282588934.mp3\n"
     ]
    },
    {
     "name": "stderr",
     "output_type": "stream",
     "text": [
      "                                                                      \r"
     ]
    },
    {
     "name": "stdout",
     "output_type": "stream",
     "text": [
      "MoviePy - Done.\n",
      "MoviePy - Writing audio in ../data/processed/audio/7135145359629634822.mp3\n"
     ]
    },
    {
     "name": "stderr",
     "output_type": "stream",
     "text": [
      "                                                        \r"
     ]
    },
    {
     "name": "stdout",
     "output_type": "stream",
     "text": [
      "MoviePy - Done.\n",
      "MoviePy - Writing audio in ../data/processed/audio/7247012477228076314.mp3\n"
     ]
    },
    {
     "name": "stderr",
     "output_type": "stream",
     "text": [
      "                                                        \r"
     ]
    },
    {
     "name": "stdout",
     "output_type": "stream",
     "text": [
      "MoviePy - Done.\n",
      "MoviePy - Writing audio in ../data/processed/audio/7182877365171801349.mp3\n"
     ]
    },
    {
     "name": "stderr",
     "output_type": "stream",
     "text": [
      "                                                                      \r"
     ]
    },
    {
     "name": "stdout",
     "output_type": "stream",
     "text": [
      "MoviePy - Done.\n",
      "MoviePy - Writing audio in ../data/processed/audio/7137360677756325126.mp3\n"
     ]
    },
    {
     "name": "stderr",
     "output_type": "stream",
     "text": [
      "                                                                    \r"
     ]
    },
    {
     "name": "stdout",
     "output_type": "stream",
     "text": [
      "MoviePy - Done.\n",
      "MoviePy - Writing audio in ../data/processed/audio/7161896989863709958.mp3\n"
     ]
    },
    {
     "name": "stderr",
     "output_type": "stream",
     "text": [
      "                                                                      \r"
     ]
    },
    {
     "name": "stdout",
     "output_type": "stream",
     "text": [
      "MoviePy - Done.\n",
      "MoviePy - Writing audio in ../data/processed/audio/7092750010739215621.mp3\n"
     ]
    },
    {
     "name": "stderr",
     "output_type": "stream",
     "text": [
      "                                                                    \r"
     ]
    },
    {
     "name": "stdout",
     "output_type": "stream",
     "text": [
      "MoviePy - Done.\n",
      "MoviePy - Writing audio in ../data/processed/audio/7078649936128003334.mp3\n"
     ]
    },
    {
     "name": "stderr",
     "output_type": "stream",
     "text": [
      "                                                                    \r"
     ]
    },
    {
     "name": "stdout",
     "output_type": "stream",
     "text": [
      "MoviePy - Done.\n",
      "MoviePy - Writing audio in ../data/processed/audio/7178948277834992901.mp3\n"
     ]
    },
    {
     "name": "stderr",
     "output_type": "stream",
     "text": [
      "                                                                      \r"
     ]
    },
    {
     "name": "stdout",
     "output_type": "stream",
     "text": [
      "MoviePy - Done.\n",
      "MoviePy - Writing audio in ../data/processed/audio/7092832806765612293.mp3\n"
     ]
    },
    {
     "name": "stderr",
     "output_type": "stream",
     "text": [
      "                                                                      \r"
     ]
    },
    {
     "name": "stdout",
     "output_type": "stream",
     "text": [
      "MoviePy - Done.\n",
      "MoviePy - Writing audio in ../data/processed/audio/7140316758455454982.mp3\n"
     ]
    },
    {
     "name": "stderr",
     "output_type": "stream",
     "text": [
      "                                                                    \r"
     ]
    },
    {
     "name": "stdout",
     "output_type": "stream",
     "text": [
      "MoviePy - Done.\n",
      "MoviePy - Writing audio in ../data/processed/audio/7136118025811479814.mp3\n"
     ]
    },
    {
     "name": "stderr",
     "output_type": "stream",
     "text": [
      "                                                                      \r"
     ]
    },
    {
     "name": "stdout",
     "output_type": "stream",
     "text": [
      "MoviePy - Done.\n",
      "MoviePy - Writing audio in ../data/processed/audio/7241634208106515738.mp3\n"
     ]
    },
    {
     "name": "stderr",
     "output_type": "stream",
     "text": [
      "                                                                      \r"
     ]
    },
    {
     "name": "stdout",
     "output_type": "stream",
     "text": [
      "MoviePy - Done.\n",
      "MoviePy - Writing audio in ../data/processed/audio/7188187795985272069.mp3\n"
     ]
    },
    {
     "name": "stderr",
     "output_type": "stream",
     "text": [
      "                                                                    \r"
     ]
    },
    {
     "name": "stdout",
     "output_type": "stream",
     "text": [
      "MoviePy - Done.\n",
      "MoviePy - Writing audio in ../data/processed/audio/7092732219587874053.mp3\n"
     ]
    },
    {
     "name": "stderr",
     "output_type": "stream",
     "text": [
      "                                                                    \r"
     ]
    },
    {
     "name": "stdout",
     "output_type": "stream",
     "text": [
      "MoviePy - Done.\n",
      "MoviePy - Writing audio in ../data/processed/audio/7143551183792164102.mp3\n"
     ]
    },
    {
     "name": "stderr",
     "output_type": "stream",
     "text": [
      "                                                                    \r"
     ]
    },
    {
     "name": "stdout",
     "output_type": "stream",
     "text": [
      "MoviePy - Done.\n",
      "MoviePy - Writing audio in ../data/processed/audio/7092292016104606982.mp3\n"
     ]
    },
    {
     "name": "stderr",
     "output_type": "stream",
     "text": [
      "                                                                      \r"
     ]
    },
    {
     "name": "stdout",
     "output_type": "stream",
     "text": [
      "MoviePy - Done.\n",
      "MoviePy - Writing audio in ../data/processed/audio/7160592391194299654.mp3\n"
     ]
    },
    {
     "name": "stderr",
     "output_type": "stream",
     "text": [
      "                                                                      \r"
     ]
    },
    {
     "name": "stdout",
     "output_type": "stream",
     "text": [
      "MoviePy - Done.\n",
      "MoviePy - Writing audio in ../data/processed/audio/7170424345486036229.mp3\n"
     ]
    },
    {
     "name": "stderr",
     "output_type": "stream",
     "text": [
      "                                                                     \r"
     ]
    },
    {
     "name": "stdout",
     "output_type": "stream",
     "text": [
      "MoviePy - Done.\n",
      "MoviePy - Writing audio in ../data/processed/audio/7063465536109235461.mp3\n"
     ]
    },
    {
     "name": "stderr",
     "output_type": "stream",
     "text": [
      "                                                                      \r"
     ]
    },
    {
     "name": "stdout",
     "output_type": "stream",
     "text": [
      "MoviePy - Done.\n",
      "MoviePy - Writing audio in ../data/processed/audio/7146265492234292486.mp3\n"
     ]
    },
    {
     "name": "stderr",
     "output_type": "stream",
     "text": [
      "                                                                     \r"
     ]
    },
    {
     "name": "stdout",
     "output_type": "stream",
     "text": [
      "MoviePy - Done.\n",
      "MoviePy - Writing audio in ../data/processed/audio/7178163802578455813.mp3\n"
     ]
    },
    {
     "name": "stderr",
     "output_type": "stream",
     "text": [
      "                                                                    \r"
     ]
    },
    {
     "name": "stdout",
     "output_type": "stream",
     "text": [
      "MoviePy - Done.\n",
      "MoviePy - Writing audio in ../data/processed/audio/7143251423474502917.mp3\n"
     ]
    },
    {
     "name": "stderr",
     "output_type": "stream",
     "text": [
      "                                                                    \r"
     ]
    },
    {
     "name": "stdout",
     "output_type": "stream",
     "text": [
      "MoviePy - Done.\n",
      "MoviePy - Writing audio in ../data/processed/audio/7073752853965262086.mp3\n"
     ]
    },
    {
     "name": "stderr",
     "output_type": "stream",
     "text": [
      "                                                                      \r"
     ]
    },
    {
     "name": "stdout",
     "output_type": "stream",
     "text": [
      "MoviePy - Done.\n",
      "MoviePy - Writing audio in ../data/processed/audio/7257581884450917659.mp3\n"
     ]
    },
    {
     "name": "stderr",
     "output_type": "stream",
     "text": [
      "                                                                    \r"
     ]
    },
    {
     "name": "stdout",
     "output_type": "stream",
     "text": [
      "MoviePy - Done.\n",
      "MoviePy - Writing audio in ../data/processed/audio/7144295242039037190.mp3\n"
     ]
    },
    {
     "name": "stderr",
     "output_type": "stream",
     "text": [
      "                                                                      \r"
     ]
    },
    {
     "name": "stdout",
     "output_type": "stream",
     "text": [
      "MoviePy - Done.\n",
      "MoviePy - Writing audio in ../data/processed/audio/7141788005320150277.mp3\n"
     ]
    },
    {
     "name": "stderr",
     "output_type": "stream",
     "text": [
      "                                                                    \r"
     ]
    },
    {
     "name": "stdout",
     "output_type": "stream",
     "text": [
      "MoviePy - Done.\n",
      "MoviePy - Writing audio in ../data/processed/audio/7066845965105319173.mp3\n"
     ]
    },
    {
     "name": "stderr",
     "output_type": "stream",
     "text": [
      "                                                                      \r"
     ]
    },
    {
     "name": "stdout",
     "output_type": "stream",
     "text": [
      "MoviePy - Done.\n",
      "MoviePy - Writing audio in ../data/processed/audio/7166251050142420230.mp3\n"
     ]
    },
    {
     "name": "stderr",
     "output_type": "stream",
     "text": [
      "                                                                    \r"
     ]
    },
    {
     "name": "stdout",
     "output_type": "stream",
     "text": [
      "MoviePy - Done.\n",
      "MoviePy - Writing audio in ../data/processed/audio/7205257187130674437.mp3\n"
     ]
    },
    {
     "name": "stderr",
     "output_type": "stream",
     "text": [
      "                                                                      \r"
     ]
    },
    {
     "name": "stdout",
     "output_type": "stream",
     "text": [
      "MoviePy - Done.\n",
      "MoviePy - Writing audio in ../data/processed/audio/7113843601427139846.mp3\n"
     ]
    },
    {
     "name": "stderr",
     "output_type": "stream",
     "text": [
      "                                                                      \r"
     ]
    },
    {
     "name": "stdout",
     "output_type": "stream",
     "text": [
      "MoviePy - Done.\n",
      "MoviePy - Writing audio in ../data/processed/audio/7122815617337494789.mp3\n"
     ]
    },
    {
     "name": "stderr",
     "output_type": "stream",
     "text": [
      "                                                                      \r"
     ]
    },
    {
     "name": "stdout",
     "output_type": "stream",
     "text": [
      "MoviePy - Done.\n",
      "MoviePy - Writing audio in ../data/processed/audio/7168946059706764550.mp3\n"
     ]
    },
    {
     "name": "stderr",
     "output_type": "stream",
     "text": [
      "                                                                        \r"
     ]
    },
    {
     "name": "stdout",
     "output_type": "stream",
     "text": [
      "MoviePy - Done.\n",
      "MoviePy - Writing audio in ../data/processed/audio/7176657919654579462.mp3\n"
     ]
    },
    {
     "name": "stderr",
     "output_type": "stream",
     "text": [
      "                                                                      \r"
     ]
    },
    {
     "name": "stdout",
     "output_type": "stream",
     "text": [
      "MoviePy - Done.\n",
      "MoviePy - Writing audio in ../data/processed/audio/7177049020412513542.mp3\n"
     ]
    },
    {
     "name": "stderr",
     "output_type": "stream",
     "text": [
      "                                                                      \r"
     ]
    },
    {
     "name": "stdout",
     "output_type": "stream",
     "text": [
      "MoviePy - Done.\n",
      "MoviePy - Writing audio in ../data/processed/audio/7232366148258417946.mp3\n"
     ]
    },
    {
     "name": "stderr",
     "output_type": "stream",
     "text": [
      "                                                                      \r"
     ]
    },
    {
     "name": "stdout",
     "output_type": "stream",
     "text": [
      "MoviePy - Done.\n",
      "MoviePy - Writing audio in ../data/processed/audio/7137367409882582277.mp3\n"
     ]
    },
    {
     "name": "stderr",
     "output_type": "stream",
     "text": [
      "                                                        \r"
     ]
    },
    {
     "name": "stdout",
     "output_type": "stream",
     "text": [
      "MoviePy - Done.\n",
      "MoviePy - Writing audio in ../data/processed/audio/7221065295304117509.mp3\n"
     ]
    },
    {
     "name": "stderr",
     "output_type": "stream",
     "text": [
      "                                                                      \r"
     ]
    },
    {
     "name": "stdout",
     "output_type": "stream",
     "text": [
      "MoviePy - Done.\n",
      "MoviePy - Writing audio in ../data/processed/audio/7223471702020246810.mp3\n"
     ]
    },
    {
     "name": "stderr",
     "output_type": "stream",
     "text": [
      "                                                                      \r"
     ]
    },
    {
     "name": "stdout",
     "output_type": "stream",
     "text": [
      "MoviePy - Done.\n",
      "MoviePy - Writing audio in ../data/processed/audio/7157692146278075654.mp3\n"
     ]
    },
    {
     "name": "stderr",
     "output_type": "stream",
     "text": [
      "                                                                      \r"
     ]
    },
    {
     "name": "stdout",
     "output_type": "stream",
     "text": [
      "MoviePy - Done.\n",
      "MoviePy - Writing audio in ../data/processed/audio/7133129347828944134.mp3\n"
     ]
    },
    {
     "name": "stderr",
     "output_type": "stream",
     "text": [
      "                                                                      \r"
     ]
    },
    {
     "name": "stdout",
     "output_type": "stream",
     "text": [
      "MoviePy - Done.\n",
      "MoviePy - Writing audio in ../data/processed/audio/7215590061742591259.mp3\n"
     ]
    },
    {
     "name": "stderr",
     "output_type": "stream",
     "text": [
      "                                                                     \r"
     ]
    },
    {
     "name": "stdout",
     "output_type": "stream",
     "text": [
      "MoviePy - Done.\n",
      "MoviePy - Writing audio in ../data/processed/audio/7238958663094865178.mp3\n"
     ]
    },
    {
     "name": "stderr",
     "output_type": "stream",
     "text": [
      "                                                                      \r"
     ]
    },
    {
     "name": "stdout",
     "output_type": "stream",
     "text": [
      "MoviePy - Done.\n",
      "MoviePy - Writing audio in ../data/processed/audio/7234480028908555547.mp3\n"
     ]
    },
    {
     "name": "stderr",
     "output_type": "stream",
     "text": [
      "                                                                      \r"
     ]
    },
    {
     "name": "stdout",
     "output_type": "stream",
     "text": [
      "MoviePy - Done.\n",
      "MoviePy - Writing audio in ../data/processed/audio/7138307731299028230.mp3\n"
     ]
    },
    {
     "name": "stderr",
     "output_type": "stream",
     "text": [
      "                                                                      \r"
     ]
    },
    {
     "name": "stdout",
     "output_type": "stream",
     "text": [
      "MoviePy - Done.\n",
      "MoviePy - Writing audio in ../data/processed/audio/7138364518136122629.mp3\n"
     ]
    },
    {
     "name": "stderr",
     "output_type": "stream",
     "text": [
      "                                                                      \r"
     ]
    },
    {
     "name": "stdout",
     "output_type": "stream",
     "text": [
      "MoviePy - Done.\n",
      "MoviePy - Writing audio in ../data/processed/audio/7176318412900027654.mp3\n"
     ]
    },
    {
     "name": "stderr",
     "output_type": "stream",
     "text": [
      "                                                                      \r"
     ]
    },
    {
     "name": "stdout",
     "output_type": "stream",
     "text": [
      "MoviePy - Done.\n",
      "MoviePy - Writing audio in ../data/processed/audio/7092079134247046405.mp3\n"
     ]
    },
    {
     "name": "stderr",
     "output_type": "stream",
     "text": [
      "                                                                    \r"
     ]
    },
    {
     "name": "stdout",
     "output_type": "stream",
     "text": [
      "MoviePy - Done.\n",
      "MoviePy - Writing audio in ../data/processed/audio/7210840206986071301.mp3\n"
     ]
    },
    {
     "name": "stderr",
     "output_type": "stream",
     "text": [
      "                                                                      \r"
     ]
    },
    {
     "name": "stdout",
     "output_type": "stream",
     "text": [
      "MoviePy - Done.\n",
      "MoviePy - Writing audio in ../data/processed/audio/7142918656551423237.mp3\n"
     ]
    },
    {
     "name": "stderr",
     "output_type": "stream",
     "text": [
      "                                                                    \r"
     ]
    },
    {
     "name": "stdout",
     "output_type": "stream",
     "text": [
      "MoviePy - Done.\n",
      "MoviePy - Writing audio in ../data/processed/audio/7178782554814811397.mp3\n"
     ]
    },
    {
     "name": "stderr",
     "output_type": "stream",
     "text": [
      "                                                                      \r"
     ]
    },
    {
     "name": "stdout",
     "output_type": "stream",
     "text": [
      "MoviePy - Done.\n",
      "MoviePy - Writing audio in ../data/processed/audio/7106933742027001093.mp3\n"
     ]
    },
    {
     "name": "stderr",
     "output_type": "stream",
     "text": [
      "                                                                    \r"
     ]
    },
    {
     "name": "stdout",
     "output_type": "stream",
     "text": [
      "MoviePy - Done.\n",
      "MoviePy - Writing audio in ../data/processed/audio/7070475423716543749.mp3\n"
     ]
    },
    {
     "name": "stderr",
     "output_type": "stream",
     "text": [
      "                                                                      \r"
     ]
    },
    {
     "name": "stdout",
     "output_type": "stream",
     "text": [
      "MoviePy - Done.\n",
      "MoviePy - Writing audio in ../data/processed/audio/7140955700699696390.mp3\n"
     ]
    },
    {
     "name": "stderr",
     "output_type": "stream",
     "text": [
      "                                                                      \r"
     ]
    },
    {
     "name": "stdout",
     "output_type": "stream",
     "text": [
      "MoviePy - Done.\n",
      "MoviePy - Writing audio in ../data/processed/audio/7116559793489267973.mp3\n"
     ]
    },
    {
     "name": "stderr",
     "output_type": "stream",
     "text": [
      "                                                                    \r"
     ]
    },
    {
     "name": "stdout",
     "output_type": "stream",
     "text": [
      "MoviePy - Done.\n",
      "MoviePy - Writing audio in ../data/processed/audio/7143163842665663749.mp3\n"
     ]
    },
    {
     "name": "stderr",
     "output_type": "stream",
     "text": [
      "                                                                    \r"
     ]
    },
    {
     "name": "stdout",
     "output_type": "stream",
     "text": [
      "MoviePy - Done.\n",
      "MoviePy - Writing audio in ../data/processed/audio/7226821746425466139.mp3\n"
     ]
    },
    {
     "name": "stderr",
     "output_type": "stream",
     "text": [
      "                                                                      \r"
     ]
    },
    {
     "name": "stdout",
     "output_type": "stream",
     "text": [
      "MoviePy - Done.\n",
      "MoviePy - Writing audio in ../data/processed/audio/7144338594927299846.mp3\n"
     ]
    },
    {
     "name": "stderr",
     "output_type": "stream",
     "text": [
      "                                                                      \r"
     ]
    },
    {
     "name": "stdout",
     "output_type": "stream",
     "text": [
      "MoviePy - Done.\n",
      "MoviePy - Writing audio in ../data/processed/audio/7261188519618448667.mp3\n"
     ]
    },
    {
     "name": "stderr",
     "output_type": "stream",
     "text": [
      "                                                                      \r"
     ]
    },
    {
     "name": "stdout",
     "output_type": "stream",
     "text": [
      "MoviePy - Done.\n",
      "MoviePy - Writing audio in ../data/processed/audio/7134227016500497670.mp3\n"
     ]
    },
    {
     "name": "stderr",
     "output_type": "stream",
     "text": [
      "                                                                      \r"
     ]
    },
    {
     "name": "stdout",
     "output_type": "stream",
     "text": [
      "MoviePy - Done.\n",
      "MoviePy - Writing audio in ../data/processed/audio/7250049940255182107.mp3\n"
     ]
    },
    {
     "name": "stderr",
     "output_type": "stream",
     "text": [
      "                                                                      \r"
     ]
    },
    {
     "name": "stdout",
     "output_type": "stream",
     "text": [
      "MoviePy - Done.\n",
      "MoviePy - Writing audio in ../data/processed/audio/7092109732386737413.mp3\n"
     ]
    },
    {
     "name": "stderr",
     "output_type": "stream",
     "text": [
      "                                                                      \r"
     ]
    },
    {
     "name": "stdout",
     "output_type": "stream",
     "text": [
      "MoviePy - Done.\n",
      "MoviePy - Writing audio in ../data/processed/audio/7277491085071387937.mp3\n"
     ]
    },
    {
     "name": "stderr",
     "output_type": "stream",
     "text": [
      "                                                                      \r"
     ]
    },
    {
     "name": "stdout",
     "output_type": "stream",
     "text": [
      "MoviePy - Done.\n",
      "MoviePy - Writing audio in ../data/processed/audio/7078014348152638726.mp3\n"
     ]
    },
    {
     "name": "stderr",
     "output_type": "stream",
     "text": [
      "                                                                      \r"
     ]
    },
    {
     "name": "stdout",
     "output_type": "stream",
     "text": [
      "MoviePy - Done.\n",
      "MoviePy - Writing audio in ../data/processed/audio/7184340534251621637.mp3\n"
     ]
    },
    {
     "name": "stderr",
     "output_type": "stream",
     "text": [
      "                                                                      \r"
     ]
    },
    {
     "name": "stdout",
     "output_type": "stream",
     "text": [
      "MoviePy - Done.\n",
      "MoviePy - Writing audio in ../data/processed/audio/7106170331500399878.mp3\n"
     ]
    },
    {
     "name": "stderr",
     "output_type": "stream",
     "text": [
      "                                                                    \r"
     ]
    },
    {
     "name": "stdout",
     "output_type": "stream",
     "text": [
      "MoviePy - Done.\n",
      "MoviePy - Writing audio in ../data/processed/audio/7134593713753427205.mp3\n"
     ]
    },
    {
     "name": "stderr",
     "output_type": "stream",
     "text": [
      "                                                                      \r"
     ]
    },
    {
     "name": "stdout",
     "output_type": "stream",
     "text": [
      "MoviePy - Done.\n",
      "MoviePy - Writing audio in ../data/processed/audio/7060519835788250373.mp3\n"
     ]
    },
    {
     "name": "stderr",
     "output_type": "stream",
     "text": [
      "                                                                      \r"
     ]
    },
    {
     "name": "stdout",
     "output_type": "stream",
     "text": [
      "MoviePy - Done.\n",
      "MoviePy - Writing audio in ../data/processed/audio/7141284558791576837.mp3\n"
     ]
    },
    {
     "name": "stderr",
     "output_type": "stream",
     "text": [
      "                                                                    \r"
     ]
    },
    {
     "name": "stdout",
     "output_type": "stream",
     "text": [
      "MoviePy - Done.\n",
      "MoviePy - Writing audio in ../data/processed/audio/7132746085545561350.mp3\n"
     ]
    },
    {
     "name": "stderr",
     "output_type": "stream",
     "text": [
      "                                                                      \r"
     ]
    },
    {
     "name": "stdout",
     "output_type": "stream",
     "text": [
      "MoviePy - Done.\n",
      "MoviePy - Writing audio in ../data/processed/audio/7137965836253351173.mp3\n"
     ]
    },
    {
     "name": "stderr",
     "output_type": "stream",
     "text": [
      "                                                                    \r"
     ]
    },
    {
     "name": "stdout",
     "output_type": "stream",
     "text": [
      "MoviePy - Done.\n",
      "MoviePy - Writing audio in ../data/processed/audio/7145843103075781893.mp3\n"
     ]
    },
    {
     "name": "stderr",
     "output_type": "stream",
     "text": [
      "                                                                    \r"
     ]
    },
    {
     "name": "stdout",
     "output_type": "stream",
     "text": [
      "MoviePy - Done.\n",
      "MoviePy - Writing audio in ../data/processed/audio/7278386520275373344.mp3\n"
     ]
    },
    {
     "name": "stderr",
     "output_type": "stream",
     "text": [
      "                                                                      \r"
     ]
    },
    {
     "name": "stdout",
     "output_type": "stream",
     "text": [
      "MoviePy - Done.\n",
      "MoviePy - Writing audio in ../data/processed/audio/7235576250306202907.mp3\n"
     ]
    },
    {
     "name": "stderr",
     "output_type": "stream",
     "text": [
      "                                                                      \r"
     ]
    },
    {
     "name": "stdout",
     "output_type": "stream",
     "text": [
      "MoviePy - Done.\n",
      "MoviePy - Writing audio in ../data/processed/audio/7141381807093697798.mp3\n"
     ]
    },
    {
     "name": "stderr",
     "output_type": "stream",
     "text": [
      "                                                                    \r"
     ]
    },
    {
     "name": "stdout",
     "output_type": "stream",
     "text": [
      "MoviePy - Done.\n",
      "MoviePy - Writing audio in ../data/processed/audio/7136915130884934918.mp3\n"
     ]
    },
    {
     "name": "stderr",
     "output_type": "stream",
     "text": [
      "                                                                      \r"
     ]
    },
    {
     "name": "stdout",
     "output_type": "stream",
     "text": [
      "MoviePy - Done.\n",
      "MoviePy - Writing audio in ../data/processed/audio/7146691344281521414.mp3\n"
     ]
    },
    {
     "name": "stderr",
     "output_type": "stream",
     "text": [
      "                                                                      \r"
     ]
    },
    {
     "name": "stdout",
     "output_type": "stream",
     "text": [
      "MoviePy - Done.\n",
      "MoviePy - Writing audio in ../data/processed/audio/7221262230988262661.mp3\n"
     ]
    },
    {
     "name": "stderr",
     "output_type": "stream",
     "text": [
      "                                                                      \r"
     ]
    },
    {
     "name": "stdout",
     "output_type": "stream",
     "text": [
      "MoviePy - Done.\n",
      "MoviePy - Writing audio in ../data/processed/audio/7137218493681896710.mp3\n"
     ]
    },
    {
     "name": "stderr",
     "output_type": "stream",
     "text": [
      "                                                                      \r"
     ]
    },
    {
     "name": "stdout",
     "output_type": "stream",
     "text": [
      "MoviePy - Done.\n",
      "MoviePy - Writing audio in ../data/processed/audio/7259020896466242842.mp3\n"
     ]
    },
    {
     "name": "stderr",
     "output_type": "stream",
     "text": [
      "                                                                      \r"
     ]
    },
    {
     "name": "stdout",
     "output_type": "stream",
     "text": [
      "MoviePy - Done.\n",
      "MoviePy - Writing audio in ../data/processed/audio/7251672977257942299.mp3\n"
     ]
    },
    {
     "name": "stderr",
     "output_type": "stream",
     "text": [
      "                                                                      \r"
     ]
    },
    {
     "name": "stdout",
     "output_type": "stream",
     "text": [
      "MoviePy - Done.\n",
      "MoviePy - Writing audio in ../data/processed/audio/7111970905525341445.mp3\n"
     ]
    },
    {
     "name": "stderr",
     "output_type": "stream",
     "text": [
      "                                                                    \r"
     ]
    },
    {
     "name": "stdout",
     "output_type": "stream",
     "text": [
      "MoviePy - Done.\n",
      "MoviePy - Writing audio in ../data/processed/audio/7074130814199516422.mp3\n"
     ]
    },
    {
     "name": "stderr",
     "output_type": "stream",
     "text": [
      "                                                                      \r"
     ]
    },
    {
     "name": "stdout",
     "output_type": "stream",
     "text": [
      "MoviePy - Done.\n",
      "MoviePy - Writing audio in ../data/processed/audio/7217889363739315462.mp3\n"
     ]
    },
    {
     "name": "stderr",
     "output_type": "stream",
     "text": [
      "                                                                      \r"
     ]
    },
    {
     "name": "stdout",
     "output_type": "stream",
     "text": [
      "MoviePy - Done.\n",
      "MoviePy - Writing audio in ../data/processed/audio/7189296202347744517.mp3\n"
     ]
    },
    {
     "name": "stderr",
     "output_type": "stream",
     "text": [
      "                                                                    \r"
     ]
    },
    {
     "name": "stdout",
     "output_type": "stream",
     "text": [
      "MoviePy - Done.\n",
      "MoviePy - Writing audio in ../data/processed/audio/7070414977118588165.mp3\n"
     ]
    },
    {
     "name": "stderr",
     "output_type": "stream",
     "text": [
      "                                                                      \r"
     ]
    },
    {
     "name": "stdout",
     "output_type": "stream",
     "text": [
      "MoviePy - Done.\n",
      "MoviePy - Writing audio in ../data/processed/audio/7180372649367915782.mp3\n"
     ]
    },
    {
     "name": "stderr",
     "output_type": "stream",
     "text": [
      "                                                                        \r"
     ]
    },
    {
     "name": "stdout",
     "output_type": "stream",
     "text": [
      "MoviePy - Done.\n",
      "MoviePy - Writing audio in ../data/processed/audio/7239724965312941338.mp3\n"
     ]
    },
    {
     "name": "stderr",
     "output_type": "stream",
     "text": [
      "                                                                      \r"
     ]
    },
    {
     "name": "stdout",
     "output_type": "stream",
     "text": [
      "MoviePy - Done.\n",
      "MoviePy - Writing audio in ../data/processed/audio/7231465075389795611.mp3\n"
     ]
    },
    {
     "name": "stderr",
     "output_type": "stream",
     "text": [
      "                                                                      \r"
     ]
    },
    {
     "name": "stdout",
     "output_type": "stream",
     "text": [
      "MoviePy - Done.\n",
      "MoviePy - Writing audio in ../data/processed/audio/7215644500771818757.mp3\n"
     ]
    },
    {
     "name": "stderr",
     "output_type": "stream",
     "text": [
      "                                                                      \r"
     ]
    },
    {
     "name": "stdout",
     "output_type": "stream",
     "text": [
      "MoviePy - Done.\n",
      "MoviePy - Writing audio in ../data/processed/audio/7115419591593037061.mp3\n"
     ]
    },
    {
     "name": "stderr",
     "output_type": "stream",
     "text": [
      "                                                                      \r"
     ]
    },
    {
     "name": "stdout",
     "output_type": "stream",
     "text": [
      "MoviePy - Done.\n",
      "MoviePy - Writing audio in ../data/processed/audio/7086078703641332998.mp3\n"
     ]
    },
    {
     "name": "stderr",
     "output_type": "stream",
     "text": [
      "                                                                      \r"
     ]
    },
    {
     "name": "stdout",
     "output_type": "stream",
     "text": [
      "MoviePy - Done.\n",
      "MoviePy - Writing audio in ../data/processed/audio/7194909784926063877.mp3\n"
     ]
    },
    {
     "name": "stderr",
     "output_type": "stream",
     "text": [
      "                                                                      \r"
     ]
    },
    {
     "name": "stdout",
     "output_type": "stream",
     "text": [
      "MoviePy - Done.\n",
      "MoviePy - Writing audio in ../data/processed/audio/7206202741440449798.mp3\n"
     ]
    },
    {
     "name": "stderr",
     "output_type": "stream",
     "text": [
      "                                                                      \r"
     ]
    },
    {
     "name": "stdout",
     "output_type": "stream",
     "text": [
      "MoviePy - Done.\n",
      "MoviePy - Writing audio in ../data/processed/audio/7211503013234527494.mp3\n"
     ]
    },
    {
     "name": "stderr",
     "output_type": "stream",
     "text": [
      "                                                                    \r"
     ]
    },
    {
     "name": "stdout",
     "output_type": "stream",
     "text": [
      "MoviePy - Done.\n",
      "MoviePy - Writing audio in ../data/processed/audio/7257145557309738266.mp3\n"
     ]
    },
    {
     "name": "stderr",
     "output_type": "stream",
     "text": [
      "                                                                      \r"
     ]
    },
    {
     "name": "stdout",
     "output_type": "stream",
     "text": [
      "MoviePy - Done.\n",
      "MoviePy - Writing audio in ../data/processed/audio/7210879251527077125.mp3\n"
     ]
    },
    {
     "name": "stderr",
     "output_type": "stream",
     "text": [
      "                                                                      \r"
     ]
    },
    {
     "name": "stdout",
     "output_type": "stream",
     "text": [
      "MoviePy - Done.\n",
      "MoviePy - Writing audio in ../data/processed/audio/7189243457179880709.mp3\n"
     ]
    },
    {
     "name": "stderr",
     "output_type": "stream",
     "text": [
      "                                                                    \r"
     ]
    },
    {
     "name": "stdout",
     "output_type": "stream",
     "text": [
      "MoviePy - Done.\n",
      "MoviePy - Writing audio in ../data/processed/audio/7139623564637900038.mp3\n"
     ]
    },
    {
     "name": "stderr",
     "output_type": "stream",
     "text": [
      "                                                                    \r"
     ]
    },
    {
     "name": "stdout",
     "output_type": "stream",
     "text": [
      "MoviePy - Done.\n",
      "MoviePy - Writing audio in ../data/processed/audio/7173606687327161605.mp3\n"
     ]
    },
    {
     "name": "stderr",
     "output_type": "stream",
     "text": [
      "                                                                      \r"
     ]
    },
    {
     "name": "stdout",
     "output_type": "stream",
     "text": [
      "MoviePy - Done.\n",
      "MoviePy - Writing audio in ../data/processed/audio/7152865526417558789.mp3\n"
     ]
    },
    {
     "name": "stderr",
     "output_type": "stream",
     "text": [
      "                                                                    \r"
     ]
    },
    {
     "name": "stdout",
     "output_type": "stream",
     "text": [
      "MoviePy - Done.\n",
      "MoviePy - Writing audio in ../data/processed/audio/7216786331005930778.mp3\n"
     ]
    },
    {
     "name": "stderr",
     "output_type": "stream",
     "text": [
      "                                                                      \r"
     ]
    },
    {
     "name": "stdout",
     "output_type": "stream",
     "text": [
      "MoviePy - Done.\n",
      "MoviePy - Writing audio in ../data/processed/audio/7146642608033434885.mp3\n"
     ]
    },
    {
     "name": "stderr",
     "output_type": "stream",
     "text": [
      "                                                                    \r"
     ]
    },
    {
     "name": "stdout",
     "output_type": "stream",
     "text": [
      "MoviePy - Done.\n",
      "MoviePy - Writing audio in ../data/processed/audio/7069423165268626694.mp3\n"
     ]
    },
    {
     "name": "stderr",
     "output_type": "stream",
     "text": [
      "                                                                      \r"
     ]
    },
    {
     "name": "stdout",
     "output_type": "stream",
     "text": [
      "MoviePy - Done.\n",
      "MoviePy - Writing audio in ../data/processed/audio/7146526475439639814.mp3\n"
     ]
    },
    {
     "name": "stderr",
     "output_type": "stream",
     "text": [
      "                                                                      \r"
     ]
    },
    {
     "name": "stdout",
     "output_type": "stream",
     "text": [
      "MoviePy - Done.\n",
      "MoviePy - Writing audio in ../data/processed/audio/7198105090119568646.mp3\n"
     ]
    },
    {
     "name": "stderr",
     "output_type": "stream",
     "text": [
      "                                                                      \r"
     ]
    },
    {
     "name": "stdout",
     "output_type": "stream",
     "text": [
      "MoviePy - Done.\n",
      "MoviePy - Writing audio in ../data/processed/audio/7157249765837786373.mp3\n"
     ]
    },
    {
     "name": "stderr",
     "output_type": "stream",
     "text": [
      "                                                                      \r"
     ]
    },
    {
     "name": "stdout",
     "output_type": "stream",
     "text": [
      "MoviePy - Done.\n",
      "MoviePy - Writing audio in ../data/processed/audio/7130543050006269189.mp3\n"
     ]
    },
    {
     "name": "stderr",
     "output_type": "stream",
     "text": [
      "                                                                      \r"
     ]
    },
    {
     "name": "stdout",
     "output_type": "stream",
     "text": [
      "MoviePy - Done.\n",
      "MoviePy - Writing audio in ../data/processed/audio/7067893974035401990.mp3\n"
     ]
    },
    {
     "name": "stderr",
     "output_type": "stream",
     "text": [
      "                                                                    \r"
     ]
    },
    {
     "name": "stdout",
     "output_type": "stream",
     "text": [
      "MoviePy - Done.\n",
      "MoviePy - Writing audio in ../data/processed/audio/7234091904151932186.mp3\n"
     ]
    },
    {
     "name": "stderr",
     "output_type": "stream",
     "text": [
      "                                                                      \r"
     ]
    },
    {
     "name": "stdout",
     "output_type": "stream",
     "text": [
      "MoviePy - Done.\n",
      "MoviePy - Writing audio in ../data/processed/audio/7156960255723719941.mp3\n"
     ]
    },
    {
     "name": "stderr",
     "output_type": "stream",
     "text": [
      "                                                                    \r"
     ]
    },
    {
     "name": "stdout",
     "output_type": "stream",
     "text": [
      "MoviePy - Done.\n",
      "MoviePy - Writing audio in ../data/processed/audio/7136844388176530694.mp3\n"
     ]
    },
    {
     "name": "stderr",
     "output_type": "stream",
     "text": [
      "                                                                      \r"
     ]
    },
    {
     "name": "stdout",
     "output_type": "stream",
     "text": [
      "MoviePy - Done.\n",
      "MoviePy - Writing audio in ../data/processed/audio/7177010908625980678.mp3\n"
     ]
    },
    {
     "name": "stderr",
     "output_type": "stream",
     "text": [
      "                                                                    \r"
     ]
    },
    {
     "name": "stdout",
     "output_type": "stream",
     "text": [
      "MoviePy - Done.\n",
      "MoviePy - Writing audio in ../data/processed/audio/7260133930643361050.mp3\n"
     ]
    },
    {
     "name": "stderr",
     "output_type": "stream",
     "text": [
      "                                                                      \r"
     ]
    },
    {
     "name": "stdout",
     "output_type": "stream",
     "text": [
      "MoviePy - Done.\n",
      "MoviePy - Writing audio in ../data/processed/audio/7146670520505847045.mp3\n"
     ]
    },
    {
     "name": "stderr",
     "output_type": "stream",
     "text": [
      "                                                                      \r"
     ]
    },
    {
     "name": "stdout",
     "output_type": "stream",
     "text": [
      "MoviePy - Done.\n",
      "MoviePy - Writing audio in ../data/processed/audio/7208626665683995909.mp3\n"
     ]
    },
    {
     "name": "stderr",
     "output_type": "stream",
     "text": [
      "                                                                      \r"
     ]
    },
    {
     "name": "stdout",
     "output_type": "stream",
     "text": [
      "MoviePy - Done.\n",
      "MoviePy - Writing audio in ../data/processed/audio/7142930878216359173.mp3\n"
     ]
    },
    {
     "name": "stderr",
     "output_type": "stream",
     "text": [
      "                                                                    \r"
     ]
    },
    {
     "name": "stdout",
     "output_type": "stream",
     "text": [
      "MoviePy - Done.\n",
      "MoviePy - Writing audio in ../data/processed/audio/7135363514704727301.mp3\n"
     ]
    },
    {
     "name": "stderr",
     "output_type": "stream",
     "text": [
      "                                                                      \r"
     ]
    },
    {
     "name": "stdout",
     "output_type": "stream",
     "text": [
      "MoviePy - Done.\n",
      "MoviePy - Writing audio in ../data/processed/audio/7123181095293701382.mp3\n"
     ]
    },
    {
     "name": "stderr",
     "output_type": "stream",
     "text": [
      "                                                                      \r"
     ]
    },
    {
     "name": "stdout",
     "output_type": "stream",
     "text": [
      "MoviePy - Done.\n",
      "MoviePy - Writing audio in ../data/processed/audio/7109740680011894022.mp3\n"
     ]
    },
    {
     "name": "stderr",
     "output_type": "stream",
     "text": [
      "                                                                      \r"
     ]
    },
    {
     "name": "stdout",
     "output_type": "stream",
     "text": [
      "MoviePy - Done.\n",
      "MoviePy - Writing audio in ../data/processed/audio/7247501157361372443.mp3\n"
     ]
    },
    {
     "name": "stderr",
     "output_type": "stream",
     "text": [
      "                                                                      \r"
     ]
    },
    {
     "name": "stdout",
     "output_type": "stream",
     "text": [
      "MoviePy - Done.\n",
      "MoviePy - Writing audio in ../data/processed/audio/7163995254054489350.mp3\n"
     ]
    },
    {
     "name": "stderr",
     "output_type": "stream",
     "text": [
      "                                                                      \r"
     ]
    },
    {
     "name": "stdout",
     "output_type": "stream",
     "text": [
      "MoviePy - Done.\n",
      "MoviePy - Writing audio in ../data/processed/audio/7249053260105944347.mp3\n"
     ]
    },
    {
     "name": "stderr",
     "output_type": "stream",
     "text": [
      "                                                                      \r"
     ]
    },
    {
     "name": "stdout",
     "output_type": "stream",
     "text": [
      "MoviePy - Done.\n",
      "MoviePy - Writing audio in ../data/processed/audio/7144420910336953606.mp3\n"
     ]
    },
    {
     "name": "stderr",
     "output_type": "stream",
     "text": [
      "                                                                    \r"
     ]
    },
    {
     "name": "stdout",
     "output_type": "stream",
     "text": [
      "MoviePy - Done.\n",
      "MoviePy - Writing audio in ../data/processed/audio/7104226960422800646.mp3\n"
     ]
    },
    {
     "name": "stderr",
     "output_type": "stream",
     "text": [
      "                                                                    \r"
     ]
    },
    {
     "name": "stdout",
     "output_type": "stream",
     "text": [
      "MoviePy - Done.\n",
      "MoviePy - Writing audio in ../data/processed/audio/7137738553127079173.mp3\n"
     ]
    },
    {
     "name": "stderr",
     "output_type": "stream",
     "text": [
      "                                                                    \r"
     ]
    },
    {
     "name": "stdout",
     "output_type": "stream",
     "text": [
      "MoviePy - Done.\n",
      "MoviePy - Writing audio in ../data/processed/audio/7205624570915736837.mp3\n"
     ]
    },
    {
     "name": "stderr",
     "output_type": "stream",
     "text": [
      "                                                                    \r"
     ]
    },
    {
     "name": "stdout",
     "output_type": "stream",
     "text": [
      "MoviePy - Done.\n",
      "MoviePy - Writing audio in ../data/processed/audio/7136424309131578629.mp3\n"
     ]
    },
    {
     "name": "stderr",
     "output_type": "stream",
     "text": [
      "                                                                      \r"
     ]
    },
    {
     "name": "stdout",
     "output_type": "stream",
     "text": [
      "MoviePy - Done.\n",
      "MoviePy - Writing audio in ../data/processed/audio/7201936585745632517.mp3\n"
     ]
    },
    {
     "name": "stderr",
     "output_type": "stream",
     "text": [
      "                                                                        \r"
     ]
    },
    {
     "name": "stdout",
     "output_type": "stream",
     "text": [
      "MoviePy - Done.\n",
      "MoviePy - Writing audio in ../data/processed/audio/7175162657949994246.mp3\n"
     ]
    },
    {
     "name": "stderr",
     "output_type": "stream",
     "text": [
      "                                                                      \r"
     ]
    },
    {
     "name": "stdout",
     "output_type": "stream",
     "text": [
      "MoviePy - Done.\n",
      "MoviePy - Writing audio in ../data/processed/audio/7207816601217944837.mp3\n"
     ]
    },
    {
     "name": "stderr",
     "output_type": "stream",
     "text": [
      "                                                                      \r"
     ]
    },
    {
     "name": "stdout",
     "output_type": "stream",
     "text": [
      "MoviePy - Done.\n",
      "MoviePy - Writing audio in ../data/processed/audio/7132368164540730629.mp3\n"
     ]
    },
    {
     "name": "stderr",
     "output_type": "stream",
     "text": [
      "                                                                    \r"
     ]
    },
    {
     "name": "stdout",
     "output_type": "stream",
     "text": [
      "MoviePy - Done.\n",
      "MoviePy - Writing audio in ../data/processed/audio/7262671603471797536.mp3\n"
     ]
    },
    {
     "name": "stderr",
     "output_type": "stream",
     "text": [
      "                                                                      \r"
     ]
    },
    {
     "name": "stdout",
     "output_type": "stream",
     "text": [
      "MoviePy - Done.\n",
      "MoviePy - Writing audio in ../data/processed/audio/7137723121796156677.mp3\n"
     ]
    },
    {
     "name": "stderr",
     "output_type": "stream",
     "text": [
      "                                                                    \r"
     ]
    },
    {
     "name": "stdout",
     "output_type": "stream",
     "text": [
      "MoviePy - Done.\n",
      "MoviePy - Writing audio in ../data/processed/audio/7138477051790494981.mp3\n"
     ]
    },
    {
     "name": "stderr",
     "output_type": "stream",
     "text": [
      "                                                                    \r"
     ]
    },
    {
     "name": "stdout",
     "output_type": "stream",
     "text": [
      "MoviePy - Done.\n",
      "MoviePy - Writing audio in ../data/processed/audio/7132830393153162501.mp3\n"
     ]
    },
    {
     "name": "stderr",
     "output_type": "stream",
     "text": [
      "                                                                      \r"
     ]
    },
    {
     "name": "stdout",
     "output_type": "stream",
     "text": [
      "MoviePy - Done.\n",
      "MoviePy - Writing audio in ../data/processed/audio/7144246488879713542.mp3\n"
     ]
    },
    {
     "name": "stderr",
     "output_type": "stream",
     "text": [
      "                                                                      \r"
     ]
    },
    {
     "name": "stdout",
     "output_type": "stream",
     "text": [
      "MoviePy - Done.\n",
      "MoviePy - Writing audio in ../data/processed/audio/7142030812693810438.mp3\n"
     ]
    },
    {
     "name": "stderr",
     "output_type": "stream",
     "text": [
      "                                                                      \r"
     ]
    },
    {
     "name": "stdout",
     "output_type": "stream",
     "text": [
      "MoviePy - Done.\n",
      "MoviePy - Writing audio in ../data/processed/audio/7128321428012764422.mp3\n"
     ]
    },
    {
     "name": "stderr",
     "output_type": "stream",
     "text": [
      "                                                                      \r"
     ]
    },
    {
     "name": "stdout",
     "output_type": "stream",
     "text": [
      "MoviePy - Done.\n",
      "MoviePy - Writing audio in ../data/processed/audio/7265415410848238880.mp3\n"
     ]
    },
    {
     "name": "stderr",
     "output_type": "stream",
     "text": [
      "                                                                      \r"
     ]
    },
    {
     "name": "stdout",
     "output_type": "stream",
     "text": [
      "MoviePy - Done.\n",
      "MoviePy - Writing audio in ../data/processed/audio/7146272946183605510.mp3\n"
     ]
    },
    {
     "name": "stderr",
     "output_type": "stream",
     "text": [
      "                                                                    \r"
     ]
    },
    {
     "name": "stdout",
     "output_type": "stream",
     "text": [
      "MoviePy - Done.\n",
      "MoviePy - Writing audio in ../data/processed/audio/7141803151136410886.mp3\n"
     ]
    },
    {
     "name": "stderr",
     "output_type": "stream",
     "text": [
      "                                                                    \r"
     ]
    },
    {
     "name": "stdout",
     "output_type": "stream",
     "text": [
      "MoviePy - Done.\n",
      "MoviePy - Writing audio in ../data/processed/audio/7144023384853171462.mp3\n"
     ]
    },
    {
     "name": "stderr",
     "output_type": "stream",
     "text": [
      "                                                                      \r"
     ]
    },
    {
     "name": "stdout",
     "output_type": "stream",
     "text": [
      "MoviePy - Done.\n",
      "MoviePy - Writing audio in ../data/processed/audio/7144769480244071686.mp3\n"
     ]
    },
    {
     "name": "stderr",
     "output_type": "stream",
     "text": [
      "                                                                      \r"
     ]
    },
    {
     "name": "stdout",
     "output_type": "stream",
     "text": [
      "MoviePy - Done.\n",
      "MoviePy - Writing audio in ../data/processed/audio/7243836094456827162.mp3\n"
     ]
    },
    {
     "name": "stderr",
     "output_type": "stream",
     "text": [
      "                                                                      \r"
     ]
    },
    {
     "name": "stdout",
     "output_type": "stream",
     "text": [
      "MoviePy - Done.\n",
      "MoviePy - Writing audio in ../data/processed/audio/7137343861130677510.mp3\n"
     ]
    },
    {
     "name": "stderr",
     "output_type": "stream",
     "text": [
      "                                                                    \r"
     ]
    },
    {
     "name": "stdout",
     "output_type": "stream",
     "text": [
      "MoviePy - Done.\n",
      "MoviePy - Writing audio in ../data/processed/audio/7260633128325090587.mp3\n"
     ]
    },
    {
     "name": "stderr",
     "output_type": "stream",
     "text": [
      "                                                                      \r"
     ]
    },
    {
     "name": "stdout",
     "output_type": "stream",
     "text": [
      "MoviePy - Done.\n",
      "MoviePy - Writing audio in ../data/processed/audio/7104580217892506885.mp3\n"
     ]
    },
    {
     "name": "stderr",
     "output_type": "stream",
     "text": [
      "                                                                    \r"
     ]
    },
    {
     "name": "stdout",
     "output_type": "stream",
     "text": [
      "MoviePy - Done.\n",
      "MoviePy - Writing audio in ../data/processed/audio/7219014997781925146.mp3\n"
     ]
    },
    {
     "name": "stderr",
     "output_type": "stream",
     "text": [
      "                                                                      \r"
     ]
    },
    {
     "name": "stdout",
     "output_type": "stream",
     "text": [
      "MoviePy - Done.\n",
      "MoviePy - Writing audio in ../data/processed/audio/7063159758185827590.mp3\n"
     ]
    },
    {
     "name": "stderr",
     "output_type": "stream",
     "text": [
      "                                                                      \r"
     ]
    },
    {
     "name": "stdout",
     "output_type": "stream",
     "text": [
      "MoviePy - Done.\n",
      "MoviePy - Writing audio in ../data/processed/audio/7261648290305821978.mp3\n"
     ]
    },
    {
     "name": "stderr",
     "output_type": "stream",
     "text": [
      "                                                                     \r"
     ]
    },
    {
     "name": "stdout",
     "output_type": "stream",
     "text": [
      "MoviePy - Done.\n",
      "MoviePy - Writing audio in ../data/processed/audio/7198603797227244806.mp3\n"
     ]
    },
    {
     "name": "stderr",
     "output_type": "stream",
     "text": [
      "                                                                     \r"
     ]
    },
    {
     "name": "stdout",
     "output_type": "stream",
     "text": [
      "MoviePy - Done.\n",
      "MoviePy - Writing audio in ../data/processed/audio/7134693026680655109.mp3\n"
     ]
    },
    {
     "name": "stderr",
     "output_type": "stream",
     "text": [
      "                                                                      \r"
     ]
    },
    {
     "name": "stdout",
     "output_type": "stream",
     "text": [
      "MoviePy - Done.\n",
      "MoviePy - Writing audio in ../data/processed/audio/7133867159503097093.mp3\n"
     ]
    },
    {
     "name": "stderr",
     "output_type": "stream",
     "text": [
      "                                                                      \r"
     ]
    },
    {
     "name": "stdout",
     "output_type": "stream",
     "text": [
      "MoviePy - Done.\n",
      "MoviePy - Writing audio in ../data/processed/audio/7187877327806762246.mp3\n"
     ]
    },
    {
     "name": "stderr",
     "output_type": "stream",
     "text": [
      "                                                                      \r"
     ]
    },
    {
     "name": "stdout",
     "output_type": "stream",
     "text": [
      "MoviePy - Done.\n",
      "MoviePy - Writing audio in ../data/processed/audio/7144986246215929094.mp3\n"
     ]
    },
    {
     "name": "stderr",
     "output_type": "stream",
     "text": [
      "                                                                      \r"
     ]
    },
    {
     "name": "stdout",
     "output_type": "stream",
     "text": [
      "MoviePy - Done.\n",
      "MoviePy - Writing audio in ../data/processed/audio/7274498125660704033.mp3\n"
     ]
    },
    {
     "name": "stderr",
     "output_type": "stream",
     "text": [
      "                                                                      \r"
     ]
    },
    {
     "name": "stdout",
     "output_type": "stream",
     "text": [
      "MoviePy - Done.\n",
      "MoviePy - Writing audio in ../data/processed/audio/7148069987796765958.mp3\n"
     ]
    },
    {
     "name": "stderr",
     "output_type": "stream",
     "text": [
      "                                                                      \r"
     ]
    },
    {
     "name": "stdout",
     "output_type": "stream",
     "text": [
      "MoviePy - Done.\n",
      "MoviePy - Writing audio in ../data/processed/audio/7202261483860806917.mp3\n"
     ]
    },
    {
     "name": "stderr",
     "output_type": "stream",
     "text": [
      "                                                                      \r"
     ]
    },
    {
     "name": "stdout",
     "output_type": "stream",
     "text": [
      "MoviePy - Done.\n",
      "MoviePy - Writing audio in ../data/processed/audio/7187514172463254790.mp3\n"
     ]
    },
    {
     "name": "stderr",
     "output_type": "stream",
     "text": [
      "                                                                      \r"
     ]
    },
    {
     "name": "stdout",
     "output_type": "stream",
     "text": [
      "MoviePy - Done.\n",
      "MoviePy - Writing audio in ../data/processed/audio/7138461939923029254.mp3\n"
     ]
    },
    {
     "name": "stderr",
     "output_type": "stream",
     "text": [
      "                                                                    \r"
     ]
    },
    {
     "name": "stdout",
     "output_type": "stream",
     "text": [
      "MoviePy - Done.\n",
      "MoviePy - Writing audio in ../data/processed/audio/7222372308235603206.mp3\n"
     ]
    },
    {
     "name": "stderr",
     "output_type": "stream",
     "text": [
      "                                                                      \r"
     ]
    },
    {
     "name": "stdout",
     "output_type": "stream",
     "text": [
      "MoviePy - Done.\n",
      "MoviePy - Writing audio in ../data/processed/audio/7265621447920422176.mp3\n"
     ]
    },
    {
     "name": "stderr",
     "output_type": "stream",
     "text": [
      "                                                                      \r"
     ]
    },
    {
     "name": "stdout",
     "output_type": "stream",
     "text": [
      "MoviePy - Done.\n",
      "MoviePy - Writing audio in ../data/processed/audio/7074535704902077701.mp3\n"
     ]
    },
    {
     "name": "stderr",
     "output_type": "stream",
     "text": [
      "                                                                      \r"
     ]
    },
    {
     "name": "stdout",
     "output_type": "stream",
     "text": [
      "MoviePy - Done.\n",
      "MoviePy - Writing audio in ../data/processed/audio/7231809083169328411.mp3\n"
     ]
    },
    {
     "name": "stderr",
     "output_type": "stream",
     "text": [
      "                                                                     \r"
     ]
    },
    {
     "name": "stdout",
     "output_type": "stream",
     "text": [
      "MoviePy - Done.\n",
      "MoviePy - Writing audio in ../data/processed/audio/7254490393851481371.mp3\n"
     ]
    },
    {
     "name": "stderr",
     "output_type": "stream",
     "text": [
      "                                                                      \r"
     ]
    },
    {
     "name": "stdout",
     "output_type": "stream",
     "text": [
      "MoviePy - Done.\n",
      "MoviePy - Writing audio in ../data/processed/audio/7080511603812109574.mp3\n"
     ]
    },
    {
     "name": "stderr",
     "output_type": "stream",
     "text": [
      "                                                                      \r"
     ]
    },
    {
     "name": "stdout",
     "output_type": "stream",
     "text": [
      "MoviePy - Done.\n",
      "MoviePy - Writing audio in ../data/processed/audio/7162839147302997254.mp3\n"
     ]
    },
    {
     "name": "stderr",
     "output_type": "stream",
     "text": [
      "                                                                      \r"
     ]
    },
    {
     "name": "stdout",
     "output_type": "stream",
     "text": [
      "MoviePy - Done.\n",
      "MoviePy - Writing audio in ../data/processed/audio/7142259434000059654.mp3\n"
     ]
    },
    {
     "name": "stderr",
     "output_type": "stream",
     "text": [
      "                                                                      \r"
     ]
    },
    {
     "name": "stdout",
     "output_type": "stream",
     "text": [
      "MoviePy - Done.\n",
      "MoviePy - Writing audio in ../data/processed/audio/7238646546152082714.mp3\n"
     ]
    },
    {
     "name": "stderr",
     "output_type": "stream",
     "text": [
      "                                                                    \r"
     ]
    },
    {
     "name": "stdout",
     "output_type": "stream",
     "text": [
      "MoviePy - Done.\n",
      "MoviePy - Writing audio in ../data/processed/audio/7092396552064453893.mp3\n"
     ]
    },
    {
     "name": "stderr",
     "output_type": "stream",
     "text": [
      "                                                                      \r"
     ]
    },
    {
     "name": "stdout",
     "output_type": "stream",
     "text": [
      "MoviePy - Done.\n",
      "MoviePy - Writing audio in ../data/processed/audio/7266312532665584928.mp3\n"
     ]
    },
    {
     "name": "stderr",
     "output_type": "stream",
     "text": [
      "                                                                        \r"
     ]
    },
    {
     "name": "stdout",
     "output_type": "stream",
     "text": [
      "MoviePy - Done.\n",
      "MoviePy - Writing audio in ../data/processed/audio/7235728376848272666.mp3\n"
     ]
    },
    {
     "name": "stderr",
     "output_type": "stream",
     "text": [
      "                                                                      "
     ]
    },
    {
     "name": "stdout",
     "output_type": "stream",
     "text": [
      "MoviePy - Done.\n"
     ]
    },
    {
     "name": "stderr",
     "output_type": "stream",
     "text": [
      "\r"
     ]
    }
   ],
   "source": [
    "import moviepy\n",
    "import moviepy.editor\n",
    "import os\n",
    "import glob\n",
    "\n",
    "videos_dir = '../data/processed/videos/'\n",
    "audio_dir = '../data/processed/audio'\n",
    "\n",
    "if not os.path.exists(audio_dir):\n",
    "    os.mkdir(audio_dir)\n",
    "\n",
    "file_name_list = glob.glob(os.path.join(videos_dir, \"*.mp4\"))\n",
    "print(len(file_name_list))\n",
    "\n",
    "for file_name in file_name_list:\n",
    "    # print(file_name)\n",
    "    video = moviepy.editor.VideoFileClip(file_name)\n",
    "    audio = video.audio\n",
    "    audio_file_name = file_name.replace('videos','audio').replace('.mp4', '.mp3')\n",
    "    audio.write_audiofile(audio_file_name)"
   ]
  },
  {
   "cell_type": "markdown",
   "metadata": {},
   "source": [
    "## Extract Transcribed Text"
   ]
  },
  {
   "cell_type": "code",
   "execution_count": 79,
   "metadata": {},
   "outputs": [
    {
     "name": "stdout",
     "output_type": "stream",
     "text": [
      "file_name: TranscribeTikTokAudio7216786331005930778.json\n",
      "                                                            0\n",
      "transcript  Un altro capitolo importante del nostro lavoro...\n",
      "file_name: TranscribeTikTokAudio7177010908625980678.json\n",
      "                                                            0\n",
      "transcript  ricorrono quest'anno i dieci anni dalla fondaz...\n",
      "file_name: TranscribeTikTokAudio7178163802578455813.json\n",
      "           0\n",
      "transcript  \n",
      "file_name: TranscribeTikTokAudio7194909784926063877.json\n",
      "                                                            0\n",
      "transcript  a cento giorni dall'insediamento del nuovo gov...\n",
      "file_name: TranscribeTikTokAudio7092079134247046405.json\n",
      "                                         0\n",
      "transcript  Sì, ma io la Presidente. Ciao.\n",
      "file_name: TranscribeTikTokAudio7146670520505847045.json\n",
      "                                                            0\n",
      "transcript  sarebbe stato facile in questa campagna eletto...\n",
      "file_name: TranscribeTikTokAudio7168946059706764550.json\n",
      "                                                            0\n",
      "transcript  è una manovra figlia di scelte politiche com'e...\n",
      "file_name: TranscribeTikTokAudio7147206448232074502.json\n",
      "                                                            0\n",
      "transcript  signori, Era il giorno della sconfitta. Ma non...\n",
      "file_name: TranscribeTikTokAudio7234480028908555547.json\n",
      "                                                            0\n",
      "transcript  io purtroppo così come sono stato. Giorgio ben...\n",
      "file_name: TranscribeTikTokAudio7207816601217944837.json\n",
      "                                                            0\n",
      "transcript  qualsiasi cosa io abbia fatto nella mia vita, ...\n",
      "file_name: TranscribeTikTokAudio7109083244611587333.json\n",
      "                                                            0\n",
      "transcript  puntuale come un orologio all'indomani delle e...\n",
      "file_name: TranscribeTikTokAudio7217889363739315462.json\n",
      "                                                            0\n",
      "transcript  e dunque? Beh, presenza doverosa, non la prima...\n",
      "file_name: TranscribeTikTokAudio7266312532665584928.json\n",
      "                                                            0\n",
      "transcript  quest'estate, dai un po' più fresche, eh, lo s...\n",
      "file_name: TranscribeTikTokAudio7274498125660704033.json\n",
      "                                                            0\n",
      "transcript  Qual è stato il momento più difficile della su...\n",
      "file_name: TranscribeTikTokAudio7233290952285244698.json\n",
      "                                                            0\n",
      "transcript  Credo che ci sia, um, una delle rappresentazio...\n",
      "file_name: TranscribeTikTokAudio7133867159503097093.json\n",
      "                                                            0\n",
      "transcript  L'agricoltura è l'esempio per eccellenza dell'...\n",
      "file_name: TranscribeTikTokAudio7092750010739215621.json\n",
      "                                                            0\n",
      "transcript  con Ma sai perché sono Ho visto la Meloni. Ho ...\n",
      "file_name: TranscribeTikTokAudio7128429765639343366.json\n",
      "                                                            0\n",
      "transcript  dunque continuo a leggere e ad ascoltare fanta...\n",
      "file_name: TranscribeTikTokAudio7070475423716543749.json\n",
      "                                                            0\n",
      "transcript  questo Parlamento voterà um il suo primo indir...\n",
      "file_name: TranscribeTikTokAudio7070414977118588165.json\n",
      "                                                            0\n",
      "transcript  ed è ora colleghi di chiamare alcune cose con ...\n",
      "file_name: TranscribeTikTokAudio7227372741660282138.json\n",
      "                                                            0\n",
      "transcript  noi abbiamo portato a casa qui un ottimo risul...\n",
      "file_name: TranscribeTikTokAudio7208626665683995909.json\n",
      "                                                            0\n",
      "transcript  Il decreto prevede un aumento delle pene per i...\n",
      "file_name: TranscribeTikTokAudio7092798207511612678.json\n",
      "                                                            0\n",
      "transcript  allora noi abbiamo passato tre giorni a parlar...\n",
      "file_name: TranscribeTikTokAudio7257581884450917659.json\n",
      "                                                            0\n",
      "transcript  Patrick Zaki ha oggi ricevuto la grazia dal pr...\n",
      "file_name: TranscribeTikTokAudio7132746085545561350.json\n",
      "                                                            0\n",
      "transcript  il reddito di cittadinanza è stato un fallimen...\n",
      "file_name: TranscribeTikTokAudio7137218493681896710.json\n",
      "                                                            0\n",
      "transcript  la casa è il bene primario attorno al quale le...\n",
      "file_name: TranscribeTikTokAudio7189709267392318725.json\n",
      "                                                            0\n",
      "transcript  qualcuno già c'ha delle teorie cos- cospirazio...\n",
      "file_name: TranscribeTikTokAudio7206044310301592837.json\n",
      "                                                            0\n",
      "transcript  testimoni per questa splendida accoglienza. Ne...\n",
      "file_name: TranscribeTikTokAudio7163995254054489350.json\n",
      "                                                            0\n",
      "transcript  il nove novembre del millenovecentottantanove,...\n",
      "file_name: TranscribeTikTokAudio7238646546152082714.json\n",
      "                                                            0\n",
      "transcript  il centrodestra vince queste elezioni amminist...\n",
      "file_name: TranscribeTikTokAudio7132830393153162501.json\n",
      "                                                            0\n",
      "transcript  scusate l'abbigliamento no, sono in vacanza, p...\n",
      "file_name: TranscribeTikTokAudio7235576250306202907.json\n",
      "                                                            0\n",
      "transcript  io credo che questo g sette di Hiroshima sia s...\n",
      "file_name: TranscribeTikTokAudio7144338594927299846.json\n",
      "                                                            0\n",
      "transcript  il super bonus edilizio al centodieci percento...\n",
      "file_name: TranscribeTikTokAudio7134227016500497670.json\n",
      "                                                            0\n",
      "transcript  in pochi sanno che L'islanda negli anni novant...\n",
      "file_name: TranscribeTikTokAudio7156960255723719941.json\n",
      "           0\n",
      "transcript  \n",
      "file_name: TranscribeTikTokAudio7128321428012764422.json\n",
      "                                                            0\n",
      "transcript  si è sempre detto che che la sinistra in itali...\n",
      "file_name: TranscribeTikTokAudio7231809083169328411.json\n",
      "                                                            0\n",
      "transcript  Voglio sinceramente ringraziare il primo minis...\n",
      "file_name: TranscribeTikTokAudio7147263913200045317.json\n",
      "                                                0\n",
      "transcript  venticinque settembre ho detto tutto.\n",
      "file_name: TranscribeTikTokAudio7137577046552726790.json\n",
      "                                                            0\n",
      "transcript  la difesa dell'identità nazionale del nostro f...\n",
      "file_name: TranscribeTikTokAudio7265735771271728416.json\n",
      "                                                            0\n",
      "transcript  Un altro tema molto discusso nel dibattito pol...\n",
      "file_name: TranscribeTikTokAudio7140955700699696390.json\n",
      "                                                            0\n",
      "transcript  siamo in piena crisi energetica, con bollette ...\n",
      "file_name: TranscribeTikTokAudio7215644500771818757.json\n",
      "           0\n",
      "transcript  \n",
      "file_name: TranscribeTikTokAudio7066845965105319173.json\n",
      "                                                            0\n",
      "transcript  fermo restando che il vaccino è utilissimo non...\n",
      "file_name: TranscribeTikTokAudio7136469259756031237.json\n",
      "                                                            0\n",
      "transcript  Negli ultimi venti anni la Francia ha avuto qu...\n",
      "file_name: TranscribeTikTokAudio7146642608033434885.json\n",
      "                                                            0\n",
      "transcript  siamo alla fine della campagna elettorale e io...\n",
      "file_name: TranscribeTikTokAudio7176318412900027654.json\n",
      "                                                            0\n",
      "transcript  diciotto app. Allora, um negli ultimi giorni m...\n",
      "file_name: TranscribeTikTokAudio7239724965312941338.json\n",
      "                                                            0\n",
      "transcript  match um di E Times for showing can be free pe...\n",
      "file_name: TranscribeTikTokAudio7262671603471797536.json\n",
      "                                0\n",
      "transcript  the Ah a a a um um um\n",
      "file_name: TranscribeTikTokAudio7146691344281521414.json\n",
      "                                                            0\n",
      "transcript  non ha paura l'italia della gente perbene. Non...\n",
      "file_name: TranscribeTikTokAudio7180372649367915782.json\n",
      "                                                            0\n",
      "transcript  io sono venuta qui, non a fare dei comizi. Son...\n",
      "file_name: TranscribeTikTokAudio7086078703641332998.json\n",
      "                                                            0\n",
      "transcript  si parla in questi giorni della possibilità di...\n",
      "file_name: TranscribeTikTokAudio7204931077029268741.json\n",
      "                                                            0\n",
      "transcript  mhm Buonasera presidente e grazie per aver acc...\n",
      "file_name: TranscribeTikTokAudio7106933742027001093.json\n",
      "                  0\n",
      "transcript  grazie.\n",
      "file_name: TranscribeTikTokAudio7247012477228076314.json\n",
      "                                                            0\n",
      "transcript  è arrivato il giorno degli esami di maturità. ...\n",
      "file_name: TranscribeTikTokAudio7205257187130674437.json\n",
      "                                                            0\n",
      "transcript  tra le tante falsità che ho sentito dire in qu...\n",
      "file_name: TranscribeTikTokAudio7115419591593037061.json\n",
      "                                                            0\n",
      "transcript  fermi tutti che la sinistra italiana ha trovat...\n",
      "file_name: TranscribeTikTokAudio7136459590434147590.json\n",
      "                                                            0\n",
      "transcript  Sì, ancora di più. Dopo di che devi mettere il...\n",
      "file_name: TranscribeTikTokAudio7146265492234292486.json\n",
      "                                                            0\n",
      "transcript  e a tutta la coalizione, Ovviamente una donna,...\n",
      "file_name: TranscribeTikTokAudio7135145359629634822.json\n",
      "           0\n",
      "transcript  \n",
      "file_name: TranscribeTikTokAudio7136548859093863685.json\n",
      "                                                            0\n",
      "transcript  ma è una nazione che ugualmente ha bisogno di ...\n",
      "file_name: TranscribeTikTokAudio7257145557309738266.json\n",
      "                                                            0\n",
      "transcript  Il partenariato con la Tunisia per noi è da co...\n",
      "file_name: TranscribeTikTokAudio7094669289294220549.json\n",
      "                                                            0\n",
      "transcript  allora questo simpatico siparietto è andato in...\n",
      "file_name: TranscribeTikTokAudio7232366148258417946.json\n",
      "                                                            0\n",
      "transcript  la storia del popolo italiano è una storia fat...\n",
      "file_name: TranscribeTikTokAudio7157249765837786373.json\n",
      "                                                            0\n",
      "transcript  l'anno duemila e ventidue il giorno ventidue d...\n",
      "file_name: TranscribeTikTokAudio7205624570915736837.json\n",
      "           0\n",
      "transcript  \n",
      "file_name: TranscribeTikTokAudio7138307731299028230.json\n",
      "                                                            0\n",
      "transcript  con gianni forti, zio di chico forti vicenda c...\n",
      "file_name: TranscribeTikTokAudio7189243457179880709.json\n",
      "                                                            0\n",
      "transcript  Sì, Bravi, bravi, bravi. Grazie. Ecco di dove ...\n",
      "file_name: TranscribeTikTokAudio7144425341279341830.json\n",
      "               0\n",
      "transcript  sono\n",
      "file_name: TranscribeTikTokAudio7142030812693810438.json\n",
      "                                                            0\n",
      "transcript  non intendiamo modificare la legge centonovant...\n",
      "file_name: TranscribeTikTokAudio7240155848205454619.json\n",
      "                                                            0\n",
      "transcript  da nazionale. La patria alla fine è questo. È ...\n",
      "file_name: TranscribeTikTokAudio7132368164540730629.json\n",
      "                                                            0\n",
      "transcript  il nostro lavoro è un lavoro che vedrà come un...\n",
      "file_name: TranscribeTikTokAudio7116559793489267973.json\n",
      "                                                            0\n",
      "transcript  l'altra. Cosa sempre nel si apre la caccia a G...\n",
      "file_name: TranscribeTikTokAudio7265621447920422176.json\n",
      "                                                            0\n",
      "transcript  Consiglio dei ministri ha approvato diverse mi...\n",
      "file_name: TranscribeTikTokAudio7070073900100521222.json\n",
      "                               0\n",
      "transcript  chi va M design, yo.\n",
      "file_name: TranscribeTikTokAudio7278386520275373344.json\n",
      "                                                            0\n",
      "transcript  Buonasera Presidente. La visione di Giorgia, s...\n",
      "file_name: TranscribeTikTokAudio7228211560240467227.json\n",
      "                                                            0\n",
      "transcript  il giorno della festa dei lavoratori il govern...\n",
      "file_name: TranscribeTikTokAudio7223471702020246810.json\n",
      "                                                            0\n",
      "transcript  in tempo di globalizzazione l'italia, non de n...\n",
      "file_name: TranscribeTikTokAudio7136915130884934918.json\n",
      "                                                            0\n",
      "transcript  una cosa mi fa impazzire e mi dà fastidio da m...\n",
      "file_name: TranscribeTikTokAudio7136424309131578629.json\n",
      "                                                            0\n",
      "transcript  non è normale che esistano ancora in Italia am...\n",
      "file_name: TranscribeTikTokAudio7277971263958666529.json\n",
      "                                                            0\n",
      "transcript  il punto è noi siamo stati capaci di fare un q...\n",
      "file_name: TranscribeTikTokAudio7138364518136122629.json\n",
      "                                                            0\n",
      "transcript  anche sul tema del reddito di cittadinanza Vog...\n",
      "file_name: TranscribeTikTokAudio7221262230988262661.json\n",
      "           0\n",
      "transcript  \n",
      "file_name: TranscribeTikTokAudio7170424345486036229.json\n",
      "                                                            0\n",
      "transcript  quindi grazie a tutti. Ovviamente grazie a tut...\n",
      "file_name: TranscribeTikTokAudio7134593713753427205.json\n",
      "                                                            0\n",
      "transcript  lo Stato non crea ricchezza e posti di lavoro,...\n",
      "file_name: TranscribeTikTokAudio7234091904151932186.json\n",
      "                                                            0\n",
      "transcript  per ribadire la mia solidarietà a tutti i citt...\n",
      "file_name: TranscribeTikTokAudio7092832806765612293.json\n",
      "                                                            0\n",
      "transcript  non ci troverete mai con lo sguardo basso con ...\n",
      "file_name: TranscribeTikTokAudio7137360677756325126.json\n",
      "                                                            0\n",
      "transcript  perché dopo anni di chiacchierano nel palazzo,...\n",
      "file_name: TranscribeTikTokAudio7222372308235603206.json\n",
      "                                                            0\n",
      "transcript  Buongiorno a tutti! Grazie, grazie, grazie, gr...\n",
      "file_name: TranscribeTikTokAudio7164382552751394053.json\n",
      "                                                            0\n",
      "transcript  immagino abbiate saputo che Alessia Piperno st...\n",
      "file_name: TranscribeTikTokAudio7122815617337494789.json\n",
      "                                                            0\n",
      "transcript  non fatevi spaventare, non fatevi spaventare, ...\n",
      "file_name: TranscribeTikTokAudio7201936585745632517.json\n",
      "                                                            0\n",
      "transcript  nello stesso Consiglio dei ministri. Um di qua...\n",
      "file_name: TranscribeTikTokAudio7241634208106515738.json\n",
      "                                                            0\n",
      "transcript  dopodiché però la sinistra ti dice che sei aut...\n",
      "file_name: TranscribeTikTokAudio7080511603812109574.json\n",
      "                                                            0\n",
      "transcript  e come sempre, di fronte alle grandi sfide del...\n",
      "file_name: TranscribeTikTokAudio7078014348152638726.json\n",
      "                                                            0\n",
      "transcript  erano i primi giorni di gennaio duemilaventuno...\n",
      "file_name: TranscribeTikTokAudio7145435366529551621.json\n",
      "                                                            0\n",
      "transcript  come si vota per le elezioni politiche duemila...\n",
      "file_name: TranscribeTikTokAudio7067167670214331654.json\n",
      "                                                            0\n",
      "transcript  vede, Presidente, a differenza di buona parte ...\n",
      "file_name: TranscribeTikTokAudio7069423165268626694.json\n",
      "                                                            0\n",
      "transcript  in chat The Walk Ideology Foundations Life Cha...\n",
      "file_name: TranscribeTikTokAudio7092732219587874053.json\n",
      "           0\n",
      "transcript  \n",
      "file_name: TranscribeTikTokAudio7081255304721075461.json\n",
      "                                                            0\n",
      "transcript  continua l'emergenza insicurezza nelle nostre ...\n",
      "file_name: TranscribeTikTokAudio7261648290305821978.json\n",
      "                                                            0\n",
      "transcript  un suo commento personale, non da Primo minist...\n",
      "file_name: TranscribeTikTokAudio7142259434000059654.json\n",
      "                                                            0\n",
      "transcript  nazionale punita, Inno nazionale Michele Campi...\n",
      "file_name: TranscribeTikTokAudio7176657919654579462.json\n",
      "                                                            0\n",
      "transcript  vedete, colleghi, noi abbiamo noi abbiamo semp...\n",
      "file_name: TranscribeTikTokAudio7144420910336953606.json\n",
      "           0\n",
      "transcript  \n",
      "file_name: TranscribeTikTokAudio7210879251527077125.json\n",
      "                                                            0\n",
      "transcript  e come dicevo, L'italia condivide gli obiettiv...\n",
      "file_name: TranscribeTikTokAudio7254490393851481371.json\n",
      "                                                            0\n",
      "transcript  il problema principale che ha impattato sulle ...\n",
      "file_name: TranscribeTikTokAudio7206775485903260933.json\n",
      "                                                            0\n",
      "transcript  io sono rimasta un po' colpita dalle ricostruz...\n",
      "file_name: TranscribeTikTokAudio7206202741440449798.json\n",
      "                                                            0\n",
      "transcript  Office in Palazzo Chigi in Roma D'italia t Glo...\n",
      "file_name: TranscribeTikTokAudio7216766115110735109.json\n",
      "                                                            0\n",
      "transcript  proprio sul fronte occupazione arriva qualche ...\n",
      "file_name: TranscribeTikTokAudio7175162657949994246.json\n",
      "                                                            0\n",
      "transcript  in via Chiaromonte abbiamo notato una vettura ...\n",
      "file_name: TranscribeTikTokAudio7092396552064453893.json\n",
      "                                                            0\n",
      "transcript  e però quando chiedi a un altro di difenderti,...\n",
      "file_name: TranscribeTikTokAudio7161896989863709958.json\n",
      "                                                            0\n",
      "transcript  e secondo però ci tenevo a fare un rapido bila...\n",
      "file_name: TranscribeTikTokAudio7146526475439639814.json\n",
      "                                                            0\n",
      "transcript  primo vedo grande entusiasmo. I sondaggi non s...\n",
      "file_name: TranscribeTikTokAudio7265415410848238880.json\n",
      "                                                            0\n",
      "transcript  reddito di cittadinanza. Cominciano in questi ...\n",
      "file_name: TranscribeTikTokAudio7145843103075781893.json\n",
      "                                                            0\n",
      "transcript  oggi Bologna con Patrizia che fa i tortellini ...\n",
      "file_name: TranscribeTikTokAudio7144295242039037190.json\n",
      "           0\n",
      "transcript  \n",
      "file_name: TranscribeTikTokAudio7136118025811479814.json\n",
      "                                                            0\n",
      "transcript  la famiglia è il nucleo essenziale della nostr...\n",
      "file_name: TranscribeTikTokAudio7277491085071387937.json\n",
      "                                                            0\n",
      "transcript  nazioni rappresentate nel G venti rappresentan...\n",
      "file_name: TranscribeTikTokAudio7183669325126012166.json\n",
      "                                                            0\n",
      "transcript  un grande augurio a tutti gli italiani per un ...\n",
      "file_name: TranscribeTikTokAudio7146272946183605510.json\n",
      "                       0\n",
      "transcript  sì e non sì.\n",
      "file_name: TranscribeTikTokAudio7137738553127079173.json\n",
      "                 0\n",
      "transcript  forza.\n",
      "file_name: TranscribeTikTokAudio7063465536109235461.json\n",
      "                                                            0\n",
      "transcript  tenere una legge proporzionale perché la legge...\n",
      "file_name: TranscribeTikTokAudio7152865526417558789.json\n",
      "                            0\n",
      "transcript  Ciao con le cose.\n",
      "file_name: TranscribeTikTokAudio7143163842665663749.json\n",
      "           0\n",
      "transcript  \n",
      "file_name: TranscribeTikTokAudio7202261483860806917.json\n",
      "                                                            0\n",
      "transcript  si aggiunge una novità nelle ultime settimane,...\n",
      "file_name: TranscribeTikTokAudio7166251050142420230.json\n",
      "                  0\n",
      "transcript  grazie.\n",
      "file_name: TranscribeTikTokAudio7260133930643361050.json\n",
      "                                                            0\n",
      "transcript  gli incendi e i disastri meteorologici degli u...\n",
      "file_name: TranscribeTikTokAudio7243739642934201626.json\n",
      "                                                            0\n",
      "transcript  Silvio Berlusconi era soprattutto un combatten...\n",
      "file_name: TranscribeTikTokAudio7247501157361372443.json\n",
      "                                                            0\n",
      "transcript  tacere sulla negazione della libertà religiosa...\n",
      "file_name: TranscribeTikTokAudio7107893116505492741.json\n",
      "                                                            0\n",
      "transcript  uno stato giusto non mette sullo stesso piano ...\n",
      "file_name: TranscribeTikTokAudio7182877365171801349.json\n",
      "                                                            0\n",
      "transcript  ieri in Consiglio dei ministri il ministro Sch...\n",
      "file_name: TranscribeTikTokAudio7238958663094865178.json\n",
      "                                                            0\n",
      "transcript  troppe volte. Noi dimentichiamo il contributo ...\n",
      "file_name: TranscribeTikTokAudio7148069987796765958.json\n",
      "                                                            0\n",
      "transcript  noi dovremmo ricordarci che non siamo a un pun...\n",
      "file_name: TranscribeTikTokAudio7237568877436177690.json\n",
      "                                0\n",
      "transcript  il viva che ha fatto.\n",
      "file_name: TranscribeTikTokAudio7198105090119568646.json\n",
      "                                                            0\n",
      "transcript  piattaforma esalante speculazione anche più ch...\n",
      "file_name: TranscribeTikTokAudio7160592391194299654.json\n",
      "           0\n",
      "transcript  \n",
      "file_name: TranscribeTikTokAudio7143285004917935365.json\n",
      "              0\n",
      "transcript  sì.\n",
      "file_name: TranscribeTikTokAudio7173606687327161605.json\n",
      "                                                            0\n",
      "transcript  tetto al contante. Su questo moltissime domand...\n",
      "file_name: TranscribeTikTokAudio7078649936128003334.json\n",
      "           0\n",
      "transcript  \n",
      "file_name: TranscribeTikTokAudio7161412406495694086.json\n",
      "                                                            0\n",
      "transcript  quella parte divertente finisce qui. Adesso co...\n",
      "file_name: TranscribeTikTokAudio7158424452286401797.json\n",
      "                                                            0\n",
      "transcript  perché alla fine, alla fine di questa avventur...\n",
      "file_name: TranscribeTikTokAudio7073752853965262086.json\n",
      "                                                            0\n",
      "transcript  allora nel bel mezzo di una crisi internaziona...\n",
      "file_name: TranscribeTikTokAudio7144023384853171462.json\n",
      "                                                            0\n",
      "transcript  scusi, vuol cambiare la centonovantaquattro o ...\n",
      "file_name: TranscribeTikTokAudio7156890275317632262.json\n",
      "                                                            0\n",
      "transcript  dunque buongiorno a tutti. La delegazione comp...\n",
      "file_name: TranscribeTikTokAudio7259020896466242842.json\n",
      "                                                            0\n",
      "transcript  cari amici, è un grande onore per il governo i...\n",
      "file_name: TranscribeTikTokAudio7133129347828944134.json\n",
      "                                                            0\n",
      "transcript  dieci anni di governi di sinistra hanno reso l...\n",
      "file_name: TranscribeTikTokAudio7140316758455454982.json\n",
      "                                                            0\n",
      "transcript  Kent. Hai ragione. Ho detto una parola senza s...\n",
      "file_name: TranscribeTikTokAudio7138094156332715270.json\n",
      "                                                            0\n",
      "transcript  Ah, Buonasera a tutti. E per questa presenza, ...\n",
      "file_name: TranscribeTikTokAudio7178782554814811397.json\n",
      "                                                            0\n",
      "transcript  io faccio degli stupendi alberi di Natale, son...\n",
      "file_name: TranscribeTikTokAudio7092109732386737413.json\n",
      "                                                            0\n",
      "transcript  dell'altitudine L'ossigeno è rarefatto, può da...\n",
      "file_name: TranscribeTikTokAudio7144986246215929094.json\n",
      "                                                            0\n",
      "transcript  dicono che fratelli d'italia voglia colpire i ...\n",
      "file_name: TranscribeTikTokAudio7182913772271521030.json\n",
      "                                                            0\n",
      "transcript  La domanda quindi è se ci può dettagliare un p...\n",
      "file_name: TranscribeTikTokAudio7142930878216359173.json\n",
      "           0\n",
      "transcript  \n",
      "file_name: TranscribeTikTokAudio7162839147302997254.json\n",
      "                                                            0\n",
      "transcript  per quello che riguarda la norma sui rave guar...\n",
      "file_name: TranscribeTikTokAudio7140683479053831429.json\n",
      "                                                            0\n",
      "transcript  il tuo primo. Io trovo che la campagna elettor...\n",
      "file_name: TranscribeTikTokAudio7141788005320150277.json\n",
      "           0\n",
      "transcript  \n",
      "file_name: TranscribeTikTokAudio7137723121796156677.json\n",
      "              0\n",
      "transcript  sì.\n",
      "file_name: TranscribeTikTokAudio7141284558791576837.json\n",
      "                                                            0\n",
      "transcript  io con la Meloni non governerò mai. Il Partito...\n",
      "file_name: TranscribeTikTokAudio7184340534251621637.json\n",
      "                                                            0\n",
      "transcript  ci siamo occupati di immigrazione nello stesso...\n",
      "file_name: TranscribeTikTokAudio7210840206986071301.json\n",
      "                                                            0\n",
      "transcript  mi pare evidente che noi stiamo assistendo da ...\n",
      "file_name: TranscribeTikTokAudio7134693026680655109.json\n",
      "                                                            0\n",
      "transcript  allora un paio di temi della campagna elettora...\n",
      "file_name: TranscribeTikTokAudio7074535704902077701.json\n",
      "                                                            0\n",
      "transcript  così battagliera perché nei documenti del gove...\n",
      "file_name: TranscribeTikTokAudio7178948277834992901.json\n",
      "                                                            0\n",
      "transcript  il pres è una vittoria del governo italiano. L...\n",
      "file_name: TranscribeTikTokAudio7136844388176530694.json\n",
      "                                                            0\n",
      "transcript  sapete che sono quasi venti milioni i cani e i...\n",
      "file_name: TranscribeTikTokAudio7138461939923029254.json\n",
      "           0\n",
      "transcript  \n",
      "file_name: TranscribeTikTokAudio7139418655879744774.json\n",
      "              0\n",
      "transcript  con\n",
      "file_name: TranscribeTikTokAudio7106170331500399878.json\n",
      "           0\n",
      "transcript  \n",
      "file_name: TranscribeTikTokAudio7235728376848272666.json\n",
      "                                                            0\n",
      "transcript  la situazione è molto complessa e ci sono vari...\n",
      "file_name: TranscribeTikTokAudio7244545854739172635.json\n",
      "           0\n",
      "transcript  \n",
      "file_name: TranscribeTikTokAudio.json\n",
      "                                                            0\n",
      "transcript  mi faccia capire quelli che sostengono questa ...\n",
      "file_name: TranscribeTikTokAudio7250049940255182107.json\n",
      "                                                            0\n",
      "transcript  a tutti i cittadini italiani che ci seguono. V...\n",
      "file_name: TranscribeTikTokAudio7260633128325090587.json\n",
      "                                                            0\n",
      "transcript  Giorgio I The American and the Playsta Thomas ...\n",
      "file_name: TranscribeTikTokAudio7231465075389795611.json\n",
      "                                                            0\n",
      "transcript  Quello che non funziona nel sistema è questa i...\n",
      "file_name: TranscribeTikTokAudio7189296202347744517.json\n",
      "                                                            0\n",
      "transcript  mi piacerebbe immaginare. Mi piace immaginare ...\n",
      "file_name: TranscribeTikTokAudio7130543050006269189.json\n",
      "                                                            0\n",
      "transcript  Gesù, Giorgia Meloni, J. Carron, Sanka Gesù, l...\n",
      "file_name: TranscribeTikTokAudio7104580217892506885.json\n",
      "                  0\n",
      "transcript  che fa.\n",
      "file_name: TranscribeTikTokAudio7063159758185827590.json\n",
      "                                                            0\n",
      "transcript  aumenti smisurati dei costi per cittadini e im...\n",
      "file_name: TranscribeTikTokAudio7143251423474502917.json\n",
      "           0\n",
      "transcript  \n",
      "file_name: TranscribeTikTokAudio7092292016104606982.json\n",
      "                                                            0\n",
      "transcript  si sarebbero potute fare le cose giuste invece...\n",
      "file_name: TranscribeTikTokAudio7109740680011894022.json\n",
      "                                                            0\n",
      "transcript  mhm. Come dire se bisogna ridere ridiamo della...\n",
      "file_name: TranscribeTikTokAudio7222341088596610309.json\n",
      "           0\n",
      "transcript  \n",
      "file_name: TranscribeTikTokAudio7123181095293701382.json\n",
      "                                                            0\n",
      "transcript  mi piace immaginarci poi quella bella frase di...\n",
      "file_name: TranscribeTikTokAudio7141803151136410886.json\n",
      "            0\n",
      "transcript  o\n",
      "file_name: TranscribeTikTokAudio7104226960422800646.json\n",
      "                                                        0\n",
      "transcript  qua? Sì, in che vuole tornare alla normalità.\n",
      "file_name: TranscribeTikTokAudio7174007223310372101.json\n",
      "                                                            0\n",
      "transcript  reddito di cittadinanza. Qui ho sentito dire o...\n",
      "file_name: TranscribeTikTokAudio7188187795985272069.json\n",
      "                                                            0\n",
      "transcript  guardi, come ha detto lei, il quadro generale ...\n",
      "file_name: TranscribeTikTokAudio7143551183792164102.json\n",
      "                                                            0\n",
      "transcript  tra il signor Pino anche qualcuno della comuni...\n",
      "file_name: TranscribeTikTokAudio7219014997781925146.json\n",
      "                                                            0\n",
      "transcript  da circa vent'anni L'italia è vittima di un pr...\n",
      "file_name: TranscribeTikTokAudio7145360998407425285.json\n",
      "                                                            0\n",
      "transcript  l'era social in cui la comunicazione di massa ...\n",
      "file_name: TranscribeTikTokAudio7226821746425466139.json\n",
      "                                                            0\n",
      "transcript  credo che insomma, tutti quanti vadano richiam...\n",
      "file_name: TranscribeTikTokAudio7215590061742591259.json\n",
      "                                                 0\n",
      "transcript  Vieni, dai, vieni. Certo, Sì, Giorgia.\n",
      "file_name: TranscribeTikTokAudio7137699360111938822.json\n",
      "              0\n",
      "transcript  sì.\n",
      "file_name: TranscribeTikTokAudio7144769480244071686.json\n",
      "                                                            0\n",
      "transcript  Buonasera sono di ritorno da una manifestazion...\n",
      "file_name: TranscribeTikTokAudio7187877327806762246.json\n",
      "                                                            0\n",
      "transcript  si è pentita di non avere tagliato le accise a...\n",
      "file_name: TranscribeTikTokAudio7138477051790494981.json\n",
      "           0\n",
      "transcript  \n",
      "file_name: TranscribeTikTokAudio7143225656137075974.json\n",
      "                                                            0\n",
      "transcript  Quindi lei crede che su Giorgia Meloni non ci ...\n",
      "file_name: TranscribeTikTokAudio7180307547616742662.json\n",
      "                                                            0\n",
      "transcript  il quale faceva poi abbiamo cominciato con i c...\n",
      "file_name: TranscribeTikTokAudio7141381807093697798.json\n",
      "           0\n",
      "transcript  \n",
      "file_name: TranscribeTikTokAudio7187514172463254790.json\n",
      "                                                            0\n",
      "transcript  io sento ormai parlare sistematicamente. Sento...\n",
      "file_name: TranscribeTikTokAudio7137965836253351173.json\n",
      "                                                            0\n",
      "transcript  continua il nostro tour Dell'italia oggi Molis...\n",
      "file_name: TranscribeTikTokAudio7067893974035401990.json\n",
      "                                                            0\n",
      "transcript  quante volte mi sono sentita domandare ma lei ...\n",
      "file_name: TranscribeTikTokAudio7249053260105944347.json\n",
      "                                                            0\n",
      "transcript  Forse lei dovrebbe guardare a questi ragazzi c...\n",
      "file_name: TranscribeTikTokAudio7144246488879713542.json\n",
      "                                                            0\n",
      "transcript  hanno il problema che a voi hanno detto per ta...\n",
      "file_name: TranscribeTikTokAudio7145754357013777670.json\n",
      "                                                            0\n",
      "transcript  è emergenza usura, anche se non se ne parla qu...\n",
      "file_name: TranscribeTikTokAudio7137343861130677510.json\n",
      "           0\n",
      "transcript  \n",
      "file_name: TranscribeTikTokAudio7251672977257942299.json\n",
      "                                                            0\n",
      "transcript  quella delle materie prime delle materie prime...\n",
      "file_name: TranscribeTikTokAudio7066095800291577093.json\n",
      "                                                            0\n",
      "transcript  noi. In una parola vogliamo difendere L'italia...\n",
      "file_name: TranscribeTikTokAudio7211143983282588934.json\n",
      "                                                            0\n",
      "transcript  Presidente Meloni approviamo subito un salario...\n",
      "file_name: TranscribeTikTokAudio7211503013234527494.json\n",
      "                                                            0\n",
      "transcript  allora nel giorno dell'unità d'italia nel gior...\n",
      "file_name: TranscribeTikTokAudio7198603797227244806.json\n",
      "           0\n",
      "transcript  \n",
      "file_name: TranscribeTikTokAudio7177049020412513542.json\n",
      "                                                            0\n",
      "transcript  la questione dell'immigrazione. Anche qui si p...\n",
      "file_name: TranscribeTikTokAudio7074130814199516422.json\n",
      "                                                            0\n",
      "transcript  questo c'è scritto sul libro di giorgia Meloni...\n",
      "file_name: TranscribeTikTokAudio7261188519618448667.json\n",
      "                                                            0\n",
      "transcript  e sono fiera di guidare questa nazione. L'ital...\n",
      "file_name: TranscribeTikTokAudio7187471251794005254.json\n",
      "                                                            0\n",
      "transcript  cosa abbiamo fatto pure prima di tutto io ho s...\n",
      "file_name: TranscribeTikTokAudio7157692146278075654.json\n",
      "                                                            0\n",
      "transcript  reparto D'onore reparto D'onore presenta a ono...\n",
      "file_name: TranscribeTikTokAudio7137367409882582277.json\n",
      "              0\n",
      "transcript  sì.\n",
      "file_name: TranscribeTikTokAudio7111970905525341445.json\n",
      "           0\n",
      "transcript  \n",
      "file_name: TranscribeTikTokAudio7142918656551423237.json\n",
      "              0\n",
      "transcript  Ah.\n",
      "file_name: TranscribeTikTokAudio7135363514704727301.json\n",
      "                                                            0\n",
      "transcript  girare nelle nostre città sta diventando un'im...\n",
      "file_name: TranscribeTikTokAudio7243836094456827162.json\n",
      "                                                            0\n",
      "transcript  abbiamo anche la contestazione. Evviva! Così a...\n",
      "file_name: TranscribeTikTokAudio7145877683740658949.json\n",
      "                     0\n",
      "transcript  Grazie, ma\n",
      "file_name: TranscribeTikTokAudio7113843601427139846.json\n",
      "                                                            0\n",
      "transcript  non siamo soddisfatti del risultato di questi ...\n",
      "file_name: TranscribeTikTokAudio7139623564637900038.json\n",
      "                        0\n",
      "transcript  micetto. Mhm.\n",
      "file_name: TranscribeTikTokAudio7198571880997981445.json\n",
      "                                                            0\n",
      "transcript  e ancora di più penso che dobbiamo essere sodd...\n",
      "file_name: TranscribeTikTokAudio7221065295304117509.json\n",
      "           0\n",
      "transcript  \n"
     ]
    }
   ],
   "source": [
    "transcription_dir_location = '../data/processed/transcription/'\n",
    "\n",
    "def extract_translated_text(file_name: str):\n",
    "    if file_name == '.DS_Store':\n",
    "        return\n",
    "    \n",
    "    print(f'file_name: {file_name}')\n",
    "    transcriptions_df = pd.read_json(transcription_dir_location + 'original/' + file_name)\n",
    "    transcripts_df = transcriptions_df['results']['transcripts'] \n",
    "    if len(transcripts_df) > 1:\n",
    "        print('error')\n",
    "        raise\n",
    "\n",
    "    transcript_df = pd.DataFrame.from_dict(transcripts_df[0], orient='index')\n",
    "    print(transcript_df)\n",
    "    transcript_df.to_json(f'{transcription_dir_location}/{file_name}')    \n",
    "\n",
    "for file_name in os.listdir(transcription_dir_location + 'original'):\n",
    "    extract_translated_text(file_name)\n",
    "\n"
   ]
  },
  {
   "cell_type": "code",
   "execution_count": null,
   "metadata": {},
   "outputs": [],
   "source": []
  }
 ],
 "metadata": {
  "colab": {
   "include_colab_link": true,
   "provenance": []
  },
  "kernelspec": {
   "display_name": "Python 3 (ipykernel)",
   "language": "python",
   "name": "python3"
  },
  "language_info": {
   "codemirror_mode": {
    "name": "ipython",
    "version": 3
   },
   "file_extension": ".py",
   "mimetype": "text/x-python",
   "name": "python",
   "nbconvert_exporter": "python",
   "pygments_lexer": "ipython3",
   "version": "3.11.5"
  }
 },
 "nbformat": 4,
 "nbformat_minor": 4
}
