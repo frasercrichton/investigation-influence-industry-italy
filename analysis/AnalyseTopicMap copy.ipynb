{
 "cells": [
  {
   "cell_type": "markdown",
   "metadata": {},
   "source": [
    "# Topic Map"
   ]
  },
  {
   "cell_type": "code",
   "execution_count": 1,
   "metadata": {},
   "outputs": [
    {
     "name": "stderr",
     "output_type": "stream",
     "text": [
      "[nltk_data] Downloading package punkt to\n",
      "[nltk_data]     /Users/frasercrichton/nltk_data...\n",
      "[nltk_data]   Package punkt is already up-to-date!\n"
     ]
    }
   ],
   "source": [
    "import os\n",
    "import pandas as pd\n",
    "import re\n",
    "import nltk\n",
    "import openai\n",
    "from bertopic.vectorizers import ClassTfidfTransformer\n",
    "from sentence_transformers import SentenceTransformer\n",
    "from umap import UMAP\n",
    "from hdbscan import HDBSCAN\n",
    "from sklearn.feature_extraction.text import CountVectorizer\n",
    "from bertopic.representation import KeyBERTInspired, MaximalMarginalRelevance, OpenAI, PartOfSpeech\n",
    "from bertopic import BERTopic\n",
    "from nltk import sent_tokenize, word_tokenize\n",
    "nltk.download('punkt')\n",
    "\n",
    "openai.api_key=os.environ['openai_api_key'] \n",
    "transcription_dir_location_en = '../data/processed/transcription/en/'"
   ]
  },
  {
   "cell_type": "code",
   "execution_count": 3,
   "metadata": {},
   "outputs": [
    {
     "name": "stdout",
     "output_type": "stream",
     "text": [
      "Small number of words: ../data/processed/transcription/en/TranscribeTikTokAudio7147206448232074502.json gentlemen, It was the day of defeat. But this is not the day to get things done. Well, that wasn't really the case. That's fine. \n",
      "Small number of words: ../data/processed/transcription/en/TranscribeTikTokAudio7147263913200045317.json September twenty-fifth I've said it all. \n",
      "Small number of words: ../data/processed/transcription/en/TranscribeTikTokAudio7135145359629634822.json \n",
      "Small number of words: ../data/processed/transcription/en/TranscribeTikTokAudio7144425341279341830.json I am\n",
      "Small number of words: ../data/processed/transcription/en/TranscribeTikTokAudio7070073900100521222.json who goes M design, yo. \n",
      "Small number of words: ../data/processed/transcription/en/TranscribeTikTokAudio7144420910336953606.json \n",
      "Small number of words: ../data/processed/transcription/en/TranscribeTikTokAudio7143163842665663749.json \n",
      "Small number of words: ../data/processed/transcription/en/TranscribeTikTokAudio7143285004917935365.json Yes. \n",
      "Small number of words: ../data/processed/transcription/en/TranscribeTikTokAudio7138094156332715270.json Ah, good evening everyone. And for this presence, thank you. \n",
      "Small number of words: ../data/processed/transcription/en/TranscribeTikTokAudio7141788005320150277.json \n",
      "Small number of words: ../data/processed/transcription/en/TranscribeTikTokAudio7137723121796156677.json Yes. \n",
      "Small number of words: ../data/processed/transcription/en/TranscribeTikTokAudio7138461939923029254.json \n",
      "Small number of words: ../data/processed/transcription/en/TranscribeTikTokAudio7143251423474502917.json \n",
      "Small number of words: ../data/processed/transcription/en/TranscribeTikTokAudio7141803151136410886.json or\n",
      "Small number of words: ../data/processed/transcription/en/TranscribeTikTokAudio7137699360111938822.json Yes. \n",
      "Small number of words: ../data/processed/transcription/en/TranscribeTikTokAudio7137965836253351173.json Our tour of Italy continues today Molise and Abruzzo, at 2pm in Termoli, at 6pm Piazza Salotto Pescara. I wait for you\n",
      "Small number of words: ../data/processed/transcription/en/TranscribeTikTokAudio7137343861130677510.json \n",
      "Small number of words: ../data/processed/transcription/en/TranscribeTikTokAudio7066095800291577093.json we. In a word we want to defend Italy. Let's see how many others want to do it in here. \n",
      "Small number of words: ../data/processed/transcription/en/TranscribeTikTokAudio7142918656551423237.json Oh. \n",
      "Small number of words: ../data/processed/transcription/en/TranscribeTikTokAudio7145877683740658949.json Thanks but\n"
     ]
    }
   ],
   "source": [
    "docs = []\n",
    "timestamps = []\n",
    "\n",
    "# the text contains spoken filler words that need removed \n",
    "stopwords = ['um', 'ah', 'mhm', 'mhm.', 'oh', 'huh?', 'hi']     \n",
    "\n",
    "def remove_stop_words(sentence):\n",
    "    text_tokens = sentence.split(\" \")\n",
    "    tokens_filtered = [word for word in text_tokens if not word.lower() in stopwords]\n",
    "    return (\" \").join(tokens_filtered)\n",
    "\n",
    "def parse_text(file_location): \n",
    "    transcriptions_df = pd.read_json(file_location, convert_dates=['createTime'])\n",
    "    transcription_text = transcriptions_df['transcript'][0]\n",
    "    transcription_create_time = transcriptions_df['createTime'][0].strftime('%Y-%m-%d %H:%M:%S')\n",
    "    \n",
    "    # only analyse files with sentences with more then 27 words\n",
    "    if len(transcription_text.split()) < 27:\n",
    "        print(f'Small number of words: {file_location} {transcription_text}')\n",
    "        return\n",
    "    \n",
    "    for sentence in sent_tokenize(transcription_text):\n",
    "        timestamps.append(transcription_create_time)\n",
    "        sentence = sentence.replace(\"Fratelli D'Italia\", 'Brothers of Italy').replace(\"Fratelli d'Italia\", 'Brothers of Italy')\n",
    "        sentence = remove_stop_words(sentence)                 \n",
    "        docs.append(sentence)\n",
    "    \n",
    "for file_name in os.listdir(transcription_dir_location_en):\n",
    "    parse_text(transcription_dir_location_en + file_name)\n",
    "\n",
    "\n",
    "# temp_docs = [doc for doc in docs if len(doc) > 3]\n",
    "# temp_docs\n",
    "# topics_over_time = model.topics_over_time(tweets, timestamps)\n",
    "docs\n",
    "# timestamps\n",
    "# Python program to demonstrate \n",
    "# saving a text file \n",
    "\n",
    "\n",
    "with open('temp.txt', 'w') as file: \n",
    "\tfile.writelines(\"% s\\n\" % data for data in docs) \n"
   ]
  },
  {
   "cell_type": "markdown",
   "metadata": {},
   "source": [
    "1) Pre-calculate Embeddings"
   ]
  },
  {
   "cell_type": "code",
   "execution_count": 4,
   "metadata": {},
   "outputs": [],
   "source": [
    "from bertopic.backend import OpenAIBackend\n",
    "# import spacy\n",
    "# !python -m spacy download en_core_web_md\n",
    "# nlp = spacy.load(\"en_core_web_md\", exclude=['tagger', 'parser', 'ner', \n",
    "#                                             'attribute_ruler', 'lemmatizer'])\n",
    "# embedding_model = OpenAIBackend('text-embedding-ada-002\"')\n",
    "\n",
    "# import gensim.downloader as api\n",
    "# ft = api.load('fasttext-wiki-news-subwords-300')\n",
    "\n",
    "embedding_model = SentenceTransformer(\"all-MiniLM-L6-v2\")\n",
    "# embedding_model = ft\n",
    "\n",
    "# embeddings = embedding_model.encode(docs, show_progress_bar=True)"
   ]
  },
  {
   "cell_type": "markdown",
   "metadata": {},
   "source": [
    "Stochastic Behaviour"
   ]
  },
  {
   "cell_type": "code",
   "execution_count": 5,
   "metadata": {},
   "outputs": [],
   "source": [
    "umap_model = UMAP(n_neighbors=15, n_components=5, min_dist=0.0, metric='cosine', random_state=42)"
   ]
  },
  {
   "cell_type": "markdown",
   "metadata": {},
   "source": [
    "Limit Number of Topics"
   ]
  },
  {
   "cell_type": "code",
   "execution_count": 6,
   "metadata": {},
   "outputs": [],
   "source": [
    "hdbscan_model = HDBSCAN(min_cluster_size=5, metric='euclidean', cluster_selection_method='eom', prediction_data=True)"
   ]
  },
  {
   "cell_type": "markdown",
   "metadata": {},
   "source": [
    "Improving Default Representation"
   ]
  },
  {
   "cell_type": "code",
   "execution_count": 7,
   "metadata": {},
   "outputs": [],
   "source": [
    "vectorizer_model = CountVectorizer(stop_words=\"english\", min_df=2, ngram_range=(1, 2))"
   ]
  },
  {
   "cell_type": "markdown",
   "metadata": {},
   "source": []
  },
  {
   "cell_type": "code",
   "execution_count": 10,
   "metadata": {},
   "outputs": [],
   "source": [
    "# KeyBERT\n",
    "keybert_model = KeyBERTInspired()\n",
    "\n",
    "# Part-of-Speech\n",
    "pos_model = PartOfSpeech(\"en_core_web_sm\")\n",
    "\n",
    "# MMR\n",
    "mmr_model = MaximalMarginalRelevance(diversity=0.3)\n",
    "\n",
    "# GPT-3.5\n",
    "prompt = \"\"\"\n",
    "I have a topic that contains the following documents:\n",
    "[DOCUMENTS]\n",
    "The topic is described by the following keywords: [KEYWORDS]\n",
    "\n",
    "Based on the information above, extract a short but highly descriptive topic label of at most 5 words. Make sure it is in the following format:\n",
    "topic: <topic label>\n",
    "\"\"\"\n",
    "openai_model = OpenAI(model=\"gpt-3.5-turbo\", exponential_backoff=True, chat=True, prompt=prompt)\n",
    "\n",
    "representation_model = [\n",
    "    keybert_model,\n",
    "\n",
    "    # openai_model\n",
    "]\n",
    "\n",
    "representation_model = {\n",
    "    \"KeyBERT\": keybert_model,\n",
    "    # \"OpenAI\": openai_model,  # Uncomment if you will use OpenAI\n",
    "    # \"MMR\": mmr_model,\n",
    "    \"POS\": pos_model\n",
    "}"
   ]
  },
  {
   "cell_type": "code",
   "execution_count": 242,
   "metadata": {},
   "outputs": [
    {
     "data": {
      "application/vnd.jupyter.widget-view+json": {
       "model_id": "1dee1a75cd5f46548ddba38416d6d954",
       "version_major": 2,
       "version_minor": 0
      },
      "text/plain": [
       "Batches:   0%|          | 0/73 [00:00<?, ?it/s]"
      ]
     },
     "metadata": {},
     "output_type": "display_data"
    },
    {
     "name": "stderr",
     "output_type": "stream",
     "text": [
      "2023-10-05 09:10:04,523 - BERTopic - Transformed documents to Embeddings\n"
     ]
    },
    {
     "data": {
      "application/vnd.jupyter.widget-view+json": {
       "model_id": "d7d3cb5b4aab495ab1e02567a8c64a0c",
       "version_major": 2,
       "version_minor": 0
      },
      "text/plain": [
       "Batches:   0%|          | 0/1 [00:00<?, ?it/s]"
      ]
     },
     "metadata": {},
     "output_type": "display_data"
    },
    {
     "name": "stderr",
     "output_type": "stream",
     "text": [
      "2023-10-05 09:10:13,249 - BERTopic - Reduced dimensionality\n",
      "2023-10-05 09:10:13,317 - BERTopic - Clustered reduced embeddings\n"
     ]
    }
   ],
   "source": [
    "kw_model = KeyBERT()\n",
    "keywords = kw_model.extract_keywords(docs)\n",
    "\n",
    "# Create our vocabulary\n",
    "vocabulary = [k[0] for keyword in keywords for k in keyword]\n",
    "vocabulary = list(set(vocabulary))\n",
    "print(vocabulary)\n",
    "\n",
    "seed_topic_list = [['abortion', 'abort', 'aborts', 'pregnancy', 'pregnant', 'woman', 'alternative'],\n",
    "                    # ['family'],\n",
    "                    ['rape', 'raped'],\n",
    "                   ['election', 'government', 'vote'],\n",
    "                   ['bills', 'inflation'],\n",
    "                   ['immigration', 'migration', 'refugee', 'traffickers'],\n",
    "                   ['Italy', 'Italian', 'brothers'],\n",
    "                   ['ecological', 'climate' , 'environment',  'sustainability'],\n",
    "                   ['fake news', 'lie', 'conspiracy', 'journalism'],\n",
    "                   ['tax', 'income'],\n",
    "                   ['freedom']]\n",
    "ctfidf_model = ClassTfidfTransformer(reduce_frequent_words=True)\n",
    "# https://towardsdatascience.com/topic-modeling-with-llama-2-85177d01e174\n",
    "topic_model = BERTopic(\n",
    "  ctfidf_model=ctfidf_model,\n",
    "  seed_topic_list= seed_topic_list,\n",
    "  embedding_model=embedding_model,\n",
    "  # umap_model=umap_model,\n",
    "  # hdbscan_model=hdbscan_model,\n",
    "  representation_model=representation_model,\n",
    "\n",
    "  # Hyperparameters\n",
    "  # top_n_words=5,\n",
    "  # diversity=0.7,\n",
    "  # nr_topics='auto', < less topcs\n",
    "  verbose=True,\n",
    "  # min_topic_size=5\n",
    "  # calculate_probabilities=False\n",
    ")\n",
    "\n",
    "topics, probs = topic_model.fit_transform(docs)\n",
    "topic_model.get_topic_info()\n",
    "# https://maartengr.github.io/BERTopic/getting_started/outlier_reduction/outlier_reduction.html\n"
   ]
  },
  {
   "cell_type": "code",
   "execution_count": 12,
   "metadata": {},
   "outputs": [
    {
     "data": {
      "application/vnd.jupyter.widget-view+json": {
       "model_id": "971aff819cab489caf342f04ab95ad18",
       "version_major": 2,
       "version_minor": 0
      },
      "text/plain": [
       "Batches:   0%|          | 0/73 [00:00<?, ?it/s]"
      ]
     },
     "metadata": {},
     "output_type": "display_data"
    },
    {
     "name": "stderr",
     "output_type": "stream",
     "text": [
      "2023-10-05 18:32:24,546 - BERTopic - Transformed documents to Embeddings\n"
     ]
    },
    {
     "data": {
      "application/vnd.jupyter.widget-view+json": {
       "model_id": "33aa21a1b0634500b38418194c215c52",
       "version_major": 2,
       "version_minor": 0
      },
      "text/plain": [
       "Batches:   0%|          | 0/1 [00:00<?, ?it/s]"
      ]
     },
     "metadata": {},
     "output_type": "display_data"
    },
    {
     "name": "stderr",
     "output_type": "stream",
     "text": [
      "2023-10-05 18:32:29,862 - BERTopic - Reduced dimensionality\n",
      "2023-10-05 18:32:29,915 - BERTopic - Clustered reduced embeddings\n"
     ]
    },
    {
     "data": {
      "text/html": [
       "<div>\n",
       "<style scoped>\n",
       "    .dataframe tbody tr th:only-of-type {\n",
       "        vertical-align: middle;\n",
       "    }\n",
       "\n",
       "    .dataframe tbody tr th {\n",
       "        vertical-align: top;\n",
       "    }\n",
       "\n",
       "    .dataframe thead th {\n",
       "        text-align: right;\n",
       "    }\n",
       "</style>\n",
       "<table border=\"1\" class=\"dataframe\">\n",
       "  <thead>\n",
       "    <tr style=\"text-align: right;\">\n",
       "      <th></th>\n",
       "      <th>Topic</th>\n",
       "      <th>Count</th>\n",
       "      <th>Name</th>\n",
       "      <th>Representation</th>\n",
       "      <th>KeyBERT</th>\n",
       "      <th>POS</th>\n",
       "      <th>Representative_Docs</th>\n",
       "    </tr>\n",
       "  </thead>\n",
       "  <tbody>\n",
       "    <tr>\n",
       "      <th>0</th>\n",
       "      <td>-1</td>\n",
       "      <td>830</td>\n",
       "      <td>-1_the_to_that_we</td>\n",
       "      <td>[the, to, that, we, of, and, is, it, in, have]</td>\n",
       "      <td>[government, citizens, president, we, say, ver...</td>\n",
       "      <td>[work, first, home, important, way, days, poss...</td>\n",
       "      <td>[This instability has produced our economic we...</td>\n",
       "    </tr>\n",
       "    <tr>\n",
       "      <th>1</th>\n",
       "      <td>0</td>\n",
       "      <td>182</td>\n",
       "      <td>0_italy_the_in_italian</td>\n",
       "      <td>[italy, the, in, italian, to, and, of, is, tha...</td>\n",
       "      <td>[italians, italy, italian, government, europe,...</td>\n",
       "      <td>[government, nation, more, international, firs...</td>\n",
       "      <td>[I can speak very badly about Italy, but I do ...</td>\n",
       "    </tr>\n",
       "    <tr>\n",
       "      <th>2</th>\n",
       "      <td>1</td>\n",
       "      <td>146</td>\n",
       "      <td>1_brothers_italy_of_the</td>\n",
       "      <td>[brothers, italy, of, the, italian, in, and, i...</td>\n",
       "      <td>[italians, brothers, italian, italy, giorgio, ...</td>\n",
       "      <td>[brothers, elections, right, political, centre...</td>\n",
       "      <td>[Jesus, Giorgia Meloni, J. Carron, Sanka Gesù,...</td>\n",
       "    </tr>\n",
       "    <tr>\n",
       "      <th>3</th>\n",
       "      <td>2</td>\n",
       "      <td>93</td>\n",
       "      <td>2_we_thank_you_here</td>\n",
       "      <td>[we, thank, you, here, will, happy, work, good...</td>\n",
       "      <td>[welcome, happy, greetings, thank, thanks, spl...</td>\n",
       "      <td>[happy, work, good, president, ready, evening,...</td>\n",
       "      <td>[Thank you so much, I'm very, very happy to be...</td>\n",
       "    </tr>\n",
       "    <tr>\n",
       "      <th>4</th>\n",
       "      <td>3</td>\n",
       "      <td>77</td>\n",
       "      <td>3_immigration_to_people_of</td>\n",
       "      <td>[immigration, to, people, of, the, and, illega...</td>\n",
       "      <td>[immigration, migrants, refugees, immigrants, ...</td>\n",
       "      <td>[immigration, people, illegal, trafficking, ru...</td>\n",
       "      <td>[also on the topic of citizenship income I wan...</td>\n",
       "    </tr>\n",
       "    <tr>\n",
       "      <th>5</th>\n",
       "      <td>4</td>\n",
       "      <td>72</td>\n",
       "      <td>4_freedom_right_free_what</td>\n",
       "      <td>[freedom, right, free, what, you, of, is, righ...</td>\n",
       "      <td>[freedom, rights, democracy, democracies, cons...</td>\n",
       "      <td>[freedom, right, free, rights, love, religious...</td>\n",
       "      <td>[Freedom, he said, does not consist in doing w...</td>\n",
       "    </tr>\n",
       "    <tr>\n",
       "      <th>6</th>\n",
       "      <td>5</td>\n",
       "      <td>60</td>\n",
       "      <td>5_income_tax_euros_thousand</td>\n",
       "      <td>[income, tax, euros, thousand, the, citizen, f...</td>\n",
       "      <td>[income, incomes, taxes, tax, taxation, labor,...</td>\n",
       "      <td>[income, tax, euros, citizen, citizenship, cut...</td>\n",
       "      <td>[We have cut labor taxes by a further point fo...</td>\n",
       "    </tr>\n",
       "    <tr>\n",
       "      <th>7</th>\n",
       "      <td>6</td>\n",
       "      <td>56</td>\n",
       "      <td>6_yes_no_okay_better</td>\n",
       "      <td>[yes, no, okay, better, exact, perfect, absolu...</td>\n",
       "      <td>[yes, absolutely, no, definitely, rightly, rig...</td>\n",
       "      <td>[, , , , , , , , , ]</td>\n",
       "      <td>[Yes Yes Yes., Yes,, Yes.]</td>\n",
       "    </tr>\n",
       "    <tr>\n",
       "      <th>8</th>\n",
       "      <td>7</td>\n",
       "      <td>49</td>\n",
       "      <td>7_resources_to_supply_we</td>\n",
       "      <td>[resources, to, supply, we, the, be, and, thes...</td>\n",
       "      <td>[resources, funds, initiatives, fund, economic...</td>\n",
       "      <td>[resources, supply, funds, initiatives, fund, ...</td>\n",
       "      <td>[In any case, clearly many resources will have...</td>\n",
       "    </tr>\n",
       "    <tr>\n",
       "      <th>9</th>\n",
       "      <td>8</td>\n",
       "      <td>49</td>\n",
       "      <td>8_bills_inflation_increase_bank</td>\n",
       "      <td>[bills, inflation, increase, bank, cash, the, ...</td>\n",
       "      <td>[inflation, economic, economy, mortgages, curr...</td>\n",
       "      <td>[bills, inflation, increase, cash, energy, eur...</td>\n",
       "      <td>[The high bills are not inevitable, they are t...</td>\n",
       "    </tr>\n",
       "    <tr>\n",
       "      <th>10</th>\n",
       "      <td>9</td>\n",
       "      <td>45</td>\n",
       "      <td>9_vote_electoral_campaign_elections</td>\n",
       "      <td>[vote, electoral, campaign, elections, they, t...</td>\n",
       "      <td>[elections, electoral, election, vote, campaig...</td>\n",
       "      <td>[electoral, campaign, elections, last, next, e...</td>\n",
       "      <td>[Remember to check if you have the electoral c...</td>\n",
       "    </tr>\n",
       "    <tr>\n",
       "      <th>11</th>\n",
       "      <td>10</td>\n",
       "      <td>40</td>\n",
       "      <td>10_me_respect_these_who</td>\n",
       "      <td>[me, respect, these, who, thinks, them, my, it...</td>\n",
       "      <td>[respect, insulting, dignity, intentions, spea...</td>\n",
       "      <td>[respect, serious, room, view, tones, person, ...</td>\n",
       "      <td>[So I have decided that in the meantime I will...</td>\n",
       "    </tr>\n",
       "    <tr>\n",
       "      <th>12</th>\n",
       "      <td>11</td>\n",
       "      <td>35</td>\n",
       "      <td>11_left_political_it_party</td>\n",
       "      <td>[left, political, it, party, politics, are, yo...</td>\n",
       "      <td>[left, republicans, democrats, political, poli...</td>\n",
       "      <td>[left, political, party, politics, problem, go...</td>\n",
       "      <td>[Of course, if the left is really so convinced...</td>\n",
       "    </tr>\n",
       "    <tr>\n",
       "      <th>13</th>\n",
       "      <td>12</td>\n",
       "      <td>34</td>\n",
       "      <td>12_you_realize_am_tell</td>\n",
       "      <td>[you, realize, am, tell, are, goals, my, if, w...</td>\n",
       "      <td>[realize, optimism, aware, confident, merits, ...</td>\n",
       "      <td>[goals, women, advantage, answer, aware, quest...</td>\n",
       "      <td>[But I can tell you that I am still confident ...</td>\n",
       "    </tr>\n",
       "    <tr>\n",
       "      <th>14</th>\n",
       "      <td>13</td>\n",
       "      <td>33</td>\n",
       "      <td>13_wage_minimum_wages_parameter</td>\n",
       "      <td>[wage, minimum, wages, parameter, legal, the, ...</td>\n",
       "      <td>[wage, wages, minimum, lowest, bargaining, par...</td>\n",
       "      <td>[wage, minimum, wages, parameter, legal, worke...</td>\n",
       "      <td>[That is, the paradox is that the minimum wage...</td>\n",
       "    </tr>\n",
       "    <tr>\n",
       "      <th>15</th>\n",
       "      <td>14</td>\n",
       "      <td>30</td>\n",
       "      <td>14_thank_you_good_luck</td>\n",
       "      <td>[thank, you, good, luck, welcome, fight, work,...</td>\n",
       "      <td>[thank, thanks, welcome, good, , , , , , ]</td>\n",
       "      <td>[luck, fight, work, thanks, , , , , , ]</td>\n",
       "      <td>[Thank you, Thank you., Thank you.]</td>\n",
       "    </tr>\n",
       "    <tr>\n",
       "      <th>16</th>\n",
       "      <td>15</td>\n",
       "      <td>27</td>\n",
       "      <td>15_work_those_who_training</td>\n",
       "      <td>[work, those, who, training, job, to, benefit,...</td>\n",
       "      <td>[employment, income, labor, benefit, reimburse...</td>\n",
       "      <td>[work, training, job, benefit, hiring, able, i...</td>\n",
       "      <td>[They provide assistance to those who are not ...</td>\n",
       "    </tr>\n",
       "    <tr>\n",
       "      <th>17</th>\n",
       "      <td>16</td>\n",
       "      <td>27</td>\n",
       "      <td>16_rape_wine_she_me</td>\n",
       "      <td>[rape, wine, she, me, alone, solidarity, cases...</td>\n",
       "      <td>[raped, rape, rapist, rapes, victim, condemned...</td>\n",
       "      <td>[rape, wine, solidarity, cases, child, condemn...</td>\n",
       "      <td>[Wine has been sung in literature, in poems, i...</td>\n",
       "    </tr>\n",
       "    <tr>\n",
       "      <th>18</th>\n",
       "      <td>17</td>\n",
       "      <td>26</td>\n",
       "      <td>17_fake_news_invent_tell</td>\n",
       "      <td>[fake, news, invent, tell, one, conspiracy, an...</td>\n",
       "      <td>[falsehoods, accusations, mussolini, conspirac...</td>\n",
       "      <td>[fake, news, one, conspiracy, need, theories, ...</td>\n",
       "      <td>[Because among the many falsehoods that I have...</td>\n",
       "    </tr>\n",
       "    <tr>\n",
       "      <th>19</th>\n",
       "      <td>18</td>\n",
       "      <td>26</td>\n",
       "      <td>18_ecological_transition_sustainability_water</td>\n",
       "      <td>[ecological, transition, sustainability, water...</td>\n",
       "      <td>[sustainability, ecological, renewables, ecolo...</td>\n",
       "      <td>[ecological, transition, sustainability, water...</td>\n",
       "      <td>[From the presentation of the National Plan fo...</td>\n",
       "    </tr>\n",
       "    <tr>\n",
       "      <th>20</th>\n",
       "      <td>19</td>\n",
       "      <td>25</td>\n",
       "      <td>19_safety_defend_emergency_who</td>\n",
       "      <td>[safety, defend, emergency, who, those, state,...</td>\n",
       "      <td>[safety, protection, defending, prevention, de...</td>\n",
       "      <td>[safety, emergency, state, tightening, beautif...</td>\n",
       "      <td>[Because it has also become intolerable that w...</td>\n",
       "    </tr>\n",
       "    <tr>\n",
       "      <th>21</th>\n",
       "      <td>20</td>\n",
       "      <td>24</td>\n",
       "      <td>20_percent_hundred_pension_allowance</td>\n",
       "      <td>[percent, hundred, pension, allowance, leave, ...</td>\n",
       "      <td>[allowance, pensions, pension, income, parenta...</td>\n",
       "      <td>[percent, pension, allowance, leave, pensions,...</td>\n",
       "      <td>[And then from the fifty percent increase in t...</td>\n",
       "    </tr>\n",
       "    <tr>\n",
       "      <th>22</th>\n",
       "      <td>21</td>\n",
       "      <td>24</td>\n",
       "      <td>21_european_europe_council_level</td>\n",
       "      <td>[european, europe, council, level, it, commiss...</td>\n",
       "      <td>[europeanism, eu, europe, european, council, n...</td>\n",
       "      <td>[level, matter, departures, humanity, availabi...</td>\n",
       "      <td>[The only way to seriously deal with this matt...</td>\n",
       "    </tr>\n",
       "    <tr>\n",
       "      <th>23</th>\n",
       "      <td>22</td>\n",
       "      <td>23</td>\n",
       "      <td>22_talking_know_bit_heard</td>\n",
       "      <td>[talking, know, bit, heard, everything, eh, ab...</td>\n",
       "      <td>[about, and, heard, curious, talking, of, um, ...</td>\n",
       "      <td>[bit, girl, school, more, lot, little, , , , ]</td>\n",
       "      <td>[What are we talking about?, So what are we ta...</td>\n",
       "    </tr>\n",
       "    <tr>\n",
       "      <th>24</th>\n",
       "      <td>23</td>\n",
       "      <td>21</td>\n",
       "      <td>23_abortion_she_alternative_woman</td>\n",
       "      <td>[abortion, she, alternative, woman, apply, an,...</td>\n",
       "      <td>[abortion, abortions, abort, aborts, motherhoo...</td>\n",
       "      <td>[abortion, alternative, woman, mothers, women,...</td>\n",
       "      <td>[What we have always said we wanted to do with...</td>\n",
       "    </tr>\n",
       "    <tr>\n",
       "      <th>25</th>\n",
       "      <td>24</td>\n",
       "      <td>21</td>\n",
       "      <td>24_minister_dinner_department_president</td>\n",
       "      <td>[minister, dinner, department, president, days...</td>\n",
       "      <td>[ministers, minister, honor, appointment, hono...</td>\n",
       "      <td>[minister, dinner, president, days, ministers,...</td>\n",
       "      <td>[I believe that compliments and congratulation...</td>\n",
       "    </tr>\n",
       "    <tr>\n",
       "      <th>26</th>\n",
       "      <td>25</td>\n",
       "      <td>20</td>\n",
       "      <td>25_meloni_about_shivers_let</td>\n",
       "      <td>[meloni, about, shivers, let, derived, giorgia...</td>\n",
       "      <td>[meloni, salvini, giorgia, cares, pino, don, b...</td>\n",
       "      <td>[shivers, interested, issues, real, serious, h...</td>\n",
       "      <td>[I will never govern with Meloni., I have neve...</td>\n",
       "    </tr>\n",
       "    <tr>\n",
       "      <th>27</th>\n",
       "      <td>26</td>\n",
       "      <td>19</td>\n",
       "      <td>26_sport_young_sports_kids</td>\n",
       "      <td>[sport, young, sports, kids, desperately, spor...</td>\n",
       "      <td>[sports, sporting, athletes, sport, youth, com...</td>\n",
       "      <td>[sport, young, sports, kids, sporting, youth, ...</td>\n",
       "      <td>[Second theme even more surreal um, I made a v...</td>\n",
       "    </tr>\n",
       "    <tr>\n",
       "      <th>28</th>\n",
       "      <td>27</td>\n",
       "      <td>19</td>\n",
       "      <td>27_government_level_has_productions</td>\n",
       "      <td>[government, level, has, productions, reverse,...</td>\n",
       "      <td>[government, democracies, bureaucracy, institu...</td>\n",
       "      <td>[government, level, productions, trend, levels...</td>\n",
       "      <td>[Nothing is blocked anywhere, because in democ...</td>\n",
       "    </tr>\n",
       "    <tr>\n",
       "      <th>29</th>\n",
       "      <td>28</td>\n",
       "      <td>19</td>\n",
       "      <td>28_nation_proud_much_this</td>\n",
       "      <td>[nation, proud, much, this, you, sacrifice, re...</td>\n",
       "      <td>[sacrifices, sacrifice, sacrificed, proud, pri...</td>\n",
       "      <td>[nation, proud, much, sacrifice, pride, better...</td>\n",
       "      <td>[They do it because they know that they can't ...</td>\n",
       "    </tr>\n",
       "    <tr>\n",
       "      <th>30</th>\n",
       "      <td>29</td>\n",
       "      <td>18</td>\n",
       "      <td>29_state_those_work_who</td>\n",
       "      <td>[state, those, work, who, just, create, does, ...</td>\n",
       "      <td>[states, welfare, state, discriminating, depen...</td>\n",
       "      <td>[state, just, same, fair, level, welfare, weak...</td>\n",
       "      <td>[We have always maintained that a just state s...</td>\n",
       "    </tr>\n",
       "    <tr>\n",
       "      <th>31</th>\n",
       "      <td>30</td>\n",
       "      <td>17</td>\n",
       "      <td>30_russia_putin_values_part</td>\n",
       "      <td>[russia, putin, values, part, system, christia...</td>\n",
       "      <td>[tsars, putinian, russia, moscow, russian, put...</td>\n",
       "      <td>[values, part, system, communist, cultural, bo...</td>\n",
       "      <td>[Also in your book you wrote that Russia is pa...</td>\n",
       "    </tr>\n",
       "    <tr>\n",
       "      <th>32</th>\n",
       "      <td>31</td>\n",
       "      <td>17</td>\n",
       "      <td>31_budget_law_previous_the</td>\n",
       "      <td>[budget, law, previous, the, already, contribu...</td>\n",
       "      <td>[budgets, budget, provisions, law, productivit...</td>\n",
       "      <td>[budget, law, previous, contribution, provisio...</td>\n",
       "      <td>[So it is good to arrive in time before the bu...</td>\n",
       "    </tr>\n",
       "    <tr>\n",
       "      <th>33</th>\n",
       "      <td>32</td>\n",
       "      <td>16</td>\n",
       "      <td>32_credits_credit_those_have</td>\n",
       "      <td>[credits, credit, those, have, companies, bank...</td>\n",
       "      <td>[credit, credits, banks, loan, acquisition, ac...</td>\n",
       "      <td>[credits, credit, companies, banks, hands, col...</td>\n",
       "      <td>[For this reason we have blocked the possibili...</td>\n",
       "    </tr>\n",
       "    <tr>\n",
       "      <th>34</th>\n",
       "      <td>33</td>\n",
       "      <td>15</td>\n",
       "      <td>33_price_petrol_average_eight</td>\n",
       "      <td>[price, petrol, average, eight, euro, two, and...</td>\n",
       "      <td>[prices, pricing, euros, euro, petrol, sanctio...</td>\n",
       "      <td>[price, petrol, average, euro, gas, higher, po...</td>\n",
       "      <td>[Because first of all I hear about petrol cost...</td>\n",
       "    </tr>\n",
       "    <tr>\n",
       "      <th>35</th>\n",
       "      <td>34</td>\n",
       "      <td>14</td>\n",
       "      <td>34_ministers_council_minister_decree</td>\n",
       "      <td>[ministers, council, minister, decree, with, v...</td>\n",
       "      <td>[ministers, memorandum, minister, maintenance,...</td>\n",
       "      <td>[ministers, council, minister, decree, memoran...</td>\n",
       "      <td>[We have collected the main one hundred, one h...</td>\n",
       "    </tr>\n",
       "    <tr>\n",
       "      <th>36</th>\n",
       "      <td>35</td>\n",
       "      <td>13</td>\n",
       "      <td>35_morning_good_tired_sorry</td>\n",
       "      <td>[morning, good, tired, sorry, film, purposes, ...</td>\n",
       "      <td>[morning, good, tired, am, now, day, up, , , ]</td>\n",
       "      <td>[morning, good, tired, sorry, purposes, film, ...</td>\n",
       "      <td>[Good morning., Good morning., Good morning.]</td>\n",
       "    </tr>\n",
       "    <tr>\n",
       "      <th>37</th>\n",
       "      <td>36</td>\n",
       "      <td>13</td>\n",
       "      <td>36_thank_you_thanks_much</td>\n",
       "      <td>[thank, you, thanks, much, very, all, welcome,...</td>\n",
       "      <td>[welcome, thank, thanks, all, you, work, again...</td>\n",
       "      <td>[welcome, good, work, , , , , , , ]</td>\n",
       "      <td>[Thank you all., Thank you, thank you, thank y...</td>\n",
       "    </tr>\n",
       "    <tr>\n",
       "      <th>38</th>\n",
       "      <td>37</td>\n",
       "      <td>13</td>\n",
       "      <td>37_measures_measure_scams_free</td>\n",
       "      <td>[measures, measure, scams, free, what, naspi, ...</td>\n",
       "      <td>[measures, measure, homework, threshold, usefu...</td>\n",
       "      <td>[measures, measure, scams, free, quarter, elec...</td>\n",
       "      <td>[And this is interesting because I remember wh...</td>\n",
       "    </tr>\n",
       "    <tr>\n",
       "      <th>39</th>\n",
       "      <td>38</td>\n",
       "      <td>13</td>\n",
       "      <td>38_abolish_ninety_four_hundred</td>\n",
       "      <td>[abolish, ninety, four, hundred, law, intend, ...</td>\n",
       "      <td>[ninety, hundred, abolish, change, ten, modify...</td>\n",
       "      <td>[law, proposal, politicians, debate, governmen...</td>\n",
       "      <td>[When I think something I say it, if I had wan...</td>\n",
       "    </tr>\n",
       "    <tr>\n",
       "      <th>40</th>\n",
       "      <td>39</td>\n",
       "      <td>12</td>\n",
       "      <td>39_reality_we_why_because</td>\n",
       "      <td>[reality, we, why, because, this, bring, live,...</td>\n",
       "      <td>[reality, dreams, absurdity, because, simply, ...</td>\n",
       "      <td>[reality, absurdity, more, dreams, things, tra...</td>\n",
       "      <td>[Because the reality we live in is making thin...</td>\n",
       "    </tr>\n",
       "    <tr>\n",
       "      <th>41</th>\n",
       "      <td>40</td>\n",
       "      <td>12</td>\n",
       "      <td>40_christmas_nativity_scene_merry</td>\n",
       "      <td>[christmas, nativity, scene, merry, period, gi...</td>\n",
       "      <td>[christmas, merry, holiday, celebrate, nativit...</td>\n",
       "      <td>[nativity, scene, period, family, gifts, home,...</td>\n",
       "      <td>[So obviously thanks to everyone and merry Chr...</td>\n",
       "    </tr>\n",
       "  </tbody>\n",
       "</table>\n",
       "</div>"
      ],
      "text/plain": [
       "    Topic  Count                                           Name  \\\n",
       "0      -1    830                              -1_the_to_that_we   \n",
       "1       0    182                         0_italy_the_in_italian   \n",
       "2       1    146                        1_brothers_italy_of_the   \n",
       "3       2     93                            2_we_thank_you_here   \n",
       "4       3     77                     3_immigration_to_people_of   \n",
       "5       4     72                      4_freedom_right_free_what   \n",
       "6       5     60                    5_income_tax_euros_thousand   \n",
       "7       6     56                           6_yes_no_okay_better   \n",
       "8       7     49                       7_resources_to_supply_we   \n",
       "9       8     49                8_bills_inflation_increase_bank   \n",
       "10      9     45            9_vote_electoral_campaign_elections   \n",
       "11     10     40                        10_me_respect_these_who   \n",
       "12     11     35                     11_left_political_it_party   \n",
       "13     12     34                         12_you_realize_am_tell   \n",
       "14     13     33                13_wage_minimum_wages_parameter   \n",
       "15     14     30                         14_thank_you_good_luck   \n",
       "16     15     27                     15_work_those_who_training   \n",
       "17     16     27                            16_rape_wine_she_me   \n",
       "18     17     26                       17_fake_news_invent_tell   \n",
       "19     18     26  18_ecological_transition_sustainability_water   \n",
       "20     19     25                 19_safety_defend_emergency_who   \n",
       "21     20     24           20_percent_hundred_pension_allowance   \n",
       "22     21     24               21_european_europe_council_level   \n",
       "23     22     23                      22_talking_know_bit_heard   \n",
       "24     23     21              23_abortion_she_alternative_woman   \n",
       "25     24     21        24_minister_dinner_department_president   \n",
       "26     25     20                    25_meloni_about_shivers_let   \n",
       "27     26     19                     26_sport_young_sports_kids   \n",
       "28     27     19            27_government_level_has_productions   \n",
       "29     28     19                      28_nation_proud_much_this   \n",
       "30     29     18                        29_state_those_work_who   \n",
       "31     30     17                    30_russia_putin_values_part   \n",
       "32     31     17                     31_budget_law_previous_the   \n",
       "33     32     16                   32_credits_credit_those_have   \n",
       "34     33     15                  33_price_petrol_average_eight   \n",
       "35     34     14           34_ministers_council_minister_decree   \n",
       "36     35     13                    35_morning_good_tired_sorry   \n",
       "37     36     13                       36_thank_you_thanks_much   \n",
       "38     37     13                 37_measures_measure_scams_free   \n",
       "39     38     13                 38_abolish_ninety_four_hundred   \n",
       "40     39     12                      39_reality_we_why_because   \n",
       "41     40     12              40_christmas_nativity_scene_merry   \n",
       "\n",
       "                                       Representation  \\\n",
       "0      [the, to, that, we, of, and, is, it, in, have]   \n",
       "1   [italy, the, in, italian, to, and, of, is, tha...   \n",
       "2   [brothers, italy, of, the, italian, in, and, i...   \n",
       "3   [we, thank, you, here, will, happy, work, good...   \n",
       "4   [immigration, to, people, of, the, and, illega...   \n",
       "5   [freedom, right, free, what, you, of, is, righ...   \n",
       "6   [income, tax, euros, thousand, the, citizen, f...   \n",
       "7   [yes, no, okay, better, exact, perfect, absolu...   \n",
       "8   [resources, to, supply, we, the, be, and, thes...   \n",
       "9   [bills, inflation, increase, bank, cash, the, ...   \n",
       "10  [vote, electoral, campaign, elections, they, t...   \n",
       "11  [me, respect, these, who, thinks, them, my, it...   \n",
       "12  [left, political, it, party, politics, are, yo...   \n",
       "13  [you, realize, am, tell, are, goals, my, if, w...   \n",
       "14  [wage, minimum, wages, parameter, legal, the, ...   \n",
       "15  [thank, you, good, luck, welcome, fight, work,...   \n",
       "16  [work, those, who, training, job, to, benefit,...   \n",
       "17  [rape, wine, she, me, alone, solidarity, cases...   \n",
       "18  [fake, news, invent, tell, one, conspiracy, an...   \n",
       "19  [ecological, transition, sustainability, water...   \n",
       "20  [safety, defend, emergency, who, those, state,...   \n",
       "21  [percent, hundred, pension, allowance, leave, ...   \n",
       "22  [european, europe, council, level, it, commiss...   \n",
       "23  [talking, know, bit, heard, everything, eh, ab...   \n",
       "24  [abortion, she, alternative, woman, apply, an,...   \n",
       "25  [minister, dinner, department, president, days...   \n",
       "26  [meloni, about, shivers, let, derived, giorgia...   \n",
       "27  [sport, young, sports, kids, desperately, spor...   \n",
       "28  [government, level, has, productions, reverse,...   \n",
       "29  [nation, proud, much, this, you, sacrifice, re...   \n",
       "30  [state, those, work, who, just, create, does, ...   \n",
       "31  [russia, putin, values, part, system, christia...   \n",
       "32  [budget, law, previous, the, already, contribu...   \n",
       "33  [credits, credit, those, have, companies, bank...   \n",
       "34  [price, petrol, average, eight, euro, two, and...   \n",
       "35  [ministers, council, minister, decree, with, v...   \n",
       "36  [morning, good, tired, sorry, film, purposes, ...   \n",
       "37  [thank, you, thanks, much, very, all, welcome,...   \n",
       "38  [measures, measure, scams, free, what, naspi, ...   \n",
       "39  [abolish, ninety, four, hundred, law, intend, ...   \n",
       "40  [reality, we, why, because, this, bring, live,...   \n",
       "41  [christmas, nativity, scene, merry, period, gi...   \n",
       "\n",
       "                                              KeyBERT  \\\n",
       "0   [government, citizens, president, we, say, ver...   \n",
       "1   [italians, italy, italian, government, europe,...   \n",
       "2   [italians, brothers, italian, italy, giorgio, ...   \n",
       "3   [welcome, happy, greetings, thank, thanks, spl...   \n",
       "4   [immigration, migrants, refugees, immigrants, ...   \n",
       "5   [freedom, rights, democracy, democracies, cons...   \n",
       "6   [income, incomes, taxes, tax, taxation, labor,...   \n",
       "7   [yes, absolutely, no, definitely, rightly, rig...   \n",
       "8   [resources, funds, initiatives, fund, economic...   \n",
       "9   [inflation, economic, economy, mortgages, curr...   \n",
       "10  [elections, electoral, election, vote, campaig...   \n",
       "11  [respect, insulting, dignity, intentions, spea...   \n",
       "12  [left, republicans, democrats, political, poli...   \n",
       "13  [realize, optimism, aware, confident, merits, ...   \n",
       "14  [wage, wages, minimum, lowest, bargaining, par...   \n",
       "15         [thank, thanks, welcome, good, , , , , , ]   \n",
       "16  [employment, income, labor, benefit, reimburse...   \n",
       "17  [raped, rape, rapist, rapes, victim, condemned...   \n",
       "18  [falsehoods, accusations, mussolini, conspirac...   \n",
       "19  [sustainability, ecological, renewables, ecolo...   \n",
       "20  [safety, protection, defending, prevention, de...   \n",
       "21  [allowance, pensions, pension, income, parenta...   \n",
       "22  [europeanism, eu, europe, european, council, n...   \n",
       "23  [about, and, heard, curious, talking, of, um, ...   \n",
       "24  [abortion, abortions, abort, aborts, motherhoo...   \n",
       "25  [ministers, minister, honor, appointment, hono...   \n",
       "26  [meloni, salvini, giorgia, cares, pino, don, b...   \n",
       "27  [sports, sporting, athletes, sport, youth, com...   \n",
       "28  [government, democracies, bureaucracy, institu...   \n",
       "29  [sacrifices, sacrifice, sacrificed, proud, pri...   \n",
       "30  [states, welfare, state, discriminating, depen...   \n",
       "31  [tsars, putinian, russia, moscow, russian, put...   \n",
       "32  [budgets, budget, provisions, law, productivit...   \n",
       "33  [credit, credits, banks, loan, acquisition, ac...   \n",
       "34  [prices, pricing, euros, euro, petrol, sanctio...   \n",
       "35  [ministers, memorandum, minister, maintenance,...   \n",
       "36     [morning, good, tired, am, now, day, up, , , ]   \n",
       "37  [welcome, thank, thanks, all, you, work, again...   \n",
       "38  [measures, measure, homework, threshold, usefu...   \n",
       "39  [ninety, hundred, abolish, change, ten, modify...   \n",
       "40  [reality, dreams, absurdity, because, simply, ...   \n",
       "41  [christmas, merry, holiday, celebrate, nativit...   \n",
       "\n",
       "                                                  POS  \\\n",
       "0   [work, first, home, important, way, days, poss...   \n",
       "1   [government, nation, more, international, firs...   \n",
       "2   [brothers, elections, right, political, centre...   \n",
       "3   [happy, work, good, president, ready, evening,...   \n",
       "4   [immigration, people, illegal, trafficking, ru...   \n",
       "5   [freedom, right, free, rights, love, religious...   \n",
       "6   [income, tax, euros, citizen, citizenship, cut...   \n",
       "7                                [, , , , , , , , , ]   \n",
       "8   [resources, supply, funds, initiatives, fund, ...   \n",
       "9   [bills, inflation, increase, cash, energy, eur...   \n",
       "10  [electoral, campaign, elections, last, next, e...   \n",
       "11  [respect, serious, room, view, tones, person, ...   \n",
       "12  [left, political, party, politics, problem, go...   \n",
       "13  [goals, women, advantage, answer, aware, quest...   \n",
       "14  [wage, minimum, wages, parameter, legal, worke...   \n",
       "15            [luck, fight, work, thanks, , , , , , ]   \n",
       "16  [work, training, job, benefit, hiring, able, i...   \n",
       "17  [rape, wine, solidarity, cases, child, condemn...   \n",
       "18  [fake, news, one, conspiracy, need, theories, ...   \n",
       "19  [ecological, transition, sustainability, water...   \n",
       "20  [safety, emergency, state, tightening, beautif...   \n",
       "21  [percent, pension, allowance, leave, pensions,...   \n",
       "22  [level, matter, departures, humanity, availabi...   \n",
       "23     [bit, girl, school, more, lot, little, , , , ]   \n",
       "24  [abortion, alternative, woman, mothers, women,...   \n",
       "25  [minister, dinner, president, days, ministers,...   \n",
       "26  [shivers, interested, issues, real, serious, h...   \n",
       "27  [sport, young, sports, kids, sporting, youth, ...   \n",
       "28  [government, level, productions, trend, levels...   \n",
       "29  [nation, proud, much, sacrifice, pride, better...   \n",
       "30  [state, just, same, fair, level, welfare, weak...   \n",
       "31  [values, part, system, communist, cultural, bo...   \n",
       "32  [budget, law, previous, contribution, provisio...   \n",
       "33  [credits, credit, companies, banks, hands, col...   \n",
       "34  [price, petrol, average, euro, gas, higher, po...   \n",
       "35  [ministers, council, minister, decree, memoran...   \n",
       "36  [morning, good, tired, sorry, purposes, film, ...   \n",
       "37                [welcome, good, work, , , , , , , ]   \n",
       "38  [measures, measure, scams, free, quarter, elec...   \n",
       "39  [law, proposal, politicians, debate, governmen...   \n",
       "40  [reality, absurdity, more, dreams, things, tra...   \n",
       "41  [nativity, scene, period, family, gifts, home,...   \n",
       "\n",
       "                                  Representative_Docs  \n",
       "0   [This instability has produced our economic we...  \n",
       "1   [I can speak very badly about Italy, but I do ...  \n",
       "2   [Jesus, Giorgia Meloni, J. Carron, Sanka Gesù,...  \n",
       "3   [Thank you so much, I'm very, very happy to be...  \n",
       "4   [also on the topic of citizenship income I wan...  \n",
       "5   [Freedom, he said, does not consist in doing w...  \n",
       "6   [We have cut labor taxes by a further point fo...  \n",
       "7                          [Yes Yes Yes., Yes,, Yes.]  \n",
       "8   [In any case, clearly many resources will have...  \n",
       "9   [The high bills are not inevitable, they are t...  \n",
       "10  [Remember to check if you have the electoral c...  \n",
       "11  [So I have decided that in the meantime I will...  \n",
       "12  [Of course, if the left is really so convinced...  \n",
       "13  [But I can tell you that I am still confident ...  \n",
       "14  [That is, the paradox is that the minimum wage...  \n",
       "15                [Thank you, Thank you., Thank you.]  \n",
       "16  [They provide assistance to those who are not ...  \n",
       "17  [Wine has been sung in literature, in poems, i...  \n",
       "18  [Because among the many falsehoods that I have...  \n",
       "19  [From the presentation of the National Plan fo...  \n",
       "20  [Because it has also become intolerable that w...  \n",
       "21  [And then from the fifty percent increase in t...  \n",
       "22  [The only way to seriously deal with this matt...  \n",
       "23  [What are we talking about?, So what are we ta...  \n",
       "24  [What we have always said we wanted to do with...  \n",
       "25  [I believe that compliments and congratulation...  \n",
       "26  [I will never govern with Meloni., I have neve...  \n",
       "27  [Second theme even more surreal um, I made a v...  \n",
       "28  [Nothing is blocked anywhere, because in democ...  \n",
       "29  [They do it because they know that they can't ...  \n",
       "30  [We have always maintained that a just state s...  \n",
       "31  [Also in your book you wrote that Russia is pa...  \n",
       "32  [So it is good to arrive in time before the bu...  \n",
       "33  [For this reason we have blocked the possibili...  \n",
       "34  [Because first of all I hear about petrol cost...  \n",
       "35  [We have collected the main one hundred, one h...  \n",
       "36      [Good morning., Good morning., Good morning.]  \n",
       "37  [Thank you all., Thank you, thank you, thank y...  \n",
       "38  [And this is interesting because I remember wh...  \n",
       "39  [When I think something I say it, if I had wan...  \n",
       "40  [Because the reality we live in is making thin...  \n",
       "41  [So obviously thanks to everyone and merry Chr...  "
      ]
     },
     "execution_count": 12,
     "metadata": {},
     "output_type": "execute_result"
    }
   ],
   "source": [
    "seed_topic_list = [['abortion', 'abort', 'aborts', 'pregnancy', 'pregnant', 'woman', 'alternative'],\n",
    "                    # ['family'],\n",
    "                    ['rape', 'raped'],\n",
    "                   ['election', 'government', 'vote'],\n",
    "                   ['bills', 'inflation'],\n",
    "                   ['immigration', 'migration', 'refugee', 'traffickers'],\n",
    "                   ['Italy', 'Italian', 'brothers'],\n",
    "                   ['ecological', 'climate' , 'environment',  'sustainability'],\n",
    "                   ['fake news', 'lie', 'conspiracy', 'journalism'],\n",
    "                   ['tax', 'income'],\n",
    "                   ['freedom']]\n",
    "ctfidf_model = ClassTfidfTransformer(reduce_frequent_words=True)\n",
    "# https://towardsdatascience.com/topic-modeling-with-llama-2-85177d01e174\n",
    "topic_model = BERTopic(\n",
    "  # ctfidf_model=ctfidf_model,\n",
    "  seed_topic_list= seed_topic_list,\n",
    "  embedding_model=embedding_model,\n",
    "  # umap_model=umap_model,\n",
    "  # hdbscan_model=hdbscan_model,\n",
    "  representation_model=representation_model,\n",
    "\n",
    "  # Hyperparameters\n",
    "  # top_n_words=5,\n",
    "  # diversity=0.7,\n",
    "  # nr_topics='auto', < less topcs\n",
    "  verbose=True,\n",
    "  # min_topic_size=5\n",
    "  # calculate_probabilities=False\n",
    ")\n",
    "\n",
    "topics, probs = topic_model.fit_transform(docs)\n",
    "topic_model.get_topic_info()\n"
   ]
  },
  {
   "cell_type": "code",
   "execution_count": 249,
   "metadata": {},
   "outputs": [
    {
     "data": {
      "text/html": [
       "<div>\n",
       "<style scoped>\n",
       "    .dataframe tbody tr th:only-of-type {\n",
       "        vertical-align: middle;\n",
       "    }\n",
       "\n",
       "    .dataframe tbody tr th {\n",
       "        vertical-align: top;\n",
       "    }\n",
       "\n",
       "    .dataframe thead th {\n",
       "        text-align: right;\n",
       "    }\n",
       "</style>\n",
       "<table border=\"1\" class=\"dataframe\">\n",
       "  <thead>\n",
       "    <tr style=\"text-align: right;\">\n",
       "      <th></th>\n",
       "      <th>Topic</th>\n",
       "      <th>Count</th>\n",
       "      <th>Name</th>\n",
       "      <th>Representation</th>\n",
       "      <th>KeyBERT</th>\n",
       "      <th>OpenAI</th>\n",
       "      <th>POS</th>\n",
       "      <th>Representative_Docs</th>\n",
       "    </tr>\n",
       "  </thead>\n",
       "  <tbody>\n",
       "    <tr>\n",
       "      <th>0</th>\n",
       "      <td>-1</td>\n",
       "      <td>837</td>\n",
       "      <td>-1_government_our_be_say</td>\n",
       "      <td>[government, our, be, say, was, so, not, peopl...</td>\n",
       "      <td>[government, political, support, culture, pres...</td>\n",
       "      <td>[Government efforts and public belief]</td>\n",
       "      <td>[government, people, culture, first, thing, po...</td>\n",
       "      <td>[We have started important work to make the pl...</td>\n",
       "    </tr>\n",
       "    <tr>\n",
       "      <th>1</th>\n",
       "      <td>0</td>\n",
       "      <td>174</td>\n",
       "      <td>0_italian_italy_italians_government</td>\n",
       "      <td>[italian, italy, italians, government, how, gr...</td>\n",
       "      <td>[italians, italian, italy, europe, citizens, g...</td>\n",
       "      <td>[Italy's Role in Europe]</td>\n",
       "      <td>[government, great, nation, problem, left, onl...</td>\n",
       "      <td>[I can speak very badly about Italy, but I do ...</td>\n",
       "    </tr>\n",
       "    <tr>\n",
       "      <th>2</th>\n",
       "      <td>1</td>\n",
       "      <td>145</td>\n",
       "      <td>1_thank_ready_happy_reality</td>\n",
       "      <td>[thank, ready, happy, reality, here, wait, eve...</td>\n",
       "      <td>[ourselves, merits, greetings, we, advantage, ...</td>\n",
       "      <td>[Recognition of Women's Underestimated Advantage]</td>\n",
       "      <td>[ready, happy, reality, evening, goals, determ...</td>\n",
       "      <td>[It's the reason we are here today, so thank y...</td>\n",
       "    </tr>\n",
       "    <tr>\n",
       "      <th>3</th>\n",
       "      <td>2</td>\n",
       "      <td>140</td>\n",
       "      <td>2_brothers_italy_italian_cross</td>\n",
       "      <td>[brothers, italy, italian, cross, world, party...</td>\n",
       "      <td>[italians, italian, italy, francesco, election...</td>\n",
       "      <td>[Brothers of Italy elections]</td>\n",
       "      <td>[brothers, cross, world, party, elections, cen...</td>\n",
       "      <td>[Then even funnier than this is the reason why...</td>\n",
       "    </tr>\n",
       "    <tr>\n",
       "      <th>4</th>\n",
       "      <td>3</td>\n",
       "      <td>133</td>\n",
       "      <td>3_yes_hi_okay_too</td>\n",
       "      <td>[yes, hi, okay, too, ve, why, heard, no, look,...</td>\n",
       "      <td>[yes, more, mainly, seems, absolutely, probabl...</td>\n",
       "      <td>[Echoes and Confusion]</td>\n",
       "      <td>[fine, echo, professionalism, bit, question, m...</td>\n",
       "      <td>[No, I mean okay, things will be fine anyway.,...</td>\n",
       "    </tr>\n",
       "    <tr>\n",
       "      <th>5</th>\n",
       "      <td>4</td>\n",
       "      <td>72</td>\n",
       "      <td>4_immigration_migration_traffickers_trafficking</td>\n",
       "      <td>[immigration, migration, traffickers, traffick...</td>\n",
       "      <td>[immigration, migrants, refugees, immigrants, ...</td>\n",
       "      <td>[Combating Illegal Immigration and Trafficking]</td>\n",
       "      <td>[immigration, traffickers, trafficking, illega...</td>\n",
       "      <td>[The route is not covered by non-governmental ...</td>\n",
       "    </tr>\n",
       "    <tr>\n",
       "      <th>6</th>\n",
       "      <td>5</td>\n",
       "      <td>65</td>\n",
       "      <td>5_freedom_free_rights_liberal</td>\n",
       "      <td>[freedom, free, rights, liberal, right, love, ...</td>\n",
       "      <td>[freedom, rights, totalitarianisms, democracy,...</td>\n",
       "      <td>[Celebrating Freedom and Rights]</td>\n",
       "      <td>[freedom, free, rights, liberal, right, love, ...</td>\n",
       "      <td>[A great Italian liberal philosopher, Benedett...</td>\n",
       "    </tr>\n",
       "    <tr>\n",
       "      <th>7</th>\n",
       "      <td>6</td>\n",
       "      <td>61</td>\n",
       "      <td>6_income_tax_citizen_euros</td>\n",
       "      <td>[income, tax, citizen, euros, citizenship, tho...</td>\n",
       "      <td>[income, taxes, tax, taxation, incomes, earner...</td>\n",
       "      <td>[Tax cuts and guarantees]</td>\n",
       "      <td>[income, tax, citizen, euros, citizenship, fla...</td>\n",
       "      <td>[So today and until the end of this year, we h...</td>\n",
       "    </tr>\n",
       "    <tr>\n",
       "      <th>8</th>\n",
       "      <td>7</td>\n",
       "      <td>50</td>\n",
       "      <td>7_resources_funds_supply_initiatives</td>\n",
       "      <td>[resources, funds, supply, initiatives, fund, ...</td>\n",
       "      <td>[initiatives, organizations, projects, fund, f...</td>\n",
       "      <td>[Development initiatives and funding]</td>\n",
       "      <td>[resources, funds, supply, initiatives, fund, ...</td>\n",
       "      <td>[For this reason, the objective of our work mu...</td>\n",
       "    </tr>\n",
       "    <tr>\n",
       "      <th>9</th>\n",
       "      <td>8</td>\n",
       "      <td>46</td>\n",
       "      <td>8_vote_electoral_campaign_elections</td>\n",
       "      <td>[vote, electoral, campaign, elections, require...</td>\n",
       "      <td>[electoral, elections, ballots, election, voti...</td>\n",
       "      <td>[\"Electoral Campaign and Voting\"]</td>\n",
       "      <td>[electoral, campaign, elections, promise, elec...</td>\n",
       "      <td>[That is, I even realized the law because I am...</td>\n",
       "    </tr>\n",
       "    <tr>\n",
       "      <th>10</th>\n",
       "      <td>9</td>\n",
       "      <td>43</td>\n",
       "      <td>9_bills_inflation_bank_materials</td>\n",
       "      <td>[bills, inflation, bank, materials, prices, in...</td>\n",
       "      <td>[inflation, currency, expenditure, economic, e...</td>\n",
       "      <td>[Rising Bills and Inflation]</td>\n",
       "      <td>[bills, inflation, bank, materials, prices, in...</td>\n",
       "      <td>[then in the midst of an international crisis ...</td>\n",
       "    </tr>\n",
       "    <tr>\n",
       "      <th>11</th>\n",
       "      <td>10</td>\n",
       "      <td>38</td>\n",
       "      <td>10_wage_minimum_wages_parameter</td>\n",
       "      <td>[wage, minimum, wages, parameter, legal, subst...</td>\n",
       "      <td>[wages, wage, bargaining, minimum, incomes, co...</td>\n",
       "      <td>[Minimum wage and bargaining]</td>\n",
       "      <td>[wage, minimum, wages, parameter, legal, subst...</td>\n",
       "      <td>[For this reason, in the next few days we will...</td>\n",
       "    </tr>\n",
       "    <tr>\n",
       "      <th>12</th>\n",
       "      <td>11</td>\n",
       "      <td>36</td>\n",
       "      <td>11_safety_emergency_emergencies_alternation</td>\n",
       "      <td>[safety, emergency, emergencies, alternation, ...</td>\n",
       "      <td>[safety, protection, emergencies, risk, defend...</td>\n",
       "      <td>[Safety and Emergency Defense]</td>\n",
       "      <td>[safety, emergency, alternation, emergencies, ...</td>\n",
       "      <td>[We want to defend people who keep our beaches...</td>\n",
       "    </tr>\n",
       "    <tr>\n",
       "      <th>13</th>\n",
       "      <td>12</td>\n",
       "      <td>35</td>\n",
       "      <td>12_rape_wine_adolescence_behaviors</td>\n",
       "      <td>[rape, wine, adolescence, behaviors, site, lad...</td>\n",
       "      <td>[rape, crime, rapist, raped, violence, rapes, ...</td>\n",
       "      <td>[Youthful Deviance in Society]</td>\n",
       "      <td>[rape, wine, adolescence, lady, site, behavior...</td>\n",
       "      <td>[Widespread petty crime, violence, open-air dr...</td>\n",
       "    </tr>\n",
       "    <tr>\n",
       "      <th>14</th>\n",
       "      <td>13</td>\n",
       "      <td>31</td>\n",
       "      <td>13_european_europe_witch_commission</td>\n",
       "      <td>[european, europe, witch, commission, council,...</td>\n",
       "      <td>[europeanism, europe, eu, european, departures...</td>\n",
       "      <td>[Europe's Response to Departures]</td>\n",
       "      <td>[witch, departures, humanity, addition, availa...</td>\n",
       "      <td>[The only way to seriously deal with this matt...</td>\n",
       "    </tr>\n",
       "    <tr>\n",
       "      <th>15</th>\n",
       "      <td>14</td>\n",
       "      <td>28</td>\n",
       "      <td>14_thank_luck_good_you</td>\n",
       "      <td>[thank, luck, good, you, work, then, , , , ]</td>\n",
       "      <td>[thank, , , , , , , , , ]</td>\n",
       "      <td>[Expressing gratitude in work]</td>\n",
       "      <td>[luck, work, , , , , , , , ]</td>\n",
       "      <td>[Thank you., Thank you., Thank you.]</td>\n",
       "    </tr>\n",
       "    <tr>\n",
       "      <th>16</th>\n",
       "      <td>15</td>\n",
       "      <td>28</td>\n",
       "      <td>15_fake_conspiracy_invent_news</td>\n",
       "      <td>[fake, conspiracy, invent, news, george, dog, ...</td>\n",
       "      <td>[falsehoods, accusations, misrepresented, misr...</td>\n",
       "      <td>[False Conspiracy Theories and Shipwrecked]</td>\n",
       "      <td>[fake, conspiracy, news, dog, theories, journa...</td>\n",
       "      <td>[For days I have been hearing total lies, fake...</td>\n",
       "    </tr>\n",
       "    <tr>\n",
       "      <th>17</th>\n",
       "      <td>16</td>\n",
       "      <td>26</td>\n",
       "      <td>16_ecological_sustainability_transition_climate</td>\n",
       "      <td>[ecological, sustainability, transition, clima...</td>\n",
       "      <td>[desalination, sustainability, infrastructure,...</td>\n",
       "      <td>[Ecological Sustainability and Water Solutions]</td>\n",
       "      <td>[ecological, sustainability, transition, clima...</td>\n",
       "      <td>[We must defend our lands from climate change ...</td>\n",
       "    </tr>\n",
       "    <tr>\n",
       "      <th>18</th>\n",
       "      <td>17</td>\n",
       "      <td>25</td>\n",
       "      <td>17_training_work_hiring_benefit</td>\n",
       "      <td>[training, work, hiring, benefit, participatin...</td>\n",
       "      <td>[employment, labor, incentive, voluntary, hiri...</td>\n",
       "      <td>[Employment Assistance and Training]</td>\n",
       "      <td>[training, work, hiring, benefit, job, able, s...</td>\n",
       "      <td>[A virtuous mechanism that can push companies ...</td>\n",
       "    </tr>\n",
       "    <tr>\n",
       "      <th>19</th>\n",
       "      <td>18</td>\n",
       "      <td>21</td>\n",
       "      <td>18_left_comparison_authoritarian_lacking</td>\n",
       "      <td>[left, comparison, authoritarian, lacking, win...</td>\n",
       "      <td>[left, ideological, political, politics, contr...</td>\n",
       "      <td>[Left vs Right Leadership]</td>\n",
       "      <td>[left, comparison, authoritarian, wing, leader...</td>\n",
       "      <td>[And it is also due to this political weakness...</td>\n",
       "    </tr>\n",
       "    <tr>\n",
       "      <th>20</th>\n",
       "      <td>19</td>\n",
       "      <td>21</td>\n",
       "      <td>19_pension_pensions_allowance_leave</td>\n",
       "      <td>[pension, pensions, allowance, leave, percent,...</td>\n",
       "      <td>[allowance, pensions, pension, compulsory, ret...</td>\n",
       "      <td>[Parental leave and pension allowances]</td>\n",
       "      <td>[pension, pensions, allowance, leave, percent,...</td>\n",
       "      <td>[Parents know this well, we will increase the ...</td>\n",
       "    </tr>\n",
       "    <tr>\n",
       "      <th>21</th>\n",
       "      <td>20</td>\n",
       "      <td>21</td>\n",
       "      <td>20_abortion_alternative_woman_she</td>\n",
       "      <td>[abortion, alternative, woman, she, apply, mot...</td>\n",
       "      <td>[abortion, abortions, motherhood, abort, wombs...</td>\n",
       "      <td>[Abortion and Alternatives]</td>\n",
       "      <td>[abortion, alternative, woman, mothers, pregna...</td>\n",
       "      <td>[I do not want to abolish the one hundred and ...</td>\n",
       "    </tr>\n",
       "    <tr>\n",
       "      <th>22</th>\n",
       "      <td>21</td>\n",
       "      <td>19</td>\n",
       "      <td>21_sport_sports_desperately_youth</td>\n",
       "      <td>[sport, sports, desperately, youth, iceland, s...</td>\n",
       "      <td>[sports, athletes, sport, sporting, youth, com...</td>\n",
       "      <td>[Investing in Youth through Sports]</td>\n",
       "      <td>[sport, sports, youth, sporting, young, kids, ...</td>\n",
       "      <td>[Investing in young people means investing in ...</td>\n",
       "    </tr>\n",
       "    <tr>\n",
       "      <th>23</th>\n",
       "      <td>22</td>\n",
       "      <td>19</td>\n",
       "      <td>22_meloni_shivers_derived_laugh</td>\n",
       "      <td>[meloni, shivers, derived, laugh, steal, nazis...</td>\n",
       "      <td>[meloni, politics, feminists, stereotypes, rea...</td>\n",
       "      <td>[Meloni's Impact on Feminism]</td>\n",
       "      <td>[shivers, stereotypes, horrible, joker, stump,...</td>\n",
       "      <td>[And therefore the shivers are not derived fro...</td>\n",
       "    </tr>\n",
       "    <tr>\n",
       "      <th>24</th>\n",
       "      <td>23</td>\n",
       "      <td>18</td>\n",
       "      <td>23_thinks_tones_speaking_use</td>\n",
       "      <td>[thinks, tones, speaking, use, allowed, leaned...</td>\n",
       "      <td>[tones, mentality, speaking, interlocution, un...</td>\n",
       "      <td>[Assumed Responsibilities and Abandonment]</td>\n",
       "      <td>[tones, gods, mentality, acoustic, bounds, unp...</td>\n",
       "      <td>[So I have decided that in the meantime I will...</td>\n",
       "    </tr>\n",
       "    <tr>\n",
       "      <th>25</th>\n",
       "      <td>24</td>\n",
       "      <td>17</td>\n",
       "      <td>24_ministers_minister_council_memorandum</td>\n",
       "      <td>[ministers, minister, council, memorandum, con...</td>\n",
       "      <td>[ministers, meetings, memorandum, minister, me...</td>\n",
       "      <td>[Ministers' Convened Council Meeting]</td>\n",
       "      <td>[ministers, minister, council, memorandum, gro...</td>\n",
       "      <td>[The Standing memorandum, that is the memorand...</td>\n",
       "    </tr>\n",
       "    <tr>\n",
       "      <th>26</th>\n",
       "      <td>25</td>\n",
       "      <td>17</td>\n",
       "      <td>25_state_create_just_fair</td>\n",
       "      <td>[state, create, just, fair, stay, assistance, ...</td>\n",
       "      <td>[states, welfare, state, workers, discriminati...</td>\n",
       "      <td>[Just State Welfare Discrimination]</td>\n",
       "      <td>[state, just, fair, assistance, care, alternat...</td>\n",
       "      <td>[a just state does not put those who can work ...</td>\n",
       "    </tr>\n",
       "    <tr>\n",
       "      <th>27</th>\n",
       "      <td>26</td>\n",
       "      <td>17</td>\n",
       "      <td>26_budget_law_provisions_budgets</td>\n",
       "      <td>[budget, law, provisions, budgets, contributio...</td>\n",
       "      <td>[budgets, provisions, budget, proposed, propos...</td>\n",
       "      <td>[Government's budget law provisions]</td>\n",
       "      <td>[budget, law, budgets, provisions, contributio...</td>\n",
       "      <td>[So in short, I trust that we do not have to m...</td>\n",
       "    </tr>\n",
       "    <tr>\n",
       "      <th>28</th>\n",
       "      <td>27</td>\n",
       "      <td>17</td>\n",
       "      <td>27_government_reverse_trend_realizing</td>\n",
       "      <td>[government, reverse, trend, realizing, level,...</td>\n",
       "      <td>[government, bureaucracy, democracies, institu...</td>\n",
       "      <td>[Government's Ineffectiveness and Opposition A...</td>\n",
       "      <td>[government, trend, level, office, opposition,...</td>\n",
       "      <td>[The government is there, well, it's one of th...</td>\n",
       "    </tr>\n",
       "    <tr>\n",
       "      <th>29</th>\n",
       "      <td>28</td>\n",
       "      <td>17</td>\n",
       "      <td>28_credit_credits_facilitate_banks</td>\n",
       "      <td>[credit, credits, facilitate, banks, collapse,...</td>\n",
       "      <td>[credit, credits, banking, banks, loan, acquis...</td>\n",
       "      <td>[Facilitating credit acquisition and banks col...</td>\n",
       "      <td>[credit, credits, banks, actors, collapse, com...</td>\n",
       "      <td>[But it's obvious that for goodness' sake, if ...</td>\n",
       "    </tr>\n",
       "    <tr>\n",
       "      <th>30</th>\n",
       "      <td>29</td>\n",
       "      <td>16</td>\n",
       "      <td>29_putin_russia_values_christian</td>\n",
       "      <td>[putin, russia, values, christian, dostoievski...</td>\n",
       "      <td>[putinian, tsars, putin, russia, moscow, russi...</td>\n",
       "      <td>[Russia's place in European values]</td>\n",
       "      <td>[values, communist, system, figure, part, clos...</td>\n",
       "      <td>[Look, I thank you for this question because y...</td>\n",
       "    </tr>\n",
       "    <tr>\n",
       "      <th>31</th>\n",
       "      <td>30</td>\n",
       "      <td>15</td>\n",
       "      <td>30_thank_thanks_welcome_much</td>\n",
       "      <td>[thank, thanks, welcome, much, you, good, very...</td>\n",
       "      <td>[welcome, thank, thanks, all, again, to, you, ...</td>\n",
       "      <td>[Gratitude and Appreciation]</td>\n",
       "      <td>[thanks, welcome, good, fight, work, , , , , ]</td>\n",
       "      <td>[Thank you very much., Thank you very much to,...</td>\n",
       "    </tr>\n",
       "    <tr>\n",
       "      <th>32</th>\n",
       "      <td>31</td>\n",
       "      <td>14</td>\n",
       "      <td>31_price_petrol_average_euro</td>\n",
       "      <td>[price, petrol, average, euro, eight, march, h...</td>\n",
       "      <td>[pricing, prices, euro, concessions, antitrust...</td>\n",
       "      <td>[High petrol price changes]</td>\n",
       "      <td>[price, petrol, average, euro, higher, gas, ch...</td>\n",
       "      <td>[what did we do first of all I wrote to the pr...</td>\n",
       "    </tr>\n",
       "    <tr>\n",
       "      <th>33</th>\n",
       "      <td>32</td>\n",
       "      <td>14</td>\n",
       "      <td>32_christmas_nativity_scene_merry</td>\n",
       "      <td>[christmas, nativity, scene, merry, trees, gin...</td>\n",
       "      <td>[nativity, christmas, holiday, celebrate, merr...</td>\n",
       "      <td>[Christmas nativity scene]</td>\n",
       "      <td>[nativity, scene, trees, gifts, period, family...</td>\n",
       "      <td>[I decided to make a nativity scene when in sc...</td>\n",
       "    </tr>\n",
       "    <tr>\n",
       "      <th>34</th>\n",
       "      <td>33</td>\n",
       "      <td>13</td>\n",
       "      <td>33_proud_win_leadership_fought</td>\n",
       "      <td>[proud, win, leadership, fought, battle, lead,...</td>\n",
       "      <td>[celebrated, celebrate, proud, celebration, pa...</td>\n",
       "      <td>[Prideful Battle for Leadership]</td>\n",
       "      <td>[proud, leadership, battle, 8th, deeds, confor...</td>\n",
       "      <td>[Then I am a non-conformist and so let's say m...</td>\n",
       "    </tr>\n",
       "    <tr>\n",
       "      <th>35</th>\n",
       "      <td>34</td>\n",
       "      <td>12</td>\n",
       "      <td>34_measures_measure_scams_quarter</td>\n",
       "      <td>[measures, measure, scams, quarter, enormously...</td>\n",
       "      <td>[measures, measure, threshold, thousand, usefu...</td>\n",
       "      <td>[Strengthening Measures against Scams]</td>\n",
       "      <td>[measures, measure, scams, quarter, paper, ele...</td>\n",
       "      <td>[It will probably be easier than what happens ...</td>\n",
       "    </tr>\n",
       "    <tr>\n",
       "      <th>36</th>\n",
       "      <td>35</td>\n",
       "      <td>12</td>\n",
       "      <td>35_morning_good_tired_purposes</td>\n",
       "      <td>[morning, good, tired, purposes, film, early, ...</td>\n",
       "      <td>[morning, good, tired, day, now, am, up, early...</td>\n",
       "      <td>[Early morning film purposes]</td>\n",
       "      <td>[morning, good, tired, film, purposes, sorry, ...</td>\n",
       "      <td>[Good morning., Good morning., And now to work...</td>\n",
       "    </tr>\n",
       "    <tr>\n",
       "      <th>37</th>\n",
       "      <td>36</td>\n",
       "      <td>12</td>\n",
       "      <td>36_abolish_ninety_four_modify</td>\n",
       "      <td>[abolish, ninety, four, modify, hundred, speci...</td>\n",
       "      <td>[abolish, ninety, hundred, law, change, conver...</td>\n",
       "      <td>[Intent to Modify Law]</td>\n",
       "      <td>[criticisms, specious, conversion, law, politi...</td>\n",
       "      <td>[In short, at the time of conversion, if anyon...</td>\n",
       "    </tr>\n",
       "  </tbody>\n",
       "</table>\n",
       "</div>"
      ],
      "text/plain": [
       "    Topic  Count                                             Name  \\\n",
       "0      -1    837                         -1_government_our_be_say   \n",
       "1       0    174              0_italian_italy_italians_government   \n",
       "2       1    145                      1_thank_ready_happy_reality   \n",
       "3       2    140                   2_brothers_italy_italian_cross   \n",
       "4       3    133                                3_yes_hi_okay_too   \n",
       "5       4     72  4_immigration_migration_traffickers_trafficking   \n",
       "6       5     65                    5_freedom_free_rights_liberal   \n",
       "7       6     61                       6_income_tax_citizen_euros   \n",
       "8       7     50             7_resources_funds_supply_initiatives   \n",
       "9       8     46              8_vote_electoral_campaign_elections   \n",
       "10      9     43                 9_bills_inflation_bank_materials   \n",
       "11     10     38                  10_wage_minimum_wages_parameter   \n",
       "12     11     36      11_safety_emergency_emergencies_alternation   \n",
       "13     12     35               12_rape_wine_adolescence_behaviors   \n",
       "14     13     31              13_european_europe_witch_commission   \n",
       "15     14     28                           14_thank_luck_good_you   \n",
       "16     15     28                   15_fake_conspiracy_invent_news   \n",
       "17     16     26  16_ecological_sustainability_transition_climate   \n",
       "18     17     25                  17_training_work_hiring_benefit   \n",
       "19     18     21         18_left_comparison_authoritarian_lacking   \n",
       "20     19     21              19_pension_pensions_allowance_leave   \n",
       "21     20     21                20_abortion_alternative_woman_she   \n",
       "22     21     19                21_sport_sports_desperately_youth   \n",
       "23     22     19                  22_meloni_shivers_derived_laugh   \n",
       "24     23     18                     23_thinks_tones_speaking_use   \n",
       "25     24     17         24_ministers_minister_council_memorandum   \n",
       "26     25     17                        25_state_create_just_fair   \n",
       "27     26     17                 26_budget_law_provisions_budgets   \n",
       "28     27     17            27_government_reverse_trend_realizing   \n",
       "29     28     17               28_credit_credits_facilitate_banks   \n",
       "30     29     16                 29_putin_russia_values_christian   \n",
       "31     30     15                     30_thank_thanks_welcome_much   \n",
       "32     31     14                     31_price_petrol_average_euro   \n",
       "33     32     14                32_christmas_nativity_scene_merry   \n",
       "34     33     13                   33_proud_win_leadership_fought   \n",
       "35     34     12                34_measures_measure_scams_quarter   \n",
       "36     35     12                   35_morning_good_tired_purposes   \n",
       "37     36     12                    36_abolish_ninety_four_modify   \n",
       "\n",
       "                                       Representation  \\\n",
       "0   [government, our, be, say, was, so, not, peopl...   \n",
       "1   [italian, italy, italians, government, how, gr...   \n",
       "2   [thank, ready, happy, reality, here, wait, eve...   \n",
       "3   [brothers, italy, italian, cross, world, party...   \n",
       "4   [yes, hi, okay, too, ve, why, heard, no, look,...   \n",
       "5   [immigration, migration, traffickers, traffick...   \n",
       "6   [freedom, free, rights, liberal, right, love, ...   \n",
       "7   [income, tax, citizen, euros, citizenship, tho...   \n",
       "8   [resources, funds, supply, initiatives, fund, ...   \n",
       "9   [vote, electoral, campaign, elections, require...   \n",
       "10  [bills, inflation, bank, materials, prices, in...   \n",
       "11  [wage, minimum, wages, parameter, legal, subst...   \n",
       "12  [safety, emergency, emergencies, alternation, ...   \n",
       "13  [rape, wine, adolescence, behaviors, site, lad...   \n",
       "14  [european, europe, witch, commission, council,...   \n",
       "15       [thank, luck, good, you, work, then, , , , ]   \n",
       "16  [fake, conspiracy, invent, news, george, dog, ...   \n",
       "17  [ecological, sustainability, transition, clima...   \n",
       "18  [training, work, hiring, benefit, participatin...   \n",
       "19  [left, comparison, authoritarian, lacking, win...   \n",
       "20  [pension, pensions, allowance, leave, percent,...   \n",
       "21  [abortion, alternative, woman, she, apply, mot...   \n",
       "22  [sport, sports, desperately, youth, iceland, s...   \n",
       "23  [meloni, shivers, derived, laugh, steal, nazis...   \n",
       "24  [thinks, tones, speaking, use, allowed, leaned...   \n",
       "25  [ministers, minister, council, memorandum, con...   \n",
       "26  [state, create, just, fair, stay, assistance, ...   \n",
       "27  [budget, law, provisions, budgets, contributio...   \n",
       "28  [government, reverse, trend, realizing, level,...   \n",
       "29  [credit, credits, facilitate, banks, collapse,...   \n",
       "30  [putin, russia, values, christian, dostoievski...   \n",
       "31  [thank, thanks, welcome, much, you, good, very...   \n",
       "32  [price, petrol, average, euro, eight, march, h...   \n",
       "33  [christmas, nativity, scene, merry, trees, gin...   \n",
       "34  [proud, win, leadership, fought, battle, lead,...   \n",
       "35  [measures, measure, scams, quarter, enormously...   \n",
       "36  [morning, good, tired, purposes, film, early, ...   \n",
       "37  [abolish, ninety, four, modify, hundred, speci...   \n",
       "\n",
       "                                              KeyBERT  \\\n",
       "0   [government, political, support, culture, pres...   \n",
       "1   [italians, italian, italy, europe, citizens, g...   \n",
       "2   [ourselves, merits, greetings, we, advantage, ...   \n",
       "3   [italians, italian, italy, francesco, election...   \n",
       "4   [yes, more, mainly, seems, absolutely, probabl...   \n",
       "5   [immigration, migrants, refugees, immigrants, ...   \n",
       "6   [freedom, rights, totalitarianisms, democracy,...   \n",
       "7   [income, taxes, tax, taxation, incomes, earner...   \n",
       "8   [initiatives, organizations, projects, fund, f...   \n",
       "9   [electoral, elections, ballots, election, voti...   \n",
       "10  [inflation, currency, expenditure, economic, e...   \n",
       "11  [wages, wage, bargaining, minimum, incomes, co...   \n",
       "12  [safety, protection, emergencies, risk, defend...   \n",
       "13  [rape, crime, rapist, raped, violence, rapes, ...   \n",
       "14  [europeanism, europe, eu, european, departures...   \n",
       "15                          [thank, , , , , , , , , ]   \n",
       "16  [falsehoods, accusations, misrepresented, misr...   \n",
       "17  [desalination, sustainability, infrastructure,...   \n",
       "18  [employment, labor, incentive, voluntary, hiri...   \n",
       "19  [left, ideological, political, politics, contr...   \n",
       "20  [allowance, pensions, pension, compulsory, ret...   \n",
       "21  [abortion, abortions, motherhood, abort, wombs...   \n",
       "22  [sports, athletes, sport, sporting, youth, com...   \n",
       "23  [meloni, politics, feminists, stereotypes, rea...   \n",
       "24  [tones, mentality, speaking, interlocution, un...   \n",
       "25  [ministers, meetings, memorandum, minister, me...   \n",
       "26  [states, welfare, state, workers, discriminati...   \n",
       "27  [budgets, provisions, budget, proposed, propos...   \n",
       "28  [government, bureaucracy, democracies, institu...   \n",
       "29  [credit, credits, banking, banks, loan, acquis...   \n",
       "30  [putinian, tsars, putin, russia, moscow, russi...   \n",
       "31  [welcome, thank, thanks, all, again, to, you, ...   \n",
       "32  [pricing, prices, euro, concessions, antitrust...   \n",
       "33  [nativity, christmas, holiday, celebrate, merr...   \n",
       "34  [celebrated, celebrate, proud, celebration, pa...   \n",
       "35  [measures, measure, threshold, thousand, usefu...   \n",
       "36  [morning, good, tired, day, now, am, up, early...   \n",
       "37  [abolish, ninety, hundred, law, change, conver...   \n",
       "\n",
       "                                               OpenAI  \\\n",
       "0              [Government efforts and public belief]   \n",
       "1                            [Italy's Role in Europe]   \n",
       "2   [Recognition of Women's Underestimated Advantage]   \n",
       "3                       [Brothers of Italy elections]   \n",
       "4                              [Echoes and Confusion]   \n",
       "5     [Combating Illegal Immigration and Trafficking]   \n",
       "6                    [Celebrating Freedom and Rights]   \n",
       "7                           [Tax cuts and guarantees]   \n",
       "8               [Development initiatives and funding]   \n",
       "9                   [\"Electoral Campaign and Voting\"]   \n",
       "10                       [Rising Bills and Inflation]   \n",
       "11                      [Minimum wage and bargaining]   \n",
       "12                     [Safety and Emergency Defense]   \n",
       "13                     [Youthful Deviance in Society]   \n",
       "14                  [Europe's Response to Departures]   \n",
       "15                     [Expressing gratitude in work]   \n",
       "16        [False Conspiracy Theories and Shipwrecked]   \n",
       "17    [Ecological Sustainability and Water Solutions]   \n",
       "18               [Employment Assistance and Training]   \n",
       "19                         [Left vs Right Leadership]   \n",
       "20            [Parental leave and pension allowances]   \n",
       "21                        [Abortion and Alternatives]   \n",
       "22                [Investing in Youth through Sports]   \n",
       "23                      [Meloni's Impact on Feminism]   \n",
       "24         [Assumed Responsibilities and Abandonment]   \n",
       "25              [Ministers' Convened Council Meeting]   \n",
       "26                [Just State Welfare Discrimination]   \n",
       "27               [Government's budget law provisions]   \n",
       "28  [Government's Ineffectiveness and Opposition A...   \n",
       "29  [Facilitating credit acquisition and banks col...   \n",
       "30                [Russia's place in European values]   \n",
       "31                       [Gratitude and Appreciation]   \n",
       "32                        [High petrol price changes]   \n",
       "33                         [Christmas nativity scene]   \n",
       "34                   [Prideful Battle for Leadership]   \n",
       "35             [Strengthening Measures against Scams]   \n",
       "36                      [Early morning film purposes]   \n",
       "37                             [Intent to Modify Law]   \n",
       "\n",
       "                                                  POS  \\\n",
       "0   [government, people, culture, first, thing, po...   \n",
       "1   [government, great, nation, problem, left, onl...   \n",
       "2   [ready, happy, reality, evening, goals, determ...   \n",
       "3   [brothers, cross, world, party, elections, cen...   \n",
       "4   [fine, echo, professionalism, bit, question, m...   \n",
       "5   [immigration, traffickers, trafficking, illega...   \n",
       "6   [freedom, free, rights, liberal, right, love, ...   \n",
       "7   [income, tax, citizen, euros, citizenship, fla...   \n",
       "8   [resources, funds, supply, initiatives, fund, ...   \n",
       "9   [electoral, campaign, elections, promise, elec...   \n",
       "10  [bills, inflation, bank, materials, prices, in...   \n",
       "11  [wage, minimum, wages, parameter, legal, subst...   \n",
       "12  [safety, emergency, alternation, emergencies, ...   \n",
       "13  [rape, wine, adolescence, lady, site, behavior...   \n",
       "14  [witch, departures, humanity, addition, availa...   \n",
       "15                       [luck, work, , , , , , , , ]   \n",
       "16  [fake, conspiracy, news, dog, theories, journa...   \n",
       "17  [ecological, sustainability, transition, clima...   \n",
       "18  [training, work, hiring, benefit, job, able, s...   \n",
       "19  [left, comparison, authoritarian, wing, leader...   \n",
       "20  [pension, pensions, allowance, leave, percent,...   \n",
       "21  [abortion, alternative, woman, mothers, pregna...   \n",
       "22  [sport, sports, youth, sporting, young, kids, ...   \n",
       "23  [shivers, stereotypes, horrible, joker, stump,...   \n",
       "24  [tones, gods, mentality, acoustic, bounds, unp...   \n",
       "25  [ministers, minister, council, memorandum, gro...   \n",
       "26  [state, just, fair, assistance, care, alternat...   \n",
       "27  [budget, law, budgets, provisions, contributio...   \n",
       "28  [government, trend, level, office, opposition,...   \n",
       "29  [credit, credits, banks, actors, collapse, com...   \n",
       "30  [values, communist, system, figure, part, clos...   \n",
       "31     [thanks, welcome, good, fight, work, , , , , ]   \n",
       "32  [price, petrol, average, euro, higher, gas, ch...   \n",
       "33  [nativity, scene, trees, gifts, period, family...   \n",
       "34  [proud, leadership, battle, 8th, deeds, confor...   \n",
       "35  [measures, measure, scams, quarter, paper, ele...   \n",
       "36  [morning, good, tired, film, purposes, sorry, ...   \n",
       "37  [criticisms, specious, conversion, law, politi...   \n",
       "\n",
       "                                  Representative_Docs  \n",
       "0   [We have started important work to make the pl...  \n",
       "1   [I can speak very badly about Italy, but I do ...  \n",
       "2   [It's the reason we are here today, so thank y...  \n",
       "3   [Then even funnier than this is the reason why...  \n",
       "4   [No, I mean okay, things will be fine anyway.,...  \n",
       "5   [The route is not covered by non-governmental ...  \n",
       "6   [A great Italian liberal philosopher, Benedett...  \n",
       "7   [So today and until the end of this year, we h...  \n",
       "8   [For this reason, the objective of our work mu...  \n",
       "9   [That is, I even realized the law because I am...  \n",
       "10  [then in the midst of an international crisis ...  \n",
       "11  [For this reason, in the next few days we will...  \n",
       "12  [We want to defend people who keep our beaches...  \n",
       "13  [Widespread petty crime, violence, open-air dr...  \n",
       "14  [The only way to seriously deal with this matt...  \n",
       "15               [Thank you., Thank you., Thank you.]  \n",
       "16  [For days I have been hearing total lies, fake...  \n",
       "17  [We must defend our lands from climate change ...  \n",
       "18  [A virtuous mechanism that can push companies ...  \n",
       "19  [And it is also due to this political weakness...  \n",
       "20  [Parents know this well, we will increase the ...  \n",
       "21  [I do not want to abolish the one hundred and ...  \n",
       "22  [Investing in young people means investing in ...  \n",
       "23  [And therefore the shivers are not derived fro...  \n",
       "24  [So I have decided that in the meantime I will...  \n",
       "25  [The Standing memorandum, that is the memorand...  \n",
       "26  [a just state does not put those who can work ...  \n",
       "27  [So in short, I trust that we do not have to m...  \n",
       "28  [The government is there, well, it's one of th...  \n",
       "29  [But it's obvious that for goodness' sake, if ...  \n",
       "30  [Look, I thank you for this question because y...  \n",
       "31  [Thank you very much., Thank you very much to,...  \n",
       "32  [what did we do first of all I wrote to the pr...  \n",
       "33  [I decided to make a nativity scene when in sc...  \n",
       "34  [Then I am a non-conformist and so let's say m...  \n",
       "35  [It will probably be easier than what happens ...  \n",
       "36  [Good morning., Good morning., And now to work...  \n",
       "37  [In short, at the time of conversion, if anyon...  "
      ]
     },
     "execution_count": 249,
     "metadata": {},
     "output_type": "execute_result"
    }
   ],
   "source": [
    "topics=[2, 4, 5, 7, 9, 13, 15, 16, 20]\n",
    "topic_model.get_topic_info()"
   ]
  },
  {
   "cell_type": "code",
   "execution_count": 254,
   "metadata": {},
   "outputs": [
    {
     "data": {
      "text/html": [
       "<div>\n",
       "<style scoped>\n",
       "    .dataframe tbody tr th:only-of-type {\n",
       "        vertical-align: middle;\n",
       "    }\n",
       "\n",
       "    .dataframe tbody tr th {\n",
       "        vertical-align: top;\n",
       "    }\n",
       "\n",
       "    .dataframe thead th {\n",
       "        text-align: right;\n",
       "    }\n",
       "</style>\n",
       "<table border=\"1\" class=\"dataframe\">\n",
       "  <thead>\n",
       "    <tr style=\"text-align: right;\">\n",
       "      <th></th>\n",
       "      <th>Topic</th>\n",
       "      <th>Count</th>\n",
       "      <th>Name</th>\n",
       "      <th>Representation</th>\n",
       "      <th>KeyBERT</th>\n",
       "      <th>OpenAI</th>\n",
       "      <th>POS</th>\n",
       "      <th>Representative_Docs</th>\n",
       "    </tr>\n",
       "  </thead>\n",
       "  <tbody>\n",
       "    <tr>\n",
       "      <th>0</th>\n",
       "      <td>-1</td>\n",
       "      <td>837</td>\n",
       "      <td>-1_say_government_people_let</td>\n",
       "      <td>[say, government, people, let, obviously, want...</td>\n",
       "      <td>[government, political, support, culture, pres...</td>\n",
       "      <td>[Government efforts and public belief]</td>\n",
       "      <td>[government, people, culture, first, thing, po...</td>\n",
       "      <td>[We have started important work to make the pl...</td>\n",
       "    </tr>\n",
       "    <tr>\n",
       "      <th>1</th>\n",
       "      <td>0</td>\n",
       "      <td>174</td>\n",
       "      <td>0_italy_italian_italians_government</td>\n",
       "      <td>[italy, italian, italians, government, nation,...</td>\n",
       "      <td>[italians, italian, italy, europe, citizens, g...</td>\n",
       "      <td>[Italy's Role in Europe]</td>\n",
       "      <td>[government, great, nation, problem, left, onl...</td>\n",
       "      <td>[I can speak very badly about Italy, but I do ...</td>\n",
       "    </tr>\n",
       "    <tr>\n",
       "      <th>2</th>\n",
       "      <td>1</td>\n",
       "      <td>145</td>\n",
       "      <td>1_thank_ready_happy_reality</td>\n",
       "      <td>[thank, ready, happy, reality, good, president...</td>\n",
       "      <td>[ourselves, merits, greetings, we, advantage, ...</td>\n",
       "      <td>[Recognition of Women's Underestimated Advantage]</td>\n",
       "      <td>[ready, happy, reality, evening, goals, determ...</td>\n",
       "      <td>[It's the reason we are here today, so thank y...</td>\n",
       "    </tr>\n",
       "    <tr>\n",
       "      <th>3</th>\n",
       "      <td>2</td>\n",
       "      <td>140</td>\n",
       "      <td>2_brothers_brothers italy_italy_italian</td>\n",
       "      <td>[brothers, brothers italy, italy, italian, wor...</td>\n",
       "      <td>[italians, italian, italy, francesco, election...</td>\n",
       "      <td>[Brothers of Italy elections]</td>\n",
       "      <td>[brothers, cross, world, party, elections, cen...</td>\n",
       "      <td>[Then even funnier than this is the reason why...</td>\n",
       "    </tr>\n",
       "    <tr>\n",
       "      <th>4</th>\n",
       "      <td>3</td>\n",
       "      <td>133</td>\n",
       "      <td>3_yes_yes yes_okay_ve heard</td>\n",
       "      <td>[yes, yes yes, okay, ve heard, ve, look, heard...</td>\n",
       "      <td>[yes, more, mainly, seems, absolutely, probabl...</td>\n",
       "      <td>[Echoes and Confusion]</td>\n",
       "      <td>[fine, echo, professionalism, bit, question, m...</td>\n",
       "      <td>[No, I mean okay, things will be fine anyway.,...</td>\n",
       "    </tr>\n",
       "    <tr>\n",
       "      <th>5</th>\n",
       "      <td>4</td>\n",
       "      <td>72</td>\n",
       "      <td>4_immigration_people_international law_traffic...</td>\n",
       "      <td>[immigration, people, international law, traff...</td>\n",
       "      <td>[immigration, migrants, refugees, immigrants, ...</td>\n",
       "      <td>[Combating Illegal Immigration and Trafficking]</td>\n",
       "      <td>[immigration, traffickers, trafficking, illega...</td>\n",
       "      <td>[The route is not covered by non-governmental ...</td>\n",
       "    </tr>\n",
       "    <tr>\n",
       "      <th>6</th>\n",
       "      <td>5</td>\n",
       "      <td>65</td>\n",
       "      <td>5_freedom_free_right_rights</td>\n",
       "      <td>[freedom, free, right, rights, liberal, love, ...</td>\n",
       "      <td>[freedom, rights, totalitarianisms, democracy,...</td>\n",
       "      <td>[Celebrating Freedom and Rights]</td>\n",
       "      <td>[freedom, free, rights, liberal, right, love, ...</td>\n",
       "      <td>[A great Italian liberal philosopher, Benedett...</td>\n",
       "    </tr>\n",
       "    <tr>\n",
       "      <th>7</th>\n",
       "      <td>6</td>\n",
       "      <td>61</td>\n",
       "      <td>6_income_tax_thousand euros_euros</td>\n",
       "      <td>[income, tax, thousand euros, euros, citizen i...</td>\n",
       "      <td>[income, taxes, tax, taxation, incomes, earner...</td>\n",
       "      <td>[Tax cuts and guarantees]</td>\n",
       "      <td>[income, tax, citizen, euros, citizenship, fla...</td>\n",
       "      <td>[So today and until the end of this year, we h...</td>\n",
       "    </tr>\n",
       "    <tr>\n",
       "      <th>8</th>\n",
       "      <td>7</td>\n",
       "      <td>50</td>\n",
       "      <td>7_resources_supply_initiatives_fund</td>\n",
       "      <td>[resources, supply, initiatives, fund, used, h...</td>\n",
       "      <td>[initiatives, organizations, projects, fund, f...</td>\n",
       "      <td>[Development initiatives and funding]</td>\n",
       "      <td>[resources, funds, supply, initiatives, fund, ...</td>\n",
       "      <td>[For this reason, the objective of our work mu...</td>\n",
       "    </tr>\n",
       "    <tr>\n",
       "      <th>9</th>\n",
       "      <td>8</td>\n",
       "      <td>46</td>\n",
       "      <td>8_electoral_vote_electoral campaign_campaign</td>\n",
       "      <td>[electoral, vote, electoral campaign, campaign...</td>\n",
       "      <td>[electoral, elections, ballots, election, voti...</td>\n",
       "      <td>[\"Electoral Campaign and Voting\"]</td>\n",
       "      <td>[electoral, campaign, elections, promise, elec...</td>\n",
       "      <td>[That is, I even realized the law because I am...</td>\n",
       "    </tr>\n",
       "    <tr>\n",
       "      <th>10</th>\n",
       "      <td>9</td>\n",
       "      <td>43</td>\n",
       "      <td>9_bills_inflation_bank_increase</td>\n",
       "      <td>[bills, inflation, bank, increase, energy, mat...</td>\n",
       "      <td>[inflation, currency, expenditure, economic, e...</td>\n",
       "      <td>[Rising Bills and Inflation]</td>\n",
       "      <td>[bills, inflation, bank, materials, prices, in...</td>\n",
       "      <td>[then in the midst of an international crisis ...</td>\n",
       "    </tr>\n",
       "    <tr>\n",
       "      <th>11</th>\n",
       "      <td>10</td>\n",
       "      <td>38</td>\n",
       "      <td>10_wage_minimum wage_minimum_wages</td>\n",
       "      <td>[wage, minimum wage, minimum, wages, parameter...</td>\n",
       "      <td>[wages, wage, bargaining, minimum, incomes, co...</td>\n",
       "      <td>[Minimum wage and bargaining]</td>\n",
       "      <td>[wage, minimum, wages, parameter, legal, subst...</td>\n",
       "      <td>[For this reason, in the next few days we will...</td>\n",
       "    </tr>\n",
       "    <tr>\n",
       "      <th>12</th>\n",
       "      <td>11</td>\n",
       "      <td>36</td>\n",
       "      <td>11_safety_emergency_defend_especially</td>\n",
       "      <td>[safety, emergency, defend, especially, lives,...</td>\n",
       "      <td>[safety, protection, emergencies, risk, defend...</td>\n",
       "      <td>[Safety and Emergency Defense]</td>\n",
       "      <td>[safety, emergency, alternation, emergencies, ...</td>\n",
       "      <td>[We want to defend people who keep our beaches...</td>\n",
       "    </tr>\n",
       "    <tr>\n",
       "      <th>13</th>\n",
       "      <td>12</td>\n",
       "      <td>35</td>\n",
       "      <td>12_wine_talk_violation_violence</td>\n",
       "      <td>[wine, talk, violation, violence, literature, ...</td>\n",
       "      <td>[rape, crime, rapist, raped, violence, rapes, ...</td>\n",
       "      <td>[Youthful Deviance in Society]</td>\n",
       "      <td>[rape, wine, adolescence, lady, site, behavior...</td>\n",
       "      <td>[Widespread petty crime, violence, open-air dr...</td>\n",
       "    </tr>\n",
       "    <tr>\n",
       "      <th>14</th>\n",
       "      <td>13</td>\n",
       "      <td>31</td>\n",
       "      <td>13_european_europe_european council_council</td>\n",
       "      <td>[european, europe, european council, council, ...</td>\n",
       "      <td>[europeanism, europe, eu, european, departures...</td>\n",
       "      <td>[Europe's Response to Departures]</td>\n",
       "      <td>[witch, departures, humanity, addition, availa...</td>\n",
       "      <td>[The only way to seriously deal with this matt...</td>\n",
       "    </tr>\n",
       "    <tr>\n",
       "      <th>15</th>\n",
       "      <td>14</td>\n",
       "      <td>28</td>\n",
       "      <td>14_thank thank_thank_thank good_luck</td>\n",
       "      <td>[thank thank, thank, thank good, luck, good lu...</td>\n",
       "      <td>[thank, , , , , , , , , ]</td>\n",
       "      <td>[Expressing gratitude in work]</td>\n",
       "      <td>[luck, work, , , , , , , , ]</td>\n",
       "      <td>[Thank you., Thank you., Thank you.]</td>\n",
       "    </tr>\n",
       "    <tr>\n",
       "      <th>16</th>\n",
       "      <td>15</td>\n",
       "      <td>28</td>\n",
       "      <td>15_news_tell_anymore_making</td>\n",
       "      <td>[news, tell, anymore, making, need, internatio...</td>\n",
       "      <td>[falsehoods, accusations, misrepresented, misr...</td>\n",
       "      <td>[False Conspiracy Theories and Shipwrecked]</td>\n",
       "      <td>[fake, conspiracy, news, dog, theories, journa...</td>\n",
       "      <td>[For days I have been hearing total lies, fake...</td>\n",
       "    </tr>\n",
       "    <tr>\n",
       "      <th>17</th>\n",
       "      <td>16</td>\n",
       "      <td>26</td>\n",
       "      <td>16_transition_water_climate_problem</td>\n",
       "      <td>[transition, water, climate, problem, green, e...</td>\n",
       "      <td>[desalination, sustainability, infrastructure,...</td>\n",
       "      <td>[Ecological Sustainability and Water Solutions]</td>\n",
       "      <td>[ecological, sustainability, transition, clima...</td>\n",
       "      <td>[We must defend our lands from climate change ...</td>\n",
       "    </tr>\n",
       "    <tr>\n",
       "      <th>18</th>\n",
       "      <td>17</td>\n",
       "      <td>25</td>\n",
       "      <td>17_work_training_job_hiring</td>\n",
       "      <td>[work, training, job, hiring, benefit, able, a...</td>\n",
       "      <td>[employment, labor, incentive, voluntary, hiri...</td>\n",
       "      <td>[Employment Assistance and Training]</td>\n",
       "      <td>[training, work, hiring, benefit, job, able, s...</td>\n",
       "      <td>[A virtuous mechanism that can push companies ...</td>\n",
       "    </tr>\n",
       "    <tr>\n",
       "      <th>19</th>\n",
       "      <td>18</td>\n",
       "      <td>21</td>\n",
       "      <td>18_left_comparison_left wing_authoritarian</td>\n",
       "      <td>[left, comparison, left wing, authoritarian, w...</td>\n",
       "      <td>[left, ideological, political, politics, contr...</td>\n",
       "      <td>[Left vs Right Leadership]</td>\n",
       "      <td>[left, comparison, authoritarian, wing, leader...</td>\n",
       "      <td>[And it is also due to this political weakness...</td>\n",
       "    </tr>\n",
       "    <tr>\n",
       "      <th>20</th>\n",
       "      <td>19</td>\n",
       "      <td>21</td>\n",
       "      <td>19_pension_percent_leave_single allowance</td>\n",
       "      <td>[pension, percent, leave, single allowance, pe...</td>\n",
       "      <td>[allowance, pensions, pension, compulsory, ret...</td>\n",
       "      <td>[Parental leave and pension allowances]</td>\n",
       "      <td>[pension, pensions, allowance, leave, percent,...</td>\n",
       "      <td>[Parents know this well, we will increase the ...</td>\n",
       "    </tr>\n",
       "    <tr>\n",
       "      <th>21</th>\n",
       "      <td>20</td>\n",
       "      <td>21</td>\n",
       "      <td>20_alternative_woman_apply_ninety</td>\n",
       "      <td>[alternative, woman, apply, ninety, women, mot...</td>\n",
       "      <td>[abortion, abortions, motherhood, abort, wombs...</td>\n",
       "      <td>[Abortion and Alternatives]</td>\n",
       "      <td>[abortion, alternative, woman, mothers, pregna...</td>\n",
       "      <td>[I do not want to abolish the one hundred and ...</td>\n",
       "    </tr>\n",
       "    <tr>\n",
       "      <th>22</th>\n",
       "      <td>21</td>\n",
       "      <td>19</td>\n",
       "      <td>21_young_young people_sports_kids</td>\n",
       "      <td>[young, young people, sports, kids, play, nati...</td>\n",
       "      <td>[sports, athletes, sport, sporting, youth, com...</td>\n",
       "      <td>[Investing in Youth through Sports]</td>\n",
       "      <td>[sport, sports, youth, sporting, young, kids, ...</td>\n",
       "      <td>[Investing in young people means investing in ...</td>\n",
       "    </tr>\n",
       "    <tr>\n",
       "      <th>23</th>\n",
       "      <td>22</td>\n",
       "      <td>19</td>\n",
       "      <td>22_meloni_shivers_laugh_let</td>\n",
       "      <td>[meloni, shivers, laugh, let, steal, nazis, he...</td>\n",
       "      <td>[meloni, politics, feminists, stereotypes, rea...</td>\n",
       "      <td>[Meloni's Impact on Feminism]</td>\n",
       "      <td>[shivers, stereotypes, horrible, joker, stump,...</td>\n",
       "      <td>[And therefore the shivers are not derived fro...</td>\n",
       "    </tr>\n",
       "    <tr>\n",
       "      <th>24</th>\n",
       "      <td>23</td>\n",
       "      <td>18</td>\n",
       "      <td>23_thinks_don need_don_use</td>\n",
       "      <td>[thinks, don need, don, use, tones, speaking, ...</td>\n",
       "      <td>[tones, mentality, speaking, interlocution, un...</td>\n",
       "      <td>[Assumed Responsibilities and Abandonment]</td>\n",
       "      <td>[tones, gods, mentality, acoustic, bounds, unp...</td>\n",
       "      <td>[So I have decided that in the meantime I will...</td>\n",
       "    </tr>\n",
       "    <tr>\n",
       "      <th>25</th>\n",
       "      <td>24</td>\n",
       "      <td>17</td>\n",
       "      <td>24_ministers_council ministers_minister_council</td>\n",
       "      <td>[ministers, council ministers, minister, counc...</td>\n",
       "      <td>[ministers, meetings, memorandum, minister, me...</td>\n",
       "      <td>[Ministers' Convened Council Meeting]</td>\n",
       "      <td>[ministers, minister, council, memorandum, gro...</td>\n",
       "      <td>[The Standing memorandum, that is the memorand...</td>\n",
       "    </tr>\n",
       "    <tr>\n",
       "      <th>26</th>\n",
       "      <td>25</td>\n",
       "      <td>17</td>\n",
       "      <td>25_state_just state_work_work level</td>\n",
       "      <td>[state, just state, work, work level, just, st...</td>\n",
       "      <td>[states, welfare, state, workers, discriminati...</td>\n",
       "      <td>[Just State Welfare Discrimination]</td>\n",
       "      <td>[state, just, fair, assistance, care, alternat...</td>\n",
       "      <td>[a just state does not put those who can work ...</td>\n",
       "    </tr>\n",
       "    <tr>\n",
       "      <th>27</th>\n",
       "      <td>26</td>\n",
       "      <td>17</td>\n",
       "      <td>26_budget_budget law_law_contribution</td>\n",
       "      <td>[budget, budget law, law, contribution, budget...</td>\n",
       "      <td>[budgets, provisions, budget, proposed, propos...</td>\n",
       "      <td>[Government's budget law provisions]</td>\n",
       "      <td>[budget, law, budgets, provisions, contributio...</td>\n",
       "      <td>[So in short, I trust that we do not have to m...</td>\n",
       "    </tr>\n",
       "    <tr>\n",
       "      <th>28</th>\n",
       "      <td>27</td>\n",
       "      <td>17</td>\n",
       "      <td>27_government_level_reverse trend_reverse</td>\n",
       "      <td>[government, level, reverse trend, reverse, tr...</td>\n",
       "      <td>[government, bureaucracy, democracies, institu...</td>\n",
       "      <td>[Government's Ineffectiveness and Opposition A...</td>\n",
       "      <td>[government, trend, level, office, opposition,...</td>\n",
       "      <td>[The government is there, well, it's one of th...</td>\n",
       "    </tr>\n",
       "    <tr>\n",
       "      <th>29</th>\n",
       "      <td>28</td>\n",
       "      <td>17</td>\n",
       "      <td>28_credits_credit_companies_banks</td>\n",
       "      <td>[credits, credit, companies, banks, facilitate...</td>\n",
       "      <td>[credit, credits, banking, banks, loan, acquis...</td>\n",
       "      <td>[Facilitating credit acquisition and banks col...</td>\n",
       "      <td>[credit, credits, banks, actors, collapse, com...</td>\n",
       "      <td>[But it's obvious that for goodness' sake, if ...</td>\n",
       "    </tr>\n",
       "    <tr>\n",
       "      <th>30</th>\n",
       "      <td>29</td>\n",
       "      <td>16</td>\n",
       "      <td>29_putin_russia_values_christian</td>\n",
       "      <td>[putin, russia, values, christian, european, d...</td>\n",
       "      <td>[putinian, tsars, putin, russia, moscow, russi...</td>\n",
       "      <td>[Russia's place in European values]</td>\n",
       "      <td>[values, communist, system, figure, part, clos...</td>\n",
       "      <td>[Look, I thank you for this question because y...</td>\n",
       "    </tr>\n",
       "    <tr>\n",
       "      <th>31</th>\n",
       "      <td>30</td>\n",
       "      <td>15</td>\n",
       "      <td>30_thank_thank thank_thanks_thanks thank</td>\n",
       "      <td>[thank, thank thank, thanks, thanks thank, wel...</td>\n",
       "      <td>[welcome, thank, thanks, all, again, to, you, ...</td>\n",
       "      <td>[Gratitude and Appreciation]</td>\n",
       "      <td>[thanks, welcome, good, fight, work, , , , , ]</td>\n",
       "      <td>[Thank you very much., Thank you very much to,...</td>\n",
       "    </tr>\n",
       "    <tr>\n",
       "      <th>32</th>\n",
       "      <td>31</td>\n",
       "      <td>14</td>\n",
       "      <td>31_price_petrol_average_euro</td>\n",
       "      <td>[price, petrol, average, euro, price petrol, g...</td>\n",
       "      <td>[pricing, prices, euro, concessions, antitrust...</td>\n",
       "      <td>[High petrol price changes]</td>\n",
       "      <td>[price, petrol, average, euro, higher, gas, ch...</td>\n",
       "      <td>[what did we do first of all I wrote to the pr...</td>\n",
       "    </tr>\n",
       "    <tr>\n",
       "      <th>33</th>\n",
       "      <td>32</td>\n",
       "      <td>14</td>\n",
       "      <td>32_christmas_scene_make_period</td>\n",
       "      <td>[christmas, scene, make, period, family, gifts...</td>\n",
       "      <td>[nativity, christmas, holiday, celebrate, merr...</td>\n",
       "      <td>[Christmas nativity scene]</td>\n",
       "      <td>[nativity, scene, trees, gifts, period, family...</td>\n",
       "      <td>[I decided to make a nativity scene when in sc...</td>\n",
       "    </tr>\n",
       "    <tr>\n",
       "      <th>34</th>\n",
       "      <td>33</td>\n",
       "      <td>13</td>\n",
       "      <td>33_proud_nation_win_leadership</td>\n",
       "      <td>[proud, nation, win, leadership, didn, fought,...</td>\n",
       "      <td>[celebrated, celebrate, proud, celebration, pa...</td>\n",
       "      <td>[Prideful Battle for Leadership]</td>\n",
       "      <td>[proud, leadership, battle, 8th, deeds, confor...</td>\n",
       "      <td>[Then I am a non-conformist and so let's say m...</td>\n",
       "    </tr>\n",
       "    <tr>\n",
       "      <th>35</th>\n",
       "      <td>34</td>\n",
       "      <td>12</td>\n",
       "      <td>34_measures_measure_scams_free</td>\n",
       "      <td>[measures, measure, scams, free, threshold tho...</td>\n",
       "      <td>[measures, measure, threshold, thousand, usefu...</td>\n",
       "      <td>[Strengthening Measures against Scams]</td>\n",
       "      <td>[measures, measure, scams, quarter, paper, ele...</td>\n",
       "      <td>[It will probably be easier than what happens ...</td>\n",
       "    </tr>\n",
       "    <tr>\n",
       "      <th>36</th>\n",
       "      <td>35</td>\n",
       "      <td>12</td>\n",
       "      <td>35_morning_good_tired_purposes</td>\n",
       "      <td>[morning, good, tired, purposes, film, early m...</td>\n",
       "      <td>[morning, good, tired, day, now, am, up, early...</td>\n",
       "      <td>[Early morning film purposes]</td>\n",
       "      <td>[morning, good, tired, film, purposes, sorry, ...</td>\n",
       "      <td>[Good morning., Good morning., And now to work...</td>\n",
       "    </tr>\n",
       "    <tr>\n",
       "      <th>37</th>\n",
       "      <td>36</td>\n",
       "      <td>12</td>\n",
       "      <td>36_abolish_ninety_want abolish_intend</td>\n",
       "      <td>[abolish, ninety, want abolish, intend, law, m...</td>\n",
       "      <td>[abolish, ninety, hundred, law, change, conver...</td>\n",
       "      <td>[Intent to Modify Law]</td>\n",
       "      <td>[criticisms, specious, conversion, law, politi...</td>\n",
       "      <td>[In short, at the time of conversion, if anyon...</td>\n",
       "    </tr>\n",
       "  </tbody>\n",
       "</table>\n",
       "</div>"
      ],
      "text/plain": [
       "    Topic  Count                                               Name  \\\n",
       "0      -1    837                       -1_say_government_people_let   \n",
       "1       0    174                0_italy_italian_italians_government   \n",
       "2       1    145                        1_thank_ready_happy_reality   \n",
       "3       2    140            2_brothers_brothers italy_italy_italian   \n",
       "4       3    133                        3_yes_yes yes_okay_ve heard   \n",
       "5       4     72  4_immigration_people_international law_traffic...   \n",
       "6       5     65                        5_freedom_free_right_rights   \n",
       "7       6     61                  6_income_tax_thousand euros_euros   \n",
       "8       7     50                7_resources_supply_initiatives_fund   \n",
       "9       8     46       8_electoral_vote_electoral campaign_campaign   \n",
       "10      9     43                    9_bills_inflation_bank_increase   \n",
       "11     10     38                 10_wage_minimum wage_minimum_wages   \n",
       "12     11     36              11_safety_emergency_defend_especially   \n",
       "13     12     35                    12_wine_talk_violation_violence   \n",
       "14     13     31        13_european_europe_european council_council   \n",
       "15     14     28               14_thank thank_thank_thank good_luck   \n",
       "16     15     28                        15_news_tell_anymore_making   \n",
       "17     16     26                16_transition_water_climate_problem   \n",
       "18     17     25                        17_work_training_job_hiring   \n",
       "19     18     21         18_left_comparison_left wing_authoritarian   \n",
       "20     19     21          19_pension_percent_leave_single allowance   \n",
       "21     20     21                  20_alternative_woman_apply_ninety   \n",
       "22     21     19                  21_young_young people_sports_kids   \n",
       "23     22     19                        22_meloni_shivers_laugh_let   \n",
       "24     23     18                         23_thinks_don need_don_use   \n",
       "25     24     17    24_ministers_council ministers_minister_council   \n",
       "26     25     17                25_state_just state_work_work level   \n",
       "27     26     17              26_budget_budget law_law_contribution   \n",
       "28     27     17          27_government_level_reverse trend_reverse   \n",
       "29     28     17                  28_credits_credit_companies_banks   \n",
       "30     29     16                   29_putin_russia_values_christian   \n",
       "31     30     15           30_thank_thank thank_thanks_thanks thank   \n",
       "32     31     14                       31_price_petrol_average_euro   \n",
       "33     32     14                     32_christmas_scene_make_period   \n",
       "34     33     13                     33_proud_nation_win_leadership   \n",
       "35     34     12                     34_measures_measure_scams_free   \n",
       "36     35     12                     35_morning_good_tired_purposes   \n",
       "37     36     12              36_abolish_ninety_want abolish_intend   \n",
       "\n",
       "                                       Representation  \\\n",
       "0   [say, government, people, let, obviously, want...   \n",
       "1   [italy, italian, italians, government, nation,...   \n",
       "2   [thank, ready, happy, reality, good, president...   \n",
       "3   [brothers, brothers italy, italy, italian, wor...   \n",
       "4   [yes, yes yes, okay, ve heard, ve, look, heard...   \n",
       "5   [immigration, people, international law, traff...   \n",
       "6   [freedom, free, right, rights, liberal, love, ...   \n",
       "7   [income, tax, thousand euros, euros, citizen i...   \n",
       "8   [resources, supply, initiatives, fund, used, h...   \n",
       "9   [electoral, vote, electoral campaign, campaign...   \n",
       "10  [bills, inflation, bank, increase, energy, mat...   \n",
       "11  [wage, minimum wage, minimum, wages, parameter...   \n",
       "12  [safety, emergency, defend, especially, lives,...   \n",
       "13  [wine, talk, violation, violence, literature, ...   \n",
       "14  [european, europe, european council, council, ...   \n",
       "15  [thank thank, thank, thank good, luck, good lu...   \n",
       "16  [news, tell, anymore, making, need, internatio...   \n",
       "17  [transition, water, climate, problem, green, e...   \n",
       "18  [work, training, job, hiring, benefit, able, a...   \n",
       "19  [left, comparison, left wing, authoritarian, w...   \n",
       "20  [pension, percent, leave, single allowance, pe...   \n",
       "21  [alternative, woman, apply, ninety, women, mot...   \n",
       "22  [young, young people, sports, kids, play, nati...   \n",
       "23  [meloni, shivers, laugh, let, steal, nazis, he...   \n",
       "24  [thinks, don need, don, use, tones, speaking, ...   \n",
       "25  [ministers, council ministers, minister, counc...   \n",
       "26  [state, just state, work, work level, just, st...   \n",
       "27  [budget, budget law, law, contribution, budget...   \n",
       "28  [government, level, reverse trend, reverse, tr...   \n",
       "29  [credits, credit, companies, banks, facilitate...   \n",
       "30  [putin, russia, values, christian, european, d...   \n",
       "31  [thank, thank thank, thanks, thanks thank, wel...   \n",
       "32  [price, petrol, average, euro, price petrol, g...   \n",
       "33  [christmas, scene, make, period, family, gifts...   \n",
       "34  [proud, nation, win, leadership, didn, fought,...   \n",
       "35  [measures, measure, scams, free, threshold tho...   \n",
       "36  [morning, good, tired, purposes, film, early m...   \n",
       "37  [abolish, ninety, want abolish, intend, law, m...   \n",
       "\n",
       "                                              KeyBERT  \\\n",
       "0   [government, political, support, culture, pres...   \n",
       "1   [italians, italian, italy, europe, citizens, g...   \n",
       "2   [ourselves, merits, greetings, we, advantage, ...   \n",
       "3   [italians, italian, italy, francesco, election...   \n",
       "4   [yes, more, mainly, seems, absolutely, probabl...   \n",
       "5   [immigration, migrants, refugees, immigrants, ...   \n",
       "6   [freedom, rights, totalitarianisms, democracy,...   \n",
       "7   [income, taxes, tax, taxation, incomes, earner...   \n",
       "8   [initiatives, organizations, projects, fund, f...   \n",
       "9   [electoral, elections, ballots, election, voti...   \n",
       "10  [inflation, currency, expenditure, economic, e...   \n",
       "11  [wages, wage, bargaining, minimum, incomes, co...   \n",
       "12  [safety, protection, emergencies, risk, defend...   \n",
       "13  [rape, crime, rapist, raped, violence, rapes, ...   \n",
       "14  [europeanism, europe, eu, european, departures...   \n",
       "15                          [thank, , , , , , , , , ]   \n",
       "16  [falsehoods, accusations, misrepresented, misr...   \n",
       "17  [desalination, sustainability, infrastructure,...   \n",
       "18  [employment, labor, incentive, voluntary, hiri...   \n",
       "19  [left, ideological, political, politics, contr...   \n",
       "20  [allowance, pensions, pension, compulsory, ret...   \n",
       "21  [abortion, abortions, motherhood, abort, wombs...   \n",
       "22  [sports, athletes, sport, sporting, youth, com...   \n",
       "23  [meloni, politics, feminists, stereotypes, rea...   \n",
       "24  [tones, mentality, speaking, interlocution, un...   \n",
       "25  [ministers, meetings, memorandum, minister, me...   \n",
       "26  [states, welfare, state, workers, discriminati...   \n",
       "27  [budgets, provisions, budget, proposed, propos...   \n",
       "28  [government, bureaucracy, democracies, institu...   \n",
       "29  [credit, credits, banking, banks, loan, acquis...   \n",
       "30  [putinian, tsars, putin, russia, moscow, russi...   \n",
       "31  [welcome, thank, thanks, all, again, to, you, ...   \n",
       "32  [pricing, prices, euro, concessions, antitrust...   \n",
       "33  [nativity, christmas, holiday, celebrate, merr...   \n",
       "34  [celebrated, celebrate, proud, celebration, pa...   \n",
       "35  [measures, measure, threshold, thousand, usefu...   \n",
       "36  [morning, good, tired, day, now, am, up, early...   \n",
       "37  [abolish, ninety, hundred, law, change, conver...   \n",
       "\n",
       "                                               OpenAI  \\\n",
       "0              [Government efforts and public belief]   \n",
       "1                            [Italy's Role in Europe]   \n",
       "2   [Recognition of Women's Underestimated Advantage]   \n",
       "3                       [Brothers of Italy elections]   \n",
       "4                              [Echoes and Confusion]   \n",
       "5     [Combating Illegal Immigration and Trafficking]   \n",
       "6                    [Celebrating Freedom and Rights]   \n",
       "7                           [Tax cuts and guarantees]   \n",
       "8               [Development initiatives and funding]   \n",
       "9                   [\"Electoral Campaign and Voting\"]   \n",
       "10                       [Rising Bills and Inflation]   \n",
       "11                      [Minimum wage and bargaining]   \n",
       "12                     [Safety and Emergency Defense]   \n",
       "13                     [Youthful Deviance in Society]   \n",
       "14                  [Europe's Response to Departures]   \n",
       "15                     [Expressing gratitude in work]   \n",
       "16        [False Conspiracy Theories and Shipwrecked]   \n",
       "17    [Ecological Sustainability and Water Solutions]   \n",
       "18               [Employment Assistance and Training]   \n",
       "19                         [Left vs Right Leadership]   \n",
       "20            [Parental leave and pension allowances]   \n",
       "21                        [Abortion and Alternatives]   \n",
       "22                [Investing in Youth through Sports]   \n",
       "23                      [Meloni's Impact on Feminism]   \n",
       "24         [Assumed Responsibilities and Abandonment]   \n",
       "25              [Ministers' Convened Council Meeting]   \n",
       "26                [Just State Welfare Discrimination]   \n",
       "27               [Government's budget law provisions]   \n",
       "28  [Government's Ineffectiveness and Opposition A...   \n",
       "29  [Facilitating credit acquisition and banks col...   \n",
       "30                [Russia's place in European values]   \n",
       "31                       [Gratitude and Appreciation]   \n",
       "32                        [High petrol price changes]   \n",
       "33                         [Christmas nativity scene]   \n",
       "34                   [Prideful Battle for Leadership]   \n",
       "35             [Strengthening Measures against Scams]   \n",
       "36                      [Early morning film purposes]   \n",
       "37                             [Intent to Modify Law]   \n",
       "\n",
       "                                                  POS  \\\n",
       "0   [government, people, culture, first, thing, po...   \n",
       "1   [government, great, nation, problem, left, onl...   \n",
       "2   [ready, happy, reality, evening, goals, determ...   \n",
       "3   [brothers, cross, world, party, elections, cen...   \n",
       "4   [fine, echo, professionalism, bit, question, m...   \n",
       "5   [immigration, traffickers, trafficking, illega...   \n",
       "6   [freedom, free, rights, liberal, right, love, ...   \n",
       "7   [income, tax, citizen, euros, citizenship, fla...   \n",
       "8   [resources, funds, supply, initiatives, fund, ...   \n",
       "9   [electoral, campaign, elections, promise, elec...   \n",
       "10  [bills, inflation, bank, materials, prices, in...   \n",
       "11  [wage, minimum, wages, parameter, legal, subst...   \n",
       "12  [safety, emergency, alternation, emergencies, ...   \n",
       "13  [rape, wine, adolescence, lady, site, behavior...   \n",
       "14  [witch, departures, humanity, addition, availa...   \n",
       "15                       [luck, work, , , , , , , , ]   \n",
       "16  [fake, conspiracy, news, dog, theories, journa...   \n",
       "17  [ecological, sustainability, transition, clima...   \n",
       "18  [training, work, hiring, benefit, job, able, s...   \n",
       "19  [left, comparison, authoritarian, wing, leader...   \n",
       "20  [pension, pensions, allowance, leave, percent,...   \n",
       "21  [abortion, alternative, woman, mothers, pregna...   \n",
       "22  [sport, sports, youth, sporting, young, kids, ...   \n",
       "23  [shivers, stereotypes, horrible, joker, stump,...   \n",
       "24  [tones, gods, mentality, acoustic, bounds, unp...   \n",
       "25  [ministers, minister, council, memorandum, gro...   \n",
       "26  [state, just, fair, assistance, care, alternat...   \n",
       "27  [budget, law, budgets, provisions, contributio...   \n",
       "28  [government, trend, level, office, opposition,...   \n",
       "29  [credit, credits, banks, actors, collapse, com...   \n",
       "30  [values, communist, system, figure, part, clos...   \n",
       "31     [thanks, welcome, good, fight, work, , , , , ]   \n",
       "32  [price, petrol, average, euro, higher, gas, ch...   \n",
       "33  [nativity, scene, trees, gifts, period, family...   \n",
       "34  [proud, leadership, battle, 8th, deeds, confor...   \n",
       "35  [measures, measure, scams, quarter, paper, ele...   \n",
       "36  [morning, good, tired, film, purposes, sorry, ...   \n",
       "37  [criticisms, specious, conversion, law, politi...   \n",
       "\n",
       "                                  Representative_Docs  \n",
       "0   [We have started important work to make the pl...  \n",
       "1   [I can speak very badly about Italy, but I do ...  \n",
       "2   [It's the reason we are here today, so thank y...  \n",
       "3   [Then even funnier than this is the reason why...  \n",
       "4   [No, I mean okay, things will be fine anyway.,...  \n",
       "5   [The route is not covered by non-governmental ...  \n",
       "6   [A great Italian liberal philosopher, Benedett...  \n",
       "7   [So today and until the end of this year, we h...  \n",
       "8   [For this reason, the objective of our work mu...  \n",
       "9   [That is, I even realized the law because I am...  \n",
       "10  [then in the midst of an international crisis ...  \n",
       "11  [For this reason, in the next few days we will...  \n",
       "12  [We want to defend people who keep our beaches...  \n",
       "13  [Widespread petty crime, violence, open-air dr...  \n",
       "14  [The only way to seriously deal with this matt...  \n",
       "15               [Thank you., Thank you., Thank you.]  \n",
       "16  [For days I have been hearing total lies, fake...  \n",
       "17  [We must defend our lands from climate change ...  \n",
       "18  [A virtuous mechanism that can push companies ...  \n",
       "19  [And it is also due to this political weakness...  \n",
       "20  [Parents know this well, we will increase the ...  \n",
       "21  [I do not want to abolish the one hundred and ...  \n",
       "22  [Investing in young people means investing in ...  \n",
       "23  [And therefore the shivers are not derived fro...  \n",
       "24  [So I have decided that in the meantime I will...  \n",
       "25  [The Standing memorandum, that is the memorand...  \n",
       "26  [a just state does not put those who can work ...  \n",
       "27  [So in short, I trust that we do not have to m...  \n",
       "28  [The government is there, well, it's one of th...  \n",
       "29  [But it's obvious that for goodness' sake, if ...  \n",
       "30  [Look, I thank you for this question because y...  \n",
       "31  [Thank you very much., Thank you very much to,...  \n",
       "32  [what did we do first of all I wrote to the pr...  \n",
       "33  [I decided to make a nativity scene when in sc...  \n",
       "34  [Then I am a non-conformist and so let's say m...  \n",
       "35  [It will probably be easier than what happens ...  \n",
       "36  [Good morning., Good morning., And now to work...  \n",
       "37  [In short, at the time of conversion, if anyon...  "
      ]
     },
     "execution_count": 254,
     "metadata": {},
     "output_type": "execute_result"
    }
   ],
   "source": [
    "topic_model.update_topics(docs, vectorizer_model=vectorizer_model)\n",
    "topic_model.get_topic_info()"
   ]
  },
  {
   "cell_type": "code",
   "execution_count": 250,
   "metadata": {},
   "outputs": [
    {
     "data": {
      "application/vnd.plotly.v1+json": {
       "config": {
        "plotlyServerURL": "https://plot.ly"
       },
       "data": [
        {
         "marker": {
          "color": "#D55E00"
         },
         "orientation": "h",
         "type": "bar",
         "x": [
          0.15777552191914385,
          0.159305872577495,
          0.1600775124936296,
          0.16445781606853294,
          0.17160440929612458,
          0.1829861252822071,
          0.19882690593124117,
          0.22441936465743403,
          0.24252601080784333,
          0.24339857632819867
         ],
         "xaxis": "x",
         "y": [
          "europe  ",
          "knows  ",
          "problem  ",
          "nation  ",
          "great  ",
          "how  ",
          "government  ",
          "italians  ",
          "italy  ",
          "italian  "
         ],
         "yaxis": "y"
        },
        {
         "marker": {
          "color": "#0072B2"
         },
         "orientation": "h",
         "type": "bar",
         "x": [
          0.24312100202750023,
          0.24450801698439936,
          0.24667098225147444,
          0.2488065268122329,
          0.26270921854575824,
          0.2642710596434742,
          0.27605996822345036,
          0.2811299636222568,
          0.28907810570816744,
          0.32063049053424664
         ],
         "xaxis": "x2",
         "y": [
          "determination  ",
          "goals  ",
          "you  ",
          "evening  ",
          "wait  ",
          "here  ",
          "reality  ",
          "happy  ",
          "ready  ",
          "thank  "
         ],
         "yaxis": "y2"
        },
        {
         "marker": {
          "color": "#CC79A7"
         },
         "orientation": "h",
         "type": "bar",
         "x": [
          0.20396712025526711,
          0.2073145812689375,
          0.2099966096237163,
          0.2135869131688076,
          0.21612232424268546,
          0.22651157747808007,
          0.2337319191710106,
          0.23909807836249589,
          0.309536621368204,
          0.4849390401273735
         ],
         "xaxis": "x3",
         "y": [
          "symbol  ",
          "centre  ",
          "govern  ",
          "elections  ",
          "party  ",
          "world  ",
          "cross  ",
          "italian  ",
          "italy  ",
          "brothers  "
         ],
         "yaxis": "y3"
        },
        {
         "marker": {
          "color": "#E69F00"
         },
         "orientation": "h",
         "type": "bar",
         "x": [
          0.37599000941404154,
          0.3898986742213615,
          0.4014072236201765,
          0.4207992191431173,
          0.4319888070742821,
          0.453610240262532,
          0.4574810649812948,
          0.48541658869634535,
          0.6300784973118377,
          0.6469605496646341
         ],
         "xaxis": "x4",
         "y": [
          "perfect  ",
          "look  ",
          "no  ",
          "heard  ",
          "why  ",
          "ve  ",
          "too  ",
          "okay  ",
          "hi  ",
          "yes  "
         ],
         "yaxis": "y4"
        },
        {
         "marker": {
          "color": "#56B4E9"
         },
         "orientation": "h",
         "type": "bar",
         "x": [
          0.23095417707277976,
          0.23191945903048572,
          0.23647178179214218,
          0.2395559638166794,
          0.2670359796274827,
          0.2680230331757958,
          0.28344643889136,
          0.2932937738545338,
          0.30047063341369273,
          0.35826636173118015
         ],
         "xaxis": "x5",
         "y": [
          "raves  ",
          "international  ",
          "sea  ",
          "human  ",
          "illegal  ",
          "moved  ",
          "trafficking  ",
          "traffickers  ",
          "migration  ",
          "immigration  "
         ],
         "yaxis": "y5"
        },
        {
         "marker": {
          "color": "#009E73"
         },
         "orientation": "h",
         "type": "bar",
         "x": [
          0.265505883804392,
          0.2703959438231559,
          0.2905944607991026,
          0.2905944607991026,
          0.31629855240195814,
          0.33517237268934774,
          0.33917746825809864,
          0.3604381105160764,
          0.3723134478664255,
          0.6268948470683509
         ],
         "xaxis": "x6",
         "y": [
          "viva  ",
          "extent  ",
          "restore  ",
          "religious  ",
          "love  ",
          "right  ",
          "liberal  ",
          "rights  ",
          "free  ",
          "freedom  "
         ],
         "yaxis": "y6"
        },
        {
         "marker": {
          "color": "#F0E442"
         },
         "orientation": "h",
         "type": "bar",
         "x": [
          0.2710706619641118,
          0.2729262553099061,
          0.27770104894398284,
          0.28621741835983033,
          0.2891277345397113,
          0.2958368488378475,
          0.300889439826303,
          0.31675128481316456,
          0.4603658198790538,
          0.49341656467337613
         ],
         "xaxis": "x7",
         "y": [
          "dependent  ",
          "cut  ",
          "incomes  ",
          "flat  ",
          "thousand  ",
          "citizenship  ",
          "euros  ",
          "citizen  ",
          "tax  ",
          "income  "
         ],
         "yaxis": "y7"
        },
        {
         "marker": {
          "color": "#D55E00"
         },
         "orientation": "h",
         "type": "bar",
         "x": [
          0.24642752466290593,
          0.24835502907848697,
          0.2593925575706383,
          0.2593925575706383,
          0.2656788938169112,
          0.27798547466202655,
          0.2998380719627669,
          0.306849958123708,
          0.3881379070392818,
          0.42367829365087745
         ],
         "xaxis": "x8",
         "y": [
          "associations  ",
          "help  ",
          "projects  ",
          "chain  ",
          "used  ",
          "fund  ",
          "initiatives  ",
          "supply  ",
          "funds  ",
          "resources  "
         ],
         "yaxis": "y8"
        },
        {
         "marker": {
          "color": "#0072B2"
         },
         "orientation": "h",
         "type": "bar",
         "x": [
          0.28911194046598204,
          0.29873158560907576,
          0.2989054650411606,
          0.3015685333028936,
          0.3082973342311715,
          0.3245174585421267,
          0.3825525867877337,
          0.40940733343614827,
          0.5359500098459108,
          0.5622351824470352
         ],
         "xaxis": "x9",
         "y": [
          "filling  ",
          "last  ",
          "election  ",
          "fifty  ",
          "promise  ",
          "requires  ",
          "elections  ",
          "campaign  ",
          "electoral  ",
          "vote  "
         ],
         "yaxis": "y9"
        },
        {
         "marker": {
          "color": "#CC79A7"
         },
         "orientation": "h",
         "type": "bar",
         "x": [
          0.30028550943559906,
          0.3095524242168846,
          0.3227167703273401,
          0.32357177299549406,
          0.3270424286207447,
          0.3283902088753583,
          0.33690401799812847,
          0.3847884523406921,
          0.4891176712870502,
          0.49836978946714033
         ],
         "xaxis": "x10",
         "y": [
          "mortgages  ",
          "cost  ",
          "midst  ",
          "energy  ",
          "increase  ",
          "prices  ",
          "materials  ",
          "bank  ",
          "inflation  ",
          "bills  "
         ],
         "yaxis": "y10"
        },
        {
         "marker": {
          "color": "#E69F00"
         },
         "orientation": "h",
         "type": "bar",
         "x": [
          0.268177574265495,
          0.27996717435970947,
          0.27996717435970947,
          0.29781525592510677,
          0.29781525592510677,
          0.3135881452237192,
          0.326585923062911,
          0.40439899364552007,
          0.47484366293262337,
          0.5163583234753742
         ],
         "xaxis": "x11",
         "y": [
          "purchasing  ",
          "earn  ",
          "collective  ",
          "bargaining  ",
          "substitute  ",
          "legal  ",
          "parameter  ",
          "wages  ",
          "minimum  ",
          "wage  "
         ],
         "yaxis": "y11"
        },
        {
         "marker": {
          "color": "#56B4E9"
         },
         "orientation": "h",
         "type": "bar",
         "x": [
          0.32392011231681117,
          0.32392011231681117,
          0.32392011231681117,
          0.3255478581703393,
          0.33316098250270254,
          0.3423586599469225,
          0.3454153673839178,
          0.3454153673839178,
          0.4893598179982975,
          0.5132449070555494
         ],
         "xaxis": "x12",
         "y": [
          "participate  ",
          "animals  ",
          "tightening  ",
          "lives  ",
          "especially  ",
          "defend  ",
          "alternation  ",
          "emergencies  ",
          "emergency  ",
          "safety  "
         ],
         "yaxis": "y12"
        },
        {
         "marker": {
          "color": "#009E73"
         },
         "orientation": "h",
         "type": "bar",
         "x": [
          0.37464772275269853,
          0.38533576230243605,
          0.39597384489769216,
          0.3995092489582819,
          0.3995092489582819,
          0.3995092489582819,
          0.3995092489582819,
          0.4588478770199055,
          0.5021228645751801,
          0.6904768218520059
         ],
         "xaxis": "x13",
         "y": [
          "literature  ",
          "alone  ",
          "she  ",
          "condemnation  ",
          "lady  ",
          "site  ",
          "behaviors  ",
          "adolescence  ",
          "wine  ",
          "rape  "
         ],
         "yaxis": "y13"
        },
        {
         "marker": {
          "color": "#F0E442"
         },
         "orientation": "h",
         "type": "bar",
         "x": [
          0.31290168480502184,
          0.31290168480502184,
          0.31290168480502184,
          0.3373461369875925,
          0.342468856343823,
          0.3554565966892488,
          0.35752444356835167,
          0.395448972798339,
          0.40724075200779075,
          0.4556179814189381
         ],
         "xaxis": "x14",
         "y": [
          "acts  ",
          "yn  ",
          "declaring  ",
          "union  ",
          "departures  ",
          "council  ",
          "commission  ",
          "witch  ",
          "europe  ",
          "european  "
         ],
         "yaxis": "y14"
        },
        {
         "marker": {
          "color": "#D55E00"
         },
         "orientation": "h",
         "type": "bar",
         "x": [
          0.00001,
          0.00001,
          0.00001,
          0.00001,
          0.3742440268156742,
          0.38731851057589367,
          0.7712757512035646,
          0.8794861277292505,
          1.1424142300854978,
          1.8261923675121599
         ],
         "xaxis": "x15",
         "y": [
          "  ",
          "  ",
          "  ",
          "  ",
          "then  ",
          "work  ",
          "you  ",
          "good  ",
          "luck  ",
          "thank  "
         ],
         "yaxis": "y15"
        },
        {
         "marker": {
          "color": "#0072B2"
         },
         "orientation": "h",
         "type": "bar",
         "x": [
          0.3480782175726344,
          0.34848527066631174,
          0.35800827594449375,
          0.371176598270619,
          0.371176598270619,
          0.371176598270619,
          0.38090626644920017,
          0.4263070118152097,
          0.4454119179247427,
          0.5043978871440171
         ],
         "xaxis": "x16",
         "y": [
          "shipwrecked  ",
          "journalism  ",
          "anymore  ",
          "theories  ",
          "dog  ",
          "george  ",
          "news  ",
          "invent  ",
          "conspiracy  ",
          "fake  "
         ],
         "yaxis": "y16"
        },
        {
         "marker": {
          "color": "#CC79A7"
         },
         "orientation": "h",
         "type": "bar",
         "x": [
          0.3512387119620658,
          0.3512387119620658,
          0.3512387119620658,
          0.37454682225218056,
          0.37454682225218056,
          0.40761360604950875,
          0.4214864543544789,
          0.43758845347351877,
          0.5162133733316732,
          0.6107732868744056
         ],
         "xaxis": "x17",
         "y": [
          "weather  ",
          "electric  ",
          "events  ",
          "drought  ",
          "desalination  ",
          "water  ",
          "climate  ",
          "transition  ",
          "sustainability  ",
          "ecological  "
         ],
         "yaxis": "y17"
        },
        {
         "marker": {
          "color": "#E69F00"
         },
         "orientation": "h",
         "type": "bar",
         "x": [
          0.3096208305655636,
          0.3096208305655636,
          0.31838070893185183,
          0.3199228696793757,
          0.32916498040395586,
          0.3613658382331401,
          0.3677187367034899,
          0.3772521729952764,
          0.38569295355995775,
          0.44821921099128315
         ],
         "xaxis": "x18",
         "y": [
          "chooses  ",
          "service  ",
          "create  ",
          "able  ",
          "job  ",
          "participating  ",
          "benefit  ",
          "hiring  ",
          "work  ",
          "training  "
         ],
         "yaxis": "y18"
        },
        {
         "marker": {
          "color": "#56B4E9"
         },
         "orientation": "h",
         "type": "bar",
         "x": [
          0.3350156239152008,
          0.34160250255663865,
          0.35126033195425854,
          0.37055252230140995,
          0.38884675636107646,
          0.4103086672261956,
          0.41465052677291026,
          0.4222875174628245,
          0.45383230126986923,
          0.5475433711597547
         ],
         "xaxis": "x19",
         "y": [
          "got  ",
          "center  ",
          "difference  ",
          "leadership  ",
          "allied  ",
          "wing  ",
          "lacking  ",
          "authoritarian  ",
          "comparison  ",
          "left  "
         ],
         "yaxis": "y19"
        },
        {
         "marker": {
          "color": "#009E73"
         },
         "orientation": "h",
         "type": "bar",
         "x": [
          0.4037207709414991,
          0.4037207709414991,
          0.4073417984168567,
          0.4293824511990885,
          0.4418697546890381,
          0.44571264625668366,
          0.46394920671823753,
          0.4716727984211292,
          0.5027104899362634,
          0.5268594466612133
         ],
         "xaxis": "x20",
         "y": [
          "revalue  ",
          "optional  ",
          "disabled  ",
          "single  ",
          "parental  ",
          "percent  ",
          "leave  ",
          "allowance  ",
          "pensions  ",
          "pension  "
         ],
         "yaxis": "y20"
        },
        {
         "marker": {
          "color": "#F0E442"
         },
         "orientation": "h",
         "type": "bar",
         "x": [
          0.36588197490963553,
          0.36588197490963553,
          0.36588197490963553,
          0.36588197490963553,
          0.38562541144948576,
          0.45828175362422113,
          0.48858128695085834,
          0.5208351289011267,
          0.5684026398010923,
          0.8103814640719996
         ],
         "xaxis": "x21",
         "y": [
          "pregnant  ",
          "pregnancy  ",
          "aborts  ",
          "abort  ",
          "mothers  ",
          "apply  ",
          "she  ",
          "woman  ",
          "alternative  ",
          "abortion  "
         ],
         "yaxis": "y21"
        },
        {
         "marker": {
          "color": "#D55E00"
         },
         "orientation": "h",
         "type": "bar",
         "x": [
          0.4076673043605537,
          0.4291154766930525,
          0.45403332358791976,
          0.46397137422729956,
          0.46821763857537335,
          0.46821763857537335,
          0.46821763857537335,
          0.46821763857537335,
          0.4794035798085474,
          0.6421000839873683
         ],
         "xaxis": "x22",
         "y": [
          "alcohol  ",
          "play  ",
          "kids  ",
          "young  ",
          "sporting  ",
          "iceland  ",
          "youth  ",
          "desperately  ",
          "sports  ",
          "sport  "
         ],
         "yaxis": "y22"
        },
        {
         "marker": {
          "color": "#0072B2"
         },
         "orientation": "h",
         "type": "bar",
         "x": [
          0.3735944460971746,
          0.3735944460971746,
          0.3735944460971746,
          0.3735944460971746,
          0.4103935108919158,
          0.4103935108919158,
          0.44778967665600533,
          0.47750488404863534,
          0.5945859898346226,
          0.8788629344493045
         ],
         "xaxis": "x23",
         "y": [
          "runs  ",
          "stereotypes  ",
          "supposed  ",
          "raises  ",
          "nazis  ",
          "steal  ",
          "laugh  ",
          "derived  ",
          "shivers  ",
          "meloni  "
         ],
         "yaxis": "y23"
        },
        {
         "marker": {
          "color": "#CC79A7"
         },
         "orientation": "h",
         "type": "bar",
         "x": [
          0.3896818484518306,
          0.3896818484518306,
          0.3896818484518306,
          0.3896818484518306,
          0.3896818484518306,
          0.39224230533133936,
          0.42832586771250464,
          0.445097480237832,
          0.4670720101432454,
          0.5072401310109165
         ],
         "xaxis": "x24",
         "y": [
          "acoustic  ",
          "mentality  ",
          "interlocution  ",
          "gods  ",
          "leaned  ",
          "allowed  ",
          "use  ",
          "speaking  ",
          "tones  ",
          "thinks  "
         ],
         "yaxis": "y24"
        },
        {
         "marker": {
          "color": "#E69F00"
         },
         "orientation": "h",
         "type": "bar",
         "x": [
          0.33772206780476755,
          0.33772206780476755,
          0.3487543926665313,
          0.37121333290949904,
          0.3857486357083773,
          0.4047931041848485,
          0.4047931041848485,
          0.4246646930723589,
          0.44524207474140504,
          0.4960508395260801
         ],
         "xaxis": "x25",
         "y": [
          "personnel  ",
          "arise  ",
          "worked  ",
          "decree  ",
          "group  ",
          "convene  ",
          "memorandum  ",
          "council  ",
          "minister  ",
          "ministers  "
         ],
         "yaxis": "y25"
        },
        {
         "marker": {
          "color": "#56B4E9"
         },
         "orientation": "h",
         "type": "bar",
         "x": [
          0.39869231101837077,
          0.39869231101837077,
          0.39869231101837077,
          0.40374361765593575,
          0.41168873867961,
          0.4204782102297067,
          0.4204782102297067,
          0.45071069039513006,
          0.4809923260861497,
          0.6409249943572789
         ],
         "xaxis": "x26",
         "y": [
          "ends  ",
          "welfare  ",
          "alternatives  ",
          "care  ",
          "assistance  ",
          "stay  ",
          "fair  ",
          "just  ",
          "create  ",
          "state  "
         ],
         "yaxis": "y26"
        },
        {
         "marker": {
          "color": "#009E73"
         },
         "orientation": "h",
         "type": "bar",
         "x": [
          0.3486442978198456,
          0.3486442978198456,
          0.3486442978198456,
          0.3486442978198456,
          0.3486442978198456,
          0.3671121814911503,
          0.4178844707667333,
          0.4178844707667333,
          0.48183456888447945,
          0.7450336000578053
         ],
         "xaxis": "x27",
         "y": [
          "bolt  ",
          "benefited  ",
          "schedule  ",
          "accelerated  ",
          "follows  ",
          "contribution  ",
          "budgets  ",
          "provisions  ",
          "law  ",
          "budget  "
         ],
         "yaxis": "y27"
        },
        {
         "marker": {
          "color": "#F0E442"
         },
         "orientation": "h",
         "type": "bar",
         "x": [
          0.3995092489582819,
          0.3995092489582819,
          0.3995092489582819,
          0.41322943380292565,
          0.43477983510529755,
          0.44053676968404454,
          0.4420429099267588,
          0.48558415058058707,
          0.5049046706873243,
          0.6410940945521973
         ],
         "xaxis": "x28",
         "y": [
          "direction  ",
          "porro  ",
          "situations  ",
          "opposition  ",
          "office  ",
          "level  ",
          "realizing  ",
          "trend  ",
          "reverse  ",
          "government  "
         ],
         "yaxis": "y28"
        },
        {
         "marker": {
          "color": "#D55E00"
         },
         "orientation": "h",
         "type": "bar",
         "x": [
          0.3112487261159912,
          0.3492990419272292,
          0.350910440691259,
          0.3621470197014012,
          0.3621470197014012,
          0.3621470197014012,
          0.3716399951475196,
          0.3963675546929248,
          0.5503599384293341,
          0.5601072241195978
         ],
         "xaxis": "x29",
         "y": [
          "regulations  ",
          "hands  ",
          "companies  ",
          "actors  ",
          "acquire  ",
          "collapse  ",
          "banks  ",
          "facilitate  ",
          "credits  ",
          "credit  "
         ],
         "yaxis": "y29"
        },
        {
         "marker": {
          "color": "#0072B2"
         },
         "orientation": "h",
         "type": "bar",
         "x": [
          0.42544176429888064,
          0.43229879445714997,
          0.4536739699942776,
          0.45722251264021113,
          0.5210576189008433,
          0.5210576189008433,
          0.5514187467114139,
          0.61588611970474,
          0.6684127622805428,
          0.6704456700755159
         ],
         "xaxis": "x30",
         "y": [
          "defends  ",
          "part  ",
          "figure  ",
          "system  ",
          "communist  ",
          "dostoievski  ",
          "christian  ",
          "values  ",
          "russia  ",
          "putin  "
         ],
         "yaxis": "y30"
        },
        {
         "marker": {
          "color": "#CC79A7"
         },
         "orientation": "h",
         "type": "bar",
         "x": [
          0.44456315028212684,
          0.48098167432377026,
          0.5018194215139082,
          0.5617599582425341,
          0.5779356115538942,
          0.6032453422245794,
          0.6704886245896661,
          0.8712050069140589,
          1.0382461334860256,
          1.2490448662244835
         ],
         "xaxis": "x31",
         "y": [
          "again  ",
          "all  ",
          "fight  ",
          "very  ",
          "good  ",
          "you  ",
          "much  ",
          "welcome  ",
          "thanks  ",
          "thank  "
         ],
         "yaxis": "y31"
        },
        {
         "marker": {
          "color": "#E69F00"
         },
         "orientation": "h",
         "type": "bar",
         "x": [
          0.3232801578952477,
          0.33726359393783095,
          0.3454371220258228,
          0.34869339617467077,
          0.3506827058263787,
          0.39800730357463737,
          0.41813338519937054,
          0.4757097159564457,
          0.5197371590333026,
          0.5895549412677037
         ],
         "xaxis": "x32",
         "y": [
          "changes  ",
          "communicate  ",
          "gas  ",
          "higher  ",
          "march  ",
          "eight  ",
          "euro  ",
          "average  ",
          "petrol  ",
          "price  "
         ],
         "yaxis": "y32"
        },
        {
         "marker": {
          "color": "#56B4E9"
         },
         "orientation": "h",
         "type": "bar",
         "x": [
          0.45182546250451694,
          0.4566098147502185,
          0.505955919169505,
          0.5087589607509954,
          0.5693043721997514,
          0.653862465620374,
          0.653862465620374,
          0.7485053635099632,
          0.8199465440160222,
          0.9688318246853176
         ],
         "xaxis": "x33",
         "y": [
          "family  ",
          "make  ",
          "period  ",
          "gifts  ",
          "ginevra  ",
          "trees  ",
          "merry  ",
          "scene  ",
          "nativity  ",
          "christmas  "
         ],
         "yaxis": "y33"
        },
        {
         "marker": {
          "color": "#009E73"
         },
         "orientation": "h",
         "type": "bar",
         "x": [
          0.41825535556326643,
          0.41825535556326643,
          0.41825535556326643,
          0.4210035585057387,
          0.4319184513382631,
          0.4319184513382631,
          0.4445281933600311,
          0.4777343507191882,
          0.4777343507191882,
          0.5229199025528724
         ],
         "xaxis": "x34",
         "y": [
          "patience  ",
          "conformism  ",
          "waited  ",
          "celebrate  ",
          "lead  ",
          "battle  ",
          "fought  ",
          "leadership  ",
          "win  ",
          "proud  "
         ],
         "yaxis": "y34"
        },
        {
         "marker": {
          "color": "#F0E442"
         },
         "orientation": "h",
         "type": "bar",
         "x": [
          0.4902227265190212,
          0.4902227265190212,
          0.542414177162958,
          0.542414177162958,
          0.542414177162958,
          0.542414177162958,
          0.542414177162958,
          0.545978182304531,
          0.7051629091834456,
          0.7484992381132419
         ],
         "xaxis": "x35",
         "y": [
          "excluded  ",
          "aimed  ",
          "invented  ",
          "renovate  ",
          "homework  ",
          "enormously  ",
          "quarter  ",
          "scams  ",
          "measure  ",
          "measures  "
         ],
         "yaxis": "y35"
        },
        {
         "marker": {
          "color": "#D55E00"
         },
         "orientation": "h",
         "type": "bar",
         "x": [
          0.5417239766319736,
          0.6697181070652026,
          0.6699786577409121,
          0.7584238754613858,
          0.8388739508368802,
          0.9387050544150655,
          0.9387050544150655,
          1.186346918395017,
          1.5153599576758796,
          2.024076821925555
         ],
         "xaxis": "x36",
         "y": [
          "get  ",
          "sorry  ",
          "everyone  ",
          "got  ",
          "early  ",
          "film  ",
          "purposes  ",
          "tired  ",
          "good  ",
          "morning  "
         ],
         "yaxis": "y36"
        },
        {
         "marker": {
          "color": "#0072B2"
         },
         "orientation": "h",
         "type": "bar",
         "x": [
          0.42514966997985276,
          0.46160672987812473,
          0.47041313251779066,
          0.47041313251779066,
          0.47041313251779066,
          0.48900868077495824,
          0.49996227699070206,
          0.5626931862098148,
          0.6234276444880748,
          0.7070534327951848
         ],
         "xaxis": "x37",
         "y": [
          "bothers  ",
          "intend  ",
          "criticisms  ",
          "unexpectedly  ",
          "specious  ",
          "hundred  ",
          "modify  ",
          "four  ",
          "ninety  ",
          "abolish  "
         ],
         "yaxis": "y37"
        }
       ],
       "layout": {
        "annotations": [
         {
          "font": {
           "size": 16
          },
          "showarrow": false,
          "text": "Topic 0",
          "x": 0.0875,
          "xanchor": "center",
          "xref": "paper",
          "y": 1,
          "yanchor": "bottom",
          "yref": "paper"
         },
         {
          "font": {
           "size": 16
          },
          "showarrow": false,
          "text": "Topic 1",
          "x": 0.36250000000000004,
          "xanchor": "center",
          "xref": "paper",
          "y": 1,
          "yanchor": "bottom",
          "yref": "paper"
         },
         {
          "font": {
           "size": 16
          },
          "showarrow": false,
          "text": "Topic 2",
          "x": 0.6375000000000001,
          "xanchor": "center",
          "xref": "paper",
          "y": 1,
          "yanchor": "bottom",
          "yref": "paper"
         },
         {
          "font": {
           "size": 16
          },
          "showarrow": false,
          "text": "Topic 3",
          "x": 0.9125,
          "xanchor": "center",
          "xref": "paper",
          "y": 1,
          "yanchor": "bottom",
          "yref": "paper"
         },
         {
          "font": {
           "size": 16
          },
          "showarrow": false,
          "text": "Topic 4",
          "x": 0.0875,
          "xanchor": "center",
          "xref": "paper",
          "y": 0.8960000000000001,
          "yanchor": "bottom",
          "yref": "paper"
         },
         {
          "font": {
           "size": 16
          },
          "showarrow": false,
          "text": "Topic 5",
          "x": 0.36250000000000004,
          "xanchor": "center",
          "xref": "paper",
          "y": 0.8960000000000001,
          "yanchor": "bottom",
          "yref": "paper"
         },
         {
          "font": {
           "size": 16
          },
          "showarrow": false,
          "text": "Topic 6",
          "x": 0.6375000000000001,
          "xanchor": "center",
          "xref": "paper",
          "y": 0.8960000000000001,
          "yanchor": "bottom",
          "yref": "paper"
         },
         {
          "font": {
           "size": 16
          },
          "showarrow": false,
          "text": "Topic 7",
          "x": 0.9125,
          "xanchor": "center",
          "xref": "paper",
          "y": 0.8960000000000001,
          "yanchor": "bottom",
          "yref": "paper"
         },
         {
          "font": {
           "size": 16
          },
          "showarrow": false,
          "text": "Topic 8",
          "x": 0.0875,
          "xanchor": "center",
          "xref": "paper",
          "y": 0.792,
          "yanchor": "bottom",
          "yref": "paper"
         },
         {
          "font": {
           "size": 16
          },
          "showarrow": false,
          "text": "Topic 9",
          "x": 0.36250000000000004,
          "xanchor": "center",
          "xref": "paper",
          "y": 0.792,
          "yanchor": "bottom",
          "yref": "paper"
         },
         {
          "font": {
           "size": 16
          },
          "showarrow": false,
          "text": "Topic 10",
          "x": 0.6375000000000001,
          "xanchor": "center",
          "xref": "paper",
          "y": 0.792,
          "yanchor": "bottom",
          "yref": "paper"
         },
         {
          "font": {
           "size": 16
          },
          "showarrow": false,
          "text": "Topic 11",
          "x": 0.9125,
          "xanchor": "center",
          "xref": "paper",
          "y": 0.792,
          "yanchor": "bottom",
          "yref": "paper"
         },
         {
          "font": {
           "size": 16
          },
          "showarrow": false,
          "text": "Topic 12",
          "x": 0.0875,
          "xanchor": "center",
          "xref": "paper",
          "y": 0.688,
          "yanchor": "bottom",
          "yref": "paper"
         },
         {
          "font": {
           "size": 16
          },
          "showarrow": false,
          "text": "Topic 13",
          "x": 0.36250000000000004,
          "xanchor": "center",
          "xref": "paper",
          "y": 0.688,
          "yanchor": "bottom",
          "yref": "paper"
         },
         {
          "font": {
           "size": 16
          },
          "showarrow": false,
          "text": "Topic 14",
          "x": 0.6375000000000001,
          "xanchor": "center",
          "xref": "paper",
          "y": 0.688,
          "yanchor": "bottom",
          "yref": "paper"
         },
         {
          "font": {
           "size": 16
          },
          "showarrow": false,
          "text": "Topic 15",
          "x": 0.9125,
          "xanchor": "center",
          "xref": "paper",
          "y": 0.688,
          "yanchor": "bottom",
          "yref": "paper"
         },
         {
          "font": {
           "size": 16
          },
          "showarrow": false,
          "text": "Topic 16",
          "x": 0.0875,
          "xanchor": "center",
          "xref": "paper",
          "y": 0.5840000000000001,
          "yanchor": "bottom",
          "yref": "paper"
         },
         {
          "font": {
           "size": 16
          },
          "showarrow": false,
          "text": "Topic 17",
          "x": 0.36250000000000004,
          "xanchor": "center",
          "xref": "paper",
          "y": 0.5840000000000001,
          "yanchor": "bottom",
          "yref": "paper"
         },
         {
          "font": {
           "size": 16
          },
          "showarrow": false,
          "text": "Topic 18",
          "x": 0.6375000000000001,
          "xanchor": "center",
          "xref": "paper",
          "y": 0.5840000000000001,
          "yanchor": "bottom",
          "yref": "paper"
         },
         {
          "font": {
           "size": 16
          },
          "showarrow": false,
          "text": "Topic 19",
          "x": 0.9125,
          "xanchor": "center",
          "xref": "paper",
          "y": 0.5840000000000001,
          "yanchor": "bottom",
          "yref": "paper"
         },
         {
          "font": {
           "size": 16
          },
          "showarrow": false,
          "text": "Topic 20",
          "x": 0.0875,
          "xanchor": "center",
          "xref": "paper",
          "y": 0.48000000000000004,
          "yanchor": "bottom",
          "yref": "paper"
         },
         {
          "font": {
           "size": 16
          },
          "showarrow": false,
          "text": "Topic 21",
          "x": 0.36250000000000004,
          "xanchor": "center",
          "xref": "paper",
          "y": 0.48000000000000004,
          "yanchor": "bottom",
          "yref": "paper"
         },
         {
          "font": {
           "size": 16
          },
          "showarrow": false,
          "text": "Topic 22",
          "x": 0.6375000000000001,
          "xanchor": "center",
          "xref": "paper",
          "y": 0.48000000000000004,
          "yanchor": "bottom",
          "yref": "paper"
         },
         {
          "font": {
           "size": 16
          },
          "showarrow": false,
          "text": "Topic 23",
          "x": 0.9125,
          "xanchor": "center",
          "xref": "paper",
          "y": 0.48000000000000004,
          "yanchor": "bottom",
          "yref": "paper"
         },
         {
          "font": {
           "size": 16
          },
          "showarrow": false,
          "text": "Topic 24",
          "x": 0.0875,
          "xanchor": "center",
          "xref": "paper",
          "y": 0.376,
          "yanchor": "bottom",
          "yref": "paper"
         },
         {
          "font": {
           "size": 16
          },
          "showarrow": false,
          "text": "Topic 25",
          "x": 0.36250000000000004,
          "xanchor": "center",
          "xref": "paper",
          "y": 0.376,
          "yanchor": "bottom",
          "yref": "paper"
         },
         {
          "font": {
           "size": 16
          },
          "showarrow": false,
          "text": "Topic 26",
          "x": 0.6375000000000001,
          "xanchor": "center",
          "xref": "paper",
          "y": 0.376,
          "yanchor": "bottom",
          "yref": "paper"
         },
         {
          "font": {
           "size": 16
          },
          "showarrow": false,
          "text": "Topic 27",
          "x": 0.9125,
          "xanchor": "center",
          "xref": "paper",
          "y": 0.376,
          "yanchor": "bottom",
          "yref": "paper"
         },
         {
          "font": {
           "size": 16
          },
          "showarrow": false,
          "text": "Topic 28",
          "x": 0.0875,
          "xanchor": "center",
          "xref": "paper",
          "y": 0.272,
          "yanchor": "bottom",
          "yref": "paper"
         },
         {
          "font": {
           "size": 16
          },
          "showarrow": false,
          "text": "Topic 29",
          "x": 0.36250000000000004,
          "xanchor": "center",
          "xref": "paper",
          "y": 0.272,
          "yanchor": "bottom",
          "yref": "paper"
         },
         {
          "font": {
           "size": 16
          },
          "showarrow": false,
          "text": "Topic 30",
          "x": 0.6375000000000001,
          "xanchor": "center",
          "xref": "paper",
          "y": 0.272,
          "yanchor": "bottom",
          "yref": "paper"
         },
         {
          "font": {
           "size": 16
          },
          "showarrow": false,
          "text": "Topic 31",
          "x": 0.9125,
          "xanchor": "center",
          "xref": "paper",
          "y": 0.272,
          "yanchor": "bottom",
          "yref": "paper"
         },
         {
          "font": {
           "size": 16
          },
          "showarrow": false,
          "text": "Topic 32",
          "x": 0.0875,
          "xanchor": "center",
          "xref": "paper",
          "y": 0.168,
          "yanchor": "bottom",
          "yref": "paper"
         },
         {
          "font": {
           "size": 16
          },
          "showarrow": false,
          "text": "Topic 33",
          "x": 0.36250000000000004,
          "xanchor": "center",
          "xref": "paper",
          "y": 0.168,
          "yanchor": "bottom",
          "yref": "paper"
         },
         {
          "font": {
           "size": 16
          },
          "showarrow": false,
          "text": "Topic 34",
          "x": 0.6375000000000001,
          "xanchor": "center",
          "xref": "paper",
          "y": 0.168,
          "yanchor": "bottom",
          "yref": "paper"
         },
         {
          "font": {
           "size": 16
          },
          "showarrow": false,
          "text": "Topic 35",
          "x": 0.9125,
          "xanchor": "center",
          "xref": "paper",
          "y": 0.168,
          "yanchor": "bottom",
          "yref": "paper"
         },
         {
          "font": {
           "size": 16
          },
          "showarrow": false,
          "text": "Topic 36",
          "x": 0.0875,
          "xanchor": "center",
          "xref": "paper",
          "y": 0.064,
          "yanchor": "bottom",
          "yref": "paper"
         }
        ],
        "height": 3300,
        "hoverlabel": {
         "bgcolor": "white",
         "font": {
          "family": "Rockwell",
          "size": 16
         }
        },
        "showlegend": false,
        "template": {
         "data": {
          "bar": [
           {
            "error_x": {
             "color": "#2a3f5f"
            },
            "error_y": {
             "color": "#2a3f5f"
            },
            "marker": {
             "line": {
              "color": "white",
              "width": 0.5
             },
             "pattern": {
              "fillmode": "overlay",
              "size": 10,
              "solidity": 0.2
             }
            },
            "type": "bar"
           }
          ],
          "barpolar": [
           {
            "marker": {
             "line": {
              "color": "white",
              "width": 0.5
             },
             "pattern": {
              "fillmode": "overlay",
              "size": 10,
              "solidity": 0.2
             }
            },
            "type": "barpolar"
           }
          ],
          "carpet": [
           {
            "aaxis": {
             "endlinecolor": "#2a3f5f",
             "gridcolor": "#C8D4E3",
             "linecolor": "#C8D4E3",
             "minorgridcolor": "#C8D4E3",
             "startlinecolor": "#2a3f5f"
            },
            "baxis": {
             "endlinecolor": "#2a3f5f",
             "gridcolor": "#C8D4E3",
             "linecolor": "#C8D4E3",
             "minorgridcolor": "#C8D4E3",
             "startlinecolor": "#2a3f5f"
            },
            "type": "carpet"
           }
          ],
          "choropleth": [
           {
            "colorbar": {
             "outlinewidth": 0,
             "ticks": ""
            },
            "type": "choropleth"
           }
          ],
          "contour": [
           {
            "colorbar": {
             "outlinewidth": 0,
             "ticks": ""
            },
            "colorscale": [
             [
              0,
              "#0d0887"
             ],
             [
              0.1111111111111111,
              "#46039f"
             ],
             [
              0.2222222222222222,
              "#7201a8"
             ],
             [
              0.3333333333333333,
              "#9c179e"
             ],
             [
              0.4444444444444444,
              "#bd3786"
             ],
             [
              0.5555555555555556,
              "#d8576b"
             ],
             [
              0.6666666666666666,
              "#ed7953"
             ],
             [
              0.7777777777777778,
              "#fb9f3a"
             ],
             [
              0.8888888888888888,
              "#fdca26"
             ],
             [
              1,
              "#f0f921"
             ]
            ],
            "type": "contour"
           }
          ],
          "contourcarpet": [
           {
            "colorbar": {
             "outlinewidth": 0,
             "ticks": ""
            },
            "type": "contourcarpet"
           }
          ],
          "heatmap": [
           {
            "colorbar": {
             "outlinewidth": 0,
             "ticks": ""
            },
            "colorscale": [
             [
              0,
              "#0d0887"
             ],
             [
              0.1111111111111111,
              "#46039f"
             ],
             [
              0.2222222222222222,
              "#7201a8"
             ],
             [
              0.3333333333333333,
              "#9c179e"
             ],
             [
              0.4444444444444444,
              "#bd3786"
             ],
             [
              0.5555555555555556,
              "#d8576b"
             ],
             [
              0.6666666666666666,
              "#ed7953"
             ],
             [
              0.7777777777777778,
              "#fb9f3a"
             ],
             [
              0.8888888888888888,
              "#fdca26"
             ],
             [
              1,
              "#f0f921"
             ]
            ],
            "type": "heatmap"
           }
          ],
          "heatmapgl": [
           {
            "colorbar": {
             "outlinewidth": 0,
             "ticks": ""
            },
            "colorscale": [
             [
              0,
              "#0d0887"
             ],
             [
              0.1111111111111111,
              "#46039f"
             ],
             [
              0.2222222222222222,
              "#7201a8"
             ],
             [
              0.3333333333333333,
              "#9c179e"
             ],
             [
              0.4444444444444444,
              "#bd3786"
             ],
             [
              0.5555555555555556,
              "#d8576b"
             ],
             [
              0.6666666666666666,
              "#ed7953"
             ],
             [
              0.7777777777777778,
              "#fb9f3a"
             ],
             [
              0.8888888888888888,
              "#fdca26"
             ],
             [
              1,
              "#f0f921"
             ]
            ],
            "type": "heatmapgl"
           }
          ],
          "histogram": [
           {
            "marker": {
             "pattern": {
              "fillmode": "overlay",
              "size": 10,
              "solidity": 0.2
             }
            },
            "type": "histogram"
           }
          ],
          "histogram2d": [
           {
            "colorbar": {
             "outlinewidth": 0,
             "ticks": ""
            },
            "colorscale": [
             [
              0,
              "#0d0887"
             ],
             [
              0.1111111111111111,
              "#46039f"
             ],
             [
              0.2222222222222222,
              "#7201a8"
             ],
             [
              0.3333333333333333,
              "#9c179e"
             ],
             [
              0.4444444444444444,
              "#bd3786"
             ],
             [
              0.5555555555555556,
              "#d8576b"
             ],
             [
              0.6666666666666666,
              "#ed7953"
             ],
             [
              0.7777777777777778,
              "#fb9f3a"
             ],
             [
              0.8888888888888888,
              "#fdca26"
             ],
             [
              1,
              "#f0f921"
             ]
            ],
            "type": "histogram2d"
           }
          ],
          "histogram2dcontour": [
           {
            "colorbar": {
             "outlinewidth": 0,
             "ticks": ""
            },
            "colorscale": [
             [
              0,
              "#0d0887"
             ],
             [
              0.1111111111111111,
              "#46039f"
             ],
             [
              0.2222222222222222,
              "#7201a8"
             ],
             [
              0.3333333333333333,
              "#9c179e"
             ],
             [
              0.4444444444444444,
              "#bd3786"
             ],
             [
              0.5555555555555556,
              "#d8576b"
             ],
             [
              0.6666666666666666,
              "#ed7953"
             ],
             [
              0.7777777777777778,
              "#fb9f3a"
             ],
             [
              0.8888888888888888,
              "#fdca26"
             ],
             [
              1,
              "#f0f921"
             ]
            ],
            "type": "histogram2dcontour"
           }
          ],
          "mesh3d": [
           {
            "colorbar": {
             "outlinewidth": 0,
             "ticks": ""
            },
            "type": "mesh3d"
           }
          ],
          "parcoords": [
           {
            "line": {
             "colorbar": {
              "outlinewidth": 0,
              "ticks": ""
             }
            },
            "type": "parcoords"
           }
          ],
          "pie": [
           {
            "automargin": true,
            "type": "pie"
           }
          ],
          "scatter": [
           {
            "fillpattern": {
             "fillmode": "overlay",
             "size": 10,
             "solidity": 0.2
            },
            "type": "scatter"
           }
          ],
          "scatter3d": [
           {
            "line": {
             "colorbar": {
              "outlinewidth": 0,
              "ticks": ""
             }
            },
            "marker": {
             "colorbar": {
              "outlinewidth": 0,
              "ticks": ""
             }
            },
            "type": "scatter3d"
           }
          ],
          "scattercarpet": [
           {
            "marker": {
             "colorbar": {
              "outlinewidth": 0,
              "ticks": ""
             }
            },
            "type": "scattercarpet"
           }
          ],
          "scattergeo": [
           {
            "marker": {
             "colorbar": {
              "outlinewidth": 0,
              "ticks": ""
             }
            },
            "type": "scattergeo"
           }
          ],
          "scattergl": [
           {
            "marker": {
             "colorbar": {
              "outlinewidth": 0,
              "ticks": ""
             }
            },
            "type": "scattergl"
           }
          ],
          "scattermapbox": [
           {
            "marker": {
             "colorbar": {
              "outlinewidth": 0,
              "ticks": ""
             }
            },
            "type": "scattermapbox"
           }
          ],
          "scatterpolar": [
           {
            "marker": {
             "colorbar": {
              "outlinewidth": 0,
              "ticks": ""
             }
            },
            "type": "scatterpolar"
           }
          ],
          "scatterpolargl": [
           {
            "marker": {
             "colorbar": {
              "outlinewidth": 0,
              "ticks": ""
             }
            },
            "type": "scatterpolargl"
           }
          ],
          "scatterternary": [
           {
            "marker": {
             "colorbar": {
              "outlinewidth": 0,
              "ticks": ""
             }
            },
            "type": "scatterternary"
           }
          ],
          "surface": [
           {
            "colorbar": {
             "outlinewidth": 0,
             "ticks": ""
            },
            "colorscale": [
             [
              0,
              "#0d0887"
             ],
             [
              0.1111111111111111,
              "#46039f"
             ],
             [
              0.2222222222222222,
              "#7201a8"
             ],
             [
              0.3333333333333333,
              "#9c179e"
             ],
             [
              0.4444444444444444,
              "#bd3786"
             ],
             [
              0.5555555555555556,
              "#d8576b"
             ],
             [
              0.6666666666666666,
              "#ed7953"
             ],
             [
              0.7777777777777778,
              "#fb9f3a"
             ],
             [
              0.8888888888888888,
              "#fdca26"
             ],
             [
              1,
              "#f0f921"
             ]
            ],
            "type": "surface"
           }
          ],
          "table": [
           {
            "cells": {
             "fill": {
              "color": "#EBF0F8"
             },
             "line": {
              "color": "white"
             }
            },
            "header": {
             "fill": {
              "color": "#C8D4E3"
             },
             "line": {
              "color": "white"
             }
            },
            "type": "table"
           }
          ]
         },
         "layout": {
          "annotationdefaults": {
           "arrowcolor": "#2a3f5f",
           "arrowhead": 0,
           "arrowwidth": 1
          },
          "autotypenumbers": "strict",
          "coloraxis": {
           "colorbar": {
            "outlinewidth": 0,
            "ticks": ""
           }
          },
          "colorscale": {
           "diverging": [
            [
             0,
             "#8e0152"
            ],
            [
             0.1,
             "#c51b7d"
            ],
            [
             0.2,
             "#de77ae"
            ],
            [
             0.3,
             "#f1b6da"
            ],
            [
             0.4,
             "#fde0ef"
            ],
            [
             0.5,
             "#f7f7f7"
            ],
            [
             0.6,
             "#e6f5d0"
            ],
            [
             0.7,
             "#b8e186"
            ],
            [
             0.8,
             "#7fbc41"
            ],
            [
             0.9,
             "#4d9221"
            ],
            [
             1,
             "#276419"
            ]
           ],
           "sequential": [
            [
             0,
             "#0d0887"
            ],
            [
             0.1111111111111111,
             "#46039f"
            ],
            [
             0.2222222222222222,
             "#7201a8"
            ],
            [
             0.3333333333333333,
             "#9c179e"
            ],
            [
             0.4444444444444444,
             "#bd3786"
            ],
            [
             0.5555555555555556,
             "#d8576b"
            ],
            [
             0.6666666666666666,
             "#ed7953"
            ],
            [
             0.7777777777777778,
             "#fb9f3a"
            ],
            [
             0.8888888888888888,
             "#fdca26"
            ],
            [
             1,
             "#f0f921"
            ]
           ],
           "sequentialminus": [
            [
             0,
             "#0d0887"
            ],
            [
             0.1111111111111111,
             "#46039f"
            ],
            [
             0.2222222222222222,
             "#7201a8"
            ],
            [
             0.3333333333333333,
             "#9c179e"
            ],
            [
             0.4444444444444444,
             "#bd3786"
            ],
            [
             0.5555555555555556,
             "#d8576b"
            ],
            [
             0.6666666666666666,
             "#ed7953"
            ],
            [
             0.7777777777777778,
             "#fb9f3a"
            ],
            [
             0.8888888888888888,
             "#fdca26"
            ],
            [
             1,
             "#f0f921"
            ]
           ]
          },
          "colorway": [
           "#636efa",
           "#EF553B",
           "#00cc96",
           "#ab63fa",
           "#FFA15A",
           "#19d3f3",
           "#FF6692",
           "#B6E880",
           "#FF97FF",
           "#FECB52"
          ],
          "font": {
           "color": "#2a3f5f"
          },
          "geo": {
           "bgcolor": "white",
           "lakecolor": "white",
           "landcolor": "white",
           "showlakes": true,
           "showland": true,
           "subunitcolor": "#C8D4E3"
          },
          "hoverlabel": {
           "align": "left"
          },
          "hovermode": "closest",
          "mapbox": {
           "style": "light"
          },
          "paper_bgcolor": "white",
          "plot_bgcolor": "white",
          "polar": {
           "angularaxis": {
            "gridcolor": "#EBF0F8",
            "linecolor": "#EBF0F8",
            "ticks": ""
           },
           "bgcolor": "white",
           "radialaxis": {
            "gridcolor": "#EBF0F8",
            "linecolor": "#EBF0F8",
            "ticks": ""
           }
          },
          "scene": {
           "xaxis": {
            "backgroundcolor": "white",
            "gridcolor": "#DFE8F3",
            "gridwidth": 2,
            "linecolor": "#EBF0F8",
            "showbackground": true,
            "ticks": "",
            "zerolinecolor": "#EBF0F8"
           },
           "yaxis": {
            "backgroundcolor": "white",
            "gridcolor": "#DFE8F3",
            "gridwidth": 2,
            "linecolor": "#EBF0F8",
            "showbackground": true,
            "ticks": "",
            "zerolinecolor": "#EBF0F8"
           },
           "zaxis": {
            "backgroundcolor": "white",
            "gridcolor": "#DFE8F3",
            "gridwidth": 2,
            "linecolor": "#EBF0F8",
            "showbackground": true,
            "ticks": "",
            "zerolinecolor": "#EBF0F8"
           }
          },
          "shapedefaults": {
           "line": {
            "color": "#2a3f5f"
           }
          },
          "ternary": {
           "aaxis": {
            "gridcolor": "#DFE8F3",
            "linecolor": "#A2B1C6",
            "ticks": ""
           },
           "baxis": {
            "gridcolor": "#DFE8F3",
            "linecolor": "#A2B1C6",
            "ticks": ""
           },
           "bgcolor": "white",
           "caxis": {
            "gridcolor": "#DFE8F3",
            "linecolor": "#A2B1C6",
            "ticks": ""
           }
          },
          "title": {
           "x": 0.05
          },
          "xaxis": {
           "automargin": true,
           "gridcolor": "#EBF0F8",
           "linecolor": "#EBF0F8",
           "ticks": "",
           "title": {
            "standoff": 15
           },
           "zerolinecolor": "#EBF0F8",
           "zerolinewidth": 2
          },
          "yaxis": {
           "automargin": true,
           "gridcolor": "#EBF0F8",
           "linecolor": "#EBF0F8",
           "ticks": "",
           "title": {
            "standoff": 15
           },
           "zerolinecolor": "#EBF0F8",
           "zerolinewidth": 2
          }
         }
        },
        "title": {
         "font": {
          "color": "Black",
          "size": 22
         },
         "text": "Topic Word Scores",
         "x": 0.5,
         "xanchor": "center",
         "yanchor": "top"
        },
        "width": 1120,
        "xaxis": {
         "anchor": "y",
         "domain": [
          0,
          0.175
         ],
         "showgrid": true
        },
        "xaxis10": {
         "anchor": "y10",
         "domain": [
          0.275,
          0.45
         ],
         "showgrid": true
        },
        "xaxis11": {
         "anchor": "y11",
         "domain": [
          0.55,
          0.7250000000000001
         ],
         "showgrid": true
        },
        "xaxis12": {
         "anchor": "y12",
         "domain": [
          0.825,
          1
         ],
         "showgrid": true
        },
        "xaxis13": {
         "anchor": "y13",
         "domain": [
          0,
          0.175
         ],
         "showgrid": true
        },
        "xaxis14": {
         "anchor": "y14",
         "domain": [
          0.275,
          0.45
         ],
         "showgrid": true
        },
        "xaxis15": {
         "anchor": "y15",
         "domain": [
          0.55,
          0.7250000000000001
         ],
         "showgrid": true
        },
        "xaxis16": {
         "anchor": "y16",
         "domain": [
          0.825,
          1
         ],
         "showgrid": true
        },
        "xaxis17": {
         "anchor": "y17",
         "domain": [
          0,
          0.175
         ],
         "showgrid": true
        },
        "xaxis18": {
         "anchor": "y18",
         "domain": [
          0.275,
          0.45
         ],
         "showgrid": true
        },
        "xaxis19": {
         "anchor": "y19",
         "domain": [
          0.55,
          0.7250000000000001
         ],
         "showgrid": true
        },
        "xaxis2": {
         "anchor": "y2",
         "domain": [
          0.275,
          0.45
         ],
         "showgrid": true
        },
        "xaxis20": {
         "anchor": "y20",
         "domain": [
          0.825,
          1
         ],
         "showgrid": true
        },
        "xaxis21": {
         "anchor": "y21",
         "domain": [
          0,
          0.175
         ],
         "showgrid": true
        },
        "xaxis22": {
         "anchor": "y22",
         "domain": [
          0.275,
          0.45
         ],
         "showgrid": true
        },
        "xaxis23": {
         "anchor": "y23",
         "domain": [
          0.55,
          0.7250000000000001
         ],
         "showgrid": true
        },
        "xaxis24": {
         "anchor": "y24",
         "domain": [
          0.825,
          1
         ],
         "showgrid": true
        },
        "xaxis25": {
         "anchor": "y25",
         "domain": [
          0,
          0.175
         ],
         "showgrid": true
        },
        "xaxis26": {
         "anchor": "y26",
         "domain": [
          0.275,
          0.45
         ],
         "showgrid": true
        },
        "xaxis27": {
         "anchor": "y27",
         "domain": [
          0.55,
          0.7250000000000001
         ],
         "showgrid": true
        },
        "xaxis28": {
         "anchor": "y28",
         "domain": [
          0.825,
          1
         ],
         "showgrid": true
        },
        "xaxis29": {
         "anchor": "y29",
         "domain": [
          0,
          0.175
         ],
         "showgrid": true
        },
        "xaxis3": {
         "anchor": "y3",
         "domain": [
          0.55,
          0.7250000000000001
         ],
         "showgrid": true
        },
        "xaxis30": {
         "anchor": "y30",
         "domain": [
          0.275,
          0.45
         ],
         "showgrid": true
        },
        "xaxis31": {
         "anchor": "y31",
         "domain": [
          0.55,
          0.7250000000000001
         ],
         "showgrid": true
        },
        "xaxis32": {
         "anchor": "y32",
         "domain": [
          0.825,
          1
         ],
         "showgrid": true
        },
        "xaxis33": {
         "anchor": "y33",
         "domain": [
          0,
          0.175
         ],
         "showgrid": true
        },
        "xaxis34": {
         "anchor": "y34",
         "domain": [
          0.275,
          0.45
         ],
         "showgrid": true
        },
        "xaxis35": {
         "anchor": "y35",
         "domain": [
          0.55,
          0.7250000000000001
         ],
         "showgrid": true
        },
        "xaxis36": {
         "anchor": "y36",
         "domain": [
          0.825,
          1
         ],
         "showgrid": true
        },
        "xaxis37": {
         "anchor": "y37",
         "domain": [
          0,
          0.175
         ],
         "showgrid": true
        },
        "xaxis38": {
         "anchor": "y38",
         "domain": [
          0.275,
          0.45
         ],
         "showgrid": true
        },
        "xaxis39": {
         "anchor": "y39",
         "domain": [
          0.55,
          0.7250000000000001
         ],
         "showgrid": true
        },
        "xaxis4": {
         "anchor": "y4",
         "domain": [
          0.825,
          1
         ],
         "showgrid": true
        },
        "xaxis40": {
         "anchor": "y40",
         "domain": [
          0.825,
          1
         ],
         "showgrid": true
        },
        "xaxis5": {
         "anchor": "y5",
         "domain": [
          0,
          0.175
         ],
         "showgrid": true
        },
        "xaxis6": {
         "anchor": "y6",
         "domain": [
          0.275,
          0.45
         ],
         "showgrid": true
        },
        "xaxis7": {
         "anchor": "y7",
         "domain": [
          0.55,
          0.7250000000000001
         ],
         "showgrid": true
        },
        "xaxis8": {
         "anchor": "y8",
         "domain": [
          0.825,
          1
         ],
         "showgrid": true
        },
        "xaxis9": {
         "anchor": "y9",
         "domain": [
          0,
          0.175
         ],
         "showgrid": true
        },
        "yaxis": {
         "anchor": "x",
         "domain": [
          0.936,
          1
         ],
         "showgrid": true
        },
        "yaxis10": {
         "anchor": "x10",
         "domain": [
          0.728,
          0.792
         ],
         "showgrid": true
        },
        "yaxis11": {
         "anchor": "x11",
         "domain": [
          0.728,
          0.792
         ],
         "showgrid": true
        },
        "yaxis12": {
         "anchor": "x12",
         "domain": [
          0.728,
          0.792
         ],
         "showgrid": true
        },
        "yaxis13": {
         "anchor": "x13",
         "domain": [
          0.624,
          0.688
         ],
         "showgrid": true
        },
        "yaxis14": {
         "anchor": "x14",
         "domain": [
          0.624,
          0.688
         ],
         "showgrid": true
        },
        "yaxis15": {
         "anchor": "x15",
         "domain": [
          0.624,
          0.688
         ],
         "showgrid": true
        },
        "yaxis16": {
         "anchor": "x16",
         "domain": [
          0.624,
          0.688
         ],
         "showgrid": true
        },
        "yaxis17": {
         "anchor": "x17",
         "domain": [
          0.52,
          0.5840000000000001
         ],
         "showgrid": true
        },
        "yaxis18": {
         "anchor": "x18",
         "domain": [
          0.52,
          0.5840000000000001
         ],
         "showgrid": true
        },
        "yaxis19": {
         "anchor": "x19",
         "domain": [
          0.52,
          0.5840000000000001
         ],
         "showgrid": true
        },
        "yaxis2": {
         "anchor": "x2",
         "domain": [
          0.936,
          1
         ],
         "showgrid": true
        },
        "yaxis20": {
         "anchor": "x20",
         "domain": [
          0.52,
          0.5840000000000001
         ],
         "showgrid": true
        },
        "yaxis21": {
         "anchor": "x21",
         "domain": [
          0.41600000000000004,
          0.48000000000000004
         ],
         "showgrid": true
        },
        "yaxis22": {
         "anchor": "x22",
         "domain": [
          0.41600000000000004,
          0.48000000000000004
         ],
         "showgrid": true
        },
        "yaxis23": {
         "anchor": "x23",
         "domain": [
          0.41600000000000004,
          0.48000000000000004
         ],
         "showgrid": true
        },
        "yaxis24": {
         "anchor": "x24",
         "domain": [
          0.41600000000000004,
          0.48000000000000004
         ],
         "showgrid": true
        },
        "yaxis25": {
         "anchor": "x25",
         "domain": [
          0.312,
          0.376
         ],
         "showgrid": true
        },
        "yaxis26": {
         "anchor": "x26",
         "domain": [
          0.312,
          0.376
         ],
         "showgrid": true
        },
        "yaxis27": {
         "anchor": "x27",
         "domain": [
          0.312,
          0.376
         ],
         "showgrid": true
        },
        "yaxis28": {
         "anchor": "x28",
         "domain": [
          0.312,
          0.376
         ],
         "showgrid": true
        },
        "yaxis29": {
         "anchor": "x29",
         "domain": [
          0.20800000000000002,
          0.272
         ],
         "showgrid": true
        },
        "yaxis3": {
         "anchor": "x3",
         "domain": [
          0.936,
          1
         ],
         "showgrid": true
        },
        "yaxis30": {
         "anchor": "x30",
         "domain": [
          0.20800000000000002,
          0.272
         ],
         "showgrid": true
        },
        "yaxis31": {
         "anchor": "x31",
         "domain": [
          0.20800000000000002,
          0.272
         ],
         "showgrid": true
        },
        "yaxis32": {
         "anchor": "x32",
         "domain": [
          0.20800000000000002,
          0.272
         ],
         "showgrid": true
        },
        "yaxis33": {
         "anchor": "x33",
         "domain": [
          0.10400000000000001,
          0.168
         ],
         "showgrid": true
        },
        "yaxis34": {
         "anchor": "x34",
         "domain": [
          0.10400000000000001,
          0.168
         ],
         "showgrid": true
        },
        "yaxis35": {
         "anchor": "x35",
         "domain": [
          0.10400000000000001,
          0.168
         ],
         "showgrid": true
        },
        "yaxis36": {
         "anchor": "x36",
         "domain": [
          0.10400000000000001,
          0.168
         ],
         "showgrid": true
        },
        "yaxis37": {
         "anchor": "x37",
         "domain": [
          0,
          0.064
         ],
         "showgrid": true
        },
        "yaxis38": {
         "anchor": "x38",
         "domain": [
          0,
          0.064
         ],
         "showgrid": true
        },
        "yaxis39": {
         "anchor": "x39",
         "domain": [
          0,
          0.064
         ],
         "showgrid": true
        },
        "yaxis4": {
         "anchor": "x4",
         "domain": [
          0.936,
          1
         ],
         "showgrid": true
        },
        "yaxis40": {
         "anchor": "x40",
         "domain": [
          0,
          0.064
         ],
         "showgrid": true
        },
        "yaxis5": {
         "anchor": "x5",
         "domain": [
          0.8320000000000001,
          0.8960000000000001
         ],
         "showgrid": true
        },
        "yaxis6": {
         "anchor": "x6",
         "domain": [
          0.8320000000000001,
          0.8960000000000001
         ],
         "showgrid": true
        },
        "yaxis7": {
         "anchor": "x7",
         "domain": [
          0.8320000000000001,
          0.8960000000000001
         ],
         "showgrid": true
        },
        "yaxis8": {
         "anchor": "x8",
         "domain": [
          0.8320000000000001,
          0.8960000000000001
         ],
         "showgrid": true
        },
        "yaxis9": {
         "anchor": "x9",
         "domain": [
          0.728,
          0.792
         ],
         "showgrid": true
        }
       }
      }
     },
     "metadata": {},
     "output_type": "display_data"
    }
   ],
   "source": [
    "topic_model.visualize_barchart(width=280, height=330, top_n_topics=60, n_words=20)"
   ]
  },
  {
   "cell_type": "code",
   "execution_count": 212,
   "metadata": {},
   "outputs": [],
   "source": [
    "# new_topics = topic_model.reduce_outliers(docs, topics, strategy=\"embeddings\", embeddings=embeddings)\n",
    "# new_topics = topic_model.reduce_outliers(docs, topics)\n",
    "# topic_model.update_topics(docs, topics=new_topics)\n",
    "# topic_model.get_topic_info()"
   ]
  },
  {
   "cell_type": "markdown",
   "metadata": {},
   "source": [
    "## Topic Labelling\n",
    "\n",
    "Rename and format topic labels."
   ]
  },
  {
   "cell_type": "code",
   "execution_count": 222,
   "metadata": {},
   "outputs": [
    {
     "name": "stdout",
     "output_type": "stream",
     "text": [
      "['reform', 'citizens', 'government', 'today', 'political', 'families', 'work', 'we', 'when', 'point']\n"
     ]
    },
    {
     "data": {
      "text/html": [
       "<div>\n",
       "<style scoped>\n",
       "    .dataframe tbody tr th:only-of-type {\n",
       "        vertical-align: middle;\n",
       "    }\n",
       "\n",
       "    .dataframe tbody tr th {\n",
       "        vertical-align: top;\n",
       "    }\n",
       "\n",
       "    .dataframe thead th {\n",
       "        text-align: right;\n",
       "    }\n",
       "</style>\n",
       "<table border=\"1\" class=\"dataframe\">\n",
       "  <thead>\n",
       "    <tr style=\"text-align: right;\">\n",
       "      <th></th>\n",
       "      <th>Topic</th>\n",
       "      <th>Count</th>\n",
       "      <th>Name</th>\n",
       "      <th>CustomName</th>\n",
       "      <th>Representation</th>\n",
       "      <th>KeyBERT</th>\n",
       "      <th>MMR</th>\n",
       "      <th>POS</th>\n",
       "      <th>Representative_Docs</th>\n",
       "    </tr>\n",
       "  </thead>\n",
       "  <tbody>\n",
       "    <tr>\n",
       "      <th>0</th>\n",
       "      <td>-1</td>\n",
       "      <td>799</td>\n",
       "      <td>-1_government_our_people_will</td>\n",
       "      <td>government - our - people</td>\n",
       "      <td>[government, our, people, will, one, say, was,...</td>\n",
       "      <td>[reform, citizens, government, today, politica...</td>\n",
       "      <td>[government, our, people, will, one, say, was,...</td>\n",
       "      <td>[government, people, more, families, political...</td>\n",
       "      <td>[It is exactly from this philosophy that we mo...</td>\n",
       "    </tr>\n",
       "    <tr>\n",
       "      <th>1</th>\n",
       "      <td>0</td>\n",
       "      <td>193</td>\n",
       "      <td>0_thank_ready_happy_reality</td>\n",
       "      <td>thank - ready - happy</td>\n",
       "      <td>[thank, ready, happy, reality, here, wait, rea...</td>\n",
       "      <td>[intimidated, emotion, speaking, very, tones, ...</td>\n",
       "      <td>[thank, ready, happy, reality, here, wait, rea...</td>\n",
       "      <td>[ready, happy, reality, more, permission, mome...</td>\n",
       "      <td>[I apologize for the emotion of approaching th...</td>\n",
       "    </tr>\n",
       "    <tr>\n",
       "      <th>2</th>\n",
       "      <td>1</td>\n",
       "      <td>146</td>\n",
       "      <td>1_yes_hi_enough_okay</td>\n",
       "      <td>yes - hi - enough</td>\n",
       "      <td>[yes, hi, enough, okay, surreal, too, ve, why,...</td>\n",
       "      <td>[heard, hear, absolutely, yes, mainly, about, ...</td>\n",
       "      <td>[yes, hi, enough, okay, surreal, too, ve, why,...</td>\n",
       "      <td>[enough, surreal, bit, fine, echo, finish, pro...</td>\n",
       "      <td>[No, I mean okay, things will be fine anyway.,...</td>\n",
       "    </tr>\n",
       "    <tr>\n",
       "      <th>3</th>\n",
       "      <td>2</td>\n",
       "      <td>142</td>\n",
       "      <td>2_brothers_italy_italian_cross</td>\n",
       "      <td>brothers - italy - italian</td>\n",
       "      <td>[brothers, italy, italian, cross, world, party...</td>\n",
       "      <td>[italians, italian, italy, francesco, election...</td>\n",
       "      <td>[brothers, italy, italian, cross, world, party...</td>\n",
       "      <td>[brothers, cross, world, party, elections, cen...</td>\n",
       "      <td>[Then even funnier than this is the reason why...</td>\n",
       "    </tr>\n",
       "    <tr>\n",
       "      <th>4</th>\n",
       "      <td>3</td>\n",
       "      <td>103</td>\n",
       "      <td>3_italy_italian_italians_knows</td>\n",
       "      <td>italy - italian - italians</td>\n",
       "      <td>[italy, italian, italians, knows, government, ...</td>\n",
       "      <td>[italians, italian, italy, government, europe,...</td>\n",
       "      <td>[italy, italian, italians, knows, government, ...</td>\n",
       "      <td>[government, great, nation, collaboration, res...</td>\n",
       "      <td>[I can speak very badly about Italy, but I do ...</td>\n",
       "    </tr>\n",
       "    <tr>\n",
       "      <th>5</th>\n",
       "      <td>4</td>\n",
       "      <td>70</td>\n",
       "      <td>4_immigration_migration_traffickers_trafficking</td>\n",
       "      <td>immigration - migration - traffickers</td>\n",
       "      <td>[immigration, migration, traffickers, traffick...</td>\n",
       "      <td>[migrants, immigration, refugees, trafficking,...</td>\n",
       "      <td>[immigration, migration, traffickers, traffick...</td>\n",
       "      <td>[immigration, traffickers, trafficking, illega...</td>\n",
       "      <td>[The route is not covered by non-governmental ...</td>\n",
       "    </tr>\n",
       "    <tr>\n",
       "      <th>6</th>\n",
       "      <td>5</td>\n",
       "      <td>70</td>\n",
       "      <td>5_freedom_free_rights_liberal</td>\n",
       "      <td>freedom - free - rights</td>\n",
       "      <td>[freedom, free, rights, liberal, right, love, ...</td>\n",
       "      <td>[freedom, secularity, rights, totalitarianisms...</td>\n",
       "      <td>[freedom, free, rights, liberal, right, love, ...</td>\n",
       "      <td>[freedom, free, rights, liberal, right, love, ...</td>\n",
       "      <td>[A great Italian liberal philosopher, Benedett...</td>\n",
       "    </tr>\n",
       "    <tr>\n",
       "      <th>7</th>\n",
       "      <td>6</td>\n",
       "      <td>63</td>\n",
       "      <td>6_ministers_council_sacrifices_minister</td>\n",
       "      <td>ministers - council - sacrifices</td>\n",
       "      <td>[ministers, council, sacrifices, minister, pro...</td>\n",
       "      <td>[honor, celebration, celebrate, salute, proud,...</td>\n",
       "      <td>[ministers, council, sacrifices, minister, pro...</td>\n",
       "      <td>[ministers, council, sacrifices, minister, pro...</td>\n",
       "      <td>[Demonstrate the pride that we demonstrate bec...</td>\n",
       "    </tr>\n",
       "    <tr>\n",
       "      <th>8</th>\n",
       "      <td>7</td>\n",
       "      <td>63</td>\n",
       "      <td>7_income_tax_citizen_euros</td>\n",
       "      <td>income - tax - citizen</td>\n",
       "      <td>[income, tax, citizen, euros, citizenship, tho...</td>\n",
       "      <td>[taxes, tax, taxation, income, incomes, vat, r...</td>\n",
       "      <td>[income, tax, citizen, euros, citizenship, tho...</td>\n",
       "      <td>[income, tax, citizen, euros, citizenship, fla...</td>\n",
       "      <td>[So today and until the end of this year, we h...</td>\n",
       "    </tr>\n",
       "    <tr>\n",
       "      <th>9</th>\n",
       "      <td>8</td>\n",
       "      <td>52</td>\n",
       "      <td>8_resources_funds_initiatives_fund</td>\n",
       "      <td>resources - funds - initiatives</td>\n",
       "      <td>[resources, funds, initiatives, fund, supply, ...</td>\n",
       "      <td>[initiatives, economic, organizations, project...</td>\n",
       "      <td>[resources, funds, initiatives, fund, supply, ...</td>\n",
       "      <td>[resources, funds, initiatives, fund, supply, ...</td>\n",
       "      <td>[For this reason, the objective of our work mu...</td>\n",
       "    </tr>\n",
       "    <tr>\n",
       "      <th>10</th>\n",
       "      <td>9</td>\n",
       "      <td>44</td>\n",
       "      <td>9_bills_inflation_bank_increase</td>\n",
       "      <td>bills - inflation - bank</td>\n",
       "      <td>[bills, inflation, bank, increase, materials, ...</td>\n",
       "      <td>[inflation, currency, expenditure, economic, e...</td>\n",
       "      <td>[bills, inflation, bank, increase, materials, ...</td>\n",
       "      <td>[bills, inflation, bank, increase, materials, ...</td>\n",
       "      <td>[The opposition is affected if you have some i...</td>\n",
       "    </tr>\n",
       "    <tr>\n",
       "      <th>11</th>\n",
       "      <td>10</td>\n",
       "      <td>43</td>\n",
       "      <td>10_vote_electoral_campaign_elections</td>\n",
       "      <td>vote - electoral - campaign</td>\n",
       "      <td>[vote, electoral, campaign, elections, promise...</td>\n",
       "      <td>[electoral, elections, ballots, election, voti...</td>\n",
       "      <td>[vote, electoral, campaign, elections, promise...</td>\n",
       "      <td>[vote, electoral, campaign, elections, promise...</td>\n",
       "      <td>[That is, I even realized the law because I am...</td>\n",
       "    </tr>\n",
       "    <tr>\n",
       "      <th>12</th>\n",
       "      <td>11</td>\n",
       "      <td>35</td>\n",
       "      <td>11_rape_wine_adolescence_behaviors</td>\n",
       "      <td>rape - wine - adolescence</td>\n",
       "      <td>[rape, wine, adolescence, behaviors, site, lad...</td>\n",
       "      <td>[rape, crime, rapist, raped, violence, rapes, ...</td>\n",
       "      <td>[rape, wine, adolescence, behaviors, site, lad...</td>\n",
       "      <td>[rape, wine, adolescence, lady, site, behavior...</td>\n",
       "      <td>[Widespread petty crime, violence, open-air dr...</td>\n",
       "    </tr>\n",
       "    <tr>\n",
       "      <th>13</th>\n",
       "      <td>12</td>\n",
       "      <td>34</td>\n",
       "      <td>12_emergency_safety_defend_emergencies</td>\n",
       "      <td>emergency - safety - defend</td>\n",
       "      <td>[emergency, safety, defend, emergencies, prote...</td>\n",
       "      <td>[safety, emergencies, risk, disasters, protect...</td>\n",
       "      <td>[emergency, safety, defend, emergencies, prote...</td>\n",
       "      <td>[emergency, safety, emergencies, protection, l...</td>\n",
       "      <td>[Because the scenes of degradation, abandonmen...</td>\n",
       "    </tr>\n",
       "    <tr>\n",
       "      <th>14</th>\n",
       "      <td>13</td>\n",
       "      <td>33</td>\n",
       "      <td>13_europe_european_witch_commission</td>\n",
       "      <td>europe - european - witch</td>\n",
       "      <td>[europe, european, witch, commission, council,...</td>\n",
       "      <td>[europe, eu, european, mediterranean, diplomat...</td>\n",
       "      <td>[europe, european, witch, commission, council,...</td>\n",
       "      <td>[witch, humanity, departures, addition, availa...</td>\n",
       "      <td>[The only way to seriously deal with this matt...</td>\n",
       "    </tr>\n",
       "    <tr>\n",
       "      <th>15</th>\n",
       "      <td>14</td>\n",
       "      <td>31</td>\n",
       "      <td>14_salaries_wages_taxes_questioners</td>\n",
       "      <td>salaries - wages - taxes</td>\n",
       "      <td>[salaries, wages, taxes, questioners, growing,...</td>\n",
       "      <td>[wages, italy, italian, salaries, euro, sicily...</td>\n",
       "      <td>[salaries, wages, taxes, questioners, growing,...</td>\n",
       "      <td>[salaries, wages, taxes, debtor, questioners, ...</td>\n",
       "      <td>[Which means that it doesn't depend on the, th...</td>\n",
       "    </tr>\n",
       "    <tr>\n",
       "      <th>16</th>\n",
       "      <td>15</td>\n",
       "      <td>30</td>\n",
       "      <td>15_wage_minimum_wages_parameter</td>\n",
       "      <td>wage - minimum - wages</td>\n",
       "      <td>[wage, minimum, wages, parameter, legal, subst...</td>\n",
       "      <td>[wages, wage, bargaining, minimum, workers, ec...</td>\n",
       "      <td>[wage, minimum, wages, parameter, legal, subst...</td>\n",
       "      <td>[wage, minimum, wages, parameter, legal, subst...</td>\n",
       "      <td>[For this reason, in the next few days we will...</td>\n",
       "    </tr>\n",
       "    <tr>\n",
       "      <th>17</th>\n",
       "      <td>16</td>\n",
       "      <td>30</td>\n",
       "      <td>16_thank_luck_good_you</td>\n",
       "      <td>thank - luck - good</td>\n",
       "      <td>[thank, luck, good, you, hope, thanks, too, wo...</td>\n",
       "      <td>[thank, thanks, , , , , , , , ]</td>\n",
       "      <td>[thank, luck, good, you, hope, thanks, too, wo...</td>\n",
       "      <td>[luck, thanks, work, , , , , , , ]</td>\n",
       "      <td>[Thank you., Thank you., Thank you.]</td>\n",
       "    </tr>\n",
       "    <tr>\n",
       "      <th>18</th>\n",
       "      <td>17</td>\n",
       "      <td>27</td>\n",
       "      <td>17_ecological_sustainability_transition_trees</td>\n",
       "      <td>ecological - sustainability - transition</td>\n",
       "      <td>[ecological, sustainability, transition, trees...</td>\n",
       "      <td>[desalination, sustainability, infrastructure,...</td>\n",
       "      <td>[ecological, sustainability, transition, trees...</td>\n",
       "      <td>[ecological, sustainability, transition, trees...</td>\n",
       "      <td>[We must defend our lands from climate change ...</td>\n",
       "    </tr>\n",
       "    <tr>\n",
       "      <th>19</th>\n",
       "      <td>18</td>\n",
       "      <td>24</td>\n",
       "      <td>18_fake_conspiracy_invent_news</td>\n",
       "      <td>fake - conspiracy - invent</td>\n",
       "      <td>[fake, conspiracy, invent, news, theories, dog...</td>\n",
       "      <td>[falsehoods, accusations, misrepresented, cons...</td>\n",
       "      <td>[fake, conspiracy, invent, news, theories, dog...</td>\n",
       "      <td>[fake, conspiracy, news, theories, dog, journa...</td>\n",
       "      <td>[For days I have been hearing total lies, fake...</td>\n",
       "    </tr>\n",
       "  </tbody>\n",
       "</table>\n",
       "</div>"
      ],
      "text/plain": [
       "    Topic  Count                                             Name  \\\n",
       "0      -1    799                    -1_government_our_people_will   \n",
       "1       0    193                      0_thank_ready_happy_reality   \n",
       "2       1    146                             1_yes_hi_enough_okay   \n",
       "3       2    142                   2_brothers_italy_italian_cross   \n",
       "4       3    103                   3_italy_italian_italians_knows   \n",
       "5       4     70  4_immigration_migration_traffickers_trafficking   \n",
       "6       5     70                    5_freedom_free_rights_liberal   \n",
       "7       6     63          6_ministers_council_sacrifices_minister   \n",
       "8       7     63                       7_income_tax_citizen_euros   \n",
       "9       8     52               8_resources_funds_initiatives_fund   \n",
       "10      9     44                  9_bills_inflation_bank_increase   \n",
       "11     10     43             10_vote_electoral_campaign_elections   \n",
       "12     11     35               11_rape_wine_adolescence_behaviors   \n",
       "13     12     34           12_emergency_safety_defend_emergencies   \n",
       "14     13     33              13_europe_european_witch_commission   \n",
       "15     14     31              14_salaries_wages_taxes_questioners   \n",
       "16     15     30                  15_wage_minimum_wages_parameter   \n",
       "17     16     30                           16_thank_luck_good_you   \n",
       "18     17     27    17_ecological_sustainability_transition_trees   \n",
       "19     18     24                   18_fake_conspiracy_invent_news   \n",
       "\n",
       "                                  CustomName  \\\n",
       "0                  government - our - people   \n",
       "1                      thank - ready - happy   \n",
       "2                          yes - hi - enough   \n",
       "3                 brothers - italy - italian   \n",
       "4                 italy - italian - italians   \n",
       "5      immigration - migration - traffickers   \n",
       "6                    freedom - free - rights   \n",
       "7           ministers - council - sacrifices   \n",
       "8                     income - tax - citizen   \n",
       "9            resources - funds - initiatives   \n",
       "10                  bills - inflation - bank   \n",
       "11               vote - electoral - campaign   \n",
       "12                 rape - wine - adolescence   \n",
       "13               emergency - safety - defend   \n",
       "14                 europe - european - witch   \n",
       "15                  salaries - wages - taxes   \n",
       "16                    wage - minimum - wages   \n",
       "17                       thank - luck - good   \n",
       "18  ecological - sustainability - transition   \n",
       "19                fake - conspiracy - invent   \n",
       "\n",
       "                                       Representation  \\\n",
       "0   [government, our, people, will, one, say, was,...   \n",
       "1   [thank, ready, happy, reality, here, wait, rea...   \n",
       "2   [yes, hi, enough, okay, surreal, too, ve, why,...   \n",
       "3   [brothers, italy, italian, cross, world, party...   \n",
       "4   [italy, italian, italians, knows, government, ...   \n",
       "5   [immigration, migration, traffickers, traffick...   \n",
       "6   [freedom, free, rights, liberal, right, love, ...   \n",
       "7   [ministers, council, sacrifices, minister, pro...   \n",
       "8   [income, tax, citizen, euros, citizenship, tho...   \n",
       "9   [resources, funds, initiatives, fund, supply, ...   \n",
       "10  [bills, inflation, bank, increase, materials, ...   \n",
       "11  [vote, electoral, campaign, elections, promise...   \n",
       "12  [rape, wine, adolescence, behaviors, site, lad...   \n",
       "13  [emergency, safety, defend, emergencies, prote...   \n",
       "14  [europe, european, witch, commission, council,...   \n",
       "15  [salaries, wages, taxes, questioners, growing,...   \n",
       "16  [wage, minimum, wages, parameter, legal, subst...   \n",
       "17  [thank, luck, good, you, hope, thanks, too, wo...   \n",
       "18  [ecological, sustainability, transition, trees...   \n",
       "19  [fake, conspiracy, invent, news, theories, dog...   \n",
       "\n",
       "                                              KeyBERT  \\\n",
       "0   [reform, citizens, government, today, politica...   \n",
       "1   [intimidated, emotion, speaking, very, tones, ...   \n",
       "2   [heard, hear, absolutely, yes, mainly, about, ...   \n",
       "3   [italians, italian, italy, francesco, election...   \n",
       "4   [italians, italian, italy, government, europe,...   \n",
       "5   [migrants, immigration, refugees, trafficking,...   \n",
       "6   [freedom, secularity, rights, totalitarianisms...   \n",
       "7   [honor, celebration, celebrate, salute, proud,...   \n",
       "8   [taxes, tax, taxation, income, incomes, vat, r...   \n",
       "9   [initiatives, economic, organizations, project...   \n",
       "10  [inflation, currency, expenditure, economic, e...   \n",
       "11  [electoral, elections, ballots, election, voti...   \n",
       "12  [rape, crime, rapist, raped, violence, rapes, ...   \n",
       "13  [safety, emergencies, risk, disasters, protect...   \n",
       "14  [europe, eu, european, mediterranean, diplomat...   \n",
       "15  [wages, italy, italian, salaries, euro, sicily...   \n",
       "16  [wages, wage, bargaining, minimum, workers, ec...   \n",
       "17                    [thank, thanks, , , , , , , , ]   \n",
       "18  [desalination, sustainability, infrastructure,...   \n",
       "19  [falsehoods, accusations, misrepresented, cons...   \n",
       "\n",
       "                                                  MMR  \\\n",
       "0   [government, our, people, will, one, say, was,...   \n",
       "1   [thank, ready, happy, reality, here, wait, rea...   \n",
       "2   [yes, hi, enough, okay, surreal, too, ve, why,...   \n",
       "3   [brothers, italy, italian, cross, world, party...   \n",
       "4   [italy, italian, italians, knows, government, ...   \n",
       "5   [immigration, migration, traffickers, traffick...   \n",
       "6   [freedom, free, rights, liberal, right, love, ...   \n",
       "7   [ministers, council, sacrifices, minister, pro...   \n",
       "8   [income, tax, citizen, euros, citizenship, tho...   \n",
       "9   [resources, funds, initiatives, fund, supply, ...   \n",
       "10  [bills, inflation, bank, increase, materials, ...   \n",
       "11  [vote, electoral, campaign, elections, promise...   \n",
       "12  [rape, wine, adolescence, behaviors, site, lad...   \n",
       "13  [emergency, safety, defend, emergencies, prote...   \n",
       "14  [europe, european, witch, commission, council,...   \n",
       "15  [salaries, wages, taxes, questioners, growing,...   \n",
       "16  [wage, minimum, wages, parameter, legal, subst...   \n",
       "17  [thank, luck, good, you, hope, thanks, too, wo...   \n",
       "18  [ecological, sustainability, transition, trees...   \n",
       "19  [fake, conspiracy, invent, news, theories, dog...   \n",
       "\n",
       "                                                  POS  \\\n",
       "0   [government, people, more, families, political...   \n",
       "1   [ready, happy, reality, more, permission, mome...   \n",
       "2   [enough, surreal, bit, fine, echo, finish, pro...   \n",
       "3   [brothers, cross, world, party, elections, cen...   \n",
       "4   [government, great, nation, collaboration, res...   \n",
       "5   [immigration, traffickers, trafficking, illega...   \n",
       "6   [freedom, free, rights, liberal, right, love, ...   \n",
       "7   [ministers, council, sacrifices, minister, pro...   \n",
       "8   [income, tax, citizen, euros, citizenship, fla...   \n",
       "9   [resources, funds, initiatives, fund, supply, ...   \n",
       "10  [bills, inflation, bank, increase, materials, ...   \n",
       "11  [vote, electoral, campaign, elections, promise...   \n",
       "12  [rape, wine, adolescence, lady, site, behavior...   \n",
       "13  [emergency, safety, emergencies, protection, l...   \n",
       "14  [witch, humanity, departures, addition, availa...   \n",
       "15  [salaries, wages, taxes, debtor, questioners, ...   \n",
       "16  [wage, minimum, wages, parameter, legal, subst...   \n",
       "17                 [luck, thanks, work, , , , , , , ]   \n",
       "18  [ecological, sustainability, transition, trees...   \n",
       "19  [fake, conspiracy, news, theories, dog, journa...   \n",
       "\n",
       "                                  Representative_Docs  \n",
       "0   [It is exactly from this philosophy that we mo...  \n",
       "1   [I apologize for the emotion of approaching th...  \n",
       "2   [No, I mean okay, things will be fine anyway.,...  \n",
       "3   [Then even funnier than this is the reason why...  \n",
       "4   [I can speak very badly about Italy, but I do ...  \n",
       "5   [The route is not covered by non-governmental ...  \n",
       "6   [A great Italian liberal philosopher, Benedett...  \n",
       "7   [Demonstrate the pride that we demonstrate bec...  \n",
       "8   [So today and until the end of this year, we h...  \n",
       "9   [For this reason, the objective of our work mu...  \n",
       "10  [The opposition is affected if you have some i...  \n",
       "11  [That is, I even realized the law because I am...  \n",
       "12  [Widespread petty crime, violence, open-air dr...  \n",
       "13  [Because the scenes of degradation, abandonmen...  \n",
       "14  [The only way to seriously deal with this matt...  \n",
       "15  [Which means that it doesn't depend on the, th...  \n",
       "16  [For this reason, in the next few days we will...  \n",
       "17               [Thank you., Thank you., Thank you.]  \n",
       "18  [We must defend our lands from climate change ...  \n",
       "19  [For days I have been hearing total lies, fake...  "
      ]
     },
     "execution_count": 222,
     "metadata": {},
     "output_type": "execute_result"
    }
   ],
   "source": [
    "topic_lables = topic_model.generate_topic_labels(nr_words=3, topic_prefix=False, word_length=15, separator=' - ')\n",
    "topic_model.set_topic_labels(topic_lables)\n",
    "\n",
    "# llama2_labels = [label[0][0].split(\"\\n\")[0] for label in topic_model.get_topics(full=True)[\"Llama2\"].values()]\n",
    "# topic_model.set_topic_labels(llama2_labels)\n",
    "print(topic_model.get_topic_info()['KeyBERT'][0])\n",
    "# topic_model.set_topic_labels({1: \"Abortion\"})\n",
    "# topic_model.set_topic_labels({2: \"Immigration\"})\n",
    "# topic_model.set_topic_labels({3: \"Fake News\"})\n",
    "# topic_model.set_topic_labels({4: \"Freedom\"})\n",
    "# topic_model.set_topic_labels({14: \"Taxes\"})\n",
    "# topic_model.set_topic_labels({14: \"Cost of Living/Inflation\"})\n",
    "# topic_model.set_topic_labels({14: \"Election Campaign\"})\n",
    "# topic_model.set_topic_labels({14: \"Rape\"})\n",
    "# topic_model.set_topic_labels({14: \"Climate Change\"})\n",
    "topic_model.get_topic_info().head(20)"
   ]
  },
  {
   "cell_type": "code",
   "execution_count": 68,
   "metadata": {},
   "outputs": [
    {
     "data": {
      "text/html": [
       "<div>\n",
       "<style scoped>\n",
       "    .dataframe tbody tr th:only-of-type {\n",
       "        vertical-align: middle;\n",
       "    }\n",
       "\n",
       "    .dataframe tbody tr th {\n",
       "        vertical-align: top;\n",
       "    }\n",
       "\n",
       "    .dataframe thead th {\n",
       "        text-align: right;\n",
       "    }\n",
       "</style>\n",
       "<table border=\"1\" class=\"dataframe\">\n",
       "  <thead>\n",
       "    <tr style=\"text-align: right;\">\n",
       "      <th></th>\n",
       "      <th>Topic</th>\n",
       "      <th>Count</th>\n",
       "      <th>Name</th>\n",
       "      <th>Representation</th>\n",
       "      <th>Representative_Docs</th>\n",
       "    </tr>\n",
       "  </thead>\n",
       "  <tbody>\n",
       "    <tr>\n",
       "      <th>0</th>\n",
       "      <td>-1</td>\n",
       "      <td>999</td>\n",
       "      <td>-1_the_to_that_of</td>\n",
       "      <td>[the, to, that, of, and, in, we, is, you, are]</td>\n",
       "      <td>[ I can announce to you now that the budget la...</td>\n",
       "    </tr>\n",
       "    <tr>\n",
       "      <th>1</th>\n",
       "      <td>0</td>\n",
       "      <td>456</td>\n",
       "      <td>0_the_of_italy_to</td>\n",
       "      <td>[the, of, italy, to, and, in, is, that, we, it]</td>\n",
       "      <td>[ Easy it doesn't take much you have to study,...</td>\n",
       "    </tr>\n",
       "    <tr>\n",
       "      <th>2</th>\n",
       "      <td>1</td>\n",
       "      <td>56</td>\n",
       "      <td>1_we_work_ready_we are</td>\n",
       "      <td>[we, work, ready, we are, here, you, are, to, ...</td>\n",
       "      <td>[ And obviously we are already announcing that...</td>\n",
       "    </tr>\n",
       "    <tr>\n",
       "      <th>3</th>\n",
       "      <td>2</td>\n",
       "      <td>56</td>\n",
       "      <td>2_the_campaign_electoral_that</td>\n",
       "      <td>[the, campaign, electoral, that, right, is, th...</td>\n",
       "      <td>[ I am potentially the majority now, will I de...</td>\n",
       "    </tr>\n",
       "    <tr>\n",
       "      <th>4</th>\n",
       "      <td>3</td>\n",
       "      <td>53</td>\n",
       "      <td>3_we_you_responsibility_is</td>\n",
       "      <td>[we, you, responsibility, is, to, this, and, t...</td>\n",
       "      <td>[ So the higher we climb and the more we bring...</td>\n",
       "    </tr>\n",
       "  </tbody>\n",
       "</table>\n",
       "</div>"
      ],
      "text/plain": [
       "   Topic  Count                           Name  \\\n",
       "0     -1    999              -1_the_to_that_of   \n",
       "1      0    456              0_the_of_italy_to   \n",
       "2      1     56         1_we_work_ready_we are   \n",
       "3      2     56  2_the_campaign_electoral_that   \n",
       "4      3     53     3_we_you_responsibility_is   \n",
       "\n",
       "                                      Representation  \\\n",
       "0     [the, to, that, of, and, in, we, is, you, are]   \n",
       "1    [the, of, italy, to, and, in, is, that, we, it]   \n",
       "2  [we, work, ready, we are, here, you, are, to, ...   \n",
       "3  [the, campaign, electoral, that, right, is, th...   \n",
       "4  [we, you, responsibility, is, to, this, and, t...   \n",
       "\n",
       "                                 Representative_Docs  \n",
       "0  [ I can announce to you now that the budget la...  \n",
       "1  [ Easy it doesn't take much you have to study,...  \n",
       "2  [ And obviously we are already announcing that...  \n",
       "3  [ I am potentially the majority now, will I de...  \n",
       "4  [ So the higher we climb and the more we bring...  "
      ]
     },
     "execution_count": 68,
     "metadata": {},
     "output_type": "execute_result"
    }
   ],
   "source": [
    "# merge topics\n",
    "topic_model.merge_topics(docs, topics_to_merge=[-1, 1])\n",
    "topic_model.get_topic_info().head(5)"
   ]
  },
  {
   "cell_type": "code",
   "execution_count": null,
   "metadata": {},
   "outputs": [],
   "source": [
    "\n",
    "# %%time\n",
    "# model = BERTopic(\n",
    "#     n_gram_range=(1, 2),\n",
    "#     vectorizer_model=vectorizer_model,\n",
    "#     nr_topics='auto',\n",
    "#     min_topic_size=10,\n",
    "#     diversity=0.7,\n",
    "#     seed_topic_list=[\n",
    "#         [\"experience\", \"bad\", \"good\", \"nice\"],\n",
    "#         [\"place\", \"atmosphere\", \"toilet\", \"clean\"],\n",
    "#         [\"staff\", \"waitress\", \"service\"],\n",
    "#         [\"wait\", \"time\", \"long\"],\n",
    "#         [\"food\", \"taste\"]\n",
    "#     ],\n",
    "#     calculate_probabilities=True).fit(docs, corpus_embeddings)\n",
    "# remove outliers\n",
    "#  Comment out this line below if you decided to use the \"propbabilities\" strategy\n",
    "# new_topics = model.reduce_outliers(docs, topics, strategy=\"c-tf-idf\")\n",
    "\n",
    "\n",
    "# Reduce outliers using the `probabilities` strategy (Uncomment to use this)\n",
    "# #new_topics = model.reduce_outliers(docs, topics, probabilities=probabilities, strategy=\"probabilities\")\n",
    "# This line is to update the model with the latest topic assignment \n",
    "# model.update_topics(docs, topics=new_topics, vectorizer_model=vectorizer_model)\n",
    "\n",
    "# df_topic_freq = model.get_topic_freq()\n",
    "# topics_count = len(df_topic_freq) - 1\n",
    "# df_topic_freq"
   ]
  },
  {
   "cell_type": "code",
   "execution_count": 230,
   "metadata": {},
   "outputs": [
    {
     "data": {
      "text/plain": [
       "{'Main': [('resources', 0.4210617587670018),\n",
       "  ('supply', 0.3074709349220746),\n",
       "  ('funds', 0.3074709349220746),\n",
       "  ('chains', 0.2844834341485178),\n",
       "  ('fund', 0.27799883639406936),\n",
       "  ('initiatives', 0.2686058216276156),\n",
       "  ('farmers', 0.24794738314868262),\n",
       "  ('cases', 0.24463657439521205),\n",
       "  ('interventions', 0.23816596207920385),\n",
       "  ('support', 0.23395728687359035)]}"
      ]
     },
     "execution_count": 230,
     "metadata": {},
     "output_type": "execute_result"
    }
   ],
   "source": [
    "topic_model.get_topic(6, full=True)"
   ]
  },
  {
   "cell_type": "code",
   "execution_count": 255,
   "metadata": {},
   "outputs": [
    {
     "data": {
      "text/html": [
       "<div>\n",
       "<style scoped>\n",
       "    .dataframe tbody tr th:only-of-type {\n",
       "        vertical-align: middle;\n",
       "    }\n",
       "\n",
       "    .dataframe tbody tr th {\n",
       "        vertical-align: top;\n",
       "    }\n",
       "\n",
       "    .dataframe thead th {\n",
       "        text-align: right;\n",
       "    }\n",
       "</style>\n",
       "<table border=\"1\" class=\"dataframe\">\n",
       "  <thead>\n",
       "    <tr style=\"text-align: right;\">\n",
       "      <th></th>\n",
       "      <th>Document</th>\n",
       "      <th>Topic</th>\n",
       "      <th>Name</th>\n",
       "      <th>Representation</th>\n",
       "      <th>KeyBERT</th>\n",
       "      <th>OpenAI</th>\n",
       "      <th>POS</th>\n",
       "      <th>Representative_Docs</th>\n",
       "      <th>Top_n_words</th>\n",
       "      <th>Probability</th>\n",
       "      <th>Representative_document</th>\n",
       "    </tr>\n",
       "  </thead>\n",
       "  <tbody>\n",
       "    <tr>\n",
       "      <th>0</th>\n",
       "      <td>Another important chapter of our work in recen...</td>\n",
       "      <td>7</td>\n",
       "      <td>7_resources_supply_initiatives_fund</td>\n",
       "      <td>[resources, supply, initiatives, fund, used, h...</td>\n",
       "      <td>[initiatives, organizations, projects, fund, f...</td>\n",
       "      <td>[Development initiatives and funding]</td>\n",
       "      <td>[resources, funds, supply, initiatives, fund, ...</td>\n",
       "      <td>[For this reason, the objective of our work mu...</td>\n",
       "      <td>resources - supply - initiatives - fund - used...</td>\n",
       "      <td>0.626189</td>\n",
       "      <td>False</td>\n",
       "    </tr>\n",
       "    <tr>\n",
       "      <th>1</th>\n",
       "      <td>The government has allocated over one billion ...</td>\n",
       "      <td>7</td>\n",
       "      <td>7_resources_supply_initiatives_fund</td>\n",
       "      <td>[resources, supply, initiatives, fund, used, h...</td>\n",
       "      <td>[initiatives, organizations, projects, fund, f...</td>\n",
       "      <td>[Development initiatives and funding]</td>\n",
       "      <td>[resources, funds, supply, initiatives, fund, ...</td>\n",
       "      <td>[For this reason, the objective of our work mu...</td>\n",
       "      <td>resources - supply - initiatives - fund - used...</td>\n",
       "      <td>0.925143</td>\n",
       "      <td>False</td>\n",
       "    </tr>\n",
       "    <tr>\n",
       "      <th>2</th>\n",
       "      <td>Because the scenes of degradation, abandonment...</td>\n",
       "      <td>11</td>\n",
       "      <td>11_safety_emergency_defend_especially</td>\n",
       "      <td>[safety, emergency, defend, especially, lives,...</td>\n",
       "      <td>[safety, protection, emergencies, risk, defend...</td>\n",
       "      <td>[Safety and Emergency Defense]</td>\n",
       "      <td>[safety, emergency, alternation, emergencies, ...</td>\n",
       "      <td>[We want to defend people who keep our beaches...</td>\n",
       "      <td>safety - emergency - defend - especially - liv...</td>\n",
       "      <td>0.805523</td>\n",
       "      <td>False</td>\n",
       "    </tr>\n",
       "    <tr>\n",
       "      <th>3</th>\n",
       "      <td>So we decided to increase the salaries and ove...</td>\n",
       "      <td>-1</td>\n",
       "      <td>-1_say_government_people_let</td>\n",
       "      <td>[say, government, people, let, obviously, want...</td>\n",
       "      <td>[government, political, support, culture, pres...</td>\n",
       "      <td>[Government efforts and public belief]</td>\n",
       "      <td>[government, people, culture, first, thing, po...</td>\n",
       "      <td>[We have started important work to make the pl...</td>\n",
       "      <td>say - government - people - let - obviously - ...</td>\n",
       "      <td>0.000000</td>\n",
       "      <td>False</td>\n",
       "    </tr>\n",
       "    <tr>\n",
       "      <th>4</th>\n",
       "      <td>We have decided to limit the possibility that ...</td>\n",
       "      <td>-1</td>\n",
       "      <td>-1_say_government_people_let</td>\n",
       "      <td>[say, government, people, let, obviously, want...</td>\n",
       "      <td>[government, political, support, culture, pres...</td>\n",
       "      <td>[Government efforts and public belief]</td>\n",
       "      <td>[government, people, culture, first, thing, po...</td>\n",
       "      <td>[We have started important work to make the pl...</td>\n",
       "      <td>say - government - people - let - obviously - ...</td>\n",
       "      <td>0.000000</td>\n",
       "      <td>False</td>\n",
       "    </tr>\n",
       "    <tr>\n",
       "      <th>...</th>\n",
       "      <td>...</td>\n",
       "      <td>...</td>\n",
       "      <td>...</td>\n",
       "      <td>...</td>\n",
       "      <td>...</td>\n",
       "      <td>...</td>\n",
       "      <td>...</td>\n",
       "      <td>...</td>\n",
       "      <td>...</td>\n",
       "      <td>...</td>\n",
       "      <td>...</td>\n",
       "    </tr>\n",
       "    <tr>\n",
       "      <th>2320</th>\n",
       "      <td>Yesterday established a principle, namely that...</td>\n",
       "      <td>-1</td>\n",
       "      <td>-1_say_government_people_let</td>\n",
       "      <td>[say, government, people, let, obviously, want...</td>\n",
       "      <td>[government, political, support, culture, pres...</td>\n",
       "      <td>[Government efforts and public belief]</td>\n",
       "      <td>[government, people, culture, first, thing, po...</td>\n",
       "      <td>[We have started important work to make the pl...</td>\n",
       "      <td>say - government - people - let - obviously - ...</td>\n",
       "      <td>0.000000</td>\n",
       "      <td>False</td>\n",
       "    </tr>\n",
       "    <tr>\n",
       "      <th>2321</th>\n",
       "      <td>The approach of the European Council in the co...</td>\n",
       "      <td>13</td>\n",
       "      <td>13_european_europe_european council_council</td>\n",
       "      <td>[european, europe, european council, council, ...</td>\n",
       "      <td>[europeanism, europe, eu, european, departures...</td>\n",
       "      <td>[Europe's Response to Departures]</td>\n",
       "      <td>[witch, departures, humanity, addition, availa...</td>\n",
       "      <td>[The only way to seriously deal with this matt...</td>\n",
       "      <td>european - europe - european council - council...</td>\n",
       "      <td>1.000000</td>\n",
       "      <td>False</td>\n",
       "    </tr>\n",
       "    <tr>\n",
       "      <th>2322</th>\n",
       "      <td>The approach that the European Council, put in...</td>\n",
       "      <td>13</td>\n",
       "      <td>13_european_europe_european council_council</td>\n",
       "      <td>[european, europe, european council, council, ...</td>\n",
       "      <td>[europeanism, europe, eu, european, departures...</td>\n",
       "      <td>[Europe's Response to Departures]</td>\n",
       "      <td>[witch, departures, humanity, addition, availa...</td>\n",
       "      <td>[The only way to seriously deal with this matt...</td>\n",
       "      <td>european - europe - european council - council...</td>\n",
       "      <td>1.000000</td>\n",
       "      <td>False</td>\n",
       "    </tr>\n",
       "    <tr>\n",
       "      <th>2323</th>\n",
       "      <td>Immigration is a European problem and needs a ...</td>\n",
       "      <td>4</td>\n",
       "      <td>4_immigration_people_international law_traffic...</td>\n",
       "      <td>[immigration, people, international law, traff...</td>\n",
       "      <td>[immigration, migrants, refugees, immigrants, ...</td>\n",
       "      <td>[Combating Illegal Immigration and Trafficking]</td>\n",
       "      <td>[immigration, traffickers, trafficking, illega...</td>\n",
       "      <td>[The route is not covered by non-governmental ...</td>\n",
       "      <td>immigration - people - international law - tra...</td>\n",
       "      <td>1.000000</td>\n",
       "      <td>False</td>\n",
       "    </tr>\n",
       "    <tr>\n",
       "      <th>2324</th>\n",
       "      <td>This, from my point of view, changes many thin...</td>\n",
       "      <td>4</td>\n",
       "      <td>4_immigration_people_international law_traffic...</td>\n",
       "      <td>[immigration, people, international law, traff...</td>\n",
       "      <td>[immigration, migrants, refugees, immigrants, ...</td>\n",
       "      <td>[Combating Illegal Immigration and Trafficking]</td>\n",
       "      <td>[immigration, traffickers, trafficking, illega...</td>\n",
       "      <td>[The route is not covered by non-governmental ...</td>\n",
       "      <td>immigration - people - international law - tra...</td>\n",
       "      <td>0.314740</td>\n",
       "      <td>False</td>\n",
       "    </tr>\n",
       "  </tbody>\n",
       "</table>\n",
       "<p>2325 rows × 11 columns</p>\n",
       "</div>"
      ],
      "text/plain": [
       "                                               Document  Topic  \\\n",
       "0     Another important chapter of our work in recen...      7   \n",
       "1     The government has allocated over one billion ...      7   \n",
       "2     Because the scenes of degradation, abandonment...     11   \n",
       "3     So we decided to increase the salaries and ove...     -1   \n",
       "4     We have decided to limit the possibility that ...     -1   \n",
       "...                                                 ...    ...   \n",
       "2320  Yesterday established a principle, namely that...     -1   \n",
       "2321  The approach of the European Council in the co...     13   \n",
       "2322  The approach that the European Council, put in...     13   \n",
       "2323  Immigration is a European problem and needs a ...      4   \n",
       "2324  This, from my point of view, changes many thin...      4   \n",
       "\n",
       "                                                   Name  \\\n",
       "0                   7_resources_supply_initiatives_fund   \n",
       "1                   7_resources_supply_initiatives_fund   \n",
       "2                 11_safety_emergency_defend_especially   \n",
       "3                          -1_say_government_people_let   \n",
       "4                          -1_say_government_people_let   \n",
       "...                                                 ...   \n",
       "2320                       -1_say_government_people_let   \n",
       "2321        13_european_europe_european council_council   \n",
       "2322        13_european_europe_european council_council   \n",
       "2323  4_immigration_people_international law_traffic...   \n",
       "2324  4_immigration_people_international law_traffic...   \n",
       "\n",
       "                                         Representation  \\\n",
       "0     [resources, supply, initiatives, fund, used, h...   \n",
       "1     [resources, supply, initiatives, fund, used, h...   \n",
       "2     [safety, emergency, defend, especially, lives,...   \n",
       "3     [say, government, people, let, obviously, want...   \n",
       "4     [say, government, people, let, obviously, want...   \n",
       "...                                                 ...   \n",
       "2320  [say, government, people, let, obviously, want...   \n",
       "2321  [european, europe, european council, council, ...   \n",
       "2322  [european, europe, european council, council, ...   \n",
       "2323  [immigration, people, international law, traff...   \n",
       "2324  [immigration, people, international law, traff...   \n",
       "\n",
       "                                                KeyBERT  \\\n",
       "0     [initiatives, organizations, projects, fund, f...   \n",
       "1     [initiatives, organizations, projects, fund, f...   \n",
       "2     [safety, protection, emergencies, risk, defend...   \n",
       "3     [government, political, support, culture, pres...   \n",
       "4     [government, political, support, culture, pres...   \n",
       "...                                                 ...   \n",
       "2320  [government, political, support, culture, pres...   \n",
       "2321  [europeanism, europe, eu, european, departures...   \n",
       "2322  [europeanism, europe, eu, european, departures...   \n",
       "2323  [immigration, migrants, refugees, immigrants, ...   \n",
       "2324  [immigration, migrants, refugees, immigrants, ...   \n",
       "\n",
       "                                               OpenAI  \\\n",
       "0               [Development initiatives and funding]   \n",
       "1               [Development initiatives and funding]   \n",
       "2                      [Safety and Emergency Defense]   \n",
       "3              [Government efforts and public belief]   \n",
       "4              [Government efforts and public belief]   \n",
       "...                                               ...   \n",
       "2320           [Government efforts and public belief]   \n",
       "2321                [Europe's Response to Departures]   \n",
       "2322                [Europe's Response to Departures]   \n",
       "2323  [Combating Illegal Immigration and Trafficking]   \n",
       "2324  [Combating Illegal Immigration and Trafficking]   \n",
       "\n",
       "                                                    POS  \\\n",
       "0     [resources, funds, supply, initiatives, fund, ...   \n",
       "1     [resources, funds, supply, initiatives, fund, ...   \n",
       "2     [safety, emergency, alternation, emergencies, ...   \n",
       "3     [government, people, culture, first, thing, po...   \n",
       "4     [government, people, culture, first, thing, po...   \n",
       "...                                                 ...   \n",
       "2320  [government, people, culture, first, thing, po...   \n",
       "2321  [witch, departures, humanity, addition, availa...   \n",
       "2322  [witch, departures, humanity, addition, availa...   \n",
       "2323  [immigration, traffickers, trafficking, illega...   \n",
       "2324  [immigration, traffickers, trafficking, illega...   \n",
       "\n",
       "                                    Representative_Docs  \\\n",
       "0     [For this reason, the objective of our work mu...   \n",
       "1     [For this reason, the objective of our work mu...   \n",
       "2     [We want to defend people who keep our beaches...   \n",
       "3     [We have started important work to make the pl...   \n",
       "4     [We have started important work to make the pl...   \n",
       "...                                                 ...   \n",
       "2320  [We have started important work to make the pl...   \n",
       "2321  [The only way to seriously deal with this matt...   \n",
       "2322  [The only way to seriously deal with this matt...   \n",
       "2323  [The route is not covered by non-governmental ...   \n",
       "2324  [The route is not covered by non-governmental ...   \n",
       "\n",
       "                                            Top_n_words  Probability  \\\n",
       "0     resources - supply - initiatives - fund - used...     0.626189   \n",
       "1     resources - supply - initiatives - fund - used...     0.925143   \n",
       "2     safety - emergency - defend - especially - liv...     0.805523   \n",
       "3     say - government - people - let - obviously - ...     0.000000   \n",
       "4     say - government - people - let - obviously - ...     0.000000   \n",
       "...                                                 ...          ...   \n",
       "2320  say - government - people - let - obviously - ...     0.000000   \n",
       "2321  european - europe - european council - council...     1.000000   \n",
       "2322  european - europe - european council - council...     1.000000   \n",
       "2323  immigration - people - international law - tra...     1.000000   \n",
       "2324  immigration - people - international law - tra...     0.314740   \n",
       "\n",
       "      Representative_document  \n",
       "0                       False  \n",
       "1                       False  \n",
       "2                       False  \n",
       "3                       False  \n",
       "4                       False  \n",
       "...                       ...  \n",
       "2320                    False  \n",
       "2321                    False  \n",
       "2322                    False  \n",
       "2323                    False  \n",
       "2324                    False  \n",
       "\n",
       "[2325 rows x 11 columns]"
      ]
     },
     "execution_count": 255,
     "metadata": {},
     "output_type": "execute_result"
    }
   ],
   "source": [
    "topic_model.get_document_info(docs)"
   ]
  },
  {
   "cell_type": "code",
   "execution_count": 252,
   "metadata": {},
   "outputs": [
    {
     "data": {
      "application/vnd.plotly.v1+json": {
       "config": {
        "plotlyServerURL": "https://plot.ly"
       },
       "data": [
        {
         "customdata": [
          [
           0,
           "italian | italy | italians | government | how",
           174
          ],
          [
           1,
           "thank | ready | happy | reality | here",
           145
          ],
          [
           2,
           "brothers | italy | italian | cross | world",
           140
          ],
          [
           3,
           "yes | hi | okay | too | ve",
           133
          ],
          [
           4,
           "immigration | migration | traffickers | trafficking | moved",
           72
          ],
          [
           5,
           "freedom | free | rights | liberal | right",
           65
          ],
          [
           6,
           "income | tax | citizen | euros | citizenship",
           61
          ],
          [
           7,
           "resources | funds | supply | initiatives | fund",
           50
          ],
          [
           8,
           "vote | electoral | campaign | elections | requires",
           46
          ],
          [
           9,
           "bills | inflation | bank | materials | prices",
           43
          ],
          [
           10,
           "wage | minimum | wages | parameter | legal",
           38
          ],
          [
           11,
           "safety | emergency | emergencies | alternation | defend",
           36
          ],
          [
           12,
           "rape | wine | adolescence | behaviors | site",
           35
          ],
          [
           13,
           "european | europe | witch | commission | council",
           31
          ],
          [
           14,
           "thank | luck | good | you | work",
           28
          ],
          [
           15,
           "fake | conspiracy | invent | news | george",
           28
          ],
          [
           16,
           "ecological | sustainability | transition | climate | water",
           26
          ],
          [
           17,
           "training | work | hiring | benefit | participating",
           25
          ],
          [
           18,
           "left | comparison | authoritarian | lacking | wing",
           21
          ],
          [
           19,
           "pension | pensions | allowance | leave | percent",
           21
          ],
          [
           20,
           "abortion | alternative | woman | she | apply",
           21
          ],
          [
           21,
           "sport | sports | desperately | youth | iceland",
           19
          ],
          [
           22,
           "meloni | shivers | derived | laugh | steal",
           19
          ],
          [
           23,
           "thinks | tones | speaking | use | allowed",
           18
          ],
          [
           24,
           "ministers | minister | council | memorandum | convene",
           17
          ],
          [
           25,
           "state | create | just | fair | stay",
           17
          ],
          [
           26,
           "budget | law | provisions | budgets | contribution",
           17
          ],
          [
           27,
           "government | reverse | trend | realizing | level",
           17
          ],
          [
           28,
           "credit | credits | facilitate | banks | collapse",
           17
          ],
          [
           29,
           "putin | russia | values | christian | dostoievski",
           16
          ],
          [
           30,
           "thank | thanks | welcome | much | you",
           15
          ],
          [
           31,
           "price | petrol | average | euro | eight",
           14
          ],
          [
           32,
           "christmas | nativity | scene | merry | trees",
           14
          ],
          [
           33,
           "proud | win | leadership | fought | battle",
           13
          ],
          [
           34,
           "measures | measure | scams | quarter | enormously",
           12
          ],
          [
           35,
           "morning | good | tired | purposes | film",
           12
          ],
          [
           36,
           "abolish | ninety | four | modify | hundred",
           12
          ]
         ],
         "hovertemplate": "<b>Topic %{customdata[0]}</b><br>%{customdata[1]}<br>Size: %{customdata[2]}",
         "legendgroup": "",
         "marker": {
          "color": "#B0BEC5",
          "line": {
           "color": "DarkSlateGrey",
           "width": 2
          },
          "size": [
           174,
           145,
           140,
           133,
           72,
           65,
           61,
           50,
           46,
           43,
           38,
           36,
           35,
           31,
           28,
           28,
           26,
           25,
           21,
           21,
           21,
           19,
           19,
           18,
           17,
           17,
           17,
           17,
           17,
           16,
           15,
           14,
           14,
           13,
           12,
           12,
           12
          ],
          "sizemode": "area",
          "sizeref": 0.10875,
          "symbol": "circle"
         },
         "mode": "markers",
         "name": "",
         "orientation": "v",
         "showlegend": false,
         "type": "scatter",
         "x": [
          11.993383407592773,
          19.070117950439453,
          12.242568016052246,
          19.563106536865234,
          12.99826717376709,
          19.387813568115234,
          -6.92014217376709,
          0.09036947786808014,
          -1.4534045457839966,
          7.5258378982543945,
          11.208189964294434,
          12.998143196105957,
          19.49989891052246,
          12.333510398864746,
          -2.545781135559082,
          -2.3678460121154785,
          0.4103725552558899,
          11.097025871276855,
          -2.125230550765991,
          -6.973142623901367,
          19.230348587036133,
          0.14438597857952118,
          11.879324913024902,
          19.077978134155273,
          -1.5980979204177856,
          10.819733619689941,
          0.10105747729539871,
          -1.331049919128418,
          0.2697230875492096,
          -2.2332329750061035,
          -2.545781373977661,
          7.525861740112305,
          19.208139419555664,
          19.347139358520508,
          0.09771566838026047,
          19.758190155029297,
          -1.3306549787521362
         ],
         "xaxis": "x",
         "y": [
          -6.84351921081543,
          4.670206069946289,
          -6.594038486480713,
          3.8851640224456787,
          0.19458134472370148,
          3.446502923965454,
          17.704021453857422,
          11.21402645111084,
          12.781981468200684,
          19.452316284179688,
          5.350167751312256,
          0.19455134868621826,
          3.533839464187622,
          -6.502884864807129,
          22.50424575805664,
          12.468339920043945,
          11.128814697265625,
          5.460779190063477,
          12.545758247375488,
          17.65851593017578,
          3.2417962551116943,
          11.165874481201172,
          -6.957429885864258,
          4.969587326049805,
          12.331779479980469,
          5.738244533538818,
          11.811777114868164,
          11.964540481567383,
          11.948516845703125,
          12.712844848632812,
          22.504179000854492,
          19.45231056213379,
          4.5820231437683105,
          4.759944438934326,
          10.826078414916992,
          4.0413689613342285,
          12.185989379882812
         ],
         "yaxis": "y"
        }
       ],
       "layout": {
        "annotations": [
         {
          "showarrow": false,
          "text": "D1",
          "x": -8.019114017486572,
          "y": 8.939419126510622,
          "yshift": 10
         },
         {
          "showarrow": false,
          "text": "D2",
          "x": 7.35140233039856,
          "xshift": 10,
          "y": 25.879882621765137
         }
        ],
        "height": 650,
        "hoverlabel": {
         "bgcolor": "white",
         "font": {
          "family": "Rockwell",
          "size": 16
         }
        },
        "legend": {
         "itemsizing": "constant",
         "tracegroupgap": 0
        },
        "margin": {
         "t": 60
        },
        "shapes": [
         {
          "line": {
           "color": "#CFD8DC",
           "width": 2
          },
          "type": "line",
          "x0": 7.35140233039856,
          "x1": 7.35140233039856,
          "y0": -8.001044368743896,
          "y1": 25.879882621765137
         },
         {
          "line": {
           "color": "#9E9E9E",
           "width": 2
          },
          "type": "line",
          "x0": -8.019114017486572,
          "x1": 22.721918678283693,
          "y0": 8.939419126510622,
          "y1": 8.939419126510622
         }
        ],
        "sliders": [
         {
          "active": 0,
          "pad": {
           "t": 50
          },
          "steps": [
           {
            "args": [
             {
              "marker.color": [
               [
                "red",
                "#B0BEC5",
                "#B0BEC5",
                "#B0BEC5",
                "#B0BEC5",
                "#B0BEC5",
                "#B0BEC5",
                "#B0BEC5",
                "#B0BEC5",
                "#B0BEC5",
                "#B0BEC5",
                "#B0BEC5",
                "#B0BEC5",
                "#B0BEC5",
                "#B0BEC5",
                "#B0BEC5",
                "#B0BEC5",
                "#B0BEC5",
                "#B0BEC5",
                "#B0BEC5",
                "#B0BEC5",
                "#B0BEC5",
                "#B0BEC5",
                "#B0BEC5",
                "#B0BEC5",
                "#B0BEC5",
                "#B0BEC5",
                "#B0BEC5",
                "#B0BEC5",
                "#B0BEC5",
                "#B0BEC5",
                "#B0BEC5",
                "#B0BEC5",
                "#B0BEC5",
                "#B0BEC5",
                "#B0BEC5",
                "#B0BEC5"
               ]
              ]
             }
            ],
            "label": "Topic 0",
            "method": "update"
           },
           {
            "args": [
             {
              "marker.color": [
               [
                "#B0BEC5",
                "red",
                "#B0BEC5",
                "#B0BEC5",
                "#B0BEC5",
                "#B0BEC5",
                "#B0BEC5",
                "#B0BEC5",
                "#B0BEC5",
                "#B0BEC5",
                "#B0BEC5",
                "#B0BEC5",
                "#B0BEC5",
                "#B0BEC5",
                "#B0BEC5",
                "#B0BEC5",
                "#B0BEC5",
                "#B0BEC5",
                "#B0BEC5",
                "#B0BEC5",
                "#B0BEC5",
                "#B0BEC5",
                "#B0BEC5",
                "#B0BEC5",
                "#B0BEC5",
                "#B0BEC5",
                "#B0BEC5",
                "#B0BEC5",
                "#B0BEC5",
                "#B0BEC5",
                "#B0BEC5",
                "#B0BEC5",
                "#B0BEC5",
                "#B0BEC5",
                "#B0BEC5",
                "#B0BEC5",
                "#B0BEC5"
               ]
              ]
             }
            ],
            "label": "Topic 1",
            "method": "update"
           },
           {
            "args": [
             {
              "marker.color": [
               [
                "#B0BEC5",
                "#B0BEC5",
                "red",
                "#B0BEC5",
                "#B0BEC5",
                "#B0BEC5",
                "#B0BEC5",
                "#B0BEC5",
                "#B0BEC5",
                "#B0BEC5",
                "#B0BEC5",
                "#B0BEC5",
                "#B0BEC5",
                "#B0BEC5",
                "#B0BEC5",
                "#B0BEC5",
                "#B0BEC5",
                "#B0BEC5",
                "#B0BEC5",
                "#B0BEC5",
                "#B0BEC5",
                "#B0BEC5",
                "#B0BEC5",
                "#B0BEC5",
                "#B0BEC5",
                "#B0BEC5",
                "#B0BEC5",
                "#B0BEC5",
                "#B0BEC5",
                "#B0BEC5",
                "#B0BEC5",
                "#B0BEC5",
                "#B0BEC5",
                "#B0BEC5",
                "#B0BEC5",
                "#B0BEC5",
                "#B0BEC5"
               ]
              ]
             }
            ],
            "label": "Topic 2",
            "method": "update"
           },
           {
            "args": [
             {
              "marker.color": [
               [
                "#B0BEC5",
                "#B0BEC5",
                "#B0BEC5",
                "red",
                "#B0BEC5",
                "#B0BEC5",
                "#B0BEC5",
                "#B0BEC5",
                "#B0BEC5",
                "#B0BEC5",
                "#B0BEC5",
                "#B0BEC5",
                "#B0BEC5",
                "#B0BEC5",
                "#B0BEC5",
                "#B0BEC5",
                "#B0BEC5",
                "#B0BEC5",
                "#B0BEC5",
                "#B0BEC5",
                "#B0BEC5",
                "#B0BEC5",
                "#B0BEC5",
                "#B0BEC5",
                "#B0BEC5",
                "#B0BEC5",
                "#B0BEC5",
                "#B0BEC5",
                "#B0BEC5",
                "#B0BEC5",
                "#B0BEC5",
                "#B0BEC5",
                "#B0BEC5",
                "#B0BEC5",
                "#B0BEC5",
                "#B0BEC5",
                "#B0BEC5"
               ]
              ]
             }
            ],
            "label": "Topic 3",
            "method": "update"
           },
           {
            "args": [
             {
              "marker.color": [
               [
                "#B0BEC5",
                "#B0BEC5",
                "#B0BEC5",
                "#B0BEC5",
                "red",
                "#B0BEC5",
                "#B0BEC5",
                "#B0BEC5",
                "#B0BEC5",
                "#B0BEC5",
                "#B0BEC5",
                "#B0BEC5",
                "#B0BEC5",
                "#B0BEC5",
                "#B0BEC5",
                "#B0BEC5",
                "#B0BEC5",
                "#B0BEC5",
                "#B0BEC5",
                "#B0BEC5",
                "#B0BEC5",
                "#B0BEC5",
                "#B0BEC5",
                "#B0BEC5",
                "#B0BEC5",
                "#B0BEC5",
                "#B0BEC5",
                "#B0BEC5",
                "#B0BEC5",
                "#B0BEC5",
                "#B0BEC5",
                "#B0BEC5",
                "#B0BEC5",
                "#B0BEC5",
                "#B0BEC5",
                "#B0BEC5",
                "#B0BEC5"
               ]
              ]
             }
            ],
            "label": "Topic 4",
            "method": "update"
           },
           {
            "args": [
             {
              "marker.color": [
               [
                "#B0BEC5",
                "#B0BEC5",
                "#B0BEC5",
                "#B0BEC5",
                "#B0BEC5",
                "red",
                "#B0BEC5",
                "#B0BEC5",
                "#B0BEC5",
                "#B0BEC5",
                "#B0BEC5",
                "#B0BEC5",
                "#B0BEC5",
                "#B0BEC5",
                "#B0BEC5",
                "#B0BEC5",
                "#B0BEC5",
                "#B0BEC5",
                "#B0BEC5",
                "#B0BEC5",
                "#B0BEC5",
                "#B0BEC5",
                "#B0BEC5",
                "#B0BEC5",
                "#B0BEC5",
                "#B0BEC5",
                "#B0BEC5",
                "#B0BEC5",
                "#B0BEC5",
                "#B0BEC5",
                "#B0BEC5",
                "#B0BEC5",
                "#B0BEC5",
                "#B0BEC5",
                "#B0BEC5",
                "#B0BEC5",
                "#B0BEC5"
               ]
              ]
             }
            ],
            "label": "Topic 5",
            "method": "update"
           },
           {
            "args": [
             {
              "marker.color": [
               [
                "#B0BEC5",
                "#B0BEC5",
                "#B0BEC5",
                "#B0BEC5",
                "#B0BEC5",
                "#B0BEC5",
                "red",
                "#B0BEC5",
                "#B0BEC5",
                "#B0BEC5",
                "#B0BEC5",
                "#B0BEC5",
                "#B0BEC5",
                "#B0BEC5",
                "#B0BEC5",
                "#B0BEC5",
                "#B0BEC5",
                "#B0BEC5",
                "#B0BEC5",
                "#B0BEC5",
                "#B0BEC5",
                "#B0BEC5",
                "#B0BEC5",
                "#B0BEC5",
                "#B0BEC5",
                "#B0BEC5",
                "#B0BEC5",
                "#B0BEC5",
                "#B0BEC5",
                "#B0BEC5",
                "#B0BEC5",
                "#B0BEC5",
                "#B0BEC5",
                "#B0BEC5",
                "#B0BEC5",
                "#B0BEC5",
                "#B0BEC5"
               ]
              ]
             }
            ],
            "label": "Topic 6",
            "method": "update"
           },
           {
            "args": [
             {
              "marker.color": [
               [
                "#B0BEC5",
                "#B0BEC5",
                "#B0BEC5",
                "#B0BEC5",
                "#B0BEC5",
                "#B0BEC5",
                "#B0BEC5",
                "red",
                "#B0BEC5",
                "#B0BEC5",
                "#B0BEC5",
                "#B0BEC5",
                "#B0BEC5",
                "#B0BEC5",
                "#B0BEC5",
                "#B0BEC5",
                "#B0BEC5",
                "#B0BEC5",
                "#B0BEC5",
                "#B0BEC5",
                "#B0BEC5",
                "#B0BEC5",
                "#B0BEC5",
                "#B0BEC5",
                "#B0BEC5",
                "#B0BEC5",
                "#B0BEC5",
                "#B0BEC5",
                "#B0BEC5",
                "#B0BEC5",
                "#B0BEC5",
                "#B0BEC5",
                "#B0BEC5",
                "#B0BEC5",
                "#B0BEC5",
                "#B0BEC5",
                "#B0BEC5"
               ]
              ]
             }
            ],
            "label": "Topic 7",
            "method": "update"
           },
           {
            "args": [
             {
              "marker.color": [
               [
                "#B0BEC5",
                "#B0BEC5",
                "#B0BEC5",
                "#B0BEC5",
                "#B0BEC5",
                "#B0BEC5",
                "#B0BEC5",
                "#B0BEC5",
                "red",
                "#B0BEC5",
                "#B0BEC5",
                "#B0BEC5",
                "#B0BEC5",
                "#B0BEC5",
                "#B0BEC5",
                "#B0BEC5",
                "#B0BEC5",
                "#B0BEC5",
                "#B0BEC5",
                "#B0BEC5",
                "#B0BEC5",
                "#B0BEC5",
                "#B0BEC5",
                "#B0BEC5",
                "#B0BEC5",
                "#B0BEC5",
                "#B0BEC5",
                "#B0BEC5",
                "#B0BEC5",
                "#B0BEC5",
                "#B0BEC5",
                "#B0BEC5",
                "#B0BEC5",
                "#B0BEC5",
                "#B0BEC5",
                "#B0BEC5",
                "#B0BEC5"
               ]
              ]
             }
            ],
            "label": "Topic 8",
            "method": "update"
           },
           {
            "args": [
             {
              "marker.color": [
               [
                "#B0BEC5",
                "#B0BEC5",
                "#B0BEC5",
                "#B0BEC5",
                "#B0BEC5",
                "#B0BEC5",
                "#B0BEC5",
                "#B0BEC5",
                "#B0BEC5",
                "red",
                "#B0BEC5",
                "#B0BEC5",
                "#B0BEC5",
                "#B0BEC5",
                "#B0BEC5",
                "#B0BEC5",
                "#B0BEC5",
                "#B0BEC5",
                "#B0BEC5",
                "#B0BEC5",
                "#B0BEC5",
                "#B0BEC5",
                "#B0BEC5",
                "#B0BEC5",
                "#B0BEC5",
                "#B0BEC5",
                "#B0BEC5",
                "#B0BEC5",
                "#B0BEC5",
                "#B0BEC5",
                "#B0BEC5",
                "#B0BEC5",
                "#B0BEC5",
                "#B0BEC5",
                "#B0BEC5",
                "#B0BEC5",
                "#B0BEC5"
               ]
              ]
             }
            ],
            "label": "Topic 9",
            "method": "update"
           },
           {
            "args": [
             {
              "marker.color": [
               [
                "#B0BEC5",
                "#B0BEC5",
                "#B0BEC5",
                "#B0BEC5",
                "#B0BEC5",
                "#B0BEC5",
                "#B0BEC5",
                "#B0BEC5",
                "#B0BEC5",
                "#B0BEC5",
                "red",
                "#B0BEC5",
                "#B0BEC5",
                "#B0BEC5",
                "#B0BEC5",
                "#B0BEC5",
                "#B0BEC5",
                "#B0BEC5",
                "#B0BEC5",
                "#B0BEC5",
                "#B0BEC5",
                "#B0BEC5",
                "#B0BEC5",
                "#B0BEC5",
                "#B0BEC5",
                "#B0BEC5",
                "#B0BEC5",
                "#B0BEC5",
                "#B0BEC5",
                "#B0BEC5",
                "#B0BEC5",
                "#B0BEC5",
                "#B0BEC5",
                "#B0BEC5",
                "#B0BEC5",
                "#B0BEC5",
                "#B0BEC5"
               ]
              ]
             }
            ],
            "label": "Topic 10",
            "method": "update"
           },
           {
            "args": [
             {
              "marker.color": [
               [
                "#B0BEC5",
                "#B0BEC5",
                "#B0BEC5",
                "#B0BEC5",
                "#B0BEC5",
                "#B0BEC5",
                "#B0BEC5",
                "#B0BEC5",
                "#B0BEC5",
                "#B0BEC5",
                "#B0BEC5",
                "red",
                "#B0BEC5",
                "#B0BEC5",
                "#B0BEC5",
                "#B0BEC5",
                "#B0BEC5",
                "#B0BEC5",
                "#B0BEC5",
                "#B0BEC5",
                "#B0BEC5",
                "#B0BEC5",
                "#B0BEC5",
                "#B0BEC5",
                "#B0BEC5",
                "#B0BEC5",
                "#B0BEC5",
                "#B0BEC5",
                "#B0BEC5",
                "#B0BEC5",
                "#B0BEC5",
                "#B0BEC5",
                "#B0BEC5",
                "#B0BEC5",
                "#B0BEC5",
                "#B0BEC5",
                "#B0BEC5"
               ]
              ]
             }
            ],
            "label": "Topic 11",
            "method": "update"
           },
           {
            "args": [
             {
              "marker.color": [
               [
                "#B0BEC5",
                "#B0BEC5",
                "#B0BEC5",
                "#B0BEC5",
                "#B0BEC5",
                "#B0BEC5",
                "#B0BEC5",
                "#B0BEC5",
                "#B0BEC5",
                "#B0BEC5",
                "#B0BEC5",
                "#B0BEC5",
                "red",
                "#B0BEC5",
                "#B0BEC5",
                "#B0BEC5",
                "#B0BEC5",
                "#B0BEC5",
                "#B0BEC5",
                "#B0BEC5",
                "#B0BEC5",
                "#B0BEC5",
                "#B0BEC5",
                "#B0BEC5",
                "#B0BEC5",
                "#B0BEC5",
                "#B0BEC5",
                "#B0BEC5",
                "#B0BEC5",
                "#B0BEC5",
                "#B0BEC5",
                "#B0BEC5",
                "#B0BEC5",
                "#B0BEC5",
                "#B0BEC5",
                "#B0BEC5",
                "#B0BEC5"
               ]
              ]
             }
            ],
            "label": "Topic 12",
            "method": "update"
           },
           {
            "args": [
             {
              "marker.color": [
               [
                "#B0BEC5",
                "#B0BEC5",
                "#B0BEC5",
                "#B0BEC5",
                "#B0BEC5",
                "#B0BEC5",
                "#B0BEC5",
                "#B0BEC5",
                "#B0BEC5",
                "#B0BEC5",
                "#B0BEC5",
                "#B0BEC5",
                "#B0BEC5",
                "red",
                "#B0BEC5",
                "#B0BEC5",
                "#B0BEC5",
                "#B0BEC5",
                "#B0BEC5",
                "#B0BEC5",
                "#B0BEC5",
                "#B0BEC5",
                "#B0BEC5",
                "#B0BEC5",
                "#B0BEC5",
                "#B0BEC5",
                "#B0BEC5",
                "#B0BEC5",
                "#B0BEC5",
                "#B0BEC5",
                "#B0BEC5",
                "#B0BEC5",
                "#B0BEC5",
                "#B0BEC5",
                "#B0BEC5",
                "#B0BEC5",
                "#B0BEC5"
               ]
              ]
             }
            ],
            "label": "Topic 13",
            "method": "update"
           },
           {
            "args": [
             {
              "marker.color": [
               [
                "#B0BEC5",
                "#B0BEC5",
                "#B0BEC5",
                "#B0BEC5",
                "#B0BEC5",
                "#B0BEC5",
                "#B0BEC5",
                "#B0BEC5",
                "#B0BEC5",
                "#B0BEC5",
                "#B0BEC5",
                "#B0BEC5",
                "#B0BEC5",
                "#B0BEC5",
                "red",
                "#B0BEC5",
                "#B0BEC5",
                "#B0BEC5",
                "#B0BEC5",
                "#B0BEC5",
                "#B0BEC5",
                "#B0BEC5",
                "#B0BEC5",
                "#B0BEC5",
                "#B0BEC5",
                "#B0BEC5",
                "#B0BEC5",
                "#B0BEC5",
                "#B0BEC5",
                "#B0BEC5",
                "#B0BEC5",
                "#B0BEC5",
                "#B0BEC5",
                "#B0BEC5",
                "#B0BEC5",
                "#B0BEC5",
                "#B0BEC5"
               ]
              ]
             }
            ],
            "label": "Topic 14",
            "method": "update"
           },
           {
            "args": [
             {
              "marker.color": [
               [
                "#B0BEC5",
                "#B0BEC5",
                "#B0BEC5",
                "#B0BEC5",
                "#B0BEC5",
                "#B0BEC5",
                "#B0BEC5",
                "#B0BEC5",
                "#B0BEC5",
                "#B0BEC5",
                "#B0BEC5",
                "#B0BEC5",
                "#B0BEC5",
                "#B0BEC5",
                "#B0BEC5",
                "red",
                "#B0BEC5",
                "#B0BEC5",
                "#B0BEC5",
                "#B0BEC5",
                "#B0BEC5",
                "#B0BEC5",
                "#B0BEC5",
                "#B0BEC5",
                "#B0BEC5",
                "#B0BEC5",
                "#B0BEC5",
                "#B0BEC5",
                "#B0BEC5",
                "#B0BEC5",
                "#B0BEC5",
                "#B0BEC5",
                "#B0BEC5",
                "#B0BEC5",
                "#B0BEC5",
                "#B0BEC5",
                "#B0BEC5"
               ]
              ]
             }
            ],
            "label": "Topic 15",
            "method": "update"
           },
           {
            "args": [
             {
              "marker.color": [
               [
                "#B0BEC5",
                "#B0BEC5",
                "#B0BEC5",
                "#B0BEC5",
                "#B0BEC5",
                "#B0BEC5",
                "#B0BEC5",
                "#B0BEC5",
                "#B0BEC5",
                "#B0BEC5",
                "#B0BEC5",
                "#B0BEC5",
                "#B0BEC5",
                "#B0BEC5",
                "#B0BEC5",
                "#B0BEC5",
                "red",
                "#B0BEC5",
                "#B0BEC5",
                "#B0BEC5",
                "#B0BEC5",
                "#B0BEC5",
                "#B0BEC5",
                "#B0BEC5",
                "#B0BEC5",
                "#B0BEC5",
                "#B0BEC5",
                "#B0BEC5",
                "#B0BEC5",
                "#B0BEC5",
                "#B0BEC5",
                "#B0BEC5",
                "#B0BEC5",
                "#B0BEC5",
                "#B0BEC5",
                "#B0BEC5",
                "#B0BEC5"
               ]
              ]
             }
            ],
            "label": "Topic 16",
            "method": "update"
           },
           {
            "args": [
             {
              "marker.color": [
               [
                "#B0BEC5",
                "#B0BEC5",
                "#B0BEC5",
                "#B0BEC5",
                "#B0BEC5",
                "#B0BEC5",
                "#B0BEC5",
                "#B0BEC5",
                "#B0BEC5",
                "#B0BEC5",
                "#B0BEC5",
                "#B0BEC5",
                "#B0BEC5",
                "#B0BEC5",
                "#B0BEC5",
                "#B0BEC5",
                "#B0BEC5",
                "red",
                "#B0BEC5",
                "#B0BEC5",
                "#B0BEC5",
                "#B0BEC5",
                "#B0BEC5",
                "#B0BEC5",
                "#B0BEC5",
                "#B0BEC5",
                "#B0BEC5",
                "#B0BEC5",
                "#B0BEC5",
                "#B0BEC5",
                "#B0BEC5",
                "#B0BEC5",
                "#B0BEC5",
                "#B0BEC5",
                "#B0BEC5",
                "#B0BEC5",
                "#B0BEC5"
               ]
              ]
             }
            ],
            "label": "Topic 17",
            "method": "update"
           },
           {
            "args": [
             {
              "marker.color": [
               [
                "#B0BEC5",
                "#B0BEC5",
                "#B0BEC5",
                "#B0BEC5",
                "#B0BEC5",
                "#B0BEC5",
                "#B0BEC5",
                "#B0BEC5",
                "#B0BEC5",
                "#B0BEC5",
                "#B0BEC5",
                "#B0BEC5",
                "#B0BEC5",
                "#B0BEC5",
                "#B0BEC5",
                "#B0BEC5",
                "#B0BEC5",
                "#B0BEC5",
                "red",
                "#B0BEC5",
                "#B0BEC5",
                "#B0BEC5",
                "#B0BEC5",
                "#B0BEC5",
                "#B0BEC5",
                "#B0BEC5",
                "#B0BEC5",
                "#B0BEC5",
                "#B0BEC5",
                "#B0BEC5",
                "#B0BEC5",
                "#B0BEC5",
                "#B0BEC5",
                "#B0BEC5",
                "#B0BEC5",
                "#B0BEC5",
                "#B0BEC5"
               ]
              ]
             }
            ],
            "label": "Topic 18",
            "method": "update"
           },
           {
            "args": [
             {
              "marker.color": [
               [
                "#B0BEC5",
                "#B0BEC5",
                "#B0BEC5",
                "#B0BEC5",
                "#B0BEC5",
                "#B0BEC5",
                "#B0BEC5",
                "#B0BEC5",
                "#B0BEC5",
                "#B0BEC5",
                "#B0BEC5",
                "#B0BEC5",
                "#B0BEC5",
                "#B0BEC5",
                "#B0BEC5",
                "#B0BEC5",
                "#B0BEC5",
                "#B0BEC5",
                "#B0BEC5",
                "red",
                "#B0BEC5",
                "#B0BEC5",
                "#B0BEC5",
                "#B0BEC5",
                "#B0BEC5",
                "#B0BEC5",
                "#B0BEC5",
                "#B0BEC5",
                "#B0BEC5",
                "#B0BEC5",
                "#B0BEC5",
                "#B0BEC5",
                "#B0BEC5",
                "#B0BEC5",
                "#B0BEC5",
                "#B0BEC5",
                "#B0BEC5"
               ]
              ]
             }
            ],
            "label": "Topic 19",
            "method": "update"
           },
           {
            "args": [
             {
              "marker.color": [
               [
                "#B0BEC5",
                "#B0BEC5",
                "#B0BEC5",
                "#B0BEC5",
                "#B0BEC5",
                "#B0BEC5",
                "#B0BEC5",
                "#B0BEC5",
                "#B0BEC5",
                "#B0BEC5",
                "#B0BEC5",
                "#B0BEC5",
                "#B0BEC5",
                "#B0BEC5",
                "#B0BEC5",
                "#B0BEC5",
                "#B0BEC5",
                "#B0BEC5",
                "#B0BEC5",
                "#B0BEC5",
                "red",
                "#B0BEC5",
                "#B0BEC5",
                "#B0BEC5",
                "#B0BEC5",
                "#B0BEC5",
                "#B0BEC5",
                "#B0BEC5",
                "#B0BEC5",
                "#B0BEC5",
                "#B0BEC5",
                "#B0BEC5",
                "#B0BEC5",
                "#B0BEC5",
                "#B0BEC5",
                "#B0BEC5",
                "#B0BEC5"
               ]
              ]
             }
            ],
            "label": "Topic 20",
            "method": "update"
           },
           {
            "args": [
             {
              "marker.color": [
               [
                "#B0BEC5",
                "#B0BEC5",
                "#B0BEC5",
                "#B0BEC5",
                "#B0BEC5",
                "#B0BEC5",
                "#B0BEC5",
                "#B0BEC5",
                "#B0BEC5",
                "#B0BEC5",
                "#B0BEC5",
                "#B0BEC5",
                "#B0BEC5",
                "#B0BEC5",
                "#B0BEC5",
                "#B0BEC5",
                "#B0BEC5",
                "#B0BEC5",
                "#B0BEC5",
                "#B0BEC5",
                "#B0BEC5",
                "red",
                "#B0BEC5",
                "#B0BEC5",
                "#B0BEC5",
                "#B0BEC5",
                "#B0BEC5",
                "#B0BEC5",
                "#B0BEC5",
                "#B0BEC5",
                "#B0BEC5",
                "#B0BEC5",
                "#B0BEC5",
                "#B0BEC5",
                "#B0BEC5",
                "#B0BEC5",
                "#B0BEC5"
               ]
              ]
             }
            ],
            "label": "Topic 21",
            "method": "update"
           },
           {
            "args": [
             {
              "marker.color": [
               [
                "#B0BEC5",
                "#B0BEC5",
                "#B0BEC5",
                "#B0BEC5",
                "#B0BEC5",
                "#B0BEC5",
                "#B0BEC5",
                "#B0BEC5",
                "#B0BEC5",
                "#B0BEC5",
                "#B0BEC5",
                "#B0BEC5",
                "#B0BEC5",
                "#B0BEC5",
                "#B0BEC5",
                "#B0BEC5",
                "#B0BEC5",
                "#B0BEC5",
                "#B0BEC5",
                "#B0BEC5",
                "#B0BEC5",
                "#B0BEC5",
                "red",
                "#B0BEC5",
                "#B0BEC5",
                "#B0BEC5",
                "#B0BEC5",
                "#B0BEC5",
                "#B0BEC5",
                "#B0BEC5",
                "#B0BEC5",
                "#B0BEC5",
                "#B0BEC5",
                "#B0BEC5",
                "#B0BEC5",
                "#B0BEC5",
                "#B0BEC5"
               ]
              ]
             }
            ],
            "label": "Topic 22",
            "method": "update"
           },
           {
            "args": [
             {
              "marker.color": [
               [
                "#B0BEC5",
                "#B0BEC5",
                "#B0BEC5",
                "#B0BEC5",
                "#B0BEC5",
                "#B0BEC5",
                "#B0BEC5",
                "#B0BEC5",
                "#B0BEC5",
                "#B0BEC5",
                "#B0BEC5",
                "#B0BEC5",
                "#B0BEC5",
                "#B0BEC5",
                "#B0BEC5",
                "#B0BEC5",
                "#B0BEC5",
                "#B0BEC5",
                "#B0BEC5",
                "#B0BEC5",
                "#B0BEC5",
                "#B0BEC5",
                "#B0BEC5",
                "red",
                "#B0BEC5",
                "#B0BEC5",
                "#B0BEC5",
                "#B0BEC5",
                "#B0BEC5",
                "#B0BEC5",
                "#B0BEC5",
                "#B0BEC5",
                "#B0BEC5",
                "#B0BEC5",
                "#B0BEC5",
                "#B0BEC5",
                "#B0BEC5"
               ]
              ]
             }
            ],
            "label": "Topic 23",
            "method": "update"
           },
           {
            "args": [
             {
              "marker.color": [
               [
                "#B0BEC5",
                "#B0BEC5",
                "#B0BEC5",
                "#B0BEC5",
                "#B0BEC5",
                "#B0BEC5",
                "#B0BEC5",
                "#B0BEC5",
                "#B0BEC5",
                "#B0BEC5",
                "#B0BEC5",
                "#B0BEC5",
                "#B0BEC5",
                "#B0BEC5",
                "#B0BEC5",
                "#B0BEC5",
                "#B0BEC5",
                "#B0BEC5",
                "#B0BEC5",
                "#B0BEC5",
                "#B0BEC5",
                "#B0BEC5",
                "#B0BEC5",
                "#B0BEC5",
                "red",
                "#B0BEC5",
                "#B0BEC5",
                "#B0BEC5",
                "#B0BEC5",
                "#B0BEC5",
                "#B0BEC5",
                "#B0BEC5",
                "#B0BEC5",
                "#B0BEC5",
                "#B0BEC5",
                "#B0BEC5",
                "#B0BEC5"
               ]
              ]
             }
            ],
            "label": "Topic 24",
            "method": "update"
           },
           {
            "args": [
             {
              "marker.color": [
               [
                "#B0BEC5",
                "#B0BEC5",
                "#B0BEC5",
                "#B0BEC5",
                "#B0BEC5",
                "#B0BEC5",
                "#B0BEC5",
                "#B0BEC5",
                "#B0BEC5",
                "#B0BEC5",
                "#B0BEC5",
                "#B0BEC5",
                "#B0BEC5",
                "#B0BEC5",
                "#B0BEC5",
                "#B0BEC5",
                "#B0BEC5",
                "#B0BEC5",
                "#B0BEC5",
                "#B0BEC5",
                "#B0BEC5",
                "#B0BEC5",
                "#B0BEC5",
                "#B0BEC5",
                "#B0BEC5",
                "red",
                "#B0BEC5",
                "#B0BEC5",
                "#B0BEC5",
                "#B0BEC5",
                "#B0BEC5",
                "#B0BEC5",
                "#B0BEC5",
                "#B0BEC5",
                "#B0BEC5",
                "#B0BEC5",
                "#B0BEC5"
               ]
              ]
             }
            ],
            "label": "Topic 25",
            "method": "update"
           },
           {
            "args": [
             {
              "marker.color": [
               [
                "#B0BEC5",
                "#B0BEC5",
                "#B0BEC5",
                "#B0BEC5",
                "#B0BEC5",
                "#B0BEC5",
                "#B0BEC5",
                "#B0BEC5",
                "#B0BEC5",
                "#B0BEC5",
                "#B0BEC5",
                "#B0BEC5",
                "#B0BEC5",
                "#B0BEC5",
                "#B0BEC5",
                "#B0BEC5",
                "#B0BEC5",
                "#B0BEC5",
                "#B0BEC5",
                "#B0BEC5",
                "#B0BEC5",
                "#B0BEC5",
                "#B0BEC5",
                "#B0BEC5",
                "#B0BEC5",
                "#B0BEC5",
                "red",
                "#B0BEC5",
                "#B0BEC5",
                "#B0BEC5",
                "#B0BEC5",
                "#B0BEC5",
                "#B0BEC5",
                "#B0BEC5",
                "#B0BEC5",
                "#B0BEC5",
                "#B0BEC5"
               ]
              ]
             }
            ],
            "label": "Topic 26",
            "method": "update"
           },
           {
            "args": [
             {
              "marker.color": [
               [
                "#B0BEC5",
                "#B0BEC5",
                "#B0BEC5",
                "#B0BEC5",
                "#B0BEC5",
                "#B0BEC5",
                "#B0BEC5",
                "#B0BEC5",
                "#B0BEC5",
                "#B0BEC5",
                "#B0BEC5",
                "#B0BEC5",
                "#B0BEC5",
                "#B0BEC5",
                "#B0BEC5",
                "#B0BEC5",
                "#B0BEC5",
                "#B0BEC5",
                "#B0BEC5",
                "#B0BEC5",
                "#B0BEC5",
                "#B0BEC5",
                "#B0BEC5",
                "#B0BEC5",
                "#B0BEC5",
                "#B0BEC5",
                "#B0BEC5",
                "red",
                "#B0BEC5",
                "#B0BEC5",
                "#B0BEC5",
                "#B0BEC5",
                "#B0BEC5",
                "#B0BEC5",
                "#B0BEC5",
                "#B0BEC5",
                "#B0BEC5"
               ]
              ]
             }
            ],
            "label": "Topic 27",
            "method": "update"
           },
           {
            "args": [
             {
              "marker.color": [
               [
                "#B0BEC5",
                "#B0BEC5",
                "#B0BEC5",
                "#B0BEC5",
                "#B0BEC5",
                "#B0BEC5",
                "#B0BEC5",
                "#B0BEC5",
                "#B0BEC5",
                "#B0BEC5",
                "#B0BEC5",
                "#B0BEC5",
                "#B0BEC5",
                "#B0BEC5",
                "#B0BEC5",
                "#B0BEC5",
                "#B0BEC5",
                "#B0BEC5",
                "#B0BEC5",
                "#B0BEC5",
                "#B0BEC5",
                "#B0BEC5",
                "#B0BEC5",
                "#B0BEC5",
                "#B0BEC5",
                "#B0BEC5",
                "#B0BEC5",
                "#B0BEC5",
                "red",
                "#B0BEC5",
                "#B0BEC5",
                "#B0BEC5",
                "#B0BEC5",
                "#B0BEC5",
                "#B0BEC5",
                "#B0BEC5",
                "#B0BEC5"
               ]
              ]
             }
            ],
            "label": "Topic 28",
            "method": "update"
           },
           {
            "args": [
             {
              "marker.color": [
               [
                "#B0BEC5",
                "#B0BEC5",
                "#B0BEC5",
                "#B0BEC5",
                "#B0BEC5",
                "#B0BEC5",
                "#B0BEC5",
                "#B0BEC5",
                "#B0BEC5",
                "#B0BEC5",
                "#B0BEC5",
                "#B0BEC5",
                "#B0BEC5",
                "#B0BEC5",
                "#B0BEC5",
                "#B0BEC5",
                "#B0BEC5",
                "#B0BEC5",
                "#B0BEC5",
                "#B0BEC5",
                "#B0BEC5",
                "#B0BEC5",
                "#B0BEC5",
                "#B0BEC5",
                "#B0BEC5",
                "#B0BEC5",
                "#B0BEC5",
                "#B0BEC5",
                "#B0BEC5",
                "red",
                "#B0BEC5",
                "#B0BEC5",
                "#B0BEC5",
                "#B0BEC5",
                "#B0BEC5",
                "#B0BEC5",
                "#B0BEC5"
               ]
              ]
             }
            ],
            "label": "Topic 29",
            "method": "update"
           },
           {
            "args": [
             {
              "marker.color": [
               [
                "#B0BEC5",
                "#B0BEC5",
                "#B0BEC5",
                "#B0BEC5",
                "#B0BEC5",
                "#B0BEC5",
                "#B0BEC5",
                "#B0BEC5",
                "#B0BEC5",
                "#B0BEC5",
                "#B0BEC5",
                "#B0BEC5",
                "#B0BEC5",
                "#B0BEC5",
                "#B0BEC5",
                "#B0BEC5",
                "#B0BEC5",
                "#B0BEC5",
                "#B0BEC5",
                "#B0BEC5",
                "#B0BEC5",
                "#B0BEC5",
                "#B0BEC5",
                "#B0BEC5",
                "#B0BEC5",
                "#B0BEC5",
                "#B0BEC5",
                "#B0BEC5",
                "#B0BEC5",
                "#B0BEC5",
                "red",
                "#B0BEC5",
                "#B0BEC5",
                "#B0BEC5",
                "#B0BEC5",
                "#B0BEC5",
                "#B0BEC5"
               ]
              ]
             }
            ],
            "label": "Topic 30",
            "method": "update"
           },
           {
            "args": [
             {
              "marker.color": [
               [
                "#B0BEC5",
                "#B0BEC5",
                "#B0BEC5",
                "#B0BEC5",
                "#B0BEC5",
                "#B0BEC5",
                "#B0BEC5",
                "#B0BEC5",
                "#B0BEC5",
                "#B0BEC5",
                "#B0BEC5",
                "#B0BEC5",
                "#B0BEC5",
                "#B0BEC5",
                "#B0BEC5",
                "#B0BEC5",
                "#B0BEC5",
                "#B0BEC5",
                "#B0BEC5",
                "#B0BEC5",
                "#B0BEC5",
                "#B0BEC5",
                "#B0BEC5",
                "#B0BEC5",
                "#B0BEC5",
                "#B0BEC5",
                "#B0BEC5",
                "#B0BEC5",
                "#B0BEC5",
                "#B0BEC5",
                "#B0BEC5",
                "red",
                "#B0BEC5",
                "#B0BEC5",
                "#B0BEC5",
                "#B0BEC5",
                "#B0BEC5"
               ]
              ]
             }
            ],
            "label": "Topic 31",
            "method": "update"
           },
           {
            "args": [
             {
              "marker.color": [
               [
                "#B0BEC5",
                "#B0BEC5",
                "#B0BEC5",
                "#B0BEC5",
                "#B0BEC5",
                "#B0BEC5",
                "#B0BEC5",
                "#B0BEC5",
                "#B0BEC5",
                "#B0BEC5",
                "#B0BEC5",
                "#B0BEC5",
                "#B0BEC5",
                "#B0BEC5",
                "#B0BEC5",
                "#B0BEC5",
                "#B0BEC5",
                "#B0BEC5",
                "#B0BEC5",
                "#B0BEC5",
                "#B0BEC5",
                "#B0BEC5",
                "#B0BEC5",
                "#B0BEC5",
                "#B0BEC5",
                "#B0BEC5",
                "#B0BEC5",
                "#B0BEC5",
                "#B0BEC5",
                "#B0BEC5",
                "#B0BEC5",
                "#B0BEC5",
                "red",
                "#B0BEC5",
                "#B0BEC5",
                "#B0BEC5",
                "#B0BEC5"
               ]
              ]
             }
            ],
            "label": "Topic 32",
            "method": "update"
           },
           {
            "args": [
             {
              "marker.color": [
               [
                "#B0BEC5",
                "#B0BEC5",
                "#B0BEC5",
                "#B0BEC5",
                "#B0BEC5",
                "#B0BEC5",
                "#B0BEC5",
                "#B0BEC5",
                "#B0BEC5",
                "#B0BEC5",
                "#B0BEC5",
                "#B0BEC5",
                "#B0BEC5",
                "#B0BEC5",
                "#B0BEC5",
                "#B0BEC5",
                "#B0BEC5",
                "#B0BEC5",
                "#B0BEC5",
                "#B0BEC5",
                "#B0BEC5",
                "#B0BEC5",
                "#B0BEC5",
                "#B0BEC5",
                "#B0BEC5",
                "#B0BEC5",
                "#B0BEC5",
                "#B0BEC5",
                "#B0BEC5",
                "#B0BEC5",
                "#B0BEC5",
                "#B0BEC5",
                "#B0BEC5",
                "red",
                "#B0BEC5",
                "#B0BEC5",
                "#B0BEC5"
               ]
              ]
             }
            ],
            "label": "Topic 33",
            "method": "update"
           },
           {
            "args": [
             {
              "marker.color": [
               [
                "#B0BEC5",
                "#B0BEC5",
                "#B0BEC5",
                "#B0BEC5",
                "#B0BEC5",
                "#B0BEC5",
                "#B0BEC5",
                "#B0BEC5",
                "#B0BEC5",
                "#B0BEC5",
                "#B0BEC5",
                "#B0BEC5",
                "#B0BEC5",
                "#B0BEC5",
                "#B0BEC5",
                "#B0BEC5",
                "#B0BEC5",
                "#B0BEC5",
                "#B0BEC5",
                "#B0BEC5",
                "#B0BEC5",
                "#B0BEC5",
                "#B0BEC5",
                "#B0BEC5",
                "#B0BEC5",
                "#B0BEC5",
                "#B0BEC5",
                "#B0BEC5",
                "#B0BEC5",
                "#B0BEC5",
                "#B0BEC5",
                "#B0BEC5",
                "#B0BEC5",
                "#B0BEC5",
                "red",
                "#B0BEC5",
                "#B0BEC5"
               ]
              ]
             }
            ],
            "label": "Topic 34",
            "method": "update"
           },
           {
            "args": [
             {
              "marker.color": [
               [
                "#B0BEC5",
                "#B0BEC5",
                "#B0BEC5",
                "#B0BEC5",
                "#B0BEC5",
                "#B0BEC5",
                "#B0BEC5",
                "#B0BEC5",
                "#B0BEC5",
                "#B0BEC5",
                "#B0BEC5",
                "#B0BEC5",
                "#B0BEC5",
                "#B0BEC5",
                "#B0BEC5",
                "#B0BEC5",
                "#B0BEC5",
                "#B0BEC5",
                "#B0BEC5",
                "#B0BEC5",
                "#B0BEC5",
                "#B0BEC5",
                "#B0BEC5",
                "#B0BEC5",
                "#B0BEC5",
                "#B0BEC5",
                "#B0BEC5",
                "#B0BEC5",
                "#B0BEC5",
                "#B0BEC5",
                "#B0BEC5",
                "#B0BEC5",
                "#B0BEC5",
                "#B0BEC5",
                "#B0BEC5",
                "red",
                "#B0BEC5"
               ]
              ]
             }
            ],
            "label": "Topic 35",
            "method": "update"
           },
           {
            "args": [
             {
              "marker.color": [
               [
                "#B0BEC5",
                "#B0BEC5",
                "#B0BEC5",
                "#B0BEC5",
                "#B0BEC5",
                "#B0BEC5",
                "#B0BEC5",
                "#B0BEC5",
                "#B0BEC5",
                "#B0BEC5",
                "#B0BEC5",
                "#B0BEC5",
                "#B0BEC5",
                "#B0BEC5",
                "#B0BEC5",
                "#B0BEC5",
                "#B0BEC5",
                "#B0BEC5",
                "#B0BEC5",
                "#B0BEC5",
                "#B0BEC5",
                "#B0BEC5",
                "#B0BEC5",
                "#B0BEC5",
                "#B0BEC5",
                "#B0BEC5",
                "#B0BEC5",
                "#B0BEC5",
                "#B0BEC5",
                "#B0BEC5",
                "#B0BEC5",
                "#B0BEC5",
                "#B0BEC5",
                "#B0BEC5",
                "#B0BEC5",
                "#B0BEC5",
                "red"
               ]
              ]
             }
            ],
            "label": "Topic 36",
            "method": "update"
           }
          ]
         }
        ],
        "template": {
         "data": {
          "bar": [
           {
            "error_x": {
             "color": "rgb(36,36,36)"
            },
            "error_y": {
             "color": "rgb(36,36,36)"
            },
            "marker": {
             "line": {
              "color": "white",
              "width": 0.5
             },
             "pattern": {
              "fillmode": "overlay",
              "size": 10,
              "solidity": 0.2
             }
            },
            "type": "bar"
           }
          ],
          "barpolar": [
           {
            "marker": {
             "line": {
              "color": "white",
              "width": 0.5
             },
             "pattern": {
              "fillmode": "overlay",
              "size": 10,
              "solidity": 0.2
             }
            },
            "type": "barpolar"
           }
          ],
          "carpet": [
           {
            "aaxis": {
             "endlinecolor": "rgb(36,36,36)",
             "gridcolor": "white",
             "linecolor": "white",
             "minorgridcolor": "white",
             "startlinecolor": "rgb(36,36,36)"
            },
            "baxis": {
             "endlinecolor": "rgb(36,36,36)",
             "gridcolor": "white",
             "linecolor": "white",
             "minorgridcolor": "white",
             "startlinecolor": "rgb(36,36,36)"
            },
            "type": "carpet"
           }
          ],
          "choropleth": [
           {
            "colorbar": {
             "outlinewidth": 1,
             "tickcolor": "rgb(36,36,36)",
             "ticks": "outside"
            },
            "type": "choropleth"
           }
          ],
          "contour": [
           {
            "colorbar": {
             "outlinewidth": 1,
             "tickcolor": "rgb(36,36,36)",
             "ticks": "outside"
            },
            "colorscale": [
             [
              0,
              "#440154"
             ],
             [
              0.1111111111111111,
              "#482878"
             ],
             [
              0.2222222222222222,
              "#3e4989"
             ],
             [
              0.3333333333333333,
              "#31688e"
             ],
             [
              0.4444444444444444,
              "#26828e"
             ],
             [
              0.5555555555555556,
              "#1f9e89"
             ],
             [
              0.6666666666666666,
              "#35b779"
             ],
             [
              0.7777777777777778,
              "#6ece58"
             ],
             [
              0.8888888888888888,
              "#b5de2b"
             ],
             [
              1,
              "#fde725"
             ]
            ],
            "type": "contour"
           }
          ],
          "contourcarpet": [
           {
            "colorbar": {
             "outlinewidth": 1,
             "tickcolor": "rgb(36,36,36)",
             "ticks": "outside"
            },
            "type": "contourcarpet"
           }
          ],
          "heatmap": [
           {
            "colorbar": {
             "outlinewidth": 1,
             "tickcolor": "rgb(36,36,36)",
             "ticks": "outside"
            },
            "colorscale": [
             [
              0,
              "#440154"
             ],
             [
              0.1111111111111111,
              "#482878"
             ],
             [
              0.2222222222222222,
              "#3e4989"
             ],
             [
              0.3333333333333333,
              "#31688e"
             ],
             [
              0.4444444444444444,
              "#26828e"
             ],
             [
              0.5555555555555556,
              "#1f9e89"
             ],
             [
              0.6666666666666666,
              "#35b779"
             ],
             [
              0.7777777777777778,
              "#6ece58"
             ],
             [
              0.8888888888888888,
              "#b5de2b"
             ],
             [
              1,
              "#fde725"
             ]
            ],
            "type": "heatmap"
           }
          ],
          "heatmapgl": [
           {
            "colorbar": {
             "outlinewidth": 1,
             "tickcolor": "rgb(36,36,36)",
             "ticks": "outside"
            },
            "colorscale": [
             [
              0,
              "#440154"
             ],
             [
              0.1111111111111111,
              "#482878"
             ],
             [
              0.2222222222222222,
              "#3e4989"
             ],
             [
              0.3333333333333333,
              "#31688e"
             ],
             [
              0.4444444444444444,
              "#26828e"
             ],
             [
              0.5555555555555556,
              "#1f9e89"
             ],
             [
              0.6666666666666666,
              "#35b779"
             ],
             [
              0.7777777777777778,
              "#6ece58"
             ],
             [
              0.8888888888888888,
              "#b5de2b"
             ],
             [
              1,
              "#fde725"
             ]
            ],
            "type": "heatmapgl"
           }
          ],
          "histogram": [
           {
            "marker": {
             "line": {
              "color": "white",
              "width": 0.6
             }
            },
            "type": "histogram"
           }
          ],
          "histogram2d": [
           {
            "colorbar": {
             "outlinewidth": 1,
             "tickcolor": "rgb(36,36,36)",
             "ticks": "outside"
            },
            "colorscale": [
             [
              0,
              "#440154"
             ],
             [
              0.1111111111111111,
              "#482878"
             ],
             [
              0.2222222222222222,
              "#3e4989"
             ],
             [
              0.3333333333333333,
              "#31688e"
             ],
             [
              0.4444444444444444,
              "#26828e"
             ],
             [
              0.5555555555555556,
              "#1f9e89"
             ],
             [
              0.6666666666666666,
              "#35b779"
             ],
             [
              0.7777777777777778,
              "#6ece58"
             ],
             [
              0.8888888888888888,
              "#b5de2b"
             ],
             [
              1,
              "#fde725"
             ]
            ],
            "type": "histogram2d"
           }
          ],
          "histogram2dcontour": [
           {
            "colorbar": {
             "outlinewidth": 1,
             "tickcolor": "rgb(36,36,36)",
             "ticks": "outside"
            },
            "colorscale": [
             [
              0,
              "#440154"
             ],
             [
              0.1111111111111111,
              "#482878"
             ],
             [
              0.2222222222222222,
              "#3e4989"
             ],
             [
              0.3333333333333333,
              "#31688e"
             ],
             [
              0.4444444444444444,
              "#26828e"
             ],
             [
              0.5555555555555556,
              "#1f9e89"
             ],
             [
              0.6666666666666666,
              "#35b779"
             ],
             [
              0.7777777777777778,
              "#6ece58"
             ],
             [
              0.8888888888888888,
              "#b5de2b"
             ],
             [
              1,
              "#fde725"
             ]
            ],
            "type": "histogram2dcontour"
           }
          ],
          "mesh3d": [
           {
            "colorbar": {
             "outlinewidth": 1,
             "tickcolor": "rgb(36,36,36)",
             "ticks": "outside"
            },
            "type": "mesh3d"
           }
          ],
          "parcoords": [
           {
            "line": {
             "colorbar": {
              "outlinewidth": 1,
              "tickcolor": "rgb(36,36,36)",
              "ticks": "outside"
             }
            },
            "type": "parcoords"
           }
          ],
          "pie": [
           {
            "automargin": true,
            "type": "pie"
           }
          ],
          "scatter": [
           {
            "fillpattern": {
             "fillmode": "overlay",
             "size": 10,
             "solidity": 0.2
            },
            "type": "scatter"
           }
          ],
          "scatter3d": [
           {
            "line": {
             "colorbar": {
              "outlinewidth": 1,
              "tickcolor": "rgb(36,36,36)",
              "ticks": "outside"
             }
            },
            "marker": {
             "colorbar": {
              "outlinewidth": 1,
              "tickcolor": "rgb(36,36,36)",
              "ticks": "outside"
             }
            },
            "type": "scatter3d"
           }
          ],
          "scattercarpet": [
           {
            "marker": {
             "colorbar": {
              "outlinewidth": 1,
              "tickcolor": "rgb(36,36,36)",
              "ticks": "outside"
             }
            },
            "type": "scattercarpet"
           }
          ],
          "scattergeo": [
           {
            "marker": {
             "colorbar": {
              "outlinewidth": 1,
              "tickcolor": "rgb(36,36,36)",
              "ticks": "outside"
             }
            },
            "type": "scattergeo"
           }
          ],
          "scattergl": [
           {
            "marker": {
             "colorbar": {
              "outlinewidth": 1,
              "tickcolor": "rgb(36,36,36)",
              "ticks": "outside"
             }
            },
            "type": "scattergl"
           }
          ],
          "scattermapbox": [
           {
            "marker": {
             "colorbar": {
              "outlinewidth": 1,
              "tickcolor": "rgb(36,36,36)",
              "ticks": "outside"
             }
            },
            "type": "scattermapbox"
           }
          ],
          "scatterpolar": [
           {
            "marker": {
             "colorbar": {
              "outlinewidth": 1,
              "tickcolor": "rgb(36,36,36)",
              "ticks": "outside"
             }
            },
            "type": "scatterpolar"
           }
          ],
          "scatterpolargl": [
           {
            "marker": {
             "colorbar": {
              "outlinewidth": 1,
              "tickcolor": "rgb(36,36,36)",
              "ticks": "outside"
             }
            },
            "type": "scatterpolargl"
           }
          ],
          "scatterternary": [
           {
            "marker": {
             "colorbar": {
              "outlinewidth": 1,
              "tickcolor": "rgb(36,36,36)",
              "ticks": "outside"
             }
            },
            "type": "scatterternary"
           }
          ],
          "surface": [
           {
            "colorbar": {
             "outlinewidth": 1,
             "tickcolor": "rgb(36,36,36)",
             "ticks": "outside"
            },
            "colorscale": [
             [
              0,
              "#440154"
             ],
             [
              0.1111111111111111,
              "#482878"
             ],
             [
              0.2222222222222222,
              "#3e4989"
             ],
             [
              0.3333333333333333,
              "#31688e"
             ],
             [
              0.4444444444444444,
              "#26828e"
             ],
             [
              0.5555555555555556,
              "#1f9e89"
             ],
             [
              0.6666666666666666,
              "#35b779"
             ],
             [
              0.7777777777777778,
              "#6ece58"
             ],
             [
              0.8888888888888888,
              "#b5de2b"
             ],
             [
              1,
              "#fde725"
             ]
            ],
            "type": "surface"
           }
          ],
          "table": [
           {
            "cells": {
             "fill": {
              "color": "rgb(237,237,237)"
             },
             "line": {
              "color": "white"
             }
            },
            "header": {
             "fill": {
              "color": "rgb(217,217,217)"
             },
             "line": {
              "color": "white"
             }
            },
            "type": "table"
           }
          ]
         },
         "layout": {
          "annotationdefaults": {
           "arrowhead": 0,
           "arrowwidth": 1
          },
          "autotypenumbers": "strict",
          "coloraxis": {
           "colorbar": {
            "outlinewidth": 1,
            "tickcolor": "rgb(36,36,36)",
            "ticks": "outside"
           }
          },
          "colorscale": {
           "diverging": [
            [
             0,
             "rgb(103,0,31)"
            ],
            [
             0.1,
             "rgb(178,24,43)"
            ],
            [
             0.2,
             "rgb(214,96,77)"
            ],
            [
             0.3,
             "rgb(244,165,130)"
            ],
            [
             0.4,
             "rgb(253,219,199)"
            ],
            [
             0.5,
             "rgb(247,247,247)"
            ],
            [
             0.6,
             "rgb(209,229,240)"
            ],
            [
             0.7,
             "rgb(146,197,222)"
            ],
            [
             0.8,
             "rgb(67,147,195)"
            ],
            [
             0.9,
             "rgb(33,102,172)"
            ],
            [
             1,
             "rgb(5,48,97)"
            ]
           ],
           "sequential": [
            [
             0,
             "#440154"
            ],
            [
             0.1111111111111111,
             "#482878"
            ],
            [
             0.2222222222222222,
             "#3e4989"
            ],
            [
             0.3333333333333333,
             "#31688e"
            ],
            [
             0.4444444444444444,
             "#26828e"
            ],
            [
             0.5555555555555556,
             "#1f9e89"
            ],
            [
             0.6666666666666666,
             "#35b779"
            ],
            [
             0.7777777777777778,
             "#6ece58"
            ],
            [
             0.8888888888888888,
             "#b5de2b"
            ],
            [
             1,
             "#fde725"
            ]
           ],
           "sequentialminus": [
            [
             0,
             "#440154"
            ],
            [
             0.1111111111111111,
             "#482878"
            ],
            [
             0.2222222222222222,
             "#3e4989"
            ],
            [
             0.3333333333333333,
             "#31688e"
            ],
            [
             0.4444444444444444,
             "#26828e"
            ],
            [
             0.5555555555555556,
             "#1f9e89"
            ],
            [
             0.6666666666666666,
             "#35b779"
            ],
            [
             0.7777777777777778,
             "#6ece58"
            ],
            [
             0.8888888888888888,
             "#b5de2b"
            ],
            [
             1,
             "#fde725"
            ]
           ]
          },
          "colorway": [
           "#1F77B4",
           "#FF7F0E",
           "#2CA02C",
           "#D62728",
           "#9467BD",
           "#8C564B",
           "#E377C2",
           "#7F7F7F",
           "#BCBD22",
           "#17BECF"
          ],
          "font": {
           "color": "rgb(36,36,36)"
          },
          "geo": {
           "bgcolor": "white",
           "lakecolor": "white",
           "landcolor": "white",
           "showlakes": true,
           "showland": true,
           "subunitcolor": "white"
          },
          "hoverlabel": {
           "align": "left"
          },
          "hovermode": "closest",
          "mapbox": {
           "style": "light"
          },
          "paper_bgcolor": "white",
          "plot_bgcolor": "white",
          "polar": {
           "angularaxis": {
            "gridcolor": "rgb(232,232,232)",
            "linecolor": "rgb(36,36,36)",
            "showgrid": false,
            "showline": true,
            "ticks": "outside"
           },
           "bgcolor": "white",
           "radialaxis": {
            "gridcolor": "rgb(232,232,232)",
            "linecolor": "rgb(36,36,36)",
            "showgrid": false,
            "showline": true,
            "ticks": "outside"
           }
          },
          "scene": {
           "xaxis": {
            "backgroundcolor": "white",
            "gridcolor": "rgb(232,232,232)",
            "gridwidth": 2,
            "linecolor": "rgb(36,36,36)",
            "showbackground": true,
            "showgrid": false,
            "showline": true,
            "ticks": "outside",
            "zeroline": false,
            "zerolinecolor": "rgb(36,36,36)"
           },
           "yaxis": {
            "backgroundcolor": "white",
            "gridcolor": "rgb(232,232,232)",
            "gridwidth": 2,
            "linecolor": "rgb(36,36,36)",
            "showbackground": true,
            "showgrid": false,
            "showline": true,
            "ticks": "outside",
            "zeroline": false,
            "zerolinecolor": "rgb(36,36,36)"
           },
           "zaxis": {
            "backgroundcolor": "white",
            "gridcolor": "rgb(232,232,232)",
            "gridwidth": 2,
            "linecolor": "rgb(36,36,36)",
            "showbackground": true,
            "showgrid": false,
            "showline": true,
            "ticks": "outside",
            "zeroline": false,
            "zerolinecolor": "rgb(36,36,36)"
           }
          },
          "shapedefaults": {
           "fillcolor": "black",
           "line": {
            "width": 0
           },
           "opacity": 0.3
          },
          "ternary": {
           "aaxis": {
            "gridcolor": "rgb(232,232,232)",
            "linecolor": "rgb(36,36,36)",
            "showgrid": false,
            "showline": true,
            "ticks": "outside"
           },
           "baxis": {
            "gridcolor": "rgb(232,232,232)",
            "linecolor": "rgb(36,36,36)",
            "showgrid": false,
            "showline": true,
            "ticks": "outside"
           },
           "bgcolor": "white",
           "caxis": {
            "gridcolor": "rgb(232,232,232)",
            "linecolor": "rgb(36,36,36)",
            "showgrid": false,
            "showline": true,
            "ticks": "outside"
           }
          },
          "title": {
           "x": 0.05
          },
          "xaxis": {
           "automargin": true,
           "gridcolor": "rgb(232,232,232)",
           "linecolor": "rgb(36,36,36)",
           "showgrid": false,
           "showline": true,
           "ticks": "outside",
           "title": {
            "standoff": 15
           },
           "zeroline": false,
           "zerolinecolor": "rgb(36,36,36)"
          },
          "yaxis": {
           "automargin": true,
           "gridcolor": "rgb(232,232,232)",
           "linecolor": "rgb(36,36,36)",
           "showgrid": false,
           "showline": true,
           "ticks": "outside",
           "title": {
            "standoff": 15
           },
           "zeroline": false,
           "zerolinecolor": "rgb(36,36,36)"
          }
         }
        },
        "title": {
         "font": {
          "color": "Black",
          "size": 22
         },
         "text": "<b>Intertopic Distance Map</b>",
         "x": 0.5,
         "xanchor": "center",
         "y": 0.95,
         "yanchor": "top"
        },
        "width": 650,
        "xaxis": {
         "anchor": "y",
         "domain": [
          0,
          1
         ],
         "range": [
          -8.019114017486572,
          22.721918678283693
         ],
         "title": {
          "text": ""
         },
         "visible": false
        },
        "yaxis": {
         "anchor": "x",
         "domain": [
          0,
          1
         ],
         "range": [
          -8.001044368743896,
          25.879882621765137
         ],
         "title": {
          "text": ""
         },
         "visible": false
        }
       }
      }
     },
     "metadata": {},
     "output_type": "display_data"
    }
   ],
   "source": [
    "topic_model.visualize_topics()"
   ]
  },
  {
   "cell_type": "markdown",
   "metadata": {},
   "source": [
    "## Visualise Topics"
   ]
  },
  {
   "cell_type": "code",
   "execution_count": 256,
   "metadata": {},
   "outputs": [
    {
     "data": {
      "application/vnd.plotly.v1+json": {
       "config": {
        "plotlyServerURL": "https://plot.ly"
       },
       "data": [
        {
         "coloraxis": "coloraxis",
         "hovertemplate": "x: %{x}<br>y: %{y}<br>Similarity Score: %{z}<extra></extra>",
         "name": "0",
         "type": "heatmap",
         "x": [
          "0_italy_italian_italians",
          "2_brothers_brothers italy_i...",
          "13_european_europe_european...",
          "1_thank_ready_happy",
          "3_yes_yes yes_okay",
          "15_news_tell_anymore",
          "22_meloni_shivers_laugh",
          "23_thinks_don need_don",
          "35_morning_good_tired",
          "4_immigration_people_intern...",
          "36_abolish_ninety_want abol...",
          "5_freedom_free_right",
          "11_safety_emergency_defend",
          "12_wine_talk_violation",
          "16_transition_water_climate",
          "18_left_comparison_left wing",
          "20_alternative_woman_apply",
          "21_young_young people_sports",
          "27_government_level_reverse...",
          "29_putin_russia_values",
          "32_christmas_scene_make",
          "33_proud_nation_win",
          "6_income_tax_thousand euros",
          "10_wage_minimum wage_minimum",
          "19_pension_percent_leave",
          "26_budget_budget law_law",
          "7_resources_supply_initiati...",
          "17_work_training_job",
          "25_state_just state_work",
          "28_credits_credit_companies",
          "8_electoral_vote_electoral ...",
          "24_ministers_council minist...",
          "9_bills_inflation_bank",
          "31_price_petrol_average",
          "14_thank thank_thank_thank ...",
          "30_thank_thank thank_thanks",
          "34_measures_measure_scams"
         ],
         "xaxis": "x",
         "y": [
          "0_italy_italian_italians",
          "2_brothers_brothers italy_i...",
          "13_european_europe_european...",
          "1_thank_ready_happy",
          "3_yes_yes yes_okay",
          "15_news_tell_anymore",
          "22_meloni_shivers_laugh",
          "23_thinks_don need_don",
          "35_morning_good_tired",
          "4_immigration_people_intern...",
          "36_abolish_ninety_want abol...",
          "5_freedom_free_right",
          "11_safety_emergency_defend",
          "12_wine_talk_violation",
          "16_transition_water_climate",
          "18_left_comparison_left wing",
          "20_alternative_woman_apply",
          "21_young_young people_sports",
          "27_government_level_reverse...",
          "29_putin_russia_values",
          "32_christmas_scene_make",
          "33_proud_nation_win",
          "6_income_tax_thousand euros",
          "10_wage_minimum wage_minimum",
          "19_pension_percent_leave",
          "26_budget_budget law_law",
          "7_resources_supply_initiati...",
          "17_work_training_job",
          "25_state_just state_work",
          "28_credits_credit_companies",
          "8_electoral_vote_electoral ...",
          "24_ministers_council minist...",
          "9_bills_inflation_bank",
          "31_price_petrol_average",
          "14_thank thank_thank_thank ...",
          "30_thank_thank thank_thanks",
          "34_measures_measure_scams"
         ],
         "yaxis": "y",
         "z": [
          [
           0.9999999999999998,
           0.8638867883781044,
           0.6893892902203486,
           0.5461383502222975,
           0.4723773058373204,
           0.5928100128385488,
           0.5766643514816521,
           0.5228713812173323,
           0.49725904451055325,
           0.6052939987015482,
           0.49034575776338496,
           0.5606749262640778,
           0.5336460167290942,
           0.575651488608362,
           0.5458311351096585,
           0.5723627854976381,
           0.585835503870844,
           0.5974680858560107,
           0.6470991847870374,
           0.7209963739277081,
           0.5785978694444304,
           0.582585990787124,
           0.4791765811753746,
           0.4028576705145854,
           0.4729990717901341,
           0.4790818219298126,
           0.5867908561940088,
           0.4998578226646303,
           0.5503656176089917,
           0.5013256466888965,
           0.5053355844307786,
           0.4907166571763048,
           0.48818831594554846,
           0.5150149481741081,
           0.3170720018771758,
           0.3008379994118661,
           0.41001926813855083
          ],
          [
           0.8638867883781044,
           0.9999999999999999,
           0.554902892878439,
           0.5030383565784381,
           0.4383609654722241,
           0.560651773824728,
           0.5680757947404743,
           0.467960369385228,
           0.44170261368816555,
           0.5407380273578574,
           0.4097442687543775,
           0.4972670569341895,
           0.4985747016693135,
           0.5559949628148597,
           0.5007644522045568,
           0.520718241332223,
           0.5090362867665608,
           0.6201762716990297,
           0.5669961579122541,
           0.6452609734137037,
           0.5978697940444591,
           0.5686254165623159,
           0.39408815953004467,
           0.34176095070794976,
           0.38425477933848506,
           0.4093118456943973,
           0.5023572313083072,
           0.4673589011838003,
           0.4645729015463205,
           0.4972639758889825,
           0.4761396580102608,
           0.4864380065939828,
           0.45686504000472195,
           0.4790062853743172,
           0.2877733406835823,
           0.2716893857486907,
           0.36778827758685007
          ],
          [
           0.6893892902203486,
           0.554902892878439,
           1.0000000000000002,
           0.40947698862732007,
           0.35278408956752544,
           0.4982400683087697,
           0.4144210065469039,
           0.38745184728754123,
           0.4042869342633332,
           0.5710685417250619,
           0.4724532677544331,
           0.4684715803714484,
           0.446659327024434,
           0.46995462561348117,
           0.4738690373451807,
           0.5058351234687463,
           0.4722754222750121,
           0.45849875164944265,
           0.5455229514175475,
           0.6261302211685807,
           0.44405296157182667,
           0.47439936091061047,
           0.47619256450603953,
           0.4133301176362266,
           0.4864768605717796,
           0.4428375648875372,
           0.560807826465609,
           0.45422890867965793,
           0.44273294720655454,
           0.49563953370440594,
           0.45981473021521496,
           0.5608148625984273,
           0.4719584617733675,
           0.49864908326642476,
           0.20653644069114485,
           0.18963960516149667,
           0.4415791887528267
          ],
          [
           0.5461383502222975,
           0.5030383565784381,
           0.40947698862732007,
           0.9999999999999993,
           0.7147989463293902,
           0.7560119903452186,
           0.6532206137044194,
           0.750062269923794,
           0.7815503904511844,
           0.5461415122636749,
           0.5719434866408604,
           0.6456446471994267,
           0.5971439755442062,
           0.6515047106965371,
           0.6032419165033998,
           0.6240697551742852,
           0.6899648873579729,
           0.6301473427705968,
           0.5931652301683286,
           0.5919711002821479,
           0.6331799897764115,
           0.7091255684977289,
           0.4015326127671082,
           0.45989922757924684,
           0.5084041491932818,
           0.4718151264405267,
           0.6372096364456421,
           0.7101946089431139,
           0.6620743812372475,
           0.5850442534323228,
           0.536973776627713,
           0.48042687667220785,
           0.5217726476943844,
           0.531686749434793,
           0.776068327848823,
           0.7450730399994879,
           0.4953902288030555
          ],
          [
           0.4723773058373204,
           0.4383609654722241,
           0.35278408956752544,
           0.7147989463293902,
           1.0000000000000004,
           0.6747567421361008,
           0.5978865767614294,
           0.7190306028429434,
           0.6145019804642523,
           0.4733168041624085,
           0.5054126832121913,
           0.5873195781844165,
           0.514788681514515,
           0.5678496744447832,
           0.48193205177297727,
           0.5424908246809095,
           0.5843777675572496,
           0.519968654592609,
           0.4988735426728509,
           0.4899302925622846,
           0.46830123775369803,
           0.5745440287244268,
           0.3670818559150181,
           0.37277009511737536,
           0.4350745856121521,
           0.37910020636795483,
           0.5375877942529078,
           0.5694572125974741,
           0.602943335258095,
           0.4910904139215323,
           0.4447278635635883,
           0.39824320049243156,
           0.4656795392097235,
           0.4899391220197675,
           0.4957872463684756,
           0.4580703945093654,
           0.42581787117490877
          ],
          [
           0.5928100128385488,
           0.560651773824728,
           0.4982400683087697,
           0.7560119903452186,
           0.6747567421361008,
           1,
           0.6359842641648481,
           0.7392544632766094,
           0.6839863309031975,
           0.6254883081280248,
           0.6219602178117755,
           0.6741953832881353,
           0.6533865966850375,
           0.7063996756474406,
           0.6362142351406925,
           0.6349985254133645,
           0.6940548225719704,
           0.6298702974332921,
           0.6433424138549301,
           0.6408129768362619,
           0.6786176090101236,
           0.6872015151842796,
           0.45180015154697173,
           0.4612727685786592,
           0.5275431536887655,
           0.5264144110743276,
           0.7074844893285265,
           0.6750700481457584,
           0.6747677402225555,
           0.6271448268970515,
           0.5284047110156493,
           0.5262209308803818,
           0.5801130318812169,
           0.6277535189247415,
           0.44091360694404674,
           0.4115480888220907,
           0.6317120732968368
          ],
          [
           0.5766643514816521,
           0.5680757947404743,
           0.4144210065469039,
           0.6532206137044194,
           0.5978865767614294,
           0.6359842641648481,
           1,
           0.6598717019798855,
           0.5916348948401055,
           0.5213509064403319,
           0.49930674544210674,
           0.5920795972868094,
           0.5844144410798742,
           0.6714767670401719,
           0.5851163789423874,
           0.5992116741723847,
           0.6272967585848247,
           0.6144386809329567,
           0.5603070380803765,
           0.6179099233558009,
           0.6230159741712724,
           0.6392583012191232,
           0.4249034771518424,
           0.41690766329617335,
           0.4852642623800199,
           0.4359224542380745,
           0.5654115172875647,
           0.5656315277038145,
           0.5206705316799972,
           0.5514655514485741,
           0.43735549890769265,
           0.479224628227103,
           0.5424176115497961,
           0.5275813301237735,
           0.3799027179070317,
           0.3590166043371742,
           0.45712419871533705
          ],
          [
           0.5228713812173323,
           0.467960369385228,
           0.38745184728754123,
           0.750062269923794,
           0.7190306028429434,
           0.7392544632766094,
           0.6598717019798855,
           1.0000000000000004,
           0.6335246080060959,
           0.5387614958056934,
           0.6132009088492267,
           0.6764583490593626,
           0.6236914390368109,
           0.7111876778964679,
           0.6088735223922267,
           0.628244600726765,
           0.6676974104324899,
           0.6176877807072974,
           0.5948862084180435,
           0.5947984971204414,
           0.5943418448348742,
           0.6594028216393483,
           0.40954603217947605,
           0.4155403917149051,
           0.5073394509848436,
           0.4728393193874909,
           0.6572225835977983,
           0.6367614251772337,
           0.6694995751100214,
           0.5652608339197733,
           0.5189859917907438,
           0.4757622682634102,
           0.5305099823938495,
           0.5479014548825123,
           0.5328379319150001,
           0.5067782763767708,
           0.546154346631744
          ],
          [
           0.49725904451055325,
           0.44170261368816555,
           0.4042869342633332,
           0.7815503904511844,
           0.6145019804642523,
           0.6839863309031975,
           0.5916348948401055,
           0.6335246080060959,
           1.0000000000000002,
           0.49957665332705226,
           0.5233257839088159,
           0.5845221681846549,
           0.5850118712801811,
           0.6361821166453191,
           0.5807933857577727,
           0.5844083727085202,
           0.5924538736691227,
           0.5742951010962217,
           0.5524158830701822,
           0.549033973893069,
           0.6087224414540582,
           0.6102354717255298,
           0.3709255928435866,
           0.4073823637281763,
           0.4687974325198567,
           0.4216227480794596,
           0.5612789369688655,
           0.6144746699141319,
           0.5800527119477298,
           0.498447916935684,
           0.47849445329253837,
           0.4314131150175841,
           0.498034562091852,
           0.49777561981352914,
           0.5195881624125396,
           0.48491783957960066,
           0.44552797309351033
          ],
          [
           0.6052939987015482,
           0.5407380273578574,
           0.5710685417250619,
           0.5461415122636749,
           0.4733168041624085,
           0.6254883081280248,
           0.5213509064403319,
           0.5387614958056934,
           0.49957665332705226,
           1.0000000000000004,
           0.6007454765456486,
           0.6345467492673587,
           0.6327558524185026,
           0.6247469094785454,
           0.6089052668771393,
           0.5879532309052642,
           0.6640694271873804,
           0.6377483334219536,
           0.6703635157755112,
           0.6269491466693463,
           0.5773816531650439,
           0.5649695712295341,
           0.5511071876463948,
           0.47567613654130625,
           0.49922579557417157,
           0.5295752621243583,
           0.6444321375601173,
           0.5867658495795728,
           0.5709338108260855,
           0.5785923446612964,
           0.517223467432779,
           0.4935608214123234,
           0.5080238540611657,
           0.5417578075680761,
           0.32054970671446936,
           0.3001229878350927,
           0.47585467652221514
          ],
          [
           0.49034575776338496,
           0.4097442687543775,
           0.4724532677544331,
           0.5719434866408604,
           0.5054126832121913,
           0.6219602178117755,
           0.49930674544210674,
           0.6132009088492267,
           0.5233257839088159,
           0.6007454765456486,
           1.0000000000000002,
           0.6636299762311993,
           0.5383081704797965,
           0.6377158793026918,
           0.5672599435099961,
           0.5990022801506751,
           0.6963104448982633,
           0.5192771173071926,
           0.6554132085876782,
           0.5756645388092412,
           0.5267091875750654,
           0.5849216730140888,
           0.4706614031783386,
           0.46005812058858203,
           0.575781379849705,
           0.5565192118973972,
           0.604787574798087,
           0.5416320809249682,
           0.579784160125381,
           0.5506584790009575,
           0.5280839353260177,
           0.5435537026395864,
           0.5189265009792675,
           0.518066436548601,
           0.35410295135433045,
           0.32971294373297627,
           0.5381941691659273
          ],
          [
           0.5606749262640778,
           0.4972670569341895,
           0.4684715803714484,
           0.6456446471994267,
           0.5873195781844165,
           0.6741953832881353,
           0.5920795972868094,
           0.6764583490593626,
           0.5845221681846549,
           0.6345467492673587,
           0.6636299762311993,
           0.9999999999999998,
           0.6611923485429737,
           0.6901943607990834,
           0.6024666593985005,
           0.6938264634119756,
           0.6725927026085846,
           0.624501516082423,
           0.6630601368914308,
           0.6664743269186952,
           0.6349197490810283,
           0.6850836766948224,
           0.4503705631826168,
           0.4690951476786859,
           0.605286809593919,
           0.5612383771405361,
           0.6612934298090971,
           0.6278653950510112,
           0.6409054495646554,
           0.5744598577530007,
           0.5631726401823169,
           0.4886566969782808,
           0.5496192387135175,
           0.5380000641783411,
           0.3789874449381645,
           0.3637226462151036,
           0.5299399630655854
          ],
          [
           0.5336460167290942,
           0.4985747016693135,
           0.446659327024434,
           0.5971439755442062,
           0.514788681514515,
           0.6533865966850375,
           0.5844144410798742,
           0.6236914390368109,
           0.5850118712801811,
           0.6327558524185026,
           0.5383081704797965,
           0.6611923485429737,
           1,
           0.6853558729077783,
           0.6623473928331064,
           0.5705894817760288,
           0.7142220527121518,
           0.6917195437909495,
           0.6352313541594263,
           0.6150701240007753,
           0.6156276693459819,
           0.6524628091481885,
           0.3769956925058411,
           0.42846513437644174,
           0.49997587292061035,
           0.5153257196745159,
           0.6473230148982618,
           0.622533231021209,
           0.6547051247631255,
           0.5784329740172481,
           0.5213207530030242,
           0.5355970679721346,
           0.524281084185704,
           0.5521266842714612,
           0.34517657692620374,
           0.31150559826895896,
           0.5197314022818788
          ],
          [
           0.575651488608362,
           0.5559949628148597,
           0.46995462561348117,
           0.6515047106965371,
           0.5678496744447832,
           0.7063996756474406,
           0.6714767670401719,
           0.7111876778964679,
           0.6361821166453191,
           0.6247469094785454,
           0.6377158793026918,
           0.6901943607990834,
           0.6853558729077783,
           1.0000000000000004,
           0.6988512465466389,
           0.639849428470053,
           0.714328247951141,
           0.7043325303553117,
           0.6719787331463738,
           0.6909206213550017,
           0.6893468314199743,
           0.7210891142305701,
           0.43695519575603914,
           0.4599011785694138,
           0.51697293446208,
           0.5305544572461578,
           0.6907306979735434,
           0.6290260760145,
           0.6176331358853505,
           0.6304713290982469,
           0.5362203327783271,
           0.5357091211849302,
           0.597918978111605,
           0.6001494610289837,
           0.38451344797969134,
           0.3524425279412935,
           0.5229668869376207
          ],
          [
           0.5458311351096585,
           0.5007644522045568,
           0.4738690373451807,
           0.6032419165033998,
           0.48193205177297727,
           0.6362142351406925,
           0.5851163789423874,
           0.6088735223922267,
           0.5807933857577727,
           0.6089052668771393,
           0.5672599435099961,
           0.6024666593985005,
           0.6623473928331064,
           0.6988512465466389,
           1.0000000000000002,
           0.6682032483050602,
           0.6873667488308373,
           0.6666245464435052,
           0.7140037471774836,
           0.6523627411703412,
           0.6890634304021541,
           0.6388283243727212,
           0.4061523760757924,
           0.46793206924412034,
           0.5160434606943195,
           0.5187471195324345,
           0.6773117693260043,
           0.629608368817983,
           0.5862742676969521,
           0.5895891631404452,
           0.5581912275402025,
           0.5351666959354703,
           0.6333957217757575,
           0.6308896495361739,
           0.32341379214568566,
           0.2927708561673389,
           0.5284329426804777
          ],
          [
           0.5723627854976381,
           0.520718241332223,
           0.5058351234687463,
           0.6240697551742852,
           0.5424908246809095,
           0.6349985254133645,
           0.5992116741723847,
           0.628244600726765,
           0.5844083727085202,
           0.5879532309052642,
           0.5990022801506751,
           0.6938264634119756,
           0.5705894817760288,
           0.639849428470053,
           0.6682032483050602,
           0.9999999999999996,
           0.6452156318250563,
           0.6011932813119873,
           0.6978394680295726,
           0.6444067908390922,
           0.555141063204686,
           0.6620143131632394,
           0.372291451325297,
           0.4109774018900473,
           0.5376918978516242,
           0.46392012787516057,
           0.6146750421460387,
           0.5584237802819177,
           0.5263772309922257,
           0.516897486645818,
           0.6047306933521021,
           0.5678007911955444,
           0.5120377274867622,
           0.5549744333925601,
           0.38286644600741604,
           0.37124958333540764,
           0.5069782576369
          ],
          [
           0.585835503870844,
           0.5090362867665608,
           0.4722754222750121,
           0.6899648873579729,
           0.5843777675572496,
           0.6940548225719704,
           0.6272967585848247,
           0.6676974104324899,
           0.5924538736691227,
           0.6640694271873804,
           0.6963104448982633,
           0.6725927026085846,
           0.7142220527121518,
           0.714328247951141,
           0.6873667488308373,
           0.6452156318250563,
           1,
           0.684641856374768,
           0.7153200999322874,
           0.6432264315303464,
           0.6935676676685789,
           0.6802127627871285,
           0.48611691460351086,
           0.5222247078231439,
           0.6073872738964929,
           0.5714284606075675,
           0.6894255935611093,
           0.6971887903289564,
           0.6746365569957091,
           0.6638334547313219,
           0.5568233638629526,
           0.5717396179999551,
           0.5992098261373803,
           0.5957369297372247,
           0.4434289290911875,
           0.41351530783292784,
           0.5806862739288285
          ],
          [
           0.5974680858560107,
           0.6201762716990297,
           0.45849875164944265,
           0.6301473427705968,
           0.519968654592609,
           0.6298702974332921,
           0.6144386809329567,
           0.6176877807072974,
           0.5742951010962217,
           0.6377483334219536,
           0.5192771173071926,
           0.624501516082423,
           0.6917195437909495,
           0.7043325303553117,
           0.6666245464435052,
           0.6011932813119873,
           0.684641856374768,
           0.9999999999999999,
           0.6886768354284619,
           0.6612029479740853,
           0.6997508451622643,
           0.7108341127865709,
           0.4493600458401886,
           0.4728034609232799,
           0.5265488976223224,
           0.49933746726981887,
           0.6321283393604971,
           0.6628078143097268,
           0.5927926781554032,
           0.5955444704397652,
           0.5645594403408318,
           0.5038407322427984,
           0.5737914172268357,
           0.56816189375155,
           0.3264273263909033,
           0.29237790926678686,
           0.4819777767204147
          ],
          [
           0.6470991847870374,
           0.5669961579122541,
           0.5455229514175475,
           0.5931652301683286,
           0.4988735426728509,
           0.6433424138549301,
           0.5603070380803765,
           0.5948862084180435,
           0.5524158830701822,
           0.6703635157755112,
           0.6554132085876782,
           0.6630601368914308,
           0.6352313541594263,
           0.6719787331463738,
           0.7140037471774836,
           0.6978394680295726,
           0.7153200999322874,
           0.6886768354284619,
           0.9999999999999992,
           0.6820372548957425,
           0.6705859289238084,
           0.6806352050507222,
           0.5161778382807148,
           0.4860520626736078,
           0.5288462397019784,
           0.616026807132271,
           0.6876111838874409,
           0.6072969953124285,
           0.6090119977679245,
           0.6283773794836519,
           0.6865064310333128,
           0.6513098670549561,
           0.6378156902963995,
           0.605289187605343,
           0.2879119256440503,
           0.26773506559343213,
           0.5361592916800799
          ],
          [
           0.7209963739277081,
           0.6452609734137037,
           0.6261302211685807,
           0.5919711002821479,
           0.4899302925622846,
           0.6408129768362619,
           0.6179099233558009,
           0.5947984971204414,
           0.549033973893069,
           0.6269491466693463,
           0.5756645388092412,
           0.6664743269186952,
           0.6150701240007753,
           0.6909206213550017,
           0.6523627411703412,
           0.6444067908390922,
           0.6432264315303464,
           0.6612029479740853,
           0.6820372548957425,
           1.0000000000000002,
           0.6408816929104302,
           0.6360425595135013,
           0.5217950449729856,
           0.47989205572678184,
           0.5241343689521283,
           0.4956775625958517,
           0.6663428851480796,
           0.5749701785532683,
           0.5710510454099238,
           0.5618969387138877,
           0.5297873014986241,
           0.5477177784507462,
           0.5852996739294523,
           0.5994717266297123,
           0.31168790078222264,
           0.2892820651738846,
           0.51185466397273
          ],
          [
           0.5785978694444304,
           0.5978697940444591,
           0.44405296157182667,
           0.6331799897764115,
           0.46830123775369803,
           0.6786176090101236,
           0.6230159741712724,
           0.5943418448348742,
           0.6087224414540582,
           0.5773816531650439,
           0.5267091875750654,
           0.6349197490810283,
           0.6156276693459819,
           0.6893468314199743,
           0.6890634304021541,
           0.555141063204686,
           0.6935676676685789,
           0.6997508451622643,
           0.6705859289238084,
           0.6408816929104302,
           0.9999999999999993,
           0.6637509975961793,
           0.4981537522171315,
           0.4698188450409416,
           0.5663445018180234,
           0.6148801063427884,
           0.6483479418990794,
           0.6585368323601954,
           0.5756844659138479,
           0.6682770803854283,
           0.5175181637319433,
           0.5146070252689041,
           0.6636509290256303,
           0.604754510743355,
           0.34416875894818216,
           0.3163585437148281,
           0.5197489779565976
          ],
          [
           0.582585990787124,
           0.5686254165623159,
           0.47439936091061047,
           0.7091255684977289,
           0.5745440287244268,
           0.6872015151842796,
           0.6392583012191232,
           0.6594028216393483,
           0.6102354717255298,
           0.5649695712295341,
           0.5849216730140888,
           0.6850836766948224,
           0.6524628091481885,
           0.7210891142305701,
           0.6388283243727212,
           0.6620143131632394,
           0.6802127627871285,
           0.7108341127865709,
           0.6806352050507222,
           0.6360425595135013,
           0.6637509975961793,
           1.0000000000000002,
           0.3732857448769665,
           0.38695418762938005,
           0.49170985019483293,
           0.45149466549792977,
           0.6306917412965142,
           0.6485376692053741,
           0.6287480774920166,
           0.5739981317044385,
           0.6337949344545781,
           0.5732327953590027,
           0.49417536520581173,
           0.5178049136527645,
           0.44970333231813486,
           0.4247219129053532,
           0.5275626524442381
          ],
          [
           0.4791765811753746,
           0.39408815953004467,
           0.47619256450603953,
           0.4015326127671082,
           0.3670818559150181,
           0.45180015154697173,
           0.4249034771518424,
           0.40954603217947605,
           0.3709255928435866,
           0.5511071876463948,
           0.4706614031783386,
           0.4503705631826168,
           0.3769956925058411,
           0.43695519575603914,
           0.4061523760757924,
           0.372291451325297,
           0.48611691460351086,
           0.4493600458401886,
           0.5161778382807148,
           0.5217950449729856,
           0.4981537522171315,
           0.3732857448769665,
           0.9999999999999998,
           0.6482032635058683,
           0.6384156504658304,
           0.5674953850842197,
           0.5505286538643003,
           0.5576859215666528,
           0.46695806375472015,
           0.5309087913901244,
           0.397867052782925,
           0.4004668911593145,
           0.6427320758871581,
           0.604667570573148,
           0.20742032957923878,
           0.17536715007392648,
           0.4628769438918512
          ],
          [
           0.4028576705145854,
           0.34176095070794976,
           0.4133301176362266,
           0.45989922757924684,
           0.37277009511737536,
           0.4612727685786592,
           0.41690766329617335,
           0.4155403917149051,
           0.4073823637281763,
           0.47567613654130625,
           0.46005812058858203,
           0.4690951476786859,
           0.42846513437644174,
           0.4599011785694138,
           0.46793206924412034,
           0.4109774018900473,
           0.5222247078231439,
           0.4728034609232799,
           0.4860520626736078,
           0.47989205572678184,
           0.4698188450409416,
           0.38695418762938005,
           0.6482032635058683,
           0.9999999999999993,
           0.5981074872378298,
           0.5812410472739598,
           0.5434457235181251,
           0.6320122109065011,
           0.5120966819266385,
           0.5127740979711755,
           0.36722339808448434,
           0.37458477860352707,
           0.6404473858932644,
           0.5962245356418087,
           0.28644514483991373,
           0.25918197478414057,
           0.43493982515895857
          ],
          [
           0.4729990717901341,
           0.38425477933848506,
           0.4864768605717796,
           0.5084041491932818,
           0.4350745856121521,
           0.5275431536887655,
           0.4852642623800199,
           0.5073394509848436,
           0.4687974325198567,
           0.49922579557417157,
           0.575781379849705,
           0.605286809593919,
           0.49997587292061035,
           0.51697293446208,
           0.5160434606943195,
           0.5376918978516242,
           0.6073872738964929,
           0.5265488976223224,
           0.5288462397019784,
           0.5241343689521283,
           0.5663445018180234,
           0.49170985019483293,
           0.6384156504658304,
           0.5981074872378298,
           1,
           0.6330856469671765,
           0.6075231830728556,
           0.6161063990616823,
           0.5086489830827414,
           0.5394809136548294,
           0.40823418672273826,
           0.4853284972322691,
           0.5856512332330024,
           0.5470844516733755,
           0.31716890389324426,
           0.29294126433047757,
           0.49211031694939933
          ],
          [
           0.4790818219298126,
           0.4093118456943973,
           0.4428375648875372,
           0.4718151264405267,
           0.37910020636795483,
           0.5264144110743276,
           0.4359224542380745,
           0.4728393193874909,
           0.4216227480794596,
           0.5295752621243583,
           0.5565192118973972,
           0.5612383771405361,
           0.5153257196745159,
           0.5305544572461578,
           0.5187471195324345,
           0.46392012787516057,
           0.5714284606075675,
           0.49933746726981887,
           0.616026807132271,
           0.4956775625958517,
           0.6148801063427884,
           0.45149466549792977,
           0.5674953850842197,
           0.5812410472739598,
           0.6330856469671765,
           1.0000000000000002,
           0.6835802030766678,
           0.5483853417494575,
           0.5179897890558012,
           0.6496400995941125,
           0.5004577482841329,
           0.5255663337021944,
           0.6689978329101484,
           0.5598361524589077,
           0.25270917682211014,
           0.23256401964084744,
           0.5100770627583554
          ],
          [
           0.5867908561940088,
           0.5023572313083072,
           0.560807826465609,
           0.6372096364456421,
           0.5375877942529078,
           0.7074844893285265,
           0.5654115172875647,
           0.6572225835977983,
           0.5612789369688655,
           0.6444321375601173,
           0.604787574798087,
           0.6612934298090971,
           0.6473230148982618,
           0.6907306979735434,
           0.6773117693260043,
           0.6146750421460387,
           0.6894255935611093,
           0.6321283393604971,
           0.6876111838874409,
           0.6663428851480796,
           0.6483479418990794,
           0.6306917412965142,
           0.5505286538643003,
           0.5434457235181251,
           0.6075231830728556,
           0.6835802030766678,
           1.0000000000000004,
           0.7193455487093693,
           0.607691796374717,
           0.7066433863235659,
           0.5477468825157523,
           0.5599096458217958,
           0.704191169910673,
           0.6526635933389091,
           0.41474910277298394,
           0.39012346263339104,
           0.6023964960043051
          ],
          [
           0.4998578226646303,
           0.4673589011838003,
           0.45422890867965793,
           0.7101946089431139,
           0.5694572125974741,
           0.6750700481457584,
           0.5656315277038145,
           0.6367614251772337,
           0.6144746699141319,
           0.5867658495795728,
           0.5416320809249682,
           0.6278653950510112,
           0.622533231021209,
           0.6290260760145,
           0.629608368817983,
           0.5584237802819177,
           0.6971887903289564,
           0.6628078143097268,
           0.6072969953124285,
           0.5749701785532683,
           0.6585368323601954,
           0.6485376692053741,
           0.5576859215666528,
           0.6320122109065011,
           0.6161063990616823,
           0.5483853417494575,
           0.7193455487093693,
           0.9999999999999998,
           0.7147821212333425,
           0.6519819148655267,
           0.5242791461486527,
           0.5118134863281836,
           0.5928596990588153,
           0.5489538187478206,
           0.46299251273552,
           0.4275816665022238,
           0.5570650923729137
          ],
          [
           0.5503656176089917,
           0.4645729015463205,
           0.44273294720655454,
           0.6620743812372475,
           0.602943335258095,
           0.6747677402225555,
           0.5206705316799972,
           0.6694995751100214,
           0.5800527119477298,
           0.5709338108260855,
           0.579784160125381,
           0.6409054495646554,
           0.6547051247631255,
           0.6176331358853505,
           0.5862742676969521,
           0.5263772309922257,
           0.6746365569957091,
           0.5927926781554032,
           0.6090119977679245,
           0.5710510454099238,
           0.5756844659138479,
           0.6287480774920166,
           0.46695806375472015,
           0.5120966819266385,
           0.5086489830827414,
           0.5179897890558012,
           0.607691796374717,
           0.7147821212333425,
           1.0000000000000002,
           0.5573765769862427,
           0.5537402540582175,
           0.4727529202817554,
           0.5255621598255944,
           0.497850625237654,
           0.4111398455283573,
           0.3781854370620852,
           0.4954025586208269
          ],
          [
           0.5013256466888965,
           0.4972639758889825,
           0.49563953370440594,
           0.5850442534323228,
           0.4910904139215323,
           0.6271448268970515,
           0.5514655514485741,
           0.5652608339197733,
           0.498447916935684,
           0.5785923446612964,
           0.5506584790009575,
           0.5744598577530007,
           0.5784329740172481,
           0.6304713290982469,
           0.5895891631404452,
           0.516897486645818,
           0.6638334547313219,
           0.5955444704397652,
           0.6283773794836519,
           0.5618969387138877,
           0.6682770803854283,
           0.5739981317044385,
           0.5309087913901244,
           0.5127740979711755,
           0.5394809136548294,
           0.6496400995941125,
           0.7066433863235659,
           0.6519819148655267,
           0.5573765769862427,
           0.9999999999999999,
           0.46440367925622333,
           0.5369339563543853,
           0.7040538019373707,
           0.556837869135167,
           0.3726071585119936,
           0.34930926398354634,
           0.5574937057965046
          ],
          [
           0.5053355844307786,
           0.4761396580102608,
           0.45981473021521496,
           0.536973776627713,
           0.4447278635635883,
           0.5284047110156493,
           0.43735549890769265,
           0.5189859917907438,
           0.47849445329253837,
           0.517223467432779,
           0.5280839353260177,
           0.5631726401823169,
           0.5213207530030242,
           0.5362203327783271,
           0.5581912275402025,
           0.6047306933521021,
           0.5568233638629526,
           0.5645594403408318,
           0.6865064310333128,
           0.5297873014986241,
           0.5175181637319433,
           0.6337949344545781,
           0.397867052782925,
           0.36722339808448434,
           0.40823418672273826,
           0.5004577482841329,
           0.5477468825157523,
           0.5242791461486527,
           0.5537402540582175,
           0.46440367925622333,
           1,
           0.5547923681424403,
           0.44392244447176077,
           0.4490186042596001,
           0.2718158954979909,
           0.2523227983866748,
           0.482066171469111
          ],
          [
           0.4907166571763048,
           0.4864380065939828,
           0.5608148625984273,
           0.48042687667220785,
           0.39824320049243156,
           0.5262209308803818,
           0.479224628227103,
           0.4757622682634102,
           0.4314131150175841,
           0.4935608214123234,
           0.5435537026395864,
           0.4886566969782808,
           0.5355970679721346,
           0.5357091211849302,
           0.5351666959354703,
           0.5678007911955444,
           0.5717396179999551,
           0.5038407322427984,
           0.6513098670549561,
           0.5477177784507462,
           0.5146070252689041,
           0.5732327953590027,
           0.4004668911593145,
           0.37458477860352707,
           0.4853284972322691,
           0.5255663337021944,
           0.5599096458217958,
           0.5118134863281836,
           0.4727529202817554,
           0.5369339563543853,
           0.5547923681424403,
           0.9999999999999997,
           0.4720552369169486,
           0.437964930932078,
           0.27368400646639013,
           0.25320094838219026,
           0.47118697672923493
          ],
          [
           0.48818831594554846,
           0.45686504000472195,
           0.4719584617733675,
           0.5217726476943844,
           0.4656795392097235,
           0.5801130318812169,
           0.5424176115497961,
           0.5305099823938495,
           0.498034562091852,
           0.5080238540611657,
           0.5189265009792675,
           0.5496192387135175,
           0.524281084185704,
           0.597918978111605,
           0.6333957217757575,
           0.5120377274867622,
           0.5992098261373803,
           0.5737914172268357,
           0.6378156902963995,
           0.5852996739294523,
           0.6636509290256303,
           0.49417536520581173,
           0.6427320758871581,
           0.6404473858932644,
           0.5856512332330024,
           0.6689978329101484,
           0.704191169910673,
           0.5928596990588153,
           0.5255621598255944,
           0.7040538019373707,
           0.44392244447176077,
           0.4720552369169486,
           0.9999999999999999,
           0.7968118479940364,
           0.2767118019351543,
           0.23748256674463408,
           0.557249894649426
          ],
          [
           0.5150149481741081,
           0.4790062853743172,
           0.49864908326642476,
           0.531686749434793,
           0.4899391220197675,
           0.6277535189247415,
           0.5275813301237735,
           0.5479014548825123,
           0.49777561981352914,
           0.5417578075680761,
           0.518066436548601,
           0.5380000641783411,
           0.5521266842714612,
           0.6001494610289837,
           0.6308896495361739,
           0.5549744333925601,
           0.5957369297372247,
           0.56816189375155,
           0.605289187605343,
           0.5994717266297123,
           0.604754510743355,
           0.5178049136527645,
           0.604667570573148,
           0.5962245356418087,
           0.5470844516733755,
           0.5598361524589077,
           0.6526635933389091,
           0.5489538187478206,
           0.497850625237654,
           0.556837869135167,
           0.4490186042596001,
           0.437964930932078,
           0.7968118479940364,
           1,
           0.3024181649871472,
           0.26832303752669573,
           0.5488687308812742
          ],
          [
           0.3170720018771758,
           0.2877733406835823,
           0.20653644069114485,
           0.776068327848823,
           0.4957872463684756,
           0.44091360694404674,
           0.3799027179070317,
           0.5328379319150001,
           0.5195881624125396,
           0.32054970671446936,
           0.35410295135433045,
           0.3789874449381645,
           0.34517657692620374,
           0.38451344797969134,
           0.32341379214568566,
           0.38286644600741604,
           0.4434289290911875,
           0.3264273263909033,
           0.2879119256440503,
           0.31168790078222264,
           0.34416875894818216,
           0.44970333231813486,
           0.20742032957923878,
           0.28644514483991373,
           0.31716890389324426,
           0.25270917682211014,
           0.41474910277298394,
           0.46299251273552,
           0.4111398455283573,
           0.3726071585119936,
           0.2718158954979909,
           0.27368400646639013,
           0.2767118019351543,
           0.3024181649871472,
           0.9999999999999996,
           0.9831002777597386,
           0.35498150858693744
          ],
          [
           0.3008379994118661,
           0.2716893857486907,
           0.18963960516149667,
           0.7450730399994879,
           0.4580703945093654,
           0.4115480888220907,
           0.3590166043371742,
           0.5067782763767708,
           0.48491783957960066,
           0.3001229878350927,
           0.32971294373297627,
           0.3637226462151036,
           0.31150559826895896,
           0.3524425279412935,
           0.2927708561673389,
           0.37124958333540764,
           0.41351530783292784,
           0.29237790926678686,
           0.26773506559343213,
           0.2892820651738846,
           0.3163585437148281,
           0.4247219129053532,
           0.17536715007392648,
           0.25918197478414057,
           0.29294126433047757,
           0.23256401964084744,
           0.39012346263339104,
           0.4275816665022238,
           0.3781854370620852,
           0.34930926398354634,
           0.2523227983866748,
           0.25320094838219026,
           0.23748256674463408,
           0.26832303752669573,
           0.9831002777597386,
           0.9999999999999998,
           0.33455253333347
          ],
          [
           0.41001926813855083,
           0.36778827758685007,
           0.4415791887528267,
           0.4953902288030555,
           0.42581787117490877,
           0.6317120732968368,
           0.45712419871533705,
           0.546154346631744,
           0.44552797309351033,
           0.47585467652221514,
           0.5381941691659273,
           0.5299399630655854,
           0.5197314022818788,
           0.5229668869376207,
           0.5284329426804777,
           0.5069782576369,
           0.5806862739288285,
           0.4819777767204147,
           0.5361592916800799,
           0.51185466397273,
           0.5197489779565976,
           0.5275626524442381,
           0.4628769438918512,
           0.43493982515895857,
           0.49211031694939933,
           0.5100770627583554,
           0.6023964960043051,
           0.5570650923729137,
           0.4954025586208269,
           0.5574937057965046,
           0.482066171469111,
           0.47118697672923493,
           0.557249894649426,
           0.5488687308812742,
           0.35498150858693744,
           0.33455253333347,
           1.0000000000000007
          ]
         ]
        }
       ],
       "layout": {
        "coloraxis": {
         "colorbar": {
          "title": {
           "text": "Similarity Score"
          }
         },
         "colorscale": [
          [
           0,
           "rgb(247,252,240)"
          ],
          [
           0.125,
           "rgb(224,243,219)"
          ],
          [
           0.25,
           "rgb(204,235,197)"
          ],
          [
           0.375,
           "rgb(168,221,181)"
          ],
          [
           0.5,
           "rgb(123,204,196)"
          ],
          [
           0.625,
           "rgb(78,179,211)"
          ],
          [
           0.75,
           "rgb(43,140,190)"
          ],
          [
           0.875,
           "rgb(8,104,172)"
          ],
          [
           1,
           "rgb(8,64,129)"
          ]
         ]
        },
        "height": 800,
        "hoverlabel": {
         "bgcolor": "white",
         "font": {
          "family": "Rockwell",
          "size": 16
         }
        },
        "legend": {
         "title": {
          "text": "Trend"
         }
        },
        "margin": {
         "t": 60
        },
        "showlegend": true,
        "template": {
         "data": {
          "bar": [
           {
            "error_x": {
             "color": "#2a3f5f"
            },
            "error_y": {
             "color": "#2a3f5f"
            },
            "marker": {
             "line": {
              "color": "#E5ECF6",
              "width": 0.5
             },
             "pattern": {
              "fillmode": "overlay",
              "size": 10,
              "solidity": 0.2
             }
            },
            "type": "bar"
           }
          ],
          "barpolar": [
           {
            "marker": {
             "line": {
              "color": "#E5ECF6",
              "width": 0.5
             },
             "pattern": {
              "fillmode": "overlay",
              "size": 10,
              "solidity": 0.2
             }
            },
            "type": "barpolar"
           }
          ],
          "carpet": [
           {
            "aaxis": {
             "endlinecolor": "#2a3f5f",
             "gridcolor": "white",
             "linecolor": "white",
             "minorgridcolor": "white",
             "startlinecolor": "#2a3f5f"
            },
            "baxis": {
             "endlinecolor": "#2a3f5f",
             "gridcolor": "white",
             "linecolor": "white",
             "minorgridcolor": "white",
             "startlinecolor": "#2a3f5f"
            },
            "type": "carpet"
           }
          ],
          "choropleth": [
           {
            "colorbar": {
             "outlinewidth": 0,
             "ticks": ""
            },
            "type": "choropleth"
           }
          ],
          "contour": [
           {
            "colorbar": {
             "outlinewidth": 0,
             "ticks": ""
            },
            "colorscale": [
             [
              0,
              "#0d0887"
             ],
             [
              0.1111111111111111,
              "#46039f"
             ],
             [
              0.2222222222222222,
              "#7201a8"
             ],
             [
              0.3333333333333333,
              "#9c179e"
             ],
             [
              0.4444444444444444,
              "#bd3786"
             ],
             [
              0.5555555555555556,
              "#d8576b"
             ],
             [
              0.6666666666666666,
              "#ed7953"
             ],
             [
              0.7777777777777778,
              "#fb9f3a"
             ],
             [
              0.8888888888888888,
              "#fdca26"
             ],
             [
              1,
              "#f0f921"
             ]
            ],
            "type": "contour"
           }
          ],
          "contourcarpet": [
           {
            "colorbar": {
             "outlinewidth": 0,
             "ticks": ""
            },
            "type": "contourcarpet"
           }
          ],
          "heatmap": [
           {
            "colorbar": {
             "outlinewidth": 0,
             "ticks": ""
            },
            "colorscale": [
             [
              0,
              "#0d0887"
             ],
             [
              0.1111111111111111,
              "#46039f"
             ],
             [
              0.2222222222222222,
              "#7201a8"
             ],
             [
              0.3333333333333333,
              "#9c179e"
             ],
             [
              0.4444444444444444,
              "#bd3786"
             ],
             [
              0.5555555555555556,
              "#d8576b"
             ],
             [
              0.6666666666666666,
              "#ed7953"
             ],
             [
              0.7777777777777778,
              "#fb9f3a"
             ],
             [
              0.8888888888888888,
              "#fdca26"
             ],
             [
              1,
              "#f0f921"
             ]
            ],
            "type": "heatmap"
           }
          ],
          "heatmapgl": [
           {
            "colorbar": {
             "outlinewidth": 0,
             "ticks": ""
            },
            "colorscale": [
             [
              0,
              "#0d0887"
             ],
             [
              0.1111111111111111,
              "#46039f"
             ],
             [
              0.2222222222222222,
              "#7201a8"
             ],
             [
              0.3333333333333333,
              "#9c179e"
             ],
             [
              0.4444444444444444,
              "#bd3786"
             ],
             [
              0.5555555555555556,
              "#d8576b"
             ],
             [
              0.6666666666666666,
              "#ed7953"
             ],
             [
              0.7777777777777778,
              "#fb9f3a"
             ],
             [
              0.8888888888888888,
              "#fdca26"
             ],
             [
              1,
              "#f0f921"
             ]
            ],
            "type": "heatmapgl"
           }
          ],
          "histogram": [
           {
            "marker": {
             "pattern": {
              "fillmode": "overlay",
              "size": 10,
              "solidity": 0.2
             }
            },
            "type": "histogram"
           }
          ],
          "histogram2d": [
           {
            "colorbar": {
             "outlinewidth": 0,
             "ticks": ""
            },
            "colorscale": [
             [
              0,
              "#0d0887"
             ],
             [
              0.1111111111111111,
              "#46039f"
             ],
             [
              0.2222222222222222,
              "#7201a8"
             ],
             [
              0.3333333333333333,
              "#9c179e"
             ],
             [
              0.4444444444444444,
              "#bd3786"
             ],
             [
              0.5555555555555556,
              "#d8576b"
             ],
             [
              0.6666666666666666,
              "#ed7953"
             ],
             [
              0.7777777777777778,
              "#fb9f3a"
             ],
             [
              0.8888888888888888,
              "#fdca26"
             ],
             [
              1,
              "#f0f921"
             ]
            ],
            "type": "histogram2d"
           }
          ],
          "histogram2dcontour": [
           {
            "colorbar": {
             "outlinewidth": 0,
             "ticks": ""
            },
            "colorscale": [
             [
              0,
              "#0d0887"
             ],
             [
              0.1111111111111111,
              "#46039f"
             ],
             [
              0.2222222222222222,
              "#7201a8"
             ],
             [
              0.3333333333333333,
              "#9c179e"
             ],
             [
              0.4444444444444444,
              "#bd3786"
             ],
             [
              0.5555555555555556,
              "#d8576b"
             ],
             [
              0.6666666666666666,
              "#ed7953"
             ],
             [
              0.7777777777777778,
              "#fb9f3a"
             ],
             [
              0.8888888888888888,
              "#fdca26"
             ],
             [
              1,
              "#f0f921"
             ]
            ],
            "type": "histogram2dcontour"
           }
          ],
          "mesh3d": [
           {
            "colorbar": {
             "outlinewidth": 0,
             "ticks": ""
            },
            "type": "mesh3d"
           }
          ],
          "parcoords": [
           {
            "line": {
             "colorbar": {
              "outlinewidth": 0,
              "ticks": ""
             }
            },
            "type": "parcoords"
           }
          ],
          "pie": [
           {
            "automargin": true,
            "type": "pie"
           }
          ],
          "scatter": [
           {
            "fillpattern": {
             "fillmode": "overlay",
             "size": 10,
             "solidity": 0.2
            },
            "type": "scatter"
           }
          ],
          "scatter3d": [
           {
            "line": {
             "colorbar": {
              "outlinewidth": 0,
              "ticks": ""
             }
            },
            "marker": {
             "colorbar": {
              "outlinewidth": 0,
              "ticks": ""
             }
            },
            "type": "scatter3d"
           }
          ],
          "scattercarpet": [
           {
            "marker": {
             "colorbar": {
              "outlinewidth": 0,
              "ticks": ""
             }
            },
            "type": "scattercarpet"
           }
          ],
          "scattergeo": [
           {
            "marker": {
             "colorbar": {
              "outlinewidth": 0,
              "ticks": ""
             }
            },
            "type": "scattergeo"
           }
          ],
          "scattergl": [
           {
            "marker": {
             "colorbar": {
              "outlinewidth": 0,
              "ticks": ""
             }
            },
            "type": "scattergl"
           }
          ],
          "scattermapbox": [
           {
            "marker": {
             "colorbar": {
              "outlinewidth": 0,
              "ticks": ""
             }
            },
            "type": "scattermapbox"
           }
          ],
          "scatterpolar": [
           {
            "marker": {
             "colorbar": {
              "outlinewidth": 0,
              "ticks": ""
             }
            },
            "type": "scatterpolar"
           }
          ],
          "scatterpolargl": [
           {
            "marker": {
             "colorbar": {
              "outlinewidth": 0,
              "ticks": ""
             }
            },
            "type": "scatterpolargl"
           }
          ],
          "scatterternary": [
           {
            "marker": {
             "colorbar": {
              "outlinewidth": 0,
              "ticks": ""
             }
            },
            "type": "scatterternary"
           }
          ],
          "surface": [
           {
            "colorbar": {
             "outlinewidth": 0,
             "ticks": ""
            },
            "colorscale": [
             [
              0,
              "#0d0887"
             ],
             [
              0.1111111111111111,
              "#46039f"
             ],
             [
              0.2222222222222222,
              "#7201a8"
             ],
             [
              0.3333333333333333,
              "#9c179e"
             ],
             [
              0.4444444444444444,
              "#bd3786"
             ],
             [
              0.5555555555555556,
              "#d8576b"
             ],
             [
              0.6666666666666666,
              "#ed7953"
             ],
             [
              0.7777777777777778,
              "#fb9f3a"
             ],
             [
              0.8888888888888888,
              "#fdca26"
             ],
             [
              1,
              "#f0f921"
             ]
            ],
            "type": "surface"
           }
          ],
          "table": [
           {
            "cells": {
             "fill": {
              "color": "#EBF0F8"
             },
             "line": {
              "color": "white"
             }
            },
            "header": {
             "fill": {
              "color": "#C8D4E3"
             },
             "line": {
              "color": "white"
             }
            },
            "type": "table"
           }
          ]
         },
         "layout": {
          "annotationdefaults": {
           "arrowcolor": "#2a3f5f",
           "arrowhead": 0,
           "arrowwidth": 1
          },
          "autotypenumbers": "strict",
          "coloraxis": {
           "colorbar": {
            "outlinewidth": 0,
            "ticks": ""
           }
          },
          "colorscale": {
           "diverging": [
            [
             0,
             "#8e0152"
            ],
            [
             0.1,
             "#c51b7d"
            ],
            [
             0.2,
             "#de77ae"
            ],
            [
             0.3,
             "#f1b6da"
            ],
            [
             0.4,
             "#fde0ef"
            ],
            [
             0.5,
             "#f7f7f7"
            ],
            [
             0.6,
             "#e6f5d0"
            ],
            [
             0.7,
             "#b8e186"
            ],
            [
             0.8,
             "#7fbc41"
            ],
            [
             0.9,
             "#4d9221"
            ],
            [
             1,
             "#276419"
            ]
           ],
           "sequential": [
            [
             0,
             "#0d0887"
            ],
            [
             0.1111111111111111,
             "#46039f"
            ],
            [
             0.2222222222222222,
             "#7201a8"
            ],
            [
             0.3333333333333333,
             "#9c179e"
            ],
            [
             0.4444444444444444,
             "#bd3786"
            ],
            [
             0.5555555555555556,
             "#d8576b"
            ],
            [
             0.6666666666666666,
             "#ed7953"
            ],
            [
             0.7777777777777778,
             "#fb9f3a"
            ],
            [
             0.8888888888888888,
             "#fdca26"
            ],
            [
             1,
             "#f0f921"
            ]
           ],
           "sequentialminus": [
            [
             0,
             "#0d0887"
            ],
            [
             0.1111111111111111,
             "#46039f"
            ],
            [
             0.2222222222222222,
             "#7201a8"
            ],
            [
             0.3333333333333333,
             "#9c179e"
            ],
            [
             0.4444444444444444,
             "#bd3786"
            ],
            [
             0.5555555555555556,
             "#d8576b"
            ],
            [
             0.6666666666666666,
             "#ed7953"
            ],
            [
             0.7777777777777778,
             "#fb9f3a"
            ],
            [
             0.8888888888888888,
             "#fdca26"
            ],
            [
             1,
             "#f0f921"
            ]
           ]
          },
          "colorway": [
           "#636efa",
           "#EF553B",
           "#00cc96",
           "#ab63fa",
           "#FFA15A",
           "#19d3f3",
           "#FF6692",
           "#B6E880",
           "#FF97FF",
           "#FECB52"
          ],
          "font": {
           "color": "#2a3f5f"
          },
          "geo": {
           "bgcolor": "white",
           "lakecolor": "white",
           "landcolor": "#E5ECF6",
           "showlakes": true,
           "showland": true,
           "subunitcolor": "white"
          },
          "hoverlabel": {
           "align": "left"
          },
          "hovermode": "closest",
          "mapbox": {
           "style": "light"
          },
          "paper_bgcolor": "white",
          "plot_bgcolor": "#E5ECF6",
          "polar": {
           "angularaxis": {
            "gridcolor": "white",
            "linecolor": "white",
            "ticks": ""
           },
           "bgcolor": "#E5ECF6",
           "radialaxis": {
            "gridcolor": "white",
            "linecolor": "white",
            "ticks": ""
           }
          },
          "scene": {
           "xaxis": {
            "backgroundcolor": "#E5ECF6",
            "gridcolor": "white",
            "gridwidth": 2,
            "linecolor": "white",
            "showbackground": true,
            "ticks": "",
            "zerolinecolor": "white"
           },
           "yaxis": {
            "backgroundcolor": "#E5ECF6",
            "gridcolor": "white",
            "gridwidth": 2,
            "linecolor": "white",
            "showbackground": true,
            "ticks": "",
            "zerolinecolor": "white"
           },
           "zaxis": {
            "backgroundcolor": "#E5ECF6",
            "gridcolor": "white",
            "gridwidth": 2,
            "linecolor": "white",
            "showbackground": true,
            "ticks": "",
            "zerolinecolor": "white"
           }
          },
          "shapedefaults": {
           "line": {
            "color": "#2a3f5f"
           }
          },
          "ternary": {
           "aaxis": {
            "gridcolor": "white",
            "linecolor": "white",
            "ticks": ""
           },
           "baxis": {
            "gridcolor": "white",
            "linecolor": "white",
            "ticks": ""
           },
           "bgcolor": "#E5ECF6",
           "caxis": {
            "gridcolor": "white",
            "linecolor": "white",
            "ticks": ""
           }
          },
          "title": {
           "x": 0.05
          },
          "xaxis": {
           "automargin": true,
           "gridcolor": "white",
           "linecolor": "white",
           "ticks": "",
           "title": {
            "standoff": 15
           },
           "zerolinecolor": "white",
           "zerolinewidth": 2
          },
          "yaxis": {
           "automargin": true,
           "gridcolor": "white",
           "linecolor": "white",
           "ticks": "",
           "title": {
            "standoff": 15
           },
           "zerolinecolor": "white",
           "zerolinewidth": 2
          }
         }
        },
        "title": {
         "font": {
          "color": "Black",
          "size": 22
         },
         "text": "<b>Similarity Matrix</b>",
         "x": 0.55,
         "xanchor": "center",
         "y": 0.95,
         "yanchor": "top"
        },
        "width": 800,
        "xaxis": {
         "anchor": "y",
         "constrain": "domain",
         "domain": [
          0,
          1
         ],
         "scaleanchor": "y"
        },
        "yaxis": {
         "anchor": "x",
         "autorange": "reversed",
         "constrain": "domain",
         "domain": [
          0,
          1
         ]
        }
       }
      }
     },
     "metadata": {},
     "output_type": "display_data"
    }
   ],
   "source": [
    "topic_model.visualize_heatmap(n_clusters=10)"
   ]
  },
  {
   "cell_type": "markdown",
   "metadata": {},
   "source": [
    "## Topics over time \n",
    "\n",
    "Make sure to use a limited number of unique timestamps (<100) as the c-TF-IDF representation will be calculated at each single unique timestamp. Having a large number of unique timestamps can take some time to be calculated. Moreover, there aren't many use-cased where you would like to see the difference in topic representations over more than 100 different timestamps."
   ]
  },
  {
   "cell_type": "code",
   "execution_count": 257,
   "metadata": {},
   "outputs": [
    {
     "name": "stderr",
     "output_type": "stream",
     "text": [
      "166it [00:01, 121.50it/s]\n"
     ]
    },
    {
     "data": {
      "application/vnd.plotly.v1+json": {
       "config": {
        "plotlyServerURL": "https://plot.ly"
       },
       "data": [
        {
         "hoverinfo": "text",
         "hovertext": [
          "<b>Topic 2</b><br>Words: brothers, brothers italy, italy, democratic party, democratic",
          "<b>Topic 2</b><br>Words: sorry, brothers, brothers italy, italy, italian",
          "<b>Topic 2</b><br>Words: happened say, say italian, happened, italian, say",
          "<b>Topic 2</b><br>Words: brothers, brothers italy, italy, italian, world",
          "<b>Topic 2</b><br>Words: discovered, mentioned, word, putin, unfortunately",
          "<b>Topic 2</b><br>Words: brothers, brothers italy, facts, italy, 2021",
          "<b>Topic 2</b><br>Words: issue parliament, lamorgese, minister, issue, yesterday",
          "<b>Topic 2</b><br>Words: conservative, giorgia meloni, giorgia, brothers, okay",
          "<b>Topic 2</b><br>Words: dark, dark shirt, shirt, tribute, black",
          "<b>Topic 2</b><br>Words: live italy, long live, live, brothers, long",
          "<b>Topic 2</b><br>Words: brothers, govern, brothers italy, party, illiberal",
          "<b>Topic 2</b><br>Words: brothers, brothers italy, italy continues, continues, grow",
          "<b>Topic 2</b><br>Words: italy continues, continues, course, giorgia, brothers",
          "<b>Topic 2</b><br>Words: centre, centre right, won, brothers, brother",
          "<b>Topic 2</b><br>Words: ius, hold, soli, ius soli, italian left",
          "<b>Topic 2</b><br>Words: blocked, france, just, italy, brothers",
          "<b>Topic 2</b><br>Words: alive, brothers, italy, brothers italy, italian",
          "<b>Topic 2</b><br>Words: cultural hegemony, italy cultural, left italy, hegemony, cultural",
          "<b>Topic 2</b><br>Words: brothers, brothers italy, elections, program, political",
          "<b>Topic 2</b><br>Words: brothers, brothers italy, italy, parts, western",
          "<b>Topic 2</b><br>Words: italy political, voted, legislature, remains, brothers",
          "<b>Topic 2</b><br>Words: revolution, relations, businesses, brothers, brothers italy",
          "<b>Topic 2</b><br>Words: work hard, italy worked, deserves, agriculture, hard",
          "<b>Topic 2</b><br>Words: island, draw, managed, small, world",
          "<b>Topic 2</b><br>Words: security, legality fight, right wing, fight degradation, brothers",
          "<b>Topic 2</b><br>Words: perspective, radical, account, introduction, proposed",
          "<b>Topic 2</b><br>Words: brothers, brothers italy, employed workers, management, intended",
          "<b>Topic 2</b><br>Words: giorgio, black, guys, daughter, making",
          "<b>Topic 2</b><br>Words: grew, prime ministers, germany, prime, ministers",
          "<b>Topic 2</b><br>Words: italian foreign, foreign minister, attempt, lost, goes",
          "<b>Topic 2</b><br>Words: immediately, suffer, home, thrown, italian brothers",
          "<b>Topic 2</b><br>Words: lift, palace, fifth september, living rooms, rooms",
          "<b>Topic 2</b><br>Words: brothers, water, brothers italy, par, environmental",
          "<b>Topic 2</b><br>Words: chico, brothers, brothers italy, italy, italy continue",
          "<b>Topic 2</b><br>Words: italian brothers, govern, ones, don want, brothers",
          "<b>Topic 2</b><br>Words: national team, team, national, dedicated, world",
          "<b>Topic 2</b><br>Words: italian, let, brothers, brothers italy, italy",
          "<b>Topic 2</b><br>Words: brothers, brothers italy, arrived, joint, behavior",
          "<b>Topic 2</b><br>Words: say brothers, explains, italy want, attack, brothers",
          "<b>Topic 2</b><br>Words: past, brothers, brothers italy, italy, italian",
          "<b>Topic 2</b><br>Words: symbol, cards, brothers, brothers italy, italy mean",
          "<b>Topic 2</b><br>Words: fantastic, window, taught, explain, making",
          "<b>Topic 2</b><br>Words: brothers, symbol, brothers italy, voted, italy",
          "<b>Topic 2</b><br>Words: sunday seven, sunday, september, fifth, symbol",
          "<b>Topic 2</b><br>Words: live italy, italy italy, long live, italy, ready",
          "<b>Topic 2</b><br>Words: given, great objective, italians, flag, ensure",
          "<b>Topic 2</b><br>Words: president european, met, president, european, von",
          "<b>Topic 2</b><br>Words: respect, laws italian, organize, laws, italian state",
          "<b>Topic 2</b><br>Words: cash limit, borders, limit, cash, italy",
          "<b>Topic 2</b><br>Words: car, looks, noticed, francesco, city",
          "<b>Topic 2</b><br>Words: saturday, piazza, celebrated, marks, foundation",
          "<b>Topic 2</b><br>Words: enter, enter italy, legally, illegally, italy",
          "<b>Topic 2</b><br>Words: know looking, matteo, guys, count, words",
          "<b>Topic 2</b><br>Words: italy say, say thank, thank, italy, say",
          "<b>Topic 2</b><br>Words: petrol italy, half euros, respectable, television, price petrol",
          "<b>Topic 2</b><br>Words: price, lower price, rises, uses, italy program",
          "<b>Topic 2</b><br>Words: organized crime, occupied, organized, crime, sixteen",
          "<b>Topic 2</b><br>Words: proud, believe italians, proud italy, italians proud, italians",
          "<b>Topic 2</b><br>Words: migratory, central mediterranean, europe italy, central, mediterranean",
          "<b>Topic 2</b><br>Words: leader, protagonist, yes italy, yes, italy",
          "<b>Topic 2</b><br>Words: january, italy, months, obviously italy, previous year",
          "<b>Topic 2</b><br>Words: world, wine, minister, minister san, giuliano",
          "<b>Topic 2</b><br>Words: studying, italian, know, brothers, brothers italy",
          "<b>Topic 2</b><br>Words: superbonus, thinking, example, brothers, brothers italy",
          "<b>Topic 2</b><br>Words: history, italian people, protagonists, italy want, results",
          "<b>Topic 2</b><br>Words: express condolences, japan, condolences, caused, giorgio",
          "<b>Topic 2</b><br>Words: lend hand, lend, guys, came, best",
          "<b>Topic 2</b><br>Words: world, silvio, influential, silvio berlusconi, berlusconi",
          "<b>Topic 2</b><br>Words: stop, right, brothers, brothers italy, italy",
          "<b>Topic 2</b><br>Words: instrumentally, predict, centre right, centre, led",
          "<b>Topic 2</b><br>Words: post office, million euros, post, invested, help families",
          "<b>Topic 2</b><br>Words: looked, attention, happy want, important role, great",
          "<b>Topic 2</b><br>Words: hires expected, half million, july, new hires, estimate",
          "<b>Topic 2</b><br>Words: expectations, live, brothers, brothers italy, italians",
          "<b>Topic 2</b><br>Words: authoritative, mario draghi, mario, draghi, mean"
         ],
         "marker": {
          "color": "#E69F00"
         },
         "mode": "lines",
         "name": "2_brothers_brothers italy_italy_italian",
         "type": "scatter",
         "x": [
          "2022-02-11T14:53:48",
          "2022-02-20T17:31:35",
          "2022-02-23T13:18:25",
          "2022-03-02T12:15:45",
          "2022-03-12T08:40:33",
          "2022-03-22T19:50:37",
          "2022-03-31T13:27:11",
          "2022-04-29T19:27:55",
          "2022-05-01T15:59:33",
          "2022-05-01T18:13:49",
          "2022-05-06T17:00:19",
          "2022-06-14T13:13:52",
          "2022-06-16T07:45:05",
          "2022-06-27T09:06:31",
          "2022-07-01T15:02:08",
          "2022-07-21T13:22:30",
          "2022-07-22T13:00:43",
          "2022-08-05T09:27:55",
          "2022-08-05T16:28:13",
          "2022-08-11T09:08:55",
          "2022-08-17T07:37:47",
          "2022-08-18T08:25:07",
          "2022-08-20T08:08:08",
          "2022-08-21T07:24:39",
          "2022-08-24T08:54:47",
          "2022-08-26T09:42:38",
          "2022-08-27T05:31:16",
          "2022-08-27T07:48:11",
          "2022-08-27T08:25:40",
          "2022-08-28T13:15:50",
          "2022-08-29T08:53:05",
          "2022-08-29T18:04:45",
          "2022-08-30T08:04:28",
          "2022-09-01T07:19:51",
          "2022-09-09T07:51:31",
          "2022-09-11T22:54:29",
          "2022-09-16T16:59:27",
          "2022-09-17T13:22:40",
          "2022-09-19T07:16:10",
          "2022-09-20T07:30:09",
          "2022-09-20T12:18:42",
          "2022-09-21T14:40:56",
          "2022-09-23T10:52:45",
          "2022-09-23T18:23:22",
          "2022-09-23T21:32:32",
          "2022-09-27T14:42:21",
          "2022-11-03T20:58:11",
          "2022-11-06T09:54:18",
          "2022-12-05T10:17:50",
          "2022-12-09T14:55:44",
          "2022-12-14T14:27:54",
          "2022-12-14T16:55:46",
          "2022-12-23T11:40:32",
          "2022-12-23T15:53:10",
          "2023-01-11T21:45:57",
          "2023-01-12T21:15:08",
          "2023-02-20T15:33:02",
          "2023-02-27T20:12:23",
          "2023-03-15T18:22:50",
          "2023-03-15T20:54:21",
          "2023-03-31T17:38:24",
          "2023-04-03T18:17:10",
          "2023-04-15T20:13:16",
          "2023-05-01T13:52:39",
          "2023-05-12T18:34:35",
          "2023-05-18T11:17:32",
          "2023-05-21T20:01:47",
          "2023-06-12T10:09:33",
          "2023-06-26T17:49:06",
          "2023-06-29T10:16:43",
          "2023-07-11T09:27:53",
          "2023-07-29T10:40:04",
          "2023-08-09T20:02:33",
          "2023-09-12T16:05:41",
          "2023-09-13T18:57:03"
         ],
         "y": [
          5,
          1,
          1,
          1,
          2,
          3,
          1,
          1,
          2,
          2,
          6,
          3,
          3,
          2,
          2,
          1,
          1,
          1,
          4,
          1,
          1,
          1,
          1,
          1,
          1,
          1,
          2,
          3,
          2,
          2,
          1,
          1,
          2,
          4,
          1,
          8,
          1,
          2,
          2,
          1,
          3,
          2,
          3,
          1,
          3,
          2,
          3,
          1,
          1,
          3,
          2,
          1,
          6,
          1,
          1,
          1,
          1,
          1,
          1,
          1,
          1,
          2,
          1,
          1,
          2,
          1,
          1,
          2,
          3,
          1,
          1,
          2,
          1,
          1,
          1
         ]
        },
        {
         "hoverinfo": "text",
         "hovertext": [
          "<b>Topic 4</b><br>Words: immigrants, rome, thousands, illegal, want",
          "<b>Topic 4</b><br>Words: fleeing, faced, community, respectful, say years",
          "<b>Topic 4</b><br>Words: chinese model, virus, china, chinese, model",
          "<b>Topic 4</b><br>Words: emergency, existed, instead, immigration, dealers",
          "<b>Topic 4</b><br>Words: barricades, concessions, sea, public, immigration",
          "<b>Topic 4</b><br>Words: dangerous, dangerous person, free world, certain point, decides",
          "<b>Topic 4</b><br>Words: homes, fight, eighty, thousand, family",
          "<b>Topic 4</b><br>Words: citizenship income, citizenship, don afraid, say people, income",
          "<b>Topic 4</b><br>Words: regulatory changes, respectively, businesses citizens, regulatory, frequent",
          "<b>Topic 4</b><br>Words: income, citizen income, citizen, committee, helped",
          "<b>Topic 4</b><br>Words: heard, rule, tosi, demonstrations, look agree",
          "<b>Topic 4</b><br>Words: thirty years, years old, recipients, hire, old",
          "<b>Topic 4</b><br>Words: immigrants, immigration, decree, jobs, mean",
          "<b>Topic 4</b><br>Words: intend modify, people culture, confirm, modify, taking",
          "<b>Topic 4</b><br>Words: want fight, fight, immigration, trafficking, human",
          "<b>Topic 4</b><br>Words: happen, national borders, borders, national, immigration",
          "<b>Topic 4</b><br>Words: international law, international, law, authorization, forth",
          "<b>Topic 4</b><br>Words: traffickers, support ukraine, human traffickers, meetings, begun",
          "<b>Topic 4</b><br>Words: topic, issue, past, migration, conclusions",
          "<b>Topic 4</b><br>Words: european, approach migration, needs european, view changes, migration",
          "<b>Topic 4</b><br>Words: transferable, currently, wants, longer, immigration",
          "<b>Topic 4</b><br>Words: criminal, public, public housing, occupied, housing",
          "<b>Topic 4</b><br>Words: people risk, risk dying, ngos, route, demonstrates",
          "<b>Topic 4</b><br>Words: people risk, risk dying, ngos, route, demonstrates",
          "<b>Topic 4</b><br>Words: governmental organizations, non governmental, governmental, organizations, save",
          "<b>Topic 4</b><br>Words: trafficking, provides, crime, traffickers, death",
          "<b>Topic 4</b><br>Words: immigration, concerns, protection, relationship, right",
          "<b>Topic 4</b><br>Words: moved, speranza, experiencing, immediate answers, tragedy",
          "<b>Topic 4</b><br>Words: depth, suffer, stories, violence, persecution",
          "<b>Topic 4</b><br>Words: regards, migration, certainly, case, immigration",
          "<b>Topic 4</b><br>Words: citizenship income, citizenship, hires expected, campania, lot controversy",
          "<b>Topic 4</b><br>Words: migration, united, references, states european, development migration",
          "<b>Topic 4</b><br>Words: blanket, secondary, facing, want tell, bit like"
         ],
         "marker": {
          "color": "#56B4E9"
         },
         "mode": "lines",
         "name": "4_immigration_people_international law_t...",
         "type": "scatter",
         "x": [
          "2022-02-20T17:31:35",
          "2022-03-02T08:21:13",
          "2022-03-11T08:13:53",
          "2022-03-31T13:27:11",
          "2022-05-06T17:00:19",
          "2022-06-16T07:45:05",
          "2022-08-28T08:41:23",
          "2022-09-01T11:00:10",
          "2022-09-17T13:22:40",
          "2022-09-19T07:16:10",
          "2022-11-06T09:54:18",
          "2022-11-22T20:52:09",
          "2022-12-06T12:12:07",
          "2022-12-12T17:40:37",
          "2022-12-14T16:55:46",
          "2022-12-23T11:40:32",
          "2023-01-03T08:30:45",
          "2023-01-31T20:04:40",
          "2023-02-09T10:44:06",
          "2023-02-10T16:55:28",
          "2023-02-19T18:32:15",
          "2023-02-20T15:33:02",
          "2023-02-27T20:12:23",
          "2023-02-28T17:17:52",
          "2023-03-04T19:29:39",
          "2023-03-09T19:13:12",
          "2023-03-15T18:22:50",
          "2023-05-21T20:01:47",
          "2023-06-22T13:26:10",
          "2023-07-23T14:28:34",
          "2023-08-09T20:02:33",
          "2023-09-11T09:02:24",
          "2023-09-13T18:57:03"
         ],
         "y": [
          1,
          4,
          1,
          3,
          1,
          1,
          3,
          1,
          1,
          2,
          4,
          1,
          1,
          1,
          5,
          1,
          8,
          1,
          2,
          2,
          1,
          3,
          1,
          1,
          2,
          6,
          4,
          2,
          1,
          1,
          3,
          1,
          2
         ]
        },
        {
         "hoverinfo": "text",
         "hovertext": [
          "<b>Topic 5</b><br>Words: giuseppe, conte, networks, saturday, arrives",
          "<b>Topic 5</b><br>Words: freedom, free, right, rights, liberal",
          "<b>Topic 5</b><br>Words: right, liberal, country, distance, europeanism",
          "<b>Topic 5</b><br>Words: poverty exactly, freedom, depend, build, poverty",
          "<b>Topic 5</b><br>Words: earth, freedom, free, right, rights",
          "<b>Topic 5</b><br>Words: freedom, matter, new, free, right",
          "<b>Topic 5</b><br>Words: freedom, guaranteed, favor, safety, safety citizens",
          "<b>Topic 5</b><br>Words: express solidarity, justice, victim, express, video",
          "<b>Topic 5</b><br>Words: cost, does, freedom, free, right",
          "<b>Topic 5</b><br>Words: taken, longer, freedom, free, right",
          "<b>Topic 5</b><br>Words: rights, away, right, don want, away rights",
          "<b>Topic 5</b><br>Words: disabled, think, freedom, free, right",
          "<b>Topic 5</b><br>Words: social, era, freedom, mass, expression thought",
          "<b>Topic 5</b><br>Words: restore, freedom, greatness, sunday seven, freedom nation",
          "<b>Topic 5</b><br>Words: loyally, exercise, faithful, laws, mandate",
          "<b>Topic 5</b><br>Words: free, person, consist, freedom, exactly",
          "<b>Topic 5</b><br>Words: freedom, value, democracies, regimes, celebrating",
          "<b>Topic 5</b><br>Words: liberation, freedom, free, right, rights",
          "<b>Topic 5</b><br>Words: freedom, free, right, rights, liberal",
          "<b>Topic 5</b><br>Words: free, extent, choice, love, choice choice",
          "<b>Topic 5</b><br>Words: future, freedom, free, right, rights",
          "<b>Topic 5</b><br>Words: different, freedom, free, right, rights",
          "<b>Topic 5</b><br>Words: free, repeat, isn, risk, tell",
          "<b>Topic 5</b><br>Words: freedom, knowledge, fun, know make, studying",
          "<b>Topic 5</b><br>Words: article constitution, article, constitution, freedom, free",
          "<b>Topic 5</b><br>Words: child, does prevent, rediscover, beauty, parents",
          "<b>Topic 5</b><br>Words: love, country, freedom, free, right",
          "<b>Topic 5</b><br>Words: reliable, presentable, achieved, governing, perfectly",
          "<b>Topic 5</b><br>Words: beliefs, man, afraid, defend, freedom",
          "<b>Topic 5</b><br>Words: don know, know, don, freedom, democracy",
          "<b>Topic 5</b><br>Words: remember, freedom, free, right, rights",
          "<b>Topic 5</b><br>Words: freedom, religious, forgotten, freedoms, remaining",
          "<b>Topic 5</b><br>Words: seek, does mean, allowed, mean, respect",
          "<b>Topic 5</b><br>Words: meaning, freedom, free, right, rights"
         ],
         "marker": {
          "color": "#009E73"
         },
         "mode": "lines",
         "name": "5_freedom_free_right_rights",
         "type": "scatter",
         "x": [
          "2022-04-30T07:15:20",
          "2022-05-01T18:13:49",
          "2022-05-06T17:00:19",
          "2022-06-11T08:15:36",
          "2022-06-27T09:06:31",
          "2022-08-11T09:08:55",
          "2022-08-16T07:11:20",
          "2022-08-22T13:32:55",
          "2022-08-26T09:42:38",
          "2022-08-29T08:53:05",
          "2022-09-16T16:59:27",
          "2022-09-19T07:16:10",
          "2022-09-20T07:30:09",
          "2022-09-23T21:32:32",
          "2022-10-22T08:24:39",
          "2022-10-25T12:22:57",
          "2022-11-09T12:40:31",
          "2022-12-09T14:55:44",
          "2022-12-23T11:40:32",
          "2022-12-23T15:53:10",
          "2022-12-30T09:52:49",
          "2023-01-03T08:30:45",
          "2023-02-19T18:32:15",
          "2023-04-15T20:13:16",
          "2023-05-10T08:18:03",
          "2023-05-12T18:34:35",
          "2023-05-15T06:23:25",
          "2023-06-06T17:59:21",
          "2023-06-12T10:09:33",
          "2023-06-12T16:23:48",
          "2023-06-21T05:49:53",
          "2023-06-22T13:26:10",
          "2023-06-26T17:49:06",
          "2023-09-13T18:57:03"
         ],
         "y": [
          1,
          1,
          4,
          1,
          1,
          1,
          1,
          1,
          1,
          1,
          5,
          1,
          2,
          3,
          1,
          2,
          8,
          1,
          1,
          7,
          1,
          1,
          2,
          3,
          1,
          1,
          1,
          1,
          1,
          1,
          1,
          3,
          3,
          1
         ]
        },
        {
         "hoverinfo": "text",
         "hovertext": [
          "<b>Topic 7</b><br>Words: provide assistance, assistance, provide, nations, resources",
          "<b>Topic 7</b><br>Words: used, active policies, right said, active, companies hire",
          "<b>Topic 7</b><br>Words: promoting, farmers, supply chain, chain, agricultural",
          "<b>Topic 7</b><br>Words: tens, tens billions, useless, thrown, billions",
          "<b>Topic 7</b><br>Words: campaigns, animals, carried, information, schools",
          "<b>Topic 7</b><br>Words: single market, reduce bills, intervene immediately, allocate resources, allocate",
          "<b>Topic 7</b><br>Words: implemented, centers, date, carried, exist",
          "<b>Topic 7</b><br>Words: training period, economic support, hardship, support training, huge",
          "<b>Topic 7</b><br>Words: individuals, economic activities, solidarity fund, usury, activities",
          "<b>Topic 7</b><br>Words: resources, shortest, time possible, ground, increase costs",
          "<b>Topic 7</b><br>Words: resources, elements, overcome, extra profits, raised",
          "<b>Topic 7</b><br>Words: better defined, contents, defined, resources, better",
          "<b>Topic 7</b><br>Words: entire supply, chain, supply chain, supply, entire",
          "<b>Topic 7</b><br>Words: chains, supply chains, competitiveness, supply, strength",
          "<b>Topic 7</b><br>Words: track, sensible, save, companies, save companies",
          "<b>Topic 7</b><br>Words: autonomous, medical, work recent, chapter, regions",
          "<b>Topic 7</b><br>Words: entire supply, supply chain, chain, organizing, supply",
          "<b>Topic 7</b><br>Words: reason don, strategy, industrial, reason, policy",
          "<b>Topic 7</b><br>Words: resources, cases, spend, things, mobilized",
          "<b>Topic 7</b><br>Words: euros allocated, setting, million euros, families difficulty, help families",
          "<b>Topic 7</b><br>Words: initiatives, projects, organizations, development, resources",
          "<b>Topic 7</b><br>Words: government set, disposal, government means, medium term, support work",
          "<b>Topic 7</b><br>Words: resources, cost money, mortgage, topic, face",
          "<b>Topic 7</b><br>Words: maritime, major, release, project, india"
         ],
         "marker": {
          "color": "#F0E442"
         },
         "mode": "lines",
         "name": "7_resources_supply_initiatives_fund",
         "type": "scatter",
         "x": [
          "2022-03-02T08:21:13",
          "2022-08-17T07:37:47",
          "2022-08-20T08:08:08",
          "2022-08-26T09:42:38",
          "2022-08-28T08:41:23",
          "2022-09-08T10:35:19",
          "2022-09-11T08:07:25",
          "2022-09-19T07:16:10",
          "2022-09-21T08:56:37",
          "2022-11-03T20:58:11",
          "2022-11-22T20:52:09",
          "2022-12-12T17:40:37",
          "2023-01-12T21:15:08",
          "2023-02-09T10:44:06",
          "2023-02-19T18:32:15",
          "2023-03-31T18:56:58",
          "2023-04-27T19:59:27",
          "2023-05-10T08:18:03",
          "2023-05-21T20:01:47",
          "2023-07-11T09:27:53",
          "2023-07-23T14:28:34",
          "2023-07-26T14:27:42",
          "2023-08-10T09:22:06",
          "2023-09-11T09:02:24"
         ],
         "y": [
          1,
          1,
          1,
          1,
          1,
          4,
          1,
          2,
          1,
          2,
          2,
          1,
          1,
          3,
          1,
          2,
          1,
          1,
          13,
          2,
          2,
          2,
          3,
          1
         ]
        },
        {
         "hoverinfo": "text",
         "hovertext": [
          "<b>Topic 9</b><br>Words: midst, raw materials, raw, materials, sees",
          "<b>Topic 9</b><br>Words: dark, dark shirt, shirt, listen, true",
          "<b>Topic 9</b><br>Words: electricity, inflation, bills, gas bills, explosive",
          "<b>Topic 9</b><br>Words: low, bills, inflation, bank, increase",
          "<b>Topic 9</b><br>Words: filling, bills, inflation, bank, increase",
          "<b>Topic 9</b><br>Words: richer poorer, poorer, richer, years old, boy",
          "<b>Topic 9</b><br>Words: bills, energy, price energy, produced, gas",
          "<b>Topic 9</b><br>Words: poorly, operating, changed, initial, correct",
          "<b>Topic 9</b><br>Words: thousand thousand, thousand, billion euros, spent, period",
          "<b>Topic 9</b><br>Words: bills, economic, economic situation, energy bills, economic activities",
          "<b>Topic 9</b><br>Words: thousand euros, bills, euros, isee, thousand",
          "<b>Topic 9</b><br>Words: cash, cash limit, limit, european market, countries",
          "<b>Topic 9</b><br>Words: knows, owes, worth, bills, inflation",
          "<b>Topic 9</b><br>Words: inflation, help, shopping, innovative, mind",
          "<b>Topic 9</b><br>Words: hand, spend, bubble, parallel, generated",
          "<b>Topic 9</b><br>Words: inflation, time, bills, bank, increase",
          "<b>Topic 9</b><br>Words: bank, mortgages, increase, deposit bank, deposit",
          "<b>Topic 9</b><br>Words: office, pay, family, did, year"
         ],
         "marker": {
          "color": "#D55E00"
         },
         "mode": "lines",
         "name": "9_bills_inflation_bank_increase",
         "type": "scatter",
         "x": [
          "2022-03-11T08:13:53",
          "2022-05-01T15:59:33",
          "2022-08-17T13:04:55",
          "2022-08-26T09:42:38",
          "2022-08-27T07:48:11",
          "2022-09-01T11:00:10",
          "2022-09-08T10:35:19",
          "2022-09-17T13:22:40",
          "2022-09-19T07:16:10",
          "2022-09-21T08:56:37",
          "2022-11-22T20:52:09",
          "2022-12-05T10:17:50",
          "2022-12-23T15:53:10",
          "2023-01-12T21:15:08",
          "2023-02-19T18:32:15",
          "2023-05-01T13:52:39",
          "2023-08-10T09:22:06",
          "2023-09-03T07:28:10"
         ],
         "y": [
          1,
          1,
          3,
          1,
          1,
          1,
          5,
          1,
          2,
          2,
          4,
          3,
          2,
          1,
          8,
          1,
          5,
          1
         ]
        },
        {
         "hoverinfo": "text",
         "hovertext": [
          "<b>Topic 13</b><br>Words: mainstream, eastern, european commission, commission, countries",
          "<b>Topic 13</b><br>Words: written document, asks, partly, document, true",
          "<b>Topic 13</b><br>Words: absurd, face great, suddenly, challenges time, useless",
          "<b>Topic 13</b><br>Words: convinced, choice, european, atlantic, equally",
          "<b>Topic 13</b><br>Words: europeanism, convenient, months ago, presentable, didn want",
          "<b>Topic 13</b><br>Words: eu citizens, easier, non eu, usually, eu",
          "<b>Topic 13</b><br>Words: european, european level, europe, level, mediterranean",
          "<b>Topic 13</b><br>Words: awareness, european council, imagine, council, matter",
          "<b>Topic 13</b><br>Words: european council, council, european, approach, seen recent",
          "<b>Topic 13</b><br>Words: deal matter, need europe, departures, quickly, humanity",
          "<b>Topic 13</b><br>Words: european, european council, council, departures, need europe",
          "<b>Topic 13</b><br>Words: letter european, european, responded, council european, letter",
          "<b>Topic 13</b><br>Words: issue european, central mediterranean, impetus, route, central",
          "<b>Topic 13</b><br>Words: spirit, intend follow, european level, firmly, path",
          "<b>Topic 13</b><br>Words: def, april, presenting, feel, commitments",
          "<b>Topic 13</b><br>Words: european union, union, european, europe, security",
          "<b>Topic 13</b><br>Words: criteria, indispensable, reiterated, transition, europe",
          "<b>Topic 13</b><br>Words: say great, partners, european commission, commission, worked",
          "<b>Topic 13</b><br>Words: giving, rest world, lessons, attentive, rest",
          "<b>Topic 13</b><br>Words: states european, united states, united, european union, union",
          "<b>Topic 13</b><br>Words: able unthinkable, unthinkable, possible, europe, able",
          "<b>Topic 13</b><br>Words: movements, hand defending, primary movements, external borders, lend hand"
         ],
         "marker": {
          "color": "#0072B2"
         },
         "mode": "lines",
         "name": "13_european_europe_european council_coun...",
         "type": "scatter",
         "x": [
          "2022-03-02T08:21:13",
          "2022-03-13T10:51:43",
          "2022-03-29T13:21:15",
          "2022-04-30T14:00:56",
          "2022-09-08T10:35:19",
          "2022-12-05T10:17:50",
          "2022-12-14T16:55:46",
          "2023-02-09T10:44:06",
          "2023-02-10T16:55:28",
          "2023-02-27T20:12:23",
          "2023-02-28T17:17:52",
          "2023-03-04T19:29:39",
          "2023-03-15T18:22:50",
          "2023-03-15T20:54:21",
          "2023-04-27T19:59:27",
          "2023-06-01T14:30:32",
          "2023-07-03T19:14:52",
          "2023-07-18T13:11:16",
          "2023-07-23T14:28:34",
          "2023-07-29T10:40:04",
          "2023-09-12T16:05:41",
          "2023-09-13T18:57:03"
         ],
         "y": [
          1,
          1,
          1,
          2,
          2,
          1,
          6,
          1,
          2,
          1,
          2,
          1,
          1,
          1,
          1,
          1,
          1,
          1,
          1,
          1,
          1,
          1
         ]
        },
        {
         "hoverinfo": "text",
         "hovertext": [
          "<b>Topic 15</b><br>Words: book, look ll, written book, deliberately, sentence",
          "<b>Topic 15</b><br>Words: repression, code, dissent, news, tell",
          "<b>Topic 15</b><br>Words: anymore, murderous propaganda, murderous, lumped, broadcast",
          "<b>Topic 15</b><br>Words: social media, reconstructions, media, leaders, social",
          "<b>Topic 15</b><br>Words: ago, year ago, earned, hired, years ago",
          "<b>Topic 15</b><br>Words: press, foreign, opposition government, interview, badly",
          "<b>Topic 15</b><br>Words: news, need, opponents, don need, making",
          "<b>Topic 15</b><br>Words: lies, lie, internet, right don, parts",
          "<b>Topic 15</b><br>Words: say things, aren, point say, convinced, true",
          "<b>Topic 15</b><br>Words: attack, making, politics, objective, topic",
          "<b>Topic 15</b><br>Words: race, platform, speculation, day, president",
          "<b>Topic 15</b><br>Words: falsehoods, shipwrecked, government measures, measures non, governmental organizations",
          "<b>Topic 15</b><br>Words: falsehoods, shipwrecked, government measures, measures non, governmental organizations",
          "<b>Topic 15</b><br>Words: tell story, conscience, reconstructions, story, frankly",
          "<b>Topic 15</b><br>Words: tell, tell story, good news, story, prejudice",
          "<b>Topic 15</b><br>Words: paradoxically, believe, say, news, tell",
          "<b>Topic 15</b><br>Words: judiciary, mobilized, attacks, police, working",
          "<b>Topic 15</b><br>Words: international, night, washington, world, american",
          "<b>Topic 15</b><br>Words: white house, white, usually, truth, house",
          "<b>Topic 15</b><br>Words: coverage, provide, news, tell, anymore"
         ],
         "marker": {
          "color": "#CC79A7"
         },
         "mode": "lines",
         "name": "15_news_tell_anymore_making",
         "type": "scatter",
         "x": [
          "2022-03-12T08:40:33",
          "2022-04-30T07:15:20",
          "2022-06-16T07:45:05",
          "2022-08-05T16:28:13",
          "2022-08-17T13:04:55",
          "2022-08-28T13:15:50",
          "2022-09-11T08:07:25",
          "2022-09-23T10:52:45",
          "2023-01-12T21:15:08",
          "2023-01-17T19:44:01",
          "2023-02-09T10:44:06",
          "2023-02-27T20:12:23",
          "2023-02-28T17:17:52",
          "2023-03-04T19:29:39",
          "2023-03-07T14:49:45",
          "2023-04-27T19:59:27",
          "2023-07-26T14:27:42",
          "2023-07-27T22:44:53",
          "2023-07-30T16:24:12",
          "2023-08-12T06:05:11"
         ],
         "y": [
          2,
          1,
          3,
          1,
          1,
          1,
          2,
          1,
          1,
          2,
          1,
          2,
          1,
          2,
          1,
          1,
          1,
          1,
          2,
          1
         ]
        },
        {
         "hoverinfo": "text",
         "hovertext": [
          "<b>Topic 16</b><br>Words: want home, expand, want expand, want, home",
          "<b>Topic 16</b><br>Words: purpose, green pass, green, pass, need",
          "<b>Topic 16</b><br>Words: covid contagion, ventilation, mechanical, mechanical ventilation, controlled",
          "<b>Topic 16</b><br>Words: climate, lands, food safety, fundamental tool, heritage",
          "<b>Topic 16</b><br>Words: plants, infrastructure, water, extraordinary, essence",
          "<b>Topic 16</b><br>Words: sources, bureaucracy, path, energy, time",
          "<b>Topic 16</b><br>Words: building, bonus measure, stock, transition, created",
          "<b>Topic 16</b><br>Words: transition, water, climate, problem, green",
          "<b>Topic 16</b><br>Words: events, areas, climate, million allocated, roads",
          "<b>Topic 16</b><br>Words: electric, think problem, just, problem, transition",
          "<b>Topic 16</b><br>Words: years italy, waste, capacity, moving, victim",
          "<b>Topic 16</b><br>Words: worsen, weather, expected, conditions, hours",
          "<b>Topic 16</b><br>Words: weather, um situation, optimize, bad weather, needed hours",
          "<b>Topic 16</b><br>Words: transition, hand, hand hand, environmental, dismantle",
          "<b>Topic 16</b><br>Words: summer, eh, little, know, transition"
         ],
         "marker": {
          "color": "#E69F00"
         },
         "mode": "lines",
         "name": "16_transition_water_climate_problem",
         "type": "scatter",
         "x": [
          "2022-02-11T14:53:48",
          "2022-03-11T08:13:53",
          "2022-03-22T19:50:37",
          "2022-08-20T08:08:08",
          "2022-08-30T08:04:28",
          "2022-09-08T10:35:19",
          "2022-09-17T13:22:40",
          "2022-12-23T15:53:10",
          "2023-01-31T20:04:40",
          "2023-03-15T20:54:21",
          "2023-04-06T19:05:32",
          "2023-05-17T10:11:27",
          "2023-05-21T20:01:47",
          "2023-07-03T19:14:52",
          "2023-08-12T06:05:11"
         ],
         "y": [
          1,
          1,
          1,
          2,
          4,
          1,
          1,
          1,
          1,
          4,
          2,
          1,
          2,
          3,
          1
         ]
        },
        {
         "hoverinfo": "text",
         "hovertext": [
          "<b>Topic 20</b><br>Words: birth children, young couples, birth, couples, idea",
          "<b>Topic 20</b><br>Words: woman, women, mothers, apply, self",
          "<b>Topic 20</b><br>Words: alternative, apply, ninety, woman, law",
          "<b>Topic 20</b><br>Words: criteria, possibility, alternative, woman, apply",
          "<b>Topic 20</b><br>Words: let add, baby, let, add, mothers",
          "<b>Topic 20</b><br>Words: offend, baby, born, asking, does",
          "<b>Topic 20</b><br>Words: mother, alternative, woman, apply, ninety",
          "<b>Topic 20</b><br>Words: fuel, duties, excise, excise duties, having",
          "<b>Topic 20</b><br>Words: decision, presidency, alternative, woman, apply",
          "<b>Topic 20</b><br>Words: woman, longer, individual, taboo, scandalous",
          "<b>Topic 20</b><br>Words: happen, um, year, think, alternative",
          "<b>Topic 20</b><br>Words: intention, doesn, alternative, woman, apply"
         ],
         "marker": {
          "color": "#56B4E9"
         },
         "mode": "lines",
         "name": "20_alternative_woman_apply_ninety",
         "type": "scatter",
         "x": [
          "2022-08-26T09:42:38",
          "2022-09-11T08:07:25",
          "2022-09-16T16:59:27",
          "2022-09-20T07:30:09",
          "2022-11-22T20:52:09",
          "2022-12-19T09:03:15",
          "2022-12-23T15:53:10",
          "2023-01-12T21:15:08",
          "2023-03-15T20:54:21",
          "2023-05-12T18:34:35",
          "2023-05-15T06:23:25",
          "2023-09-03T07:28:10"
         ],
         "y": [
          1,
          7,
          3,
          1,
          2,
          1,
          1,
          1,
          1,
          1,
          1,
          1
         ]
        }
       ],
       "layout": {
        "height": 450,
        "hoverlabel": {
         "bgcolor": "white",
         "font": {
          "family": "Rockwell",
          "size": 16
         }
        },
        "legend": {
         "title": {
          "text": "<b>Global Topic Representation"
         }
        },
        "template": {
         "data": {
          "bar": [
           {
            "error_x": {
             "color": "rgb(36,36,36)"
            },
            "error_y": {
             "color": "rgb(36,36,36)"
            },
            "marker": {
             "line": {
              "color": "white",
              "width": 0.5
             },
             "pattern": {
              "fillmode": "overlay",
              "size": 10,
              "solidity": 0.2
             }
            },
            "type": "bar"
           }
          ],
          "barpolar": [
           {
            "marker": {
             "line": {
              "color": "white",
              "width": 0.5
             },
             "pattern": {
              "fillmode": "overlay",
              "size": 10,
              "solidity": 0.2
             }
            },
            "type": "barpolar"
           }
          ],
          "carpet": [
           {
            "aaxis": {
             "endlinecolor": "rgb(36,36,36)",
             "gridcolor": "white",
             "linecolor": "white",
             "minorgridcolor": "white",
             "startlinecolor": "rgb(36,36,36)"
            },
            "baxis": {
             "endlinecolor": "rgb(36,36,36)",
             "gridcolor": "white",
             "linecolor": "white",
             "minorgridcolor": "white",
             "startlinecolor": "rgb(36,36,36)"
            },
            "type": "carpet"
           }
          ],
          "choropleth": [
           {
            "colorbar": {
             "outlinewidth": 1,
             "tickcolor": "rgb(36,36,36)",
             "ticks": "outside"
            },
            "type": "choropleth"
           }
          ],
          "contour": [
           {
            "colorbar": {
             "outlinewidth": 1,
             "tickcolor": "rgb(36,36,36)",
             "ticks": "outside"
            },
            "colorscale": [
             [
              0,
              "#440154"
             ],
             [
              0.1111111111111111,
              "#482878"
             ],
             [
              0.2222222222222222,
              "#3e4989"
             ],
             [
              0.3333333333333333,
              "#31688e"
             ],
             [
              0.4444444444444444,
              "#26828e"
             ],
             [
              0.5555555555555556,
              "#1f9e89"
             ],
             [
              0.6666666666666666,
              "#35b779"
             ],
             [
              0.7777777777777778,
              "#6ece58"
             ],
             [
              0.8888888888888888,
              "#b5de2b"
             ],
             [
              1,
              "#fde725"
             ]
            ],
            "type": "contour"
           }
          ],
          "contourcarpet": [
           {
            "colorbar": {
             "outlinewidth": 1,
             "tickcolor": "rgb(36,36,36)",
             "ticks": "outside"
            },
            "type": "contourcarpet"
           }
          ],
          "heatmap": [
           {
            "colorbar": {
             "outlinewidth": 1,
             "tickcolor": "rgb(36,36,36)",
             "ticks": "outside"
            },
            "colorscale": [
             [
              0,
              "#440154"
             ],
             [
              0.1111111111111111,
              "#482878"
             ],
             [
              0.2222222222222222,
              "#3e4989"
             ],
             [
              0.3333333333333333,
              "#31688e"
             ],
             [
              0.4444444444444444,
              "#26828e"
             ],
             [
              0.5555555555555556,
              "#1f9e89"
             ],
             [
              0.6666666666666666,
              "#35b779"
             ],
             [
              0.7777777777777778,
              "#6ece58"
             ],
             [
              0.8888888888888888,
              "#b5de2b"
             ],
             [
              1,
              "#fde725"
             ]
            ],
            "type": "heatmap"
           }
          ],
          "heatmapgl": [
           {
            "colorbar": {
             "outlinewidth": 1,
             "tickcolor": "rgb(36,36,36)",
             "ticks": "outside"
            },
            "colorscale": [
             [
              0,
              "#440154"
             ],
             [
              0.1111111111111111,
              "#482878"
             ],
             [
              0.2222222222222222,
              "#3e4989"
             ],
             [
              0.3333333333333333,
              "#31688e"
             ],
             [
              0.4444444444444444,
              "#26828e"
             ],
             [
              0.5555555555555556,
              "#1f9e89"
             ],
             [
              0.6666666666666666,
              "#35b779"
             ],
             [
              0.7777777777777778,
              "#6ece58"
             ],
             [
              0.8888888888888888,
              "#b5de2b"
             ],
             [
              1,
              "#fde725"
             ]
            ],
            "type": "heatmapgl"
           }
          ],
          "histogram": [
           {
            "marker": {
             "line": {
              "color": "white",
              "width": 0.6
             }
            },
            "type": "histogram"
           }
          ],
          "histogram2d": [
           {
            "colorbar": {
             "outlinewidth": 1,
             "tickcolor": "rgb(36,36,36)",
             "ticks": "outside"
            },
            "colorscale": [
             [
              0,
              "#440154"
             ],
             [
              0.1111111111111111,
              "#482878"
             ],
             [
              0.2222222222222222,
              "#3e4989"
             ],
             [
              0.3333333333333333,
              "#31688e"
             ],
             [
              0.4444444444444444,
              "#26828e"
             ],
             [
              0.5555555555555556,
              "#1f9e89"
             ],
             [
              0.6666666666666666,
              "#35b779"
             ],
             [
              0.7777777777777778,
              "#6ece58"
             ],
             [
              0.8888888888888888,
              "#b5de2b"
             ],
             [
              1,
              "#fde725"
             ]
            ],
            "type": "histogram2d"
           }
          ],
          "histogram2dcontour": [
           {
            "colorbar": {
             "outlinewidth": 1,
             "tickcolor": "rgb(36,36,36)",
             "ticks": "outside"
            },
            "colorscale": [
             [
              0,
              "#440154"
             ],
             [
              0.1111111111111111,
              "#482878"
             ],
             [
              0.2222222222222222,
              "#3e4989"
             ],
             [
              0.3333333333333333,
              "#31688e"
             ],
             [
              0.4444444444444444,
              "#26828e"
             ],
             [
              0.5555555555555556,
              "#1f9e89"
             ],
             [
              0.6666666666666666,
              "#35b779"
             ],
             [
              0.7777777777777778,
              "#6ece58"
             ],
             [
              0.8888888888888888,
              "#b5de2b"
             ],
             [
              1,
              "#fde725"
             ]
            ],
            "type": "histogram2dcontour"
           }
          ],
          "mesh3d": [
           {
            "colorbar": {
             "outlinewidth": 1,
             "tickcolor": "rgb(36,36,36)",
             "ticks": "outside"
            },
            "type": "mesh3d"
           }
          ],
          "parcoords": [
           {
            "line": {
             "colorbar": {
              "outlinewidth": 1,
              "tickcolor": "rgb(36,36,36)",
              "ticks": "outside"
             }
            },
            "type": "parcoords"
           }
          ],
          "pie": [
           {
            "automargin": true,
            "type": "pie"
           }
          ],
          "scatter": [
           {
            "fillpattern": {
             "fillmode": "overlay",
             "size": 10,
             "solidity": 0.2
            },
            "type": "scatter"
           }
          ],
          "scatter3d": [
           {
            "line": {
             "colorbar": {
              "outlinewidth": 1,
              "tickcolor": "rgb(36,36,36)",
              "ticks": "outside"
             }
            },
            "marker": {
             "colorbar": {
              "outlinewidth": 1,
              "tickcolor": "rgb(36,36,36)",
              "ticks": "outside"
             }
            },
            "type": "scatter3d"
           }
          ],
          "scattercarpet": [
           {
            "marker": {
             "colorbar": {
              "outlinewidth": 1,
              "tickcolor": "rgb(36,36,36)",
              "ticks": "outside"
             }
            },
            "type": "scattercarpet"
           }
          ],
          "scattergeo": [
           {
            "marker": {
             "colorbar": {
              "outlinewidth": 1,
              "tickcolor": "rgb(36,36,36)",
              "ticks": "outside"
             }
            },
            "type": "scattergeo"
           }
          ],
          "scattergl": [
           {
            "marker": {
             "colorbar": {
              "outlinewidth": 1,
              "tickcolor": "rgb(36,36,36)",
              "ticks": "outside"
             }
            },
            "type": "scattergl"
           }
          ],
          "scattermapbox": [
           {
            "marker": {
             "colorbar": {
              "outlinewidth": 1,
              "tickcolor": "rgb(36,36,36)",
              "ticks": "outside"
             }
            },
            "type": "scattermapbox"
           }
          ],
          "scatterpolar": [
           {
            "marker": {
             "colorbar": {
              "outlinewidth": 1,
              "tickcolor": "rgb(36,36,36)",
              "ticks": "outside"
             }
            },
            "type": "scatterpolar"
           }
          ],
          "scatterpolargl": [
           {
            "marker": {
             "colorbar": {
              "outlinewidth": 1,
              "tickcolor": "rgb(36,36,36)",
              "ticks": "outside"
             }
            },
            "type": "scatterpolargl"
           }
          ],
          "scatterternary": [
           {
            "marker": {
             "colorbar": {
              "outlinewidth": 1,
              "tickcolor": "rgb(36,36,36)",
              "ticks": "outside"
             }
            },
            "type": "scatterternary"
           }
          ],
          "surface": [
           {
            "colorbar": {
             "outlinewidth": 1,
             "tickcolor": "rgb(36,36,36)",
             "ticks": "outside"
            },
            "colorscale": [
             [
              0,
              "#440154"
             ],
             [
              0.1111111111111111,
              "#482878"
             ],
             [
              0.2222222222222222,
              "#3e4989"
             ],
             [
              0.3333333333333333,
              "#31688e"
             ],
             [
              0.4444444444444444,
              "#26828e"
             ],
             [
              0.5555555555555556,
              "#1f9e89"
             ],
             [
              0.6666666666666666,
              "#35b779"
             ],
             [
              0.7777777777777778,
              "#6ece58"
             ],
             [
              0.8888888888888888,
              "#b5de2b"
             ],
             [
              1,
              "#fde725"
             ]
            ],
            "type": "surface"
           }
          ],
          "table": [
           {
            "cells": {
             "fill": {
              "color": "rgb(237,237,237)"
             },
             "line": {
              "color": "white"
             }
            },
            "header": {
             "fill": {
              "color": "rgb(217,217,217)"
             },
             "line": {
              "color": "white"
             }
            },
            "type": "table"
           }
          ]
         },
         "layout": {
          "annotationdefaults": {
           "arrowhead": 0,
           "arrowwidth": 1
          },
          "autotypenumbers": "strict",
          "coloraxis": {
           "colorbar": {
            "outlinewidth": 1,
            "tickcolor": "rgb(36,36,36)",
            "ticks": "outside"
           }
          },
          "colorscale": {
           "diverging": [
            [
             0,
             "rgb(103,0,31)"
            ],
            [
             0.1,
             "rgb(178,24,43)"
            ],
            [
             0.2,
             "rgb(214,96,77)"
            ],
            [
             0.3,
             "rgb(244,165,130)"
            ],
            [
             0.4,
             "rgb(253,219,199)"
            ],
            [
             0.5,
             "rgb(247,247,247)"
            ],
            [
             0.6,
             "rgb(209,229,240)"
            ],
            [
             0.7,
             "rgb(146,197,222)"
            ],
            [
             0.8,
             "rgb(67,147,195)"
            ],
            [
             0.9,
             "rgb(33,102,172)"
            ],
            [
             1,
             "rgb(5,48,97)"
            ]
           ],
           "sequential": [
            [
             0,
             "#440154"
            ],
            [
             0.1111111111111111,
             "#482878"
            ],
            [
             0.2222222222222222,
             "#3e4989"
            ],
            [
             0.3333333333333333,
             "#31688e"
            ],
            [
             0.4444444444444444,
             "#26828e"
            ],
            [
             0.5555555555555556,
             "#1f9e89"
            ],
            [
             0.6666666666666666,
             "#35b779"
            ],
            [
             0.7777777777777778,
             "#6ece58"
            ],
            [
             0.8888888888888888,
             "#b5de2b"
            ],
            [
             1,
             "#fde725"
            ]
           ],
           "sequentialminus": [
            [
             0,
             "#440154"
            ],
            [
             0.1111111111111111,
             "#482878"
            ],
            [
             0.2222222222222222,
             "#3e4989"
            ],
            [
             0.3333333333333333,
             "#31688e"
            ],
            [
             0.4444444444444444,
             "#26828e"
            ],
            [
             0.5555555555555556,
             "#1f9e89"
            ],
            [
             0.6666666666666666,
             "#35b779"
            ],
            [
             0.7777777777777778,
             "#6ece58"
            ],
            [
             0.8888888888888888,
             "#b5de2b"
            ],
            [
             1,
             "#fde725"
            ]
           ]
          },
          "colorway": [
           "#1F77B4",
           "#FF7F0E",
           "#2CA02C",
           "#D62728",
           "#9467BD",
           "#8C564B",
           "#E377C2",
           "#7F7F7F",
           "#BCBD22",
           "#17BECF"
          ],
          "font": {
           "color": "rgb(36,36,36)"
          },
          "geo": {
           "bgcolor": "white",
           "lakecolor": "white",
           "landcolor": "white",
           "showlakes": true,
           "showland": true,
           "subunitcolor": "white"
          },
          "hoverlabel": {
           "align": "left"
          },
          "hovermode": "closest",
          "mapbox": {
           "style": "light"
          },
          "paper_bgcolor": "white",
          "plot_bgcolor": "white",
          "polar": {
           "angularaxis": {
            "gridcolor": "rgb(232,232,232)",
            "linecolor": "rgb(36,36,36)",
            "showgrid": false,
            "showline": true,
            "ticks": "outside"
           },
           "bgcolor": "white",
           "radialaxis": {
            "gridcolor": "rgb(232,232,232)",
            "linecolor": "rgb(36,36,36)",
            "showgrid": false,
            "showline": true,
            "ticks": "outside"
           }
          },
          "scene": {
           "xaxis": {
            "backgroundcolor": "white",
            "gridcolor": "rgb(232,232,232)",
            "gridwidth": 2,
            "linecolor": "rgb(36,36,36)",
            "showbackground": true,
            "showgrid": false,
            "showline": true,
            "ticks": "outside",
            "zeroline": false,
            "zerolinecolor": "rgb(36,36,36)"
           },
           "yaxis": {
            "backgroundcolor": "white",
            "gridcolor": "rgb(232,232,232)",
            "gridwidth": 2,
            "linecolor": "rgb(36,36,36)",
            "showbackground": true,
            "showgrid": false,
            "showline": true,
            "ticks": "outside",
            "zeroline": false,
            "zerolinecolor": "rgb(36,36,36)"
           },
           "zaxis": {
            "backgroundcolor": "white",
            "gridcolor": "rgb(232,232,232)",
            "gridwidth": 2,
            "linecolor": "rgb(36,36,36)",
            "showbackground": true,
            "showgrid": false,
            "showline": true,
            "ticks": "outside",
            "zeroline": false,
            "zerolinecolor": "rgb(36,36,36)"
           }
          },
          "shapedefaults": {
           "fillcolor": "black",
           "line": {
            "width": 0
           },
           "opacity": 0.3
          },
          "ternary": {
           "aaxis": {
            "gridcolor": "rgb(232,232,232)",
            "linecolor": "rgb(36,36,36)",
            "showgrid": false,
            "showline": true,
            "ticks": "outside"
           },
           "baxis": {
            "gridcolor": "rgb(232,232,232)",
            "linecolor": "rgb(36,36,36)",
            "showgrid": false,
            "showline": true,
            "ticks": "outside"
           },
           "bgcolor": "white",
           "caxis": {
            "gridcolor": "rgb(232,232,232)",
            "linecolor": "rgb(36,36,36)",
            "showgrid": false,
            "showline": true,
            "ticks": "outside"
           }
          },
          "title": {
           "x": 0.05
          },
          "xaxis": {
           "automargin": true,
           "gridcolor": "rgb(232,232,232)",
           "linecolor": "rgb(36,36,36)",
           "showgrid": false,
           "showline": true,
           "ticks": "outside",
           "title": {
            "standoff": 15
           },
           "zeroline": false,
           "zerolinecolor": "rgb(36,36,36)"
          },
          "yaxis": {
           "automargin": true,
           "gridcolor": "rgb(232,232,232)",
           "linecolor": "rgb(36,36,36)",
           "showgrid": false,
           "showline": true,
           "ticks": "outside",
           "title": {
            "standoff": 15
           },
           "zeroline": false,
           "zerolinecolor": "rgb(36,36,36)"
          }
         }
        },
        "title": {
         "font": {
          "color": "Black",
          "size": 22
         },
         "text": "<b>Topics over Time</b>",
         "x": 0.4,
         "xanchor": "center",
         "y": 0.95,
         "yanchor": "top"
        },
        "width": 1250,
        "xaxis": {
         "showgrid": true
        },
        "yaxis": {
         "showgrid": true,
         "title": {
          "text": "Frequency"
         }
        }
       }
      }
     },
     "metadata": {},
     "output_type": "display_data"
    }
   ],
   "source": [
    "\n",
    "topics_over_time = topic_model.topics_over_time(docs, timestamps)\n",
    "topic_model.visualize_topics_over_time(topics_over_time, topics=topics)"
   ]
  },
  {
   "cell_type": "code",
   "execution_count": 1,
   "metadata": {},
   "outputs": [
    {
     "ename": "NameError",
     "evalue": "name 'SentenceTransformer' is not defined",
     "output_type": "error",
     "traceback": [
      "\u001b[0;31m---------------------------------------------------------------------------\u001b[0m",
      "\u001b[0;31mNameError\u001b[0m                                 Traceback (most recent call last)",
      "\u001b[1;32m/Users/frasercrichton/Development/investigation-influence-industry-italy/analysis/AnalyseTopicMap.ipynb Cell 30\u001b[0m line \u001b[0;36m1\n\u001b[0;32m----> <a href='vscode-notebook-cell:/Users/frasercrichton/Development/investigation-influence-industry-italy/analysis/AnalyseTopicMap.ipynb#X41sZmlsZQ%3D%3D?line=0'>1</a>\u001b[0m sentence_model \u001b[39m=\u001b[39m SentenceTransformer(\u001b[39m\"\u001b[39m\u001b[39mall-MiniLM-L6-v2\u001b[39m\u001b[39m\"\u001b[39m)\n\u001b[1;32m      <a href='vscode-notebook-cell:/Users/frasercrichton/Development/investigation-influence-industry-italy/analysis/AnalyseTopicMap.ipynb#X41sZmlsZQ%3D%3D?line=1'>2</a>\u001b[0m embeddings \u001b[39m=\u001b[39m sentence_model\u001b[39m.\u001b[39mencode(docs, show_progress_bar\u001b[39m=\u001b[39m\u001b[39mFalse\u001b[39;00m)\n\u001b[1;32m      <a href='vscode-notebook-cell:/Users/frasercrichton/Development/investigation-influence-industry-italy/analysis/AnalyseTopicMap.ipynb#X41sZmlsZQ%3D%3D?line=2'>3</a>\u001b[0m \u001b[39m# reduced_embeddings = UMAP(n_neighbors=10, n_components=2, min_dist=0.0, metric='cosine').fit_transform(embeddings)\u001b[39;00m\n",
      "\u001b[0;31mNameError\u001b[0m: name 'SentenceTransformer' is not defined"
     ]
    }
   ],
   "source": [
    "sentence_model = SentenceTransformer(\"all-MiniLM-L6-v2\")\n",
    "embeddings = sentence_model.encode(docs, show_progress_bar=False)\n",
    "# reduced_embeddings = UMAP(n_neighbors=10, n_components=2, min_dist=0.0, metric='cosine').fit_transform(embeddings)\n",
    "topic_model.visualize_documents(docs)"
   ]
  },
  {
   "cell_type": "code",
   "execution_count": 239,
   "metadata": {},
   "outputs": [
    {
     "name": "stderr",
     "output_type": "stream",
     "text": [
      "100%|██████████| 3/3 [00:00<00:00,  7.74it/s]\n"
     ]
    },
    {
     "data": {
      "text/html": [
       "<style type=\"text/css\">\n",
       "#T_afd08_row0_col0, #T_afd08_row0_col7, #T_afd08_row0_col8, #T_afd08_row0_col9, #T_afd08_row0_col10, #T_afd08_row0_col11, #T_afd08_row0_col12, #T_afd08_row0_col13, #T_afd08_row0_col14, #T_afd08_row0_col15, #T_afd08_row0_col16, #T_afd08_row0_col17, #T_afd08_row0_col18, #T_afd08_row0_col19, #T_afd08_row0_col20, #T_afd08_row0_col21, #T_afd08_row0_col22, #T_afd08_row0_col23, #T_afd08_row0_col24, #T_afd08_row0_col25, #T_afd08_row0_col26, #T_afd08_row0_col27, #T_afd08_row0_col28, #T_afd08_row0_col29, #T_afd08_row0_col30, #T_afd08_row0_col31, #T_afd08_row0_col32, #T_afd08_row0_col33, #T_afd08_row0_col34, #T_afd08_row1_col4, #T_afd08_row1_col5, #T_afd08_row1_col6, #T_afd08_row1_col7, #T_afd08_row1_col8, #T_afd08_row1_col9, #T_afd08_row1_col10, #T_afd08_row1_col11, #T_afd08_row1_col12, #T_afd08_row1_col13, #T_afd08_row1_col14, #T_afd08_row1_col15, #T_afd08_row1_col16, #T_afd08_row1_col17, #T_afd08_row1_col18, #T_afd08_row1_col19, #T_afd08_row1_col20, #T_afd08_row1_col21, #T_afd08_row1_col22, #T_afd08_row1_col23, #T_afd08_row1_col24, #T_afd08_row1_col25, #T_afd08_row1_col26, #T_afd08_row1_col27, #T_afd08_row1_col28, #T_afd08_row1_col29, #T_afd08_row1_col30, #T_afd08_row1_col31, #T_afd08_row1_col32, #T_afd08_row1_col33, #T_afd08_row1_col34, #T_afd08_row2_col4, #T_afd08_row2_col5, #T_afd08_row2_col6, #T_afd08_row2_col7, #T_afd08_row2_col8, #T_afd08_row2_col9, #T_afd08_row2_col14, #T_afd08_row2_col15, #T_afd08_row2_col16, #T_afd08_row2_col17, #T_afd08_row2_col18, #T_afd08_row2_col19, #T_afd08_row2_col20, #T_afd08_row2_col21, #T_afd08_row2_col22, #T_afd08_row2_col23, #T_afd08_row2_col24, #T_afd08_row2_col25, #T_afd08_row2_col26, #T_afd08_row2_col27, #T_afd08_row2_col34, #T_afd08_row3_col0, #T_afd08_row3_col7, #T_afd08_row3_col8, #T_afd08_row3_col9, #T_afd08_row3_col10, #T_afd08_row3_col11, #T_afd08_row3_col12, #T_afd08_row3_col13, #T_afd08_row3_col14, #T_afd08_row3_col15, #T_afd08_row3_col16, #T_afd08_row3_col17, #T_afd08_row3_col18, #T_afd08_row3_col19, #T_afd08_row3_col20, #T_afd08_row3_col21, #T_afd08_row3_col22, #T_afd08_row3_col23, #T_afd08_row3_col24, #T_afd08_row3_col25, #T_afd08_row3_col26, #T_afd08_row3_col27, #T_afd08_row3_col28, #T_afd08_row3_col29, #T_afd08_row3_col30, #T_afd08_row3_col31, #T_afd08_row3_col32, #T_afd08_row3_col33, #T_afd08_row3_col34, #T_afd08_row4_col0, #T_afd08_row4_col1, #T_afd08_row4_col2, #T_afd08_row4_col3, #T_afd08_row4_col4, #T_afd08_row4_col5, #T_afd08_row4_col6, #T_afd08_row4_col7, #T_afd08_row4_col8, #T_afd08_row4_col9, #T_afd08_row4_col10, #T_afd08_row4_col11, #T_afd08_row4_col16, #T_afd08_row4_col17, #T_afd08_row4_col18, #T_afd08_row4_col19, #T_afd08_row4_col20, #T_afd08_row4_col21, #T_afd08_row4_col22, #T_afd08_row4_col23, #T_afd08_row4_col24, #T_afd08_row4_col25, #T_afd08_row4_col26, #T_afd08_row4_col27, #T_afd08_row4_col28, #T_afd08_row4_col29, #T_afd08_row4_col30, #T_afd08_row4_col31, #T_afd08_row4_col32, #T_afd08_row4_col33, #T_afd08_row4_col34, #T_afd08_row5_col4, #T_afd08_row5_col5, #T_afd08_row5_col6, #T_afd08_row5_col7, #T_afd08_row5_col8, #T_afd08_row5_col9, #T_afd08_row5_col10, #T_afd08_row5_col11, #T_afd08_row5_col12, #T_afd08_row5_col13, #T_afd08_row5_col14, #T_afd08_row5_col15, #T_afd08_row5_col16, #T_afd08_row5_col17, #T_afd08_row5_col18, #T_afd08_row5_col19, #T_afd08_row5_col20, #T_afd08_row5_col21, #T_afd08_row5_col22, #T_afd08_row5_col23, #T_afd08_row5_col24, #T_afd08_row5_col25, #T_afd08_row5_col26, #T_afd08_row5_col27, #T_afd08_row5_col28, #T_afd08_row5_col29, #T_afd08_row5_col30, #T_afd08_row5_col31, #T_afd08_row5_col32, #T_afd08_row5_col33, #T_afd08_row5_col34, #T_afd08_row6_col0, #T_afd08_row6_col1, #T_afd08_row6_col2, #T_afd08_row6_col3, #T_afd08_row6_col4, #T_afd08_row6_col5, #T_afd08_row6_col6, #T_afd08_row6_col7, #T_afd08_row6_col8, #T_afd08_row6_col9, #T_afd08_row6_col10, #T_afd08_row6_col11, #T_afd08_row6_col12, #T_afd08_row6_col13, #T_afd08_row6_col14, #T_afd08_row6_col15, #T_afd08_row6_col16, #T_afd08_row6_col17, #T_afd08_row6_col18, #T_afd08_row6_col19, #T_afd08_row6_col24, #T_afd08_row6_col25, #T_afd08_row6_col26, #T_afd08_row6_col27, #T_afd08_row6_col28, #T_afd08_row6_col29, #T_afd08_row6_col30, #T_afd08_row6_col31, #T_afd08_row6_col32, #T_afd08_row6_col33, #T_afd08_row6_col34, #T_afd08_row7_col0, #T_afd08_row7_col1, #T_afd08_row7_col2, #T_afd08_row7_col7, #T_afd08_row7_col8, #T_afd08_row7_col9, #T_afd08_row7_col10, #T_afd08_row7_col11, #T_afd08_row7_col12, #T_afd08_row7_col13, #T_afd08_row7_col14, #T_afd08_row7_col15, #T_afd08_row7_col16, #T_afd08_row7_col17, #T_afd08_row7_col18, #T_afd08_row7_col19, #T_afd08_row7_col20, #T_afd08_row7_col21, #T_afd08_row7_col22, #T_afd08_row7_col23, #T_afd08_row7_col24, #T_afd08_row7_col25, #T_afd08_row7_col26, #T_afd08_row7_col27, #T_afd08_row7_col28, #T_afd08_row7_col29, #T_afd08_row7_col30, #T_afd08_row7_col31, #T_afd08_row7_col32, #T_afd08_row7_col33, #T_afd08_row7_col34, #T_afd08_row8_col4, #T_afd08_row8_col5, #T_afd08_row8_col6, #T_afd08_row8_col7, #T_afd08_row8_col8, #T_afd08_row8_col9, #T_afd08_row8_col10, #T_afd08_row8_col11, #T_afd08_row8_col12, #T_afd08_row8_col13, #T_afd08_row8_col14, #T_afd08_row8_col15, #T_afd08_row8_col16, #T_afd08_row8_col17, #T_afd08_row8_col18, #T_afd08_row8_col19, #T_afd08_row8_col20, #T_afd08_row8_col21, #T_afd08_row8_col22, #T_afd08_row8_col23, #T_afd08_row8_col24, #T_afd08_row8_col25, #T_afd08_row8_col26, #T_afd08_row8_col27, #T_afd08_row8_col28, #T_afd08_row8_col29, #T_afd08_row8_col30, #T_afd08_row8_col31, #T_afd08_row8_col32, #T_afd08_row8_col33, #T_afd08_row8_col34 {\n",
       "  background-color: #f7fbff;\n",
       "  color: #000000;\n",
       "  color: white;\n",
       "  background-color: white;\n",
       "}\n",
       "#T_afd08_row0_col1, #T_afd08_row3_col1 {\n",
       "  background-color: #bad6eb;\n",
       "  color: #000000;\n",
       "  color: black;\n",
       "}\n",
       "#T_afd08_row0_col2 {\n",
       "  background-color: #4e9acb;\n",
       "  color: #f1f1f1;\n",
       "  color: black;\n",
       "}\n",
       "#T_afd08_row0_col3, #T_afd08_row0_col4 {\n",
       "  background-color: #084e98;\n",
       "  color: #f1f1f1;\n",
       "  color: black;\n",
       "}\n",
       "#T_afd08_row0_col5 {\n",
       "  background-color: #4a98c9;\n",
       "  color: #f1f1f1;\n",
       "  color: black;\n",
       "}\n",
       "#T_afd08_row0_col6 {\n",
       "  background-color: #b7d4ea;\n",
       "  color: #000000;\n",
       "  color: black;\n",
       "}\n",
       "#T_afd08_row1_col0, #T_afd08_row1_col1, #T_afd08_row1_col2, #T_afd08_row1_col3, #T_afd08_row2_col10, #T_afd08_row2_col11, #T_afd08_row2_col12, #T_afd08_row2_col13 {\n",
       "  background-color: #c1d9ed;\n",
       "  color: #000000;\n",
       "  color: black;\n",
       "}\n",
       "#T_afd08_row2_col0, #T_afd08_row2_col1, #T_afd08_row2_col2, #T_afd08_row2_col3 {\n",
       "  background-color: #c2d9ee;\n",
       "  color: #000000;\n",
       "  color: black;\n",
       "}\n",
       "#T_afd08_row2_col28 {\n",
       "  background-color: #bcd7eb;\n",
       "  color: #000000;\n",
       "  color: black;\n",
       "}\n",
       "#T_afd08_row2_col29 {\n",
       "  background-color: #3a8ac2;\n",
       "  color: #f1f1f1;\n",
       "  color: black;\n",
       "}\n",
       "#T_afd08_row2_col30, #T_afd08_row2_col31 {\n",
       "  background-color: #08306b;\n",
       "  color: #f1f1f1;\n",
       "  color: black;\n",
       "}\n",
       "#T_afd08_row2_col32 {\n",
       "  background-color: #2a7ab9;\n",
       "  color: #f1f1f1;\n",
       "  color: black;\n",
       "}\n",
       "#T_afd08_row2_col33 {\n",
       "  background-color: #a8cee4;\n",
       "  color: #000000;\n",
       "  color: black;\n",
       "}\n",
       "#T_afd08_row3_col2 {\n",
       "  background-color: #519ccc;\n",
       "  color: #f1f1f1;\n",
       "  color: black;\n",
       "}\n",
       "#T_afd08_row3_col3, #T_afd08_row3_col4 {\n",
       "  background-color: #08488e;\n",
       "  color: #f1f1f1;\n",
       "  color: black;\n",
       "}\n",
       "#T_afd08_row3_col5 {\n",
       "  background-color: #4493c7;\n",
       "  color: #f1f1f1;\n",
       "  color: black;\n",
       "}\n",
       "#T_afd08_row3_col6, #T_afd08_row5_col0, #T_afd08_row5_col1, #T_afd08_row5_col2, #T_afd08_row5_col3 {\n",
       "  background-color: #add0e6;\n",
       "  color: #000000;\n",
       "  color: black;\n",
       "}\n",
       "#T_afd08_row4_col12, #T_afd08_row4_col13, #T_afd08_row4_col14, #T_afd08_row4_col15 {\n",
       "  background-color: #bed8ec;\n",
       "  color: #000000;\n",
       "  color: black;\n",
       "}\n",
       "#T_afd08_row6_col20, #T_afd08_row6_col21, #T_afd08_row6_col22, #T_afd08_row6_col23 {\n",
       "  background-color: #b2d2e8;\n",
       "  color: #000000;\n",
       "  color: black;\n",
       "}\n",
       "#T_afd08_row7_col3, #T_afd08_row7_col4, #T_afd08_row7_col5, #T_afd08_row7_col6 {\n",
       "  background-color: #b8d5ea;\n",
       "  color: #000000;\n",
       "  color: black;\n",
       "}\n",
       "#T_afd08_row8_col0, #T_afd08_row8_col1, #T_afd08_row8_col2, #T_afd08_row8_col3 {\n",
       "  background-color: #a0cbe2;\n",
       "  color: #000000;\n",
       "  color: black;\n",
       "}\n",
       "</style>\n",
       "<table id=\"T_afd08\">\n",
       "  <thead>\n",
       "    <tr>\n",
       "      <th class=\"blank level0\" >&nbsp;</th>\n",
       "      <th id=\"T_afd08_level0_col0\" class=\"col_heading level0 col0\" >We</th>\n",
       "      <th id=\"T_afd08_level0_col1\" class=\"col_heading level0 col1\" >must </th>\n",
       "      <th id=\"T_afd08_level0_col2\" class=\"col_heading level0 col2\" >always  </th>\n",
       "      <th id=\"T_afd08_level0_col3\" class=\"col_heading level0 col3\" >do   </th>\n",
       "      <th id=\"T_afd08_level0_col4\" class=\"col_heading level0 col4\" >better    </th>\n",
       "      <th id=\"T_afd08_level0_col5\" class=\"col_heading level0 col5\" >but     </th>\n",
       "      <th id=\"T_afd08_level0_col6\" class=\"col_heading level0 col6\" >am      </th>\n",
       "      <th id=\"T_afd08_level0_col7\" class=\"col_heading level0 col7\" >satisfied       </th>\n",
       "      <th id=\"T_afd08_level0_col8\" class=\"col_heading level0 col8\" >with        </th>\n",
       "      <th id=\"T_afd08_level0_col9\" class=\"col_heading level0 col9\" >the         </th>\n",
       "      <th id=\"T_afd08_level0_col10\" class=\"col_heading level0 col10\" >fact          </th>\n",
       "      <th id=\"T_afd08_level0_col11\" class=\"col_heading level0 col11\" >that           </th>\n",
       "      <th id=\"T_afd08_level0_col12\" class=\"col_heading level0 col12\" >not            </th>\n",
       "      <th id=\"T_afd08_level0_col13\" class=\"col_heading level0 col13\" >even             </th>\n",
       "      <th id=\"T_afd08_level0_col14\" class=\"col_heading level0 col14\" >day              </th>\n",
       "      <th id=\"T_afd08_level0_col15\" class=\"col_heading level0 col15\" >has               </th>\n",
       "      <th id=\"T_afd08_level0_col16\" class=\"col_heading level0 col16\" >gone                </th>\n",
       "      <th id=\"T_afd08_level0_col17\" class=\"col_heading level0 col17\" >by                 </th>\n",
       "      <th id=\"T_afd08_level0_col18\" class=\"col_heading level0 col18\" >Saturdays                  </th>\n",
       "      <th id=\"T_afd08_level0_col19\" class=\"col_heading level0 col19\" >Sundays                   </th>\n",
       "      <th id=\"T_afd08_level0_col20\" class=\"col_heading level0 col20\" >including                    </th>\n",
       "      <th id=\"T_afd08_level0_col21\" class=\"col_heading level0 col21\" >holidays                     </th>\n",
       "      <th id=\"T_afd08_level0_col22\" class=\"col_heading level0 col22\" >without                      </th>\n",
       "      <th id=\"T_afd08_level0_col23\" class=\"col_heading level0 col23\" >us                       </th>\n",
       "      <th id=\"T_afd08_level0_col24\" class=\"col_heading level0 col24\" >trying                        </th>\n",
       "      <th id=\"T_afd08_level0_col25\" class=\"col_heading level0 col25\" >to                         </th>\n",
       "      <th id=\"T_afd08_level0_col26\" class=\"col_heading level0 col26\" >give                          </th>\n",
       "      <th id=\"T_afd08_level0_col27\" class=\"col_heading level0 col27\" >at                           </th>\n",
       "      <th id=\"T_afd08_level0_col28\" class=\"col_heading level0 col28\" >least                            </th>\n",
       "      <th id=\"T_afd08_level0_col29\" class=\"col_heading level0 col29\" >one                             </th>\n",
       "      <th id=\"T_afd08_level0_col30\" class=\"col_heading level0 col30\" >answer                              </th>\n",
       "      <th id=\"T_afd08_level0_col31\" class=\"col_heading level0 col31\" >always                               </th>\n",
       "      <th id=\"T_afd08_level0_col32\" class=\"col_heading level0 col32\" >on                                </th>\n",
       "      <th id=\"T_afd08_level0_col33\" class=\"col_heading level0 col33\" >Italy                                 </th>\n",
       "      <th id=\"T_afd08_level0_col34\" class=\"col_heading level0 col34\" >side                                  </th>\n",
       "    </tr>\n",
       "  </thead>\n",
       "  <tbody>\n",
       "    <tr>\n",
       "      <th id=\"T_afd08_level0_row0\" class=\"row_heading level0 row0\" >1_bit_echo_professionalism_girl</th>\n",
       "      <td id=\"T_afd08_row0_col0\" class=\"data row0 col0\" >0.000</td>\n",
       "      <td id=\"T_afd08_row0_col1\" class=\"data row0 col1\" >0.108</td>\n",
       "      <td id=\"T_afd08_row0_col2\" class=\"data row0 col2\" >0.222</td>\n",
       "      <td id=\"T_afd08_row0_col3\" class=\"data row0 col3\" >0.335</td>\n",
       "      <td id=\"T_afd08_row0_col4\" class=\"data row0 col4\" >0.335</td>\n",
       "      <td id=\"T_afd08_row0_col5\" class=\"data row0 col5\" >0.226</td>\n",
       "      <td id=\"T_afd08_row0_col6\" class=\"data row0 col6\" >0.113</td>\n",
       "      <td id=\"T_afd08_row0_col7\" class=\"data row0 col7\" >0.000</td>\n",
       "      <td id=\"T_afd08_row0_col8\" class=\"data row0 col8\" >0.000</td>\n",
       "      <td id=\"T_afd08_row0_col9\" class=\"data row0 col9\" >0.000</td>\n",
       "      <td id=\"T_afd08_row0_col10\" class=\"data row0 col10\" >0.000</td>\n",
       "      <td id=\"T_afd08_row0_col11\" class=\"data row0 col11\" >0.000</td>\n",
       "      <td id=\"T_afd08_row0_col12\" class=\"data row0 col12\" >0.000</td>\n",
       "      <td id=\"T_afd08_row0_col13\" class=\"data row0 col13\" >0.000</td>\n",
       "      <td id=\"T_afd08_row0_col14\" class=\"data row0 col14\" >0.000</td>\n",
       "      <td id=\"T_afd08_row0_col15\" class=\"data row0 col15\" >0.000</td>\n",
       "      <td id=\"T_afd08_row0_col16\" class=\"data row0 col16\" >0.000</td>\n",
       "      <td id=\"T_afd08_row0_col17\" class=\"data row0 col17\" >0.000</td>\n",
       "      <td id=\"T_afd08_row0_col18\" class=\"data row0 col18\" >0.000</td>\n",
       "      <td id=\"T_afd08_row0_col19\" class=\"data row0 col19\" >0.000</td>\n",
       "      <td id=\"T_afd08_row0_col20\" class=\"data row0 col20\" >0.000</td>\n",
       "      <td id=\"T_afd08_row0_col21\" class=\"data row0 col21\" >0.000</td>\n",
       "      <td id=\"T_afd08_row0_col22\" class=\"data row0 col22\" >0.000</td>\n",
       "      <td id=\"T_afd08_row0_col23\" class=\"data row0 col23\" >0.000</td>\n",
       "      <td id=\"T_afd08_row0_col24\" class=\"data row0 col24\" >0.000</td>\n",
       "      <td id=\"T_afd08_row0_col25\" class=\"data row0 col25\" >0.000</td>\n",
       "      <td id=\"T_afd08_row0_col26\" class=\"data row0 col26\" >0.000</td>\n",
       "      <td id=\"T_afd08_row0_col27\" class=\"data row0 col27\" >0.000</td>\n",
       "      <td id=\"T_afd08_row0_col28\" class=\"data row0 col28\" >0.000</td>\n",
       "      <td id=\"T_afd08_row0_col29\" class=\"data row0 col29\" >0.000</td>\n",
       "      <td id=\"T_afd08_row0_col30\" class=\"data row0 col30\" >0.000</td>\n",
       "      <td id=\"T_afd08_row0_col31\" class=\"data row0 col31\" >0.000</td>\n",
       "      <td id=\"T_afd08_row0_col32\" class=\"data row0 col32\" >0.000</td>\n",
       "      <td id=\"T_afd08_row0_col33\" class=\"data row0 col33\" >0.000</td>\n",
       "      <td id=\"T_afd08_row0_col34\" class=\"data row0 col34\" >0.000</td>\n",
       "    </tr>\n",
       "    <tr>\n",
       "      <th id=\"T_afd08_level0_row1\" class=\"row_heading level0 row1\" >2_ready_evening_happy_moment</th>\n",
       "      <td id=\"T_afd08_row1_col0\" class=\"data row1 col0\" >0.101</td>\n",
       "      <td id=\"T_afd08_row1_col1\" class=\"data row1 col1\" >0.101</td>\n",
       "      <td id=\"T_afd08_row1_col2\" class=\"data row1 col2\" >0.101</td>\n",
       "      <td id=\"T_afd08_row1_col3\" class=\"data row1 col3\" >0.101</td>\n",
       "      <td id=\"T_afd08_row1_col4\" class=\"data row1 col4\" >0.000</td>\n",
       "      <td id=\"T_afd08_row1_col5\" class=\"data row1 col5\" >0.000</td>\n",
       "      <td id=\"T_afd08_row1_col6\" class=\"data row1 col6\" >0.000</td>\n",
       "      <td id=\"T_afd08_row1_col7\" class=\"data row1 col7\" >0.000</td>\n",
       "      <td id=\"T_afd08_row1_col8\" class=\"data row1 col8\" >0.000</td>\n",
       "      <td id=\"T_afd08_row1_col9\" class=\"data row1 col9\" >0.000</td>\n",
       "      <td id=\"T_afd08_row1_col10\" class=\"data row1 col10\" >0.000</td>\n",
       "      <td id=\"T_afd08_row1_col11\" class=\"data row1 col11\" >0.000</td>\n",
       "      <td id=\"T_afd08_row1_col12\" class=\"data row1 col12\" >0.000</td>\n",
       "      <td id=\"T_afd08_row1_col13\" class=\"data row1 col13\" >0.000</td>\n",
       "      <td id=\"T_afd08_row1_col14\" class=\"data row1 col14\" >0.000</td>\n",
       "      <td id=\"T_afd08_row1_col15\" class=\"data row1 col15\" >0.000</td>\n",
       "      <td id=\"T_afd08_row1_col16\" class=\"data row1 col16\" >0.000</td>\n",
       "      <td id=\"T_afd08_row1_col17\" class=\"data row1 col17\" >0.000</td>\n",
       "      <td id=\"T_afd08_row1_col18\" class=\"data row1 col18\" >0.000</td>\n",
       "      <td id=\"T_afd08_row1_col19\" class=\"data row1 col19\" >0.000</td>\n",
       "      <td id=\"T_afd08_row1_col20\" class=\"data row1 col20\" >0.000</td>\n",
       "      <td id=\"T_afd08_row1_col21\" class=\"data row1 col21\" >0.000</td>\n",
       "      <td id=\"T_afd08_row1_col22\" class=\"data row1 col22\" >0.000</td>\n",
       "      <td id=\"T_afd08_row1_col23\" class=\"data row1 col23\" >0.000</td>\n",
       "      <td id=\"T_afd08_row1_col24\" class=\"data row1 col24\" >0.000</td>\n",
       "      <td id=\"T_afd08_row1_col25\" class=\"data row1 col25\" >0.000</td>\n",
       "      <td id=\"T_afd08_row1_col26\" class=\"data row1 col26\" >0.000</td>\n",
       "      <td id=\"T_afd08_row1_col27\" class=\"data row1 col27\" >0.000</td>\n",
       "      <td id=\"T_afd08_row1_col28\" class=\"data row1 col28\" >0.000</td>\n",
       "      <td id=\"T_afd08_row1_col29\" class=\"data row1 col29\" >0.000</td>\n",
       "      <td id=\"T_afd08_row1_col30\" class=\"data row1 col30\" >0.000</td>\n",
       "      <td id=\"T_afd08_row1_col31\" class=\"data row1 col31\" >0.000</td>\n",
       "      <td id=\"T_afd08_row1_col32\" class=\"data row1 col32\" >0.000</td>\n",
       "      <td id=\"T_afd08_row1_col33\" class=\"data row1 col33\" >0.000</td>\n",
       "      <td id=\"T_afd08_row1_col34\" class=\"data row1 col34\" >0.000</td>\n",
       "    </tr>\n",
       "    <tr>\n",
       "      <th id=\"T_afd08_level0_row2\" class=\"row_heading level0 row2\" >18_capable_advantage_lunatic_merits</th>\n",
       "      <td id=\"T_afd08_row2_col0\" class=\"data row2 col0\" >0.100</td>\n",
       "      <td id=\"T_afd08_row2_col1\" class=\"data row2 col1\" >0.100</td>\n",
       "      <td id=\"T_afd08_row2_col2\" class=\"data row2 col2\" >0.100</td>\n",
       "      <td id=\"T_afd08_row2_col3\" class=\"data row2 col3\" >0.100</td>\n",
       "      <td id=\"T_afd08_row2_col4\" class=\"data row2 col4\" >0.000</td>\n",
       "      <td id=\"T_afd08_row2_col5\" class=\"data row2 col5\" >0.000</td>\n",
       "      <td id=\"T_afd08_row2_col6\" class=\"data row2 col6\" >0.000</td>\n",
       "      <td id=\"T_afd08_row2_col7\" class=\"data row2 col7\" >0.000</td>\n",
       "      <td id=\"T_afd08_row2_col8\" class=\"data row2 col8\" >0.000</td>\n",
       "      <td id=\"T_afd08_row2_col9\" class=\"data row2 col9\" >0.000</td>\n",
       "      <td id=\"T_afd08_row2_col10\" class=\"data row2 col10\" >0.101</td>\n",
       "      <td id=\"T_afd08_row2_col11\" class=\"data row2 col11\" >0.101</td>\n",
       "      <td id=\"T_afd08_row2_col12\" class=\"data row2 col12\" >0.101</td>\n",
       "      <td id=\"T_afd08_row2_col13\" class=\"data row2 col13\" >0.101</td>\n",
       "      <td id=\"T_afd08_row2_col14\" class=\"data row2 col14\" >0.000</td>\n",
       "      <td id=\"T_afd08_row2_col15\" class=\"data row2 col15\" >0.000</td>\n",
       "      <td id=\"T_afd08_row2_col16\" class=\"data row2 col16\" >0.000</td>\n",
       "      <td id=\"T_afd08_row2_col17\" class=\"data row2 col17\" >0.000</td>\n",
       "      <td id=\"T_afd08_row2_col18\" class=\"data row2 col18\" >0.000</td>\n",
       "      <td id=\"T_afd08_row2_col19\" class=\"data row2 col19\" >0.000</td>\n",
       "      <td id=\"T_afd08_row2_col20\" class=\"data row2 col20\" >0.000</td>\n",
       "      <td id=\"T_afd08_row2_col21\" class=\"data row2 col21\" >0.000</td>\n",
       "      <td id=\"T_afd08_row2_col22\" class=\"data row2 col22\" >0.000</td>\n",
       "      <td id=\"T_afd08_row2_col23\" class=\"data row2 col23\" >0.000</td>\n",
       "      <td id=\"T_afd08_row2_col24\" class=\"data row2 col24\" >0.000</td>\n",
       "      <td id=\"T_afd08_row2_col25\" class=\"data row2 col25\" >0.000</td>\n",
       "      <td id=\"T_afd08_row2_col26\" class=\"data row2 col26\" >0.000</td>\n",
       "      <td id=\"T_afd08_row2_col27\" class=\"data row2 col27\" >0.000</td>\n",
       "      <td id=\"T_afd08_row2_col28\" class=\"data row2 col28\" >0.108</td>\n",
       "      <td id=\"T_afd08_row2_col29\" class=\"data row2 col29\" >0.247</td>\n",
       "      <td id=\"T_afd08_row2_col30\" class=\"data row2 col30\" >0.378</td>\n",
       "      <td id=\"T_afd08_row2_col31\" class=\"data row2 col31\" >0.378</td>\n",
       "      <td id=\"T_afd08_row2_col32\" class=\"data row2 col32\" >0.270</td>\n",
       "      <td id=\"T_afd08_row2_col33\" class=\"data row2 col33\" >0.131</td>\n",
       "      <td id=\"T_afd08_row2_col34\" class=\"data row2 col34\" >0.000</td>\n",
       "    </tr>\n",
       "    <tr>\n",
       "      <th id=\"T_afd08_level0_row3\" class=\"row_heading level0 row3\" >23_proud_celebration_sacrifice_politics</th>\n",
       "      <td id=\"T_afd08_row3_col0\" class=\"data row3 col0\" >0.000</td>\n",
       "      <td id=\"T_afd08_row3_col1\" class=\"data row3 col1\" >0.109</td>\n",
       "      <td id=\"T_afd08_row3_col2\" class=\"data row3 col2\" >0.219</td>\n",
       "      <td id=\"T_afd08_row3_col3\" class=\"data row3 col3\" >0.343</td>\n",
       "      <td id=\"T_afd08_row3_col4\" class=\"data row3 col4\" >0.343</td>\n",
       "      <td id=\"T_afd08_row3_col5\" class=\"data row3 col5\" >0.234</td>\n",
       "      <td id=\"T_afd08_row3_col6\" class=\"data row3 col6\" >0.124</td>\n",
       "      <td id=\"T_afd08_row3_col7\" class=\"data row3 col7\" >0.000</td>\n",
       "      <td id=\"T_afd08_row3_col8\" class=\"data row3 col8\" >0.000</td>\n",
       "      <td id=\"T_afd08_row3_col9\" class=\"data row3 col9\" >0.000</td>\n",
       "      <td id=\"T_afd08_row3_col10\" class=\"data row3 col10\" >0.000</td>\n",
       "      <td id=\"T_afd08_row3_col11\" class=\"data row3 col11\" >0.000</td>\n",
       "      <td id=\"T_afd08_row3_col12\" class=\"data row3 col12\" >0.000</td>\n",
       "      <td id=\"T_afd08_row3_col13\" class=\"data row3 col13\" >0.000</td>\n",
       "      <td id=\"T_afd08_row3_col14\" class=\"data row3 col14\" >0.000</td>\n",
       "      <td id=\"T_afd08_row3_col15\" class=\"data row3 col15\" >0.000</td>\n",
       "      <td id=\"T_afd08_row3_col16\" class=\"data row3 col16\" >0.000</td>\n",
       "      <td id=\"T_afd08_row3_col17\" class=\"data row3 col17\" >0.000</td>\n",
       "      <td id=\"T_afd08_row3_col18\" class=\"data row3 col18\" >0.000</td>\n",
       "      <td id=\"T_afd08_row3_col19\" class=\"data row3 col19\" >0.000</td>\n",
       "      <td id=\"T_afd08_row3_col20\" class=\"data row3 col20\" >0.000</td>\n",
       "      <td id=\"T_afd08_row3_col21\" class=\"data row3 col21\" >0.000</td>\n",
       "      <td id=\"T_afd08_row3_col22\" class=\"data row3 col22\" >0.000</td>\n",
       "      <td id=\"T_afd08_row3_col23\" class=\"data row3 col23\" >0.000</td>\n",
       "      <td id=\"T_afd08_row3_col24\" class=\"data row3 col24\" >0.000</td>\n",
       "      <td id=\"T_afd08_row3_col25\" class=\"data row3 col25\" >0.000</td>\n",
       "      <td id=\"T_afd08_row3_col26\" class=\"data row3 col26\" >0.000</td>\n",
       "      <td id=\"T_afd08_row3_col27\" class=\"data row3 col27\" >0.000</td>\n",
       "      <td id=\"T_afd08_row3_col28\" class=\"data row3 col28\" >0.000</td>\n",
       "      <td id=\"T_afd08_row3_col29\" class=\"data row3 col29\" >0.000</td>\n",
       "      <td id=\"T_afd08_row3_col30\" class=\"data row3 col30\" >0.000</td>\n",
       "      <td id=\"T_afd08_row3_col31\" class=\"data row3 col31\" >0.000</td>\n",
       "      <td id=\"T_afd08_row3_col32\" class=\"data row3 col32\" >0.000</td>\n",
       "      <td id=\"T_afd08_row3_col33\" class=\"data row3 col33\" >0.000</td>\n",
       "      <td id=\"T_afd08_row3_col34\" class=\"data row3 col34\" >0.000</td>\n",
       "    </tr>\n",
       "    <tr>\n",
       "      <th id=\"T_afd08_level0_row4\" class=\"row_heading level0 row4\" >26_tones_propaganda_respect_adhesion</th>\n",
       "      <td id=\"T_afd08_row4_col0\" class=\"data row4 col0\" >0.000</td>\n",
       "      <td id=\"T_afd08_row4_col1\" class=\"data row4 col1\" >0.000</td>\n",
       "      <td id=\"T_afd08_row4_col2\" class=\"data row4 col2\" >0.000</td>\n",
       "      <td id=\"T_afd08_row4_col3\" class=\"data row4 col3\" >0.000</td>\n",
       "      <td id=\"T_afd08_row4_col4\" class=\"data row4 col4\" >0.000</td>\n",
       "      <td id=\"T_afd08_row4_col5\" class=\"data row4 col5\" >0.000</td>\n",
       "      <td id=\"T_afd08_row4_col6\" class=\"data row4 col6\" >0.000</td>\n",
       "      <td id=\"T_afd08_row4_col7\" class=\"data row4 col7\" >0.000</td>\n",
       "      <td id=\"T_afd08_row4_col8\" class=\"data row4 col8\" >0.000</td>\n",
       "      <td id=\"T_afd08_row4_col9\" class=\"data row4 col9\" >0.000</td>\n",
       "      <td id=\"T_afd08_row4_col10\" class=\"data row4 col10\" >0.000</td>\n",
       "      <td id=\"T_afd08_row4_col11\" class=\"data row4 col11\" >0.000</td>\n",
       "      <td id=\"T_afd08_row4_col12\" class=\"data row4 col12\" >0.104</td>\n",
       "      <td id=\"T_afd08_row4_col13\" class=\"data row4 col13\" >0.104</td>\n",
       "      <td id=\"T_afd08_row4_col14\" class=\"data row4 col14\" >0.104</td>\n",
       "      <td id=\"T_afd08_row4_col15\" class=\"data row4 col15\" >0.104</td>\n",
       "      <td id=\"T_afd08_row4_col16\" class=\"data row4 col16\" >0.000</td>\n",
       "      <td id=\"T_afd08_row4_col17\" class=\"data row4 col17\" >0.000</td>\n",
       "      <td id=\"T_afd08_row4_col18\" class=\"data row4 col18\" >0.000</td>\n",
       "      <td id=\"T_afd08_row4_col19\" class=\"data row4 col19\" >0.000</td>\n",
       "      <td id=\"T_afd08_row4_col20\" class=\"data row4 col20\" >0.000</td>\n",
       "      <td id=\"T_afd08_row4_col21\" class=\"data row4 col21\" >0.000</td>\n",
       "      <td id=\"T_afd08_row4_col22\" class=\"data row4 col22\" >0.000</td>\n",
       "      <td id=\"T_afd08_row4_col23\" class=\"data row4 col23\" >0.000</td>\n",
       "      <td id=\"T_afd08_row4_col24\" class=\"data row4 col24\" >0.000</td>\n",
       "      <td id=\"T_afd08_row4_col25\" class=\"data row4 col25\" >0.000</td>\n",
       "      <td id=\"T_afd08_row4_col26\" class=\"data row4 col26\" >0.000</td>\n",
       "      <td id=\"T_afd08_row4_col27\" class=\"data row4 col27\" >0.000</td>\n",
       "      <td id=\"T_afd08_row4_col28\" class=\"data row4 col28\" >0.000</td>\n",
       "      <td id=\"T_afd08_row4_col29\" class=\"data row4 col29\" >0.000</td>\n",
       "      <td id=\"T_afd08_row4_col30\" class=\"data row4 col30\" >0.000</td>\n",
       "      <td id=\"T_afd08_row4_col31\" class=\"data row4 col31\" >0.000</td>\n",
       "      <td id=\"T_afd08_row4_col32\" class=\"data row4 col32\" >0.000</td>\n",
       "      <td id=\"T_afd08_row4_col33\" class=\"data row4 col33\" >0.000</td>\n",
       "      <td id=\"T_afd08_row4_col34\" class=\"data row4 col34\" >0.000</td>\n",
       "    </tr>\n",
       "    <tr>\n",
       "      <th id=\"T_afd08_level0_row5\" class=\"row_heading level0 row5\" >29_state_just_fair_assistance</th>\n",
       "      <td id=\"T_afd08_row5_col0\" class=\"data row5 col0\" >0.125</td>\n",
       "      <td id=\"T_afd08_row5_col1\" class=\"data row5 col1\" >0.125</td>\n",
       "      <td id=\"T_afd08_row5_col2\" class=\"data row5 col2\" >0.125</td>\n",
       "      <td id=\"T_afd08_row5_col3\" class=\"data row5 col3\" >0.125</td>\n",
       "      <td id=\"T_afd08_row5_col4\" class=\"data row5 col4\" >0.000</td>\n",
       "      <td id=\"T_afd08_row5_col5\" class=\"data row5 col5\" >0.000</td>\n",
       "      <td id=\"T_afd08_row5_col6\" class=\"data row5 col6\" >0.000</td>\n",
       "      <td id=\"T_afd08_row5_col7\" class=\"data row5 col7\" >0.000</td>\n",
       "      <td id=\"T_afd08_row5_col8\" class=\"data row5 col8\" >0.000</td>\n",
       "      <td id=\"T_afd08_row5_col9\" class=\"data row5 col9\" >0.000</td>\n",
       "      <td id=\"T_afd08_row5_col10\" class=\"data row5 col10\" >0.000</td>\n",
       "      <td id=\"T_afd08_row5_col11\" class=\"data row5 col11\" >0.000</td>\n",
       "      <td id=\"T_afd08_row5_col12\" class=\"data row5 col12\" >0.000</td>\n",
       "      <td id=\"T_afd08_row5_col13\" class=\"data row5 col13\" >0.000</td>\n",
       "      <td id=\"T_afd08_row5_col14\" class=\"data row5 col14\" >0.000</td>\n",
       "      <td id=\"T_afd08_row5_col15\" class=\"data row5 col15\" >0.000</td>\n",
       "      <td id=\"T_afd08_row5_col16\" class=\"data row5 col16\" >0.000</td>\n",
       "      <td id=\"T_afd08_row5_col17\" class=\"data row5 col17\" >0.000</td>\n",
       "      <td id=\"T_afd08_row5_col18\" class=\"data row5 col18\" >0.000</td>\n",
       "      <td id=\"T_afd08_row5_col19\" class=\"data row5 col19\" >0.000</td>\n",
       "      <td id=\"T_afd08_row5_col20\" class=\"data row5 col20\" >0.000</td>\n",
       "      <td id=\"T_afd08_row5_col21\" class=\"data row5 col21\" >0.000</td>\n",
       "      <td id=\"T_afd08_row5_col22\" class=\"data row5 col22\" >0.000</td>\n",
       "      <td id=\"T_afd08_row5_col23\" class=\"data row5 col23\" >0.000</td>\n",
       "      <td id=\"T_afd08_row5_col24\" class=\"data row5 col24\" >0.000</td>\n",
       "      <td id=\"T_afd08_row5_col25\" class=\"data row5 col25\" >0.000</td>\n",
       "      <td id=\"T_afd08_row5_col26\" class=\"data row5 col26\" >0.000</td>\n",
       "      <td id=\"T_afd08_row5_col27\" class=\"data row5 col27\" >0.000</td>\n",
       "      <td id=\"T_afd08_row5_col28\" class=\"data row5 col28\" >0.000</td>\n",
       "      <td id=\"T_afd08_row5_col29\" class=\"data row5 col29\" >0.000</td>\n",
       "      <td id=\"T_afd08_row5_col30\" class=\"data row5 col30\" >0.000</td>\n",
       "      <td id=\"T_afd08_row5_col31\" class=\"data row5 col31\" >0.000</td>\n",
       "      <td id=\"T_afd08_row5_col32\" class=\"data row5 col32\" >0.000</td>\n",
       "      <td id=\"T_afd08_row5_col33\" class=\"data row5 col33\" >0.000</td>\n",
       "      <td id=\"T_afd08_row5_col34\" class=\"data row5 col34\" >0.000</td>\n",
       "    </tr>\n",
       "    <tr>\n",
       "      <th id=\"T_afd08_level0_row6\" class=\"row_heading level0 row6\" >32_income_citizen_minor_disabled</th>\n",
       "      <td id=\"T_afd08_row6_col0\" class=\"data row6 col0\" >0.000</td>\n",
       "      <td id=\"T_afd08_row6_col1\" class=\"data row6 col1\" >0.000</td>\n",
       "      <td id=\"T_afd08_row6_col2\" class=\"data row6 col2\" >0.000</td>\n",
       "      <td id=\"T_afd08_row6_col3\" class=\"data row6 col3\" >0.000</td>\n",
       "      <td id=\"T_afd08_row6_col4\" class=\"data row6 col4\" >0.000</td>\n",
       "      <td id=\"T_afd08_row6_col5\" class=\"data row6 col5\" >0.000</td>\n",
       "      <td id=\"T_afd08_row6_col6\" class=\"data row6 col6\" >0.000</td>\n",
       "      <td id=\"T_afd08_row6_col7\" class=\"data row6 col7\" >0.000</td>\n",
       "      <td id=\"T_afd08_row6_col8\" class=\"data row6 col8\" >0.000</td>\n",
       "      <td id=\"T_afd08_row6_col9\" class=\"data row6 col9\" >0.000</td>\n",
       "      <td id=\"T_afd08_row6_col10\" class=\"data row6 col10\" >0.000</td>\n",
       "      <td id=\"T_afd08_row6_col11\" class=\"data row6 col11\" >0.000</td>\n",
       "      <td id=\"T_afd08_row6_col12\" class=\"data row6 col12\" >0.000</td>\n",
       "      <td id=\"T_afd08_row6_col13\" class=\"data row6 col13\" >0.000</td>\n",
       "      <td id=\"T_afd08_row6_col14\" class=\"data row6 col14\" >0.000</td>\n",
       "      <td id=\"T_afd08_row6_col15\" class=\"data row6 col15\" >0.000</td>\n",
       "      <td id=\"T_afd08_row6_col16\" class=\"data row6 col16\" >0.000</td>\n",
       "      <td id=\"T_afd08_row6_col17\" class=\"data row6 col17\" >0.000</td>\n",
       "      <td id=\"T_afd08_row6_col18\" class=\"data row6 col18\" >0.000</td>\n",
       "      <td id=\"T_afd08_row6_col19\" class=\"data row6 col19\" >0.000</td>\n",
       "      <td id=\"T_afd08_row6_col20\" class=\"data row6 col20\" >0.119</td>\n",
       "      <td id=\"T_afd08_row6_col21\" class=\"data row6 col21\" >0.119</td>\n",
       "      <td id=\"T_afd08_row6_col22\" class=\"data row6 col22\" >0.119</td>\n",
       "      <td id=\"T_afd08_row6_col23\" class=\"data row6 col23\" >0.119</td>\n",
       "      <td id=\"T_afd08_row6_col24\" class=\"data row6 col24\" >0.000</td>\n",
       "      <td id=\"T_afd08_row6_col25\" class=\"data row6 col25\" >0.000</td>\n",
       "      <td id=\"T_afd08_row6_col26\" class=\"data row6 col26\" >0.000</td>\n",
       "      <td id=\"T_afd08_row6_col27\" class=\"data row6 col27\" >0.000</td>\n",
       "      <td id=\"T_afd08_row6_col28\" class=\"data row6 col28\" >0.000</td>\n",
       "      <td id=\"T_afd08_row6_col29\" class=\"data row6 col29\" >0.000</td>\n",
       "      <td id=\"T_afd08_row6_col30\" class=\"data row6 col30\" >0.000</td>\n",
       "      <td id=\"T_afd08_row6_col31\" class=\"data row6 col31\" >0.000</td>\n",
       "      <td id=\"T_afd08_row6_col32\" class=\"data row6 col32\" >0.000</td>\n",
       "      <td id=\"T_afd08_row6_col33\" class=\"data row6 col33\" >0.000</td>\n",
       "      <td id=\"T_afd08_row6_col34\" class=\"data row6 col34\" >0.000</td>\n",
       "    </tr>\n",
       "    <tr>\n",
       "      <th id=\"T_afd08_level0_row7\" class=\"row_heading level0 row7\" >34_structured_proposal_counter_specious</th>\n",
       "      <td id=\"T_afd08_row7_col0\" class=\"data row7 col0\" >0.000</td>\n",
       "      <td id=\"T_afd08_row7_col1\" class=\"data row7 col1\" >0.000</td>\n",
       "      <td id=\"T_afd08_row7_col2\" class=\"data row7 col2\" >0.000</td>\n",
       "      <td id=\"T_afd08_row7_col3\" class=\"data row7 col3\" >0.112</td>\n",
       "      <td id=\"T_afd08_row7_col4\" class=\"data row7 col4\" >0.112</td>\n",
       "      <td id=\"T_afd08_row7_col5\" class=\"data row7 col5\" >0.112</td>\n",
       "      <td id=\"T_afd08_row7_col6\" class=\"data row7 col6\" >0.112</td>\n",
       "      <td id=\"T_afd08_row7_col7\" class=\"data row7 col7\" >0.000</td>\n",
       "      <td id=\"T_afd08_row7_col8\" class=\"data row7 col8\" >0.000</td>\n",
       "      <td id=\"T_afd08_row7_col9\" class=\"data row7 col9\" >0.000</td>\n",
       "      <td id=\"T_afd08_row7_col10\" class=\"data row7 col10\" >0.000</td>\n",
       "      <td id=\"T_afd08_row7_col11\" class=\"data row7 col11\" >0.000</td>\n",
       "      <td id=\"T_afd08_row7_col12\" class=\"data row7 col12\" >0.000</td>\n",
       "      <td id=\"T_afd08_row7_col13\" class=\"data row7 col13\" >0.000</td>\n",
       "      <td id=\"T_afd08_row7_col14\" class=\"data row7 col14\" >0.000</td>\n",
       "      <td id=\"T_afd08_row7_col15\" class=\"data row7 col15\" >0.000</td>\n",
       "      <td id=\"T_afd08_row7_col16\" class=\"data row7 col16\" >0.000</td>\n",
       "      <td id=\"T_afd08_row7_col17\" class=\"data row7 col17\" >0.000</td>\n",
       "      <td id=\"T_afd08_row7_col18\" class=\"data row7 col18\" >0.000</td>\n",
       "      <td id=\"T_afd08_row7_col19\" class=\"data row7 col19\" >0.000</td>\n",
       "      <td id=\"T_afd08_row7_col20\" class=\"data row7 col20\" >0.000</td>\n",
       "      <td id=\"T_afd08_row7_col21\" class=\"data row7 col21\" >0.000</td>\n",
       "      <td id=\"T_afd08_row7_col22\" class=\"data row7 col22\" >0.000</td>\n",
       "      <td id=\"T_afd08_row7_col23\" class=\"data row7 col23\" >0.000</td>\n",
       "      <td id=\"T_afd08_row7_col24\" class=\"data row7 col24\" >0.000</td>\n",
       "      <td id=\"T_afd08_row7_col25\" class=\"data row7 col25\" >0.000</td>\n",
       "      <td id=\"T_afd08_row7_col26\" class=\"data row7 col26\" >0.000</td>\n",
       "      <td id=\"T_afd08_row7_col27\" class=\"data row7 col27\" >0.000</td>\n",
       "      <td id=\"T_afd08_row7_col28\" class=\"data row7 col28\" >0.000</td>\n",
       "      <td id=\"T_afd08_row7_col29\" class=\"data row7 col29\" >0.000</td>\n",
       "      <td id=\"T_afd08_row7_col30\" class=\"data row7 col30\" >0.000</td>\n",
       "      <td id=\"T_afd08_row7_col31\" class=\"data row7 col31\" >0.000</td>\n",
       "      <td id=\"T_afd08_row7_col32\" class=\"data row7 col32\" >0.000</td>\n",
       "      <td id=\"T_afd08_row7_col33\" class=\"data row7 col33\" >0.000</td>\n",
       "      <td id=\"T_afd08_row7_col34\" class=\"data row7 col34\" >0.000</td>\n",
       "    </tr>\n",
       "    <tr>\n",
       "      <th id=\"T_afd08_level0_row8\" class=\"row_heading level0 row8\" >40_principle_municipality_controls_bulk</th>\n",
       "      <td id=\"T_afd08_row8_col0\" class=\"data row8 col0\" >0.139</td>\n",
       "      <td id=\"T_afd08_row8_col1\" class=\"data row8 col1\" >0.139</td>\n",
       "      <td id=\"T_afd08_row8_col2\" class=\"data row8 col2\" >0.139</td>\n",
       "      <td id=\"T_afd08_row8_col3\" class=\"data row8 col3\" >0.139</td>\n",
       "      <td id=\"T_afd08_row8_col4\" class=\"data row8 col4\" >0.000</td>\n",
       "      <td id=\"T_afd08_row8_col5\" class=\"data row8 col5\" >0.000</td>\n",
       "      <td id=\"T_afd08_row8_col6\" class=\"data row8 col6\" >0.000</td>\n",
       "      <td id=\"T_afd08_row8_col7\" class=\"data row8 col7\" >0.000</td>\n",
       "      <td id=\"T_afd08_row8_col8\" class=\"data row8 col8\" >0.000</td>\n",
       "      <td id=\"T_afd08_row8_col9\" class=\"data row8 col9\" >0.000</td>\n",
       "      <td id=\"T_afd08_row8_col10\" class=\"data row8 col10\" >0.000</td>\n",
       "      <td id=\"T_afd08_row8_col11\" class=\"data row8 col11\" >0.000</td>\n",
       "      <td id=\"T_afd08_row8_col12\" class=\"data row8 col12\" >0.000</td>\n",
       "      <td id=\"T_afd08_row8_col13\" class=\"data row8 col13\" >0.000</td>\n",
       "      <td id=\"T_afd08_row8_col14\" class=\"data row8 col14\" >0.000</td>\n",
       "      <td id=\"T_afd08_row8_col15\" class=\"data row8 col15\" >0.000</td>\n",
       "      <td id=\"T_afd08_row8_col16\" class=\"data row8 col16\" >0.000</td>\n",
       "      <td id=\"T_afd08_row8_col17\" class=\"data row8 col17\" >0.000</td>\n",
       "      <td id=\"T_afd08_row8_col18\" class=\"data row8 col18\" >0.000</td>\n",
       "      <td id=\"T_afd08_row8_col19\" class=\"data row8 col19\" >0.000</td>\n",
       "      <td id=\"T_afd08_row8_col20\" class=\"data row8 col20\" >0.000</td>\n",
       "      <td id=\"T_afd08_row8_col21\" class=\"data row8 col21\" >0.000</td>\n",
       "      <td id=\"T_afd08_row8_col22\" class=\"data row8 col22\" >0.000</td>\n",
       "      <td id=\"T_afd08_row8_col23\" class=\"data row8 col23\" >0.000</td>\n",
       "      <td id=\"T_afd08_row8_col24\" class=\"data row8 col24\" >0.000</td>\n",
       "      <td id=\"T_afd08_row8_col25\" class=\"data row8 col25\" >0.000</td>\n",
       "      <td id=\"T_afd08_row8_col26\" class=\"data row8 col26\" >0.000</td>\n",
       "      <td id=\"T_afd08_row8_col27\" class=\"data row8 col27\" >0.000</td>\n",
       "      <td id=\"T_afd08_row8_col28\" class=\"data row8 col28\" >0.000</td>\n",
       "      <td id=\"T_afd08_row8_col29\" class=\"data row8 col29\" >0.000</td>\n",
       "      <td id=\"T_afd08_row8_col30\" class=\"data row8 col30\" >0.000</td>\n",
       "      <td id=\"T_afd08_row8_col31\" class=\"data row8 col31\" >0.000</td>\n",
       "      <td id=\"T_afd08_row8_col32\" class=\"data row8 col32\" >0.000</td>\n",
       "      <td id=\"T_afd08_row8_col33\" class=\"data row8 col33\" >0.000</td>\n",
       "      <td id=\"T_afd08_row8_col34\" class=\"data row8 col34\" >0.000</td>\n",
       "    </tr>\n",
       "  </tbody>\n",
       "</table>\n"
      ],
      "text/plain": [
       "<pandas.io.formats.style.Styler at 0x14c2182d0>"
      ]
     },
     "execution_count": 239,
     "metadata": {},
     "output_type": "execute_result"
    }
   ],
   "source": [
    "doc_id = 41\n",
    "topic_distr, topic_token_distr = topic_model.approximate_distribution(docs, calculate_tokens=True)\n",
    "topic_model.visualize_approximate_distribution(docs[doc_id], topic_token_distr[doc_id])"
   ]
  },
  {
   "cell_type": "code",
   "execution_count": 258,
   "metadata": {},
   "outputs": [
    {
     "ename": "ValueError",
     "evalue": "Length of values (9) does not match length of index (2325)",
     "output_type": "error",
     "traceback": [
      "\u001b[0;31m---------------------------------------------------------------------------\u001b[0m",
      "\u001b[0;31mValueError\u001b[0m                                Traceback (most recent call last)",
      "\u001b[1;32m/Users/frasercrichton/Development/investigation-influence-industry-italy/analysis/VideoContentTopicMap.ipynb Cell 32\u001b[0m line \u001b[0;36m8\n\u001b[1;32m      <a href='vscode-notebook-cell:/Users/frasercrichton/Development/investigation-influence-industry-italy/analysis/VideoContentTopicMap.ipynb#X31sZmlsZQ%3D%3D?line=5'>6</a>\u001b[0m umap_model \u001b[39m=\u001b[39m UMAP(n_neighbors\u001b[39m=\u001b[39m\u001b[39m10\u001b[39m, n_components\u001b[39m=\u001b[39m\u001b[39m2\u001b[39m, min_dist\u001b[39m=\u001b[39m\u001b[39m0.0\u001b[39m, metric\u001b[39m=\u001b[39m\u001b[39m'\u001b[39m\u001b[39mcosine\u001b[39m\u001b[39m'\u001b[39m)\u001b[39m.\u001b[39mfit(embeddings)\n\u001b[1;32m      <a href='vscode-notebook-cell:/Users/frasercrichton/Development/investigation-influence-industry-italy/analysis/VideoContentTopicMap.ipynb#X31sZmlsZQ%3D%3D?line=6'>7</a>\u001b[0m df \u001b[39m=\u001b[39m pd\u001b[39m.\u001b[39mDataFrame(umap_model\u001b[39m.\u001b[39membedding_, columns\u001b[39m=\u001b[39m[\u001b[39m\"\u001b[39m\u001b[39mx\u001b[39m\u001b[39m\"\u001b[39m, \u001b[39m\"\u001b[39m\u001b[39my\u001b[39m\u001b[39m\"\u001b[39m])\n\u001b[0;32m----> <a href='vscode-notebook-cell:/Users/frasercrichton/Development/investigation-influence-industry-italy/analysis/VideoContentTopicMap.ipynb#X31sZmlsZQ%3D%3D?line=7'>8</a>\u001b[0m df[\u001b[39m\"\u001b[39;49m\u001b[39mtopic\u001b[39;49m\u001b[39m\"\u001b[39;49m] \u001b[39m=\u001b[39m topics\n\u001b[1;32m     <a href='vscode-notebook-cell:/Users/frasercrichton/Development/investigation-influence-industry-italy/analysis/VideoContentTopicMap.ipynb#X31sZmlsZQ%3D%3D?line=9'>10</a>\u001b[0m \u001b[39m# Plot parameters\u001b[39;00m\n\u001b[1;32m     <a href='vscode-notebook-cell:/Users/frasercrichton/Development/investigation-influence-industry-italy/analysis/VideoContentTopicMap.ipynb#X31sZmlsZQ%3D%3D?line=10'>11</a>\u001b[0m top_n \u001b[39m=\u001b[39m \u001b[39m10\u001b[39m\n",
      "File \u001b[0;32m~/Development/data-investigation-conspiracy-aotearoa/conda-env/investigation-influence-industry/lib/python3.11/site-packages/pandas/core/frame.py:4094\u001b[0m, in \u001b[0;36mDataFrame.__setitem__\u001b[0;34m(self, key, value)\u001b[0m\n\u001b[1;32m   4091\u001b[0m     \u001b[39mself\u001b[39m\u001b[39m.\u001b[39m_setitem_array([key], value)\n\u001b[1;32m   4092\u001b[0m \u001b[39melse\u001b[39;00m:\n\u001b[1;32m   4093\u001b[0m     \u001b[39m# set column\u001b[39;00m\n\u001b[0;32m-> 4094\u001b[0m     \u001b[39mself\u001b[39;49m\u001b[39m.\u001b[39;49m_set_item(key, value)\n",
      "File \u001b[0;32m~/Development/data-investigation-conspiracy-aotearoa/conda-env/investigation-influence-industry/lib/python3.11/site-packages/pandas/core/frame.py:4303\u001b[0m, in \u001b[0;36mDataFrame._set_item\u001b[0;34m(self, key, value)\u001b[0m\n\u001b[1;32m   4293\u001b[0m \u001b[39mdef\u001b[39;00m \u001b[39m_set_item\u001b[39m(\u001b[39mself\u001b[39m, key, value) \u001b[39m-\u001b[39m\u001b[39m>\u001b[39m \u001b[39mNone\u001b[39;00m:\n\u001b[1;32m   4294\u001b[0m \u001b[39m    \u001b[39m\u001b[39m\"\"\"\u001b[39;00m\n\u001b[1;32m   4295\u001b[0m \u001b[39m    Add series to DataFrame in specified column.\u001b[39;00m\n\u001b[1;32m   4296\u001b[0m \n\u001b[0;32m   (...)\u001b[0m\n\u001b[1;32m   4301\u001b[0m \u001b[39m    ensure homogeneity.\u001b[39;00m\n\u001b[1;32m   4302\u001b[0m \u001b[39m    \"\"\"\u001b[39;00m\n\u001b[0;32m-> 4303\u001b[0m     value, refs \u001b[39m=\u001b[39m \u001b[39mself\u001b[39;49m\u001b[39m.\u001b[39;49m_sanitize_column(value)\n\u001b[1;32m   4305\u001b[0m     \u001b[39mif\u001b[39;00m (\n\u001b[1;32m   4306\u001b[0m         key \u001b[39min\u001b[39;00m \u001b[39mself\u001b[39m\u001b[39m.\u001b[39mcolumns\n\u001b[1;32m   4307\u001b[0m         \u001b[39mand\u001b[39;00m value\u001b[39m.\u001b[39mndim \u001b[39m==\u001b[39m \u001b[39m1\u001b[39m\n\u001b[1;32m   4308\u001b[0m         \u001b[39mand\u001b[39;00m \u001b[39mnot\u001b[39;00m \u001b[39misinstance\u001b[39m(value\u001b[39m.\u001b[39mdtype, ExtensionDtype)\n\u001b[1;32m   4309\u001b[0m     ):\n\u001b[1;32m   4310\u001b[0m         \u001b[39m# broadcast across multiple columns if necessary\u001b[39;00m\n\u001b[1;32m   4311\u001b[0m         \u001b[39mif\u001b[39;00m \u001b[39mnot\u001b[39;00m \u001b[39mself\u001b[39m\u001b[39m.\u001b[39mcolumns\u001b[39m.\u001b[39mis_unique \u001b[39mor\u001b[39;00m \u001b[39misinstance\u001b[39m(\u001b[39mself\u001b[39m\u001b[39m.\u001b[39mcolumns, MultiIndex):\n",
      "File \u001b[0;32m~/Development/data-investigation-conspiracy-aotearoa/conda-env/investigation-influence-industry/lib/python3.11/site-packages/pandas/core/frame.py:5042\u001b[0m, in \u001b[0;36mDataFrame._sanitize_column\u001b[0;34m(self, value)\u001b[0m\n\u001b[1;32m   5039\u001b[0m     \u001b[39mreturn\u001b[39;00m _reindex_for_setitem(value, \u001b[39mself\u001b[39m\u001b[39m.\u001b[39mindex)\n\u001b[1;32m   5041\u001b[0m \u001b[39mif\u001b[39;00m is_list_like(value):\n\u001b[0;32m-> 5042\u001b[0m     com\u001b[39m.\u001b[39;49mrequire_length_match(value, \u001b[39mself\u001b[39;49m\u001b[39m.\u001b[39;49mindex)\n\u001b[1;32m   5043\u001b[0m \u001b[39mreturn\u001b[39;00m sanitize_array(value, \u001b[39mself\u001b[39m\u001b[39m.\u001b[39mindex, copy\u001b[39m=\u001b[39m\u001b[39mTrue\u001b[39;00m, allow_2d\u001b[39m=\u001b[39m\u001b[39mTrue\u001b[39;00m), \u001b[39mNone\u001b[39;00m\n",
      "File \u001b[0;32m~/Development/data-investigation-conspiracy-aotearoa/conda-env/investigation-influence-industry/lib/python3.11/site-packages/pandas/core/common.py:561\u001b[0m, in \u001b[0;36mrequire_length_match\u001b[0;34m(data, index)\u001b[0m\n\u001b[1;32m    557\u001b[0m \u001b[39m\u001b[39m\u001b[39m\"\"\"\u001b[39;00m\n\u001b[1;32m    558\u001b[0m \u001b[39mCheck the length of data matches the length of the index.\u001b[39;00m\n\u001b[1;32m    559\u001b[0m \u001b[39m\"\"\"\u001b[39;00m\n\u001b[1;32m    560\u001b[0m \u001b[39mif\u001b[39;00m \u001b[39mlen\u001b[39m(data) \u001b[39m!=\u001b[39m \u001b[39mlen\u001b[39m(index):\n\u001b[0;32m--> 561\u001b[0m     \u001b[39mraise\u001b[39;00m \u001b[39mValueError\u001b[39;00m(\n\u001b[1;32m    562\u001b[0m         \u001b[39m\"\u001b[39m\u001b[39mLength of values \u001b[39m\u001b[39m\"\u001b[39m\n\u001b[1;32m    563\u001b[0m         \u001b[39mf\u001b[39m\u001b[39m\"\u001b[39m\u001b[39m(\u001b[39m\u001b[39m{\u001b[39;00m\u001b[39mlen\u001b[39m(data)\u001b[39m}\u001b[39;00m\u001b[39m) \u001b[39m\u001b[39m\"\u001b[39m\n\u001b[1;32m    564\u001b[0m         \u001b[39m\"\u001b[39m\u001b[39mdoes not match length of index \u001b[39m\u001b[39m\"\u001b[39m\n\u001b[1;32m    565\u001b[0m         \u001b[39mf\u001b[39m\u001b[39m\"\u001b[39m\u001b[39m(\u001b[39m\u001b[39m{\u001b[39;00m\u001b[39mlen\u001b[39m(index)\u001b[39m}\u001b[39;00m\u001b[39m)\u001b[39m\u001b[39m\"\u001b[39m\n\u001b[1;32m    566\u001b[0m     )\n",
      "\u001b[0;31mValueError\u001b[0m: Length of values (9) does not match length of index (2325)"
     ]
    }
   ],
   "source": [
    "import matplotlib\n",
    "import matplotlib.pyplot as plt\n",
    "\n",
    "# Prepare data for plotting\n",
    "embeddings = topic_model._extract_embeddings(docs, method=\"document\")\n",
    "umap_model = UMAP(n_neighbors=10, n_components=2, min_dist=0.0, metric='cosine').fit(embeddings)\n",
    "df = pd.DataFrame(umap_model.embedding_, columns=[\"x\", \"y\"])\n",
    "df[\"topic\"] = topics\n",
    "\n",
    "# Plot parameters\n",
    "top_n = 10\n",
    "fontsize = 12\n",
    "\n",
    "# Slice data\n",
    "to_plot = df.copy()\n",
    "to_plot[df.topic >= top_n] = -1\n",
    "outliers = to_plot.loc[to_plot.topic == -1]\n",
    "non_outliers = to_plot.loc[to_plot.topic != -1]\n",
    "\n",
    "# Visualize topics\n",
    "cmap = matplotlib.colors.ListedColormap(['#FF5722', # Red\n",
    "                                         '#03A9F4', # Blue\n",
    "                                         '#4CAF50', # Green\n",
    "                                         '#80CBC4', # FFEB3B\n",
    "                                         '#673AB7', # Purple\n",
    "                                         '#795548', # Brown\n",
    "                                         '#E91E63', # Pink\n",
    "                                         '#212121', # Black\n",
    "                                         '#00BCD4', # Light Blue\n",
    "                                         '#CDDC39', # Yellow/Red\n",
    "                                         '#AED581', # Light Green\n",
    "                                         '#FFE082', # Light Orange\n",
    "                                         '#BCAAA4', # Light Brown\n",
    "                                         '#B39DDB', # Light Purple\n",
    "                                         '#F48FB1', # Light Pink\n",
    "                                         ])\n",
    "\n",
    "# Visualize outliers + inliers\n",
    "fig, ax = plt.subplots(figsize=(15, 15))\n",
    "scatter_outliers = ax.scatter(outliers['x'], outliers['y'], c=\"#E0E0E0\", s=1, alpha=.3)\n",
    "scatter = ax.scatter(non_outliers['x'], non_outliers['y'], c=non_outliers['topic'], s=1, alpha=.3, cmap=cmap)\n",
    "\n",
    "# Add topic names to clusters\n",
    "centroids = to_plot.groupby(\"topic\").mean().reset_index().iloc[1:]\n",
    "for row in centroids.iterrows():\n",
    "    topic = int(row[1].topic)\n",
    "    text = f\"{topic}: \" + \"_\".join([x[0] for x in topic_model.get_topic(topic)[:3]])\n",
    "    ax.text(row[1].x, row[1].y*1.01, text, fontsize=fontsize, horizontalalignment='center')\n",
    "\n",
    "ax.text(0.99, 0.01, f\"BERTopic - Top {top_n} topics\", transform=ax.transAxes, horizontalalignment=\"right\", color=\"black\")\n",
    "plt.xticks([], [])\n",
    "plt.yticks([], [])\n",
    "plt.show()"
   ]
  },
  {
   "cell_type": "code",
   "execution_count": null,
   "metadata": {},
   "outputs": [],
   "source": [
    "topic_model.hierarchical_topics(docs)\n",
    "\n",
    "# semi supervised topics model\n",
    "# topic_model.fit(docs, y = y)\n",
    "\n",
    "# incremental topic modelling\n",
    "# topic_model.partial_fit(docs)\n",
    "\n",
    "# Dynamci topics topics over time\n",
    "# topic_model.topics_over_time(docs, timestamps=)\n",
    "\n",
    "# class based topic modelling\n",
    "# topic_model.topics_per_class(docs, classes)\n"
   ]
  }
 ],
 "metadata": {
  "kernelspec": {
   "display_name": "investigation-influence-industry",
   "language": "python",
   "name": "python3"
  },
  "language_info": {
   "codemirror_mode": {
    "name": "ipython",
    "version": 3
   },
   "file_extension": ".py",
   "mimetype": "text/x-python",
   "name": "python",
   "nbconvert_exporter": "python",
   "pygments_lexer": "ipython3",
   "version": "3.11.6"
  },
  "orig_nbformat": 4
 },
 "nbformat": 4,
 "nbformat_minor": 2
}
